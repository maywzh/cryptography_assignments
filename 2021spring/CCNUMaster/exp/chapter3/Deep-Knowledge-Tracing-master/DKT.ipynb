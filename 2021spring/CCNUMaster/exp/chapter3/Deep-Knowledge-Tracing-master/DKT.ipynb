{
 "cells": [
  {
   "cell_type": "markdown",
   "metadata": {},
   "source": [
    "# Udacity - Machine Learning Engineer Nanodegree\n",
    "## Capstone Project\n",
    "### Title: Development of a LSTM Network to Predict Students’ Answers on Exam Questions"
   ]
  },
  {
   "cell_type": "markdown",
   "metadata": {},
   "source": [
    "### Implementation of DKT:\n",
    "#### Part 1: Define constants"
   ]
  },
  {
   "cell_type": "code",
   "execution_count": 1,
   "metadata": {},
   "outputs": [],
   "source": [
    "import pandas as pd\n",
    "import tensorflow as tf\n",
    "import numpy as np\n",
    "\n",
    "fn = \"data/ASSISTments_skill_builder_data.csv\" # Dataset path\n",
    "verbose = 1 # Verbose = {0,1,2}\n",
    "best_model_weights = \"weights/bestmodel\" # File to save the model.\n",
    "log_dir = \"logs\" # Path to save the logs.\n",
    "optimizer = \"adam\" # Optimizer to use\n",
    "lstm_units = 100 # Number of LSTM units\n",
    "batch_size = 32 # Batch size\n",
    "epochs = 10 # Number of epochs to train\n",
    "dropout_rate = 0.3 # Dropout rate\n",
    "test_fraction = 0.2 # Portion of data to be used for testing\n",
    "validation_fraction = 0.2 # Portion of training data to be used for validation"
   ]
  },
  {
   "cell_type": "markdown",
   "metadata": {},
   "source": [
    "#### Part 2: Pre-processing"
   ]
  },
  {
   "cell_type": "code",
   "execution_count": 2,
   "metadata": {},
   "outputs": [
    {
     "output_type": "stream",
     "name": "stderr",
     "text": [
      "/Users/maywzh/.pyenv/versions/3.8.6/lib/python3.8/site-packages/IPython/core/interactiveshell.py:3338: DtypeWarning: Columns (17) have mixed types.Specify dtype option on import or set low_memory=False.\n",
      "  if (await self.run_code(code, result,  async_=asy)):\n",
      "============= Data Summary =============\n",
      "Total number of students: 4032\n",
      "Training set size: 2580\n",
      "Validation set size: 645\n",
      "Testing set size: 806\n",
      "Number of skills: 123\n",
      "Number of features in the input: 246\n",
      "========================================\n"
     ]
    }
   ],
   "source": [
    "from deepkt import deepkt, data_util, metrics\n",
    "\n",
    "\n",
    "dataset, length, nb_features, nb_skills = data_util.load_dataset(fn=fn,\n",
    "                                                                 batch_size=batch_size,\n",
    "                                                                 shuffle=True)\n",
    "\n",
    "train_set, test_set, val_set = data_util.split_dataset(dataset=dataset,\n",
    "                                                       total_size=length,\n",
    "                                                       test_fraction=test_fraction,\n",
    "                                                       val_fraction=validation_fraction)\n",
    "\n",
    "\n",
    "set_sz = length * batch_size\n",
    "test_set_sz = (set_sz * test_fraction)\n",
    "val_set_sz = (set_sz - test_set_sz) * validation_fraction\n",
    "train_set_sz = set_sz - test_set_sz - val_set_sz\n",
    "print(\"============= Data Summary =============\")\n",
    "print(\"Total number of students: %d\" % set_sz)\n",
    "print(\"Training set size: %d\" % train_set_sz)\n",
    "print(\"Validation set size: %d\" % val_set_sz)\n",
    "print(\"Testing set size: %d\" % test_set_sz)\n",
    "print(\"Number of skills: %d\" % nb_skills)\n",
    "print(\"Number of features in the input: %d\" % nb_features)\n",
    "print(\"========================================\")"
   ]
  },
  {
   "cell_type": "code",
   "execution_count": 3,
   "metadata": {},
   "outputs": [
    {
     "output_type": "execute_result",
     "data": {
      "text/plain": [
       "<SkipDataset shapes: ((32, None, None), (32, None, None)), types: (tf.float32, tf.float32)>"
      ]
     },
     "metadata": {},
     "execution_count": 3
    }
   ],
   "source": [
    "train_set"
   ]
  },
  {
   "cell_type": "code",
   "execution_count": 4,
   "metadata": {},
   "outputs": [
    {
     "output_type": "stream",
     "name": "stderr",
     "text": [
      "/Users/maywzh/.pyenv/versions/3.8.6/lib/python3.8/site-packages/IPython/core/interactiveshell.py:3146: DtypeWarning: Columns (17) have mixed types.Specify dtype option on import or set low_memory=False.\n  has_raised = await self.run_ast_nodes(code_ast.body, cell_name,\n"
     ]
    }
   ],
   "source": [
    " df = pd.read_csv(fn)"
   ]
  },
  {
   "cell_type": "code",
   "execution_count": 5,
   "metadata": {},
   "outputs": [
    {
     "output_type": "execute_result",
     "data": {
      "text/plain": [
       "        order_id  assignment_id  user_id  assistment_id  problem_id  original  \\\n",
       "0       33022537         277618    64525          33139       51424         1   \n",
       "1       33022709         277618    64525          33150       51435         1   \n",
       "2       35450204         220674    70363          33159       51444         1   \n",
       "3       35450295         220674    70363          33110       51395         1   \n",
       "4       35450311         220674    70363          33196       51481         1   \n",
       "...          ...            ...      ...            ...         ...       ...   \n",
       "525529  38214014         291495    96299          57830      108976         0   \n",
       "525530  38214016         291495    96299          57843      109015         0   \n",
       "525531  38214195         291503    96299          34577       54060         0   \n",
       "525532  38214196         291503    96299          34577       54061         0   \n",
       "525533  38214198         291503    96299          34577       54062         0   \n",
       "\n",
       "        correct  attempt_count  ms_first_response tutor_mode  ... hint_count  \\\n",
       "0             1              1              32454      tutor  ...          0   \n",
       "1             1              1               4922      tutor  ...          0   \n",
       "2             0              2              25390      tutor  ...          0   \n",
       "3             1              1               4859      tutor  ...          0   \n",
       "4             0             14              19813      tutor  ...          3   \n",
       "...         ...            ...                ...        ...  ...        ...   \n",
       "525529        1              1              38234      tutor  ...          0   \n",
       "525530        1              1               6500      tutor  ...          0   \n",
       "525531        1              1              18344      tutor  ...          0   \n",
       "525532        1              1              12922      tutor  ...          0   \n",
       "525533        0              9              36047      tutor  ...          1   \n",
       "\n",
       "        hint_total  overlap_time  template_id answer_id  answer_text  \\\n",
       "0                3         32454        30799       NaN           26   \n",
       "1                3          4922        30799       NaN           55   \n",
       "2                3         42000        30799       NaN           88   \n",
       "3                3          4859        30059       NaN           41   \n",
       "4                4        124564        30060       NaN           65   \n",
       "...            ...           ...          ...       ...          ...   \n",
       "525529           2         38234        55692  200260.0          NaN   \n",
       "525530           0          6500        55693  200299.0          NaN   \n",
       "525531           3         18344        30677       NaN          0.8   \n",
       "525532           2         12922        30677       NaN           -6   \n",
       "525533           3        163422        30677       NaN         -6.8   \n",
       "\n",
       "        first_action bottom_hint  opportunity  opportunity_original  \n",
       "0                0.0         NaN          1.0                   1.0  \n",
       "1                0.0         NaN          2.0                   2.0  \n",
       "2                0.0         NaN          1.0                   1.0  \n",
       "3                0.0         NaN          2.0                   2.0  \n",
       "4                0.0         0.0          3.0                   3.0  \n",
       "...              ...         ...          ...                   ...  \n",
       "525529           0.0         NaN         54.0                   NaN  \n",
       "525530           0.0         NaN         55.0                   NaN  \n",
       "525531           0.0         NaN         56.0                   NaN  \n",
       "525532           0.0         NaN         57.0                   NaN  \n",
       "525533           0.0         0.0         58.0                   NaN  \n",
       "\n",
       "[525534 rows x 30 columns]"
      ],
      "text/html": "<div>\n<style scoped>\n    .dataframe tbody tr th:only-of-type {\n        vertical-align: middle;\n    }\n\n    .dataframe tbody tr th {\n        vertical-align: top;\n    }\n\n    .dataframe thead th {\n        text-align: right;\n    }\n</style>\n<table border=\"1\" class=\"dataframe\">\n  <thead>\n    <tr style=\"text-align: right;\">\n      <th></th>\n      <th>order_id</th>\n      <th>assignment_id</th>\n      <th>user_id</th>\n      <th>assistment_id</th>\n      <th>problem_id</th>\n      <th>original</th>\n      <th>correct</th>\n      <th>attempt_count</th>\n      <th>ms_first_response</th>\n      <th>tutor_mode</th>\n      <th>...</th>\n      <th>hint_count</th>\n      <th>hint_total</th>\n      <th>overlap_time</th>\n      <th>template_id</th>\n      <th>answer_id</th>\n      <th>answer_text</th>\n      <th>first_action</th>\n      <th>bottom_hint</th>\n      <th>opportunity</th>\n      <th>opportunity_original</th>\n    </tr>\n  </thead>\n  <tbody>\n    <tr>\n      <th>0</th>\n      <td>33022537</td>\n      <td>277618</td>\n      <td>64525</td>\n      <td>33139</td>\n      <td>51424</td>\n      <td>1</td>\n      <td>1</td>\n      <td>1</td>\n      <td>32454</td>\n      <td>tutor</td>\n      <td>...</td>\n      <td>0</td>\n      <td>3</td>\n      <td>32454</td>\n      <td>30799</td>\n      <td>NaN</td>\n      <td>26</td>\n      <td>0.0</td>\n      <td>NaN</td>\n      <td>1.0</td>\n      <td>1.0</td>\n    </tr>\n    <tr>\n      <th>1</th>\n      <td>33022709</td>\n      <td>277618</td>\n      <td>64525</td>\n      <td>33150</td>\n      <td>51435</td>\n      <td>1</td>\n      <td>1</td>\n      <td>1</td>\n      <td>4922</td>\n      <td>tutor</td>\n      <td>...</td>\n      <td>0</td>\n      <td>3</td>\n      <td>4922</td>\n      <td>30799</td>\n      <td>NaN</td>\n      <td>55</td>\n      <td>0.0</td>\n      <td>NaN</td>\n      <td>2.0</td>\n      <td>2.0</td>\n    </tr>\n    <tr>\n      <th>2</th>\n      <td>35450204</td>\n      <td>220674</td>\n      <td>70363</td>\n      <td>33159</td>\n      <td>51444</td>\n      <td>1</td>\n      <td>0</td>\n      <td>2</td>\n      <td>25390</td>\n      <td>tutor</td>\n      <td>...</td>\n      <td>0</td>\n      <td>3</td>\n      <td>42000</td>\n      <td>30799</td>\n      <td>NaN</td>\n      <td>88</td>\n      <td>0.0</td>\n      <td>NaN</td>\n      <td>1.0</td>\n      <td>1.0</td>\n    </tr>\n    <tr>\n      <th>3</th>\n      <td>35450295</td>\n      <td>220674</td>\n      <td>70363</td>\n      <td>33110</td>\n      <td>51395</td>\n      <td>1</td>\n      <td>1</td>\n      <td>1</td>\n      <td>4859</td>\n      <td>tutor</td>\n      <td>...</td>\n      <td>0</td>\n      <td>3</td>\n      <td>4859</td>\n      <td>30059</td>\n      <td>NaN</td>\n      <td>41</td>\n      <td>0.0</td>\n      <td>NaN</td>\n      <td>2.0</td>\n      <td>2.0</td>\n    </tr>\n    <tr>\n      <th>4</th>\n      <td>35450311</td>\n      <td>220674</td>\n      <td>70363</td>\n      <td>33196</td>\n      <td>51481</td>\n      <td>1</td>\n      <td>0</td>\n      <td>14</td>\n      <td>19813</td>\n      <td>tutor</td>\n      <td>...</td>\n      <td>3</td>\n      <td>4</td>\n      <td>124564</td>\n      <td>30060</td>\n      <td>NaN</td>\n      <td>65</td>\n      <td>0.0</td>\n      <td>0.0</td>\n      <td>3.0</td>\n      <td>3.0</td>\n    </tr>\n    <tr>\n      <th>...</th>\n      <td>...</td>\n      <td>...</td>\n      <td>...</td>\n      <td>...</td>\n      <td>...</td>\n      <td>...</td>\n      <td>...</td>\n      <td>...</td>\n      <td>...</td>\n      <td>...</td>\n      <td>...</td>\n      <td>...</td>\n      <td>...</td>\n      <td>...</td>\n      <td>...</td>\n      <td>...</td>\n      <td>...</td>\n      <td>...</td>\n      <td>...</td>\n      <td>...</td>\n      <td>...</td>\n    </tr>\n    <tr>\n      <th>525529</th>\n      <td>38214014</td>\n      <td>291495</td>\n      <td>96299</td>\n      <td>57830</td>\n      <td>108976</td>\n      <td>0</td>\n      <td>1</td>\n      <td>1</td>\n      <td>38234</td>\n      <td>tutor</td>\n      <td>...</td>\n      <td>0</td>\n      <td>2</td>\n      <td>38234</td>\n      <td>55692</td>\n      <td>200260.0</td>\n      <td>NaN</td>\n      <td>0.0</td>\n      <td>NaN</td>\n      <td>54.0</td>\n      <td>NaN</td>\n    </tr>\n    <tr>\n      <th>525530</th>\n      <td>38214016</td>\n      <td>291495</td>\n      <td>96299</td>\n      <td>57843</td>\n      <td>109015</td>\n      <td>0</td>\n      <td>1</td>\n      <td>1</td>\n      <td>6500</td>\n      <td>tutor</td>\n      <td>...</td>\n      <td>0</td>\n      <td>0</td>\n      <td>6500</td>\n      <td>55693</td>\n      <td>200299.0</td>\n      <td>NaN</td>\n      <td>0.0</td>\n      <td>NaN</td>\n      <td>55.0</td>\n      <td>NaN</td>\n    </tr>\n    <tr>\n      <th>525531</th>\n      <td>38214195</td>\n      <td>291503</td>\n      <td>96299</td>\n      <td>34577</td>\n      <td>54060</td>\n      <td>0</td>\n      <td>1</td>\n      <td>1</td>\n      <td>18344</td>\n      <td>tutor</td>\n      <td>...</td>\n      <td>0</td>\n      <td>3</td>\n      <td>18344</td>\n      <td>30677</td>\n      <td>NaN</td>\n      <td>0.8</td>\n      <td>0.0</td>\n      <td>NaN</td>\n      <td>56.0</td>\n      <td>NaN</td>\n    </tr>\n    <tr>\n      <th>525532</th>\n      <td>38214196</td>\n      <td>291503</td>\n      <td>96299</td>\n      <td>34577</td>\n      <td>54061</td>\n      <td>0</td>\n      <td>1</td>\n      <td>1</td>\n      <td>12922</td>\n      <td>tutor</td>\n      <td>...</td>\n      <td>0</td>\n      <td>2</td>\n      <td>12922</td>\n      <td>30677</td>\n      <td>NaN</td>\n      <td>-6</td>\n      <td>0.0</td>\n      <td>NaN</td>\n      <td>57.0</td>\n      <td>NaN</td>\n    </tr>\n    <tr>\n      <th>525533</th>\n      <td>38214198</td>\n      <td>291503</td>\n      <td>96299</td>\n      <td>34577</td>\n      <td>54062</td>\n      <td>0</td>\n      <td>0</td>\n      <td>9</td>\n      <td>36047</td>\n      <td>tutor</td>\n      <td>...</td>\n      <td>1</td>\n      <td>3</td>\n      <td>163422</td>\n      <td>30677</td>\n      <td>NaN</td>\n      <td>-6.8</td>\n      <td>0.0</td>\n      <td>0.0</td>\n      <td>58.0</td>\n      <td>NaN</td>\n    </tr>\n  </tbody>\n</table>\n<p>525534 rows × 30 columns</p>\n</div>"
     },
     "metadata": {},
     "execution_count": 5
    }
   ],
   "source": [
    "df"
   ]
  },
  {
   "cell_type": "code",
   "execution_count": 6,
   "metadata": {},
   "outputs": [],
   "source": [
    "if \"skill_id\" not in df.columns:\n",
    "    raise KeyError(f\"The column 'skill_id' was not found on {fn}\")\n",
    "if \"correct\" not in df.columns:\n",
    "    raise KeyError(f\"The column 'correct' was not found on {fn}\")\n",
    "if \"user_id\" not in df.columns:\n",
    "    raise KeyError(f\"The column 'user_id' was not found on {fn}\")"
   ]
  },
  {
   "cell_type": "code",
   "execution_count": 7,
   "metadata": {},
   "outputs": [],
   "source": [
    "if not (df['correct'].isin([0, 1])).all():\n",
    "        raise KeyError(f\"The values of the column 'correct' must be 0 or 1.\")"
   ]
  },
  {
   "cell_type": "code",
   "execution_count": 8,
   "metadata": {},
   "outputs": [
    {
     "output_type": "execute_result",
     "data": {
      "text/plain": [
       "        order_id  assignment_id  user_id  assistment_id  problem_id  original  \\\n",
       "0       33022537         277618    64525          33139       51424         1   \n",
       "1       33022709         277618    64525          33150       51435         1   \n",
       "2       35450204         220674    70363          33159       51444         1   \n",
       "3       35450295         220674    70363          33110       51395         1   \n",
       "4       35450311         220674    70363          33196       51481         1   \n",
       "...          ...            ...      ...            ...         ...       ...   \n",
       "459203  33150408         277900    85730          69042      128442         1   \n",
       "459204  33150487         277900    85730          69056      128456         1   \n",
       "459205  33150779         277900    85730          69046      128446         1   \n",
       "459206  33151098         277901    85730          69057      128457         1   \n",
       "459207  31950415         276173    87896          69025      128413         1   \n",
       "\n",
       "        correct  attempt_count  ms_first_response tutor_mode  ... hint_count  \\\n",
       "0             1              1              32454      tutor  ...          0   \n",
       "1             1              1               4922      tutor  ...          0   \n",
       "2             0              2              25390      tutor  ...          0   \n",
       "3             1              1               4859      tutor  ...          0   \n",
       "4             0             14              19813      tutor  ...          3   \n",
       "...         ...            ...                ...        ...  ...        ...   \n",
       "459203        0              2              51016      tutor  ...          0   \n",
       "459204        1              1              61547      tutor  ...          0   \n",
       "459205        1              1              53890      tutor  ...          0   \n",
       "459206        0              4             181532      tutor  ...          3   \n",
       "459207        0              0              44424      tutor  ...          1   \n",
       "\n",
       "        hint_total  overlap_time  template_id answer_id  answer_text  \\\n",
       "0                3         32454        30799       NaN           26   \n",
       "1                3          4922        30799       NaN           55   \n",
       "2                3         42000        30799       NaN           88   \n",
       "3                3          4859        30059       NaN           41   \n",
       "4                4        124564        30060       NaN           65   \n",
       "...            ...           ...          ...       ...          ...   \n",
       "459203           4        102125        59998       NaN       03/jul   \n",
       "459204           4         61547        59998       NaN        2-May   \n",
       "459205           4         53890        59998       NaN        10/-6   \n",
       "459206           3        196844        60008       NaN         57/9   \n",
       "459207           3         44424        60010       NaN          NaN   \n",
       "\n",
       "        first_action bottom_hint  opportunity  opportunity_original  \n",
       "0                0.0         NaN          1.0                   1.0  \n",
       "1                0.0         NaN          2.0                   2.0  \n",
       "2                0.0         NaN          1.0                   1.0  \n",
       "3                0.0         NaN          2.0                   2.0  \n",
       "4                0.0         0.0          3.0                   3.0  \n",
       "...              ...         ...          ...                   ...  \n",
       "459203           0.0         NaN         13.0                  13.0  \n",
       "459204           0.0         NaN         14.0                  14.0  \n",
       "459205           0.0         NaN         15.0                  15.0  \n",
       "459206           0.0         1.0         16.0                  16.0  \n",
       "459207           1.0         0.0          1.0                   1.0  \n",
       "\n",
       "[459208 rows x 30 columns]"
      ],
      "text/html": "<div>\n<style scoped>\n    .dataframe tbody tr th:only-of-type {\n        vertical-align: middle;\n    }\n\n    .dataframe tbody tr th {\n        vertical-align: top;\n    }\n\n    .dataframe thead th {\n        text-align: right;\n    }\n</style>\n<table border=\"1\" class=\"dataframe\">\n  <thead>\n    <tr style=\"text-align: right;\">\n      <th></th>\n      <th>order_id</th>\n      <th>assignment_id</th>\n      <th>user_id</th>\n      <th>assistment_id</th>\n      <th>problem_id</th>\n      <th>original</th>\n      <th>correct</th>\n      <th>attempt_count</th>\n      <th>ms_first_response</th>\n      <th>tutor_mode</th>\n      <th>...</th>\n      <th>hint_count</th>\n      <th>hint_total</th>\n      <th>overlap_time</th>\n      <th>template_id</th>\n      <th>answer_id</th>\n      <th>answer_text</th>\n      <th>first_action</th>\n      <th>bottom_hint</th>\n      <th>opportunity</th>\n      <th>opportunity_original</th>\n    </tr>\n  </thead>\n  <tbody>\n    <tr>\n      <th>0</th>\n      <td>33022537</td>\n      <td>277618</td>\n      <td>64525</td>\n      <td>33139</td>\n      <td>51424</td>\n      <td>1</td>\n      <td>1</td>\n      <td>1</td>\n      <td>32454</td>\n      <td>tutor</td>\n      <td>...</td>\n      <td>0</td>\n      <td>3</td>\n      <td>32454</td>\n      <td>30799</td>\n      <td>NaN</td>\n      <td>26</td>\n      <td>0.0</td>\n      <td>NaN</td>\n      <td>1.0</td>\n      <td>1.0</td>\n    </tr>\n    <tr>\n      <th>1</th>\n      <td>33022709</td>\n      <td>277618</td>\n      <td>64525</td>\n      <td>33150</td>\n      <td>51435</td>\n      <td>1</td>\n      <td>1</td>\n      <td>1</td>\n      <td>4922</td>\n      <td>tutor</td>\n      <td>...</td>\n      <td>0</td>\n      <td>3</td>\n      <td>4922</td>\n      <td>30799</td>\n      <td>NaN</td>\n      <td>55</td>\n      <td>0.0</td>\n      <td>NaN</td>\n      <td>2.0</td>\n      <td>2.0</td>\n    </tr>\n    <tr>\n      <th>2</th>\n      <td>35450204</td>\n      <td>220674</td>\n      <td>70363</td>\n      <td>33159</td>\n      <td>51444</td>\n      <td>1</td>\n      <td>0</td>\n      <td>2</td>\n      <td>25390</td>\n      <td>tutor</td>\n      <td>...</td>\n      <td>0</td>\n      <td>3</td>\n      <td>42000</td>\n      <td>30799</td>\n      <td>NaN</td>\n      <td>88</td>\n      <td>0.0</td>\n      <td>NaN</td>\n      <td>1.0</td>\n      <td>1.0</td>\n    </tr>\n    <tr>\n      <th>3</th>\n      <td>35450295</td>\n      <td>220674</td>\n      <td>70363</td>\n      <td>33110</td>\n      <td>51395</td>\n      <td>1</td>\n      <td>1</td>\n      <td>1</td>\n      <td>4859</td>\n      <td>tutor</td>\n      <td>...</td>\n      <td>0</td>\n      <td>3</td>\n      <td>4859</td>\n      <td>30059</td>\n      <td>NaN</td>\n      <td>41</td>\n      <td>0.0</td>\n      <td>NaN</td>\n      <td>2.0</td>\n      <td>2.0</td>\n    </tr>\n    <tr>\n      <th>4</th>\n      <td>35450311</td>\n      <td>220674</td>\n      <td>70363</td>\n      <td>33196</td>\n      <td>51481</td>\n      <td>1</td>\n      <td>0</td>\n      <td>14</td>\n      <td>19813</td>\n      <td>tutor</td>\n      <td>...</td>\n      <td>3</td>\n      <td>4</td>\n      <td>124564</td>\n      <td>30060</td>\n      <td>NaN</td>\n      <td>65</td>\n      <td>0.0</td>\n      <td>0.0</td>\n      <td>3.0</td>\n      <td>3.0</td>\n    </tr>\n    <tr>\n      <th>...</th>\n      <td>...</td>\n      <td>...</td>\n      <td>...</td>\n      <td>...</td>\n      <td>...</td>\n      <td>...</td>\n      <td>...</td>\n      <td>...</td>\n      <td>...</td>\n      <td>...</td>\n      <td>...</td>\n      <td>...</td>\n      <td>...</td>\n      <td>...</td>\n      <td>...</td>\n      <td>...</td>\n      <td>...</td>\n      <td>...</td>\n      <td>...</td>\n      <td>...</td>\n      <td>...</td>\n    </tr>\n    <tr>\n      <th>459203</th>\n      <td>33150408</td>\n      <td>277900</td>\n      <td>85730</td>\n      <td>69042</td>\n      <td>128442</td>\n      <td>1</td>\n      <td>0</td>\n      <td>2</td>\n      <td>51016</td>\n      <td>tutor</td>\n      <td>...</td>\n      <td>0</td>\n      <td>4</td>\n      <td>102125</td>\n      <td>59998</td>\n      <td>NaN</td>\n      <td>03/jul</td>\n      <td>0.0</td>\n      <td>NaN</td>\n      <td>13.0</td>\n      <td>13.0</td>\n    </tr>\n    <tr>\n      <th>459204</th>\n      <td>33150487</td>\n      <td>277900</td>\n      <td>85730</td>\n      <td>69056</td>\n      <td>128456</td>\n      <td>1</td>\n      <td>1</td>\n      <td>1</td>\n      <td>61547</td>\n      <td>tutor</td>\n      <td>...</td>\n      <td>0</td>\n      <td>4</td>\n      <td>61547</td>\n      <td>59998</td>\n      <td>NaN</td>\n      <td>2-May</td>\n      <td>0.0</td>\n      <td>NaN</td>\n      <td>14.0</td>\n      <td>14.0</td>\n    </tr>\n    <tr>\n      <th>459205</th>\n      <td>33150779</td>\n      <td>277900</td>\n      <td>85730</td>\n      <td>69046</td>\n      <td>128446</td>\n      <td>1</td>\n      <td>1</td>\n      <td>1</td>\n      <td>53890</td>\n      <td>tutor</td>\n      <td>...</td>\n      <td>0</td>\n      <td>4</td>\n      <td>53890</td>\n      <td>59998</td>\n      <td>NaN</td>\n      <td>10/-6</td>\n      <td>0.0</td>\n      <td>NaN</td>\n      <td>15.0</td>\n      <td>15.0</td>\n    </tr>\n    <tr>\n      <th>459206</th>\n      <td>33151098</td>\n      <td>277901</td>\n      <td>85730</td>\n      <td>69057</td>\n      <td>128457</td>\n      <td>1</td>\n      <td>0</td>\n      <td>4</td>\n      <td>181532</td>\n      <td>tutor</td>\n      <td>...</td>\n      <td>3</td>\n      <td>3</td>\n      <td>196844</td>\n      <td>60008</td>\n      <td>NaN</td>\n      <td>57/9</td>\n      <td>0.0</td>\n      <td>1.0</td>\n      <td>16.0</td>\n      <td>16.0</td>\n    </tr>\n    <tr>\n      <th>459207</th>\n      <td>31950415</td>\n      <td>276173</td>\n      <td>87896</td>\n      <td>69025</td>\n      <td>128413</td>\n      <td>1</td>\n      <td>0</td>\n      <td>0</td>\n      <td>44424</td>\n      <td>tutor</td>\n      <td>...</td>\n      <td>1</td>\n      <td>3</td>\n      <td>44424</td>\n      <td>60010</td>\n      <td>NaN</td>\n      <td>NaN</td>\n      <td>1.0</td>\n      <td>0.0</td>\n      <td>1.0</td>\n      <td>1.0</td>\n    </tr>\n  </tbody>\n</table>\n<p>459208 rows × 30 columns</p>\n</div>"
     },
     "metadata": {},
     "execution_count": 8
    }
   ],
   "source": [
    "  df.dropna(subset=['skill_id'], inplace=True)\n",
    "  df"
   ]
  },
  {
   "cell_type": "code",
   "execution_count": null,
   "metadata": {},
   "outputs": [],
   "source": []
  },
  {
   "cell_type": "code",
   "execution_count": 9,
   "metadata": {},
   "outputs": [],
   "source": [
    "df = df.groupby('user_id').filter(lambda q: len(q) > 1).copy()"
   ]
  },
  {
   "cell_type": "code",
   "execution_count": 10,
   "metadata": {},
   "outputs": [
    {
     "output_type": "execute_result",
     "data": {
      "text/plain": [
       "        order_id  assignment_id  user_id  assistment_id  problem_id  original  \\\n",
       "0       33022537         277618    64525          33139       51424         1   \n",
       "1       33022709         277618    64525          33150       51435         1   \n",
       "2       35450204         220674    70363          33159       51444         1   \n",
       "3       35450295         220674    70363          33110       51395         1   \n",
       "4       35450311         220674    70363          33196       51481         1   \n",
       "...          ...            ...      ...            ...         ...       ...   \n",
       "459202  33150328         277900    85730          69050      128450         1   \n",
       "459203  33150408         277900    85730          69042      128442         1   \n",
       "459204  33150487         277900    85730          69056      128456         1   \n",
       "459205  33150779         277900    85730          69046      128446         1   \n",
       "459206  33151098         277901    85730          69057      128457         1   \n",
       "\n",
       "        correct  attempt_count  ms_first_response tutor_mode  ... hint_count  \\\n",
       "0             1              1              32454      tutor  ...          0   \n",
       "1             1              1               4922      tutor  ...          0   \n",
       "2             0              2              25390      tutor  ...          0   \n",
       "3             1              1               4859      tutor  ...          0   \n",
       "4             0             14              19813      tutor  ...          3   \n",
       "...         ...            ...                ...        ...  ...        ...   \n",
       "459202        0              2              51594      tutor  ...          0   \n",
       "459203        0              2              51016      tutor  ...          0   \n",
       "459204        1              1              61547      tutor  ...          0   \n",
       "459205        1              1              53890      tutor  ...          0   \n",
       "459206        0              4             181532      tutor  ...          3   \n",
       "\n",
       "        hint_total  overlap_time  template_id answer_id  answer_text  \\\n",
       "0                3         32454        30799       NaN           26   \n",
       "1                3          4922        30799       NaN           55   \n",
       "2                3         42000        30799       NaN           88   \n",
       "3                3          4859        30059       NaN           41   \n",
       "4                4        124564        30060       NaN           65   \n",
       "...            ...           ...          ...       ...          ...   \n",
       "459202           4        130875        59998       NaN            0   \n",
       "459203           4        102125        59998       NaN       03/jul   \n",
       "459204           4         61547        59998       NaN        2-May   \n",
       "459205           4         53890        59998       NaN        10/-6   \n",
       "459206           3        196844        60008       NaN         57/9   \n",
       "\n",
       "        first_action bottom_hint  opportunity  opportunity_original  \n",
       "0                0.0         NaN          1.0                   1.0  \n",
       "1                0.0         NaN          2.0                   2.0  \n",
       "2                0.0         NaN          1.0                   1.0  \n",
       "3                0.0         NaN          2.0                   2.0  \n",
       "4                0.0         0.0          3.0                   3.0  \n",
       "...              ...         ...          ...                   ...  \n",
       "459202           0.0         NaN         12.0                  12.0  \n",
       "459203           0.0         NaN         13.0                  13.0  \n",
       "459204           0.0         NaN         14.0                  14.0  \n",
       "459205           0.0         NaN         15.0                  15.0  \n",
       "459206           0.0         1.0         16.0                  16.0  \n",
       "\n",
       "[459092 rows x 30 columns]"
      ],
      "text/html": "<div>\n<style scoped>\n    .dataframe tbody tr th:only-of-type {\n        vertical-align: middle;\n    }\n\n    .dataframe tbody tr th {\n        vertical-align: top;\n    }\n\n    .dataframe thead th {\n        text-align: right;\n    }\n</style>\n<table border=\"1\" class=\"dataframe\">\n  <thead>\n    <tr style=\"text-align: right;\">\n      <th></th>\n      <th>order_id</th>\n      <th>assignment_id</th>\n      <th>user_id</th>\n      <th>assistment_id</th>\n      <th>problem_id</th>\n      <th>original</th>\n      <th>correct</th>\n      <th>attempt_count</th>\n      <th>ms_first_response</th>\n      <th>tutor_mode</th>\n      <th>...</th>\n      <th>hint_count</th>\n      <th>hint_total</th>\n      <th>overlap_time</th>\n      <th>template_id</th>\n      <th>answer_id</th>\n      <th>answer_text</th>\n      <th>first_action</th>\n      <th>bottom_hint</th>\n      <th>opportunity</th>\n      <th>opportunity_original</th>\n    </tr>\n  </thead>\n  <tbody>\n    <tr>\n      <th>0</th>\n      <td>33022537</td>\n      <td>277618</td>\n      <td>64525</td>\n      <td>33139</td>\n      <td>51424</td>\n      <td>1</td>\n      <td>1</td>\n      <td>1</td>\n      <td>32454</td>\n      <td>tutor</td>\n      <td>...</td>\n      <td>0</td>\n      <td>3</td>\n      <td>32454</td>\n      <td>30799</td>\n      <td>NaN</td>\n      <td>26</td>\n      <td>0.0</td>\n      <td>NaN</td>\n      <td>1.0</td>\n      <td>1.0</td>\n    </tr>\n    <tr>\n      <th>1</th>\n      <td>33022709</td>\n      <td>277618</td>\n      <td>64525</td>\n      <td>33150</td>\n      <td>51435</td>\n      <td>1</td>\n      <td>1</td>\n      <td>1</td>\n      <td>4922</td>\n      <td>tutor</td>\n      <td>...</td>\n      <td>0</td>\n      <td>3</td>\n      <td>4922</td>\n      <td>30799</td>\n      <td>NaN</td>\n      <td>55</td>\n      <td>0.0</td>\n      <td>NaN</td>\n      <td>2.0</td>\n      <td>2.0</td>\n    </tr>\n    <tr>\n      <th>2</th>\n      <td>35450204</td>\n      <td>220674</td>\n      <td>70363</td>\n      <td>33159</td>\n      <td>51444</td>\n      <td>1</td>\n      <td>0</td>\n      <td>2</td>\n      <td>25390</td>\n      <td>tutor</td>\n      <td>...</td>\n      <td>0</td>\n      <td>3</td>\n      <td>42000</td>\n      <td>30799</td>\n      <td>NaN</td>\n      <td>88</td>\n      <td>0.0</td>\n      <td>NaN</td>\n      <td>1.0</td>\n      <td>1.0</td>\n    </tr>\n    <tr>\n      <th>3</th>\n      <td>35450295</td>\n      <td>220674</td>\n      <td>70363</td>\n      <td>33110</td>\n      <td>51395</td>\n      <td>1</td>\n      <td>1</td>\n      <td>1</td>\n      <td>4859</td>\n      <td>tutor</td>\n      <td>...</td>\n      <td>0</td>\n      <td>3</td>\n      <td>4859</td>\n      <td>30059</td>\n      <td>NaN</td>\n      <td>41</td>\n      <td>0.0</td>\n      <td>NaN</td>\n      <td>2.0</td>\n      <td>2.0</td>\n    </tr>\n    <tr>\n      <th>4</th>\n      <td>35450311</td>\n      <td>220674</td>\n      <td>70363</td>\n      <td>33196</td>\n      <td>51481</td>\n      <td>1</td>\n      <td>0</td>\n      <td>14</td>\n      <td>19813</td>\n      <td>tutor</td>\n      <td>...</td>\n      <td>3</td>\n      <td>4</td>\n      <td>124564</td>\n      <td>30060</td>\n      <td>NaN</td>\n      <td>65</td>\n      <td>0.0</td>\n      <td>0.0</td>\n      <td>3.0</td>\n      <td>3.0</td>\n    </tr>\n    <tr>\n      <th>...</th>\n      <td>...</td>\n      <td>...</td>\n      <td>...</td>\n      <td>...</td>\n      <td>...</td>\n      <td>...</td>\n      <td>...</td>\n      <td>...</td>\n      <td>...</td>\n      <td>...</td>\n      <td>...</td>\n      <td>...</td>\n      <td>...</td>\n      <td>...</td>\n      <td>...</td>\n      <td>...</td>\n      <td>...</td>\n      <td>...</td>\n      <td>...</td>\n      <td>...</td>\n      <td>...</td>\n    </tr>\n    <tr>\n      <th>459202</th>\n      <td>33150328</td>\n      <td>277900</td>\n      <td>85730</td>\n      <td>69050</td>\n      <td>128450</td>\n      <td>1</td>\n      <td>0</td>\n      <td>2</td>\n      <td>51594</td>\n      <td>tutor</td>\n      <td>...</td>\n      <td>0</td>\n      <td>4</td>\n      <td>130875</td>\n      <td>59998</td>\n      <td>NaN</td>\n      <td>0</td>\n      <td>0.0</td>\n      <td>NaN</td>\n      <td>12.0</td>\n      <td>12.0</td>\n    </tr>\n    <tr>\n      <th>459203</th>\n      <td>33150408</td>\n      <td>277900</td>\n      <td>85730</td>\n      <td>69042</td>\n      <td>128442</td>\n      <td>1</td>\n      <td>0</td>\n      <td>2</td>\n      <td>51016</td>\n      <td>tutor</td>\n      <td>...</td>\n      <td>0</td>\n      <td>4</td>\n      <td>102125</td>\n      <td>59998</td>\n      <td>NaN</td>\n      <td>03/jul</td>\n      <td>0.0</td>\n      <td>NaN</td>\n      <td>13.0</td>\n      <td>13.0</td>\n    </tr>\n    <tr>\n      <th>459204</th>\n      <td>33150487</td>\n      <td>277900</td>\n      <td>85730</td>\n      <td>69056</td>\n      <td>128456</td>\n      <td>1</td>\n      <td>1</td>\n      <td>1</td>\n      <td>61547</td>\n      <td>tutor</td>\n      <td>...</td>\n      <td>0</td>\n      <td>4</td>\n      <td>61547</td>\n      <td>59998</td>\n      <td>NaN</td>\n      <td>2-May</td>\n      <td>0.0</td>\n      <td>NaN</td>\n      <td>14.0</td>\n      <td>14.0</td>\n    </tr>\n    <tr>\n      <th>459205</th>\n      <td>33150779</td>\n      <td>277900</td>\n      <td>85730</td>\n      <td>69046</td>\n      <td>128446</td>\n      <td>1</td>\n      <td>1</td>\n      <td>1</td>\n      <td>53890</td>\n      <td>tutor</td>\n      <td>...</td>\n      <td>0</td>\n      <td>4</td>\n      <td>53890</td>\n      <td>59998</td>\n      <td>NaN</td>\n      <td>10/-6</td>\n      <td>0.0</td>\n      <td>NaN</td>\n      <td>15.0</td>\n      <td>15.0</td>\n    </tr>\n    <tr>\n      <th>459206</th>\n      <td>33151098</td>\n      <td>277901</td>\n      <td>85730</td>\n      <td>69057</td>\n      <td>128457</td>\n      <td>1</td>\n      <td>0</td>\n      <td>4</td>\n      <td>181532</td>\n      <td>tutor</td>\n      <td>...</td>\n      <td>3</td>\n      <td>3</td>\n      <td>196844</td>\n      <td>60008</td>\n      <td>NaN</td>\n      <td>57/9</td>\n      <td>0.0</td>\n      <td>1.0</td>\n      <td>16.0</td>\n      <td>16.0</td>\n    </tr>\n  </tbody>\n</table>\n<p>459092 rows × 30 columns</p>\n</div>"
     },
     "metadata": {},
     "execution_count": 10
    }
   ],
   "source": [
    "df"
   ]
  },
  {
   "cell_type": "code",
   "execution_count": 11,
   "metadata": {},
   "outputs": [
    {
     "output_type": "error",
     "ename": "KeyError",
     "evalue": "'exercise_id'",
     "traceback": [
      "\u001b[0;31m---------------------------------------------------------------------------\u001b[0m",
      "\u001b[0;31mKeyError\u001b[0m                                  Traceback (most recent call last)",
      "\u001b[0;32m<ipython-input-11-767dc2f726e5>\u001b[0m in \u001b[0;36m<module>\u001b[0;34m\u001b[0m\n\u001b[0;32m----> 1\u001b[0;31m \u001b[0mdf_exercise\u001b[0m \u001b[0;34m=\u001b[0m \u001b[0mdf\u001b[0m\u001b[0;34m.\u001b[0m\u001b[0mgroupby\u001b[0m\u001b[0;34m(\u001b[0m\u001b[0;34m'exercise_id'\u001b[0m\u001b[0;34m)\u001b[0m\u001b[0;34m.\u001b[0m\u001b[0mfilter\u001b[0m\u001b[0;34m(\u001b[0m\u001b[0;32mlambda\u001b[0m \u001b[0mq\u001b[0m\u001b[0;34m:\u001b[0m \u001b[0mlen\u001b[0m\u001b[0;34m(\u001b[0m\u001b[0mq\u001b[0m\u001b[0;34m)\u001b[0m \u001b[0;34m==\u001b[0m \u001b[0;36m2\u001b[0m\u001b[0;34m)\u001b[0m\u001b[0;34m.\u001b[0m\u001b[0mcopy\u001b[0m\u001b[0;34m(\u001b[0m\u001b[0;34m)\u001b[0m\u001b[0;34m\u001b[0m\u001b[0;34m\u001b[0m\u001b[0m\n\u001b[0m",
      "\u001b[0;32m~/.pyenv/versions/3.8.6/lib/python3.8/site-packages/pandas/core/frame.py\u001b[0m in \u001b[0;36mgroupby\u001b[0;34m(self, by, axis, level, as_index, sort, group_keys, squeeze, observed, dropna)\u001b[0m\n\u001b[1;32m   6513\u001b[0m         \u001b[0maxis\u001b[0m \u001b[0;34m=\u001b[0m \u001b[0mself\u001b[0m\u001b[0;34m.\u001b[0m\u001b[0m_get_axis_number\u001b[0m\u001b[0;34m(\u001b[0m\u001b[0maxis\u001b[0m\u001b[0;34m)\u001b[0m\u001b[0;34m\u001b[0m\u001b[0;34m\u001b[0m\u001b[0m\n\u001b[1;32m   6514\u001b[0m \u001b[0;34m\u001b[0m\u001b[0m\n\u001b[0;32m-> 6515\u001b[0;31m         return DataFrameGroupBy(\n\u001b[0m\u001b[1;32m   6516\u001b[0m             \u001b[0mobj\u001b[0m\u001b[0;34m=\u001b[0m\u001b[0mself\u001b[0m\u001b[0;34m,\u001b[0m\u001b[0;34m\u001b[0m\u001b[0;34m\u001b[0m\u001b[0m\n\u001b[1;32m   6517\u001b[0m             \u001b[0mkeys\u001b[0m\u001b[0;34m=\u001b[0m\u001b[0mby\u001b[0m\u001b[0;34m,\u001b[0m\u001b[0;34m\u001b[0m\u001b[0;34m\u001b[0m\u001b[0m\n",
      "\u001b[0;32m~/.pyenv/versions/3.8.6/lib/python3.8/site-packages/pandas/core/groupby/groupby.py\u001b[0m in \u001b[0;36m__init__\u001b[0;34m(self, obj, keys, axis, level, grouper, exclusions, selection, as_index, sort, group_keys, squeeze, observed, mutated, dropna)\u001b[0m\n\u001b[1;32m    523\u001b[0m             \u001b[0;32mfrom\u001b[0m \u001b[0mpandas\u001b[0m\u001b[0;34m.\u001b[0m\u001b[0mcore\u001b[0m\u001b[0;34m.\u001b[0m\u001b[0mgroupby\u001b[0m\u001b[0;34m.\u001b[0m\u001b[0mgrouper\u001b[0m \u001b[0;32mimport\u001b[0m \u001b[0mget_grouper\u001b[0m\u001b[0;34m\u001b[0m\u001b[0;34m\u001b[0m\u001b[0m\n\u001b[1;32m    524\u001b[0m \u001b[0;34m\u001b[0m\u001b[0m\n\u001b[0;32m--> 525\u001b[0;31m             grouper, exclusions, obj = get_grouper(\n\u001b[0m\u001b[1;32m    526\u001b[0m                 \u001b[0mobj\u001b[0m\u001b[0;34m,\u001b[0m\u001b[0;34m\u001b[0m\u001b[0;34m\u001b[0m\u001b[0m\n\u001b[1;32m    527\u001b[0m                 \u001b[0mkeys\u001b[0m\u001b[0;34m,\u001b[0m\u001b[0;34m\u001b[0m\u001b[0;34m\u001b[0m\u001b[0m\n",
      "\u001b[0;32m~/.pyenv/versions/3.8.6/lib/python3.8/site-packages/pandas/core/groupby/grouper.py\u001b[0m in \u001b[0;36mget_grouper\u001b[0;34m(obj, key, axis, level, sort, observed, mutated, validate, dropna)\u001b[0m\n\u001b[1;32m    784\u001b[0m                 \u001b[0min_axis\u001b[0m\u001b[0;34m,\u001b[0m \u001b[0mname\u001b[0m\u001b[0;34m,\u001b[0m \u001b[0mlevel\u001b[0m\u001b[0;34m,\u001b[0m \u001b[0mgpr\u001b[0m \u001b[0;34m=\u001b[0m \u001b[0;32mFalse\u001b[0m\u001b[0;34m,\u001b[0m \u001b[0;32mNone\u001b[0m\u001b[0;34m,\u001b[0m \u001b[0mgpr\u001b[0m\u001b[0;34m,\u001b[0m \u001b[0;32mNone\u001b[0m\u001b[0;34m\u001b[0m\u001b[0;34m\u001b[0m\u001b[0m\n\u001b[1;32m    785\u001b[0m             \u001b[0;32melse\u001b[0m\u001b[0;34m:\u001b[0m\u001b[0;34m\u001b[0m\u001b[0;34m\u001b[0m\u001b[0m\n\u001b[0;32m--> 786\u001b[0;31m                 \u001b[0;32mraise\u001b[0m \u001b[0mKeyError\u001b[0m\u001b[0;34m(\u001b[0m\u001b[0mgpr\u001b[0m\u001b[0;34m)\u001b[0m\u001b[0;34m\u001b[0m\u001b[0;34m\u001b[0m\u001b[0m\n\u001b[0m\u001b[1;32m    787\u001b[0m         \u001b[0;32melif\u001b[0m \u001b[0misinstance\u001b[0m\u001b[0;34m(\u001b[0m\u001b[0mgpr\u001b[0m\u001b[0;34m,\u001b[0m \u001b[0mGrouper\u001b[0m\u001b[0;34m)\u001b[0m \u001b[0;32mand\u001b[0m \u001b[0mgpr\u001b[0m\u001b[0;34m.\u001b[0m\u001b[0mkey\u001b[0m \u001b[0;32mis\u001b[0m \u001b[0;32mnot\u001b[0m \u001b[0;32mNone\u001b[0m\u001b[0;34m:\u001b[0m\u001b[0;34m\u001b[0m\u001b[0;34m\u001b[0m\u001b[0m\n\u001b[1;32m    788\u001b[0m             \u001b[0;31m# Add key to exclusions\u001b[0m\u001b[0;34m\u001b[0m\u001b[0;34m\u001b[0m\u001b[0;34m\u001b[0m\u001b[0m\n",
      "\u001b[0;31mKeyError\u001b[0m: 'exercise_id'"
     ]
    }
   ],
   "source": [
    "df_exercise = df.groupby('exercise_id').filter(lambda q: len(q) == 2).copy()"
   ]
  },
  {
   "cell_type": "code",
   "execution_count": 51,
   "metadata": {},
   "outputs": [],
   "source": [
    "df['skill'], _ = pd.factorize(df['skill_id'], sort=True)\n",
    "#df['exercise'], _ = pd.factorize(df['problem_id'], sort=True)"
   ]
  },
  {
   "cell_type": "code",
   "execution_count": 26,
   "metadata": {},
   "outputs": [],
   "source": []
  },
  {
   "cell_type": "code",
   "execution_count": null,
   "metadata": {},
   "outputs": [],
   "source": []
  },
  {
   "cell_type": "code",
   "execution_count": null,
   "metadata": {},
   "outputs": [],
   "source": []
  },
  {
   "cell_type": "code",
   "execution_count": 49,
   "metadata": {},
   "outputs": [
    {
     "output_type": "execute_result",
     "data": {
      "text/plain": [
       "        order_id  assignment_id  user_id  assistment_id  problem_id  original  \\\n",
       "0       33022537         277618    64525          33139       51424         1   \n",
       "1       33022709         277618    64525          33150       51435         1   \n",
       "2       35450204         220674    70363          33159       51444         1   \n",
       "3       35450295         220674    70363          33110       51395         1   \n",
       "4       35450311         220674    70363          33196       51481         1   \n",
       "...          ...            ...      ...            ...         ...       ...   \n",
       "459202  33150328         277900    85730          69050      128450         1   \n",
       "459203  33150408         277900    85730          69042      128442         1   \n",
       "459204  33150487         277900    85730          69056      128456         1   \n",
       "459205  33150779         277900    85730          69046      128446         1   \n",
       "459206  33151098         277901    85730          69057      128457         1   \n",
       "\n",
       "        correct  attempt_count  ms_first_response tutor_mode  ... hint_count  \\\n",
       "0             1              1              32454      tutor  ...          0   \n",
       "1             1              1               4922      tutor  ...          0   \n",
       "2             0              2              25390      tutor  ...          0   \n",
       "3             1              1               4859      tutor  ...          0   \n",
       "4             0             14              19813      tutor  ...          3   \n",
       "...         ...            ...                ...        ...  ...        ...   \n",
       "459202        0              2              51594      tutor  ...          0   \n",
       "459203        0              2              51016      tutor  ...          0   \n",
       "459204        1              1              61547      tutor  ...          0   \n",
       "459205        1              1              53890      tutor  ...          0   \n",
       "459206        0              4             181532      tutor  ...          3   \n",
       "\n",
       "        hint_total  overlap_time  template_id answer_id  answer_text  \\\n",
       "0                3         32454        30799       NaN           26   \n",
       "1                3          4922        30799       NaN           55   \n",
       "2                3         42000        30799       NaN           88   \n",
       "3                3          4859        30059       NaN           41   \n",
       "4                4        124564        30060       NaN           65   \n",
       "...            ...           ...          ...       ...          ...   \n",
       "459202           4        130875        59998       NaN            0   \n",
       "459203           4        102125        59998       NaN       03/jul   \n",
       "459204           4         61547        59998       NaN        2-May   \n",
       "459205           4         53890        59998       NaN        10/-6   \n",
       "459206           3        196844        60008       NaN         57/9   \n",
       "\n",
       "        first_action bottom_hint  opportunity  opportunity_original  \n",
       "0                0.0         NaN          1.0                   1.0  \n",
       "1                0.0         NaN          2.0                   2.0  \n",
       "2                0.0         NaN          1.0                   1.0  \n",
       "3                0.0         NaN          2.0                   2.0  \n",
       "4                0.0         0.0          3.0                   3.0  \n",
       "...              ...         ...          ...                   ...  \n",
       "459202           0.0         NaN         12.0                  12.0  \n",
       "459203           0.0         NaN         13.0                  13.0  \n",
       "459204           0.0         NaN         14.0                  14.0  \n",
       "459205           0.0         NaN         15.0                  15.0  \n",
       "459206           0.0         1.0         16.0                  16.0  \n",
       "\n",
       "[459092 rows x 30 columns]"
      ],
      "text/html": "<div>\n<style scoped>\n    .dataframe tbody tr th:only-of-type {\n        vertical-align: middle;\n    }\n\n    .dataframe tbody tr th {\n        vertical-align: top;\n    }\n\n    .dataframe thead th {\n        text-align: right;\n    }\n</style>\n<table border=\"1\" class=\"dataframe\">\n  <thead>\n    <tr style=\"text-align: right;\">\n      <th></th>\n      <th>order_id</th>\n      <th>assignment_id</th>\n      <th>user_id</th>\n      <th>assistment_id</th>\n      <th>problem_id</th>\n      <th>original</th>\n      <th>correct</th>\n      <th>attempt_count</th>\n      <th>ms_first_response</th>\n      <th>tutor_mode</th>\n      <th>...</th>\n      <th>hint_count</th>\n      <th>hint_total</th>\n      <th>overlap_time</th>\n      <th>template_id</th>\n      <th>answer_id</th>\n      <th>answer_text</th>\n      <th>first_action</th>\n      <th>bottom_hint</th>\n      <th>opportunity</th>\n      <th>opportunity_original</th>\n    </tr>\n  </thead>\n  <tbody>\n    <tr>\n      <th>0</th>\n      <td>33022537</td>\n      <td>277618</td>\n      <td>64525</td>\n      <td>33139</td>\n      <td>51424</td>\n      <td>1</td>\n      <td>1</td>\n      <td>1</td>\n      <td>32454</td>\n      <td>tutor</td>\n      <td>...</td>\n      <td>0</td>\n      <td>3</td>\n      <td>32454</td>\n      <td>30799</td>\n      <td>NaN</td>\n      <td>26</td>\n      <td>0.0</td>\n      <td>NaN</td>\n      <td>1.0</td>\n      <td>1.0</td>\n    </tr>\n    <tr>\n      <th>1</th>\n      <td>33022709</td>\n      <td>277618</td>\n      <td>64525</td>\n      <td>33150</td>\n      <td>51435</td>\n      <td>1</td>\n      <td>1</td>\n      <td>1</td>\n      <td>4922</td>\n      <td>tutor</td>\n      <td>...</td>\n      <td>0</td>\n      <td>3</td>\n      <td>4922</td>\n      <td>30799</td>\n      <td>NaN</td>\n      <td>55</td>\n      <td>0.0</td>\n      <td>NaN</td>\n      <td>2.0</td>\n      <td>2.0</td>\n    </tr>\n    <tr>\n      <th>2</th>\n      <td>35450204</td>\n      <td>220674</td>\n      <td>70363</td>\n      <td>33159</td>\n      <td>51444</td>\n      <td>1</td>\n      <td>0</td>\n      <td>2</td>\n      <td>25390</td>\n      <td>tutor</td>\n      <td>...</td>\n      <td>0</td>\n      <td>3</td>\n      <td>42000</td>\n      <td>30799</td>\n      <td>NaN</td>\n      <td>88</td>\n      <td>0.0</td>\n      <td>NaN</td>\n      <td>1.0</td>\n      <td>1.0</td>\n    </tr>\n    <tr>\n      <th>3</th>\n      <td>35450295</td>\n      <td>220674</td>\n      <td>70363</td>\n      <td>33110</td>\n      <td>51395</td>\n      <td>1</td>\n      <td>1</td>\n      <td>1</td>\n      <td>4859</td>\n      <td>tutor</td>\n      <td>...</td>\n      <td>0</td>\n      <td>3</td>\n      <td>4859</td>\n      <td>30059</td>\n      <td>NaN</td>\n      <td>41</td>\n      <td>0.0</td>\n      <td>NaN</td>\n      <td>2.0</td>\n      <td>2.0</td>\n    </tr>\n    <tr>\n      <th>4</th>\n      <td>35450311</td>\n      <td>220674</td>\n      <td>70363</td>\n      <td>33196</td>\n      <td>51481</td>\n      <td>1</td>\n      <td>0</td>\n      <td>14</td>\n      <td>19813</td>\n      <td>tutor</td>\n      <td>...</td>\n      <td>3</td>\n      <td>4</td>\n      <td>124564</td>\n      <td>30060</td>\n      <td>NaN</td>\n      <td>65</td>\n      <td>0.0</td>\n      <td>0.0</td>\n      <td>3.0</td>\n      <td>3.0</td>\n    </tr>\n    <tr>\n      <th>...</th>\n      <td>...</td>\n      <td>...</td>\n      <td>...</td>\n      <td>...</td>\n      <td>...</td>\n      <td>...</td>\n      <td>...</td>\n      <td>...</td>\n      <td>...</td>\n      <td>...</td>\n      <td>...</td>\n      <td>...</td>\n      <td>...</td>\n      <td>...</td>\n      <td>...</td>\n      <td>...</td>\n      <td>...</td>\n      <td>...</td>\n      <td>...</td>\n      <td>...</td>\n      <td>...</td>\n    </tr>\n    <tr>\n      <th>459202</th>\n      <td>33150328</td>\n      <td>277900</td>\n      <td>85730</td>\n      <td>69050</td>\n      <td>128450</td>\n      <td>1</td>\n      <td>0</td>\n      <td>2</td>\n      <td>51594</td>\n      <td>tutor</td>\n      <td>...</td>\n      <td>0</td>\n      <td>4</td>\n      <td>130875</td>\n      <td>59998</td>\n      <td>NaN</td>\n      <td>0</td>\n      <td>0.0</td>\n      <td>NaN</td>\n      <td>12.0</td>\n      <td>12.0</td>\n    </tr>\n    <tr>\n      <th>459203</th>\n      <td>33150408</td>\n      <td>277900</td>\n      <td>85730</td>\n      <td>69042</td>\n      <td>128442</td>\n      <td>1</td>\n      <td>0</td>\n      <td>2</td>\n      <td>51016</td>\n      <td>tutor</td>\n      <td>...</td>\n      <td>0</td>\n      <td>4</td>\n      <td>102125</td>\n      <td>59998</td>\n      <td>NaN</td>\n      <td>03/jul</td>\n      <td>0.0</td>\n      <td>NaN</td>\n      <td>13.0</td>\n      <td>13.0</td>\n    </tr>\n    <tr>\n      <th>459204</th>\n      <td>33150487</td>\n      <td>277900</td>\n      <td>85730</td>\n      <td>69056</td>\n      <td>128456</td>\n      <td>1</td>\n      <td>1</td>\n      <td>1</td>\n      <td>61547</td>\n      <td>tutor</td>\n      <td>...</td>\n      <td>0</td>\n      <td>4</td>\n      <td>61547</td>\n      <td>59998</td>\n      <td>NaN</td>\n      <td>2-May</td>\n      <td>0.0</td>\n      <td>NaN</td>\n      <td>14.0</td>\n      <td>14.0</td>\n    </tr>\n    <tr>\n      <th>459205</th>\n      <td>33150779</td>\n      <td>277900</td>\n      <td>85730</td>\n      <td>69046</td>\n      <td>128446</td>\n      <td>1</td>\n      <td>1</td>\n      <td>1</td>\n      <td>53890</td>\n      <td>tutor</td>\n      <td>...</td>\n      <td>0</td>\n      <td>4</td>\n      <td>53890</td>\n      <td>59998</td>\n      <td>NaN</td>\n      <td>10/-6</td>\n      <td>0.0</td>\n      <td>NaN</td>\n      <td>15.0</td>\n      <td>15.0</td>\n    </tr>\n    <tr>\n      <th>459206</th>\n      <td>33151098</td>\n      <td>277901</td>\n      <td>85730</td>\n      <td>69057</td>\n      <td>128457</td>\n      <td>1</td>\n      <td>0</td>\n      <td>4</td>\n      <td>181532</td>\n      <td>tutor</td>\n      <td>...</td>\n      <td>3</td>\n      <td>3</td>\n      <td>196844</td>\n      <td>60008</td>\n      <td>NaN</td>\n      <td>57/9</td>\n      <td>0.0</td>\n      <td>1.0</td>\n      <td>16.0</td>\n      <td>16.0</td>\n    </tr>\n  </tbody>\n</table>\n<p>459092 rows × 30 columns</p>\n</div>"
     },
     "metadata": {},
     "execution_count": 49
    }
   ],
   "source": [
    "df"
   ]
  },
  {
   "cell_type": "code",
   "execution_count": null,
   "metadata": {},
   "outputs": [],
   "source": []
  },
  {
   "cell_type": "code",
   "execution_count": 52,
   "metadata": {},
   "outputs": [],
   "source": [
    "df['skill_with_answer'] = df['skill'] * 2 + df['correct']"
   ]
  },
  {
   "cell_type": "code",
   "execution_count": 76,
   "metadata": {},
   "outputs": [
    {
     "output_type": "execute_result",
     "data": {
      "text/plain": [
       "        order_id  assignment_id  user_id  assistment_id  problem_id  original  \\\n",
       "0       33022537         277618    64525          33139       51424         1   \n",
       "1       33022709         277618    64525          33150       51435         1   \n",
       "2       35450204         220674    70363          33159       51444         1   \n",
       "3       35450295         220674    70363          33110       51395         1   \n",
       "4       35450311         220674    70363          33196       51481         1   \n",
       "...          ...            ...      ...            ...         ...       ...   \n",
       "459202  33150328         277900    85730          69050      128450         1   \n",
       "459203  33150408         277900    85730          69042      128442         1   \n",
       "459204  33150487         277900    85730          69056      128456         1   \n",
       "459205  33150779         277900    85730          69046      128446         1   \n",
       "459206  33151098         277901    85730          69057      128457         1   \n",
       "\n",
       "        correct  attempt_count  ms_first_response tutor_mode  ...  \\\n",
       "0             1              1              32454      tutor  ...   \n",
       "1             1              1               4922      tutor  ...   \n",
       "2             0              2              25390      tutor  ...   \n",
       "3             1              1               4859      tutor  ...   \n",
       "4             0             14              19813      tutor  ...   \n",
       "...         ...            ...                ...        ...  ...   \n",
       "459202        0              2              51594      tutor  ...   \n",
       "459203        0              2              51016      tutor  ...   \n",
       "459204        1              1              61547      tutor  ...   \n",
       "459205        1              1              53890      tutor  ...   \n",
       "459206        0              4             181532      tutor  ...   \n",
       "\n",
       "       overlap_time  template_id  answer_id  answer_text first_action  \\\n",
       "0             32454        30799        NaN           26          0.0   \n",
       "1              4922        30799        NaN           55          0.0   \n",
       "2             42000        30799        NaN           88          0.0   \n",
       "3              4859        30059        NaN           41          0.0   \n",
       "4            124564        30060        NaN           65          0.0   \n",
       "...             ...          ...        ...          ...          ...   \n",
       "459202       130875        59998        NaN            0          0.0   \n",
       "459203       102125        59998        NaN       03/jul          0.0   \n",
       "459204        61547        59998        NaN        2-May          0.0   \n",
       "459205        53890        59998        NaN        10/-6          0.0   \n",
       "459206       196844        60008        NaN         57/9          0.0   \n",
       "\n",
       "        bottom_hint  opportunity opportunity_original  skill  \\\n",
       "0               NaN          1.0                  1.0      0   \n",
       "1               NaN          2.0                  2.0      0   \n",
       "2               NaN          1.0                  1.0      0   \n",
       "3               NaN          2.0                  2.0      0   \n",
       "4               0.0          3.0                  3.0      0   \n",
       "...             ...          ...                  ...    ...   \n",
       "459202          NaN         12.0                 12.0    122   \n",
       "459203          NaN         13.0                 13.0    122   \n",
       "459204          NaN         14.0                 14.0    122   \n",
       "459205          NaN         15.0                 15.0    122   \n",
       "459206          1.0         16.0                 16.0    122   \n",
       "\n",
       "        skill_with_answer  \n",
       "0                       1  \n",
       "1                       1  \n",
       "2                       0  \n",
       "3                       1  \n",
       "4                       0  \n",
       "...                   ...  \n",
       "459202                244  \n",
       "459203                244  \n",
       "459204                245  \n",
       "459205                245  \n",
       "459206                244  \n",
       "\n",
       "[459092 rows x 32 columns]"
      ],
      "text/html": "<div>\n<style scoped>\n    .dataframe tbody tr th:only-of-type {\n        vertical-align: middle;\n    }\n\n    .dataframe tbody tr th {\n        vertical-align: top;\n    }\n\n    .dataframe thead th {\n        text-align: right;\n    }\n</style>\n<table border=\"1\" class=\"dataframe\">\n  <thead>\n    <tr style=\"text-align: right;\">\n      <th></th>\n      <th>order_id</th>\n      <th>assignment_id</th>\n      <th>user_id</th>\n      <th>assistment_id</th>\n      <th>problem_id</th>\n      <th>original</th>\n      <th>correct</th>\n      <th>attempt_count</th>\n      <th>ms_first_response</th>\n      <th>tutor_mode</th>\n      <th>...</th>\n      <th>overlap_time</th>\n      <th>template_id</th>\n      <th>answer_id</th>\n      <th>answer_text</th>\n      <th>first_action</th>\n      <th>bottom_hint</th>\n      <th>opportunity</th>\n      <th>opportunity_original</th>\n      <th>skill</th>\n      <th>skill_with_answer</th>\n    </tr>\n  </thead>\n  <tbody>\n    <tr>\n      <th>0</th>\n      <td>33022537</td>\n      <td>277618</td>\n      <td>64525</td>\n      <td>33139</td>\n      <td>51424</td>\n      <td>1</td>\n      <td>1</td>\n      <td>1</td>\n      <td>32454</td>\n      <td>tutor</td>\n      <td>...</td>\n      <td>32454</td>\n      <td>30799</td>\n      <td>NaN</td>\n      <td>26</td>\n      <td>0.0</td>\n      <td>NaN</td>\n      <td>1.0</td>\n      <td>1.0</td>\n      <td>0</td>\n      <td>1</td>\n    </tr>\n    <tr>\n      <th>1</th>\n      <td>33022709</td>\n      <td>277618</td>\n      <td>64525</td>\n      <td>33150</td>\n      <td>51435</td>\n      <td>1</td>\n      <td>1</td>\n      <td>1</td>\n      <td>4922</td>\n      <td>tutor</td>\n      <td>...</td>\n      <td>4922</td>\n      <td>30799</td>\n      <td>NaN</td>\n      <td>55</td>\n      <td>0.0</td>\n      <td>NaN</td>\n      <td>2.0</td>\n      <td>2.0</td>\n      <td>0</td>\n      <td>1</td>\n    </tr>\n    <tr>\n      <th>2</th>\n      <td>35450204</td>\n      <td>220674</td>\n      <td>70363</td>\n      <td>33159</td>\n      <td>51444</td>\n      <td>1</td>\n      <td>0</td>\n      <td>2</td>\n      <td>25390</td>\n      <td>tutor</td>\n      <td>...</td>\n      <td>42000</td>\n      <td>30799</td>\n      <td>NaN</td>\n      <td>88</td>\n      <td>0.0</td>\n      <td>NaN</td>\n      <td>1.0</td>\n      <td>1.0</td>\n      <td>0</td>\n      <td>0</td>\n    </tr>\n    <tr>\n      <th>3</th>\n      <td>35450295</td>\n      <td>220674</td>\n      <td>70363</td>\n      <td>33110</td>\n      <td>51395</td>\n      <td>1</td>\n      <td>1</td>\n      <td>1</td>\n      <td>4859</td>\n      <td>tutor</td>\n      <td>...</td>\n      <td>4859</td>\n      <td>30059</td>\n      <td>NaN</td>\n      <td>41</td>\n      <td>0.0</td>\n      <td>NaN</td>\n      <td>2.0</td>\n      <td>2.0</td>\n      <td>0</td>\n      <td>1</td>\n    </tr>\n    <tr>\n      <th>4</th>\n      <td>35450311</td>\n      <td>220674</td>\n      <td>70363</td>\n      <td>33196</td>\n      <td>51481</td>\n      <td>1</td>\n      <td>0</td>\n      <td>14</td>\n      <td>19813</td>\n      <td>tutor</td>\n      <td>...</td>\n      <td>124564</td>\n      <td>30060</td>\n      <td>NaN</td>\n      <td>65</td>\n      <td>0.0</td>\n      <td>0.0</td>\n      <td>3.0</td>\n      <td>3.0</td>\n      <td>0</td>\n      <td>0</td>\n    </tr>\n    <tr>\n      <th>...</th>\n      <td>...</td>\n      <td>...</td>\n      <td>...</td>\n      <td>...</td>\n      <td>...</td>\n      <td>...</td>\n      <td>...</td>\n      <td>...</td>\n      <td>...</td>\n      <td>...</td>\n      <td>...</td>\n      <td>...</td>\n      <td>...</td>\n      <td>...</td>\n      <td>...</td>\n      <td>...</td>\n      <td>...</td>\n      <td>...</td>\n      <td>...</td>\n      <td>...</td>\n      <td>...</td>\n    </tr>\n    <tr>\n      <th>459202</th>\n      <td>33150328</td>\n      <td>277900</td>\n      <td>85730</td>\n      <td>69050</td>\n      <td>128450</td>\n      <td>1</td>\n      <td>0</td>\n      <td>2</td>\n      <td>51594</td>\n      <td>tutor</td>\n      <td>...</td>\n      <td>130875</td>\n      <td>59998</td>\n      <td>NaN</td>\n      <td>0</td>\n      <td>0.0</td>\n      <td>NaN</td>\n      <td>12.0</td>\n      <td>12.0</td>\n      <td>122</td>\n      <td>244</td>\n    </tr>\n    <tr>\n      <th>459203</th>\n      <td>33150408</td>\n      <td>277900</td>\n      <td>85730</td>\n      <td>69042</td>\n      <td>128442</td>\n      <td>1</td>\n      <td>0</td>\n      <td>2</td>\n      <td>51016</td>\n      <td>tutor</td>\n      <td>...</td>\n      <td>102125</td>\n      <td>59998</td>\n      <td>NaN</td>\n      <td>03/jul</td>\n      <td>0.0</td>\n      <td>NaN</td>\n      <td>13.0</td>\n      <td>13.0</td>\n      <td>122</td>\n      <td>244</td>\n    </tr>\n    <tr>\n      <th>459204</th>\n      <td>33150487</td>\n      <td>277900</td>\n      <td>85730</td>\n      <td>69056</td>\n      <td>128456</td>\n      <td>1</td>\n      <td>1</td>\n      <td>1</td>\n      <td>61547</td>\n      <td>tutor</td>\n      <td>...</td>\n      <td>61547</td>\n      <td>59998</td>\n      <td>NaN</td>\n      <td>2-May</td>\n      <td>0.0</td>\n      <td>NaN</td>\n      <td>14.0</td>\n      <td>14.0</td>\n      <td>122</td>\n      <td>245</td>\n    </tr>\n    <tr>\n      <th>459205</th>\n      <td>33150779</td>\n      <td>277900</td>\n      <td>85730</td>\n      <td>69046</td>\n      <td>128446</td>\n      <td>1</td>\n      <td>1</td>\n      <td>1</td>\n      <td>53890</td>\n      <td>tutor</td>\n      <td>...</td>\n      <td>53890</td>\n      <td>59998</td>\n      <td>NaN</td>\n      <td>10/-6</td>\n      <td>0.0</td>\n      <td>NaN</td>\n      <td>15.0</td>\n      <td>15.0</td>\n      <td>122</td>\n      <td>245</td>\n    </tr>\n    <tr>\n      <th>459206</th>\n      <td>33151098</td>\n      <td>277901</td>\n      <td>85730</td>\n      <td>69057</td>\n      <td>128457</td>\n      <td>1</td>\n      <td>0</td>\n      <td>4</td>\n      <td>181532</td>\n      <td>tutor</td>\n      <td>...</td>\n      <td>196844</td>\n      <td>60008</td>\n      <td>NaN</td>\n      <td>57/9</td>\n      <td>0.0</td>\n      <td>1.0</td>\n      <td>16.0</td>\n      <td>16.0</td>\n      <td>122</td>\n      <td>244</td>\n    </tr>\n  </tbody>\n</table>\n<p>459092 rows × 32 columns</p>\n</div>"
     },
     "metadata": {},
     "execution_count": 76
    }
   ],
   "source": [
    "df"
   ]
  },
  {
   "cell_type": "code",
   "execution_count": 13,
   "metadata": {},
   "outputs": [
    {
     "output_type": "execute_result",
     "data": {
      "text/plain": [
       "problem_id\n",
       "83          4\n",
       "84          4\n",
       "85          5\n",
       "86         30\n",
       "249         1\n",
       "         ... \n",
       "189408    210\n",
       "189554    420\n",
       "189565    210\n",
       "189566    210\n",
       "196456      1\n",
       "Length: 17748, dtype: int64"
      ]
     },
     "metadata": {},
     "execution_count": 13
    }
   ],
   "source": [
    "dfg = df.groupby(\"problem_id\")\n",
    "dfg.size()"
   ]
  },
  {
   "cell_type": "code",
   "execution_count": null,
   "metadata": {},
   "outputs": [],
   "source": []
  },
  {
   "cell_type": "code",
   "execution_count": null,
   "metadata": {},
   "outputs": [],
   "source": []
  },
  {
   "cell_type": "code",
   "execution_count": 25,
   "metadata": {},
   "outputs": [],
   "source": [
    "gs = [g[0] for g in list(dfg)] \n",
    "gs\n",
    "qk = {}\n",
    "for g in gs:\n",
    "    gg =dfg.get_group(g)\n",
    "    qk[g] = gg[\"skill_id\"].unique()"
   ]
  },
  {
   "cell_type": "code",
   "execution_count": 30,
   "metadata": {},
   "outputs": [
    {
     "output_type": "execute_result",
     "data": {
      "text/plain": [
       "47892: array([ 10., 104.]),\n",
       " 47896: array([ 10., 104.]),\n",
       " 47900: array([ 10., 104.]),\n",
       " 48054: array([10., 64.]),\n",
       " 48058: array([10., 64.]),\n",
       " 48062: array([10., 64.]),\n",
       " 48066: array([10., 64.]),\n",
       " 48070: array([10., 64.]),\n",
       " 48074: array([10., 64.]),\n",
       " 48078: array([76.]),\n",
       " 48082: array([10., 64.]),\n",
       " 48086: array([10., 64.]),\n",
       " 48090: array([10., 64.]),\n",
       " 48094: array([10., 64.]),\n",
       " 48098: array([10., 64.]),\n",
       " 48102: array([10., 64.]),\n",
       " 48106: array([10., 64.]),\n",
       " 48110: array([10., 64.]),\n",
       " 48114: array([10., 64.]),\n",
       " 48118: array([10., 64.]),\n",
       " 48122: array([10., 64.]),\n",
       " 48126: array([10., 64.]),\n",
       " 48130: array([10., 64.]),\n",
       " 48134: array([10., 64.]),\n",
       " 48138: array([10., 64.]),\n",
       " 48142: array([10., 64.]),\n",
       " 48146: array([10., 64.]),\n",
       " 48150: array([10., 64.]),\n",
       " 48154: array([10., 64.]),\n",
       " 48158: array([10., 64.]),\n",
       " 48162: array([10., 64.]),\n",
       " 48166: array([10., 64.]),\n",
       " 48170: array([10., 64.]),\n",
       " 48446: array([74., 92.]),\n",
       " 48447: array([74., 92.]),\n",
       " 48448: array([74., 92.]),\n",
       " 48449: array([74., 92.]),\n",
       " 48450: array([74., 92.]),\n",
       " 48451: array([74., 92.]),\n",
       " 48452: array([74., 92.]),\n",
       " 48453: array([74., 92.]),\n",
       " 48454: array([74., 92.]),\n",
       " 48455: array([74., 92.]),\n",
       " 48456: array([74., 92.]),\n",
       " 48457: array([74., 92.]),\n",
       " 48458: array([74., 92.]),\n",
       " 48459: array([74., 92.]),\n",
       " 48460: array([74., 92.]),\n",
       " 48461: array([74., 92.]),\n",
       " 48462: array([74., 92.]),\n",
       " 48463: array([74., 92.]),\n",
       " 48464: array([74., 92.]),\n",
       " 48465: array([74., 92.]),\n",
       " 48466: array([74., 92.]),\n",
       " 48467: array([74., 92.]),\n",
       " 48470: array([74., 92.]),\n",
       " 48471: array([74., 92.]),\n",
       " 48472: array([74., 92.]),\n",
       " 48473: array([74., 92.]),\n",
       " 48474: array([74., 92.]),\n",
       " 48475: array([74., 92.]),\n",
       " 48476: array([74., 92.]),\n",
       " 48477: array([74., 92.]),\n",
       " 48478: array([74., 92.]),\n",
       " 48479: array([74., 92.]),\n",
       " 48482: array([74., 92.]),\n",
       " 48483: array([74., 92.]),\n",
       " 48484: array([74., 92.]),\n",
       " 48485: array([74., 92.]),\n",
       " 48486: array([74., 92.]),\n",
       " 48487: array([74., 92.]),\n",
       " 48488: array([74., 92.]),\n",
       " 48491: array([74., 92.]),\n",
       " 48492: array([74., 92.]),\n",
       " 48493: array([74., 92.]),\n",
       " 48494: array([74., 92.]),\n",
       " 48495: array([74., 92.]),\n",
       " 48496: array([74., 92.]),\n",
       " 48497: array([74., 92.]),\n",
       " 48498: array([74., 92.]),\n",
       " 48499: array([74., 92.]),\n",
       " 48500: array([74., 92.]),\n",
       " 48501: array([74., 92.]),\n",
       " 48502: array([74., 92.]),\n",
       " 48503: array([74., 92.]),\n",
       " 48504: array([74., 92.]),\n",
       " 48505: array([74., 92.]),\n",
       " 48506: array([74., 92.]),\n",
       " 48507: array([74., 92.]),\n",
       " 48508: array([74., 92.]),\n",
       " 48509: array([74., 92.]),\n",
       " 48510: array([74., 92.]),\n",
       " 48511: array([74., 92.]),\n",
       " 48512: array([74., 92.]),\n",
       " 48515: array([74., 92.]),\n",
       " 48516: array([74., 92.]),\n",
       " 48517: array([74., 92.]),\n",
       " 48518: array([74., 92.]),\n",
       " 48519: array([74., 92.]),\n",
       " 48520: array([74., 92.]),\n",
       " 48521: array([74., 92.]),\n",
       " 48522: array([74., 92.]),\n",
       " 48523: array([74., 92.]),\n",
       " 48524: array([74., 92.]),\n",
       " 48527: array([74., 92.]),\n",
       " 48528: array([74., 92.]),\n",
       " 48529: array([74., 92.]),\n",
       " 48530: array([74., 92.]),\n",
       " 48531: array([74., 92.]),\n",
       " 48532: array([74., 92.]),\n",
       " 48533: array([10., 58.]),\n",
       " 48534: array([10., 58.]),\n",
       " 48535: array([10., 58.]),\n",
       " 48536: array([10., 58.]),\n",
       " 48537: array([10., 58.]),\n",
       " 48538: array([10., 58.]),\n",
       " 48539: array([10., 58.]),\n",
       " 48540: array([10., 58.]),\n",
       " 48541: array([10., 58.]),\n",
       " 48542: array([10., 58.]),\n",
       " 48543: array([10., 58.]),\n",
       " 48544: array([10., 58.]),\n",
       " 48545: array([10., 58.]),\n",
       " 48546: array([10., 58.]),\n",
       " 48547: array([10., 58.]),\n",
       " 48548: array([10., 58.]),\n",
       " 48549: array([10., 58.]),\n",
       " 48550: array([10., 58.]),\n",
       " 48551: array([10., 58.]),\n",
       " 48552: array([10., 58.]),\n",
       " 48553: array([10., 58.]),\n",
       " 48554: array([10., 58.]),\n",
       " 48555: array([10., 58.]),\n",
       " 48556: array([10., 58.]),\n",
       " 48557: array([10., 58.]),\n",
       " 48558: array([10., 58.]),\n",
       " 48559: array([10., 58.]),\n",
       " 48560: array([10., 58.]),\n",
       " 48561: array([10., 58.]),\n",
       " 48562: array([10., 58.]),\n",
       " 48563: array([10., 58.]),\n",
       " 48564: array([10., 58.]),\n",
       " 48565: array([10., 58.]),\n",
       " 48566: array([10., 58.]),\n",
       " 48567: array([10., 58.]),\n",
       " 48569: array([10., 58.]),\n",
       " 48570: array([10., 58.]),\n",
       " 48571: array([10., 58.]),\n",
       " 48572: array([10., 58.]),\n",
       " 48573: array([10., 58.]),\n",
       " 48574: array([10., 58.]),\n",
       " 48575: array([10., 58.]),\n",
       " 48576: array([10., 58.]),\n",
       " 48577: array([10., 58.]),\n",
       " 48578: array([10., 58.]),\n",
       " 48579: array([10., 58.]),\n",
       " 48580: array([10., 58.]),\n",
       " 48581: array([10., 58.]),\n",
       " 48582: array([10., 58.]),\n",
       " 48583: array([10., 58.]),\n",
       " 48584: array([10., 58.]),\n",
       " 48585: array([10., 58.]),\n",
       " 48586: array([10., 58.]),\n",
       " 48587: array([10., 58.]),\n",
       " 48588: array([10., 58.]),\n",
       " 48590: array([10., 58.]),\n",
       " 48591: array([10., 58.]),\n",
       " 48593: array([10., 58.]),\n",
       " 48594: array([10., 58.]),\n",
       " 48595: array([10., 58.]),\n",
       " 48596: array([10., 58.]),\n",
       " 48597: array([10., 58.]),\n",
       " 48598: array([10., 58.]),\n",
       " 48599: array([10., 58.]),\n",
       " 48600: array([10., 58.]),\n",
       " 48601: array([10., 58.]),\n",
       " 48602: array([10., 58.]),\n",
       " 48603: array([10., 58.]),\n",
       " 48604: array([10., 58.]),\n",
       " 48605: array([10., 58.]),\n",
       " 48606: array([10., 58.]),\n",
       " 48607: array([10., 58.]),\n",
       " 48608: array([10., 58.]),\n",
       " 48609: array([10., 58.]),\n",
       " 48610: array([10., 58.]),\n",
       " 48611: array([10., 58.]),\n",
       " 48612: array([10., 58.]),\n",
       " 48613: array([10., 58.]),\n",
       " 48614: array([10., 58.]),\n",
       " 48615: array([10., 58.]),\n",
       " 48616: array([10., 58.]),\n",
       " 48617: array([10., 58.]),\n",
       " 48618: array([10., 58.]),\n",
       " 48619: array([10., 58.]),\n",
       " 48620: array([10., 58.]),\n",
       " 48621: array([10., 58.]),\n",
       " 48622: array([10., 58.]),\n",
       " 48623: array([10., 58.]),\n",
       " 48624: array([10., 58.]),\n",
       " 48625: array([10., 58.]),\n",
       " 48626: array([10., 58.]),\n",
       " 48627: array([10., 58.]),\n",
       " 48628: array([10., 58.]),\n",
       " 48629: array([10., 58.]),\n",
       " 48630: array([10., 58.]),\n",
       " 48631: array([10., 58.]),\n",
       " 48632: array([10., 58.]),\n",
       " 48633: array([10., 58.]),\n",
       " 48634: array([10., 58.]),\n",
       " 48635: array([10., 58.]),\n",
       " 48636: array([10., 58.]),\n",
       " 48638: array([10., 58.]),\n",
       " 48639: array([10., 58.]),\n",
       " 48640: array([10., 58.]),\n",
       " 48641: array([10., 58.]),\n",
       " 48642: array([10., 58.]),\n",
       " 48643: array([10., 58.]),\n",
       " 48644: array([10., 58.]),\n",
       " 48645: array([10., 58.]),\n",
       " 48646: array([10., 58.]),\n",
       " 48647: array([10., 58.]),\n",
       " 48648: array([10., 58.]),\n",
       " 48649: array([10., 58.]),\n",
       " 48650: array([10., 58.]),\n",
       " 48651: array([10., 58.]),\n",
       " 48652: array([10., 58.]),\n",
       " 48654: array([10., 58.]),\n",
       " 48655: array([10., 58.]),\n",
       " 48656: array([10., 58.]),\n",
       " 48657: array([10., 58.]),\n",
       " 48658: array([10., 58.]),\n",
       " 48659: array([10., 58.]),\n",
       " 48660: array([10., 58.]),\n",
       " 48661: array([10., 58.]),\n",
       " 48662: array([10., 58.]),\n",
       " 48663: array([10., 58.]),\n",
       " 48664: array([10., 58.]),\n",
       " 48665: array([10., 58.]),\n",
       " 48666: array([10., 58.]),\n",
       " 48667: array([10., 58.]),\n",
       " 48668: array([10., 58.]),\n",
       " 48669: array([10., 58.]),\n",
       " 48670: array([10., 58.]),\n",
       " 48671: array([10., 58.]),\n",
       " 48672: array([10., 58.]),\n",
       " 48673: array([10., 58.]),\n",
       " 48674: array([10., 58.]),\n",
       " 48675: array([10., 58.]),\n",
       " 48676: array([10., 58.]),\n",
       " 48677: array([10., 58.]),\n",
       " 48678: array([10., 58.]),\n",
       " 48679: array([10., 58.]),\n",
       " 48680: array([10., 58.]),\n",
       " 48681: array([10., 58.]),\n",
       " 48682: array([10., 58.]),\n",
       " 48683: array([10., 58.]),\n",
       " 48684: array([10., 58.]),\n",
       " 48685: array([10., 58.]),\n",
       " 48686: array([10., 58.]),\n",
       " 48687: array([10., 58.]),\n",
       " 48688: array([10., 58.]),\n",
       " 48689: array([10., 58.]),\n",
       " 48690: array([10., 58.]),\n",
       " 48691: array([10., 58.]),\n",
       " 48692: array([10., 58.]),\n",
       " 48693: array([10., 58.]),\n",
       " 48694: array([10., 58.]),\n",
       " 48695: array([10., 58.]),\n",
       " 48696: array([10., 58.]),\n",
       " 48698: array([10., 58.]),\n",
       " 48699: array([10., 58.]),\n",
       " 48700: array([10., 58.]),\n",
       " 48701: array([10., 58.]),\n",
       " 48702: array([10., 58.]),\n",
       " 48703: array([10., 58.]),\n",
       " 48704: array([10., 58.]),\n",
       " 48705: array([10., 58.]),\n",
       " 48706: array([10., 58.]),\n",
       " 48707: array([10., 58.]),\n",
       " 48708: array([10., 58.]),\n",
       " 48709: array([10., 58.]),\n",
       " 48710: array([10., 58.]),\n",
       " 48711: array([10., 58.]),\n",
       " 48712: array([10., 58.]),\n",
       " 48805: array([8.]),\n",
       " 48806: array([8.]),\n",
       " 48807: array([8.]),\n",
       " 48808: array([8.]),\n",
       " 48809: array([8.]),\n",
       " 48810: array([8.]),\n",
       " 48811: array([8.]),\n",
       " 48812: array([8.]),\n",
       " 48813: array([8.]),\n",
       " 48814: array([8.]),\n",
       " 48815: array([8.]),\n",
       " 48816: array([8.]),\n",
       " 48817: array([8.]),\n",
       " 48818: array([8.]),\n",
       " 48819: array([8.]),\n",
       " 48820: array([8.]),\n",
       " 48821: array([8.]),\n",
       " 48822: array([8.]),\n",
       " 48823: array([8.]),\n",
       " 48824: array([8.]),\n",
       " 48825: array([8.]),\n",
       " 48826: array([8.]),\n",
       " 48827: array([8.]),\n",
       " 48828: array([8.]),\n",
       " 48829: array([8.]),\n",
       " 48830: array([8.]),\n",
       " 48831: array([8.]),\n",
       " 48832: array([8.]),\n",
       " 48833: array([8.]),\n",
       " 48834: array([8.]),\n",
       " 48865: array([10., 12.]),\n",
       " 48869: array([10., 12.]),\n",
       " 48873: array([10., 12.]),\n",
       " 48877: array([10., 12.]),\n",
       " 48881: array([10., 12.]),\n",
       " 48885: array([10., 12.]),\n",
       " 48889: array([10., 12.]),\n",
       " 48893: array([10., 12.]),\n",
       " 48897: array([10., 12.]),\n",
       " 48901: array([10., 12.]),\n",
       " 49000: array([10., 12.]),\n",
       " 49004: array([10., 12.]),\n",
       " 49008: array([10., 12.]),\n",
       " 49012: array([10., 12.]),\n",
       " 49016: array([10., 12.]),\n",
       " 49020: array([10., 12.]),\n",
       " 49024: array([10., 12.]),\n",
       " 49028: array([10., 12.]),\n",
       " 49032: array([10., 12.]),\n",
       " 49036: array([10., 12.]),\n",
       " 49040: array([10., 12.]),\n",
       " 49044: array([10., 12.]),\n",
       " 49048: array([10., 12.]),\n",
       " 49052: array([10., 12.]),\n",
       " 49056: array([10., 12.]),\n",
       " 49060: array([10., 12.]),\n",
       " 49064: array([10., 12.]),\n",
       " 49068: array([10., 12.]),\n",
       " 49072: array([10., 12.]),\n",
       " 49076: array([10., 12.]),\n",
       " 49080: array([10., 13.]),\n",
       " 49083: array([10., 13.]),\n",
       " 49086: array([10., 13.]),\n",
       " 49092: array([10., 13.]),\n",
       " 49104: array([10., 13.]),\n",
       " 49107: array([10., 13.]),\n",
       " 49110: array([10., 13.]),\n",
       " 49113: array([10., 13.]),\n",
       " 49119: array([10., 13.]),\n",
       " 49122: array([10., 13.]),\n",
       " 49125: array([10., 13.]),\n",
       " 49128: array([10., 13.]),\n",
       " 49131: array([10., 13.]),\n",
       " 49137: array([10., 13.]),\n",
       " 49140: array([10., 13.]),\n",
       " 49146: array([10., 13.]),\n",
       " 49149: array([10., 13.]),\n",
       " 49152: array([10., 13.]),\n",
       " 49155: array([10., 13.]),\n",
       " 49158: array([10., 13.]),\n",
       " 49161: array([10., 13.]),\n",
       " 49164: array([10., 13.]),\n",
       " 49170: array([10., 15.]),\n",
       " 49173: array([10., 15.]),\n",
       " 49179: array([10., 15.]),\n",
       " 49182: array([10., 15.]),\n",
       " 49185: array([10., 15.]),\n",
       " 49188: array([10., 15.]),\n",
       " 49191: array([10., 15.]),\n",
       " 49197: array([10., 15.]),\n",
       " 49200: array([10., 15.]),\n",
       " 49203: array([10., 15.]),\n",
       " 49206: array([10., 15.]),\n",
       " 49209: array([10., 15.]),\n",
       " 49212: array([10., 15.]),\n",
       " 49218: array([10., 15.]),\n",
       " 49224: array([10., 15.]),\n",
       " 49227: array([10., 15.]),\n",
       " 49233: array([10., 15.]),\n",
       " 49236: array([10., 15.]),\n",
       " 49239: array([10., 15.]),\n",
       " 49242: array([10., 15.]),\n",
       " 49245: array([10., 15.]),\n",
       " 49248: array([10., 15.]),\n",
       " 49254: array([10., 15.]),\n",
       " 49257: array([10., 15.]),\n",
       " 49261: array([58.]),\n",
       " 49262: array([58.]),\n",
       " 49263: array([58.]),\n",
       " 49264: array([58.]),\n",
       " 49265: array([58.]),\n",
       " 49266: array([58.]),\n",
       " 49267: array([58.]),\n",
       " 49268: array([58.]),\n",
       " 49269: array([58.]),\n",
       " 49270: array([58.]),\n",
       " 49271: array([58.]),\n",
       " 49272: array([58.]),\n",
       " 49273: array([58.]),\n",
       " 49274: array([58.]),\n",
       " 49275: array([58.]),\n",
       " 49276: array([58.]),\n",
       " 49277: array([58.]),\n",
       " 49278: array([58.]),\n",
       " 49279: array([58.]),\n",
       " 49280: array([58.]),\n",
       " 49281: array([58.]),\n",
       " 49282: array([58.]),\n",
       " 49283: array([58.]),\n",
       " 49284: array([58.]),\n",
       " 49285: array([58.]),\n",
       " 49286: array([58.]),\n",
       " 49287: array([58.]),\n",
       " 49288: array([58.]),\n",
       " 49289: array([58.]),\n",
       " 49290: array([58.]),\n",
       " 49292: array([74., 92.]),\n",
       " 49293: array([74., 92.]),\n",
       " 49294: array([74., 92.]),\n",
       " 49295: array([74., 92.]),\n",
       " 49296: array([74., 92.]),\n",
       " 49297: array([74., 92.]),\n",
       " 49298: array([74., 92.]),\n",
       " 49299: array([74., 92.]),\n",
       " 49300: array([74., 92.]),\n",
       " 49301: array([74., 92.]),\n",
       " 49302: array([74., 92.]),\n",
       " 49303: array([74., 92.]),\n",
       " 49304: array([74., 92.]),\n",
       " 49305: array([74., 92.]),\n",
       " 49306: array([74., 92.]),\n",
       " 49307: array([74., 92.]),\n",
       " 49308: array([74., 92.]),\n",
       " 49309: array([74., 92.]),\n",
       " 49310: array([74., 92.]),\n",
       " 49311: array([74., 92.]),\n",
       " 49312: array([74., 92.]),\n",
       " 49313: array([74., 92.]),\n",
       " 49314: array([74., 92.]),\n",
       " 49315: array([74., 92.]),\n",
       " 49316: array([74., 92.]),\n",
       " 49317: array([74., 92.]),\n",
       " 49318: array([74., 92.]),\n",
       " 49319: array([74., 92.]),\n",
       " 49320: array([74., 92.]),\n",
       " 49321: array([74., 92.]),\n",
       " 49322: array([74., 92.]),\n",
       " 49323: array([74., 92.]),\n",
       " 49324: array([74., 92.]),\n",
       " 49325: array([74., 92.]),\n",
       " 49326: array([74., 92.]),\n",
       " 49327: array([74., 92.]),\n",
       " 49328: array([74., 92.]),\n",
       " 49329: array([74., 92.]),\n",
       " 49330: array([74., 92.]),\n",
       " 49331: array([74., 92.]),\n",
       " 49332: array([74., 92.]),\n",
       " 49333: array([74., 92.]),\n",
       " 49334: array([74., 92.]),\n",
       " 49335: array([74., 92.]),\n",
       " 49336: array([74., 92.]),\n",
       " 49337: array([74., 92.]),\n",
       " 49338: array([74., 92.]),\n",
       " 49339: array([74., 92.]),\n",
       " 49340: array([74., 92.]),\n",
       " 49341: array([74., 92.]),\n",
       " 49342: array([74., 92.]),\n",
       " 49343: array([74., 92.]),\n",
       " 49344: array([74., 92.]),\n",
       " 49345: array([74., 92.]),\n",
       " 49346: array([74., 92.]),\n",
       " 49347: array([74., 92.]),\n",
       " 49348: array([74., 92.]),\n",
       " 49349: array([74., 92.]),\n",
       " 49350: array([74., 92.]),\n",
       " 49351: array([74., 92.]),\n",
       " 49352: array([74., 92.]),\n",
       " 49353: array([74., 92.]),\n",
       " 49354: array([74., 92.]),\n",
       " 49358: array([74., 92.]),\n",
       " 49359: array([74., 92.]),\n",
       " 49360: array([74., 92.]),\n",
       " 49361: array([74., 92.]),\n",
       " 49362: array([74., 92.]),\n",
       " 49363: array([74., 92.]),\n",
       " 49364: array([74., 92.]),\n",
       " 49365: array([74., 92.]),\n",
       " 49366: array([74., 92.]),\n",
       " 49367: array([74., 92.]),\n",
       " 49368: array([74., 92.]),\n",
       " 49369: array([74., 92.]),\n",
       " 49370: array([74., 92.]),\n",
       " 49371: array([74., 92.]),\n",
       " 49372: array([74., 92.]),\n",
       " 49373: array([74., 92.]),\n",
       " 49374: array([74., 92.]),\n",
       " 49375: array([74., 92.]),\n",
       " 49376: array([74., 92.]),\n",
       " 49377: array([74., 92.]),\n",
       " 49378: array([74., 92.]),\n",
       " 49379: array([74., 92.]),\n",
       " 49380: array([74., 92.]),\n",
       " 49381: array([74., 92.]),\n",
       " 49682: array([323.]),\n",
       " 49683: array([323.]),\n",
       " 49684: array([323.]),\n",
       " 49685: array([323.]),\n",
       " 49686: array([323.]),\n",
       " 49687: array([323.]),\n",
       " 49688: array([323.]),\n",
       " 49689: array([323.]),\n",
       " 49690: array([323.]),\n",
       " 49691: array([323.]),\n",
       " 49692: array([323.]),\n",
       " 49693: array([323.]),\n",
       " 49694: array([323.]),\n",
       " 49695: array([323.]),\n",
       " 49696: array([323.]),\n",
       " 49697: array([323.]),\n",
       " 49698: array([323.]),\n",
       " 49699: array([323.]),\n",
       " 49700: array([323.]),\n",
       " 49701: array([323.]),\n",
       " 49702: array([323.]),\n",
       " 49703: array([323.]),\n",
       " 49704: array([323.]),\n",
       " 49705: array([323.]),\n",
       " 49706: array([323.]),\n",
       " 49707: array([323.]),\n",
       " 49708: array([323.]),\n",
       " 49709: array([323.]),\n",
       " 49710: array([323.]),\n",
       " 49711: array([323.]),\n",
       " 49712: array([323.]),\n",
       " 49713: array([323.]),\n",
       " 49714: array([323.]),\n",
       " 49715: array([323.]),\n",
       " 49716: array([323.]),\n",
       " 49717: array([323.]),\n",
       " 49718: array([323.]),\n",
       " 49719: array([323.]),\n",
       " 49720: array([323.]),\n",
       " 49721: array([323.]),\n",
       " 49722: array([323.]),\n",
       " 49723: array([323.]),\n",
       " 49724: array([323.]),\n",
       " 49725: array([323.]),\n",
       " 49726: array([323.]),\n",
       " 49727: array([323.]),\n",
       " 49728: array([323.]),\n",
       " 49729: array([323.]),\n",
       " 49730: array([323.]),\n",
       " 49731: array([323.]),\n",
       " 49732: array([323.]),\n",
       " 49733: array([323.]),\n",
       " 49734: array([323.]),\n",
       " 49735: array([323.]),\n",
       " 49736: array([323.]),\n",
       " 49737: array([323.]),\n",
       " 49738: array([323.]),\n",
       " 49739: array([323.]),\n",
       " 49740: array([323.]),\n",
       " 49741: array([323.]),\n",
       " 50709: array([10., 14.]),\n",
       " 50715: array([10., 14.]),\n",
       " 50718: array([10., 14.]),\n",
       " 50721: array([10., 14.]),\n",
       " 50727: array([10., 14.]),\n",
       " 50730: array([10., 14.]),\n",
       " 50733: array([10., 14.]),\n",
       " 50739: array([10., 14.]),\n",
       " 50742: array([10., 14.]),\n",
       " 50748: array([10., 14.]),\n",
       " 50751: array([10., 14.]),\n",
       " 50757: array([10., 14.]),\n",
       " 50760: array([10., 14.]),\n",
       " 50766: array([10., 14.]),\n",
       " 50769: array([10., 14.]),\n",
       " 50772: array([10., 14.]),\n",
       " 50775: array([10., 14.]),\n",
       " 50778: array([10., 14.]),\n",
       " 50781: array([10., 14.]),\n",
       " 50784: array([10., 14.]),\n",
       " 50787: array([10., 14.]),\n",
       " 50793: array([10., 14.]),\n",
       " 50796: array([10., 14.]),\n",
       " 50803: array([10., 12.]),\n",
       " 50815: array([10., 12.]),\n",
       " 50819: array([10., 12.]),\n",
       " 50827: array([10., 12.]),\n",
       " 50831: array([10., 12.]),\n",
       " 50835: array([10., 12.]),\n",
       " 50855: array([10., 12.]),\n",
       " 50859: array([10., 12.]),\n",
       " 50863: array([10., 12.]),\n",
       " 50867: array([10., 12.]),\n",
       " 50875: array([10., 12.]),\n",
       " 50879: array([10., 12.]),\n",
       " 50883: array([10., 12.]),\n",
       " 50895: array([10., 12.]),\n",
       " 50899: array([10., 12.]),\n",
       " 50903: array([10., 12.]),\n",
       " 50911: array([10., 12.]),\n",
       " 50982: array([310.]),\n",
       " 50983: array([310.]),\n",
       " 50984: array([310.]),\n",
       " 50985: array([310.]),\n",
       " 50986: array([310.]),\n",
       " 50987: array([310.]),\n",
       " 50988: array([310.]),\n",
       " 50989: array([310.]),\n",
       " 50990: array([310.]),\n",
       " 50991: array([310.]),\n",
       " 50992: array([310.]),\n",
       " 50993: array([310.]),\n",
       " 50994: array([310.]),\n",
       " 50995: array([310.]),\n",
       " 50996: array([310.]),\n",
       " 50997: array([310.]),\n",
       " 50998: array([310.]),\n",
       " 50999: array([310.]),\n",
       " 51000: array([310.]),\n",
       " 51001: array([310.]),\n",
       " 51002: array([310.]),\n",
       " 51003: array([310.]),\n",
       " 51004: array([310.]),\n",
       " 51005: array([310.]),\n",
       " 51006: array([310.]),\n",
       " 51007: array([310.]),\n",
       " 51008: array([310.]),\n",
       " 51009: array([310.]),\n",
       " 51010: array([310.]),\n",
       " 51011: array([310.]),\n",
       " 51012: array([310.]),\n",
       " 51016: array([310.]),\n",
       " 51017: array([310.]),\n",
       " 51018: array([310.]),\n",
       " 51019: array([310.]),\n",
       " 51020: array([310.]),\n",
       " 51021: array([310.]),\n",
       " 51022: array([310.]),\n",
       " 51023: array([310.]),\n",
       " 51024: array([310.]),\n",
       " 51025: array([310.]),\n",
       " 51026: array([310.]),\n",
       " 51027: array([310.]),\n",
       " 51028: array([310.]),\n",
       " 51029: array([310.]),\n",
       " 51030: array([310.]),\n",
       " 51031: array([310.]),\n",
       " 51032: array([310.]),\n",
       " 51033: array([310.]),\n",
       " 51034: array([310.]),\n",
       " 51035: array([310.]),\n",
       " 51036: array([310.]),\n",
       " 51037: array([310.]),\n",
       " 51038: array([310.]),\n",
       " 51039: array([310.]),\n",
       " 51040: array([310.]),\n",
       " 51041: array([310.]),\n",
       " 51042: array([310.]),\n",
       " 51043: array([310.]),\n",
       " 51044: array([310.]),\n",
       " 51045: array([310.]),\n",
       " 51046: array([310.]),\n",
       " 51047: array([310.]),\n",
       " 51048: array([310.]),\n",
       " 51049: array([310.]),\n",
       " 51050: array([310.]),\n",
       " 51051: array([310.]),\n",
       " 51052: array([310.]),\n",
       " 51053: array([310.]),\n",
       " 51054: array([310.]),\n",
       " 51055: array([310.]),\n",
       " 51056: array([310.]),\n",
       " 51057: array([310.]),\n",
       " 51058: array([310.]),\n",
       " 51059: array([310.]),\n",
       " 51060: array([310.]),\n",
       " 51061: array([310.]),\n",
       " 51062: array([310.]),\n",
       " 51063: array([310.]),\n",
       " 51064: array([310.]),\n",
       " 51065: array([310.]),\n",
       " 51066: array([310.]),\n",
       " 51067: array([310.]),\n",
       " 51068: array([310.]),\n",
       " 51069: array([310.]),\n",
       " 51070: array([310.]),\n",
       " 51071: array([310.]),\n",
       " 51072: array([310.]),\n",
       " 51073: array([310.]),\n",
       " 51074: array([310.]),\n",
       " 51075: array([310.]),\n",
       " 51076: array([310.]),\n",
       " 51077: array([310.]),\n",
       " 51078: array([310.]),\n",
       " 51079: array([310.]),\n",
       " 51080: array([310.]),\n",
       " 51081: array([310.]),\n",
       " 51082: array([310.]),\n",
       " 51083: array([310.]),\n",
       " 51084: array([310.]),\n",
       " 51085: array([310.]),\n",
       " 51086: array([310.]),\n",
       " 51087: array([310.]),\n",
       " 51088: array([310.]),\n",
       " 51089: array([310.]),\n",
       " 51090: array([310.]),\n",
       " 51091: array([310.]),\n",
       " 51092: array([310.]),\n",
       " 51093: array([310.]),\n",
       " 51094: array([310.]),\n",
       " 51095: array([310.]),\n",
       " 51096: array([310.]),\n",
       " 51097: array([310.]),\n",
       " 51098: array([310.]),\n",
       " 51099: array([310.]),\n",
       " 51100: array([310.]),\n",
       " 51101: array([310.]),\n",
       " 51102: array([310.]),\n",
       " 51103: array([310.]),\n",
       " 51104: array([310.]),\n",
       " 51105: array([310.]),\n",
       " 51106: array([310.]),\n",
       " 51107: array([310.]),\n",
       " 51108: array([310.]),\n",
       " 51109: array([310.]),\n",
       " 51110: array([310.]),\n",
       " 51111: array([310.]),\n",
       " 51112: array([310.]),\n",
       " 51113: array([310.]),\n",
       " 51114: array([310.]),\n",
       " 51115: array([310.]),\n",
       " 51116: array([310.]),\n",
       " 51117: array([310.]),\n",
       " 51118: array([310.]),\n",
       " 51119: array([310.]),\n",
       " 51120: array([310.]),\n",
       " 51121: array([310.]),\n",
       " 51122: array([310.]),\n",
       " 51123: array([310.]),\n",
       " 51124: array([310.]),\n",
       " 51125: array([310.]),\n",
       " 51126: array([310.]),\n",
       " 51127: array([310.]),\n",
       " 51128: array([310.]),\n",
       " 51129: array([310.]),\n",
       " 51130: array([310.]),\n",
       " 51131: array([310.]),\n",
       " 51132: array([309.]),\n",
       " 51135: array([309.]),\n",
       " 51138: array([309.]),\n",
       " 51141: array([309.]),\n",
       " 51144: array([309.]),\n",
       " 51147: array([309.]),\n",
       " 51150: array([309.]),\n",
       " 51153: array([309.]),\n",
       " 51156: array([309.]),\n",
       " 51159: array([309.]),\n",
       " 51162: array([309.]),\n",
       " 51165: array([309.]),\n",
       " 51168: array([309.]),\n",
       " 51171: array([309.]),\n",
       " 51174: array([309.]),\n",
       " 51177: array([309.]),\n",
       " 51180: array([309.]),\n",
       " 51183: array([309.]),\n",
       " 51186: array([309.]),\n",
       " 51189: array([309.]),\n",
       " 51192: array([309.]),\n",
       " 51195: array([309.]),\n",
       " 51198: array([309.]),\n",
       " 51201: array([309.]),\n",
       " 51204: array([309.]),\n",
       " 51207: array([309.]),\n",
       " 51210: array([309.]),\n",
       " 51213: array([309.]),\n",
       " 51216: array([309.]),\n",
       " 51219: array([309.]),\n",
       " 51312: array([4.]),\n",
       " 51313: array([4.]),\n",
       " 51314: array([4.]),\n",
       " 51315: array([4.]),\n",
       " 51316: array([4.]),\n",
       " ...}"
      ]
     },
     "metadata": {},
     "execution_count": 30
    }
   ],
   "source": [
    "qk"
   ]
  },
  {
   "cell_type": "code",
   "execution_count": 44,
   "metadata": {},
   "outputs": [
    {
     "output_type": "execute_result",
     "data": {
      "text/plain": [
       "        user_id  problem_id  skill_id  overlap_time\n",
       "20436     77994       48066      10.0         43252\n",
       "20698     78046       48066      10.0         34991\n",
       "20760     78051       48066      10.0         13720\n",
       "20849     78418       48066      10.0         29611\n",
       "20921     78452       48066      10.0         31405\n",
       "20964     78455       48066      10.0         18023\n",
       "20972     78456       48066      10.0         58617\n",
       "20983     78457       48066      10.0         34463\n",
       "21987     78989       48066      10.0         98262\n",
       "22606     79066       48066      10.0         17728\n",
       "23775     80174       48066      10.0         14078\n",
       "24054     82162       48066      10.0         40391\n",
       "24479     86510       48066      10.0          3711\n",
       "25656     96253       48066      10.0         98262\n",
       "26231     96288       48066      10.0         17728\n",
       "162936    77994       48066      64.0         43252\n",
       "162989    78046       48066      64.0         34991\n",
       "162997    78051       48066      64.0         13720\n",
       "163024    78418       48066      64.0         29611\n",
       "163059    78452       48066      64.0         31405\n",
       "163084    78455       48066      64.0         18023\n",
       "163089    78456       48066      64.0         58617\n",
       "163095    78457       48066      64.0         34463\n",
       "163190    78989       48066      64.0         98262\n",
       "163236    79066       48066      64.0         17728\n",
       "163322    80174       48066      64.0         14078\n",
       "163349    82162       48066      64.0         40391\n",
       "163373    86510       48066      64.0          3711\n",
       "163441    96253       48066      64.0         98262\n",
       "163484    96288       48066      64.0         17728"
      ],
      "text/html": "<div>\n<style scoped>\n    .dataframe tbody tr th:only-of-type {\n        vertical-align: middle;\n    }\n\n    .dataframe tbody tr th {\n        vertical-align: top;\n    }\n\n    .dataframe thead th {\n        text-align: right;\n    }\n</style>\n<table border=\"1\" class=\"dataframe\">\n  <thead>\n    <tr style=\"text-align: right;\">\n      <th></th>\n      <th>user_id</th>\n      <th>problem_id</th>\n      <th>skill_id</th>\n      <th>overlap_time</th>\n    </tr>\n  </thead>\n  <tbody>\n    <tr>\n      <th>20436</th>\n      <td>77994</td>\n      <td>48066</td>\n      <td>10.0</td>\n      <td>43252</td>\n    </tr>\n    <tr>\n      <th>20698</th>\n      <td>78046</td>\n      <td>48066</td>\n      <td>10.0</td>\n      <td>34991</td>\n    </tr>\n    <tr>\n      <th>20760</th>\n      <td>78051</td>\n      <td>48066</td>\n      <td>10.0</td>\n      <td>13720</td>\n    </tr>\n    <tr>\n      <th>20849</th>\n      <td>78418</td>\n      <td>48066</td>\n      <td>10.0</td>\n      <td>29611</td>\n    </tr>\n    <tr>\n      <th>20921</th>\n      <td>78452</td>\n      <td>48066</td>\n      <td>10.0</td>\n      <td>31405</td>\n    </tr>\n    <tr>\n      <th>20964</th>\n      <td>78455</td>\n      <td>48066</td>\n      <td>10.0</td>\n      <td>18023</td>\n    </tr>\n    <tr>\n      <th>20972</th>\n      <td>78456</td>\n      <td>48066</td>\n      <td>10.0</td>\n      <td>58617</td>\n    </tr>\n    <tr>\n      <th>20983</th>\n      <td>78457</td>\n      <td>48066</td>\n      <td>10.0</td>\n      <td>34463</td>\n    </tr>\n    <tr>\n      <th>21987</th>\n      <td>78989</td>\n      <td>48066</td>\n      <td>10.0</td>\n      <td>98262</td>\n    </tr>\n    <tr>\n      <th>22606</th>\n      <td>79066</td>\n      <td>48066</td>\n      <td>10.0</td>\n      <td>17728</td>\n    </tr>\n    <tr>\n      <th>23775</th>\n      <td>80174</td>\n      <td>48066</td>\n      <td>10.0</td>\n      <td>14078</td>\n    </tr>\n    <tr>\n      <th>24054</th>\n      <td>82162</td>\n      <td>48066</td>\n      <td>10.0</td>\n      <td>40391</td>\n    </tr>\n    <tr>\n      <th>24479</th>\n      <td>86510</td>\n      <td>48066</td>\n      <td>10.0</td>\n      <td>3711</td>\n    </tr>\n    <tr>\n      <th>25656</th>\n      <td>96253</td>\n      <td>48066</td>\n      <td>10.0</td>\n      <td>98262</td>\n    </tr>\n    <tr>\n      <th>26231</th>\n      <td>96288</td>\n      <td>48066</td>\n      <td>10.0</td>\n      <td>17728</td>\n    </tr>\n    <tr>\n      <th>162936</th>\n      <td>77994</td>\n      <td>48066</td>\n      <td>64.0</td>\n      <td>43252</td>\n    </tr>\n    <tr>\n      <th>162989</th>\n      <td>78046</td>\n      <td>48066</td>\n      <td>64.0</td>\n      <td>34991</td>\n    </tr>\n    <tr>\n      <th>162997</th>\n      <td>78051</td>\n      <td>48066</td>\n      <td>64.0</td>\n      <td>13720</td>\n    </tr>\n    <tr>\n      <th>163024</th>\n      <td>78418</td>\n      <td>48066</td>\n      <td>64.0</td>\n      <td>29611</td>\n    </tr>\n    <tr>\n      <th>163059</th>\n      <td>78452</td>\n      <td>48066</td>\n      <td>64.0</td>\n      <td>31405</td>\n    </tr>\n    <tr>\n      <th>163084</th>\n      <td>78455</td>\n      <td>48066</td>\n      <td>64.0</td>\n      <td>18023</td>\n    </tr>\n    <tr>\n      <th>163089</th>\n      <td>78456</td>\n      <td>48066</td>\n      <td>64.0</td>\n      <td>58617</td>\n    </tr>\n    <tr>\n      <th>163095</th>\n      <td>78457</td>\n      <td>48066</td>\n      <td>64.0</td>\n      <td>34463</td>\n    </tr>\n    <tr>\n      <th>163190</th>\n      <td>78989</td>\n      <td>48066</td>\n      <td>64.0</td>\n      <td>98262</td>\n    </tr>\n    <tr>\n      <th>163236</th>\n      <td>79066</td>\n      <td>48066</td>\n      <td>64.0</td>\n      <td>17728</td>\n    </tr>\n    <tr>\n      <th>163322</th>\n      <td>80174</td>\n      <td>48066</td>\n      <td>64.0</td>\n      <td>14078</td>\n    </tr>\n    <tr>\n      <th>163349</th>\n      <td>82162</td>\n      <td>48066</td>\n      <td>64.0</td>\n      <td>40391</td>\n    </tr>\n    <tr>\n      <th>163373</th>\n      <td>86510</td>\n      <td>48066</td>\n      <td>64.0</td>\n      <td>3711</td>\n    </tr>\n    <tr>\n      <th>163441</th>\n      <td>96253</td>\n      <td>48066</td>\n      <td>64.0</td>\n      <td>98262</td>\n    </tr>\n    <tr>\n      <th>163484</th>\n      <td>96288</td>\n      <td>48066</td>\n      <td>64.0</td>\n      <td>17728</td>\n    </tr>\n  </tbody>\n</table>\n</div>"
     },
     "metadata": {},
     "execution_count": 44
    }
   ],
   "source": [
    "df.loc[(df['problem_id'] == 48066)][[\"user_id\",\"problem_id\",\"skill_id\",\"overlap_time\"]]\n"
   ]
  },
  {
   "cell_type": "code",
   "execution_count": null,
   "metadata": {},
   "outputs": [],
   "source": []
  },
  {
   "cell_type": "code",
   "execution_count": null,
   "metadata": {},
   "outputs": [],
   "source": []
  },
  {
   "cell_type": "code",
   "execution_count": null,
   "metadata": {},
   "outputs": [],
   "source": []
  },
  {
   "cell_type": "code",
   "execution_count": null,
   "metadata": {},
   "outputs": [],
   "source": []
  },
  {
   "cell_type": "code",
   "execution_count": null,
   "metadata": {},
   "outputs": [],
   "source": []
  },
  {
   "cell_type": "code",
   "execution_count": null,
   "metadata": {},
   "outputs": [],
   "source": []
  },
  {
   "cell_type": "code",
   "execution_count": null,
   "metadata": {},
   "outputs": [],
   "source": []
  },
  {
   "cell_type": "code",
   "execution_count": null,
   "metadata": {},
   "outputs": [],
   "source": []
  },
  {
   "cell_type": "code",
   "execution_count": null,
   "metadata": {},
   "outputs": [],
   "source": []
  },
  {
   "cell_type": "code",
   "execution_count": null,
   "metadata": {},
   "outputs": [],
   "source": []
  },
  {
   "cell_type": "code",
   "execution_count": null,
   "metadata": {},
   "outputs": [],
   "source": []
  },
  {
   "cell_type": "code",
   "execution_count": null,
   "metadata": {},
   "outputs": [],
   "source": []
  },
  {
   "cell_type": "code",
   "execution_count": null,
   "metadata": {},
   "outputs": [],
   "source": []
  },
  {
   "cell_type": "code",
   "execution_count": null,
   "metadata": {},
   "outputs": [],
   "source": []
  },
  {
   "cell_type": "code",
   "execution_count": null,
   "metadata": {},
   "outputs": [],
   "source": []
  },
  {
   "cell_type": "code",
   "execution_count": null,
   "metadata": {},
   "outputs": [],
   "source": []
  },
  {
   "cell_type": "code",
   "execution_count": null,
   "metadata": {},
   "outputs": [],
   "source": []
  },
  {
   "cell_type": "code",
   "execution_count": null,
   "metadata": {},
   "outputs": [],
   "source": []
  },
  {
   "cell_type": "code",
   "execution_count": 23,
   "metadata": {},
   "outputs": [
    {
     "output_type": "execute_result",
     "data": {
      "text/plain": [
       "1"
      ]
     },
     "metadata": {},
     "execution_count": 23
    }
   ],
   "source": [
    "len(dfg.get_group(83)[\"skill_id\"].unique())"
   ]
  },
  {
   "cell_type": "code",
   "execution_count": null,
   "metadata": {},
   "outputs": [],
   "source": []
  },
  {
   "cell_type": "code",
   "execution_count": null,
   "metadata": {},
   "outputs": [],
   "source": []
  },
  {
   "cell_type": "code",
   "execution_count": null,
   "metadata": {},
   "outputs": [],
   "source": []
  },
  {
   "cell_type": "code",
   "execution_count": null,
   "metadata": {},
   "outputs": [],
   "source": []
  },
  {
   "cell_type": "code",
   "execution_count": null,
   "metadata": {},
   "outputs": [],
   "source": []
  },
  {
   "cell_type": "code",
   "execution_count": 12,
   "metadata": {},
   "outputs": [
    {
     "output_type": "error",
     "ename": "NameError",
     "evalue": "name 'dfg' is not defined",
     "traceback": [
      "\u001b[0;31m---------------------------------------------------------------------------\u001b[0m",
      "\u001b[0;31mNameError\u001b[0m                                 Traceback (most recent call last)",
      "\u001b[0;32m<ipython-input-12-01c5509b3830>\u001b[0m in \u001b[0;36m<module>\u001b[0;34m\u001b[0m\n\u001b[0;32m----> 1\u001b[0;31m \u001b[0mg1\u001b[0m \u001b[0;34m=\u001b[0m \u001b[0mdfg\u001b[0m\u001b[0;34m.\u001b[0m\u001b[0mget_group\u001b[0m\u001b[0;34m(\u001b[0m\u001b[0;34m\"83\"\u001b[0m\u001b[0;34m)\u001b[0m\u001b[0;34m\u001b[0m\u001b[0;34m\u001b[0m\u001b[0m\n\u001b[0m\u001b[1;32m      2\u001b[0m \u001b[0mg1\u001b[0m\u001b[0;34m\u001b[0m\u001b[0;34m\u001b[0m\u001b[0m\n",
      "\u001b[0;31mNameError\u001b[0m: name 'dfg' is not defined"
     ]
    }
   ],
   "source": [
    "g1 = dfg.get_group(\"83\")\n",
    "g1"
   ]
  },
  {
   "cell_type": "code",
   "execution_count": null,
   "metadata": {},
   "outputs": [],
   "source": []
  },
  {
   "cell_type": "code",
   "execution_count": null,
   "metadata": {},
   "outputs": [],
   "source": []
  },
  {
   "cell_type": "code",
   "execution_count": 35,
   "metadata": {},
   "outputs": [
    {
     "output_type": "error",
     "ename": "AttributeError",
     "evalue": "'DataFrame' object has no attribute 'unique'",
     "traceback": [
      "\u001b[0;31m---------------------------------------------------------------------------\u001b[0m",
      "\u001b[0;31mAttributeError\u001b[0m                            Traceback (most recent call last)",
      "\u001b[0;32m<ipython-input-35-ca78f7b73dc1>\u001b[0m in \u001b[0;36m<module>\u001b[0;34m\u001b[0m\n\u001b[0;32m----> 1\u001b[0;31m \u001b[0mdf\u001b[0m\u001b[0;34m.\u001b[0m\u001b[0munique\u001b[0m\u001b[0;34m(\u001b[0m\u001b[0;34m[\u001b[0m\u001b[0;34m\"exercise_id\"\u001b[0m\u001b[0;34m,\u001b[0m\u001b[0;34m\"skill_id\"\u001b[0m\u001b[0;34m]\u001b[0m\u001b[0;34m)\u001b[0m\u001b[0;34m\u001b[0m\u001b[0;34m\u001b[0m\u001b[0m\n\u001b[0m",
      "\u001b[0;32m~/.pyenv/versions/3.8.6/lib/python3.8/site-packages/pandas/core/generic.py\u001b[0m in \u001b[0;36m__getattr__\u001b[0;34m(self, name)\u001b[0m\n\u001b[1;32m   5137\u001b[0m             \u001b[0;32mif\u001b[0m \u001b[0mself\u001b[0m\u001b[0;34m.\u001b[0m\u001b[0m_info_axis\u001b[0m\u001b[0;34m.\u001b[0m\u001b[0m_can_hold_identifiers_and_holds_name\u001b[0m\u001b[0;34m(\u001b[0m\u001b[0mname\u001b[0m\u001b[0;34m)\u001b[0m\u001b[0;34m:\u001b[0m\u001b[0;34m\u001b[0m\u001b[0;34m\u001b[0m\u001b[0m\n\u001b[1;32m   5138\u001b[0m                 \u001b[0;32mreturn\u001b[0m \u001b[0mself\u001b[0m\u001b[0;34m[\u001b[0m\u001b[0mname\u001b[0m\u001b[0;34m]\u001b[0m\u001b[0;34m\u001b[0m\u001b[0;34m\u001b[0m\u001b[0m\n\u001b[0;32m-> 5139\u001b[0;31m             \u001b[0;32mreturn\u001b[0m \u001b[0mobject\u001b[0m\u001b[0;34m.\u001b[0m\u001b[0m__getattribute__\u001b[0m\u001b[0;34m(\u001b[0m\u001b[0mself\u001b[0m\u001b[0;34m,\u001b[0m \u001b[0mname\u001b[0m\u001b[0;34m)\u001b[0m\u001b[0;34m\u001b[0m\u001b[0;34m\u001b[0m\u001b[0m\n\u001b[0m\u001b[1;32m   5140\u001b[0m \u001b[0;34m\u001b[0m\u001b[0m\n\u001b[1;32m   5141\u001b[0m     \u001b[0;32mdef\u001b[0m \u001b[0m__setattr__\u001b[0m\u001b[0;34m(\u001b[0m\u001b[0mself\u001b[0m\u001b[0;34m,\u001b[0m \u001b[0mname\u001b[0m\u001b[0;34m:\u001b[0m \u001b[0mstr\u001b[0m\u001b[0;34m,\u001b[0m \u001b[0mvalue\u001b[0m\u001b[0;34m)\u001b[0m \u001b[0;34m->\u001b[0m \u001b[0;32mNone\u001b[0m\u001b[0;34m:\u001b[0m\u001b[0;34m\u001b[0m\u001b[0;34m\u001b[0m\u001b[0m\n",
      "\u001b[0;31mAttributeError\u001b[0m: 'DataFrame' object has no attribute 'unique'"
     ]
    }
   ],
   "source": []
  },
  {
   "cell_type": "code",
   "execution_count": null,
   "metadata": {},
   "outputs": [],
   "source": []
  },
  {
   "cell_type": "code",
   "execution_count": null,
   "metadata": {},
   "outputs": [],
   "source": []
  },
  {
   "cell_type": "code",
   "execution_count": null,
   "metadata": {},
   "outputs": [],
   "source": []
  },
  {
   "cell_type": "code",
   "execution_count": null,
   "metadata": {},
   "outputs": [],
   "source": []
  },
  {
   "cell_type": "code",
   "execution_count": null,
   "metadata": {},
   "outputs": [],
   "source": []
  },
  {
   "cell_type": "code",
   "execution_count": null,
   "metadata": {},
   "outputs": [],
   "source": []
  },
  {
   "cell_type": "code",
   "execution_count": null,
   "metadata": {},
   "outputs": [],
   "source": []
  },
  {
   "cell_type": "code",
   "execution_count": null,
   "metadata": {},
   "outputs": [],
   "source": []
  },
  {
   "cell_type": "code",
   "execution_count": null,
   "metadata": {},
   "outputs": [],
   "source": []
  },
  {
   "cell_type": "code",
   "execution_count": null,
   "metadata": {},
   "outputs": [],
   "source": []
  },
  {
   "cell_type": "code",
   "execution_count": null,
   "metadata": {},
   "outputs": [],
   "source": []
  },
  {
   "cell_type": "code",
   "execution_count": null,
   "metadata": {},
   "outputs": [],
   "source": []
  },
  {
   "cell_type": "code",
   "execution_count": null,
   "metadata": {},
   "outputs": [],
   "source": []
  },
  {
   "cell_type": "code",
   "execution_count": null,
   "metadata": {},
   "outputs": [],
   "source": []
  },
  {
   "cell_type": "code",
   "execution_count": null,
   "metadata": {},
   "outputs": [],
   "source": []
  },
  {
   "cell_type": "code",
   "execution_count": null,
   "metadata": {},
   "outputs": [],
   "source": []
  },
  {
   "cell_type": "code",
   "execution_count": 27,
   "metadata": {},
   "outputs": [
    {
     "output_type": "execute_result",
     "data": {
      "text/plain": [
       "{(83, 63.0): [161864, 161871, 161894, 162020], (84, 79.0): [220560, 220566, 221073, 222753], (85, 48.0): [127938, 127941, 127945, 127957, 129325], (86, 48.0): [127937, 127939, 127940, 127943, 127944, 127947, 127956, 127958, 127962, 129324], (86, 63.0): [161863, 161865, 161866, 161868, 161870, 161875, 161893, 161895, 161901, 162019], (86, 79.0): [220559, 220561, 220562, 220564, 220565, 220568, 221072, 221074, 221078, 222752], (249, 63.0): [161900], (250, 79.0): [221077], (251, 48.0): [127961], (252, 48.0): [127942, 127946, 127948, 127959, 127960], (252, 63.0): [161867, 161874, 161876, 161898, 161899], (252, 70.0): [173357, 173363, 185108, 186770, 186777], (252, 79.0): [220563, 220567, 221046, 221075, 221076], (807, 70.0): [173348, 173353, 173367, 186761, 186765, 186772, 186779, 190036], (808, 70.0): [173349, 173354, 186762, 186766, 186773, 186780, 190037], (809, 70.0): [173350, 173355, 173368, 186763, 186767, 186774, 186781, 190038], (810, 70.0): [173347, 173352, 173364, 173366, 186760, 186764, 186771, 186778, 190035], (847, 77.0): [212907, 215553, 216352], (848, 77.0): [212908, 215554, 216353], (849, 77.0): [212626, 212906, 215552, 216351], (1080, 70.0): [173351, 173356, 173358, 173360, 173362, 173365, 173369, 173370, 186768, 186775, 186776, 190034], (1081, 77.0): [212622, 212896, 212901, 215556, 216227, 216347], (1082, 77.0): [212623, 212897, 212902, 215557, 216228, 216348], (1083, 77.0): [212624, 212898, 212903, 215558, 216349], (1084, 77.0): [212625, 212899, 212904, 215559, 216350], (1085, 77.0): [212621, 212790, 212895, 212900, 215555, 216226, 216346], (1251, 77.0): [212618, 212887], (1252, 77.0): [212619, 212888], (1253, 77.0): [212620, 212889], (1254, 77.0): [212595, 212617, 212665, 212666, 212722, 212732, 212750, 212806, 212886, 212905], (2214, 77.0): [212613, 212639, 212891, 212910, 215548], (2215, 77.0): [212614, 212640, 212892, 212911, 215549], (2216, 77.0): [212615, 212641, 212893, 212912, 215550], (2217, 77.0): [212616, 212642, 212894, 212913, 215551], (2218, 77.0): [212526, 212567, 212612, 212638, 212686, 212890, 212909, 215547], (4013, 63.0): [161873, 161897], (4014, 47.0): [108925, 109944], (4015, 47.0): [108909, 108924, 109943], (4015, 63.0): [161869, 161872, 161896], (4015, 70.0): [173359, 173361, 186769], (4015, 77.0): [212685, 212700, 212885], (8462, 61.0): [157312, 157340, 157348, 157774, 157804, 158084, 158285, 158511, 158722, 158757, 158802, 158955, 159421, 159447, 159525, 159542, 159625, 159662, 159684, 159752, 159843, 159852, 159898, 160229, 160459, 160524, 160564, 160590, 160648, 160965, 161036, 161231, 161262, 161276], (8463, 61.0): [157292, 157320, 157434, 157470, 157948, 157958, 157961, 158317, 158354, 158437, 158567, 158834, 158882, 158944, 159170, 159220, 159223, 159239, 159347, 159376, 159539, 159682, 159787, 159837, 160639, 160701, 160811, 160816, 160824, 160989, 161014, 161064], (12470, 217.0): [263262, 263299, 263303, 263310, 263322], (12813, 204.0): [263146, 263168, 263192, 263201, 263214, 263224, 263235, 263240, 263253], (12865, 217.0): [263274, 263283, 263290, 263302, 263309, 263314, 263320, 263326, 263341], (12949, 217.0): [263263, 263266, 263269, 263273, 263277, 263293, 263295, 263307, 263317, 263321, 263328, 263334], (12978, 204.0): [263152, 263165, 263230, 263242], (12981, 204.0): [263144, 263151, 263160, 263171, 263205, 263210, 263212, 263215, 263225, 263232, 263250, 263256], (13080, 204.0): [263142, 263158, 263163, 263194, 263229, 263246, 263248], (13130, 217.0): [263259, 263280, 263291, 263292, 263296, 263300, 263306, 263312, 263318, 263336, 263337, 263346], (13152, 204.0): [263157, 263162, 263176, 263179, 263187, 263204, 263207, 263216, 263221, 263236, 263239, 263243, 263247], (13249, 204.0): [263150, 263167, 263177, 263183, 263185, 263189, 263200, 263209, 263218, 263244, 263254, 263257], (13297, 217.0): [263258, 263260, 263264, 263267, 263284, 263285, 263287, 263311, 263316, 263343, 263344, 263345], (13305, 217.0): [263270, 263272, 263279, 263289, 263301, 263315, 263319, 263330, 263332, 263333, 263348], (13409, 204.0): [263145, 263170, 263180, 263182, 263190, 263203, 263220, 263237, 263245, 263251, 263252], (13432, 203.0): [263102, 263103, 263109, 263114, 263116, 263126, 263133, 263134, 263138], (13513, 217.0): [263261, 263286, 263288, 263297, 263298, 263304, 263323, 263325, 263329, 263340], (14443, 203.0): [263094, 263095, 263098, 263104, 263105, 263111, 263121, 263123, 263124, 263128, 263137, 263139], (14449, 203.0): [263099, 263108, 263115, 263119, 263120, 263127, 263132, 263140], (14454, 203.0): [263097, 263101, 263106, 263112, 263113, 263117, 263118, 263130], (14468, 203.0): [263096, 263100, 263107, 263110, 263122, 263125, 263129, 263131, 263135, 263136], (14560, 217.0): [263308], (14602, 204.0): [263143, 263154, 263174, 263181, 263188, 263195, 263206, 263219, 263238, 263241, 263249], (14749, 204.0): [263147, 263161, 263173, 263178, 263184, 263193, 263196, 263199, 263202, 263227], (15142, 217.0): [263265, 263268, 263271, 263278, 263282, 263294, 263324, 263331, 263335, 263338, 263342], (22062, 217.0): [263275, 263276, 263281, 263305, 263313, 263327, 263339, 263347], (22756, 204.0): [263156, 263164, 263186, 263217], (31460, 204.0): [263141, 263148, 263153, 263155, 263191, 263198, 263226, 263233], (32558, 204.0): [263159, 263166, 263172, 263197, 263208, 263213, 263222, 263231], (35857, 204.0): [263149, 263169, 263175, 263211, 263223, 263228, 263234, 263255], (42492, 280.0): [307360, 307399, 307412, 307439, 307448, 307468, 307492, 310238], (43199, 27.0): [84782, 84815, 84923, 85005, 85336, 85577, 85861, 85887, 86392, 86430, 86539, 86717, 86806, 86842, 86874, 87303, 87851, 88068, 88191, 88974, 88987, 89515, 89576, 89634, 89846, 89917, 89973, 90012, 90393, 90918, 91138], (44718, 280.0): [307370, 307460, 307490, 307684, 307706], (46794, 11.0): [26394, 26432, 26732, 38519, 38553, 39066, 39087, 39101, 39823, 39862, 39916, 40004, 40061, 40091, 40292, 40321, 40426, 40442, 40516, 40555, 40865, 40880, 40914, 40991, 41008, 41793, 41813, 41822, 41954, 41997, 42126, 42139, 42150, 42174, 42247, 42333, 42902, 42938, 43319, 43356, 43406, 43501, 43553, 43582, 43661, 43689, 43798, 43804, 43888, 44192, 44209, 44231, 44299, 44331], (46794, 70.0): [172438, 172467, 173291, 186722, 186756, 187167, 187181, 187185, 188012, 188055, 188118, 188236, 188297, 188339, 188639, 188683, 188837, 188859, 188924, 188974, 189507, 189536, 189576, 189663, 189700, 190556, 190749, 190758, 190941, 191013, 191084, 191239, 191243, 191250, 191286, 191350, 192514, 192636, 193976, 194023, 194082, 194208, 194264, 194294, 194383, 194408, 194518, 194524, 194582, 194864, 194881, 194900, 194960, 194983], (46797, 11.0): [26411, 26447, 26532, 39124, 40050, 40276, 40533, 40842, 41125, 41140, 41144, 41181, 41256, 41591, 41655, 41839, 41980, 42022, 42040, 42292, 42342, 42901, 43541, 43628, 43879, 44171, 44453, 44467, 44472, 44513, 44578], (46797, 70.0): [172452, 172477, 172786, 187197, 188288, 188626, 188944, 189457, 189826, 189847, 189851, 189890, 189968, 190318, 190405, 190793, 190970, 191025, 191035, 191327, 191358, 192513, 194251, 194358, 194576, 194832, 195115, 195126, 195134, 195183, 195243], (46800, 11.0): [26396, 26520, 26563, 26576, 26679, 38524, 38548, 38800, 39002, 39033, 39902, 39917, 40253, 40346, 40587, 40689, 40760, 40777, 40808, 40832, 40897, 40908, 40956, 41006, 41069, 41145, 41231, 41281, 41615, 41675, 41676, 41712, 41739, 41812, 41850, 41871, 42018, 42185, 42251, 42278, 42813, 42837, 42852, 42905, 43192, 43396, 43407, 43612, 43713, 43930, 44039, 44090, 44097, 44137, 44163, 44224, 44237, 44285, 44330, 44394, 44466, 44553, 44606], (46800, 70.0): [172440, 172781, 172906, 172917, 173171, 186728, 186751, 186939, 187121, 187145, 188104, 188119, 188603, 188725, 189019, 189273, 189332, 189373, 189406, 189431, 189553, 189570, 189630, 189698, 189766, 189852, 189938, 189999, 190350, 190424, 190432, 190472, 190500, 190748, 190802, 190825, 191021, 191251, 191290, 191321, 192100, 192113, 192126, 192517, 193369, 194069, 194083, 194333, 194428, 194631, 194708, 194756, 194773, 194803, 194821, 194893, 194908, 194948, 194982, 195050, 195125, 195220, 195283], (46803, 11.0): [26402, 26488, 26534, 38821, 38928, 39006, 39084, 39875, 40040, 40051, 40230, 40546, 40575, 40645, 40803, 40834, 41158, 41216, 41699, 41717, 41797, 41841, 41908, 41932, 42032, 42044, 42060, 42109, 42142, 42274, 42299, 42785, 42880, 43364, 43530, 43540, 43894, 43905, 43990, 44132, 44162, 44490, 44542], (46803, 70.0): [172441, 172568, 172788, 186954, 187060, 187125, 187178, 188068, 188277, 188289, 188368, 188965, 189003, 189221, 189401, 189433, 189873, 189924, 190454, 190482, 190735, 190795, 190872, 190909, 191031, 191048, 191056, 191071, 191241, 191317, 191334, 192074, 192418, 194031, 194242, 194250, 194592, 194601, 194680, 194798, 194820, 195163, 195208], (46806, 11.0): [26415, 26670, 39021, 39126, 39200, 40080, 40380, 40514, 40589, 40614, 40749, 40774, 40939, 40958, 41019, 41066, 41201, 41257, 41830, 41993, 42161, 42264, 42343, 42882, 42904, 42935, 43193, 43566, 43747, 43921, 43946, 44075, 44104, 44253, 44274, 44345, 44396, 44523, 44577], (46806, 70.0): [172456, 173152, 187134, 187199, 187246, 188322, 188787, 188922, 189021, 189190, 189318, 189370, 189602, 189632, 189718, 189763, 189913, 189969, 190768, 191003, 191247, 191308, 191359, 192420, 192516, 192633, 193370, 194271, 194467, 194621, 194645, 194741, 194778, 194920, 194937, 195001, 195052, 195194, 195242], (46809, 11.0): [38554, 38879, 38908, 38929, 38985, 39024, 39050, 39080, 40023, 40075, 40246, 40411, 40497, 40650, 40662, 40743, 40802, 40831, 40944, 41067, 41183, 41614, 41711, 41859, 41874, 41923, 41938, 42020, 42075, 42272, 42800, 43512, 43572, 43619, 43779, 43857, 43972, 44051, 44130, 44159, 44270, 44395, 44510], (46809, 70.0): [186757, 187008, 187032, 187061, 187112, 187137, 187158, 187174, 188261, 188317, 188596, 188812, 188915, 189226, 189240, 189312, 189400, 189430, 189607, 189764, 189892, 190349, 190471, 190814, 190828, 190894, 190918, 191023, 191062, 191316, 192086, 194215, 194282, 194343, 194501, 194563, 194666, 194719, 194796, 194817, 194933, 195051, 195180], (46812, 11.0): [26435, 26450, 26531, 38963, 39030, 39954, 40009, 40233, 40441, 40496, 40518, 40599, 40848, 40915, 41265, 41297, 41604, 41613, 41640, 41667, 41798, 41917, 41989, 42021, 42057, 42266, 42838, 42924, 42947, 43443, 43497, 43803, 43858, 43934, 44177, 44232, 44594, 44619], (46812, 70.0): [172470, 172480, 172785, 187091, 187142, 188168, 188241, 188371, 188858, 188914, 188926, 189038, 189463, 189577, 189981, 190013, 190332, 190348, 190385, 190420, 190736, 190883, 190982, 191024, 191053, 191310, 192114, 192528, 192637, 194125, 194204, 194523, 194564, 194635, 194838, 194901, 195269, 195295], (46815, 11.0): [26420, 26448, 39085, 39976, 40011, 40765, 40776, 40798, 40881, 40912, 41161, 41266, 41292, 41592, 41629, 41645, 41652, 41790, 41866, 41931, 42265, 42271, 42298, 42770, 42786, 42899, 43471, 43496, 44079, 44096, 44127, 44199, 44241, 44488, 44598, 44621], (46815, 70.0): [172460, 172478, 187179, 188204, 188243, 189337, 189372, 189396, 189537, 189574, 189876, 189982, 190008, 190319, 190375, 190391, 190402, 190553, 190821, 190908, 191309, 191315, 191333, 192065, 192077, 192511, 194167, 194203, 194745, 194772, 194793, 194872, 194912, 195161, 195273, 195297], (46818, 11.0): [26731, 26780, 38525, 38552, 38802, 38822, 38877, 39162, 39167, 40008, 40026, 40042, 40231, 40431, 40510, 40896, 40922, 40990, 41036, 41105, 41211, 41282, 41308, 41657, 41686, 41787, 41837, 41930, 41955, 41975, 42783, 42799, 43303, 43495, 43516, 43528, 43789, 44226, 44245, 44300, 44364, 44425, 44544, 44607, 44631], (46818, 70.0): [173290, 173332, 186729, 186755, 186941, 186955, 187006, 187227, 187232, 188240, 188264, 188279, 188369, 188842, 188918, 189552, 189595, 189662, 189733, 189809, 189921, 190000, 190032, 190407, 190442, 190550, 190780, 190907, 190942, 190967, 192072, 192085, 193955, 194202, 194219, 194240, 194511, 194895, 194916, 194961, 195019, 195078, 195212, 195284, 195315], (46821, 11.0): [26553, 26623, 38818, 38862, 39004, 39047, 39086, 39820, 39905, 40037, 40063, 40078, 40090, 40291, 40470, 40472, 40676, 40844, 40901, 41007, 41017, 41051, 41186, 41239, 41294, 41309, 41594, 41654, 41758, 41774, 41781, 41789, 41802, 41902, 42000, 42001, 42091, 42294, 42774, 43310, 43391, 43534, 43549, 43569, 43581, 43659, 43831, 43839, 44002, 44174, 44220, 44333, 44343, 44377, 44507, 44564, 44623, 44632], (46821, 70.0): [172822, 173002, 186951, 186988, 187123, 187155, 187180, 188004, 188107, 188274, 188299, 188320, 188338, 188638, 188887, 188889, 189262, 189459, 189557, 189699, 189716, 189751, 189895, 189948, 190010, 190033, 190321, 190404, 190518, 190535, 190540, 190552, 190742, 190866, 191016, 191017, 191067, 191329, 192069, 193965, 194064, 194246, 194260, 194279, 194293, 194381, 194543, 194550, 194689, 194835, 194885, 194985, 194993, 195035, 195170, 195229, 195299, 195316], (46824, 11.0): [26424, 26434, 26444, 26486, 26556, 38848, 39949, 40256, 40366, 40382, 40444, 40713, 40835, 40934, 40988, 41102, 41240, 41605, 41619, 41630, 41708, 41728, 41794, 41924, 41981, 42270, 43444, 43610, 43723, 43746, 43805, 44023, 44140, 44263, 44318, 44424, 44565], (46824, 70.0): [172464, 172469, 172474, 172566, 172825, 186983, 188163, 188606, 188751, 188789, 188861, 189276, 189434, 189597, 189660, 189806, 189949, 190333, 190354, 190376, 190466, 190491, 190557, 190895, 190971, 191314, 194133, 194331, 194439, 194466, 194525, 194693, 194811, 194926, 194969, 195077, 195230], (46827, 11.0): [26392, 26678, 38529, 38923, 39022, 39049, 40010, 40022, 40039, 40106, 40247, 40350, 40369, 40389, 40536, 40600, 40611, 40639, 40659, 40673, 40742, 40943, 40969, 41004, 41085, 41681, 41692, 41880, 41944, 42229, 42833, 42839, 42853, 43498, 43514, 43532, 43599, 43618, 43704, 43733, 43753, 43871, 43933, 43955, 43983, 43994, 44050, 44268, 44288, 44329, 44414], (46827, 70.0): [172436, 173170, 186737, 187055, 187135, 187157, 188242, 188260, 188276, 188355, 188597, 188729, 188754, 188796, 188947, 189039, 189187, 189215, 189237, 189259, 189311, 189606, 189647, 189696, 189776, 190435, 190448, 190836, 190926, 191272, 192109, 192115, 192127, 194205, 194217, 194244, 194318, 194342, 194420, 194452, 194473, 194568, 194634, 194663, 194673, 194684, 194718, 194931, 194950, 194981, 195065], (46830, 11.0): [26422, 26485, 26692, 26781, 38922, 39003, 39025, 40048, 40454, 40487, 40568, 40612, 40763, 41090, 41141, 41184, 41226, 41271, 41319, 41343, 41661, 41706, 41865, 41896, 41929, 41956, 42030, 42092, 42113, 42344, 42604, 42807, 42897, 42926, 43286, 43543, 43824, 43843, 43915, 43954, 44081, 44411, 44473, 44511, 44557, 44590, 44648], (46830, 70.0): [172462, 172565, 173185, 173333, 187054, 187122, 187138, 188286, 188868, 188905, 188996, 189188, 189335, 189781, 189848, 189893, 189933, 189987, 190103, 190173, 190415, 190464, 190820, 190861, 190906, 190943, 191029, 191068, 191075, 191360, 191491, 192093, 192509, 192530, 193945, 194256, 194536, 194553, 194613, 194662, 194747, 195057, 195135, 195181, 195224, 195264, 195332], ...}"
      ]
     },
     "metadata": {},
     "execution_count": 27
    }
   ],
   "source": []
  },
  {
   "cell_type": "code",
   "execution_count": null,
   "metadata": {},
   "outputs": [],
   "source": []
  },
  {
   "cell_type": "code",
   "execution_count": 29,
   "metadata": {},
   "outputs": [],
   "source": [
    "seq = df.groupby('user_id').apply(\n",
    "    lambda r: (\n",
    "        r['skill_with_answer'].values[:-1],\n",
    "        r['skill'].values[1:],\n",
    "        r['exercise'].values[1:],\n",
    "        r['problem_id'].values[1:],\n",
    "        r['correct'].values[1:],\n",
    "    )\n",
    ")"
   ]
  },
  {
   "cell_type": "code",
   "execution_count": 32,
   "metadata": {},
   "outputs": [
    {
     "output_type": "execute_result",
     "data": {
      "text/plain": [
       "(array([196, 197, 197, 197, 199]),\n",
       " array([98, 98, 98, 99, 99]),\n",
       " array([13942, 13826, 13921, 14505, 14480]),\n",
       " array([ 97671,  97555,  97650, 108102, 108062]),\n",
       " array([1, 1, 1, 1, 1]))"
      ]
     },
     "metadata": {},
     "execution_count": 32
    }
   ],
   "source": [
    "seq[51950]"
   ]
  },
  {
   "cell_type": "code",
   "execution_count": null,
   "metadata": {},
   "outputs": [],
   "source": []
  },
  {
   "cell_type": "code",
   "execution_count": null,
   "metadata": {},
   "outputs": [],
   "source": []
  },
  {
   "cell_type": "code",
   "execution_count": null,
   "metadata": {},
   "outputs": [],
   "source": []
  },
  {
   "cell_type": "code",
   "execution_count": null,
   "metadata": {},
   "outputs": [],
   "source": []
  },
  {
   "cell_type": "code",
   "execution_count": null,
   "metadata": {},
   "outputs": [],
   "source": []
  },
  {
   "cell_type": "code",
   "execution_count": 30,
   "metadata": {},
   "outputs": [
    {
     "output_type": "error",
     "ename": "KeyError",
     "evalue": "6452",
     "traceback": [
      "\u001b[0;31m---------------------------------------------------------------------------\u001b[0m",
      "\u001b[0;31mKeyError\u001b[0m                                  Traceback (most recent call last)",
      "\u001b[0;32m~/.pyenv/versions/3.8.6/lib/python3.8/site-packages/pandas/core/indexes/base.py\u001b[0m in \u001b[0;36mget_loc\u001b[0;34m(self, key, method, tolerance)\u001b[0m\n\u001b[1;32m   2894\u001b[0m             \u001b[0;32mtry\u001b[0m\u001b[0;34m:\u001b[0m\u001b[0;34m\u001b[0m\u001b[0;34m\u001b[0m\u001b[0m\n\u001b[0;32m-> 2895\u001b[0;31m                 \u001b[0;32mreturn\u001b[0m \u001b[0mself\u001b[0m\u001b[0;34m.\u001b[0m\u001b[0m_engine\u001b[0m\u001b[0;34m.\u001b[0m\u001b[0mget_loc\u001b[0m\u001b[0;34m(\u001b[0m\u001b[0mcasted_key\u001b[0m\u001b[0;34m)\u001b[0m\u001b[0;34m\u001b[0m\u001b[0;34m\u001b[0m\u001b[0m\n\u001b[0m\u001b[1;32m   2896\u001b[0m             \u001b[0;32mexcept\u001b[0m \u001b[0mKeyError\u001b[0m \u001b[0;32mas\u001b[0m \u001b[0merr\u001b[0m\u001b[0;34m:\u001b[0m\u001b[0;34m\u001b[0m\u001b[0;34m\u001b[0m\u001b[0m\n",
      "\u001b[0;32mpandas/_libs/index.pyx\u001b[0m in \u001b[0;36mpandas._libs.index.IndexEngine.get_loc\u001b[0;34m()\u001b[0m\n",
      "\u001b[0;32mpandas/_libs/index.pyx\u001b[0m in \u001b[0;36mpandas._libs.index.IndexEngine.get_loc\u001b[0;34m()\u001b[0m\n",
      "\u001b[0;32mpandas/_libs/hashtable_class_helper.pxi\u001b[0m in \u001b[0;36mpandas._libs.hashtable.Int64HashTable.get_item\u001b[0;34m()\u001b[0m\n",
      "\u001b[0;32mpandas/_libs/hashtable_class_helper.pxi\u001b[0m in \u001b[0;36mpandas._libs.hashtable.Int64HashTable.get_item\u001b[0;34m()\u001b[0m\n",
      "\u001b[0;31mKeyError\u001b[0m: 6452",
      "\nThe above exception was the direct cause of the following exception:\n",
      "\u001b[0;31mKeyError\u001b[0m                                  Traceback (most recent call last)",
      "\u001b[0;32m<ipython-input-30-1c20b9f98667>\u001b[0m in \u001b[0;36m<module>\u001b[0;34m\u001b[0m\n\u001b[0;32m----> 1\u001b[0;31m \u001b[0mseq\u001b[0m\u001b[0;34m[\u001b[0m\u001b[0;36m6452\u001b[0m\u001b[0;34m]\u001b[0m\u001b[0;34m\u001b[0m\u001b[0;34m\u001b[0m\u001b[0m\n\u001b[0m",
      "\u001b[0;32m~/.pyenv/versions/3.8.6/lib/python3.8/site-packages/pandas/core/series.py\u001b[0m in \u001b[0;36m__getitem__\u001b[0;34m(self, key)\u001b[0m\n\u001b[1;32m    880\u001b[0m \u001b[0;34m\u001b[0m\u001b[0m\n\u001b[1;32m    881\u001b[0m         \u001b[0;32melif\u001b[0m \u001b[0mkey_is_scalar\u001b[0m\u001b[0;34m:\u001b[0m\u001b[0;34m\u001b[0m\u001b[0;34m\u001b[0m\u001b[0m\n\u001b[0;32m--> 882\u001b[0;31m             \u001b[0;32mreturn\u001b[0m \u001b[0mself\u001b[0m\u001b[0;34m.\u001b[0m\u001b[0m_get_value\u001b[0m\u001b[0;34m(\u001b[0m\u001b[0mkey\u001b[0m\u001b[0;34m)\u001b[0m\u001b[0;34m\u001b[0m\u001b[0;34m\u001b[0m\u001b[0m\n\u001b[0m\u001b[1;32m    883\u001b[0m \u001b[0;34m\u001b[0m\u001b[0m\n\u001b[1;32m    884\u001b[0m         \u001b[0;32mif\u001b[0m \u001b[0mis_hashable\u001b[0m\u001b[0;34m(\u001b[0m\u001b[0mkey\u001b[0m\u001b[0;34m)\u001b[0m\u001b[0;34m:\u001b[0m\u001b[0;34m\u001b[0m\u001b[0;34m\u001b[0m\u001b[0m\n",
      "\u001b[0;32m~/.pyenv/versions/3.8.6/lib/python3.8/site-packages/pandas/core/series.py\u001b[0m in \u001b[0;36m_get_value\u001b[0;34m(self, label, takeable)\u001b[0m\n\u001b[1;32m    987\u001b[0m \u001b[0;34m\u001b[0m\u001b[0m\n\u001b[1;32m    988\u001b[0m         \u001b[0;31m# Similar to Index.get_value, but we do not fall back to positional\u001b[0m\u001b[0;34m\u001b[0m\u001b[0;34m\u001b[0m\u001b[0;34m\u001b[0m\u001b[0m\n\u001b[0;32m--> 989\u001b[0;31m         \u001b[0mloc\u001b[0m \u001b[0;34m=\u001b[0m \u001b[0mself\u001b[0m\u001b[0;34m.\u001b[0m\u001b[0mindex\u001b[0m\u001b[0;34m.\u001b[0m\u001b[0mget_loc\u001b[0m\u001b[0;34m(\u001b[0m\u001b[0mlabel\u001b[0m\u001b[0;34m)\u001b[0m\u001b[0;34m\u001b[0m\u001b[0;34m\u001b[0m\u001b[0m\n\u001b[0m\u001b[1;32m    990\u001b[0m         \u001b[0;32mreturn\u001b[0m \u001b[0mself\u001b[0m\u001b[0;34m.\u001b[0m\u001b[0mindex\u001b[0m\u001b[0;34m.\u001b[0m\u001b[0m_get_values_for_loc\u001b[0m\u001b[0;34m(\u001b[0m\u001b[0mself\u001b[0m\u001b[0;34m,\u001b[0m \u001b[0mloc\u001b[0m\u001b[0;34m,\u001b[0m \u001b[0mlabel\u001b[0m\u001b[0;34m)\u001b[0m\u001b[0;34m\u001b[0m\u001b[0;34m\u001b[0m\u001b[0m\n\u001b[1;32m    991\u001b[0m \u001b[0;34m\u001b[0m\u001b[0m\n",
      "\u001b[0;32m~/.pyenv/versions/3.8.6/lib/python3.8/site-packages/pandas/core/indexes/base.py\u001b[0m in \u001b[0;36mget_loc\u001b[0;34m(self, key, method, tolerance)\u001b[0m\n\u001b[1;32m   2895\u001b[0m                 \u001b[0;32mreturn\u001b[0m \u001b[0mself\u001b[0m\u001b[0;34m.\u001b[0m\u001b[0m_engine\u001b[0m\u001b[0;34m.\u001b[0m\u001b[0mget_loc\u001b[0m\u001b[0;34m(\u001b[0m\u001b[0mcasted_key\u001b[0m\u001b[0;34m)\u001b[0m\u001b[0;34m\u001b[0m\u001b[0;34m\u001b[0m\u001b[0m\n\u001b[1;32m   2896\u001b[0m             \u001b[0;32mexcept\u001b[0m \u001b[0mKeyError\u001b[0m \u001b[0;32mas\u001b[0m \u001b[0merr\u001b[0m\u001b[0;34m:\u001b[0m\u001b[0;34m\u001b[0m\u001b[0;34m\u001b[0m\u001b[0m\n\u001b[0;32m-> 2897\u001b[0;31m                 \u001b[0;32mraise\u001b[0m \u001b[0mKeyError\u001b[0m\u001b[0;34m(\u001b[0m\u001b[0mkey\u001b[0m\u001b[0;34m)\u001b[0m \u001b[0;32mfrom\u001b[0m \u001b[0merr\u001b[0m\u001b[0;34m\u001b[0m\u001b[0;34m\u001b[0m\u001b[0m\n\u001b[0m\u001b[1;32m   2898\u001b[0m \u001b[0;34m\u001b[0m\u001b[0m\n\u001b[1;32m   2899\u001b[0m         \u001b[0;32mif\u001b[0m \u001b[0mtolerance\u001b[0m \u001b[0;32mis\u001b[0m \u001b[0;32mnot\u001b[0m \u001b[0;32mNone\u001b[0m\u001b[0;34m:\u001b[0m\u001b[0;34m\u001b[0m\u001b[0;34m\u001b[0m\u001b[0m\n",
      "\u001b[0;31mKeyError\u001b[0m: 6452"
     ]
    }
   ],
   "source": [
    "seq[6452]"
   ]
  },
  {
   "cell_type": "code",
   "execution_count": null,
   "metadata": {},
   "outputs": [],
   "source": []
  },
  {
   "cell_type": "code",
   "execution_count": null,
   "metadata": {},
   "outputs": [],
   "source": []
  },
  {
   "cell_type": "code",
   "execution_count": null,
   "metadata": {},
   "outputs": [],
   "source": []
  },
  {
   "cell_type": "code",
   "execution_count": 16,
   "metadata": {},
   "outputs": [],
   "source": [
    "    nb_users = len(seq)"
   ]
  },
  {
   "cell_type": "code",
   "execution_count": 17,
   "metadata": {},
   "outputs": [
    {
     "output_type": "execute_result",
     "data": {
      "text/plain": [
       "4047"
      ]
     },
     "metadata": {},
     "execution_count": 17
    }
   ],
   "source": [
    "nb_users"
   ]
  },
  {
   "cell_type": "code",
   "execution_count": 18,
   "metadata": {},
   "outputs": [],
   "source": [
    "dataset = tf.data.Dataset.from_generator(\n",
    "        generator=lambda: seq,\n",
    "        output_types=(tf.int32, tf.int32, tf.float32)\n",
    "    )"
   ]
  },
  {
   "cell_type": "code",
   "execution_count": 19,
   "metadata": {},
   "outputs": [
    {
     "output_type": "execute_result",
     "data": {
      "text/plain": [
       "<FlatMapDataset shapes: (<unknown>, <unknown>, <unknown>), types: (tf.int32, tf.int32, tf.float32)>"
      ]
     },
     "metadata": {},
     "execution_count": 19
    }
   ],
   "source": [
    "dataset"
   ]
  },
  {
   "cell_type": "code",
   "execution_count": 20,
   "metadata": {},
   "outputs": [
    {
     "output_type": "execute_result",
     "data": {
      "text/plain": [
       "<FlatMapDataset shapes: (<unknown>, <unknown>, <unknown>), types: (tf.int32, tf.int32, tf.float32)>"
      ]
     },
     "metadata": {},
     "execution_count": 20
    }
   ],
   "source": [
    "dataset"
   ]
  },
  {
   "cell_type": "code",
   "execution_count": 21,
   "metadata": {},
   "outputs": [],
   "source": [
    "dataset = dataset.shuffle(buffer_size=nb_users)"
   ]
  },
  {
   "cell_type": "code",
   "execution_count": 22,
   "metadata": {},
   "outputs": [
    {
     "output_type": "error",
     "ename": "NameError",
     "evalue": "in user code:\n\n    <ipython-input-22-2b3f66542271>:2 None  *\n        )\n\n    NameError: name 'features_depth' is not defined\n",
     "traceback": [
      "\u001b[0;31m---------------------------------------------------------------------------\u001b[0m",
      "\u001b[0;31mNameError\u001b[0m                                 Traceback (most recent call last)",
      "\u001b[0;32m<ipython-input-22-2b3f66542271>\u001b[0m in \u001b[0;36m<module>\u001b[0;34m\u001b[0m\n\u001b[0;32m----> 1\u001b[0;31m dataset = dataset.map(\n\u001b[0m\u001b[1;32m      2\u001b[0m     lambda feat, skill, label: (\n\u001b[1;32m      3\u001b[0m         \u001b[0mtf\u001b[0m\u001b[0;34m.\u001b[0m\u001b[0mone_hot\u001b[0m\u001b[0;34m(\u001b[0m\u001b[0mfeat\u001b[0m\u001b[0;34m,\u001b[0m \u001b[0mdepth\u001b[0m\u001b[0;34m=\u001b[0m\u001b[0mfeatures_depth\u001b[0m\u001b[0;34m)\u001b[0m\u001b[0;34m,\u001b[0m\u001b[0;34m\u001b[0m\u001b[0;34m\u001b[0m\u001b[0m\n\u001b[1;32m      4\u001b[0m         tf.concat(\n\u001b[1;32m      5\u001b[0m             values=[\n",
      "\u001b[0;32m~/.pyenv/versions/3.8.6/lib/python3.8/site-packages/tensorflow/python/data/ops/dataset_ops.py\u001b[0m in \u001b[0;36mmap\u001b[0;34m(self, map_func, num_parallel_calls, deterministic)\u001b[0m\n\u001b[1;32m   1803\u001b[0m     \"\"\"\n\u001b[1;32m   1804\u001b[0m     \u001b[0;32mif\u001b[0m \u001b[0mnum_parallel_calls\u001b[0m \u001b[0;32mis\u001b[0m \u001b[0;32mNone\u001b[0m\u001b[0;34m:\u001b[0m\u001b[0;34m\u001b[0m\u001b[0;34m\u001b[0m\u001b[0m\n\u001b[0;32m-> 1805\u001b[0;31m       \u001b[0;32mreturn\u001b[0m \u001b[0mMapDataset\u001b[0m\u001b[0;34m(\u001b[0m\u001b[0mself\u001b[0m\u001b[0;34m,\u001b[0m \u001b[0mmap_func\u001b[0m\u001b[0;34m,\u001b[0m \u001b[0mpreserve_cardinality\u001b[0m\u001b[0;34m=\u001b[0m\u001b[0;32mTrue\u001b[0m\u001b[0;34m)\u001b[0m\u001b[0;34m\u001b[0m\u001b[0;34m\u001b[0m\u001b[0m\n\u001b[0m\u001b[1;32m   1806\u001b[0m     \u001b[0;32melse\u001b[0m\u001b[0;34m:\u001b[0m\u001b[0;34m\u001b[0m\u001b[0;34m\u001b[0m\u001b[0m\n\u001b[1;32m   1807\u001b[0m       return ParallelMapDataset(\n",
      "\u001b[0;32m~/.pyenv/versions/3.8.6/lib/python3.8/site-packages/tensorflow/python/data/ops/dataset_ops.py\u001b[0m in \u001b[0;36m__init__\u001b[0;34m(self, input_dataset, map_func, use_inter_op_parallelism, preserve_cardinality, use_legacy_function)\u001b[0m\n\u001b[1;32m   4201\u001b[0m     \u001b[0mself\u001b[0m\u001b[0;34m.\u001b[0m\u001b[0m_use_inter_op_parallelism\u001b[0m \u001b[0;34m=\u001b[0m \u001b[0muse_inter_op_parallelism\u001b[0m\u001b[0;34m\u001b[0m\u001b[0;34m\u001b[0m\u001b[0m\n\u001b[1;32m   4202\u001b[0m     \u001b[0mself\u001b[0m\u001b[0;34m.\u001b[0m\u001b[0m_preserve_cardinality\u001b[0m \u001b[0;34m=\u001b[0m \u001b[0mpreserve_cardinality\u001b[0m\u001b[0;34m\u001b[0m\u001b[0;34m\u001b[0m\u001b[0m\n\u001b[0;32m-> 4203\u001b[0;31m     self._map_func = StructuredFunctionWrapper(\n\u001b[0m\u001b[1;32m   4204\u001b[0m         \u001b[0mmap_func\u001b[0m\u001b[0;34m,\u001b[0m\u001b[0;34m\u001b[0m\u001b[0;34m\u001b[0m\u001b[0m\n\u001b[1;32m   4205\u001b[0m         \u001b[0mself\u001b[0m\u001b[0;34m.\u001b[0m\u001b[0m_transformation_name\u001b[0m\u001b[0;34m(\u001b[0m\u001b[0;34m)\u001b[0m\u001b[0;34m,\u001b[0m\u001b[0;34m\u001b[0m\u001b[0;34m\u001b[0m\u001b[0m\n",
      "\u001b[0;32m~/.pyenv/versions/3.8.6/lib/python3.8/site-packages/tensorflow/python/data/ops/dataset_ops.py\u001b[0m in \u001b[0;36m__init__\u001b[0;34m(self, func, transformation_name, dataset, input_classes, input_shapes, input_types, input_structure, add_to_graph, use_legacy_function, defun_kwargs)\u001b[0m\n\u001b[1;32m   3523\u001b[0m       \u001b[0;32mwith\u001b[0m \u001b[0mtracking\u001b[0m\u001b[0;34m.\u001b[0m\u001b[0mresource_tracker_scope\u001b[0m\u001b[0;34m(\u001b[0m\u001b[0mresource_tracker\u001b[0m\u001b[0;34m)\u001b[0m\u001b[0;34m:\u001b[0m\u001b[0;34m\u001b[0m\u001b[0;34m\u001b[0m\u001b[0m\n\u001b[1;32m   3524\u001b[0m         \u001b[0;31m# TODO(b/141462134): Switch to using garbage collection.\u001b[0m\u001b[0;34m\u001b[0m\u001b[0;34m\u001b[0m\u001b[0;34m\u001b[0m\u001b[0m\n\u001b[0;32m-> 3525\u001b[0;31m         \u001b[0mself\u001b[0m\u001b[0;34m.\u001b[0m\u001b[0m_function\u001b[0m \u001b[0;34m=\u001b[0m \u001b[0mwrapper_fn\u001b[0m\u001b[0;34m.\u001b[0m\u001b[0mget_concrete_function\u001b[0m\u001b[0;34m(\u001b[0m\u001b[0;34m)\u001b[0m\u001b[0;34m\u001b[0m\u001b[0;34m\u001b[0m\u001b[0m\n\u001b[0m\u001b[1;32m   3526\u001b[0m         \u001b[0;32mif\u001b[0m \u001b[0madd_to_graph\u001b[0m\u001b[0;34m:\u001b[0m\u001b[0;34m\u001b[0m\u001b[0;34m\u001b[0m\u001b[0m\n\u001b[1;32m   3527\u001b[0m           \u001b[0mself\u001b[0m\u001b[0;34m.\u001b[0m\u001b[0m_function\u001b[0m\u001b[0;34m.\u001b[0m\u001b[0madd_to_graph\u001b[0m\u001b[0;34m(\u001b[0m\u001b[0mops\u001b[0m\u001b[0;34m.\u001b[0m\u001b[0mget_default_graph\u001b[0m\u001b[0;34m(\u001b[0m\u001b[0;34m)\u001b[0m\u001b[0;34m)\u001b[0m\u001b[0;34m\u001b[0m\u001b[0;34m\u001b[0m\u001b[0m\n",
      "\u001b[0;32m~/.pyenv/versions/3.8.6/lib/python3.8/site-packages/tensorflow/python/eager/function.py\u001b[0m in \u001b[0;36mget_concrete_function\u001b[0;34m(self, *args, **kwargs)\u001b[0m\n\u001b[1;32m   3049\u001b[0m       \u001b[0;34m**\u001b[0m\u001b[0mkwargs\u001b[0m\u001b[0;34m:\u001b[0m \u001b[0minputs\u001b[0m \u001b[0mto\u001b[0m \u001b[0mspecialize\u001b[0m \u001b[0mon\u001b[0m\u001b[0;34m.\u001b[0m\u001b[0;34m\u001b[0m\u001b[0;34m\u001b[0m\u001b[0m\n\u001b[1;32m   3050\u001b[0m     \"\"\"\n\u001b[0;32m-> 3051\u001b[0;31m     graph_function = self._get_concrete_function_garbage_collected(\n\u001b[0m\u001b[1;32m   3052\u001b[0m         *args, **kwargs)\n\u001b[1;32m   3053\u001b[0m     \u001b[0mgraph_function\u001b[0m\u001b[0;34m.\u001b[0m\u001b[0m_garbage_collector\u001b[0m\u001b[0;34m.\u001b[0m\u001b[0mrelease\u001b[0m\u001b[0;34m(\u001b[0m\u001b[0;34m)\u001b[0m  \u001b[0;31m# pylint: disable=protected-access\u001b[0m\u001b[0;34m\u001b[0m\u001b[0;34m\u001b[0m\u001b[0m\n",
      "\u001b[0;32m~/.pyenv/versions/3.8.6/lib/python3.8/site-packages/tensorflow/python/eager/function.py\u001b[0m in \u001b[0;36m_get_concrete_function_garbage_collected\u001b[0;34m(self, *args, **kwargs)\u001b[0m\n\u001b[1;32m   3017\u001b[0m       \u001b[0margs\u001b[0m\u001b[0;34m,\u001b[0m \u001b[0mkwargs\u001b[0m \u001b[0;34m=\u001b[0m \u001b[0;32mNone\u001b[0m\u001b[0;34m,\u001b[0m \u001b[0;32mNone\u001b[0m\u001b[0;34m\u001b[0m\u001b[0;34m\u001b[0m\u001b[0m\n\u001b[1;32m   3018\u001b[0m     \u001b[0;32mwith\u001b[0m \u001b[0mself\u001b[0m\u001b[0;34m.\u001b[0m\u001b[0m_lock\u001b[0m\u001b[0;34m:\u001b[0m\u001b[0;34m\u001b[0m\u001b[0;34m\u001b[0m\u001b[0m\n\u001b[0;32m-> 3019\u001b[0;31m       \u001b[0mgraph_function\u001b[0m\u001b[0;34m,\u001b[0m \u001b[0m_\u001b[0m \u001b[0;34m=\u001b[0m \u001b[0mself\u001b[0m\u001b[0;34m.\u001b[0m\u001b[0m_maybe_define_function\u001b[0m\u001b[0;34m(\u001b[0m\u001b[0margs\u001b[0m\u001b[0;34m,\u001b[0m \u001b[0mkwargs\u001b[0m\u001b[0;34m)\u001b[0m\u001b[0;34m\u001b[0m\u001b[0;34m\u001b[0m\u001b[0m\n\u001b[0m\u001b[1;32m   3020\u001b[0m       \u001b[0mseen_names\u001b[0m \u001b[0;34m=\u001b[0m \u001b[0mset\u001b[0m\u001b[0;34m(\u001b[0m\u001b[0;34m)\u001b[0m\u001b[0;34m\u001b[0m\u001b[0;34m\u001b[0m\u001b[0m\n\u001b[1;32m   3021\u001b[0m       captured = object_identity.ObjectIdentitySet(\n",
      "\u001b[0;32m~/.pyenv/versions/3.8.6/lib/python3.8/site-packages/tensorflow/python/eager/function.py\u001b[0m in \u001b[0;36m_maybe_define_function\u001b[0;34m(self, args, kwargs)\u001b[0m\n\u001b[1;32m   3359\u001b[0m \u001b[0;34m\u001b[0m\u001b[0m\n\u001b[1;32m   3360\u001b[0m           \u001b[0mself\u001b[0m\u001b[0;34m.\u001b[0m\u001b[0m_function_cache\u001b[0m\u001b[0;34m.\u001b[0m\u001b[0mmissed\u001b[0m\u001b[0;34m.\u001b[0m\u001b[0madd\u001b[0m\u001b[0;34m(\u001b[0m\u001b[0mcall_context_key\u001b[0m\u001b[0;34m)\u001b[0m\u001b[0;34m\u001b[0m\u001b[0;34m\u001b[0m\u001b[0m\n\u001b[0;32m-> 3361\u001b[0;31m           \u001b[0mgraph_function\u001b[0m \u001b[0;34m=\u001b[0m \u001b[0mself\u001b[0m\u001b[0;34m.\u001b[0m\u001b[0m_create_graph_function\u001b[0m\u001b[0;34m(\u001b[0m\u001b[0margs\u001b[0m\u001b[0;34m,\u001b[0m \u001b[0mkwargs\u001b[0m\u001b[0;34m)\u001b[0m\u001b[0;34m\u001b[0m\u001b[0;34m\u001b[0m\u001b[0m\n\u001b[0m\u001b[1;32m   3362\u001b[0m           \u001b[0mself\u001b[0m\u001b[0;34m.\u001b[0m\u001b[0m_function_cache\u001b[0m\u001b[0;34m.\u001b[0m\u001b[0mprimary\u001b[0m\u001b[0;34m[\u001b[0m\u001b[0mcache_key\u001b[0m\u001b[0;34m]\u001b[0m \u001b[0;34m=\u001b[0m \u001b[0mgraph_function\u001b[0m\u001b[0;34m\u001b[0m\u001b[0;34m\u001b[0m\u001b[0m\n\u001b[1;32m   3363\u001b[0m \u001b[0;34m\u001b[0m\u001b[0m\n",
      "\u001b[0;32m~/.pyenv/versions/3.8.6/lib/python3.8/site-packages/tensorflow/python/eager/function.py\u001b[0m in \u001b[0;36m_create_graph_function\u001b[0;34m(self, args, kwargs, override_flat_arg_shapes)\u001b[0m\n\u001b[1;32m   3194\u001b[0m     \u001b[0marg_names\u001b[0m \u001b[0;34m=\u001b[0m \u001b[0mbase_arg_names\u001b[0m \u001b[0;34m+\u001b[0m \u001b[0mmissing_arg_names\u001b[0m\u001b[0;34m\u001b[0m\u001b[0;34m\u001b[0m\u001b[0m\n\u001b[1;32m   3195\u001b[0m     graph_function = ConcreteFunction(\n\u001b[0;32m-> 3196\u001b[0;31m         func_graph_module.func_graph_from_py_func(\n\u001b[0m\u001b[1;32m   3197\u001b[0m             \u001b[0mself\u001b[0m\u001b[0;34m.\u001b[0m\u001b[0m_name\u001b[0m\u001b[0;34m,\u001b[0m\u001b[0;34m\u001b[0m\u001b[0;34m\u001b[0m\u001b[0m\n\u001b[1;32m   3198\u001b[0m             \u001b[0mself\u001b[0m\u001b[0;34m.\u001b[0m\u001b[0m_python_function\u001b[0m\u001b[0;34m,\u001b[0m\u001b[0;34m\u001b[0m\u001b[0;34m\u001b[0m\u001b[0m\n",
      "\u001b[0;32m~/.pyenv/versions/3.8.6/lib/python3.8/site-packages/tensorflow/python/framework/func_graph.py\u001b[0m in \u001b[0;36mfunc_graph_from_py_func\u001b[0;34m(name, python_func, args, kwargs, signature, func_graph, autograph, autograph_options, add_control_dependencies, arg_names, op_return_value, collections, capture_by_value, override_flat_arg_shapes)\u001b[0m\n\u001b[1;32m    988\u001b[0m         \u001b[0m_\u001b[0m\u001b[0;34m,\u001b[0m \u001b[0moriginal_func\u001b[0m \u001b[0;34m=\u001b[0m \u001b[0mtf_decorator\u001b[0m\u001b[0;34m.\u001b[0m\u001b[0munwrap\u001b[0m\u001b[0;34m(\u001b[0m\u001b[0mpython_func\u001b[0m\u001b[0;34m)\u001b[0m\u001b[0;34m\u001b[0m\u001b[0;34m\u001b[0m\u001b[0m\n\u001b[1;32m    989\u001b[0m \u001b[0;34m\u001b[0m\u001b[0m\n\u001b[0;32m--> 990\u001b[0;31m       \u001b[0mfunc_outputs\u001b[0m \u001b[0;34m=\u001b[0m \u001b[0mpython_func\u001b[0m\u001b[0;34m(\u001b[0m\u001b[0;34m*\u001b[0m\u001b[0mfunc_args\u001b[0m\u001b[0;34m,\u001b[0m \u001b[0;34m**\u001b[0m\u001b[0mfunc_kwargs\u001b[0m\u001b[0;34m)\u001b[0m\u001b[0;34m\u001b[0m\u001b[0;34m\u001b[0m\u001b[0m\n\u001b[0m\u001b[1;32m    991\u001b[0m \u001b[0;34m\u001b[0m\u001b[0m\n\u001b[1;32m    992\u001b[0m       \u001b[0;31m# invariant: `func_outputs` contains only Tensors, CompositeTensors,\u001b[0m\u001b[0;34m\u001b[0m\u001b[0;34m\u001b[0m\u001b[0;34m\u001b[0m\u001b[0m\n",
      "\u001b[0;32m~/.pyenv/versions/3.8.6/lib/python3.8/site-packages/tensorflow/python/data/ops/dataset_ops.py\u001b[0m in \u001b[0;36mwrapper_fn\u001b[0;34m(*args)\u001b[0m\n\u001b[1;32m   3516\u001b[0m           attributes=defun_kwargs)\n\u001b[1;32m   3517\u001b[0m       \u001b[0;32mdef\u001b[0m \u001b[0mwrapper_fn\u001b[0m\u001b[0;34m(\u001b[0m\u001b[0;34m*\u001b[0m\u001b[0margs\u001b[0m\u001b[0;34m)\u001b[0m\u001b[0;34m:\u001b[0m  \u001b[0;31m# pylint: disable=missing-docstring\u001b[0m\u001b[0;34m\u001b[0m\u001b[0;34m\u001b[0m\u001b[0m\n\u001b[0;32m-> 3518\u001b[0;31m         \u001b[0mret\u001b[0m \u001b[0;34m=\u001b[0m \u001b[0m_wrapper_helper\u001b[0m\u001b[0;34m(\u001b[0m\u001b[0;34m*\u001b[0m\u001b[0margs\u001b[0m\u001b[0;34m)\u001b[0m\u001b[0;34m\u001b[0m\u001b[0;34m\u001b[0m\u001b[0m\n\u001b[0m\u001b[1;32m   3519\u001b[0m         \u001b[0mret\u001b[0m \u001b[0;34m=\u001b[0m \u001b[0mstructure\u001b[0m\u001b[0;34m.\u001b[0m\u001b[0mto_tensor_list\u001b[0m\u001b[0;34m(\u001b[0m\u001b[0mself\u001b[0m\u001b[0;34m.\u001b[0m\u001b[0m_output_structure\u001b[0m\u001b[0;34m,\u001b[0m \u001b[0mret\u001b[0m\u001b[0;34m)\u001b[0m\u001b[0;34m\u001b[0m\u001b[0;34m\u001b[0m\u001b[0m\n\u001b[1;32m   3520\u001b[0m         \u001b[0;32mreturn\u001b[0m \u001b[0;34m[\u001b[0m\u001b[0mops\u001b[0m\u001b[0;34m.\u001b[0m\u001b[0mconvert_to_tensor\u001b[0m\u001b[0;34m(\u001b[0m\u001b[0mt\u001b[0m\u001b[0;34m)\u001b[0m \u001b[0;32mfor\u001b[0m \u001b[0mt\u001b[0m \u001b[0;32min\u001b[0m \u001b[0mret\u001b[0m\u001b[0;34m]\u001b[0m\u001b[0;34m\u001b[0m\u001b[0;34m\u001b[0m\u001b[0m\n",
      "\u001b[0;32m~/.pyenv/versions/3.8.6/lib/python3.8/site-packages/tensorflow/python/data/ops/dataset_ops.py\u001b[0m in \u001b[0;36m_wrapper_helper\u001b[0;34m(*args)\u001b[0m\n\u001b[1;32m   3451\u001b[0m         \u001b[0mnested_args\u001b[0m \u001b[0;34m=\u001b[0m \u001b[0;34m(\u001b[0m\u001b[0mnested_args\u001b[0m\u001b[0;34m,\u001b[0m\u001b[0;34m)\u001b[0m\u001b[0;34m\u001b[0m\u001b[0;34m\u001b[0m\u001b[0m\n\u001b[1;32m   3452\u001b[0m \u001b[0;34m\u001b[0m\u001b[0m\n\u001b[0;32m-> 3453\u001b[0;31m       \u001b[0mret\u001b[0m \u001b[0;34m=\u001b[0m \u001b[0mautograph\u001b[0m\u001b[0;34m.\u001b[0m\u001b[0mtf_convert\u001b[0m\u001b[0;34m(\u001b[0m\u001b[0mfunc\u001b[0m\u001b[0;34m,\u001b[0m \u001b[0mag_ctx\u001b[0m\u001b[0;34m)\u001b[0m\u001b[0;34m(\u001b[0m\u001b[0;34m*\u001b[0m\u001b[0mnested_args\u001b[0m\u001b[0;34m)\u001b[0m\u001b[0;34m\u001b[0m\u001b[0;34m\u001b[0m\u001b[0m\n\u001b[0m\u001b[1;32m   3454\u001b[0m       \u001b[0;31m# If `func` returns a list of tensors, `nest.flatten()` and\u001b[0m\u001b[0;34m\u001b[0m\u001b[0;34m\u001b[0m\u001b[0;34m\u001b[0m\u001b[0m\n\u001b[1;32m   3455\u001b[0m       \u001b[0;31m# `ops.convert_to_tensor()` would conspire to attempt to stack\u001b[0m\u001b[0;34m\u001b[0m\u001b[0;34m\u001b[0m\u001b[0;34m\u001b[0m\u001b[0m\n",
      "\u001b[0;32m~/.pyenv/versions/3.8.6/lib/python3.8/site-packages/tensorflow/python/autograph/impl/api.py\u001b[0m in \u001b[0;36mwrapper\u001b[0;34m(*args, **kwargs)\u001b[0m\n\u001b[1;32m    668\u001b[0m       \u001b[0;32mexcept\u001b[0m \u001b[0mException\u001b[0m \u001b[0;32mas\u001b[0m \u001b[0me\u001b[0m\u001b[0;34m:\u001b[0m  \u001b[0;31m# pylint:disable=broad-except\u001b[0m\u001b[0;34m\u001b[0m\u001b[0;34m\u001b[0m\u001b[0m\n\u001b[1;32m    669\u001b[0m         \u001b[0;32mif\u001b[0m \u001b[0mhasattr\u001b[0m\u001b[0;34m(\u001b[0m\u001b[0me\u001b[0m\u001b[0;34m,\u001b[0m \u001b[0;34m'ag_error_metadata'\u001b[0m\u001b[0;34m)\u001b[0m\u001b[0;34m:\u001b[0m\u001b[0;34m\u001b[0m\u001b[0;34m\u001b[0m\u001b[0m\n\u001b[0;32m--> 670\u001b[0;31m           \u001b[0;32mraise\u001b[0m \u001b[0me\u001b[0m\u001b[0;34m.\u001b[0m\u001b[0mag_error_metadata\u001b[0m\u001b[0;34m.\u001b[0m\u001b[0mto_exception\u001b[0m\u001b[0;34m(\u001b[0m\u001b[0me\u001b[0m\u001b[0;34m)\u001b[0m\u001b[0;34m\u001b[0m\u001b[0;34m\u001b[0m\u001b[0m\n\u001b[0m\u001b[1;32m    671\u001b[0m         \u001b[0;32melse\u001b[0m\u001b[0;34m:\u001b[0m\u001b[0;34m\u001b[0m\u001b[0;34m\u001b[0m\u001b[0m\n\u001b[1;32m    672\u001b[0m           \u001b[0;32mraise\u001b[0m\u001b[0;34m\u001b[0m\u001b[0;34m\u001b[0m\u001b[0m\n",
      "\u001b[0;31mNameError\u001b[0m: in user code:\n\n    <ipython-input-22-2b3f66542271>:2 None  *\n        )\n\n    NameError: name 'features_depth' is not defined\n"
     ]
    }
   ],
   "source": [
    "dataset = dataset.map(\n",
    "    lambda feat, skill, label: (\n",
    "        tf.one_hot(feat, depth=features_depth),\n",
    "        tf.concat(\n",
    "            values=[\n",
    "                tf.one_hot(skill, depth=skill_depth),\n",
    "                tf.expand_dims(label, -1)\n",
    "            ],\n",
    "            axis=-1\n",
    "        )\n",
    "    )\n",
    ")"
   ]
  },
  {
   "cell_type": "code",
   "execution_count": null,
   "metadata": {},
   "outputs": [],
   "source": []
  },
  {
   "cell_type": "code",
   "execution_count": null,
   "metadata": {},
   "outputs": [],
   "source": []
  },
  {
   "cell_type": "code",
   "execution_count": null,
   "metadata": {},
   "outputs": [],
   "source": []
  },
  {
   "cell_type": "code",
   "execution_count": null,
   "metadata": {},
   "outputs": [],
   "source": []
  },
  {
   "cell_type": "code",
   "execution_count": null,
   "metadata": {},
   "outputs": [],
   "source": []
  },
  {
   "cell_type": "code",
   "execution_count": null,
   "metadata": {},
   "outputs": [],
   "source": []
  },
  {
   "cell_type": "code",
   "execution_count": null,
   "metadata": {},
   "outputs": [],
   "source": []
  },
  {
   "cell_type": "code",
   "execution_count": null,
   "metadata": {},
   "outputs": [],
   "source": []
  },
  {
   "cell_type": "code",
   "execution_count": null,
   "metadata": {},
   "outputs": [],
   "source": []
  },
  {
   "cell_type": "markdown",
   "metadata": {},
   "source": [
    "#### Part 3: Building the model"
   ]
  },
  {
   "cell_type": "code",
   "execution_count": 3,
   "metadata": {},
   "outputs": [
    {
     "name": "stdout",
     "output_type": "stream",
     "text": [
      "Model: \"DKTModel\"\n",
      "_________________________________________________________________\n",
      "Layer (type)                 Output Shape              Param #   \n",
      "=================================================================\n",
      "inputs (InputLayer)          [(None, None, 246)]       0         \n",
      "_________________________________________________________________\n",
      "masking (Masking)            (None, None, 246)         0         \n",
      "_________________________________________________________________\n",
      "lstm (LSTM)                  (None, None, 100)         138800    \n",
      "_________________________________________________________________\n",
      "outputs (TimeDistributed)    (None, None, 123)         12423     \n",
      "=================================================================\n",
      "Total params: 151,223\n",
      "Trainable params: 151,223\n",
      "Non-trainable params: 0\n",
      "_________________________________________________________________\n"
     ]
    }
   ],
   "source": [
    "student_model = deepkt.DKTModel(\n",
    "                        nb_features=nb_features,\n",
    "                        nb_skills=nb_skills,\n",
    "                        hidden_units=lstm_units,\n",
    "                        dropout_rate=dropout_rate)\n",
    "\n",
    "student_model.compile(\n",
    "        optimizer=optimizer,\n",
    "        metrics=[\n",
    "            metrics.BinaryAccuracy(),\n",
    "            metrics.AUC(),\n",
    "            metrics.Precision(),\n",
    "            metrics.Recall()\n",
    "        ])\n",
    "\n",
    "student_model.summary()"
   ]
  },
  {
   "cell_type": "markdown",
   "metadata": {
    "collapsed": true
   },
   "source": [
    "#### Part 4: Train the Model"
   ]
  },
  {
   "cell_type": "code",
   "execution_count": 4,
   "metadata": {},
   "outputs": [
    {
     "name": "stdout",
     "output_type": "stream",
     "text": [
      "Epoch 1/10\n",
      "83/83 [==============================] - 12s 146ms/step - loss: 0.0657 - binary_accuracy: 0.7288 - auc: 0.7076 - precision: 0.7478 - recall: 0.9222 - val_loss: 0.0000e+00 - val_binary_accuracy: 0.0000e+00 - val_auc: 0.0000e+00 - val_precision: 0.0000e+00 - val_recall: 0.0000e+00\n",
      "Epoch 2/10\n",
      "83/83 [==============================] - 9s 108ms/step - loss: 0.0557 - binary_accuracy: 0.7720 - auc: 0.8120 - precision: 0.7765 - recall: 0.9440 - val_loss: 0.0666 - val_binary_accuracy: 0.7878 - val_auc: 0.8344 - val_precision: 0.7908 - val_recall: 0.9487\n",
      "Epoch 3/10\n",
      "83/83 [==============================] - 9s 108ms/step - loss: 0.0612 - binary_accuracy: 0.7788 - auc: 0.8233 - precision: 0.7862 - recall: 0.9348 - val_loss: 0.0607 - val_binary_accuracy: 0.7715 - val_auc: 0.8289 - val_precision: 0.7733 - val_recall: 0.9310\n",
      "Epoch 4/10\n",
      "83/83 [==============================] - 9s 103ms/step - loss: 0.0596 - binary_accuracy: 0.7877 - auc: 0.8315 - precision: 0.7991 - recall: 0.9319 - val_loss: 0.0618 - val_binary_accuracy: 0.7871 - val_auc: 0.8322 - val_precision: 0.7917 - val_recall: 0.9436\n",
      "Epoch 5/10\n",
      "83/83 [==============================] - 9s 109ms/step - loss: 0.0532 - binary_accuracy: 0.7817 - auc: 0.8291 - precision: 0.7958 - recall: 0.9199 - val_loss: 0.0518 - val_binary_accuracy: 0.8046 - val_auc: 0.8671 - val_precision: 0.8093 - val_recall: 0.9352\n",
      "Epoch 6/10\n",
      "83/83 [==============================] - 8s 98ms/step - loss: 0.0584 - binary_accuracy: 0.7768 - auc: 0.8201 - precision: 0.7889 - recall: 0.9232 - val_loss: 0.0522 - val_binary_accuracy: 0.7863 - val_auc: 0.8385 - val_precision: 0.8047 - val_recall: 0.9141\n",
      "Epoch 7/10\n",
      "83/83 [==============================] - 9s 104ms/step - loss: 0.0536 - binary_accuracy: 0.7839 - auc: 0.8295 - precision: 0.7970 - recall: 0.9238 - val_loss: 0.0603 - val_binary_accuracy: 0.7838 - val_auc: 0.8345 - val_precision: 0.7932 - val_recall: 0.9277\n",
      "Epoch 8/10\n",
      "83/83 [==============================] - 9s 107ms/step - loss: 0.0546 - binary_accuracy: 0.7958 - auc: 0.8498 - precision: 0.8080 - recall: 0.9248 - val_loss: 0.0607 - val_binary_accuracy: 0.8053 - val_auc: 0.8586 - val_precision: 0.8169 - val_recall: 0.9346\n",
      "Epoch 9/10\n",
      "83/83 [==============================] - 9s 106ms/step - loss: 0.0543 - binary_accuracy: 0.7795 - auc: 0.8309 - precision: 0.7928 - recall: 0.9147 - val_loss: 0.0509 - val_binary_accuracy: 0.7806 - val_auc: 0.8216 - val_precision: 0.7891 - val_recall: 0.9329\n",
      "Epoch 10/10\n",
      "83/83 [==============================] - 9s 105ms/step - loss: 0.0547 - binary_accuracy: 0.7950 - auc: 0.8464 - precision: 0.8063 - recall: 0.9248 - val_loss: 0.0603 - val_binary_accuracy: 0.7717 - val_auc: 0.8144 - val_precision: 0.7823 - val_recall: 0.9200\n"
     ]
    }
   ],
   "source": [
    "import tensorflow as tf\n",
    "history = student_model.fit(dataset=train_set,\n",
    "                            epochs=epochs,\n",
    "                            verbose=verbose,\n",
    "                            validation_data=val_set,\n",
    "                            callbacks=[ \n",
    "                                tf.keras.callbacks.CSVLogger(f\"{log_dir}/train.log\"),\n",
    "                                tf.keras.callbacks.ModelCheckpoint(best_model_weights,\n",
    "                                                                   save_best_only=True,\n",
    "                                                                   save_weights_only=True),\n",
    "                                tf.keras.callbacks.TensorBoard(log_dir=log_dir)\n",
    "        ])"
   ]
  },
  {
   "cell_type": "markdown",
   "metadata": {},
   "source": [
    "#### Part 5: Load the Model with the Best Validation Loss"
   ]
  },
  {
   "cell_type": "code",
   "execution_count": 5,
   "metadata": {},
   "outputs": [
    {
     "data": {
      "text/plain": [
       "<tensorflow.python.training.tracking.util.CheckpointLoadStatus at 0x7eff96fd8cd0>"
      ]
     },
     "execution_count": 5,
     "metadata": {},
     "output_type": "execute_result"
    }
   ],
   "source": [
    "student_model.load_weights(best_model_weights)"
   ]
  },
  {
   "cell_type": "markdown",
   "metadata": {},
   "source": [
    "#### Part 6: Test the Model"
   ]
  },
  {
   "cell_type": "code",
   "execution_count": 6,
   "metadata": {},
   "outputs": [
    {
     "name": "stdout",
     "output_type": "stream",
     "text": [
      "     26/Unknown - 2s 67ms/step - loss: 0.0529 - binary_accuracy: 0.8071 - auc: 0.8599 - precision: 0.8176 - recall: 0.9329"
     ]
    }
   ],
   "source": [
    "result = student_model.evaluate(test_set, verbose=verbose)"
   ]
  }
 ],
 "metadata": {
  "kernelspec": {
   "name": "python386jvsc74a57bd0435abe99259aa22357c41abd06f89201634665744e0ddb9c4ac9e08362c3167b",
   "display_name": "Python 3.8.6 64-bit"
  },
  "language_info": {
   "codemirror_mode": {
    "name": "ipython",
    "version": 3
   },
   "file_extension": ".py",
   "mimetype": "text/x-python",
   "name": "python",
   "nbconvert_exporter": "python",
   "pygments_lexer": "ipython3",
   "version": "3.8.6"
  },
  "metadata": {
   "interpreter": {
    "hash": "435abe99259aa22357c41abd06f89201634665744e0ddb9c4ac9e08362c3167b"
   }
  }
 },
 "nbformat": 4,
 "nbformat_minor": 2
}