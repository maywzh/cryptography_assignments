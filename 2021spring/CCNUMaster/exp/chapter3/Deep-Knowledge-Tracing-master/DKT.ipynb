{
 "cells": [
  {
   "cell_type": "markdown",
   "metadata": {},
   "source": [
    "# Udacity - Machine Learning Engineer Nanodegree\n",
    "## Capstone Project\n",
    "### Title: Development of a LSTM Network to Predict Students’ Answers on Exam Questions"
   ]
  },
  {
   "cell_type": "markdown",
   "metadata": {},
   "source": [
    "### Implementation of DKT:\n",
    "#### Part 1: Define constants"
   ]
  },
  {
   "cell_type": "code",
   "execution_count": 1,
   "metadata": {},
   "outputs": [],
   "source": [
    "import pandas as pd\n",
    "import tensorflow as tf\n",
    "import numpy as np\n",
    "\n",
    "fn = \"data/ASSISTments_skill_builder_data.csv\" # Dataset path\n",
    "verbose = 1 # Verbose = {0,1,2}\n",
    "best_model_weights = \"weights/bestmodel\" # File to save the model.\n",
    "log_dir = \"logs\" # Path to save the logs.\n",
    "optimizer = \"adam\" # Optimizer to use\n",
    "lstm_units = 100 # Number of LSTM units\n",
    "batch_size = 32 # Batch size\n",
    "epochs = 10 # Number of epochs to train\n",
    "dropout_rate = 0.3 # Dropout rate\n",
    "test_fraction = 0.2 # Portion of data to be used for testing\n",
    "validation_fraction = 0.2 # Portion of training data to be used for validation"
   ]
  },
  {
   "cell_type": "code",
   "execution_count": null,
   "metadata": {},
   "outputs": [],
   "source": []
  },
  {
   "cell_type": "markdown",
   "metadata": {},
   "source": [
    "#### Part 2: Pre-processing"
   ]
  },
  {
   "cell_type": "code",
   "execution_count": 2,
   "metadata": {},
   "outputs": [
    {
     "output_type": "stream",
     "name": "stderr",
     "text": [
      "/Users/maywzh/.pyenv/versions/3.8.6/lib/python3.8/site-packages/IPython/core/interactiveshell.py:3338: DtypeWarning: Columns (17) have mixed types.Specify dtype option on import or set low_memory=False.\n",
      "  if (await self.run_code(code, result,  async_=asy)):\n",
      "============= Data Summary =============\n",
      "Total number of students: 4032\n",
      "Training set size: 2580\n",
      "Validation set size: 645\n",
      "Testing set size: 806\n",
      "Number of skills: 123\n",
      "Number of features in the input: 246\n",
      "========================================\n"
     ]
    }
   ],
   "source": [
    "from deepkt import deepkt, data_util, metrics\n",
    "\n",
    "\n",
    "dataset, length, nb_features, nb_skills = data_util.load_dataset(fn=fn,\n",
    "                                                                 batch_size=batch_size,\n",
    "                                                                 shuffle=True)\n",
    "\n",
    "train_set, test_set, val_set = data_util.split_dataset(dataset=dataset,\n",
    "                                                       total_size=length,\n",
    "                                                       test_fraction=test_fraction,\n",
    "                                                       val_fraction=validation_fraction)\n",
    "\n",
    "\n",
    "set_sz = length * batch_size\n",
    "test_set_sz = (set_sz * test_fraction)\n",
    "val_set_sz = (set_sz - test_set_sz) * validation_fraction\n",
    "train_set_sz = set_sz - test_set_sz - val_set_sz\n",
    "print(\"============= Data Summary =============\")\n",
    "print(\"Total number of students: %d\" % set_sz)\n",
    "print(\"Training set size: %d\" % train_set_sz)\n",
    "print(\"Validation set size: %d\" % val_set_sz)\n",
    "print(\"Testing set size: %d\" % test_set_sz)\n",
    "print(\"Number of skills: %d\" % nb_skills)\n",
    "print(\"Number of features in the input: %d\" % nb_features)\n",
    "print(\"========================================\")"
   ]
  },
  {
   "cell_type": "code",
   "execution_count": 3,
   "metadata": {},
   "outputs": [
    {
     "output_type": "execute_result",
     "data": {
      "text/plain": [
       "<SkipDataset shapes: ((32, None, None), (32, None, None)), types: (tf.float32, tf.float32)>"
      ]
     },
     "metadata": {},
     "execution_count": 3
    }
   ],
   "source": [
    "train_set"
   ]
  },
  {
   "cell_type": "code",
   "execution_count": 4,
   "metadata": {},
   "outputs": [
    {
     "output_type": "stream",
     "name": "stderr",
     "text": [
      "/Users/maywzh/.pyenv/versions/3.8.6/lib/python3.8/site-packages/IPython/core/interactiveshell.py:3146: DtypeWarning: Columns (17) have mixed types.Specify dtype option on import or set low_memory=False.\n  has_raised = await self.run_ast_nodes(code_ast.body, cell_name,\n"
     ]
    }
   ],
   "source": [
    " df = pd.read_csv(fn)"
   ]
  },
  {
   "cell_type": "code",
   "execution_count": 5,
   "metadata": {},
   "outputs": [
    {
     "output_type": "execute_result",
     "data": {
      "text/plain": [
       "        order_id  assignment_id  user_id  assistment_id  problem_id  original  \\\n",
       "0       33022537         277618    64525          33139       51424         1   \n",
       "1       33022709         277618    64525          33150       51435         1   \n",
       "2       35450204         220674    70363          33159       51444         1   \n",
       "3       35450295         220674    70363          33110       51395         1   \n",
       "4       35450311         220674    70363          33196       51481         1   \n",
       "...          ...            ...      ...            ...         ...       ...   \n",
       "525529  38214014         291495    96299          57830      108976         0   \n",
       "525530  38214016         291495    96299          57843      109015         0   \n",
       "525531  38214195         291503    96299          34577       54060         0   \n",
       "525532  38214196         291503    96299          34577       54061         0   \n",
       "525533  38214198         291503    96299          34577       54062         0   \n",
       "\n",
       "        correct  attempt_count  ms_first_response tutor_mode  ... hint_count  \\\n",
       "0             1              1              32454      tutor  ...          0   \n",
       "1             1              1               4922      tutor  ...          0   \n",
       "2             0              2              25390      tutor  ...          0   \n",
       "3             1              1               4859      tutor  ...          0   \n",
       "4             0             14              19813      tutor  ...          3   \n",
       "...         ...            ...                ...        ...  ...        ...   \n",
       "525529        1              1              38234      tutor  ...          0   \n",
       "525530        1              1               6500      tutor  ...          0   \n",
       "525531        1              1              18344      tutor  ...          0   \n",
       "525532        1              1              12922      tutor  ...          0   \n",
       "525533        0              9              36047      tutor  ...          1   \n",
       "\n",
       "        hint_total  overlap_time  template_id answer_id  answer_text  \\\n",
       "0                3         32454        30799       NaN           26   \n",
       "1                3          4922        30799       NaN           55   \n",
       "2                3         42000        30799       NaN           88   \n",
       "3                3          4859        30059       NaN           41   \n",
       "4                4        124564        30060       NaN           65   \n",
       "...            ...           ...          ...       ...          ...   \n",
       "525529           2         38234        55692  200260.0          NaN   \n",
       "525530           0          6500        55693  200299.0          NaN   \n",
       "525531           3         18344        30677       NaN          0.8   \n",
       "525532           2         12922        30677       NaN           -6   \n",
       "525533           3        163422        30677       NaN         -6.8   \n",
       "\n",
       "        first_action bottom_hint  opportunity  opportunity_original  \n",
       "0                0.0         NaN          1.0                   1.0  \n",
       "1                0.0         NaN          2.0                   2.0  \n",
       "2                0.0         NaN          1.0                   1.0  \n",
       "3                0.0         NaN          2.0                   2.0  \n",
       "4                0.0         0.0          3.0                   3.0  \n",
       "...              ...         ...          ...                   ...  \n",
       "525529           0.0         NaN         54.0                   NaN  \n",
       "525530           0.0         NaN         55.0                   NaN  \n",
       "525531           0.0         NaN         56.0                   NaN  \n",
       "525532           0.0         NaN         57.0                   NaN  \n",
       "525533           0.0         0.0         58.0                   NaN  \n",
       "\n",
       "[525534 rows x 30 columns]"
      ],
      "text/html": "<div>\n<style scoped>\n    .dataframe tbody tr th:only-of-type {\n        vertical-align: middle;\n    }\n\n    .dataframe tbody tr th {\n        vertical-align: top;\n    }\n\n    .dataframe thead th {\n        text-align: right;\n    }\n</style>\n<table border=\"1\" class=\"dataframe\">\n  <thead>\n    <tr style=\"text-align: right;\">\n      <th></th>\n      <th>order_id</th>\n      <th>assignment_id</th>\n      <th>user_id</th>\n      <th>assistment_id</th>\n      <th>problem_id</th>\n      <th>original</th>\n      <th>correct</th>\n      <th>attempt_count</th>\n      <th>ms_first_response</th>\n      <th>tutor_mode</th>\n      <th>...</th>\n      <th>hint_count</th>\n      <th>hint_total</th>\n      <th>overlap_time</th>\n      <th>template_id</th>\n      <th>answer_id</th>\n      <th>answer_text</th>\n      <th>first_action</th>\n      <th>bottom_hint</th>\n      <th>opportunity</th>\n      <th>opportunity_original</th>\n    </tr>\n  </thead>\n  <tbody>\n    <tr>\n      <th>0</th>\n      <td>33022537</td>\n      <td>277618</td>\n      <td>64525</td>\n      <td>33139</td>\n      <td>51424</td>\n      <td>1</td>\n      <td>1</td>\n      <td>1</td>\n      <td>32454</td>\n      <td>tutor</td>\n      <td>...</td>\n      <td>0</td>\n      <td>3</td>\n      <td>32454</td>\n      <td>30799</td>\n      <td>NaN</td>\n      <td>26</td>\n      <td>0.0</td>\n      <td>NaN</td>\n      <td>1.0</td>\n      <td>1.0</td>\n    </tr>\n    <tr>\n      <th>1</th>\n      <td>33022709</td>\n      <td>277618</td>\n      <td>64525</td>\n      <td>33150</td>\n      <td>51435</td>\n      <td>1</td>\n      <td>1</td>\n      <td>1</td>\n      <td>4922</td>\n      <td>tutor</td>\n      <td>...</td>\n      <td>0</td>\n      <td>3</td>\n      <td>4922</td>\n      <td>30799</td>\n      <td>NaN</td>\n      <td>55</td>\n      <td>0.0</td>\n      <td>NaN</td>\n      <td>2.0</td>\n      <td>2.0</td>\n    </tr>\n    <tr>\n      <th>2</th>\n      <td>35450204</td>\n      <td>220674</td>\n      <td>70363</td>\n      <td>33159</td>\n      <td>51444</td>\n      <td>1</td>\n      <td>0</td>\n      <td>2</td>\n      <td>25390</td>\n      <td>tutor</td>\n      <td>...</td>\n      <td>0</td>\n      <td>3</td>\n      <td>42000</td>\n      <td>30799</td>\n      <td>NaN</td>\n      <td>88</td>\n      <td>0.0</td>\n      <td>NaN</td>\n      <td>1.0</td>\n      <td>1.0</td>\n    </tr>\n    <tr>\n      <th>3</th>\n      <td>35450295</td>\n      <td>220674</td>\n      <td>70363</td>\n      <td>33110</td>\n      <td>51395</td>\n      <td>1</td>\n      <td>1</td>\n      <td>1</td>\n      <td>4859</td>\n      <td>tutor</td>\n      <td>...</td>\n      <td>0</td>\n      <td>3</td>\n      <td>4859</td>\n      <td>30059</td>\n      <td>NaN</td>\n      <td>41</td>\n      <td>0.0</td>\n      <td>NaN</td>\n      <td>2.0</td>\n      <td>2.0</td>\n    </tr>\n    <tr>\n      <th>4</th>\n      <td>35450311</td>\n      <td>220674</td>\n      <td>70363</td>\n      <td>33196</td>\n      <td>51481</td>\n      <td>1</td>\n      <td>0</td>\n      <td>14</td>\n      <td>19813</td>\n      <td>tutor</td>\n      <td>...</td>\n      <td>3</td>\n      <td>4</td>\n      <td>124564</td>\n      <td>30060</td>\n      <td>NaN</td>\n      <td>65</td>\n      <td>0.0</td>\n      <td>0.0</td>\n      <td>3.0</td>\n      <td>3.0</td>\n    </tr>\n    <tr>\n      <th>...</th>\n      <td>...</td>\n      <td>...</td>\n      <td>...</td>\n      <td>...</td>\n      <td>...</td>\n      <td>...</td>\n      <td>...</td>\n      <td>...</td>\n      <td>...</td>\n      <td>...</td>\n      <td>...</td>\n      <td>...</td>\n      <td>...</td>\n      <td>...</td>\n      <td>...</td>\n      <td>...</td>\n      <td>...</td>\n      <td>...</td>\n      <td>...</td>\n      <td>...</td>\n      <td>...</td>\n    </tr>\n    <tr>\n      <th>525529</th>\n      <td>38214014</td>\n      <td>291495</td>\n      <td>96299</td>\n      <td>57830</td>\n      <td>108976</td>\n      <td>0</td>\n      <td>1</td>\n      <td>1</td>\n      <td>38234</td>\n      <td>tutor</td>\n      <td>...</td>\n      <td>0</td>\n      <td>2</td>\n      <td>38234</td>\n      <td>55692</td>\n      <td>200260.0</td>\n      <td>NaN</td>\n      <td>0.0</td>\n      <td>NaN</td>\n      <td>54.0</td>\n      <td>NaN</td>\n    </tr>\n    <tr>\n      <th>525530</th>\n      <td>38214016</td>\n      <td>291495</td>\n      <td>96299</td>\n      <td>57843</td>\n      <td>109015</td>\n      <td>0</td>\n      <td>1</td>\n      <td>1</td>\n      <td>6500</td>\n      <td>tutor</td>\n      <td>...</td>\n      <td>0</td>\n      <td>0</td>\n      <td>6500</td>\n      <td>55693</td>\n      <td>200299.0</td>\n      <td>NaN</td>\n      <td>0.0</td>\n      <td>NaN</td>\n      <td>55.0</td>\n      <td>NaN</td>\n    </tr>\n    <tr>\n      <th>525531</th>\n      <td>38214195</td>\n      <td>291503</td>\n      <td>96299</td>\n      <td>34577</td>\n      <td>54060</td>\n      <td>0</td>\n      <td>1</td>\n      <td>1</td>\n      <td>18344</td>\n      <td>tutor</td>\n      <td>...</td>\n      <td>0</td>\n      <td>3</td>\n      <td>18344</td>\n      <td>30677</td>\n      <td>NaN</td>\n      <td>0.8</td>\n      <td>0.0</td>\n      <td>NaN</td>\n      <td>56.0</td>\n      <td>NaN</td>\n    </tr>\n    <tr>\n      <th>525532</th>\n      <td>38214196</td>\n      <td>291503</td>\n      <td>96299</td>\n      <td>34577</td>\n      <td>54061</td>\n      <td>0</td>\n      <td>1</td>\n      <td>1</td>\n      <td>12922</td>\n      <td>tutor</td>\n      <td>...</td>\n      <td>0</td>\n      <td>2</td>\n      <td>12922</td>\n      <td>30677</td>\n      <td>NaN</td>\n      <td>-6</td>\n      <td>0.0</td>\n      <td>NaN</td>\n      <td>57.0</td>\n      <td>NaN</td>\n    </tr>\n    <tr>\n      <th>525533</th>\n      <td>38214198</td>\n      <td>291503</td>\n      <td>96299</td>\n      <td>34577</td>\n      <td>54062</td>\n      <td>0</td>\n      <td>0</td>\n      <td>9</td>\n      <td>36047</td>\n      <td>tutor</td>\n      <td>...</td>\n      <td>1</td>\n      <td>3</td>\n      <td>163422</td>\n      <td>30677</td>\n      <td>NaN</td>\n      <td>-6.8</td>\n      <td>0.0</td>\n      <td>0.0</td>\n      <td>58.0</td>\n      <td>NaN</td>\n    </tr>\n  </tbody>\n</table>\n<p>525534 rows × 30 columns</p>\n</div>"
     },
     "metadata": {},
     "execution_count": 5
    }
   ],
   "source": [
    "df"
   ]
  },
  {
   "cell_type": "code",
   "execution_count": 6,
   "metadata": {},
   "outputs": [],
   "source": [
    "if \"skill_id\" not in df.columns:\n",
    "    raise KeyError(f\"The column 'skill_id' was not found on {fn}\")\n",
    "if \"correct\" not in df.columns:\n",
    "    raise KeyError(f\"The column 'correct' was not found on {fn}\")\n",
    "if \"user_id\" not in df.columns:\n",
    "    raise KeyError(f\"The column 'user_id' was not found on {fn}\")"
   ]
  },
  {
   "cell_type": "code",
   "execution_count": 8,
   "metadata": {},
   "outputs": [],
   "source": [
    "if not (df['correct'].isin([0, 1])).all():\n",
    "        raise KeyError(f\"The values of the column 'correct' must be 0 or 1.\")"
   ]
  },
  {
   "cell_type": "code",
   "execution_count": 9,
   "metadata": {},
   "outputs": [],
   "source": [
    "  df.dropna(subset=['skill_id'], inplace=True)"
   ]
  },
  {
   "cell_type": "code",
   "execution_count": 11,
   "metadata": {},
   "outputs": [],
   "source": [
    "df = df.groupby('user_id').filter(lambda q: len(q) > 1).copy()"
   ]
  },
  {
   "cell_type": "code",
   "execution_count": 12,
   "metadata": {},
   "outputs": [],
   "source": [
    "df['skill'], _ = pd.factorize(df['skill_id'], sort=True)"
   ]
  },
  {
   "cell_type": "code",
   "execution_count": 23,
   "metadata": {},
   "outputs": [
    {
     "output_type": "execute_result",
     "data": {
      "text/plain": [
       "        order_id  assignment_id  user_id  assistment_id  problem_id  original  \\\n",
       "0       33022537         277618    64525          33139       51424         1   \n",
       "1       33022709         277618    64525          33150       51435         1   \n",
       "2       35450204         220674    70363          33159       51444         1   \n",
       "3       35450295         220674    70363          33110       51395         1   \n",
       "4       35450311         220674    70363          33196       51481         1   \n",
       "...          ...            ...      ...            ...         ...       ...   \n",
       "459202  33150328         277900    85730          69050      128450         1   \n",
       "459203  33150408         277900    85730          69042      128442         1   \n",
       "459204  33150487         277900    85730          69056      128456         1   \n",
       "459205  33150779         277900    85730          69046      128446         1   \n",
       "459206  33151098         277901    85730          69057      128457         1   \n",
       "\n",
       "        correct  attempt_count  ms_first_response tutor_mode  ... hint_total  \\\n",
       "0             1              1              32454      tutor  ...          3   \n",
       "1             1              1               4922      tutor  ...          3   \n",
       "2             0              2              25390      tutor  ...          3   \n",
       "3             1              1               4859      tutor  ...          3   \n",
       "4             0             14              19813      tutor  ...          4   \n",
       "...         ...            ...                ...        ...  ...        ...   \n",
       "459202        0              2              51594      tutor  ...          4   \n",
       "459203        0              2              51016      tutor  ...          4   \n",
       "459204        1              1              61547      tutor  ...          4   \n",
       "459205        1              1              53890      tutor  ...          4   \n",
       "459206        0              4             181532      tutor  ...          3   \n",
       "\n",
       "        overlap_time  template_id  answer_id answer_text  first_action  \\\n",
       "0              32454        30799        NaN          26           0.0   \n",
       "1               4922        30799        NaN          55           0.0   \n",
       "2              42000        30799        NaN          88           0.0   \n",
       "3               4859        30059        NaN          41           0.0   \n",
       "4             124564        30060        NaN          65           0.0   \n",
       "...              ...          ...        ...         ...           ...   \n",
       "459202        130875        59998        NaN           0           0.0   \n",
       "459203        102125        59998        NaN      03/jul           0.0   \n",
       "459204         61547        59998        NaN       2-May           0.0   \n",
       "459205         53890        59998        NaN       10/-6           0.0   \n",
       "459206        196844        60008        NaN        57/9           0.0   \n",
       "\n",
       "        bottom_hint opportunity  opportunity_original  skill  \n",
       "0               NaN         1.0                   1.0      0  \n",
       "1               NaN         2.0                   2.0      0  \n",
       "2               NaN         1.0                   1.0      0  \n",
       "3               NaN         2.0                   2.0      0  \n",
       "4               0.0         3.0                   3.0      0  \n",
       "...             ...         ...                   ...    ...  \n",
       "459202          NaN        12.0                  12.0    122  \n",
       "459203          NaN        13.0                  13.0    122  \n",
       "459204          NaN        14.0                  14.0    122  \n",
       "459205          NaN        15.0                  15.0    122  \n",
       "459206          1.0        16.0                  16.0    122  \n",
       "\n",
       "[459092 rows x 31 columns]"
      ],
      "text/html": "<div>\n<style scoped>\n    .dataframe tbody tr th:only-of-type {\n        vertical-align: middle;\n    }\n\n    .dataframe tbody tr th {\n        vertical-align: top;\n    }\n\n    .dataframe thead th {\n        text-align: right;\n    }\n</style>\n<table border=\"1\" class=\"dataframe\">\n  <thead>\n    <tr style=\"text-align: right;\">\n      <th></th>\n      <th>order_id</th>\n      <th>assignment_id</th>\n      <th>user_id</th>\n      <th>assistment_id</th>\n      <th>problem_id</th>\n      <th>original</th>\n      <th>correct</th>\n      <th>attempt_count</th>\n      <th>ms_first_response</th>\n      <th>tutor_mode</th>\n      <th>...</th>\n      <th>hint_total</th>\n      <th>overlap_time</th>\n      <th>template_id</th>\n      <th>answer_id</th>\n      <th>answer_text</th>\n      <th>first_action</th>\n      <th>bottom_hint</th>\n      <th>opportunity</th>\n      <th>opportunity_original</th>\n      <th>skill</th>\n    </tr>\n  </thead>\n  <tbody>\n    <tr>\n      <th>0</th>\n      <td>33022537</td>\n      <td>277618</td>\n      <td>64525</td>\n      <td>33139</td>\n      <td>51424</td>\n      <td>1</td>\n      <td>1</td>\n      <td>1</td>\n      <td>32454</td>\n      <td>tutor</td>\n      <td>...</td>\n      <td>3</td>\n      <td>32454</td>\n      <td>30799</td>\n      <td>NaN</td>\n      <td>26</td>\n      <td>0.0</td>\n      <td>NaN</td>\n      <td>1.0</td>\n      <td>1.0</td>\n      <td>0</td>\n    </tr>\n    <tr>\n      <th>1</th>\n      <td>33022709</td>\n      <td>277618</td>\n      <td>64525</td>\n      <td>33150</td>\n      <td>51435</td>\n      <td>1</td>\n      <td>1</td>\n      <td>1</td>\n      <td>4922</td>\n      <td>tutor</td>\n      <td>...</td>\n      <td>3</td>\n      <td>4922</td>\n      <td>30799</td>\n      <td>NaN</td>\n      <td>55</td>\n      <td>0.0</td>\n      <td>NaN</td>\n      <td>2.0</td>\n      <td>2.0</td>\n      <td>0</td>\n    </tr>\n    <tr>\n      <th>2</th>\n      <td>35450204</td>\n      <td>220674</td>\n      <td>70363</td>\n      <td>33159</td>\n      <td>51444</td>\n      <td>1</td>\n      <td>0</td>\n      <td>2</td>\n      <td>25390</td>\n      <td>tutor</td>\n      <td>...</td>\n      <td>3</td>\n      <td>42000</td>\n      <td>30799</td>\n      <td>NaN</td>\n      <td>88</td>\n      <td>0.0</td>\n      <td>NaN</td>\n      <td>1.0</td>\n      <td>1.0</td>\n      <td>0</td>\n    </tr>\n    <tr>\n      <th>3</th>\n      <td>35450295</td>\n      <td>220674</td>\n      <td>70363</td>\n      <td>33110</td>\n      <td>51395</td>\n      <td>1</td>\n      <td>1</td>\n      <td>1</td>\n      <td>4859</td>\n      <td>tutor</td>\n      <td>...</td>\n      <td>3</td>\n      <td>4859</td>\n      <td>30059</td>\n      <td>NaN</td>\n      <td>41</td>\n      <td>0.0</td>\n      <td>NaN</td>\n      <td>2.0</td>\n      <td>2.0</td>\n      <td>0</td>\n    </tr>\n    <tr>\n      <th>4</th>\n      <td>35450311</td>\n      <td>220674</td>\n      <td>70363</td>\n      <td>33196</td>\n      <td>51481</td>\n      <td>1</td>\n      <td>0</td>\n      <td>14</td>\n      <td>19813</td>\n      <td>tutor</td>\n      <td>...</td>\n      <td>4</td>\n      <td>124564</td>\n      <td>30060</td>\n      <td>NaN</td>\n      <td>65</td>\n      <td>0.0</td>\n      <td>0.0</td>\n      <td>3.0</td>\n      <td>3.0</td>\n      <td>0</td>\n    </tr>\n    <tr>\n      <th>...</th>\n      <td>...</td>\n      <td>...</td>\n      <td>...</td>\n      <td>...</td>\n      <td>...</td>\n      <td>...</td>\n      <td>...</td>\n      <td>...</td>\n      <td>...</td>\n      <td>...</td>\n      <td>...</td>\n      <td>...</td>\n      <td>...</td>\n      <td>...</td>\n      <td>...</td>\n      <td>...</td>\n      <td>...</td>\n      <td>...</td>\n      <td>...</td>\n      <td>...</td>\n      <td>...</td>\n    </tr>\n    <tr>\n      <th>459202</th>\n      <td>33150328</td>\n      <td>277900</td>\n      <td>85730</td>\n      <td>69050</td>\n      <td>128450</td>\n      <td>1</td>\n      <td>0</td>\n      <td>2</td>\n      <td>51594</td>\n      <td>tutor</td>\n      <td>...</td>\n      <td>4</td>\n      <td>130875</td>\n      <td>59998</td>\n      <td>NaN</td>\n      <td>0</td>\n      <td>0.0</td>\n      <td>NaN</td>\n      <td>12.0</td>\n      <td>12.0</td>\n      <td>122</td>\n    </tr>\n    <tr>\n      <th>459203</th>\n      <td>33150408</td>\n      <td>277900</td>\n      <td>85730</td>\n      <td>69042</td>\n      <td>128442</td>\n      <td>1</td>\n      <td>0</td>\n      <td>2</td>\n      <td>51016</td>\n      <td>tutor</td>\n      <td>...</td>\n      <td>4</td>\n      <td>102125</td>\n      <td>59998</td>\n      <td>NaN</td>\n      <td>03/jul</td>\n      <td>0.0</td>\n      <td>NaN</td>\n      <td>13.0</td>\n      <td>13.0</td>\n      <td>122</td>\n    </tr>\n    <tr>\n      <th>459204</th>\n      <td>33150487</td>\n      <td>277900</td>\n      <td>85730</td>\n      <td>69056</td>\n      <td>128456</td>\n      <td>1</td>\n      <td>1</td>\n      <td>1</td>\n      <td>61547</td>\n      <td>tutor</td>\n      <td>...</td>\n      <td>4</td>\n      <td>61547</td>\n      <td>59998</td>\n      <td>NaN</td>\n      <td>2-May</td>\n      <td>0.0</td>\n      <td>NaN</td>\n      <td>14.0</td>\n      <td>14.0</td>\n      <td>122</td>\n    </tr>\n    <tr>\n      <th>459205</th>\n      <td>33150779</td>\n      <td>277900</td>\n      <td>85730</td>\n      <td>69046</td>\n      <td>128446</td>\n      <td>1</td>\n      <td>1</td>\n      <td>1</td>\n      <td>53890</td>\n      <td>tutor</td>\n      <td>...</td>\n      <td>4</td>\n      <td>53890</td>\n      <td>59998</td>\n      <td>NaN</td>\n      <td>10/-6</td>\n      <td>0.0</td>\n      <td>NaN</td>\n      <td>15.0</td>\n      <td>15.0</td>\n      <td>122</td>\n    </tr>\n    <tr>\n      <th>459206</th>\n      <td>33151098</td>\n      <td>277901</td>\n      <td>85730</td>\n      <td>69057</td>\n      <td>128457</td>\n      <td>1</td>\n      <td>0</td>\n      <td>4</td>\n      <td>181532</td>\n      <td>tutor</td>\n      <td>...</td>\n      <td>3</td>\n      <td>196844</td>\n      <td>60008</td>\n      <td>NaN</td>\n      <td>57/9</td>\n      <td>0.0</td>\n      <td>1.0</td>\n      <td>16.0</td>\n      <td>16.0</td>\n      <td>122</td>\n    </tr>\n  </tbody>\n</table>\n<p>459092 rows × 31 columns</p>\n</div>"
     },
     "metadata": {},
     "execution_count": 23
    }
   ],
   "source": [
    "df"
   ]
  },
  {
   "cell_type": "code",
   "execution_count": 20,
   "metadata": {},
   "outputs": [],
   "source": [
    "df['skill_with_answer'] = df['skill'] * 2 + df['correct']"
   ]
  },
  {
   "cell_type": "code",
   "execution_count": 13,
   "metadata": {},
   "outputs": [
    {
     "output_type": "execute_result",
     "data": {
      "text/plain": [
       "        order_id  assignment_id  user_id  assistment_id  problem_id  original  \\\n",
       "0       33022537         277618    64525          33139       51424         1   \n",
       "1       33022709         277618    64525          33150       51435         1   \n",
       "2       35450204         220674    70363          33159       51444         1   \n",
       "3       35450295         220674    70363          33110       51395         1   \n",
       "4       35450311         220674    70363          33196       51481         1   \n",
       "...          ...            ...      ...            ...         ...       ...   \n",
       "459202  33150328         277900    85730          69050      128450         1   \n",
       "459203  33150408         277900    85730          69042      128442         1   \n",
       "459204  33150487         277900    85730          69056      128456         1   \n",
       "459205  33150779         277900    85730          69046      128446         1   \n",
       "459206  33151098         277901    85730          69057      128457         1   \n",
       "\n",
       "        correct  attempt_count  ms_first_response tutor_mode  ... hint_total  \\\n",
       "0             1              1              32454      tutor  ...          3   \n",
       "1             1              1               4922      tutor  ...          3   \n",
       "2             0              2              25390      tutor  ...          3   \n",
       "3             1              1               4859      tutor  ...          3   \n",
       "4             0             14              19813      tutor  ...          4   \n",
       "...         ...            ...                ...        ...  ...        ...   \n",
       "459202        0              2              51594      tutor  ...          4   \n",
       "459203        0              2              51016      tutor  ...          4   \n",
       "459204        1              1              61547      tutor  ...          4   \n",
       "459205        1              1              53890      tutor  ...          4   \n",
       "459206        0              4             181532      tutor  ...          3   \n",
       "\n",
       "        overlap_time  template_id  answer_id answer_text  first_action  \\\n",
       "0              32454        30799        NaN          26           0.0   \n",
       "1               4922        30799        NaN          55           0.0   \n",
       "2              42000        30799        NaN          88           0.0   \n",
       "3               4859        30059        NaN          41           0.0   \n",
       "4             124564        30060        NaN          65           0.0   \n",
       "...              ...          ...        ...         ...           ...   \n",
       "459202        130875        59998        NaN           0           0.0   \n",
       "459203        102125        59998        NaN      03/jul           0.0   \n",
       "459204         61547        59998        NaN       2-May           0.0   \n",
       "459205         53890        59998        NaN       10/-6           0.0   \n",
       "459206        196844        60008        NaN        57/9           0.0   \n",
       "\n",
       "        bottom_hint opportunity  opportunity_original  skill  \n",
       "0               NaN         1.0                   1.0      0  \n",
       "1               NaN         2.0                   2.0      0  \n",
       "2               NaN         1.0                   1.0      0  \n",
       "3               NaN         2.0                   2.0      0  \n",
       "4               0.0         3.0                   3.0      0  \n",
       "...             ...         ...                   ...    ...  \n",
       "459202          NaN        12.0                  12.0    122  \n",
       "459203          NaN        13.0                  13.0    122  \n",
       "459204          NaN        14.0                  14.0    122  \n",
       "459205          NaN        15.0                  15.0    122  \n",
       "459206          1.0        16.0                  16.0    122  \n",
       "\n",
       "[459092 rows x 31 columns]"
      ],
      "text/html": "<div>\n<style scoped>\n    .dataframe tbody tr th:only-of-type {\n        vertical-align: middle;\n    }\n\n    .dataframe tbody tr th {\n        vertical-align: top;\n    }\n\n    .dataframe thead th {\n        text-align: right;\n    }\n</style>\n<table border=\"1\" class=\"dataframe\">\n  <thead>\n    <tr style=\"text-align: right;\">\n      <th></th>\n      <th>order_id</th>\n      <th>assignment_id</th>\n      <th>user_id</th>\n      <th>assistment_id</th>\n      <th>problem_id</th>\n      <th>original</th>\n      <th>correct</th>\n      <th>attempt_count</th>\n      <th>ms_first_response</th>\n      <th>tutor_mode</th>\n      <th>...</th>\n      <th>hint_total</th>\n      <th>overlap_time</th>\n      <th>template_id</th>\n      <th>answer_id</th>\n      <th>answer_text</th>\n      <th>first_action</th>\n      <th>bottom_hint</th>\n      <th>opportunity</th>\n      <th>opportunity_original</th>\n      <th>skill</th>\n    </tr>\n  </thead>\n  <tbody>\n    <tr>\n      <th>0</th>\n      <td>33022537</td>\n      <td>277618</td>\n      <td>64525</td>\n      <td>33139</td>\n      <td>51424</td>\n      <td>1</td>\n      <td>1</td>\n      <td>1</td>\n      <td>32454</td>\n      <td>tutor</td>\n      <td>...</td>\n      <td>3</td>\n      <td>32454</td>\n      <td>30799</td>\n      <td>NaN</td>\n      <td>26</td>\n      <td>0.0</td>\n      <td>NaN</td>\n      <td>1.0</td>\n      <td>1.0</td>\n      <td>0</td>\n    </tr>\n    <tr>\n      <th>1</th>\n      <td>33022709</td>\n      <td>277618</td>\n      <td>64525</td>\n      <td>33150</td>\n      <td>51435</td>\n      <td>1</td>\n      <td>1</td>\n      <td>1</td>\n      <td>4922</td>\n      <td>tutor</td>\n      <td>...</td>\n      <td>3</td>\n      <td>4922</td>\n      <td>30799</td>\n      <td>NaN</td>\n      <td>55</td>\n      <td>0.0</td>\n      <td>NaN</td>\n      <td>2.0</td>\n      <td>2.0</td>\n      <td>0</td>\n    </tr>\n    <tr>\n      <th>2</th>\n      <td>35450204</td>\n      <td>220674</td>\n      <td>70363</td>\n      <td>33159</td>\n      <td>51444</td>\n      <td>1</td>\n      <td>0</td>\n      <td>2</td>\n      <td>25390</td>\n      <td>tutor</td>\n      <td>...</td>\n      <td>3</td>\n      <td>42000</td>\n      <td>30799</td>\n      <td>NaN</td>\n      <td>88</td>\n      <td>0.0</td>\n      <td>NaN</td>\n      <td>1.0</td>\n      <td>1.0</td>\n      <td>0</td>\n    </tr>\n    <tr>\n      <th>3</th>\n      <td>35450295</td>\n      <td>220674</td>\n      <td>70363</td>\n      <td>33110</td>\n      <td>51395</td>\n      <td>1</td>\n      <td>1</td>\n      <td>1</td>\n      <td>4859</td>\n      <td>tutor</td>\n      <td>...</td>\n      <td>3</td>\n      <td>4859</td>\n      <td>30059</td>\n      <td>NaN</td>\n      <td>41</td>\n      <td>0.0</td>\n      <td>NaN</td>\n      <td>2.0</td>\n      <td>2.0</td>\n      <td>0</td>\n    </tr>\n    <tr>\n      <th>4</th>\n      <td>35450311</td>\n      <td>220674</td>\n      <td>70363</td>\n      <td>33196</td>\n      <td>51481</td>\n      <td>1</td>\n      <td>0</td>\n      <td>14</td>\n      <td>19813</td>\n      <td>tutor</td>\n      <td>...</td>\n      <td>4</td>\n      <td>124564</td>\n      <td>30060</td>\n      <td>NaN</td>\n      <td>65</td>\n      <td>0.0</td>\n      <td>0.0</td>\n      <td>3.0</td>\n      <td>3.0</td>\n      <td>0</td>\n    </tr>\n    <tr>\n      <th>...</th>\n      <td>...</td>\n      <td>...</td>\n      <td>...</td>\n      <td>...</td>\n      <td>...</td>\n      <td>...</td>\n      <td>...</td>\n      <td>...</td>\n      <td>...</td>\n      <td>...</td>\n      <td>...</td>\n      <td>...</td>\n      <td>...</td>\n      <td>...</td>\n      <td>...</td>\n      <td>...</td>\n      <td>...</td>\n      <td>...</td>\n      <td>...</td>\n      <td>...</td>\n      <td>...</td>\n    </tr>\n    <tr>\n      <th>459202</th>\n      <td>33150328</td>\n      <td>277900</td>\n      <td>85730</td>\n      <td>69050</td>\n      <td>128450</td>\n      <td>1</td>\n      <td>0</td>\n      <td>2</td>\n      <td>51594</td>\n      <td>tutor</td>\n      <td>...</td>\n      <td>4</td>\n      <td>130875</td>\n      <td>59998</td>\n      <td>NaN</td>\n      <td>0</td>\n      <td>0.0</td>\n      <td>NaN</td>\n      <td>12.0</td>\n      <td>12.0</td>\n      <td>122</td>\n    </tr>\n    <tr>\n      <th>459203</th>\n      <td>33150408</td>\n      <td>277900</td>\n      <td>85730</td>\n      <td>69042</td>\n      <td>128442</td>\n      <td>1</td>\n      <td>0</td>\n      <td>2</td>\n      <td>51016</td>\n      <td>tutor</td>\n      <td>...</td>\n      <td>4</td>\n      <td>102125</td>\n      <td>59998</td>\n      <td>NaN</td>\n      <td>03/jul</td>\n      <td>0.0</td>\n      <td>NaN</td>\n      <td>13.0</td>\n      <td>13.0</td>\n      <td>122</td>\n    </tr>\n    <tr>\n      <th>459204</th>\n      <td>33150487</td>\n      <td>277900</td>\n      <td>85730</td>\n      <td>69056</td>\n      <td>128456</td>\n      <td>1</td>\n      <td>1</td>\n      <td>1</td>\n      <td>61547</td>\n      <td>tutor</td>\n      <td>...</td>\n      <td>4</td>\n      <td>61547</td>\n      <td>59998</td>\n      <td>NaN</td>\n      <td>2-May</td>\n      <td>0.0</td>\n      <td>NaN</td>\n      <td>14.0</td>\n      <td>14.0</td>\n      <td>122</td>\n    </tr>\n    <tr>\n      <th>459205</th>\n      <td>33150779</td>\n      <td>277900</td>\n      <td>85730</td>\n      <td>69046</td>\n      <td>128446</td>\n      <td>1</td>\n      <td>1</td>\n      <td>1</td>\n      <td>53890</td>\n      <td>tutor</td>\n      <td>...</td>\n      <td>4</td>\n      <td>53890</td>\n      <td>59998</td>\n      <td>NaN</td>\n      <td>10/-6</td>\n      <td>0.0</td>\n      <td>NaN</td>\n      <td>15.0</td>\n      <td>15.0</td>\n      <td>122</td>\n    </tr>\n    <tr>\n      <th>459206</th>\n      <td>33151098</td>\n      <td>277901</td>\n      <td>85730</td>\n      <td>69057</td>\n      <td>128457</td>\n      <td>1</td>\n      <td>0</td>\n      <td>4</td>\n      <td>181532</td>\n      <td>tutor</td>\n      <td>...</td>\n      <td>3</td>\n      <td>196844</td>\n      <td>60008</td>\n      <td>NaN</td>\n      <td>57/9</td>\n      <td>0.0</td>\n      <td>1.0</td>\n      <td>16.0</td>\n      <td>16.0</td>\n      <td>122</td>\n    </tr>\n  </tbody>\n</table>\n<p>459092 rows × 31 columns</p>\n</div>"
     },
     "metadata": {},
     "execution_count": 13
    }
   ],
   "source": [
    "df"
   ]
  },
  {
   "cell_type": "code",
   "execution_count": 21,
   "metadata": {},
   "outputs": [],
   "source": [
    "seq = df.groupby('user_id').apply(\n",
    "        lambda r: (\n",
    "            r['skill_with_answer'].values[:-1],\n",
    "            r['skill'].values[1:],\n",
    "            r['correct'].values[1:],\n",
    "        )\n",
    "    )"
   ]
  },
  {
   "cell_type": "code",
   "execution_count": 28,
   "metadata": {},
   "outputs": [
    {
     "output_type": "execute_result",
     "data": {
      "text/plain": [
       "(array([ 2,  3,  2,  2,  2,  2,  2,  2,  3,  2,  3,  2, 18, 18, 18, 18, 23,\n",
       "        23, 23, 48, 49, 48, 48, 48, 48, 48, 49, 49, 48, 62, 62, 63, 62, 63,\n",
       "        62, 88, 89, 88, 88, 88, 88, 96, 96, 98]),\n",
       " array([ 1,  1,  1,  1,  1,  1,  1,  1,  1,  1,  1,  9,  9,  9,  9, 11, 11,\n",
       "        11, 24, 24, 24, 24, 24, 24, 24, 24, 24, 24, 31, 31, 31, 31, 31, 31,\n",
       "        44, 44, 44, 44, 44, 44, 48, 48, 49, 49]),\n",
       " array([1, 0, 0, 0, 0, 0, 0, 1, 0, 1, 0, 0, 0, 0, 0, 1, 1, 1, 0, 1, 0, 0,\n",
       "        0, 0, 0, 1, 1, 0, 0, 0, 1, 0, 1, 0, 0, 1, 0, 0, 0, 0, 0, 0, 0, 0]))"
      ]
     },
     "metadata": {},
     "execution_count": 28
    }
   ],
   "source": [
    "seq[14]"
   ]
  },
  {
   "cell_type": "code",
   "execution_count": 22,
   "metadata": {},
   "outputs": [],
   "source": [
    "    nb_users = len(seq)"
   ]
  },
  {
   "cell_type": "code",
   "execution_count": 30,
   "metadata": {},
   "outputs": [
    {
     "output_type": "execute_result",
     "data": {
      "text/plain": [
       "4047"
      ]
     },
     "metadata": {},
     "execution_count": 30
    }
   ],
   "source": [
    "nb_users"
   ]
  },
  {
   "cell_type": "code",
   "execution_count": 23,
   "metadata": {},
   "outputs": [],
   "source": [
    "dataset = tf.data.Dataset.from_generator(\n",
    "        generator=lambda: seq,\n",
    "        output_types=(tf.int32, tf.int32, tf.float32)\n",
    "    )"
   ]
  },
  {
   "cell_type": "code",
   "execution_count": 24,
   "metadata": {},
   "outputs": [
    {
     "output_type": "execute_result",
     "data": {
      "text/plain": [
       "<FlatMapDataset shapes: (<unknown>, <unknown>, <unknown>), types: (tf.int32, tf.int32, tf.float32)>"
      ]
     },
     "metadata": {},
     "execution_count": 24
    }
   ],
   "source": [
    "dataset"
   ]
  },
  {
   "cell_type": "code",
   "execution_count": 25,
   "metadata": {},
   "outputs": [
    {
     "output_type": "execute_result",
     "data": {
      "text/plain": [
       "<FlatMapDataset shapes: (<unknown>, <unknown>, <unknown>), types: (tf.int32, tf.int32, tf.float32)>"
      ]
     },
     "metadata": {},
     "execution_count": 25
    }
   ],
   "source": [
    "dataset"
   ]
  },
  {
   "cell_type": "code",
   "execution_count": 26,
   "metadata": {},
   "outputs": [],
   "source": [
    "dataset = dataset.shuffle(buffer_size=nb_users)"
   ]
  },
  {
   "cell_type": "code",
   "execution_count": 27,
   "metadata": {},
   "outputs": [
    {
     "output_type": "error",
     "ename": "NameError",
     "evalue": "in user code:\n\n    <ipython-input-27-c2ba6e5b2828>:2 None  *\n        )\n\n    NameError: name 'features_depth' is not defined\n",
     "traceback": [
      "\u001b[0;31m---------------------------------------------------------------------------\u001b[0m",
      "\u001b[0;31mNameError\u001b[0m                                 Traceback (most recent call last)",
      "\u001b[0;32m<ipython-input-27-c2ba6e5b2828>\u001b[0m in \u001b[0;36m<module>\u001b[0;34m\u001b[0m\n\u001b[0;32m----> 1\u001b[0;31m dataset = dataset.map(\n\u001b[0m\u001b[1;32m      2\u001b[0m         lambda feat, skill, label: (\n\u001b[1;32m      3\u001b[0m             \u001b[0mtf\u001b[0m\u001b[0;34m.\u001b[0m\u001b[0mone_hot\u001b[0m\u001b[0;34m(\u001b[0m\u001b[0mfeat\u001b[0m\u001b[0;34m,\u001b[0m \u001b[0mdepth\u001b[0m\u001b[0;34m=\u001b[0m\u001b[0mfeatures_depth\u001b[0m\u001b[0;34m)\u001b[0m\u001b[0;34m,\u001b[0m\u001b[0;34m\u001b[0m\u001b[0;34m\u001b[0m\u001b[0m\n\u001b[1;32m      4\u001b[0m             tf.concat(\n\u001b[1;32m      5\u001b[0m                 values=[\n",
      "\u001b[0;32m~/.pyenv/versions/3.8.6/lib/python3.8/site-packages/tensorflow/python/data/ops/dataset_ops.py\u001b[0m in \u001b[0;36mmap\u001b[0;34m(self, map_func, num_parallel_calls, deterministic)\u001b[0m\n\u001b[1;32m   1803\u001b[0m     \"\"\"\n\u001b[1;32m   1804\u001b[0m     \u001b[0;32mif\u001b[0m \u001b[0mnum_parallel_calls\u001b[0m \u001b[0;32mis\u001b[0m \u001b[0;32mNone\u001b[0m\u001b[0;34m:\u001b[0m\u001b[0;34m\u001b[0m\u001b[0;34m\u001b[0m\u001b[0m\n\u001b[0;32m-> 1805\u001b[0;31m       \u001b[0;32mreturn\u001b[0m \u001b[0mMapDataset\u001b[0m\u001b[0;34m(\u001b[0m\u001b[0mself\u001b[0m\u001b[0;34m,\u001b[0m \u001b[0mmap_func\u001b[0m\u001b[0;34m,\u001b[0m \u001b[0mpreserve_cardinality\u001b[0m\u001b[0;34m=\u001b[0m\u001b[0;32mTrue\u001b[0m\u001b[0;34m)\u001b[0m\u001b[0;34m\u001b[0m\u001b[0;34m\u001b[0m\u001b[0m\n\u001b[0m\u001b[1;32m   1806\u001b[0m     \u001b[0;32melse\u001b[0m\u001b[0;34m:\u001b[0m\u001b[0;34m\u001b[0m\u001b[0;34m\u001b[0m\u001b[0m\n\u001b[1;32m   1807\u001b[0m       return ParallelMapDataset(\n",
      "\u001b[0;32m~/.pyenv/versions/3.8.6/lib/python3.8/site-packages/tensorflow/python/data/ops/dataset_ops.py\u001b[0m in \u001b[0;36m__init__\u001b[0;34m(self, input_dataset, map_func, use_inter_op_parallelism, preserve_cardinality, use_legacy_function)\u001b[0m\n\u001b[1;32m   4201\u001b[0m     \u001b[0mself\u001b[0m\u001b[0;34m.\u001b[0m\u001b[0m_use_inter_op_parallelism\u001b[0m \u001b[0;34m=\u001b[0m \u001b[0muse_inter_op_parallelism\u001b[0m\u001b[0;34m\u001b[0m\u001b[0;34m\u001b[0m\u001b[0m\n\u001b[1;32m   4202\u001b[0m     \u001b[0mself\u001b[0m\u001b[0;34m.\u001b[0m\u001b[0m_preserve_cardinality\u001b[0m \u001b[0;34m=\u001b[0m \u001b[0mpreserve_cardinality\u001b[0m\u001b[0;34m\u001b[0m\u001b[0;34m\u001b[0m\u001b[0m\n\u001b[0;32m-> 4203\u001b[0;31m     self._map_func = StructuredFunctionWrapper(\n\u001b[0m\u001b[1;32m   4204\u001b[0m         \u001b[0mmap_func\u001b[0m\u001b[0;34m,\u001b[0m\u001b[0;34m\u001b[0m\u001b[0;34m\u001b[0m\u001b[0m\n\u001b[1;32m   4205\u001b[0m         \u001b[0mself\u001b[0m\u001b[0;34m.\u001b[0m\u001b[0m_transformation_name\u001b[0m\u001b[0;34m(\u001b[0m\u001b[0;34m)\u001b[0m\u001b[0;34m,\u001b[0m\u001b[0;34m\u001b[0m\u001b[0;34m\u001b[0m\u001b[0m\n",
      "\u001b[0;32m~/.pyenv/versions/3.8.6/lib/python3.8/site-packages/tensorflow/python/data/ops/dataset_ops.py\u001b[0m in \u001b[0;36m__init__\u001b[0;34m(self, func, transformation_name, dataset, input_classes, input_shapes, input_types, input_structure, add_to_graph, use_legacy_function, defun_kwargs)\u001b[0m\n\u001b[1;32m   3523\u001b[0m       \u001b[0;32mwith\u001b[0m \u001b[0mtracking\u001b[0m\u001b[0;34m.\u001b[0m\u001b[0mresource_tracker_scope\u001b[0m\u001b[0;34m(\u001b[0m\u001b[0mresource_tracker\u001b[0m\u001b[0;34m)\u001b[0m\u001b[0;34m:\u001b[0m\u001b[0;34m\u001b[0m\u001b[0;34m\u001b[0m\u001b[0m\n\u001b[1;32m   3524\u001b[0m         \u001b[0;31m# TODO(b/141462134): Switch to using garbage collection.\u001b[0m\u001b[0;34m\u001b[0m\u001b[0;34m\u001b[0m\u001b[0;34m\u001b[0m\u001b[0m\n\u001b[0;32m-> 3525\u001b[0;31m         \u001b[0mself\u001b[0m\u001b[0;34m.\u001b[0m\u001b[0m_function\u001b[0m \u001b[0;34m=\u001b[0m \u001b[0mwrapper_fn\u001b[0m\u001b[0;34m.\u001b[0m\u001b[0mget_concrete_function\u001b[0m\u001b[0;34m(\u001b[0m\u001b[0;34m)\u001b[0m\u001b[0;34m\u001b[0m\u001b[0;34m\u001b[0m\u001b[0m\n\u001b[0m\u001b[1;32m   3526\u001b[0m         \u001b[0;32mif\u001b[0m \u001b[0madd_to_graph\u001b[0m\u001b[0;34m:\u001b[0m\u001b[0;34m\u001b[0m\u001b[0;34m\u001b[0m\u001b[0m\n\u001b[1;32m   3527\u001b[0m           \u001b[0mself\u001b[0m\u001b[0;34m.\u001b[0m\u001b[0m_function\u001b[0m\u001b[0;34m.\u001b[0m\u001b[0madd_to_graph\u001b[0m\u001b[0;34m(\u001b[0m\u001b[0mops\u001b[0m\u001b[0;34m.\u001b[0m\u001b[0mget_default_graph\u001b[0m\u001b[0;34m(\u001b[0m\u001b[0;34m)\u001b[0m\u001b[0;34m)\u001b[0m\u001b[0;34m\u001b[0m\u001b[0;34m\u001b[0m\u001b[0m\n",
      "\u001b[0;32m~/.pyenv/versions/3.8.6/lib/python3.8/site-packages/tensorflow/python/eager/function.py\u001b[0m in \u001b[0;36mget_concrete_function\u001b[0;34m(self, *args, **kwargs)\u001b[0m\n\u001b[1;32m   3049\u001b[0m       \u001b[0;34m**\u001b[0m\u001b[0mkwargs\u001b[0m\u001b[0;34m:\u001b[0m \u001b[0minputs\u001b[0m \u001b[0mto\u001b[0m \u001b[0mspecialize\u001b[0m \u001b[0mon\u001b[0m\u001b[0;34m.\u001b[0m\u001b[0;34m\u001b[0m\u001b[0;34m\u001b[0m\u001b[0m\n\u001b[1;32m   3050\u001b[0m     \"\"\"\n\u001b[0;32m-> 3051\u001b[0;31m     graph_function = self._get_concrete_function_garbage_collected(\n\u001b[0m\u001b[1;32m   3052\u001b[0m         *args, **kwargs)\n\u001b[1;32m   3053\u001b[0m     \u001b[0mgraph_function\u001b[0m\u001b[0;34m.\u001b[0m\u001b[0m_garbage_collector\u001b[0m\u001b[0;34m.\u001b[0m\u001b[0mrelease\u001b[0m\u001b[0;34m(\u001b[0m\u001b[0;34m)\u001b[0m  \u001b[0;31m# pylint: disable=protected-access\u001b[0m\u001b[0;34m\u001b[0m\u001b[0;34m\u001b[0m\u001b[0m\n",
      "\u001b[0;32m~/.pyenv/versions/3.8.6/lib/python3.8/site-packages/tensorflow/python/eager/function.py\u001b[0m in \u001b[0;36m_get_concrete_function_garbage_collected\u001b[0;34m(self, *args, **kwargs)\u001b[0m\n\u001b[1;32m   3017\u001b[0m       \u001b[0margs\u001b[0m\u001b[0;34m,\u001b[0m \u001b[0mkwargs\u001b[0m \u001b[0;34m=\u001b[0m \u001b[0;32mNone\u001b[0m\u001b[0;34m,\u001b[0m \u001b[0;32mNone\u001b[0m\u001b[0;34m\u001b[0m\u001b[0;34m\u001b[0m\u001b[0m\n\u001b[1;32m   3018\u001b[0m     \u001b[0;32mwith\u001b[0m \u001b[0mself\u001b[0m\u001b[0;34m.\u001b[0m\u001b[0m_lock\u001b[0m\u001b[0;34m:\u001b[0m\u001b[0;34m\u001b[0m\u001b[0;34m\u001b[0m\u001b[0m\n\u001b[0;32m-> 3019\u001b[0;31m       \u001b[0mgraph_function\u001b[0m\u001b[0;34m,\u001b[0m \u001b[0m_\u001b[0m \u001b[0;34m=\u001b[0m \u001b[0mself\u001b[0m\u001b[0;34m.\u001b[0m\u001b[0m_maybe_define_function\u001b[0m\u001b[0;34m(\u001b[0m\u001b[0margs\u001b[0m\u001b[0;34m,\u001b[0m \u001b[0mkwargs\u001b[0m\u001b[0;34m)\u001b[0m\u001b[0;34m\u001b[0m\u001b[0;34m\u001b[0m\u001b[0m\n\u001b[0m\u001b[1;32m   3020\u001b[0m       \u001b[0mseen_names\u001b[0m \u001b[0;34m=\u001b[0m \u001b[0mset\u001b[0m\u001b[0;34m(\u001b[0m\u001b[0;34m)\u001b[0m\u001b[0;34m\u001b[0m\u001b[0;34m\u001b[0m\u001b[0m\n\u001b[1;32m   3021\u001b[0m       captured = object_identity.ObjectIdentitySet(\n",
      "\u001b[0;32m~/.pyenv/versions/3.8.6/lib/python3.8/site-packages/tensorflow/python/eager/function.py\u001b[0m in \u001b[0;36m_maybe_define_function\u001b[0;34m(self, args, kwargs)\u001b[0m\n\u001b[1;32m   3359\u001b[0m \u001b[0;34m\u001b[0m\u001b[0m\n\u001b[1;32m   3360\u001b[0m           \u001b[0mself\u001b[0m\u001b[0;34m.\u001b[0m\u001b[0m_function_cache\u001b[0m\u001b[0;34m.\u001b[0m\u001b[0mmissed\u001b[0m\u001b[0;34m.\u001b[0m\u001b[0madd\u001b[0m\u001b[0;34m(\u001b[0m\u001b[0mcall_context_key\u001b[0m\u001b[0;34m)\u001b[0m\u001b[0;34m\u001b[0m\u001b[0;34m\u001b[0m\u001b[0m\n\u001b[0;32m-> 3361\u001b[0;31m           \u001b[0mgraph_function\u001b[0m \u001b[0;34m=\u001b[0m \u001b[0mself\u001b[0m\u001b[0;34m.\u001b[0m\u001b[0m_create_graph_function\u001b[0m\u001b[0;34m(\u001b[0m\u001b[0margs\u001b[0m\u001b[0;34m,\u001b[0m \u001b[0mkwargs\u001b[0m\u001b[0;34m)\u001b[0m\u001b[0;34m\u001b[0m\u001b[0;34m\u001b[0m\u001b[0m\n\u001b[0m\u001b[1;32m   3362\u001b[0m           \u001b[0mself\u001b[0m\u001b[0;34m.\u001b[0m\u001b[0m_function_cache\u001b[0m\u001b[0;34m.\u001b[0m\u001b[0mprimary\u001b[0m\u001b[0;34m[\u001b[0m\u001b[0mcache_key\u001b[0m\u001b[0;34m]\u001b[0m \u001b[0;34m=\u001b[0m \u001b[0mgraph_function\u001b[0m\u001b[0;34m\u001b[0m\u001b[0;34m\u001b[0m\u001b[0m\n\u001b[1;32m   3363\u001b[0m \u001b[0;34m\u001b[0m\u001b[0m\n",
      "\u001b[0;32m~/.pyenv/versions/3.8.6/lib/python3.8/site-packages/tensorflow/python/eager/function.py\u001b[0m in \u001b[0;36m_create_graph_function\u001b[0;34m(self, args, kwargs, override_flat_arg_shapes)\u001b[0m\n\u001b[1;32m   3194\u001b[0m     \u001b[0marg_names\u001b[0m \u001b[0;34m=\u001b[0m \u001b[0mbase_arg_names\u001b[0m \u001b[0;34m+\u001b[0m \u001b[0mmissing_arg_names\u001b[0m\u001b[0;34m\u001b[0m\u001b[0;34m\u001b[0m\u001b[0m\n\u001b[1;32m   3195\u001b[0m     graph_function = ConcreteFunction(\n\u001b[0;32m-> 3196\u001b[0;31m         func_graph_module.func_graph_from_py_func(\n\u001b[0m\u001b[1;32m   3197\u001b[0m             \u001b[0mself\u001b[0m\u001b[0;34m.\u001b[0m\u001b[0m_name\u001b[0m\u001b[0;34m,\u001b[0m\u001b[0;34m\u001b[0m\u001b[0;34m\u001b[0m\u001b[0m\n\u001b[1;32m   3198\u001b[0m             \u001b[0mself\u001b[0m\u001b[0;34m.\u001b[0m\u001b[0m_python_function\u001b[0m\u001b[0;34m,\u001b[0m\u001b[0;34m\u001b[0m\u001b[0;34m\u001b[0m\u001b[0m\n",
      "\u001b[0;32m~/.pyenv/versions/3.8.6/lib/python3.8/site-packages/tensorflow/python/framework/func_graph.py\u001b[0m in \u001b[0;36mfunc_graph_from_py_func\u001b[0;34m(name, python_func, args, kwargs, signature, func_graph, autograph, autograph_options, add_control_dependencies, arg_names, op_return_value, collections, capture_by_value, override_flat_arg_shapes)\u001b[0m\n\u001b[1;32m    988\u001b[0m         \u001b[0m_\u001b[0m\u001b[0;34m,\u001b[0m \u001b[0moriginal_func\u001b[0m \u001b[0;34m=\u001b[0m \u001b[0mtf_decorator\u001b[0m\u001b[0;34m.\u001b[0m\u001b[0munwrap\u001b[0m\u001b[0;34m(\u001b[0m\u001b[0mpython_func\u001b[0m\u001b[0;34m)\u001b[0m\u001b[0;34m\u001b[0m\u001b[0;34m\u001b[0m\u001b[0m\n\u001b[1;32m    989\u001b[0m \u001b[0;34m\u001b[0m\u001b[0m\n\u001b[0;32m--> 990\u001b[0;31m       \u001b[0mfunc_outputs\u001b[0m \u001b[0;34m=\u001b[0m \u001b[0mpython_func\u001b[0m\u001b[0;34m(\u001b[0m\u001b[0;34m*\u001b[0m\u001b[0mfunc_args\u001b[0m\u001b[0;34m,\u001b[0m \u001b[0;34m**\u001b[0m\u001b[0mfunc_kwargs\u001b[0m\u001b[0;34m)\u001b[0m\u001b[0;34m\u001b[0m\u001b[0;34m\u001b[0m\u001b[0m\n\u001b[0m\u001b[1;32m    991\u001b[0m \u001b[0;34m\u001b[0m\u001b[0m\n\u001b[1;32m    992\u001b[0m       \u001b[0;31m# invariant: `func_outputs` contains only Tensors, CompositeTensors,\u001b[0m\u001b[0;34m\u001b[0m\u001b[0;34m\u001b[0m\u001b[0;34m\u001b[0m\u001b[0m\n",
      "\u001b[0;32m~/.pyenv/versions/3.8.6/lib/python3.8/site-packages/tensorflow/python/data/ops/dataset_ops.py\u001b[0m in \u001b[0;36mwrapper_fn\u001b[0;34m(*args)\u001b[0m\n\u001b[1;32m   3516\u001b[0m           attributes=defun_kwargs)\n\u001b[1;32m   3517\u001b[0m       \u001b[0;32mdef\u001b[0m \u001b[0mwrapper_fn\u001b[0m\u001b[0;34m(\u001b[0m\u001b[0;34m*\u001b[0m\u001b[0margs\u001b[0m\u001b[0;34m)\u001b[0m\u001b[0;34m:\u001b[0m  \u001b[0;31m# pylint: disable=missing-docstring\u001b[0m\u001b[0;34m\u001b[0m\u001b[0;34m\u001b[0m\u001b[0m\n\u001b[0;32m-> 3518\u001b[0;31m         \u001b[0mret\u001b[0m \u001b[0;34m=\u001b[0m \u001b[0m_wrapper_helper\u001b[0m\u001b[0;34m(\u001b[0m\u001b[0;34m*\u001b[0m\u001b[0margs\u001b[0m\u001b[0;34m)\u001b[0m\u001b[0;34m\u001b[0m\u001b[0;34m\u001b[0m\u001b[0m\n\u001b[0m\u001b[1;32m   3519\u001b[0m         \u001b[0mret\u001b[0m \u001b[0;34m=\u001b[0m \u001b[0mstructure\u001b[0m\u001b[0;34m.\u001b[0m\u001b[0mto_tensor_list\u001b[0m\u001b[0;34m(\u001b[0m\u001b[0mself\u001b[0m\u001b[0;34m.\u001b[0m\u001b[0m_output_structure\u001b[0m\u001b[0;34m,\u001b[0m \u001b[0mret\u001b[0m\u001b[0;34m)\u001b[0m\u001b[0;34m\u001b[0m\u001b[0;34m\u001b[0m\u001b[0m\n\u001b[1;32m   3520\u001b[0m         \u001b[0;32mreturn\u001b[0m \u001b[0;34m[\u001b[0m\u001b[0mops\u001b[0m\u001b[0;34m.\u001b[0m\u001b[0mconvert_to_tensor\u001b[0m\u001b[0;34m(\u001b[0m\u001b[0mt\u001b[0m\u001b[0;34m)\u001b[0m \u001b[0;32mfor\u001b[0m \u001b[0mt\u001b[0m \u001b[0;32min\u001b[0m \u001b[0mret\u001b[0m\u001b[0;34m]\u001b[0m\u001b[0;34m\u001b[0m\u001b[0;34m\u001b[0m\u001b[0m\n",
      "\u001b[0;32m~/.pyenv/versions/3.8.6/lib/python3.8/site-packages/tensorflow/python/data/ops/dataset_ops.py\u001b[0m in \u001b[0;36m_wrapper_helper\u001b[0;34m(*args)\u001b[0m\n\u001b[1;32m   3451\u001b[0m         \u001b[0mnested_args\u001b[0m \u001b[0;34m=\u001b[0m \u001b[0;34m(\u001b[0m\u001b[0mnested_args\u001b[0m\u001b[0;34m,\u001b[0m\u001b[0;34m)\u001b[0m\u001b[0;34m\u001b[0m\u001b[0;34m\u001b[0m\u001b[0m\n\u001b[1;32m   3452\u001b[0m \u001b[0;34m\u001b[0m\u001b[0m\n\u001b[0;32m-> 3453\u001b[0;31m       \u001b[0mret\u001b[0m \u001b[0;34m=\u001b[0m \u001b[0mautograph\u001b[0m\u001b[0;34m.\u001b[0m\u001b[0mtf_convert\u001b[0m\u001b[0;34m(\u001b[0m\u001b[0mfunc\u001b[0m\u001b[0;34m,\u001b[0m \u001b[0mag_ctx\u001b[0m\u001b[0;34m)\u001b[0m\u001b[0;34m(\u001b[0m\u001b[0;34m*\u001b[0m\u001b[0mnested_args\u001b[0m\u001b[0;34m)\u001b[0m\u001b[0;34m\u001b[0m\u001b[0;34m\u001b[0m\u001b[0m\n\u001b[0m\u001b[1;32m   3454\u001b[0m       \u001b[0;31m# If `func` returns a list of tensors, `nest.flatten()` and\u001b[0m\u001b[0;34m\u001b[0m\u001b[0;34m\u001b[0m\u001b[0;34m\u001b[0m\u001b[0m\n\u001b[1;32m   3455\u001b[0m       \u001b[0;31m# `ops.convert_to_tensor()` would conspire to attempt to stack\u001b[0m\u001b[0;34m\u001b[0m\u001b[0;34m\u001b[0m\u001b[0;34m\u001b[0m\u001b[0m\n",
      "\u001b[0;32m~/.pyenv/versions/3.8.6/lib/python3.8/site-packages/tensorflow/python/autograph/impl/api.py\u001b[0m in \u001b[0;36mwrapper\u001b[0;34m(*args, **kwargs)\u001b[0m\n\u001b[1;32m    668\u001b[0m       \u001b[0;32mexcept\u001b[0m \u001b[0mException\u001b[0m \u001b[0;32mas\u001b[0m \u001b[0me\u001b[0m\u001b[0;34m:\u001b[0m  \u001b[0;31m# pylint:disable=broad-except\u001b[0m\u001b[0;34m\u001b[0m\u001b[0;34m\u001b[0m\u001b[0m\n\u001b[1;32m    669\u001b[0m         \u001b[0;32mif\u001b[0m \u001b[0mhasattr\u001b[0m\u001b[0;34m(\u001b[0m\u001b[0me\u001b[0m\u001b[0;34m,\u001b[0m \u001b[0;34m'ag_error_metadata'\u001b[0m\u001b[0;34m)\u001b[0m\u001b[0;34m:\u001b[0m\u001b[0;34m\u001b[0m\u001b[0;34m\u001b[0m\u001b[0m\n\u001b[0;32m--> 670\u001b[0;31m           \u001b[0;32mraise\u001b[0m \u001b[0me\u001b[0m\u001b[0;34m.\u001b[0m\u001b[0mag_error_metadata\u001b[0m\u001b[0;34m.\u001b[0m\u001b[0mto_exception\u001b[0m\u001b[0;34m(\u001b[0m\u001b[0me\u001b[0m\u001b[0;34m)\u001b[0m\u001b[0;34m\u001b[0m\u001b[0;34m\u001b[0m\u001b[0m\n\u001b[0m\u001b[1;32m    671\u001b[0m         \u001b[0;32melse\u001b[0m\u001b[0;34m:\u001b[0m\u001b[0;34m\u001b[0m\u001b[0;34m\u001b[0m\u001b[0m\n\u001b[1;32m    672\u001b[0m           \u001b[0;32mraise\u001b[0m\u001b[0;34m\u001b[0m\u001b[0;34m\u001b[0m\u001b[0m\n",
      "\u001b[0;31mNameError\u001b[0m: in user code:\n\n    <ipython-input-27-c2ba6e5b2828>:2 None  *\n        )\n\n    NameError: name 'features_depth' is not defined\n"
     ]
    }
   ],
   "source": [
    "dataset = dataset.map(\n",
    "    lambda feat, skill, label: (\n",
    "        tf.one_hot(feat, depth=features_depth),\n",
    "        tf.concat(\n",
    "            values=[\n",
    "                tf.one_hot(skill, depth=skill_depth),\n",
    "                tf.expand_dims(label, -1)\n",
    "            ],\n",
    "            axis=-1\n",
    "        )\n",
    "    )\n",
    ")"
   ]
  },
  {
   "cell_type": "code",
   "execution_count": null,
   "metadata": {},
   "outputs": [],
   "source": []
  },
  {
   "cell_type": "code",
   "execution_count": null,
   "metadata": {},
   "outputs": [],
   "source": []
  },
  {
   "cell_type": "code",
   "execution_count": null,
   "metadata": {},
   "outputs": [],
   "source": []
  },
  {
   "cell_type": "code",
   "execution_count": null,
   "metadata": {},
   "outputs": [],
   "source": []
  },
  {
   "cell_type": "code",
   "execution_count": null,
   "metadata": {},
   "outputs": [],
   "source": []
  },
  {
   "cell_type": "code",
   "execution_count": null,
   "metadata": {},
   "outputs": [],
   "source": []
  },
  {
   "cell_type": "code",
   "execution_count": null,
   "metadata": {},
   "outputs": [],
   "source": []
  },
  {
   "cell_type": "code",
   "execution_count": null,
   "metadata": {},
   "outputs": [],
   "source": []
  },
  {
   "cell_type": "code",
   "execution_count": null,
   "metadata": {},
   "outputs": [],
   "source": []
  },
  {
   "cell_type": "markdown",
   "metadata": {},
   "source": [
    "#### Part 3: Building the model"
   ]
  },
  {
   "cell_type": "code",
   "execution_count": 3,
   "metadata": {},
   "outputs": [
    {
     "name": "stdout",
     "output_type": "stream",
     "text": [
      "Model: \"DKTModel\"\n",
      "_________________________________________________________________\n",
      "Layer (type)                 Output Shape              Param #   \n",
      "=================================================================\n",
      "inputs (InputLayer)          [(None, None, 246)]       0         \n",
      "_________________________________________________________________\n",
      "masking (Masking)            (None, None, 246)         0         \n",
      "_________________________________________________________________\n",
      "lstm (LSTM)                  (None, None, 100)         138800    \n",
      "_________________________________________________________________\n",
      "outputs (TimeDistributed)    (None, None, 123)         12423     \n",
      "=================================================================\n",
      "Total params: 151,223\n",
      "Trainable params: 151,223\n",
      "Non-trainable params: 0\n",
      "_________________________________________________________________\n"
     ]
    }
   ],
   "source": [
    "student_model = deepkt.DKTModel(\n",
    "                        nb_features=nb_features,\n",
    "                        nb_skills=nb_skills,\n",
    "                        hidden_units=lstm_units,\n",
    "                        dropout_rate=dropout_rate)\n",
    "\n",
    "student_model.compile(\n",
    "        optimizer=optimizer,\n",
    "        metrics=[\n",
    "            metrics.BinaryAccuracy(),\n",
    "            metrics.AUC(),\n",
    "            metrics.Precision(),\n",
    "            metrics.Recall()\n",
    "        ])\n",
    "\n",
    "student_model.summary()"
   ]
  },
  {
   "cell_type": "markdown",
   "metadata": {
    "collapsed": true
   },
   "source": [
    "#### Part 4: Train the Model"
   ]
  },
  {
   "cell_type": "code",
   "execution_count": 4,
   "metadata": {},
   "outputs": [
    {
     "name": "stdout",
     "output_type": "stream",
     "text": [
      "Epoch 1/10\n",
      "83/83 [==============================] - 12s 146ms/step - loss: 0.0657 - binary_accuracy: 0.7288 - auc: 0.7076 - precision: 0.7478 - recall: 0.9222 - val_loss: 0.0000e+00 - val_binary_accuracy: 0.0000e+00 - val_auc: 0.0000e+00 - val_precision: 0.0000e+00 - val_recall: 0.0000e+00\n",
      "Epoch 2/10\n",
      "83/83 [==============================] - 9s 108ms/step - loss: 0.0557 - binary_accuracy: 0.7720 - auc: 0.8120 - precision: 0.7765 - recall: 0.9440 - val_loss: 0.0666 - val_binary_accuracy: 0.7878 - val_auc: 0.8344 - val_precision: 0.7908 - val_recall: 0.9487\n",
      "Epoch 3/10\n",
      "83/83 [==============================] - 9s 108ms/step - loss: 0.0612 - binary_accuracy: 0.7788 - auc: 0.8233 - precision: 0.7862 - recall: 0.9348 - val_loss: 0.0607 - val_binary_accuracy: 0.7715 - val_auc: 0.8289 - val_precision: 0.7733 - val_recall: 0.9310\n",
      "Epoch 4/10\n",
      "83/83 [==============================] - 9s 103ms/step - loss: 0.0596 - binary_accuracy: 0.7877 - auc: 0.8315 - precision: 0.7991 - recall: 0.9319 - val_loss: 0.0618 - val_binary_accuracy: 0.7871 - val_auc: 0.8322 - val_precision: 0.7917 - val_recall: 0.9436\n",
      "Epoch 5/10\n",
      "83/83 [==============================] - 9s 109ms/step - loss: 0.0532 - binary_accuracy: 0.7817 - auc: 0.8291 - precision: 0.7958 - recall: 0.9199 - val_loss: 0.0518 - val_binary_accuracy: 0.8046 - val_auc: 0.8671 - val_precision: 0.8093 - val_recall: 0.9352\n",
      "Epoch 6/10\n",
      "83/83 [==============================] - 8s 98ms/step - loss: 0.0584 - binary_accuracy: 0.7768 - auc: 0.8201 - precision: 0.7889 - recall: 0.9232 - val_loss: 0.0522 - val_binary_accuracy: 0.7863 - val_auc: 0.8385 - val_precision: 0.8047 - val_recall: 0.9141\n",
      "Epoch 7/10\n",
      "83/83 [==============================] - 9s 104ms/step - loss: 0.0536 - binary_accuracy: 0.7839 - auc: 0.8295 - precision: 0.7970 - recall: 0.9238 - val_loss: 0.0603 - val_binary_accuracy: 0.7838 - val_auc: 0.8345 - val_precision: 0.7932 - val_recall: 0.9277\n",
      "Epoch 8/10\n",
      "83/83 [==============================] - 9s 107ms/step - loss: 0.0546 - binary_accuracy: 0.7958 - auc: 0.8498 - precision: 0.8080 - recall: 0.9248 - val_loss: 0.0607 - val_binary_accuracy: 0.8053 - val_auc: 0.8586 - val_precision: 0.8169 - val_recall: 0.9346\n",
      "Epoch 9/10\n",
      "83/83 [==============================] - 9s 106ms/step - loss: 0.0543 - binary_accuracy: 0.7795 - auc: 0.8309 - precision: 0.7928 - recall: 0.9147 - val_loss: 0.0509 - val_binary_accuracy: 0.7806 - val_auc: 0.8216 - val_precision: 0.7891 - val_recall: 0.9329\n",
      "Epoch 10/10\n",
      "83/83 [==============================] - 9s 105ms/step - loss: 0.0547 - binary_accuracy: 0.7950 - auc: 0.8464 - precision: 0.8063 - recall: 0.9248 - val_loss: 0.0603 - val_binary_accuracy: 0.7717 - val_auc: 0.8144 - val_precision: 0.7823 - val_recall: 0.9200\n"
     ]
    }
   ],
   "source": [
    "import tensorflow as tf\n",
    "history = student_model.fit(dataset=train_set,\n",
    "                            epochs=epochs,\n",
    "                            verbose=verbose,\n",
    "                            validation_data=val_set,\n",
    "                            callbacks=[ \n",
    "                                tf.keras.callbacks.CSVLogger(f\"{log_dir}/train.log\"),\n",
    "                                tf.keras.callbacks.ModelCheckpoint(best_model_weights,\n",
    "                                                                   save_best_only=True,\n",
    "                                                                   save_weights_only=True),\n",
    "                                tf.keras.callbacks.TensorBoard(log_dir=log_dir)\n",
    "        ])"
   ]
  },
  {
   "cell_type": "markdown",
   "metadata": {},
   "source": [
    "#### Part 5: Load the Model with the Best Validation Loss"
   ]
  },
  {
   "cell_type": "code",
   "execution_count": 5,
   "metadata": {},
   "outputs": [
    {
     "data": {
      "text/plain": [
       "<tensorflow.python.training.tracking.util.CheckpointLoadStatus at 0x7eff96fd8cd0>"
      ]
     },
     "execution_count": 5,
     "metadata": {},
     "output_type": "execute_result"
    }
   ],
   "source": [
    "student_model.load_weights(best_model_weights)"
   ]
  },
  {
   "cell_type": "markdown",
   "metadata": {},
   "source": [
    "#### Part 6: Test the Model"
   ]
  },
  {
   "cell_type": "code",
   "execution_count": 6,
   "metadata": {},
   "outputs": [
    {
     "name": "stdout",
     "output_type": "stream",
     "text": [
      "     26/Unknown - 2s 67ms/step - loss: 0.0529 - binary_accuracy: 0.8071 - auc: 0.8599 - precision: 0.8176 - recall: 0.9329"
     ]
    }
   ],
   "source": [
    "result = student_model.evaluate(test_set, verbose=verbose)"
   ]
  }
 ],
 "metadata": {
  "kernelspec": {
   "name": "python386jvsc74a57bd0435abe99259aa22357c41abd06f89201634665744e0ddb9c4ac9e08362c3167b",
   "display_name": "Python 3.8.6 64-bit"
  },
  "language_info": {
   "codemirror_mode": {
    "name": "ipython",
    "version": 3
   },
   "file_extension": ".py",
   "mimetype": "text/x-python",
   "name": "python",
   "nbconvert_exporter": "python",
   "pygments_lexer": "ipython3",
   "version": "3.8.6"
  },
  "metadata": {
   "interpreter": {
    "hash": "435abe99259aa22357c41abd06f89201634665744e0ddb9c4ac9e08362c3167b"
   }
  }
 },
 "nbformat": 4,
 "nbformat_minor": 2
}