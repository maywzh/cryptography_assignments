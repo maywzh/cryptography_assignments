{
 "cells": [
  {
   "cell_type": "code",
   "execution_count": 2,
   "metadata": {},
   "outputs": [
    {
     "output_type": "stream",
     "name": "stderr",
     "text": [
      "/Users/maywzh/.pyenv/versions/3.8.6/lib/python3.8/site-packages/IPython/core/interactiveshell.py:3146: DtypeWarning: Columns (17) have mixed types.Specify dtype option on import or set low_memory=False.\n  has_raised = await self.run_ast_nodes(code_ast.body, cell_name,\n"
     ]
    }
   ],
   "source": [
    "import pandas as pd\n",
    "import matplotlib.pyplot as plt\n",
    "\n",
    "file_name = './data/assist2009_raw/skill_builder_data_corrected.csv'\n",
    "df = pd.read_csv(file_name, encoding='ISO-8859-1')"
   ]
  },
  {
   "cell_type": "code",
   "execution_count": 3,
   "metadata": {},
   "outputs": [],
   "source": [
    "file_name = './data/assist2009_raw/skill_builder_data_corrected.csv'\n",
    "\n",
    "pickle_data = {}\n",
    "students = {}\n",
    "students_list = []\n",
    "skills = []\n",
    "users_id = []\n",
    "max_steps = -1\n",
    "min_steps = float('inf')\n",
    "features = ['assignment_id', 'assistment_id', 'problem_id', 'user_id', 'original', 'correct', 'attempt_count',\n",
    "            'ms_first_response',\n",
    "            'skill_id', 'hint_count', 'hint_total', 'first_action', 'bottom_hint']\n",
    "\n",
    "selected_features = ['skill_id', 'correct',\n",
    "                     'hint_count', 'first_action', 'hint_total', 'attempt_count']\n",
    "\n",
    "all_data = pd.read_csv(file_name, encoding='ISO-8859-1',low_memory=False)\n",
    "filtered_data = all_data.dropna(\n",
    "    axis=0, how='any', subset=selected_features)[features]\n",
    "filtered_data = filtered_data[filtered_data['ms_first_response'] > 0]"
   ]
  },
  {
   "cell_type": "code",
   "execution_count": 4,
   "metadata": {},
   "outputs": [
    {
     "output_type": "execute_result",
     "data": {
      "text/plain": [
       "        assignment_id  assistment_id  problem_id  user_id  original  correct  \\\n",
       "0              277618          33139       51424    64525         1        1   \n",
       "1              277618          33150       51435    64525         1        1   \n",
       "2              220674          33159       51444    70363         1        0   \n",
       "3              220674          33110       51395    70363         1        1   \n",
       "4              220674          33196       51481    70363         1        0   \n",
       "...               ...            ...         ...      ...       ...      ...   \n",
       "337996         277900          69042      128442    85730         1        0   \n",
       "337997         277900          69056      128456    85730         1        1   \n",
       "337998         277900          69046      128446    85730         1        1   \n",
       "337999         277901          69057      128457    85730         1        0   \n",
       "338000         276173          69025      128413    87896         1        0   \n",
       "\n",
       "        attempt_count  ms_first_response  skill_id  hint_count  hint_total  \\\n",
       "0                   1              32454       1.0           0           3   \n",
       "1                   1               4922       1.0           0           3   \n",
       "2                   2              25390       1.0           0           3   \n",
       "3                   1               4859       1.0           0           3   \n",
       "4                  14              19813       1.0           3           4   \n",
       "...               ...                ...       ...         ...         ...   \n",
       "337996              2              51016     378.0           0           4   \n",
       "337997              1              61547     378.0           0           4   \n",
       "337998              1              53890     378.0           0           4   \n",
       "337999              4             181532     378.0           3           3   \n",
       "338000              0              44424     378.0           1           3   \n",
       "\n",
       "        first_action  bottom_hint  \n",
       "0                  0          NaN  \n",
       "1                  0          NaN  \n",
       "2                  0          NaN  \n",
       "3                  0          NaN  \n",
       "4                  0          0.0  \n",
       "...              ...          ...  \n",
       "337996             0          NaN  \n",
       "337997             0          NaN  \n",
       "337998             0          NaN  \n",
       "337999             0          1.0  \n",
       "338000             1          0.0  \n",
       "\n",
       "[337678 rows x 13 columns]"
      ],
      "text/html": "<div>\n<style scoped>\n    .dataframe tbody tr th:only-of-type {\n        vertical-align: middle;\n    }\n\n    .dataframe tbody tr th {\n        vertical-align: top;\n    }\n\n    .dataframe thead th {\n        text-align: right;\n    }\n</style>\n<table border=\"1\" class=\"dataframe\">\n  <thead>\n    <tr style=\"text-align: right;\">\n      <th></th>\n      <th>assignment_id</th>\n      <th>assistment_id</th>\n      <th>problem_id</th>\n      <th>user_id</th>\n      <th>original</th>\n      <th>correct</th>\n      <th>attempt_count</th>\n      <th>ms_first_response</th>\n      <th>skill_id</th>\n      <th>hint_count</th>\n      <th>hint_total</th>\n      <th>first_action</th>\n      <th>bottom_hint</th>\n    </tr>\n  </thead>\n  <tbody>\n    <tr>\n      <th>0</th>\n      <td>277618</td>\n      <td>33139</td>\n      <td>51424</td>\n      <td>64525</td>\n      <td>1</td>\n      <td>1</td>\n      <td>1</td>\n      <td>32454</td>\n      <td>1.0</td>\n      <td>0</td>\n      <td>3</td>\n      <td>0</td>\n      <td>NaN</td>\n    </tr>\n    <tr>\n      <th>1</th>\n      <td>277618</td>\n      <td>33150</td>\n      <td>51435</td>\n      <td>64525</td>\n      <td>1</td>\n      <td>1</td>\n      <td>1</td>\n      <td>4922</td>\n      <td>1.0</td>\n      <td>0</td>\n      <td>3</td>\n      <td>0</td>\n      <td>NaN</td>\n    </tr>\n    <tr>\n      <th>2</th>\n      <td>220674</td>\n      <td>33159</td>\n      <td>51444</td>\n      <td>70363</td>\n      <td>1</td>\n      <td>0</td>\n      <td>2</td>\n      <td>25390</td>\n      <td>1.0</td>\n      <td>0</td>\n      <td>3</td>\n      <td>0</td>\n      <td>NaN</td>\n    </tr>\n    <tr>\n      <th>3</th>\n      <td>220674</td>\n      <td>33110</td>\n      <td>51395</td>\n      <td>70363</td>\n      <td>1</td>\n      <td>1</td>\n      <td>1</td>\n      <td>4859</td>\n      <td>1.0</td>\n      <td>0</td>\n      <td>3</td>\n      <td>0</td>\n      <td>NaN</td>\n    </tr>\n    <tr>\n      <th>4</th>\n      <td>220674</td>\n      <td>33196</td>\n      <td>51481</td>\n      <td>70363</td>\n      <td>1</td>\n      <td>0</td>\n      <td>14</td>\n      <td>19813</td>\n      <td>1.0</td>\n      <td>3</td>\n      <td>4</td>\n      <td>0</td>\n      <td>0.0</td>\n    </tr>\n    <tr>\n      <th>...</th>\n      <td>...</td>\n      <td>...</td>\n      <td>...</td>\n      <td>...</td>\n      <td>...</td>\n      <td>...</td>\n      <td>...</td>\n      <td>...</td>\n      <td>...</td>\n      <td>...</td>\n      <td>...</td>\n      <td>...</td>\n      <td>...</td>\n    </tr>\n    <tr>\n      <th>337996</th>\n      <td>277900</td>\n      <td>69042</td>\n      <td>128442</td>\n      <td>85730</td>\n      <td>1</td>\n      <td>0</td>\n      <td>2</td>\n      <td>51016</td>\n      <td>378.0</td>\n      <td>0</td>\n      <td>4</td>\n      <td>0</td>\n      <td>NaN</td>\n    </tr>\n    <tr>\n      <th>337997</th>\n      <td>277900</td>\n      <td>69056</td>\n      <td>128456</td>\n      <td>85730</td>\n      <td>1</td>\n      <td>1</td>\n      <td>1</td>\n      <td>61547</td>\n      <td>378.0</td>\n      <td>0</td>\n      <td>4</td>\n      <td>0</td>\n      <td>NaN</td>\n    </tr>\n    <tr>\n      <th>337998</th>\n      <td>277900</td>\n      <td>69046</td>\n      <td>128446</td>\n      <td>85730</td>\n      <td>1</td>\n      <td>1</td>\n      <td>1</td>\n      <td>53890</td>\n      <td>378.0</td>\n      <td>0</td>\n      <td>4</td>\n      <td>0</td>\n      <td>NaN</td>\n    </tr>\n    <tr>\n      <th>337999</th>\n      <td>277901</td>\n      <td>69057</td>\n      <td>128457</td>\n      <td>85730</td>\n      <td>1</td>\n      <td>0</td>\n      <td>4</td>\n      <td>181532</td>\n      <td>378.0</td>\n      <td>3</td>\n      <td>3</td>\n      <td>0</td>\n      <td>1.0</td>\n    </tr>\n    <tr>\n      <th>338000</th>\n      <td>276173</td>\n      <td>69025</td>\n      <td>128413</td>\n      <td>87896</td>\n      <td>1</td>\n      <td>0</td>\n      <td>0</td>\n      <td>44424</td>\n      <td>378.0</td>\n      <td>1</td>\n      <td>3</td>\n      <td>1</td>\n      <td>0.0</td>\n    </tr>\n  </tbody>\n</table>\n<p>337678 rows × 13 columns</p>\n</div>"
     },
     "metadata": {},
     "execution_count": 4
    }
   ],
   "source": [
    "df1 = filtered_data.dropna(subset=selected_features).reindex()\n",
    "df1\n"
   ]
  },
  {
   "cell_type": "code",
   "execution_count": 5,
   "metadata": {},
   "outputs": [
    {
     "output_type": "execute_result",
     "data": {
      "text/plain": [
       "123"
      ]
     },
     "metadata": {},
     "execution_count": 5
    }
   ],
   "source": [
    "len(df1[\"skill_id\"].unique())"
   ]
  },
  {
   "cell_type": "code",
   "execution_count": 6,
   "metadata": {},
   "outputs": [],
   "source": [
    "dfre = df1.set_index([\"user_id\",\"problem_id\",\"assignment_id\"])\n",
    "dfg = df1.groupby([\"user_id\",\"problem_id\",\"assignment_id\"])"
   ]
  },
  {
   "cell_type": "code",
   "execution_count": 7,
   "metadata": {},
   "outputs": [
    {
     "output_type": "execute_result",
     "data": {
      "text/plain": [
       "<pandas.core.groupby.generic.DataFrameGroupBy object at 0x12a792a00>"
      ]
     },
     "metadata": {},
     "execution_count": 7
    }
   ],
   "source": [
    "dfg"
   ]
  },
  {
   "cell_type": "code",
   "execution_count": 8,
   "metadata": {
    "tags": []
   },
   "outputs": [
    {
     "output_type": "stream",
     "name": "stdout",
     "text": [
      "(14, 57647, 263600)\n        user_id  correct  hint_count  skill_id\n3966         14        0           0       2.0\n112118       14        0           0      48.0\n190385       14        0           0      79.0\n(14, 57695, 263600)\n        user_id  correct  hint_count  skill_id\n3964         14        0           0       2.0\n112116       14        0           0      48.0\n190384       14        0           0      79.0\n(14, 58551, 263600)\n        user_id  correct  hint_count  skill_id\n3968         14        0           0       2.0\n80759        14        0           0      37.0\n112120       14        0           0      48.0\n182691       14        0           0      77.0\n(14, 58566, 263600)\n        user_id  correct  hint_count  skill_id\n3967         14        1           0       2.0\n80758        14        1           0      37.0\n112119       14        1           0      48.0\n(14, 58596, 263600)\n        user_id  correct  hint_count  skill_id\n3965         14        1           0       2.0\n80757        14        1           0      37.0\n112117       14        1           0      48.0\n(14, 91124, 263601)\n       user_id  correct  hint_count  skill_id\n35135       14        0           2      13.0\n(14, 91127, 263601)\n       user_id  correct  hint_count  skill_id\n35136       14        0           3      13.0\n(14, 91144, 263601)\n       user_id  correct  hint_count  skill_id\n35134       14        0           3      13.0\n(14, 91522, 263601)\n       user_id  correct  hint_count  skill_id\n35133       14        0           2      13.0\n(14, 92361, 263601)\n       user_id  correct  hint_count  skill_id\n42844       14        1           0      15.0\n(14, 92379, 263601)\n       user_id  correct  hint_count  skill_id\n42843       14        1           0      15.0\n(14, 92390, 263601)\n       user_id  correct  hint_count  skill_id\n42842       14        1           0      15.0\n(14, 93383, 263599)\n        user_id  correct  hint_count  skill_id\n3957         14        0           2       2.0\n80750        14        0           2      37.0\n156789       14        0           2      70.0\n(14, 93400, 263599)\n        user_id  correct  hint_count  skill_id\n3959         14        0           2       2.0\n80752        14        0           2      37.0\n156791       14        0           2      70.0\n(14, 93407, 263599)\n        user_id  correct  hint_count  skill_id\n3958         14        1           0       2.0\n80751        14        1           0      37.0\n156790       14        1           0      70.0\n(14, 93415, 263599)\n        user_id  correct  hint_count  skill_id\n3962         14        0           2       2.0\n80755        14        0           2      37.0\n156794       14        0           2      70.0\n(14, 93419, 263599)\n        user_id  correct  hint_count  skill_id\n3960         14        0           2       2.0\n80753        14        0           2      37.0\n156792       14        0           2      70.0\n(14, 93420, 263599)\n        user_id  correct  hint_count  skill_id\n3961         14        0           2       2.0\n80754        14        0           2      37.0\n156793       14        0           2      70.0\n(14, 93423, 263599)\n        user_id  correct  hint_count  skill_id\n3963         14        0           3       2.0\n80756        14        0           3      37.0\n112115       14        0           3      48.0\n182690       14        0           3      77.0\n(21825, 48881, 263366)\n       user_id  correct  hint_count  skill_id\n19551    21825        0           0      10.0\n32194    21825        0           0      12.0\n(21825, 49008, 263366)\n       user_id  correct  hint_count  skill_id\n19553    21825        1           0      10.0\n32196    21825        1           0      12.0\n(21825, 49016, 263366)\n       user_id  correct  hint_count  skill_id\n19552    21825        1           0      10.0\n32195    21825        1           0      12.0\n(21825, 49052, 263366)\n       user_id  correct  hint_count  skill_id\n19554    21825        1           0      10.0\n32197    21825        1           0      12.0\n(21825, 56730, 263367)\n       user_id  correct  hint_count  skill_id\n19557    21825        0           0      10.0\n35139    21825        0           0      13.0\n(21825, 56841, 263367)\n       user_id  correct  hint_count  skill_id\n19555    21825        0           0      10.0\n35137    21825        0           0      13.0\n(21825, 56871, 263367)\n       user_id  correct  hint_count  skill_id\n19556    21825        1           0      10.0\n35138    21825        1           0      13.0\n(21825, 90118, 266325)\n        user_id  correct  hint_count  skill_id\n252755    21825        1           0     279.0\n(21825, 90148, 266325)\n        user_id  correct  hint_count  skill_id\n252754    21825        1           0     279.0\n(21825, 90173, 266325)\n        user_id  correct  hint_count  skill_id\n252757    21825        1           0     279.0\n(21825, 90177, 266325)\n        user_id  correct  hint_count  skill_id\n252753    21825        1           0     279.0\n(21825, 90221, 266325)\n        user_id  correct  hint_count  skill_id\n252756    21825        1           0     279.0\n(21825, 90425, 266324)\n        user_id  correct  hint_count  skill_id\n252750    21825        1           0     279.0\n(21825, 90531, 266324)\n        user_id  correct  hint_count  skill_id\n252751    21825        1           0     279.0\n(21825, 90543, 266324)\n        user_id  correct  hint_count  skill_id\n252748    21825        1           0     279.0\n(21825, 90594, 266324)\n        user_id  correct  hint_count  skill_id\n252749    21825        1           0     279.0\n(21825, 90597, 266324)\n        user_id  correct  hint_count  skill_id\n252752    21825        1           0     279.0\n(51950, 97555, 236518)\n        user_id  correct  hint_count  skill_id\n291745    51950        1           0     311.0\n(51950, 97639, 236518)\n        user_id  correct  hint_count  skill_id\n291743    51950        0           3     311.0\n(51950, 97650, 236518)\n        user_id  correct  hint_count  skill_id\n291746    51950        1           0     311.0\n(51950, 97671, 236518)\n        user_id  correct  hint_count  skill_id\n291744    51950        1           0     311.0\n(51950, 108062, 236519)\n        user_id  correct  hint_count  skill_id\n315997    51950        1           0     312.0\n(51950, 108102, 236519)\n        user_id  correct  hint_count  skill_id\n315996    51950        1           0     312.0\n(52613, 53995, 263315)\n        user_id  correct  hint_count  skill_id\n247736    52613        0           0     278.0\n(52613, 66746, 220683)\n        user_id  correct  hint_count  skill_id\n11969     52613        0           4       5.0\n335754    52613        0           4     375.0\n(52613, 88272, 270588)\n        user_id  correct  hint_count  skill_id\n215515    52613        1           0      86.0\n(52613, 161710, 285317)\n        user_id  correct  hint_count  skill_id\n332622    52613        1           0     340.0\n(52613, 161807, 285317)\n        user_id  correct  hint_count  skill_id\n332620    52613        1           0     340.0\n(52613, 161845, 285317)\n        user_id  correct  hint_count  skill_id\n332621    52613        1           0     340.0\n(53167, 48130, 263403)\n        user_id  correct  hint_count  skill_id\n19559     53167        1           0      10.0\n147269    53167        1           0      64.0\n(53167, 48806, 277641)\n       user_id  correct  hint_count  skill_id\n13864    53167        1           0       8.0\n(53167, 48827, 277641)\n       user_id  correct  hint_count  skill_id\n13868    53167        0           0       8.0\n(53167, 48832, 277641)\n       user_id  correct  hint_count  skill_id\n13867    53167        1           0       8.0\n(53167, 49266, 263318)\n        user_id  correct  hint_count  skill_id\n136929    53167        1           0      58.0\n(53167, 49267, 277499)\n        user_id  correct  hint_count  skill_id\n136934    53167        1           0      58.0\n(53167, 49269, 277499)\n        user_id  correct  hint_count  skill_id\n136935    53167        1           0      58.0\n(53167, 49277, 263318)\n        user_id  correct  hint_count  skill_id\n136927    53167        1           0      58.0\n(53167, 49283, 277499)\n        user_id  correct  hint_count  skill_id\n136937    53167        1           0      58.0\n(53167, 49284, 263318)\n        user_id  correct  hint_count  skill_id\n136928    53167        1           0      58.0\n(53167, 49288, 277499)\n        user_id  correct  hint_count  skill_id\n136938    53167        1           0      58.0\n(53167, 49289, 277499)\n        user_id  correct  hint_count  skill_id\n136936    53167        1           0      58.0\n(53167, 50983, 277533)\n        user_id  correct  hint_count  skill_id\n287086    53167        0           0     310.0\n(53167, 50988, 277533)\n        user_id  correct  hint_count  skill_id\n287085    53167        0           0     310.0\n(53167, 50991, 277533)\n        user_id  correct  hint_count  skill_id\n287087    53167        0           0     310.0\n(53167, 50999, 277533)\n        user_id  correct  hint_count  skill_id\n287089    53167        1           0     310.0\n(53167, 51009, 277533)\n        user_id  correct  hint_count  skill_id\n287088    53167        1           0     310.0\n(53167, 51048, 277534)\n        user_id  correct  hint_count  skill_id\n287090    53167        0           0     310.0\n(53167, 51049, 277534)\n        user_id  correct  hint_count  skill_id\n287091    53167        1           0     310.0\n(53167, 51050, 277534)\n        user_id  correct  hint_count  skill_id\n287092    53167        1           0     310.0\n(53167, 51051, 277534)\n        user_id  correct  hint_count  skill_id\n287093    53167        0           0     310.0\n(53167, 51141, 277532)\n        user_id  correct  hint_count  skill_id\n284020    53167        1           0     309.0\n(53167, 51144, 277532)\n        user_id  correct  hint_count  skill_id\n284018    53167        1           0     309.0\n(53167, 51630, 277511)\n        user_id  correct  hint_count  skill_id\n215516    53167        1           0      86.0\n(53167, 52819, 277524)\n        user_id  correct  hint_count  skill_id\n115066    53167        1           0      49.0\n(53167, 52832, 263396)\n        user_id  correct  hint_count  skill_id\n115063    53167        1           0      49.0\n(53167, 53285, 277528)\n        user_id  correct  hint_count  skill_id\n130921    53167        1           0      51.0\n(53167, 53296, 263395)\n        user_id  correct  hint_count  skill_id\n130919    53167        1           0      51.0\n(53167, 53613, 263411)\n        user_id  correct  hint_count  skill_id\n136930    53167        1           0      58.0\n208389    53167        1           0      85.0\n(53167, 53613, 277494)\n        user_id  correct  hint_count  skill_id\n136933    53167        1           0      58.0\n208393    53167        1           0      85.0\n(53167, 53649, 263411)\n        user_id  correct  hint_count  skill_id\n136931    53167        1           0      58.0\n208390    53167        1           0      85.0\n(53167, 53681, 263411)\n        user_id  correct  hint_count  skill_id\n166287    53167        1           0      74.0\n208391    53167        1           0      85.0\n(53167, 53749, 263411)\n        user_id  correct  hint_count  skill_id\n166286    53167        0           0      74.0\n208388    53167        0           0      85.0\n(53167, 53774, 263317)\n        user_id  correct  hint_count  skill_id\n259807    53167        1           0     280.0\n(53167, 53778, 263317)\n        user_id  correct  hint_count  skill_id\n259810    53167        1           0     280.0\n(53167, 53780, 263317)\n        user_id  correct  hint_count  skill_id\n259808    53167        0           0     280.0\n(53167, 53792, 263317)\n        user_id  correct  hint_count  skill_id\n259806    53167        0           0     280.0\n(53167, 53864, 263322)\n        user_id  correct  hint_count  skill_id\n234997    53167        1           0     277.0\n(53167, 53904, 277551)\n        user_id  correct  hint_count  skill_id\n235003    53167        1           0     277.0\n(53167, 53987, 263315)\n        user_id  correct  hint_count  skill_id\n247740    53167        0           0     278.0\n(53167, 53995, 263315)\n        user_id  correct  hint_count  skill_id\n247742    53167        1           0     278.0\n(53167, 53999, 263315)\n        user_id  correct  hint_count  skill_id\n247739    53167        1           0     278.0\n(53167, 54019, 263315)\n        user_id  correct  hint_count  skill_id\n247737    53167        0           0     278.0\n(53167, 54039, 263315)\n        user_id  correct  hint_count  skill_id\n247738    53167        0           0     278.0\n(53167, 54063, 277496)\n        user_id  correct  hint_count  skill_id\n247743    53167        1           0     278.0\n(53167, 54075, 263319)\n        user_id  correct  hint_count  skill_id\n247741    53167        1           0     278.0\n(53167, 54134, 263320)\n        user_id  correct  hint_count  skill_id\n151132    53167        1           0      67.0\n(53167, 54184, 263321)\n        user_id  correct  hint_count  skill_id\n252761    53167        1           0     279.0\n(53167, 54444, 277509)\n        user_id  correct  hint_count  skill_id\n252765    53167        1           0     279.0\n(53167, 54445, 277509)\n        user_id  correct  hint_count  skill_id\n252763    53167        0           4     279.0\n(53167, 54456, 277509)\n        user_id  correct  hint_count  skill_id\n252764    53167        1           0     279.0\n(53167, 54461, 277509)\n        user_id  correct  hint_count  skill_id\n252766    53167        1           0     279.0\n"
     ]
    }
   ],
   "source": [
    "cnt = 0\n",
    "for i, v in dfg:\n",
    "    cnt+=1\n",
    "    print(i)\n",
    "    print(v[[\"user_id\", 'correct',\n",
    "                     'hint_count','skill_id']])\n",
    "    if cnt >=100: break"
   ]
  },
  {
   "cell_type": "code",
   "execution_count": 25,
   "metadata": {},
   "outputs": [
    {
     "output_type": "execute_result",
     "data": {
      "text/plain": [
       "{(14, 57647, 263600): [3966, 112118, 190385], (14, 57648, 263600): [338003], (14, 57649, 263600): [338004], (14, 57695, 263600): [3964, 112116, 190384], (14, 57696, 263600): [338001], (14, 57697, 263600): [338002], (14, 58551, 263600): [3968, 80759, 112120, 182691], (14, 58552, 263600): [338005], (14, 58553, 263600): [338006], (14, 58566, 263600): [3967, 80758, 112119], (14, 58596, 263600): [3965, 80757, 112117], (14, 91124, 263601): [35135], (14, 91127, 263601): [35136], (14, 91144, 263601): [35134], (14, 91522, 263601): [35133], (14, 92361, 263601): [42844], (14, 92379, 263601): [42843], (14, 92390, 263601): [42842], (14, 93383, 263599): [3957, 80750, 156789], (14, 93400, 263599): [3959, 80752, 156791], (14, 93407, 263599): [3958, 80751, 156790], (14, 93415, 263599): [3962, 80755, 156794], (14, 93419, 263599): [3960, 80753, 156792], (14, 93420, 263599): [3961, 80754, 156793], (14, 93423, 263599): [3963, 80756, 112115, 182690], (21825, 48881, 263366): [19551, 32194], (21825, 48882, 263366): [338007], (21825, 48883, 263366): [338008], (21825, 48884, 263366): [338009], (21825, 49008, 263366): [19553, 32196], (21825, 49016, 263366): [19552, 32195], (21825, 49052, 263366): [19554, 32197], (21825, 56730, 263367): [19557, 35139], (21825, 56841, 263367): [19555, 35137], (21825, 56842, 263367): [338010], (21825, 56843, 263367): [338011], (21825, 56871, 263367): [19556, 35138], (21825, 90118, 266325): [252755], (21825, 90148, 266325): [252754], (21825, 90173, 266325): [252757], (21825, 90177, 266325): [252753], (21825, 90221, 266325): [252756], (21825, 90425, 266324): [252750], (21825, 90531, 266324): [252751], (21825, 90543, 266324): [252748], (21825, 90594, 266324): [252749], (21825, 90597, 266324): [252752], (51933, 107581, 264037): [338012], (51950, 97555, 236518): [291745], (51950, 97639, 236518): [291743], (51950, 97650, 236518): [291746], (51950, 97671, 236518): [291744], (51950, 108062, 236519): [315997], (51950, 108102, 236519): [315996], (52613, 53995, 263315): [247736], (52613, 66746, 220683): [11969, 335754], (52613, 88272, 270588): [215515], (52613, 161710, 285317): [332622], (52613, 161807, 285317): [332620], (52613, 161845, 285317): [332621], (53167, 48130, 263403): [19559, 147269], (53167, 48806, 277641): [13864], (53167, 48827, 277641): [13868], (53167, 48832, 277641): [13867], (53167, 49266, 263318): [136929], (53167, 49267, 277499): [136934], (53167, 49269, 277499): [136935], (53167, 49277, 263318): [136927], (53167, 49283, 277499): [136937], (53167, 49284, 263318): [136928], (53167, 49288, 277499): [136938], (53167, 49289, 277499): [136936], (53167, 50983, 277533): [287086], (53167, 50988, 277533): [287085], (53167, 50991, 277533): [287087], (53167, 50999, 277533): [287089], (53167, 51009, 277533): [287088], (53167, 51048, 277534): [287090], (53167, 51049, 277534): [287091], (53167, 51050, 277534): [287092], (53167, 51051, 277534): [287093], (53167, 51141, 277532): [284020], (53167, 51144, 277532): [284018], (53167, 51630, 277511): [215516], (53167, 52819, 277524): [115066], (53167, 52832, 263396): [115063], (53167, 53285, 277528): [130921], (53167, 53296, 263395): [130919], (53167, 53613, 263411): [136930, 208389], (53167, 53613, 277494): [136933, 208393], (53167, 53649, 263411): [136931, 208390], (53167, 53681, 263411): [166287, 208391], (53167, 53749, 263411): [166286, 208388], (53167, 53750, 263411): [338024], (53167, 53751, 263411): [338025], (53167, 53752, 263411): [338026], (53167, 53774, 263317): [259807], (53167, 53778, 263317): [259810], (53167, 53780, 263317): [259808], (53167, 53792, 263317): [259806], ...}"
      ]
     },
     "metadata": {},
     "execution_count": 25
    }
   ],
   "source": [
    "dfg1.groups"
   ]
  },
  {
   "cell_type": "code",
   "execution_count": 10,
   "metadata": {},
   "outputs": [
    {
     "output_type": "stream",
     "name": "stderr",
     "text": [
      "337678it [02:53, 1947.47it/s]\n"
     ]
    }
   ],
   "source": [
    "from tqdm import tqdm\n",
    "for index, row in tqdm(filtered_data.iterrows()):\n",
    "    if row['skill_id'] == -1:\n",
    "        continue\n",
    "    if row['skill_id'] not in skills:\n",
    "\n",
    "        \n",
    "        skills.append(int(row['skill_id']))\n",
    "    if row['user_id'] not in users_id:\n",
    "        users_id.append(int(row['user_id']))\n",
    "    if row['user_id'] in students:\n",
    "        students[row['user_id']].append(\n",
    "            row[selected_features].values.tolist())\n",
    "    else:\n",
    "        students[row['user_id']] = [\n",
    "            row[selected_features].values.tolist()]"
   ]
  },
  {
   "cell_type": "code",
   "execution_count": 9,
   "metadata": {},
   "outputs": [],
   "source": [
    "pickle_data = {}"
   ]
  },
  {
   "cell_type": "code",
   "execution_count": null,
   "metadata": {},
   "outputs": [],
   "source": [
    "import pickle\n",
    "pickle_data['students'] = students\n",
    "pickle_data['skills'] = skills\n",
    "pickle_data['users_id'] = users_id\n",
    "pickling_on = open(\"students.pickle\", \"wb\")\n",
    "pickle.dump(pickle_data, pickling_on)\n",
    "pickling_on.close()"
   ]
  },
  {
   "cell_type": "code",
   "execution_count": null,
   "metadata": {},
   "outputs": [],
   "source": [
    "for user_id in users_id:\n",
    "    if len(students[user_id]) > max_steps:\n",
    "        max_steps = len(students[user_id])\n",
    "    if len(students[user_id]) < min_steps:\n",
    "        min_steps = len(students[user_id])\n",
    "    if len(students[user_id]) <= 2:\n",
    "        del students[user_id]\n",
    "    else:\n",
    "        students_list.append(students[user_id])"
   ]
  },
  {
   "cell_type": "code",
   "execution_count": 44,
   "metadata": {},
   "outputs": [
    {
     "output_type": "stream",
     "name": "stdout",
     "text": [
      "Max step: -1\nNum of skills: 0\nNum of students: 0\n"
     ]
    }
   ],
   "source": [
    "print('Max step:', max_steps)\n",
    "print('Num of skills:', len(skills))\n",
    "print('Num of students:', len(users_id))\n",
    "# np.array([List_s1[[],[],[]],List_s2[[][][]]],...,List_s3[[][]]])\n",
    "       "
   ]
  },
  {
   "cell_type": "code",
   "execution_count": null,
   "metadata": {},
   "outputs": [],
   "source": [
    "students_list[0]"
   ]
  },
  {
   "cell_type": "code",
   "execution_count": null,
   "metadata": {},
   "outputs": [],
   "source": [
    "import seaborn as sns"
   ]
  },
  {
   "cell_type": "code",
   "execution_count": null,
   "metadata": {},
   "outputs": [],
   "source": [
    "sns.distplot(x=filtered_data[\"skill_id\"],hue=\"correct\")"
   ]
  },
  {
   "cell_type": "code",
   "execution_count": null,
   "metadata": {},
   "outputs": [],
   "source": [
    " dat = DATA_RAW(n_question=params.n_question,\n",
    "                   seqlen=200, separate_char=',')"
   ]
  },
  {
   "cell_type": "code",
   "execution_count": null,
   "metadata": {},
   "outputs": [],
   "source": [
    "filtered_data[\"skill_id\"].unique().shape"
   ]
  },
  {
   "cell_type": "code",
   "execution_count": null,
   "metadata": {},
   "outputs": [],
   "source": [
    "sns.countplot(x = 'correct', data = filtered_data)\n"
   ]
  },
  {
   "cell_type": "code",
   "execution_count": null,
   "metadata": {},
   "outputs": [],
   "source": []
  }
 ],
 "metadata": {
  "kernelspec": {
   "name": "python386jvsc74a57bd03a98a4adc7aecfd5273ea8673170bd5c0fc543723a3242dbe380a01e5d35dd95",
   "display_name": "Python 3.8.6 64-bit ('3.8.6': pyenv)"
  },
  "language_info": {
   "codemirror_mode": {
    "name": "ipython",
    "version": 3
   },
   "file_extension": ".py",
   "mimetype": "text/x-python",
   "name": "python",
   "nbconvert_exporter": "python",
   "pygments_lexer": "ipython3",
   "version": "3.8.6"
  },
  "metadata": {
   "interpreter": {
    "hash": "3a98a4adc7aecfd5273ea8673170bd5c0fc543723a3242dbe380a01e5d35dd95"
   }
  }
 },
 "nbformat": 4,
 "nbformat_minor": 4
}