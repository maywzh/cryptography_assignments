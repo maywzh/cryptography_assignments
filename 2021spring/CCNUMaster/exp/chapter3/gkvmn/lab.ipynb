{
 "cells": [
  {
   "cell_type": "code",
   "execution_count": 2,
   "metadata": {},
   "outputs": [],
   "source": [
    "from data_loader import DATA_RAW\n"
   ]
  },
  {
   "cell_type": "code",
   "execution_count": 3,
   "metadata": {},
   "outputs": [],
   "source": [
    "dat = DATA_RAW(n_question=1223,\n",
    "                   seqlen=2000, separate_char=',')"
   ]
  },
  {
   "cell_type": "code",
   "execution_count": 4,
   "metadata": {},
   "outputs": [],
   "source": [
    "data_path = './data/assist2009_raw/skill_builder_data_corrected.csv'"
   ]
  },
  {
   "cell_type": "code",
   "execution_count": 5,
   "metadata": {},
   "outputs": [
    {
     "output_type": "stream",
     "name": "stdout",
     "text": [
      "Pickle file not found, creating one...\n",
      "/Users/maywzh/.pyenv/versions/3.8.6/lib/python3.8/site-packages/IPython/core/interactiveshell.py:3427: DtypeWarning: Columns (17) have mixed types.Specify dtype option on import or set low_memory=False.\n",
      "  exec(code_obj, self.user_global_ns, self.user_ns)\n",
      "337678it [03:30, 1605.48it/s]\n",
      "Max step: 1295\n",
      "Num of skills: 123\n",
      "Num of students: 4163\n",
      "/Users/maywzh/Workspace/ji_coursenotes/2021spring/CCNUMaster/exp/chapter3/gkvmn/data_loader.py:353: VisibleDeprecationWarning: Creating an ndarray from ragged nested sequences (which is a list-or-tuple of lists-or-tuples-or ndarrays with different lengths or shapes) is deprecated. If you meant to do this, you must specify 'dtype=object' when creating the ndarray\n",
      "  return np.array(students_list), skills, max_steps\n"
     ]
    }
   ],
   "source": [
    " all_data = dat.get_processed_data(data_path)"
   ]
  },
  {
   "cell_type": "code",
   "execution_count": 7,
   "metadata": {},
   "outputs": [
    {
     "output_type": "stream",
     "name": "stdout",
     "text": [
      "Load data from pickle file...\n",
      "Max step: 1295\n",
      "Num of skills: 123\n",
      "Num of students: 4163\n"
     ]
    }
   ],
   "source": [
    "students,  skills, max_steps= dat.load_raw_data(data_path)"
   ]
  },
  {
   "cell_type": "code",
   "execution_count": 9,
   "metadata": {},
   "outputs": [],
   "source": [
    "pickle_data = {}\n",
    "students = {}\n",
    "students_list = []\n",
    "skills = []\n",
    "users_id = []\n",
    "max_steps = -1\n",
    "min_steps = float('inf')\n",
    "features = ['assignment_id', 'assistment_id', 'problem_id', 'user_id', 'original', 'correct', 'attempt_count',\n",
    "            'ms_first_response',\n",
    "            'skill_id', 'hint_count', 'hint_total', 'first_action', 'bottom_hint']\n",
    "\n",
    "selected_features = ['skill_id', 'correct',\n",
    "                        'user_id', 'ms_first_response', 'attempt_count', 'hint_count']"
   ]
  },
  {
   "cell_type": "code",
   "execution_count": 10,
   "metadata": {},
   "outputs": [
    {
     "output_type": "stream",
     "name": "stderr",
     "text": [
      "/Users/maywzh/.pyenv/versions/3.8.6/lib/python3.8/site-packages/IPython/core/interactiveshell.py:3155: DtypeWarning: Columns (17) have mixed types.Specify dtype option on import or set low_memory=False.\n  has_raised = await self.run_ast_nodes(code_ast.body, cell_name,\n"
     ]
    }
   ],
   "source": [
    "import pandas as pd\n",
    "file_name = './data/assist2009_raw/skill_builder_data_corrected.csv'\n",
    "all_data = pd.read_csv(file_name, encoding='ISO-8859-1')\n",
    "filtered_data = all_data[features]\n",
    "filtered_data = filtered_data[filtered_data['ms_first_response'] > 0]\n",
    "filtered_data = filtered_data.fillna(-1)"
   ]
  },
  {
   "cell_type": "code",
   "execution_count": 11,
   "metadata": {},
   "outputs": [
    {
     "output_type": "execute_result",
     "data": {
      "text/plain": [
       "        order_id  assignment_id  user_id  assistment_id  problem_id  original  \\\n",
       "0       33022537         277618    64525          33139       51424         1   \n",
       "1       33022709         277618    64525          33150       51435         1   \n",
       "2       35450204         220674    70363          33159       51444         1   \n",
       "3       35450295         220674    70363          33110       51395         1   \n",
       "4       35450311         220674    70363          33196       51481         1   \n",
       "...          ...            ...      ...            ...         ...       ...   \n",
       "401751  38214014         291495    96299          57830      108976         0   \n",
       "401752  38214016         291495    96299          57843      109015         0   \n",
       "401753  38214195         291503    96299          34577       54060         0   \n",
       "401754  38214196         291503    96299          34577       54061         0   \n",
       "401755  38214198         291503    96299          34577       54062         0   \n",
       "\n",
       "        correct  attempt_count  ms_first_response tutor_mode  ... hint_count  \\\n",
       "0             1              1              32454      tutor  ...          0   \n",
       "1             1              1               4922      tutor  ...          0   \n",
       "2             0              2              25390      tutor  ...          0   \n",
       "3             1              1               4859      tutor  ...          0   \n",
       "4             0             14              19813      tutor  ...          3   \n",
       "...         ...            ...                ...        ...  ...        ...   \n",
       "401751        1              1              38234      tutor  ...          0   \n",
       "401752        1              1               6500      tutor  ...          0   \n",
       "401753        1              1              18344      tutor  ...          0   \n",
       "401754        1              1              12922      tutor  ...          0   \n",
       "401755        0              9              36047      tutor  ...          1   \n",
       "\n",
       "        hint_total  overlap_time  template_id answer_id  answer_text  \\\n",
       "0                3         32454        30799       NaN           26   \n",
       "1                3          4922        30799       NaN           55   \n",
       "2                3         42000        30799       NaN           88   \n",
       "3                3          4859        30059       NaN           41   \n",
       "4                4        124564        30060       NaN           65   \n",
       "...            ...           ...          ...       ...          ...   \n",
       "401751           2         38234        55692  200260.0          NaN   \n",
       "401752           0          6500        55693  200299.0          NaN   \n",
       "401753           3         18344        30677       NaN          0.8   \n",
       "401754           2         12922        30677       NaN           -6   \n",
       "401755           3        163422        30677       NaN         -6.8   \n",
       "\n",
       "        first_action bottom_hint  opportunity  opportunity_original  \n",
       "0                  0         NaN            1                   1.0  \n",
       "1                  0         NaN            2                   2.0  \n",
       "2                  0         NaN            1                   1.0  \n",
       "3                  0         NaN            2                   2.0  \n",
       "4                  0         0.0            3                   3.0  \n",
       "...              ...         ...          ...                   ...  \n",
       "401751             0         NaN           54                   NaN  \n",
       "401752             0         NaN           55                   NaN  \n",
       "401753             0         NaN           56                   NaN  \n",
       "401754             0         NaN           57                   NaN  \n",
       "401755             0         0.0           58                   NaN  \n",
       "\n",
       "[401431 rows x 30 columns]"
      ],
      "text/html": "<div>\n<style scoped>\n    .dataframe tbody tr th:only-of-type {\n        vertical-align: middle;\n    }\n\n    .dataframe tbody tr th {\n        vertical-align: top;\n    }\n\n    .dataframe thead th {\n        text-align: right;\n    }\n</style>\n<table border=\"1\" class=\"dataframe\">\n  <thead>\n    <tr style=\"text-align: right;\">\n      <th></th>\n      <th>order_id</th>\n      <th>assignment_id</th>\n      <th>user_id</th>\n      <th>assistment_id</th>\n      <th>problem_id</th>\n      <th>original</th>\n      <th>correct</th>\n      <th>attempt_count</th>\n      <th>ms_first_response</th>\n      <th>tutor_mode</th>\n      <th>...</th>\n      <th>hint_count</th>\n      <th>hint_total</th>\n      <th>overlap_time</th>\n      <th>template_id</th>\n      <th>answer_id</th>\n      <th>answer_text</th>\n      <th>first_action</th>\n      <th>bottom_hint</th>\n      <th>opportunity</th>\n      <th>opportunity_original</th>\n    </tr>\n  </thead>\n  <tbody>\n    <tr>\n      <th>0</th>\n      <td>33022537</td>\n      <td>277618</td>\n      <td>64525</td>\n      <td>33139</td>\n      <td>51424</td>\n      <td>1</td>\n      <td>1</td>\n      <td>1</td>\n      <td>32454</td>\n      <td>tutor</td>\n      <td>...</td>\n      <td>0</td>\n      <td>3</td>\n      <td>32454</td>\n      <td>30799</td>\n      <td>NaN</td>\n      <td>26</td>\n      <td>0</td>\n      <td>NaN</td>\n      <td>1</td>\n      <td>1.0</td>\n    </tr>\n    <tr>\n      <th>1</th>\n      <td>33022709</td>\n      <td>277618</td>\n      <td>64525</td>\n      <td>33150</td>\n      <td>51435</td>\n      <td>1</td>\n      <td>1</td>\n      <td>1</td>\n      <td>4922</td>\n      <td>tutor</td>\n      <td>...</td>\n      <td>0</td>\n      <td>3</td>\n      <td>4922</td>\n      <td>30799</td>\n      <td>NaN</td>\n      <td>55</td>\n      <td>0</td>\n      <td>NaN</td>\n      <td>2</td>\n      <td>2.0</td>\n    </tr>\n    <tr>\n      <th>2</th>\n      <td>35450204</td>\n      <td>220674</td>\n      <td>70363</td>\n      <td>33159</td>\n      <td>51444</td>\n      <td>1</td>\n      <td>0</td>\n      <td>2</td>\n      <td>25390</td>\n      <td>tutor</td>\n      <td>...</td>\n      <td>0</td>\n      <td>3</td>\n      <td>42000</td>\n      <td>30799</td>\n      <td>NaN</td>\n      <td>88</td>\n      <td>0</td>\n      <td>NaN</td>\n      <td>1</td>\n      <td>1.0</td>\n    </tr>\n    <tr>\n      <th>3</th>\n      <td>35450295</td>\n      <td>220674</td>\n      <td>70363</td>\n      <td>33110</td>\n      <td>51395</td>\n      <td>1</td>\n      <td>1</td>\n      <td>1</td>\n      <td>4859</td>\n      <td>tutor</td>\n      <td>...</td>\n      <td>0</td>\n      <td>3</td>\n      <td>4859</td>\n      <td>30059</td>\n      <td>NaN</td>\n      <td>41</td>\n      <td>0</td>\n      <td>NaN</td>\n      <td>2</td>\n      <td>2.0</td>\n    </tr>\n    <tr>\n      <th>4</th>\n      <td>35450311</td>\n      <td>220674</td>\n      <td>70363</td>\n      <td>33196</td>\n      <td>51481</td>\n      <td>1</td>\n      <td>0</td>\n      <td>14</td>\n      <td>19813</td>\n      <td>tutor</td>\n      <td>...</td>\n      <td>3</td>\n      <td>4</td>\n      <td>124564</td>\n      <td>30060</td>\n      <td>NaN</td>\n      <td>65</td>\n      <td>0</td>\n      <td>0.0</td>\n      <td>3</td>\n      <td>3.0</td>\n    </tr>\n    <tr>\n      <th>...</th>\n      <td>...</td>\n      <td>...</td>\n      <td>...</td>\n      <td>...</td>\n      <td>...</td>\n      <td>...</td>\n      <td>...</td>\n      <td>...</td>\n      <td>...</td>\n      <td>...</td>\n      <td>...</td>\n      <td>...</td>\n      <td>...</td>\n      <td>...</td>\n      <td>...</td>\n      <td>...</td>\n      <td>...</td>\n      <td>...</td>\n      <td>...</td>\n      <td>...</td>\n      <td>...</td>\n    </tr>\n    <tr>\n      <th>401751</th>\n      <td>38214014</td>\n      <td>291495</td>\n      <td>96299</td>\n      <td>57830</td>\n      <td>108976</td>\n      <td>0</td>\n      <td>1</td>\n      <td>1</td>\n      <td>38234</td>\n      <td>tutor</td>\n      <td>...</td>\n      <td>0</td>\n      <td>2</td>\n      <td>38234</td>\n      <td>55692</td>\n      <td>200260.0</td>\n      <td>NaN</td>\n      <td>0</td>\n      <td>NaN</td>\n      <td>54</td>\n      <td>NaN</td>\n    </tr>\n    <tr>\n      <th>401752</th>\n      <td>38214016</td>\n      <td>291495</td>\n      <td>96299</td>\n      <td>57843</td>\n      <td>109015</td>\n      <td>0</td>\n      <td>1</td>\n      <td>1</td>\n      <td>6500</td>\n      <td>tutor</td>\n      <td>...</td>\n      <td>0</td>\n      <td>0</td>\n      <td>6500</td>\n      <td>55693</td>\n      <td>200299.0</td>\n      <td>NaN</td>\n      <td>0</td>\n      <td>NaN</td>\n      <td>55</td>\n      <td>NaN</td>\n    </tr>\n    <tr>\n      <th>401753</th>\n      <td>38214195</td>\n      <td>291503</td>\n      <td>96299</td>\n      <td>34577</td>\n      <td>54060</td>\n      <td>0</td>\n      <td>1</td>\n      <td>1</td>\n      <td>18344</td>\n      <td>tutor</td>\n      <td>...</td>\n      <td>0</td>\n      <td>3</td>\n      <td>18344</td>\n      <td>30677</td>\n      <td>NaN</td>\n      <td>0.8</td>\n      <td>0</td>\n      <td>NaN</td>\n      <td>56</td>\n      <td>NaN</td>\n    </tr>\n    <tr>\n      <th>401754</th>\n      <td>38214196</td>\n      <td>291503</td>\n      <td>96299</td>\n      <td>34577</td>\n      <td>54061</td>\n      <td>0</td>\n      <td>1</td>\n      <td>1</td>\n      <td>12922</td>\n      <td>tutor</td>\n      <td>...</td>\n      <td>0</td>\n      <td>2</td>\n      <td>12922</td>\n      <td>30677</td>\n      <td>NaN</td>\n      <td>-6</td>\n      <td>0</td>\n      <td>NaN</td>\n      <td>57</td>\n      <td>NaN</td>\n    </tr>\n    <tr>\n      <th>401755</th>\n      <td>38214198</td>\n      <td>291503</td>\n      <td>96299</td>\n      <td>34577</td>\n      <td>54062</td>\n      <td>0</td>\n      <td>0</td>\n      <td>9</td>\n      <td>36047</td>\n      <td>tutor</td>\n      <td>...</td>\n      <td>1</td>\n      <td>3</td>\n      <td>163422</td>\n      <td>30677</td>\n      <td>NaN</td>\n      <td>-6.8</td>\n      <td>0</td>\n      <td>0.0</td>\n      <td>58</td>\n      <td>NaN</td>\n    </tr>\n  </tbody>\n</table>\n<p>401431 rows × 30 columns</p>\n</div>"
     },
     "metadata": {},
     "execution_count": 11
    }
   ],
   "source": [
    "df1 = all_data[all_data['ms_first_response'] > 0].reindex()\n",
    "df1\n"
   ]
  },
  {
   "cell_type": "code",
   "execution_count": 12,
   "metadata": {},
   "outputs": [],
   "source": [
    "dfg1 = df1.groupby([\"user_id\",\"problem_id\",\"assignment_id\"])\n"
   ]
  },
  {
   "cell_type": "code",
   "execution_count": 18,
   "metadata": {},
   "outputs": [
    {
     "output_type": "execute_result",
     "data": {
      "text/plain": [
       "        order_id  assistment_id  original  correct  attempt_count  \\\n",
       "0            1.5            1.5       1.5      1.5            1.5   \n",
       "1            1.5            1.5       1.5      1.5            1.5   \n",
       "2            1.5            1.5       1.5      1.5            1.5   \n",
       "3            1.5            1.5       1.5      1.5            1.5   \n",
       "4            1.5            1.5       1.5      1.5            1.5   \n",
       "...          ...            ...       ...      ...            ...   \n",
       "401751       1.0            1.0       1.0      1.0            1.0   \n",
       "401752       1.0            1.0       1.0      1.0            1.0   \n",
       "401753       1.0            1.0       1.0      1.0            1.0   \n",
       "401754       1.0            1.0       1.0      1.0            1.0   \n",
       "401755       1.0            1.0       1.0      1.0            1.0   \n",
       "\n",
       "        ms_first_response  sequence_id  student_class_id  position  \\\n",
       "0                     1.5          1.5               1.5       1.5   \n",
       "1                     1.5          1.5               1.5       1.5   \n",
       "2                     1.5          1.5               1.5       1.5   \n",
       "3                     1.5          1.5               1.5       1.5   \n",
       "4                     1.5          1.5               1.5       1.5   \n",
       "...                   ...          ...               ...       ...   \n",
       "401751                1.0          1.0               1.0       1.0   \n",
       "401752                1.0          1.0               1.0       1.0   \n",
       "401753                1.0          1.0               1.0       1.0   \n",
       "401754                1.0          1.0               1.0       1.0   \n",
       "401755                1.0          1.0               1.0       1.0   \n",
       "\n",
       "        base_sequence_id  ...  school_id  hint_count  hint_total  \\\n",
       "0                    1.5  ...        1.5         1.5         1.5   \n",
       "1                    1.5  ...        1.5         1.5         1.5   \n",
       "2                    1.5  ...        1.5         1.5         1.5   \n",
       "3                    1.5  ...        1.5         1.5         1.5   \n",
       "4                    1.5  ...        1.5         1.5         1.5   \n",
       "...                  ...  ...        ...         ...         ...   \n",
       "401751               1.0  ...        1.0         1.0         1.0   \n",
       "401752               1.0  ...        1.0         1.0         1.0   \n",
       "401753               1.0  ...        1.0         1.0         1.0   \n",
       "401754               1.0  ...        1.0         1.0         1.0   \n",
       "401755               1.0  ...        1.0         1.0         1.0   \n",
       "\n",
       "        overlap_time  template_id  answer_id  first_action  bottom_hint  \\\n",
       "0                1.5          1.5        NaN           1.5          NaN   \n",
       "1                1.5          1.5        NaN           1.5          NaN   \n",
       "2                1.5          1.5        NaN           1.5          NaN   \n",
       "3                1.5          1.5        NaN           1.5          NaN   \n",
       "4                1.5          1.5        NaN           1.5          1.5   \n",
       "...              ...          ...        ...           ...          ...   \n",
       "401751           1.0          1.0        1.0           1.0          NaN   \n",
       "401752           1.0          1.0        1.0           1.0          NaN   \n",
       "401753           1.0          1.0        NaN           1.0          NaN   \n",
       "401754           1.0          1.0        NaN           1.0          NaN   \n",
       "401755           1.0          1.0        NaN           1.0          1.0   \n",
       "\n",
       "        opportunity  opportunity_original  \n",
       "0               1.5                   1.5  \n",
       "1               1.5                   1.5  \n",
       "2               1.0                   1.0  \n",
       "3               1.0                   1.0  \n",
       "4               1.0                   1.0  \n",
       "...             ...                   ...  \n",
       "401751          1.0                   NaN  \n",
       "401752          1.0                   NaN  \n",
       "401753          1.0                   NaN  \n",
       "401754          1.0                   NaN  \n",
       "401755          1.0                   NaN  \n",
       "\n",
       "[401431 rows x 22 columns]"
      ],
      "text/html": "<div>\n<style scoped>\n    .dataframe tbody tr th:only-of-type {\n        vertical-align: middle;\n    }\n\n    .dataframe tbody tr th {\n        vertical-align: top;\n    }\n\n    .dataframe thead th {\n        text-align: right;\n    }\n</style>\n<table border=\"1\" class=\"dataframe\">\n  <thead>\n    <tr style=\"text-align: right;\">\n      <th></th>\n      <th>order_id</th>\n      <th>assistment_id</th>\n      <th>original</th>\n      <th>correct</th>\n      <th>attempt_count</th>\n      <th>ms_first_response</th>\n      <th>sequence_id</th>\n      <th>student_class_id</th>\n      <th>position</th>\n      <th>base_sequence_id</th>\n      <th>...</th>\n      <th>school_id</th>\n      <th>hint_count</th>\n      <th>hint_total</th>\n      <th>overlap_time</th>\n      <th>template_id</th>\n      <th>answer_id</th>\n      <th>first_action</th>\n      <th>bottom_hint</th>\n      <th>opportunity</th>\n      <th>opportunity_original</th>\n    </tr>\n  </thead>\n  <tbody>\n    <tr>\n      <th>0</th>\n      <td>1.5</td>\n      <td>1.5</td>\n      <td>1.5</td>\n      <td>1.5</td>\n      <td>1.5</td>\n      <td>1.5</td>\n      <td>1.5</td>\n      <td>1.5</td>\n      <td>1.5</td>\n      <td>1.5</td>\n      <td>...</td>\n      <td>1.5</td>\n      <td>1.5</td>\n      <td>1.5</td>\n      <td>1.5</td>\n      <td>1.5</td>\n      <td>NaN</td>\n      <td>1.5</td>\n      <td>NaN</td>\n      <td>1.5</td>\n      <td>1.5</td>\n    </tr>\n    <tr>\n      <th>1</th>\n      <td>1.5</td>\n      <td>1.5</td>\n      <td>1.5</td>\n      <td>1.5</td>\n      <td>1.5</td>\n      <td>1.5</td>\n      <td>1.5</td>\n      <td>1.5</td>\n      <td>1.5</td>\n      <td>1.5</td>\n      <td>...</td>\n      <td>1.5</td>\n      <td>1.5</td>\n      <td>1.5</td>\n      <td>1.5</td>\n      <td>1.5</td>\n      <td>NaN</td>\n      <td>1.5</td>\n      <td>NaN</td>\n      <td>1.5</td>\n      <td>1.5</td>\n    </tr>\n    <tr>\n      <th>2</th>\n      <td>1.5</td>\n      <td>1.5</td>\n      <td>1.5</td>\n      <td>1.5</td>\n      <td>1.5</td>\n      <td>1.5</td>\n      <td>1.5</td>\n      <td>1.5</td>\n      <td>1.5</td>\n      <td>1.5</td>\n      <td>...</td>\n      <td>1.5</td>\n      <td>1.5</td>\n      <td>1.5</td>\n      <td>1.5</td>\n      <td>1.5</td>\n      <td>NaN</td>\n      <td>1.5</td>\n      <td>NaN</td>\n      <td>1.0</td>\n      <td>1.0</td>\n    </tr>\n    <tr>\n      <th>3</th>\n      <td>1.5</td>\n      <td>1.5</td>\n      <td>1.5</td>\n      <td>1.5</td>\n      <td>1.5</td>\n      <td>1.5</td>\n      <td>1.5</td>\n      <td>1.5</td>\n      <td>1.5</td>\n      <td>1.5</td>\n      <td>...</td>\n      <td>1.5</td>\n      <td>1.5</td>\n      <td>1.5</td>\n      <td>1.5</td>\n      <td>1.5</td>\n      <td>NaN</td>\n      <td>1.5</td>\n      <td>NaN</td>\n      <td>1.0</td>\n      <td>1.0</td>\n    </tr>\n    <tr>\n      <th>4</th>\n      <td>1.5</td>\n      <td>1.5</td>\n      <td>1.5</td>\n      <td>1.5</td>\n      <td>1.5</td>\n      <td>1.5</td>\n      <td>1.5</td>\n      <td>1.5</td>\n      <td>1.5</td>\n      <td>1.5</td>\n      <td>...</td>\n      <td>1.5</td>\n      <td>1.5</td>\n      <td>1.5</td>\n      <td>1.5</td>\n      <td>1.5</td>\n      <td>NaN</td>\n      <td>1.5</td>\n      <td>1.5</td>\n      <td>1.0</td>\n      <td>1.0</td>\n    </tr>\n    <tr>\n      <th>...</th>\n      <td>...</td>\n      <td>...</td>\n      <td>...</td>\n      <td>...</td>\n      <td>...</td>\n      <td>...</td>\n      <td>...</td>\n      <td>...</td>\n      <td>...</td>\n      <td>...</td>\n      <td>...</td>\n      <td>...</td>\n      <td>...</td>\n      <td>...</td>\n      <td>...</td>\n      <td>...</td>\n      <td>...</td>\n      <td>...</td>\n      <td>...</td>\n      <td>...</td>\n      <td>...</td>\n    </tr>\n    <tr>\n      <th>401751</th>\n      <td>1.0</td>\n      <td>1.0</td>\n      <td>1.0</td>\n      <td>1.0</td>\n      <td>1.0</td>\n      <td>1.0</td>\n      <td>1.0</td>\n      <td>1.0</td>\n      <td>1.0</td>\n      <td>1.0</td>\n      <td>...</td>\n      <td>1.0</td>\n      <td>1.0</td>\n      <td>1.0</td>\n      <td>1.0</td>\n      <td>1.0</td>\n      <td>1.0</td>\n      <td>1.0</td>\n      <td>NaN</td>\n      <td>1.0</td>\n      <td>NaN</td>\n    </tr>\n    <tr>\n      <th>401752</th>\n      <td>1.0</td>\n      <td>1.0</td>\n      <td>1.0</td>\n      <td>1.0</td>\n      <td>1.0</td>\n      <td>1.0</td>\n      <td>1.0</td>\n      <td>1.0</td>\n      <td>1.0</td>\n      <td>1.0</td>\n      <td>...</td>\n      <td>1.0</td>\n      <td>1.0</td>\n      <td>1.0</td>\n      <td>1.0</td>\n      <td>1.0</td>\n      <td>1.0</td>\n      <td>1.0</td>\n      <td>NaN</td>\n      <td>1.0</td>\n      <td>NaN</td>\n    </tr>\n    <tr>\n      <th>401753</th>\n      <td>1.0</td>\n      <td>1.0</td>\n      <td>1.0</td>\n      <td>1.0</td>\n      <td>1.0</td>\n      <td>1.0</td>\n      <td>1.0</td>\n      <td>1.0</td>\n      <td>1.0</td>\n      <td>1.0</td>\n      <td>...</td>\n      <td>1.0</td>\n      <td>1.0</td>\n      <td>1.0</td>\n      <td>1.0</td>\n      <td>1.0</td>\n      <td>NaN</td>\n      <td>1.0</td>\n      <td>NaN</td>\n      <td>1.0</td>\n      <td>NaN</td>\n    </tr>\n    <tr>\n      <th>401754</th>\n      <td>1.0</td>\n      <td>1.0</td>\n      <td>1.0</td>\n      <td>1.0</td>\n      <td>1.0</td>\n      <td>1.0</td>\n      <td>1.0</td>\n      <td>1.0</td>\n      <td>1.0</td>\n      <td>1.0</td>\n      <td>...</td>\n      <td>1.0</td>\n      <td>1.0</td>\n      <td>1.0</td>\n      <td>1.0</td>\n      <td>1.0</td>\n      <td>NaN</td>\n      <td>1.0</td>\n      <td>NaN</td>\n      <td>1.0</td>\n      <td>NaN</td>\n    </tr>\n    <tr>\n      <th>401755</th>\n      <td>1.0</td>\n      <td>1.0</td>\n      <td>1.0</td>\n      <td>1.0</td>\n      <td>1.0</td>\n      <td>1.0</td>\n      <td>1.0</td>\n      <td>1.0</td>\n      <td>1.0</td>\n      <td>1.0</td>\n      <td>...</td>\n      <td>1.0</td>\n      <td>1.0</td>\n      <td>1.0</td>\n      <td>1.0</td>\n      <td>1.0</td>\n      <td>NaN</td>\n      <td>1.0</td>\n      <td>1.0</td>\n      <td>1.0</td>\n      <td>NaN</td>\n    </tr>\n  </tbody>\n</table>\n<p>401431 rows × 22 columns</p>\n</div>"
     },
     "metadata": {},
     "execution_count": 18
    }
   ],
   "source": [
    "dfg1.describe()\n"
   ]
  },
  {
   "cell_type": "code",
   "execution_count": null,
   "metadata": {},
   "outputs": [],
   "source": []
  },
  {
   "cell_type": "code",
   "execution_count": 13,
   "metadata": {},
   "outputs": [
    {
     "output_type": "execute_result",
     "data": {
      "text/plain": [
       "(3966,\n",
       " 112118,\n",
       " order_id                      21617749\n",
       " assignment_id                   263600\n",
       " user_id                             14\n",
       " assistment_id                    36822\n",
       " problem_id                       57647\n",
       " original                             1\n",
       " correct                              0\n",
       " attempt_count                        0\n",
       " ms_first_response                82572\n",
       " tutor_mode                       tutor\n",
       " answer_type                    algebra\n",
       " sequence_id                       5916\n",
       " student_class_id                 12495\n",
       " position                             2\n",
       " type                    MasterySection\n",
       " base_sequence_id                  5916\n",
       " skill_id                           2.0\n",
       " skill_name                Circle Graph\n",
       " teacher_id                       42972\n",
       " school_id                            1\n",
       " hint_count                           0\n",
       " hint_total                           0\n",
       " overlap_time                     82572\n",
       " template_id                      30397\n",
       " answer_id                          NaN\n",
       " answer_text                        NaN\n",
       " first_action                         2\n",
       " bottom_hint                        NaN\n",
       " opportunity                         10\n",
       " opportunity_original              10.0\n",
       " Name: 3966, dtype: object,\n",
       " order_id                            32833316\n",
       " assignment_id                         277456\n",
       " user_id                                71740\n",
       " assistment_id                          36832\n",
       " problem_id                             57677\n",
       " original                                   1\n",
       " correct                                    0\n",
       " attempt_count                              1\n",
       " ms_first_response                      15625\n",
       " tutor_mode                             tutor\n",
       " answer_type                          algebra\n",
       " sequence_id                             5898\n",
       " student_class_id                       11816\n",
       " position                                 249\n",
       " type                          MasterySection\n",
       " base_sequence_id                        5898\n",
       " skill_id                                48.0\n",
       " skill_name              Equivalent Fractions\n",
       " teacher_id                             22763\n",
       " school_id                                 73\n",
       " hint_count                                 0\n",
       " hint_total                                 0\n",
       " overlap_time                           15637\n",
       " template_id                            30397\n",
       " answer_id                                NaN\n",
       " answer_text                              300\n",
       " first_action                               0\n",
       " bottom_hint                              NaN\n",
       " opportunity                               10\n",
       " opportunity_original                    10.0\n",
       " Name: 112193, dtype: object)"
      ]
     },
     "metadata": {},
     "execution_count": 13
    }
   ],
   "source": [
    "a,b = dfg1.groups[(14, 57647, 263600)][0],dfg1.groups[(14, 57647, 263600)][1]\n",
    "a,b,df1.iloc[a],df1.iloc[b]"
   ]
  },
  {
   "cell_type": "code",
   "execution_count": null,
   "metadata": {},
   "outputs": [],
   "source": [
    "from tqdm import tqdm\n",
    "for index, row in tqdm(filtered_data.iterrows()):\n",
    "    if row['skill_id'] == -1:\n",
    "        continue\n",
    "    if row['skill_id'] not in skills:\n",
    "\n",
    "        \n",
    "        skills.append(int(row['skill_id']))\n",
    "    if row['user_id'] not in users_id:\n",
    "        users_id.append(int(row['user_id']))\n",
    "    if row['user_id'] in students:\n",
    "        students[row['user_id']].append(\n",
    "            row[selected_features].values.tolist())\n",
    "    else:\n",
    "        students[row['user_id']] = [\n",
    "            row[selected_features].values.tolist()]"
   ]
  },
  {
   "cell_type": "code",
   "execution_count": 15,
   "metadata": {},
   "outputs": [],
   "source": [
    "pickle_data = {}"
   ]
  },
  {
   "cell_type": "code",
   "execution_count": 16,
   "metadata": {},
   "outputs": [],
   "source": [
    "import pickle\n",
    "pickle_data['students'] = students\n",
    "pickle_data['skills'] = skills\n",
    "pickle_data['users_id'] = users_id\n",
    "pickling_on = open(\"students.pickle\", \"wb\")\n",
    "pickle.dump(pickle_data, pickling_on)\n",
    "pickling_on.close()"
   ]
  },
  {
   "cell_type": "code",
   "execution_count": null,
   "metadata": {},
   "outputs": [],
   "source": [
    "for user_id in users_id:\n",
    "    if len(students[user_id]) > max_steps:\n",
    "        max_steps = len(students[user_id])\n",
    "    if len(students[user_id]) < min_steps:\n",
    "        min_steps = len(students[user_id])\n",
    "    if len(students[user_id]) <= 2:\n",
    "        del students[user_id]\n",
    "    else:\n",
    "        students_list.append(students[user_id])"
   ]
  },
  {
   "cell_type": "code",
   "execution_count": 44,
   "metadata": {},
   "outputs": [
    {
     "output_type": "stream",
     "name": "stdout",
     "text": [
      "Max step: -1\nNum of skills: 0\nNum of students: 0\n"
     ]
    }
   ],
   "source": [
    "print('Max step:', max_steps)\n",
    "print('Num of skills:', len(skills))\n",
    "print('Num of students:', len(users_id))\n",
    "# np.array([List_s1[[],[],[]],List_s2[[][][]]],...,List_s3[[][]]])\n",
    "       "
   ]
  },
  {
   "cell_type": "code",
   "execution_count": null,
   "metadata": {},
   "outputs": [],
   "source": [
    "students_list[0]"
   ]
  },
  {
   "cell_type": "code",
   "execution_count": null,
   "metadata": {},
   "outputs": [],
   "source": [
    "import seaborn as sns"
   ]
  },
  {
   "cell_type": "code",
   "execution_count": null,
   "metadata": {},
   "outputs": [],
   "source": [
    "sns.distplot(x=filtered_data[\"skill_id\"],hue=\"correct\")"
   ]
  },
  {
   "cell_type": "code",
   "execution_count": null,
   "metadata": {},
   "outputs": [],
   "source": [
    " dat = DATA_RAW(n_question=params.n_question,\n",
    "                   seqlen=200, separate_char=',')"
   ]
  },
  {
   "cell_type": "code",
   "execution_count": null,
   "metadata": {},
   "outputs": [],
   "source": [
    "filtered_data[\"skill_id\"].unique().shape"
   ]
  },
  {
   "cell_type": "code",
   "execution_count": null,
   "metadata": {},
   "outputs": [],
   "source": [
    "sns.countplot(x = 'correct', data = filtered_data)\n"
   ]
  }
 ],
 "metadata": {
  "kernelspec": {
   "name": "python386jvsc74a57bd03a98a4adc7aecfd5273ea8673170bd5c0fc543723a3242dbe380a01e5d35dd95",
   "display_name": "Python 3.8.6 64-bit ('3.8.6': pyenv)"
  },
  "language_info": {
   "codemirror_mode": {
    "name": "ipython",
    "version": 3
   },
   "file_extension": ".py",
   "mimetype": "text/x-python",
   "name": "python",
   "nbconvert_exporter": "python",
   "pygments_lexer": "ipython3",
   "version": "3.8.6"
  },
  "metadata": {
   "interpreter": {
    "hash": "435abe99259aa22357c41abd06f89201634665744e0ddb9c4ac9e08362c3167b"
   }
  }
 },
 "nbformat": 4,
 "nbformat_minor": 4
}