{
 "cells": [
  {
   "cell_type": "code",
   "execution_count": 1,
   "metadata": {},
   "outputs": [],
   "source": [
    "import pandas as pd\n",
    "import os\n",
    "import re\n",
    "import nlpcda as nc\n",
    "from sklearn.preprocessing import MultiLabelBinarizer\n",
    "\n"
   ]
  },
  {
   "cell_type": "code",
   "execution_count": 100,
   "metadata": {},
   "outputs": [],
   "source": []
  },
  {
   "cell_type": "code",
   "execution_count": null,
   "metadata": {},
   "outputs": [],
   "source": []
  },
  {
   "cell_type": "code",
   "execution_count": 93,
   "metadata": {},
   "outputs": [
    {
     "data": {
      "text/html": [
       "<div>\n",
       "<style scoped>\n",
       "    .dataframe tbody tr th:only-of-type {\n",
       "        vertical-align: middle;\n",
       "    }\n",
       "\n",
       "    .dataframe tbody tr th {\n",
       "        vertical-align: top;\n",
       "    }\n",
       "\n",
       "    .dataframe thead th {\n",
       "        text-align: right;\n",
       "    }\n",
       "</style>\n",
       "<table border=\"1\" class=\"dataframe\">\n",
       "  <thead>\n",
       "    <tr style=\"text-align: right;\">\n",
       "      <th></th>\n",
       "      <th>cate</th>\n",
       "      <th>labels</th>\n",
       "    </tr>\n",
       "  </thead>\n",
       "  <tbody>\n",
       "    <tr>\n",
       "      <th>0</th>\n",
       "      <td>1373</td>\n",
       "      <td>集合/集合概念</td>\n",
       "    </tr>\n",
       "    <tr>\n",
       "      <th>1</th>\n",
       "      <td>1374</td>\n",
       "      <td>集合/集合运算</td>\n",
       "    </tr>\n",
       "    <tr>\n",
       "      <th>2</th>\n",
       "      <td>1376</td>\n",
       "      <td>逻辑</td>\n",
       "    </tr>\n",
       "    <tr>\n",
       "      <th>3</th>\n",
       "      <td>1377</td>\n",
       "      <td>逻辑/命题关系</td>\n",
       "    </tr>\n",
       "    <tr>\n",
       "      <th>4</th>\n",
       "      <td>1378</td>\n",
       "      <td>充分条件/必要条件/充要条件</td>\n",
       "    </tr>\n",
       "    <tr>\n",
       "      <th>...</th>\n",
       "      <td>...</td>\n",
       "      <td>...</td>\n",
       "    </tr>\n",
       "    <tr>\n",
       "      <th>191</th>\n",
       "      <td>1565</td>\n",
       "      <td>复数综合运算</td>\n",
       "    </tr>\n",
       "    <tr>\n",
       "      <th>192</th>\n",
       "      <td>1566</td>\n",
       "      <td>数系扩充</td>\n",
       "    </tr>\n",
       "    <tr>\n",
       "      <th>193</th>\n",
       "      <td>1567</td>\n",
       "      <td>矩阵行列式</td>\n",
       "    </tr>\n",
       "    <tr>\n",
       "      <th>194</th>\n",
       "      <td>1568</td>\n",
       "      <td>矩阵</td>\n",
       "    </tr>\n",
       "    <tr>\n",
       "      <th>195</th>\n",
       "      <td>1569</td>\n",
       "      <td>行列式</td>\n",
       "    </tr>\n",
       "  </tbody>\n",
       "</table>\n",
       "<p>196 rows × 2 columns</p>\n",
       "</div>"
      ],
      "text/plain": [
       "     cate          labels\n",
       "0    1373         集合/集合概念\n",
       "1    1374         集合/集合运算\n",
       "2    1376              逻辑\n",
       "3    1377         逻辑/命题关系\n",
       "4    1378  充分条件/必要条件/充要条件\n",
       "..    ...             ...\n",
       "191  1565          复数综合运算\n",
       "192  1566            数系扩充\n",
       "193  1567           矩阵行列式\n",
       "194  1568              矩阵\n",
       "195  1569             行列式\n",
       "\n",
       "[196 rows x 2 columns]"
      ]
     },
     "execution_count": 93,
     "metadata": {},
     "output_type": "execute_result"
    }
   ],
   "source": [
    "cl"
   ]
  },
  {
   "cell_type": "code",
   "execution_count": null,
   "metadata": {},
   "outputs": [],
   "source": []
  },
  {
   "cell_type": "code",
   "execution_count": 255,
   "metadata": {},
   "outputs": [],
   "source": [
    "cl = readcate_labels(\"./data/labels.csv\")\n",
    "\n",
    "def readcate_labels(filename):\n",
    "    data = pd.read_csv(filename)\n",
    "    return data\n",
    "\n",
    "\n",
    "\n",
    "\n",
    "\n",
    "def txtpreprocess(txt, removenoncn=True, removetrim=True):\n",
    "    res = txt\n",
    "    res = re.sub(\"A.*B.*答案.*解析\", \"\", res)\n",
    "    res = re.sub(\"\\(?本小题满分.*分\\)?\",\"\",res)\n",
    "    res = re.sub(\"\\(?本小题共.*分\\)?\",\"\",res)\n",
    "    res = re.sub(\"答案.*解析\",\"\",res)\n",
    "    res = re.sub(\"[,，、]+\",\",\",res)\n",
    "    res = re.sub(\"[….]+.*分\",\"\",res)\n",
    "\n",
    "    res = re.sub(r'[^\\u4e00-\\u9fa5]', \"\", res)\n",
    "    #print(res,len(res))\n",
    "    return res.replace(\"\\n\", \"\").replace(\"\\\"\", \"\").strip(\"\\\"\")\n",
    "\n",
    "\n",
    "def readexercisefiles(path):\n",
    "    df = pd.DataFrame(columns=[\"exercise_text\", 'labels'])\n",
    "    for i in range(1373, 1394):\n",
    "        predf_labels = cl[cl[\"cate\"]==i]\n",
    "        print(predf_labels)\n",
    "        fn = path + str(i)\n",
    "        if os.path.exists(fn):\n",
    "            with open(fn) as f:\n",
    "                ls = f.readlines()\n",
    "                for l in ls:\n",
    "                    exertext = txtpreprocess(\n",
    "                        l)\n",
    "                    if len(exertext)>10:\n",
    "                        df = df.append({\"exercise_text\": exertext,\n",
    "                                    \"labels\": predf_labels}, ignore_index=True)\n",
    "    return df\n",
    "def readdata(labelidx):\n",
    "    fn = \"./data/senior_Math\" + str(labelidx)\n",
    "    df = pd.DataFrame(columns=[\"exercise_text\", 'labels'])\n",
    "\n",
    "    predf_label = cl.iloc[labelidx-1373].at[\"labels\"]\n",
    "    if len(predf_label)==0:\n",
    "        return df\n",
    "    with open(fn) as f:\n",
    "        ls = f.readlines()\n",
    "        for l in ls:\n",
    "            exertext = txtpreprocess(\n",
    "                l)\n",
    "            if len(exertext)>15:\n",
    "                df = df.append({\"exercise_text\": exertext,\n",
    "                            \"labels\": predf_label}, ignore_index=True)\n",
    "    return df.drop_duplicates(subset=[\"exercise_text\"], keep='first', inplace=False)\n",
    "\n",
    "for i in [1375,1449,1450,1386,1377,1431,1400]:\n",
    "    readdata(i).to_csv(\"./data/processed/\"+str(i)+\".csv\",index = False)\n",
    "        "
   ]
  },
  {
   "cell_type": "code",
   "execution_count": null,
   "metadata": {},
   "outputs": [],
   "source": []
  },
  {
   "cell_type": "code",
   "execution_count": null,
   "metadata": {},
   "outputs": [],
   "source": []
  },
  {
   "cell_type": "code",
   "execution_count": 256,
   "metadata": {},
   "outputs": [],
   "source": [
    "with open(\"./data/processed/1450.csv\") as f, open(\"./data/processed/1450_p.csv\",\"w\") as f2:\n",
    "    ls = f.readlines()\n",
    "    for l in ls:\n",
    "        label = l.split(',')[1]\n",
    "        newl = l[:-1]\n",
    "        if re.search(r\"(奇函数)+\", l) or re.search(r\"(偶函数)+\", l) or re.search(r\"(奇偶)+\", l):\n",
    "            if not re.search(r\"(函数奇偶性)+\", label):\n",
    "                newl += \"/函数奇偶性\"\n",
    "        if re.search(r\"(正弦)+\", l) or re.search(r\"(余弦)+\", l) or re.search(r\"(三角函数)+\", l):    \n",
    "            if not re.search(r\"(三角函数)+\", label):\n",
    "                newl += \"/三角函数\"\n",
    "        if re.search(r\"(命题)+\", l) or re.search(r\"(充分)+\", l) or re.search(r\"(必要)+\", l) or re.search(r\"(充要)+\", l):    \n",
    "            if not re.search(r\"(逻辑与命题关系)+\", label):\n",
    "                newl += \"/逻辑与命题关系\"\n",
    "        if re.search(r\"(集合)+\", l) or re.search(r\"(并集)+\", l) or re.search(r\"(交集)+\", l) or re.search(r\"(子集)+\", l) or re.search(r\"(空集)+\", l) or re.search(r\"(韦恩图)+\", l):     \n",
    "            if not re.search(r\"(集合)+\", label):\n",
    "                newl += \"/集合\"\n",
    "        if re.search(r\"(导数)+\", l) or re.search(r\"(切线)+\", l) or re.search(r\"(极值)+\", l) or re.search(r\"(单调递)+\", l) or re.search(r\"(单调区间)+\", l) :    \n",
    "            if not re.search(r\"(导数)+\", label):\n",
    "                newl += \"/导数\"\n",
    "        if re.search(r\"(平面向量)+\", l) or re.search(r\"(向量)+\", l) :    \n",
    "            if not re.search(r\"(平面向量)+\", label):\n",
    "                newl += \"/平面向量\"\n",
    "        if re.search(r\"(等差数列)+\", l) :    \n",
    "            if not re.search(r\"(等差数列)+\", label):\n",
    "                newl += \"/等差数列\"\n",
    "        if re.search(r\"(等比数列)+\", l) :    \n",
    "            if not re.search(r\"(等比数列)+\", label):\n",
    "                newl += \"/等比数列\"\n",
    "        f2.write(newl+\"\\n\")\n",
    "            "
   ]
  },
  {
   "cell_type": "code",
   "execution_count": null,
   "metadata": {},
   "outputs": [],
   "source": []
  },
  {
   "cell_type": "code",
   "execution_count": 257,
   "metadata": {},
   "outputs": [],
   "source": [
    "for i in [1375,1449,1386,1377,1431,1400]:\n",
    "    with open(\"./data/processed/\"+str(i) +\".csv\") as f, open(\"./data/processed/\"+str(i)+ \"_p.csv\",\"w\") as f2:\n",
    "        ls = f.readlines()\n",
    "        for l in ls:\n",
    "            bool11 = re.search(r\"(奇函数)+\", l) or re.search(r\"(偶函数)+\", l) or re.search(r\"(奇偶)+\", l)\n",
    "            bool12 = re.search(r\"(函数奇偶性)+\", label) \n",
    "            bool21 = re.search(r\"(正弦)+\", l) or re.search(r\"(余弦)+\", l) or re.search(r\"(三角函数)+\", l)\n",
    "            bool22 = re.search(r\"(三角函数)+\", label)\n",
    "            bool31 = re.search(r\"(命题)+\", l) or re.search(r\"(充分)+\", l) or re.search(r\"(必要)+\", l) or re.search(r\"(充要)+\", l)\n",
    "            bool32 = re.search(r\"(逻辑与命题关系)+\", label)\n",
    "            bool41 = re.search(r\"(集合)+\", l) or re.search(r\"(并集)+\", l) or re.search(r\"(交集)+\", l) or re.search(r\"(子集)+\", l) or re.search(r\"(空集)+\", l) or re.search(r\"(韦恩图)+\", l)\n",
    "            bool42 = re.search(r\"(集合)+\", label)\n",
    "            bool51 = re.search(r\"(导数)+\", l) or re.search(r\"(切线)+\", l) or re.search(r\"(极值)+\", l) or re.search(r\"(单调递)+\", l) or re.search(r\"(单调区间)+\", l)\n",
    "            bool52 = re.search(r\"(导数)+\", label)\n",
    "            bool61 = re.search(r\"(平面向量)+\", l) or re.search(r\"(向量)+\", l)\n",
    "            bool62 = re.search(r\"(平面向量)+\", label)\n",
    "            bool71 = re.search(r\"(数列)+\", l)\n",
    "            bool72 =  re.search(r\"(数列)+\", label)\n",
    "            label = l.split(',')[1]\n",
    "            newl = l[:-1]\n",
    "            if bool11 and not bool12:\n",
    "                newl += \"/函数奇偶性\"\n",
    "            if bool21 and not bool22:    \n",
    "                newl += \"/三角函数\"\n",
    "            if bool31 and not bool32:    \n",
    "                newl += \"/逻辑与命题关系\"\n",
    "            if bool41 and not bool42:\n",
    "                newl += \"/集合\"\n",
    "            if bool51 and not bool52:\n",
    "                newl += \"/导数\"\n",
    "            if bool61 and not bool62:\n",
    "                newl += \"/平面向量\"\n",
    "            if bool71 and not bool72:\n",
    "                newl += \"/数列\"\n",
    "            f2.write(newl+\"\\n\")\n"
   ]
  },
  {
   "cell_type": "code",
   "execution_count": null,
   "metadata": {},
   "outputs": [],
   "source": []
  },
  {
   "cell_type": "code",
   "execution_count": null,
   "metadata": {},
   "outputs": [],
   "source": []
  },
  {
   "cell_type": "code",
   "execution_count": null,
   "metadata": {},
   "outputs": [],
   "source": []
  },
  {
   "cell_type": "code",
   "execution_count": 273,
   "metadata": {},
   "outputs": [
    {
     "data": {
      "text/plain": [
       "[                                         exercise_text labels\n",
       " 0                                     若是小于的正整数是奇数是的倍数则     集合\n",
       " 1    某班共人其中人喜爱篮球运动人喜爱兵乓球运动人对这两项运动都不喜爱则喜爱篮球运动但不喜爱乒乓球...     集合\n",
       " 2    某班有名同学参加数学物理化学课外探究小组每名同学至多参加两个小组已知参加数学物理化学小组的人...     集合\n",
       " 3                             已知全集中有个元素中有个元素若非空则的元素个数为     集合\n",
       " 4                       设全集是实数集函数的定义域为则如图所示阴影部分所表示的集合是     集合\n",
       " ..                                                 ...    ...\n",
       " 144            设全集考点交并补集的混合运算分析先根据补集的含义求再根据交集的含义求即可解故选     集合\n",
       " 145  已知全集且考点元素与集合关系的判断专题计算题分析先解绝对值不等式求出集合再求出其补集解一元二...     集合\n",
       " 146                                 本题满分分设其中如果求实数的取值范围     集合\n",
       " 147  已知集合则下列结论正确的是考点交并补集的混合运算分析为对数函数的值域结合对数函数的图象求出为...     集合\n",
       " 148                           已知集合则因为要求有三个值则是所以的交集是所以选     集合\n",
       " \n",
       " [149 rows x 2 columns],\n",
       "                                          exercise_text labels\n",
       " 0                             已知为等差数列以表示的前项和则使得达到最大值的是     数列\n",
       " 1                               设是公差不为的等差数列且成等比数列则的前项和     数列\n",
       " 2                            别为等差数列的第项和第项试求数列的通项公式及前项和     数列\n",
       " 3                                    设等差数列的前项和为若则的最大值为     数列\n",
       " 4                                已知函数项数为的等差数列满足且公差若则当时     数列\n",
       " ..                                                 ...    ...\n",
       " 947                     在等比数列中首项为公比为项数为则其前项和为类讨论尤其是做题时     数列\n",
       " 948  考点本题考查数列通项公式的求法前项和的求法点评求等差数列和等比数列的通项公式及求数列的前项和...     数列\n",
       " 949  已知是等比数列则试题分析设等比数列的公比为则所以所以所以所以是以为首项以为公比的等比数列所以...     数列\n",
       " 950  已知函数对应关系如表所示数列满足则析所以数列是周期数列周期为所以考点本小题主要以函数为载体考...     数列\n",
       " 951  已知各项均为正数的等比数列中成等差数列则试题分析因为成等差数列所以设公比为所以解得或舍所以考...     数列\n",
       " \n",
       " [952 rows x 2 columns],\n",
       "                                          exercise_text    labels\n",
       " 0                            设是连续的偶函数且当时是单调函数则满足的所有之和为     函数奇偶性\n",
       " 1                    已知函数是定义在实数集上的不恒为零的偶函数且对任意实数都有则的值是     函数奇偶性\n",
       " 2                            若是定义在上的偶函数其图象关于直线对称且当时则当时     函数奇偶性\n",
       " 3                            若定义在上的函数满足对任意有则下列说法一定正确的是     函数奇偶性\n",
       " 4                            设函数是定义在上的奇函数若当时则满足的的取值范围是     函数奇偶性\n",
       " ..                                                 ...       ...\n",
       " 628  设偶函数的定义域为当时是增函数则的大小关系是试题分析因为偶函数的定义域为当时是增函数所以而所...  函数奇偶性/导数\n",
       " 629  已知偶函数在区间上是增函数如果则的取值范围是试题分析因为偶函数在区间上是增函数所以可化为所以...     函数奇偶性\n",
       " 630  设奇函数的定义域为若当时的图象如右图则不等式的解是试题分析因为奇函数的图象关于原点对称所以不...     函数奇偶性\n",
       " 631  已知定义在上的奇函数当时那么时析因为定义在上的奇函数时所以时考点本题主要考查函数的奇偶性点评...     函数奇偶性\n",
       " 632  下列函数中既是上的奇函数又在上单调递增的是试题分析结合选项是奇函数的有但是周期函数在不同区间...  函数奇偶性/导数\n",
       " \n",
       " [633 rows x 2 columns],\n",
       "                                          exercise_text      labels\n",
       " 0                               命题若一个数是负数则它的平方是正数的逆命题是     逻辑与命题关系\n",
       " 1    在空间中若四点不共面则这四点中任何三点都不共线若两条直线没有公共点则这两条直线是异面直线以上...     逻辑与命题关系\n",
       " 2    分别写出下列命题的逆命题否命题逆否命题并判断它们的真假若则方程有实根若则或若则全为零如果两圆...     逻辑与命题关系\n",
       " 3            已知命题函数在内单调递减曲线与轴没有交点如果或是真命题且是假命题则实数的取值范围是  逻辑与命题关系/导数\n",
       " 4                 已知命题所有有理数都是实数命题正数的对数都是负数则下列命题中为真命题的是     逻辑与命题关系\n",
       " ..                                                 ...         ...\n",
       " 597  下列说法将一组数据中的每个数据都加上或减去同一个常数后方差恒不变设有一个回归方程变量增加一个...     逻辑与命题关系\n",
       " 598              二解答题计分本题满分分已知两个命题如果对于任意实数为假为真求实数的取值范围     逻辑与命题关系\n",
       " 599  已知是直线是平面给出下列命题若若若若与异面且相交若与异面则至多有一条直线与都垂直其中真命题的个数是     逻辑与命题关系\n",
       " 600                   给出命题若则在它的逆命题否命题逆否命题这三个命题中真命题的个数是     逻辑与命题关系\n",
       " 601  函数在上是减函数在上是增函数函数在上是减函数在上是增函数函数在上是减函数在上是增函数利用上述...     逻辑与命题关系\n",
       " \n",
       " [602 rows x 2 columns],\n",
       "                                          exercise_text        labels\n",
       " 0           若则向量在向量方向上的投影为试题分析向量在向量方向上的投影为考点向量的坐标表示数量积          平面向量\n",
       " 1    如图所示是圆上的三个点的延长线与线段交于圆内一点若则试题分析如图所示故排除当时即故考点向量的...          平面向量\n",
       " 2    是所在的平面内的一点且满足则的形状一定为试题分析利用向量的加法和减法可得根据向量加法的平行四...          平面向量\n",
       " 3                     已知向量若与共线则析由向量得由与共线得解得考点向量共线的充要条件  平面向量/逻辑与命题关系\n",
       " 4            已知向量若时时则试题分析向量若时即解得时则解得故选考点平面向量数量积坐标表示的应用          平面向量\n",
       " ..                                                 ...           ...\n",
       " 791  已知与的夹角为则等于试题分析根据所给的两个向量的坐标写出两个向量的夹角的表示式代入坐标进行运...     平面向量/三角函数\n",
       " 792  向量与共线且方向相同则试题分析根据题意由于向量与共线且方向相同那么可知故可知答案为考点向量的...          平面向量\n",
       " 793  已知向量定义函数求函数的表达式并指出其最大最小值在锐角中角试题分析解根据题意由于向量定义函数...     平面向量/三角函数\n",
       " 794  在试题分析根据向量加法的平行四边形法则可知等于边上的中线的二倍所以由知边的中线长等于长度的一...          平面向量\n",
       " 795  已知是一个平面内的三个向量其中若求及考点本小题主要考查共线向量垂直向量的计算和应用点评应用共...          平面向量\n",
       " \n",
       " [796 rows x 2 columns],\n",
       "                                          exercise_text labels\n",
       " 0                                   若函数在上有最小值则实数的取值范围是     导数\n",
       " 1                         已知函数讨论函数的单调区间若函数且恒成立求实数的取值范围     导数\n",
       " 2           由曲线直线所围成封闭的平面图形的面积为试题分析如图所示由曲线与直线的交点为的简单应用     导数\n",
       " 3    已知函数函数的导函数且其中为自然对数的底数求的极值若使得不等式成立试求实数的取值范围当时对于...     导数\n",
       " 4         已知函数当时求曲线在点的切线方程对一切恒成立求实数的取值范围当时试讨论在内的极值点的个数     导数\n",
       " ..                                                 ...    ...\n",
       " 850  已知函数在点处的切线方程为求的值对函数定义域内的任一个实数恒成立求实数的取值范围由而点在直线...     导数\n",
       " 851  设函数曲线过点且在点处的切斜线率为求的值证明由已知条件得即解得的定义域为由知设则当时当时所以...     导数\n",
       " 852            曲线在点处的切线的斜率为试题分析故切线的斜率考点复合函数的导数导数求切线的斜率     导数\n",
       " 853          已知函数其中是自然对数的底数求函数的单调区间和极值若函数对任意满足求证当时若且求证     导数\n",
       " 854  若方程的根在区间上则的值为试题分析设定义域令由可知在定义域上递增所以在上均有零点所以很直观看...     导数\n",
       " \n",
       " [855 rows x 2 columns]]"
      ]
     },
     "execution_count": 273,
     "metadata": {},
     "output_type": "execute_result"
    }
   ],
   "source": [
    "dflst = []\n",
    "for i in [1375, 1449,1386,1377,1431,1400]:\n",
    "    dflst.append(pd.read_csv(\"./data/processed/\"+str(i)+ \"_p.csv\"))\n",
    "tl = pd.concat(dflst)\n",
    "dflst\n"
   ]
  },
  {
   "cell_type": "code",
   "execution_count": 278,
   "metadata": {},
   "outputs": [],
   "source": [
    "from sklearn.preprocessing import MultiLabelBinarizer\n",
    "mlb = MultiLabelBinarizer()\n",
    "mlb_result = mlb.fit_transform(\n",
    "    [str(tl.loc[i, 'labels']).split('/') for i in range(len(tl))])"
   ]
  },
  {
   "cell_type": "code",
   "execution_count": 279,
   "metadata": {},
   "outputs": [
    {
     "data": {
      "text/plain": [
       "array([[0, 0, 0, ..., 0, 0, 1],\n",
       "       [0, 0, 0, ..., 0, 0, 1],\n",
       "       [0, 0, 0, ..., 0, 0, 1],\n",
       "       ...,\n",
       "       [0, 0, 1, ..., 0, 0, 0],\n",
       "       [0, 0, 1, ..., 0, 0, 0],\n",
       "       [0, 0, 1, ..., 0, 0, 0]])"
      ]
     },
     "execution_count": 279,
     "metadata": {},
     "output_type": "execute_result"
    }
   ],
   "source": [
    "mlb_result"
   ]
  },
  {
   "cell_type": "code",
   "execution_count": 280,
   "metadata": {},
   "outputs": [],
   "source": [
    "df_final = pd.concat([tl['exercise_text'], pd.DataFrame(\n",
    "    mlb_result, columns=list(mlb.classes_))], axis=1)"
   ]
  },
  {
   "cell_type": "code",
   "execution_count": 282,
   "metadata": {},
   "outputs": [],
   "source": [
    "df_final = df_final.drop_duplicates(subset=[\"exercise_text\"], keep='first', inplace=False)"
   ]
  },
  {
   "cell_type": "code",
   "execution_count": 283,
   "metadata": {},
   "outputs": [
    {
     "data": {
      "text/html": [
       "<div>\n",
       "<style scoped>\n",
       "    .dataframe tbody tr th:only-of-type {\n",
       "        vertical-align: middle;\n",
       "    }\n",
       "\n",
       "    .dataframe tbody tr th {\n",
       "        vertical-align: top;\n",
       "    }\n",
       "\n",
       "    .dataframe thead th {\n",
       "        text-align: right;\n",
       "    }\n",
       "</style>\n",
       "<table border=\"1\" class=\"dataframe\">\n",
       "  <thead>\n",
       "    <tr style=\"text-align: right;\">\n",
       "      <th></th>\n",
       "      <th>exercise_text</th>\n",
       "      <th>三角函数</th>\n",
       "      <th>函数奇偶性</th>\n",
       "      <th>导数</th>\n",
       "      <th>平面向量</th>\n",
       "      <th>数列</th>\n",
       "      <th>逻辑与命题关系</th>\n",
       "      <th>集合</th>\n",
       "    </tr>\n",
       "  </thead>\n",
       "  <tbody>\n",
       "    <tr>\n",
       "      <th>0</th>\n",
       "      <td>若是小于的正整数是奇数是的倍数则</td>\n",
       "      <td>0</td>\n",
       "      <td>0</td>\n",
       "      <td>0</td>\n",
       "      <td>0</td>\n",
       "      <td>0</td>\n",
       "      <td>0</td>\n",
       "      <td>1</td>\n",
       "    </tr>\n",
       "    <tr>\n",
       "      <th>1</th>\n",
       "      <td>某班共人其中人喜爱篮球运动人喜爱兵乓球运动人对这两项运动都不喜爱则喜爱篮球运动但不喜爱乒乓球...</td>\n",
       "      <td>0</td>\n",
       "      <td>0</td>\n",
       "      <td>0</td>\n",
       "      <td>0</td>\n",
       "      <td>0</td>\n",
       "      <td>0</td>\n",
       "      <td>1</td>\n",
       "    </tr>\n",
       "    <tr>\n",
       "      <th>2</th>\n",
       "      <td>某班有名同学参加数学物理化学课外探究小组每名同学至多参加两个小组已知参加数学物理化学小组的人...</td>\n",
       "      <td>0</td>\n",
       "      <td>0</td>\n",
       "      <td>0</td>\n",
       "      <td>0</td>\n",
       "      <td>0</td>\n",
       "      <td>0</td>\n",
       "      <td>1</td>\n",
       "    </tr>\n",
       "    <tr>\n",
       "      <th>3</th>\n",
       "      <td>已知全集中有个元素中有个元素若非空则的元素个数为</td>\n",
       "      <td>0</td>\n",
       "      <td>0</td>\n",
       "      <td>0</td>\n",
       "      <td>0</td>\n",
       "      <td>0</td>\n",
       "      <td>0</td>\n",
       "      <td>1</td>\n",
       "    </tr>\n",
       "    <tr>\n",
       "      <th>4</th>\n",
       "      <td>设全集是实数集函数的定义域为则如图所示阴影部分所表示的集合是</td>\n",
       "      <td>0</td>\n",
       "      <td>0</td>\n",
       "      <td>0</td>\n",
       "      <td>0</td>\n",
       "      <td>0</td>\n",
       "      <td>0</td>\n",
       "      <td>1</td>\n",
       "    </tr>\n",
       "    <tr>\n",
       "      <th>...</th>\n",
       "      <td>...</td>\n",
       "      <td>...</td>\n",
       "      <td>...</td>\n",
       "      <td>...</td>\n",
       "      <td>...</td>\n",
       "      <td>...</td>\n",
       "      <td>...</td>\n",
       "      <td>...</td>\n",
       "    </tr>\n",
       "    <tr>\n",
       "      <th>3982</th>\n",
       "      <td>已知函数在点处的切线方程为求的值对函数定义域内的任一个实数恒成立求实数的取值范围由而点在直线...</td>\n",
       "      <td>0</td>\n",
       "      <td>0</td>\n",
       "      <td>1</td>\n",
       "      <td>0</td>\n",
       "      <td>0</td>\n",
       "      <td>0</td>\n",
       "      <td>0</td>\n",
       "    </tr>\n",
       "    <tr>\n",
       "      <th>3983</th>\n",
       "      <td>设函数曲线过点且在点处的切斜线率为求的值证明由已知条件得即解得的定义域为由知设则当时当时所以...</td>\n",
       "      <td>0</td>\n",
       "      <td>0</td>\n",
       "      <td>1</td>\n",
       "      <td>0</td>\n",
       "      <td>0</td>\n",
       "      <td>0</td>\n",
       "      <td>0</td>\n",
       "    </tr>\n",
       "    <tr>\n",
       "      <th>3984</th>\n",
       "      <td>曲线在点处的切线的斜率为试题分析故切线的斜率考点复合函数的导数导数求切线的斜率</td>\n",
       "      <td>0</td>\n",
       "      <td>0</td>\n",
       "      <td>1</td>\n",
       "      <td>0</td>\n",
       "      <td>0</td>\n",
       "      <td>0</td>\n",
       "      <td>0</td>\n",
       "    </tr>\n",
       "    <tr>\n",
       "      <th>3985</th>\n",
       "      <td>已知函数其中是自然对数的底数求函数的单调区间和极值若函数对任意满足求证当时若且求证</td>\n",
       "      <td>0</td>\n",
       "      <td>0</td>\n",
       "      <td>1</td>\n",
       "      <td>0</td>\n",
       "      <td>0</td>\n",
       "      <td>0</td>\n",
       "      <td>0</td>\n",
       "    </tr>\n",
       "    <tr>\n",
       "      <th>3986</th>\n",
       "      <td>若方程的根在区间上则的值为试题分析设定义域令由可知在定义域上递增所以在上均有零点所以很直观看...</td>\n",
       "      <td>0</td>\n",
       "      <td>0</td>\n",
       "      <td>1</td>\n",
       "      <td>0</td>\n",
       "      <td>0</td>\n",
       "      <td>0</td>\n",
       "      <td>0</td>\n",
       "    </tr>\n",
       "  </tbody>\n",
       "</table>\n",
       "<p>3969 rows × 8 columns</p>\n",
       "</div>"
      ],
      "text/plain": [
       "                                          exercise_text  三角函数  函数奇偶性  导数  \\\n",
       "0                                      若是小于的正整数是奇数是的倍数则     0      0   0   \n",
       "1     某班共人其中人喜爱篮球运动人喜爱兵乓球运动人对这两项运动都不喜爱则喜爱篮球运动但不喜爱乒乓球...     0      0   0   \n",
       "2     某班有名同学参加数学物理化学课外探究小组每名同学至多参加两个小组已知参加数学物理化学小组的人...     0      0   0   \n",
       "3                              已知全集中有个元素中有个元素若非空则的元素个数为     0      0   0   \n",
       "4                        设全集是实数集函数的定义域为则如图所示阴影部分所表示的集合是     0      0   0   \n",
       "...                                                 ...   ...    ...  ..   \n",
       "3982  已知函数在点处的切线方程为求的值对函数定义域内的任一个实数恒成立求实数的取值范围由而点在直线...     0      0   1   \n",
       "3983  设函数曲线过点且在点处的切斜线率为求的值证明由已知条件得即解得的定义域为由知设则当时当时所以...     0      0   1   \n",
       "3984            曲线在点处的切线的斜率为试题分析故切线的斜率考点复合函数的导数导数求切线的斜率     0      0   1   \n",
       "3985          已知函数其中是自然对数的底数求函数的单调区间和极值若函数对任意满足求证当时若且求证     0      0   1   \n",
       "3986  若方程的根在区间上则的值为试题分析设定义域令由可知在定义域上递增所以在上均有零点所以很直观看...     0      0   1   \n",
       "\n",
       "      平面向量  数列  逻辑与命题关系  集合  \n",
       "0        0   0        0   1  \n",
       "1        0   0        0   1  \n",
       "2        0   0        0   1  \n",
       "3        0   0        0   1  \n",
       "4        0   0        0   1  \n",
       "...    ...  ..      ...  ..  \n",
       "3982     0   0        0   0  \n",
       "3983     0   0        0   0  \n",
       "3984     0   0        0   0  \n",
       "3985     0   0        0   0  \n",
       "3986     0   0        0   0  \n",
       "\n",
       "[3969 rows x 8 columns]"
      ]
     },
     "execution_count": 283,
     "metadata": {},
     "output_type": "execute_result"
    }
   ],
   "source": [
    "df_final.shuffle()"
   ]
  },
  {
   "cell_type": "code",
   "execution_count": 284,
   "metadata": {},
   "outputs": [],
   "source": [
    "dfbk = df_final"
   ]
  },
  {
   "cell_type": "code",
   "execution_count": 285,
   "metadata": {},
   "outputs": [],
   "source": [
    "df_train = df_final.sample(frac=0.75, random_state =0, axis=0)"
   ]
  },
  {
   "cell_type": "code",
   "execution_count": 286,
   "metadata": {},
   "outputs": [
    {
     "data": {
      "text/html": [
       "<div>\n",
       "<style scoped>\n",
       "    .dataframe tbody tr th:only-of-type {\n",
       "        vertical-align: middle;\n",
       "    }\n",
       "\n",
       "    .dataframe tbody tr th {\n",
       "        vertical-align: top;\n",
       "    }\n",
       "\n",
       "    .dataframe thead th {\n",
       "        text-align: right;\n",
       "    }\n",
       "</style>\n",
       "<table border=\"1\" class=\"dataframe\">\n",
       "  <thead>\n",
       "    <tr style=\"text-align: right;\">\n",
       "      <th></th>\n",
       "      <th>exercise_text</th>\n",
       "      <th>三角函数</th>\n",
       "      <th>函数奇偶性</th>\n",
       "      <th>导数</th>\n",
       "      <th>平面向量</th>\n",
       "      <th>数列</th>\n",
       "      <th>逻辑与命题关系</th>\n",
       "      <th>集合</th>\n",
       "    </tr>\n",
       "  </thead>\n",
       "  <tbody>\n",
       "    <tr>\n",
       "      <th>3481</th>\n",
       "      <td>已知函数其中曲线在点处的切线垂直于轴求的值求函数的极值求导得曲线在点处的切线垂直于轴则函数在...</td>\n",
       "      <td>0</td>\n",
       "      <td>0</td>\n",
       "      <td>1</td>\n",
       "      <td>0</td>\n",
       "      <td>0</td>\n",
       "      <td>0</td>\n",
       "      <td>0</td>\n",
       "    </tr>\n",
       "    <tr>\n",
       "      <th>3302</th>\n",
       "      <td>已知函数的图像在点处的切线斜率为类猜想等数学思想</td>\n",
       "      <td>0</td>\n",
       "      <td>0</td>\n",
       "      <td>1</td>\n",
       "      <td>0</td>\n",
       "      <td>0</td>\n",
       "      <td>0</td>\n",
       "      <td>0</td>\n",
       "    </tr>\n",
       "    <tr>\n",
       "      <th>1881</th>\n",
       "      <td>设函数给出如下四个命题若则为奇函数若则函数在上是增函数函数的图象关于点成中心对称图形关于的方...</td>\n",
       "      <td>0</td>\n",
       "      <td>1</td>\n",
       "      <td>0</td>\n",
       "      <td>0</td>\n",
       "      <td>0</td>\n",
       "      <td>1</td>\n",
       "      <td>0</td>\n",
       "    </tr>\n",
       "    <tr>\n",
       "      <th>2937</th>\n",
       "      <td>若平面向量与的夹角是且则的坐标为试题分析因为所以所以所以考点向量的共线向量的模</td>\n",
       "      <td>0</td>\n",
       "      <td>0</td>\n",
       "      <td>0</td>\n",
       "      <td>1</td>\n",
       "      <td>0</td>\n",
       "      <td>0</td>\n",
       "      <td>0</td>\n",
       "    </tr>\n",
       "    <tr>\n",
       "      <th>1285</th>\n",
       "      <td>分已知函数是偶函数求的值设若函数与的图象有且只有一个公共点求实数的取值范围当时由题得方程有一...</td>\n",
       "      <td>0</td>\n",
       "      <td>1</td>\n",
       "      <td>0</td>\n",
       "      <td>0</td>\n",
       "      <td>0</td>\n",
       "      <td>0</td>\n",
       "      <td>0</td>\n",
       "    </tr>\n",
       "    <tr>\n",
       "      <th>...</th>\n",
       "      <td>...</td>\n",
       "      <td>...</td>\n",
       "      <td>...</td>\n",
       "      <td>...</td>\n",
       "      <td>...</td>\n",
       "      <td>...</td>\n",
       "      <td>...</td>\n",
       "      <td>...</td>\n",
       "    </tr>\n",
       "    <tr>\n",
       "      <th>2166</th>\n",
       "      <td>对任意正整数定义双阶乘如下当为偶数时当为奇数时现有如下四个命题设若的个位数不是则设为正质数为...</td>\n",
       "      <td>0</td>\n",
       "      <td>0</td>\n",
       "      <td>0</td>\n",
       "      <td>0</td>\n",
       "      <td>0</td>\n",
       "      <td>1</td>\n",
       "      <td>0</td>\n",
       "    </tr>\n",
       "    <tr>\n",
       "      <th>3734</th>\n",
       "      <td>设函数是定义在上的函数其中的导函数满足对于恒成立则试题分析函数的导数为故函数是定义在上的减函...</td>\n",
       "      <td>0</td>\n",
       "      <td>0</td>\n",
       "      <td>1</td>\n",
       "      <td>0</td>\n",
       "      <td>0</td>\n",
       "      <td>0</td>\n",
       "      <td>0</td>\n",
       "    </tr>\n",
       "    <tr>\n",
       "      <th>3149</th>\n",
       "      <td>设求的单调区间并证明对上的任意都有将的图像向下平移个单位同时将的图像向上平移个单位使它们恰有...</td>\n",
       "      <td>0</td>\n",
       "      <td>0</td>\n",
       "      <td>1</td>\n",
       "      <td>0</td>\n",
       "      <td>0</td>\n",
       "      <td>0</td>\n",
       "      <td>0</td>\n",
       "    </tr>\n",
       "    <tr>\n",
       "      <th>421</th>\n",
       "      <td>已知数列的前项和为则关于的命题其中若是关于的二次函数则是等差数列若是等比数列且则若是等差数列...</td>\n",
       "      <td>0</td>\n",
       "      <td>0</td>\n",
       "      <td>0</td>\n",
       "      <td>0</td>\n",
       "      <td>1</td>\n",
       "      <td>1</td>\n",
       "      <td>0</td>\n",
       "    </tr>\n",
       "    <tr>\n",
       "      <th>3285</th>\n",
       "      <td>已知函数的导函数为的图象在点处的切线方程为且直线是函数的图象的一条切线考点导数的几何意义利用...</td>\n",
       "      <td>0</td>\n",
       "      <td>0</td>\n",
       "      <td>1</td>\n",
       "      <td>0</td>\n",
       "      <td>0</td>\n",
       "      <td>0</td>\n",
       "      <td>0</td>\n",
       "    </tr>\n",
       "  </tbody>\n",
       "</table>\n",
       "<p>2977 rows × 8 columns</p>\n",
       "</div>"
      ],
      "text/plain": [
       "                                          exercise_text  三角函数  函数奇偶性  导数  \\\n",
       "3481  已知函数其中曲线在点处的切线垂直于轴求的值求函数的极值求导得曲线在点处的切线垂直于轴则函数在...     0      0   1   \n",
       "3302                           已知函数的图像在点处的切线斜率为类猜想等数学思想     0      0   1   \n",
       "1881  设函数给出如下四个命题若则为奇函数若则函数在上是增函数函数的图象关于点成中心对称图形关于的方...     0      1   0   \n",
       "2937            若平面向量与的夹角是且则的坐标为试题分析因为所以所以所以考点向量的共线向量的模     0      0   0   \n",
       "1285  分已知函数是偶函数求的值设若函数与的图象有且只有一个公共点求实数的取值范围当时由题得方程有一...     0      1   0   \n",
       "...                                                 ...   ...    ...  ..   \n",
       "2166  对任意正整数定义双阶乘如下当为偶数时当为奇数时现有如下四个命题设若的个位数不是则设为正质数为...     0      0   0   \n",
       "3734  设函数是定义在上的函数其中的导函数满足对于恒成立则试题分析函数的导数为故函数是定义在上的减函...     0      0   1   \n",
       "3149  设求的单调区间并证明对上的任意都有将的图像向下平移个单位同时将的图像向上平移个单位使它们恰有...     0      0   1   \n",
       "421   已知数列的前项和为则关于的命题其中若是关于的二次函数则是等差数列若是等比数列且则若是等差数列...     0      0   0   \n",
       "3285  已知函数的导函数为的图象在点处的切线方程为且直线是函数的图象的一条切线考点导数的几何意义利用...     0      0   1   \n",
       "\n",
       "      平面向量  数列  逻辑与命题关系  集合  \n",
       "3481     0   0        0   0  \n",
       "3302     0   0        0   0  \n",
       "1881     0   0        1   0  \n",
       "2937     1   0        0   0  \n",
       "1285     0   0        0   0  \n",
       "...    ...  ..      ...  ..  \n",
       "2166     0   0        1   0  \n",
       "3734     0   0        0   0  \n",
       "3149     0   0        0   0  \n",
       "421      0   1        1   0  \n",
       "3285     0   0        0   0  \n",
       "\n",
       "[2977 rows x 8 columns]"
      ]
     },
     "execution_count": 286,
     "metadata": {},
     "output_type": "execute_result"
    }
   ],
   "source": [
    "df_train"
   ]
  },
  {
   "cell_type": "code",
   "execution_count": 287,
   "metadata": {},
   "outputs": [],
   "source": [
    "df_test=df_final[~df_final.index.isin(df_train.index)]"
   ]
  },
  {
   "cell_type": "code",
   "execution_count": 288,
   "metadata": {},
   "outputs": [
    {
     "data": {
      "text/html": [
       "<div>\n",
       "<style scoped>\n",
       "    .dataframe tbody tr th:only-of-type {\n",
       "        vertical-align: middle;\n",
       "    }\n",
       "\n",
       "    .dataframe tbody tr th {\n",
       "        vertical-align: top;\n",
       "    }\n",
       "\n",
       "    .dataframe thead th {\n",
       "        text-align: right;\n",
       "    }\n",
       "</style>\n",
       "<table border=\"1\" class=\"dataframe\">\n",
       "  <thead>\n",
       "    <tr style=\"text-align: right;\">\n",
       "      <th></th>\n",
       "      <th>exercise_text</th>\n",
       "      <th>三角函数</th>\n",
       "      <th>函数奇偶性</th>\n",
       "      <th>导数</th>\n",
       "      <th>平面向量</th>\n",
       "      <th>数列</th>\n",
       "      <th>逻辑与命题关系</th>\n",
       "      <th>集合</th>\n",
       "    </tr>\n",
       "  </thead>\n",
       "  <tbody>\n",
       "    <tr>\n",
       "      <th>0</th>\n",
       "      <td>若是小于的正整数是奇数是的倍数则</td>\n",
       "      <td>0</td>\n",
       "      <td>0</td>\n",
       "      <td>0</td>\n",
       "      <td>0</td>\n",
       "      <td>0</td>\n",
       "      <td>0</td>\n",
       "      <td>1</td>\n",
       "    </tr>\n",
       "    <tr>\n",
       "      <th>3</th>\n",
       "      <td>已知全集中有个元素中有个元素若非空则的元素个数为</td>\n",
       "      <td>0</td>\n",
       "      <td>0</td>\n",
       "      <td>0</td>\n",
       "      <td>0</td>\n",
       "      <td>0</td>\n",
       "      <td>0</td>\n",
       "      <td>1</td>\n",
       "    </tr>\n",
       "    <tr>\n",
       "      <th>7</th>\n",
       "      <td>已知全集集合则集合中元素的个数为</td>\n",
       "      <td>0</td>\n",
       "      <td>0</td>\n",
       "      <td>0</td>\n",
       "      <td>0</td>\n",
       "      <td>0</td>\n",
       "      <td>0</td>\n",
       "      <td>1</td>\n",
       "    </tr>\n",
       "    <tr>\n",
       "      <th>12</th>\n",
       "      <td>如图阴影是集合在平面直角坐标系上表示的点集则阴影中间形如水滴部分的面积等于考点几何概型专题计...</td>\n",
       "      <td>0</td>\n",
       "      <td>0</td>\n",
       "      <td>0</td>\n",
       "      <td>0</td>\n",
       "      <td>0</td>\n",
       "      <td>0</td>\n",
       "      <td>1</td>\n",
       "    </tr>\n",
       "    <tr>\n",
       "      <th>21</th>\n",
       "      <td>有下列四个命题若若的逆否命题若是奇函数则的否命题若的逆命题其中真命题的个数是</td>\n",
       "      <td>0</td>\n",
       "      <td>1</td>\n",
       "      <td>0</td>\n",
       "      <td>0</td>\n",
       "      <td>0</td>\n",
       "      <td>1</td>\n",
       "      <td>1</td>\n",
       "    </tr>\n",
       "    <tr>\n",
       "      <th>...</th>\n",
       "      <td>...</td>\n",
       "      <td>...</td>\n",
       "      <td>...</td>\n",
       "      <td>...</td>\n",
       "      <td>...</td>\n",
       "      <td>...</td>\n",
       "      <td>...</td>\n",
       "      <td>...</td>\n",
       "    </tr>\n",
       "    <tr>\n",
       "      <th>3956</th>\n",
       "      <td>记函数的最大值为最小值为则的值为试题分析由已知得解得所以函数的定义域是已知函数求导得时当时当...</td>\n",
       "      <td>0</td>\n",
       "      <td>0</td>\n",
       "      <td>1</td>\n",
       "      <td>0</td>\n",
       "      <td>0</td>\n",
       "      <td>0</td>\n",
       "      <td>0</td>\n",
       "    </tr>\n",
       "    <tr>\n",
       "      <th>3957</th>\n",
       "      <td>已知函数若函数在处取得极值求实数的值若关于的方程在区间上恰有两个不同的实数根求实数的取值范围...</td>\n",
       "      <td>0</td>\n",
       "      <td>0</td>\n",
       "      <td>1</td>\n",
       "      <td>0</td>\n",
       "      <td>0</td>\n",
       "      <td>0</td>\n",
       "      <td>0</td>\n",
       "    </tr>\n",
       "    <tr>\n",
       "      <th>3960</th>\n",
       "      <td>函数上有最小值实数的取值范围是试题分析由题令解得令解得或由此得函数在上是减函数在上是增函数在...</td>\n",
       "      <td>0</td>\n",
       "      <td>0</td>\n",
       "      <td>1</td>\n",
       "      <td>0</td>\n",
       "      <td>0</td>\n",
       "      <td>0</td>\n",
       "      <td>0</td>\n",
       "    </tr>\n",
       "    <tr>\n",
       "      <th>3980</th>\n",
       "      <td>由直线与曲线所围成的封闭图形的面积为试题分析在同一坐标系中作出的图象如图所示则所围成的封闭图...</td>\n",
       "      <td>0</td>\n",
       "      <td>0</td>\n",
       "      <td>1</td>\n",
       "      <td>0</td>\n",
       "      <td>0</td>\n",
       "      <td>0</td>\n",
       "      <td>0</td>\n",
       "    </tr>\n",
       "    <tr>\n",
       "      <th>3985</th>\n",
       "      <td>已知函数其中是自然对数的底数求函数的单调区间和极值若函数对任意满足求证当时若且求证</td>\n",
       "      <td>0</td>\n",
       "      <td>0</td>\n",
       "      <td>1</td>\n",
       "      <td>0</td>\n",
       "      <td>0</td>\n",
       "      <td>0</td>\n",
       "      <td>0</td>\n",
       "    </tr>\n",
       "  </tbody>\n",
       "</table>\n",
       "<p>992 rows × 8 columns</p>\n",
       "</div>"
      ],
      "text/plain": [
       "                                          exercise_text  三角函数  函数奇偶性  导数  \\\n",
       "0                                      若是小于的正整数是奇数是的倍数则     0      0   0   \n",
       "3                              已知全集中有个元素中有个元素若非空则的元素个数为     0      0   0   \n",
       "7                                      已知全集集合则集合中元素的个数为     0      0   0   \n",
       "12    如图阴影是集合在平面直角坐标系上表示的点集则阴影中间形如水滴部分的面积等于考点几何概型专题计...     0      0   0   \n",
       "21               有下列四个命题若若的逆否命题若是奇函数则的否命题若的逆命题其中真命题的个数是     0      1   0   \n",
       "...                                                 ...   ...    ...  ..   \n",
       "3956  记函数的最大值为最小值为则的值为试题分析由已知得解得所以函数的定义域是已知函数求导得时当时当...     0      0   1   \n",
       "3957  已知函数若函数在处取得极值求实数的值若关于的方程在区间上恰有两个不同的实数根求实数的取值范围...     0      0   1   \n",
       "3960  函数上有最小值实数的取值范围是试题分析由题令解得令解得或由此得函数在上是减函数在上是增函数在...     0      0   1   \n",
       "3980  由直线与曲线所围成的封闭图形的面积为试题分析在同一坐标系中作出的图象如图所示则所围成的封闭图...     0      0   1   \n",
       "3985          已知函数其中是自然对数的底数求函数的单调区间和极值若函数对任意满足求证当时若且求证     0      0   1   \n",
       "\n",
       "      平面向量  数列  逻辑与命题关系  集合  \n",
       "0        0   0        0   1  \n",
       "3        0   0        0   1  \n",
       "7        0   0        0   1  \n",
       "12       0   0        0   1  \n",
       "21       0   0        1   1  \n",
       "...    ...  ..      ...  ..  \n",
       "3956     0   0        0   0  \n",
       "3957     0   0        0   0  \n",
       "3960     0   0        0   0  \n",
       "3980     0   0        0   0  \n",
       "3985     0   0        0   0  \n",
       "\n",
       "[992 rows x 8 columns]"
      ]
     },
     "execution_count": 288,
     "metadata": {},
     "output_type": "execute_result"
    }
   ],
   "source": [
    "df_test"
   ]
  },
  {
   "cell_type": "code",
   "execution_count": 289,
   "metadata": {},
   "outputs": [],
   "source": [
    "df_train.to_csv(\"./data/train.csv\",index=False)\n",
    "df_test.to_csv(\"./data/test.csv\",index=False)"
   ]
  },
  {
   "cell_type": "code",
   "execution_count": 293,
   "metadata": {},
   "outputs": [
    {
     "data": {
      "text/plain": [
       "['三角函数', '函数奇偶性', '导数', '平面向量', '数列', '逻辑与命题关系', '集合']"
      ]
     },
     "execution_count": 293,
     "metadata": {},
     "output_type": "execute_result"
    }
   ],
   "source": [
    "cols_target = df_train.columns[1:].tolist()\n",
    "cols_target"
   ]
  },
  {
   "cell_type": "code",
   "execution_count": 294,
   "metadata": {},
   "outputs": [],
   "source": [
    "train_df_corr= df_train[cols_target].corr()"
   ]
  },
  {
   "cell_type": "code",
   "execution_count": 296,
   "metadata": {},
   "outputs": [],
   "source": [
    "import numpy as np"
   ]
  },
  {
   "cell_type": "code",
   "execution_count": 309,
   "metadata": {},
   "outputs": [],
   "source": [
    "import matplotlib.pyplot as plt\n",
    "import matplotlib\n",
    "import seaborn as sns\n",
    "sns.set_style('whitegrid',{'font.sans-serif':['STXihei','Arial']})\n"
   ]
  },
  {
   "cell_type": "code",
   "execution_count": null,
   "metadata": {},
   "outputs": [],
   "source": []
  },
  {
   "cell_type": "code",
   "execution_count": null,
   "metadata": {},
   "outputs": [],
   "source": []
  },
  {
   "cell_type": "code",
   "execution_count": null,
   "metadata": {},
   "outputs": [],
   "source": []
  },
  {
   "cell_type": "code",
   "execution_count": null,
   "metadata": {},
   "outputs": [],
   "source": []
  },
  {
   "cell_type": "code",
   "execution_count": null,
   "metadata": {},
   "outputs": [],
   "source": []
  },
  {
   "cell_type": "code",
   "execution_count": 297,
   "metadata": {},
   "outputs": [],
   "source": []
  },
  {
   "cell_type": "code",
   "execution_count": 315,
   "metadata": {},
   "outputs": [
    {
     "data": {
      "image/png": "[encoded data removed]",
      "text/plain": [
       "<Figure size 4800x3200 with 2 Axes>"
      ]
     },
     "metadata": {},
     "output_type": "display_data"
    }
   ],
   "source": [
    "plt.rcParams['font.family'] = ['Arial Unicode MS'] #用来正常显示中文标签\n",
    "plt.rcParams['axes.unicode_minus'] = False #用来正常显示负号\n",
    " \n",
    "sns.set_style('whitegrid',{'font.sans-serif':['Arial Unicode MS','Arial']})\n",
    "\n",
    "train_df_corr= df_train[cols_target].corr()\n",
    "mask = np.triu(np.ones_like(train_df_corr, dtype=np.bool))\n",
    "plt.figure(figsize=(12,8), dpi=400)\n",
    "\n",
    "heatmap = sns.heatmap(train_df_corr,mask=mask, linewidths=0.1, vmin=0, vmax=1,cmap='BrBG',annot=True,square=True)\n",
    "heatmap.set_title('Correlation Heatmap', fontdict={'fontsize':12}, pad=12);"
   ]
  },
  {
   "cell_type": "code",
   "execution_count": null,
   "metadata": {},
   "outputs": [],
   "source": []
  },
  {
   "cell_type": "code",
   "execution_count": null,
   "metadata": {},
   "outputs": [],
   "source": []
  },
  {
   "cell_type": "code",
   "execution_count": null,
   "metadata": {},
   "outputs": [],
   "source": []
  },
  {
   "cell_type": "code",
   "execution_count": 312,
   "metadata": {},
   "outputs": [
    {
     "name": "stdout",
     "output_type": "stream",
     "text": [
      "Total rows in test is 2977\n",
      "Total rows in train is 992\n",
      "三角函数        71\n",
      "函数奇偶性      520\n",
      "导数         750\n",
      "平面向量       618\n",
      "数列         746\n",
      "逻辑与命题关系    526\n",
      "集合         155\n",
      "dtype: int64\n"
     ]
    }
   ],
   "source": [
    "print('Total rows in test is {}'.format(len(df_train)))\n",
    "print('Total rows in train is {}'.format(len(df_test)))\n",
    "print(df_train[cols_target].sum())"
   ]
  },
  {
   "cell_type": "code",
   "execution_count": 316,
   "metadata": {},
   "outputs": [],
   "source": [
    "import numpy as np\n",
    "import torch\n",
    "from transformers import BertModel, BertConfig, BertTokenizer\n",
    "from scipy.spatial.distance import cosine\n",
    "\n",
    "from torch import nn\n",
    "\n",
    "config_path = 'pretrained_model/chinese_wwm_ext_pytorch/bert_config.json'\n",
    "model_path = 'pretrained_model/chinese_wwm_ext_pytorch/pytorch_model.bin'\n",
    "vocab_path = 'pretrained_model/chinese_wwm_ext_pytorch/vocab.txt'\n",
    "\n",
    "al_config_path = 'model/albert_tiny/bert_config.json'\n",
    "al_model_path = 'model/albert_tiny/pytorch_model.bin'\n",
    "al_vocab_path = 'model/albert_tiny/vocab.txt'\n",
    "\n",
    "\n",
    "class BertTextNet(nn.Module):\n",
    "    def __init__(self):\n",
    "        \"\"\"\n",
    "        bert模型。\n",
    "        \"\"\"\n",
    "        super(BertTextNet, self).__init__()\n",
    "        modelConfig = BertConfig.from_pretrained(config_path)\n",
    "        self.textExtractor = BertModel.from_pretrained(\n",
    "            model_path, config=modelConfig)\n",
    "        self.tokenizer = BertTokenizer.from_pretrained(vocab_path)\n",
    "\n",
    "    def embed(text):\n",
    "        text = \"[CLS] {} [SEP]\".format(text)\n",
    "        tokens, segments, input_masks = [], [], []\n",
    "        tokenized_text = self.tokenizer.tokenize(text)  # 用tokenizer对句子分词\n",
    "        indexed_tokens = self.tokenizer.convert_tokens_to_ids(\n",
    "            tokenized_text)  # 索引列表\n",
    "        tokens.append(indexed_tokens)\n",
    "        segments.append([0] * len(indexed_tokens))\n",
    "        input_masks.append([1] * len(indexed_tokens))\n",
    "\n",
    "    def forward(self, tokens, segments, input_masks):\n",
    "        output = self.textExtractor(tokens, token_type_ids=segments,\n",
    "                                    attention_mask=input_masks)\n",
    "        text_embeddings = output[0][:, 0, :]\n",
    "        return text_embeddings\n",
    "\n",
    "\n",
    "class BertSeqVec(object):\n",
    "    def __init__(self, text_net):\n",
    "        \"\"\"\n",
    "        接收一个bert或albert模型，对文本进行向量化。\n",
    "        :param text_net: bert或albert模型实例。\n",
    "        \"\"\"\n",
    "        self.text_net = text_net\n",
    "        self.tokenizer = text_net.tokenizer\n",
    "\n",
    "    def seq2vec(self, text):\n",
    "        \"\"\"\n",
    "        对文本向量化。\n",
    "        :param text:str，未分词的文本。\n",
    "        :return:\n",
    "        \"\"\"\n",
    "        text = \"[CLS] {} [SEP]\".format(text)\n",
    "        tokens, segments, input_masks = [], [], []\n",
    "\n",
    "        tokenized_text = self.tokenizer.tokenize(text)  # 用tokenizer对句子分词\n",
    "        indexed_tokens = self.tokenizer.convert_tokens_to_ids(\n",
    "            tokenized_text)  # 索引列表\n",
    "        tokens.append(indexed_tokens)\n",
    "        segments.append([0] * len(indexed_tokens))\n",
    "        input_masks.append([1] * len(indexed_tokens))\n",
    "\n",
    "        max_len = max([len(single) for single in tokens])  # 最大的句子长度\n",
    "\n",
    "        for j in range(len(tokens)):\n",
    "            padding = [0] * (max_len - len(tokens[j]))\n",
    "            tokens[j] += padding\n",
    "            segments[j] += padding\n",
    "            input_masks[j] += padding\n",
    "        tokens_tensor = torch.tensor(tokens)\n",
    "        segments_tensors = torch.tensor(segments)\n",
    "        input_masks_tensors = torch.tensor(input_masks)\n",
    "        text_hashCodes = self.text_net(tokens_tensor, segments_tensors,\n",
    "                                       input_masks_tensors)  # text_hashCodes是bert模型的文本特征\n",
    "        return text_hashCodes[0].detach().numpy()"
   ]
  },
  {
   "cell_type": "code",
   "execution_count": 319,
   "metadata": {},
   "outputs": [
    {
     "name": "stderr",
     "output_type": "stream",
     "text": [
      "/Users/maywzh/.pyenv/versions/3.8.6/lib/python3.8/site-packages/transformers/tokenization_utils_base.py:1614: FutureWarning: Calling BertTokenizer.from_pretrained() with the path to a single file or url is deprecated and won't be possible anymore in v5. Use a model identifier or the path to a directory instead.\n",
      "  warnings.warn(\n"
     ]
    }
   ],
   "source": [
    "text_net = BertTextNet()  # 选择一个文本向量化模型\n",
    "seq2vec = BertSeqVec(text_net)  # 将模型实例给向量化对象。"
   ]
  },
  {
   "cell_type": "code",
   "execution_count": 324,
   "metadata": {},
   "outputs": [
    {
     "data": {
      "application/vnd.jupyter.widget-view+json": {
       "model_id": "19100c09deae44c9bf4407f0872c2f64",
       "version_major": 2,
       "version_minor": 0
      },
      "text/plain": [
       "HBox(children=(FloatProgress(value=0.0, description='Downloading', max=2.0, style=ProgressStyle(description_wi…"
      ]
     },
     "metadata": {},
     "output_type": "display_data"
    },
    {
     "name": "stdout",
     "output_type": "stream",
     "text": [
      "\n"
     ]
    },
    {
     "data": {
      "application/vnd.jupyter.widget-view+json": {
       "model_id": "615b895bb8244f9fa238b4a86c643ba8",
       "version_major": 2,
       "version_minor": 0
      },
      "text/plain": [
       "HBox(children=(FloatProgress(value=0.0, description='Downloading', max=112.0, style=ProgressStyle(description_…"
      ]
     },
     "metadata": {},
     "output_type": "display_data"
    },
    {
     "name": "stdout",
     "output_type": "stream",
     "text": [
      "\n"
     ]
    },
    {
     "data": {
      "application/vnd.jupyter.widget-view+json": {
       "model_id": "0b12af6c27c542a3bbd0863b57f2a60e",
       "version_major": 2,
       "version_minor": 0
      },
      "text/plain": [
       "HBox(children=(FloatProgress(value=0.0, description='Downloading', max=19.0, style=ProgressStyle(description_w…"
      ]
     },
     "metadata": {},
     "output_type": "display_data"
    },
    {
     "name": "stdout",
     "output_type": "stream",
     "text": [
      "\n"
     ]
    },
    {
     "data": {
      "application/vnd.jupyter.widget-view+json": {
       "model_id": "0aaea62241284108bf2d04167a62756d",
       "version_major": 2,
       "version_minor": 0
      },
      "text/plain": [
       "HBox(children=(FloatProgress(value=0.0, description='Downloading', max=268961.0, style=ProgressStyle(descripti…"
      ]
     },
     "metadata": {},
     "output_type": "display_data"
    },
    {
     "name": "stdout",
     "output_type": "stream",
     "text": [
      "\n"
     ]
    }
   ],
   "source": [
    "from transformers import PreTrainedTokenizerFast\n",
    "from torch.utils.data import TensorDataset, DataLoader, RandomSampler, SequentialSampler\n",
    "tokenizer = PreTrainedTokenizerFast.from_pretrained('hfl/chinese-bert-wwm')\n",
    "tokenizer.add_special_tokens({'pad_token': '[PAD]'})\n",
    "def prepare_set(dataset, max_length=64):\n",
    "    \"\"\"returns input_ids, input_masks, labels for set of data ready in BERT format\"\"\"\n",
    "    global tokenizer\n",
    "    \n",
    "    input_ids = dataset\n",
    "#     for i in tqdm(dataset):\n",
    "#         input_ids.append(camel_case_split(i))\n",
    "    tokenized = tokenizer.batch_encode_plus(input_ids,return_token_type_ids=False, return_attention_mask=False, pad_to_max_length=True,truncation=True, max_length=max_length)[\"input_ids\"]\n",
    "    return tokenized"
   ]
  },
  {
   "cell_type": "code",
   "execution_count": 326,
   "metadata": {},
   "outputs": [],
   "source": [
    "max_length = 64\n",
    "hidden_size=64\n",
    "batch_size = 32\n",
    "n_epochs = 4\n",
    "embed_size = 64\n",
    "lr = 0.001\n",
    "model_path = \"BiLSTM_attention_BiRel.pt\"\n",
    "use_gpu = True\n",
    "dev_size = int(df_train.shape[0] * 0.10)"
   ]
  },
  {
   "cell_type": "code",
   "execution_count": 327,
   "metadata": {},
   "outputs": [],
   "source": [
    "device =  torch.device('cuda' if torch.cuda.is_available() and use_gpu else 'cpu')"
   ]
  },
  {
   "cell_type": "code",
   "execution_count": 444,
   "metadata": {},
   "outputs": [
    {
     "data": {
      "text/plain": [
       "device(type='cpu')"
      ]
     },
     "execution_count": 444,
     "metadata": {},
     "output_type": "execute_result"
    }
   ],
   "source": [
    "device"
   ]
  },
  {
   "cell_type": "code",
   "execution_count": 445,
   "metadata": {},
   "outputs": [],
   "source": [
    "labelemb = prepare_set(cols_target)"
   ]
  },
  {
   "cell_type": "code",
   "execution_count": 446,
   "metadata": {},
   "outputs": [
    {
     "data": {
      "text/plain": [
       "[[101,\n",
       "  676,\n",
       "  6235,\n",
       "  1141,\n",
       "  3144,\n",
       "  102,\n",
       "  0,\n",
       "  0,\n",
       "  0,\n",
       "  0,\n",
       "  0,\n",
       "  0,\n",
       "  0,\n",
       "  0,\n",
       "  0,\n",
       "  0,\n",
       "  0,\n",
       "  0,\n",
       "  0,\n",
       "  0,\n",
       "  0,\n",
       "  0,\n",
       "  0,\n",
       "  0,\n",
       "  0,\n",
       "  0,\n",
       "  0,\n",
       "  0,\n",
       "  0,\n",
       "  0,\n",
       "  0,\n",
       "  0,\n",
       "  0,\n",
       "  0,\n",
       "  0,\n",
       "  0,\n",
       "  0,\n",
       "  0,\n",
       "  0,\n",
       "  0,\n",
       "  0,\n",
       "  0,\n",
       "  0,\n",
       "  0,\n",
       "  0,\n",
       "  0,\n",
       "  0,\n",
       "  0,\n",
       "  0,\n",
       "  0,\n",
       "  0,\n",
       "  0,\n",
       "  0,\n",
       "  0,\n",
       "  0,\n",
       "  0,\n",
       "  0,\n",
       "  0,\n",
       "  0,\n",
       "  0,\n",
       "  0,\n",
       "  0,\n",
       "  0,\n",
       "  0],\n",
       " [101,\n",
       "  1141,\n",
       "  3144,\n",
       "  1936,\n",
       "  981,\n",
       "  2595,\n",
       "  102,\n",
       "  0,\n",
       "  0,\n",
       "  0,\n",
       "  0,\n",
       "  0,\n",
       "  0,\n",
       "  0,\n",
       "  0,\n",
       "  0,\n",
       "  0,\n",
       "  0,\n",
       "  0,\n",
       "  0,\n",
       "  0,\n",
       "  0,\n",
       "  0,\n",
       "  0,\n",
       "  0,\n",
       "  0,\n",
       "  0,\n",
       "  0,\n",
       "  0,\n",
       "  0,\n",
       "  0,\n",
       "  0,\n",
       "  0,\n",
       "  0,\n",
       "  0,\n",
       "  0,\n",
       "  0,\n",
       "  0,\n",
       "  0,\n",
       "  0,\n",
       "  0,\n",
       "  0,\n",
       "  0,\n",
       "  0,\n",
       "  0,\n",
       "  0,\n",
       "  0,\n",
       "  0,\n",
       "  0,\n",
       "  0,\n",
       "  0,\n",
       "  0,\n",
       "  0,\n",
       "  0,\n",
       "  0,\n",
       "  0,\n",
       "  0,\n",
       "  0,\n",
       "  0,\n",
       "  0,\n",
       "  0,\n",
       "  0,\n",
       "  0,\n",
       "  0],\n",
       " [101,\n",
       "  2193,\n",
       "  3144,\n",
       "  102,\n",
       "  0,\n",
       "  0,\n",
       "  0,\n",
       "  0,\n",
       "  0,\n",
       "  0,\n",
       "  0,\n",
       "  0,\n",
       "  0,\n",
       "  0,\n",
       "  0,\n",
       "  0,\n",
       "  0,\n",
       "  0,\n",
       "  0,\n",
       "  0,\n",
       "  0,\n",
       "  0,\n",
       "  0,\n",
       "  0,\n",
       "  0,\n",
       "  0,\n",
       "  0,\n",
       "  0,\n",
       "  0,\n",
       "  0,\n",
       "  0,\n",
       "  0,\n",
       "  0,\n",
       "  0,\n",
       "  0,\n",
       "  0,\n",
       "  0,\n",
       "  0,\n",
       "  0,\n",
       "  0,\n",
       "  0,\n",
       "  0,\n",
       "  0,\n",
       "  0,\n",
       "  0,\n",
       "  0,\n",
       "  0,\n",
       "  0,\n",
       "  0,\n",
       "  0,\n",
       "  0,\n",
       "  0,\n",
       "  0,\n",
       "  0,\n",
       "  0,\n",
       "  0,\n",
       "  0,\n",
       "  0,\n",
       "  0,\n",
       "  0,\n",
       "  0,\n",
       "  0,\n",
       "  0,\n",
       "  0],\n",
       " [101,\n",
       "  2398,\n",
       "  7481,\n",
       "  1403,\n",
       "  7030,\n",
       "  102,\n",
       "  0,\n",
       "  0,\n",
       "  0,\n",
       "  0,\n",
       "  0,\n",
       "  0,\n",
       "  0,\n",
       "  0,\n",
       "  0,\n",
       "  0,\n",
       "  0,\n",
       "  0,\n",
       "  0,\n",
       "  0,\n",
       "  0,\n",
       "  0,\n",
       "  0,\n",
       "  0,\n",
       "  0,\n",
       "  0,\n",
       "  0,\n",
       "  0,\n",
       "  0,\n",
       "  0,\n",
       "  0,\n",
       "  0,\n",
       "  0,\n",
       "  0,\n",
       "  0,\n",
       "  0,\n",
       "  0,\n",
       "  0,\n",
       "  0,\n",
       "  0,\n",
       "  0,\n",
       "  0,\n",
       "  0,\n",
       "  0,\n",
       "  0,\n",
       "  0,\n",
       "  0,\n",
       "  0,\n",
       "  0,\n",
       "  0,\n",
       "  0,\n",
       "  0,\n",
       "  0,\n",
       "  0,\n",
       "  0,\n",
       "  0,\n",
       "  0,\n",
       "  0,\n",
       "  0,\n",
       "  0,\n",
       "  0,\n",
       "  0,\n",
       "  0,\n",
       "  0],\n",
       " [101,\n",
       "  3144,\n",
       "  1154,\n",
       "  102,\n",
       "  0,\n",
       "  0,\n",
       "  0,\n",
       "  0,\n",
       "  0,\n",
       "  0,\n",
       "  0,\n",
       "  0,\n",
       "  0,\n",
       "  0,\n",
       "  0,\n",
       "  0,\n",
       "  0,\n",
       "  0,\n",
       "  0,\n",
       "  0,\n",
       "  0,\n",
       "  0,\n",
       "  0,\n",
       "  0,\n",
       "  0,\n",
       "  0,\n",
       "  0,\n",
       "  0,\n",
       "  0,\n",
       "  0,\n",
       "  0,\n",
       "  0,\n",
       "  0,\n",
       "  0,\n",
       "  0,\n",
       "  0,\n",
       "  0,\n",
       "  0,\n",
       "  0,\n",
       "  0,\n",
       "  0,\n",
       "  0,\n",
       "  0,\n",
       "  0,\n",
       "  0,\n",
       "  0,\n",
       "  0,\n",
       "  0,\n",
       "  0,\n",
       "  0,\n",
       "  0,\n",
       "  0,\n",
       "  0,\n",
       "  0,\n",
       "  0,\n",
       "  0,\n",
       "  0,\n",
       "  0,\n",
       "  0,\n",
       "  0,\n",
       "  0,\n",
       "  0,\n",
       "  0,\n",
       "  0],\n",
       " [101,\n",
       "  6872,\n",
       "  6782,\n",
       "  680,\n",
       "  1462,\n",
       "  7579,\n",
       "  1068,\n",
       "  5143,\n",
       "  102,\n",
       "  0,\n",
       "  0,\n",
       "  0,\n",
       "  0,\n",
       "  0,\n",
       "  0,\n",
       "  0,\n",
       "  0,\n",
       "  0,\n",
       "  0,\n",
       "  0,\n",
       "  0,\n",
       "  0,\n",
       "  0,\n",
       "  0,\n",
       "  0,\n",
       "  0,\n",
       "  0,\n",
       "  0,\n",
       "  0,\n",
       "  0,\n",
       "  0,\n",
       "  0,\n",
       "  0,\n",
       "  0,\n",
       "  0,\n",
       "  0,\n",
       "  0,\n",
       "  0,\n",
       "  0,\n",
       "  0,\n",
       "  0,\n",
       "  0,\n",
       "  0,\n",
       "  0,\n",
       "  0,\n",
       "  0,\n",
       "  0,\n",
       "  0,\n",
       "  0,\n",
       "  0,\n",
       "  0,\n",
       "  0,\n",
       "  0,\n",
       "  0,\n",
       "  0,\n",
       "  0,\n",
       "  0,\n",
       "  0,\n",
       "  0,\n",
       "  0,\n",
       "  0,\n",
       "  0,\n",
       "  0,\n",
       "  0],\n",
       " [101,\n",
       "  7415,\n",
       "  1394,\n",
       "  102,\n",
       "  0,\n",
       "  0,\n",
       "  0,\n",
       "  0,\n",
       "  0,\n",
       "  0,\n",
       "  0,\n",
       "  0,\n",
       "  0,\n",
       "  0,\n",
       "  0,\n",
       "  0,\n",
       "  0,\n",
       "  0,\n",
       "  0,\n",
       "  0,\n",
       "  0,\n",
       "  0,\n",
       "  0,\n",
       "  0,\n",
       "  0,\n",
       "  0,\n",
       "  0,\n",
       "  0,\n",
       "  0,\n",
       "  0,\n",
       "  0,\n",
       "  0,\n",
       "  0,\n",
       "  0,\n",
       "  0,\n",
       "  0,\n",
       "  0,\n",
       "  0,\n",
       "  0,\n",
       "  0,\n",
       "  0,\n",
       "  0,\n",
       "  0,\n",
       "  0,\n",
       "  0,\n",
       "  0,\n",
       "  0,\n",
       "  0,\n",
       "  0,\n",
       "  0,\n",
       "  0,\n",
       "  0,\n",
       "  0,\n",
       "  0,\n",
       "  0,\n",
       "  0,\n",
       "  0,\n",
       "  0,\n",
       "  0,\n",
       "  0,\n",
       "  0,\n",
       "  0,\n",
       "  0,\n",
       "  0]]"
      ]
     },
     "execution_count": 446,
     "metadata": {},
     "output_type": "execute_result"
    }
   ],
   "source": [
    "labelemb"
   ]
  },
  {
   "cell_type": "code",
   "execution_count": 447,
   "metadata": {},
   "outputs": [],
   "source": [
    "from scipy.spatial.distance import cosine"
   ]
  },
  {
   "cell_type": "code",
   "execution_count": null,
   "metadata": {},
   "outputs": [],
   "source": []
  },
  {
   "cell_type": "code",
   "execution_count": 329,
   "metadata": {},
   "outputs": [],
   "source": [
    "class Attention(nn.Module):\n",
    "    \"\"\"a Single Attention Layer\"\"\"\n",
    "    def __init__(self, feature_dim):\n",
    "        super(Attention, self).__init__()\n",
    "        \n",
    "        self.supports_masking = True\n",
    "        self.feature_dim = feature_dim\n",
    "        weight = torch.zeros(feature_dim, 1)\n",
    "        nn.init.xavier_uniform_(weight)\n",
    "        self.weight = nn.Parameter(weight)\n",
    "    \n",
    "    def forward(self, x, step_dim, mask=None):\n",
    "        feature_dim = self.feature_dim\n",
    "        eij = torch.mm(\n",
    "            x.contiguous().view(-1, feature_dim), self.weight\n",
    "        ).view(-1, step_dim)\n",
    "        eij = torch.tanh(eij)\n",
    "        a = torch.exp(eij)\n",
    "        if mask is not None:\n",
    "            a = a * mask\n",
    "        a = a / torch.sum(a, 1, keepdim=True) + 1e-10\n",
    "        weighted_input = x * torch.unsqueeze(a, -1)\n",
    "        return torch.sum(weighted_input, 1), torch.unsqueeze(a, -1)\n",
    "\n",
    "\n",
    "class BiLSTMWithAttention(nn.Module):\n",
    "    \"\"\"the BiLSTM model refer to the image above to understand the structure of the model\"\"\"\n",
    "    def __init__(self,hidden_size,embed_size,max_features,num_classes,max_length):\n",
    "        super().__init__()\n",
    "        self.embedding = nn.Embedding(max_features, embed_size)\n",
    "        self.lstm1 = nn.LSTM(embed_size, hidden_size, bidirectional=True, batch_first=True)\n",
    "        \n",
    "        self.lstm2 = nn.LSTM(hidden_size * 2, hidden_size, bidirectional=True, batch_first=True)\n",
    "        \n",
    "        self.lstm_attention = Attention(hidden_size * 2)\n",
    "        \n",
    "        self.linear1 = nn.Linear(hidden_size*6, hidden_size*6)\n",
    "        self.linear2 = nn.Linear(hidden_size*6, hidden_size*6)\n",
    "        \n",
    "        self.linear_out = nn.Linear(hidden_size*6, 1)\n",
    "        self.linear_aux_out = nn.Linear(hidden_size*6, num_classes)\n",
    "    \n",
    "    def forward(self, x, step_len):\n",
    "        h_embedding = self.embedding(x)\n",
    "        h_lstm1, _ = self.lstm1(h_embedding)\n",
    "        h_lstm2, _ = self.lstm2(h_lstm1)\n",
    "        #Attention layer\n",
    "        h_lstm_atten, weights = self.lstm_attention(h_lstm2, max_length)\n",
    "        # global average pooling\n",
    "        avg_pool = torch.mean(h_lstm2, 1)\n",
    "        # global max pooling\n",
    "        max_pool, _ = torch.max(h_lstm2, 1)\n",
    "        h_conc = torch.cat((h_lstm_atten, max_pool, avg_pool), 1)\n",
    "        h_conc_linear1 = F.relu(self.linear1(h_conc))\n",
    "        h_conc_linear2 = F.relu(self.linear2(h_conc))\n",
    "        \n",
    "        hidden = h_conc + h_conc_linear1 + h_conc_linear2\n",
    "        result = self.linear_out(hidden)\n",
    "        aux_result = self.linear_aux_out(hidden)\n",
    "#         out = torch.cat([result, aux_result], 1)\n",
    "#         print(f\"out : {out.shape}\")\n",
    "#         return out, weights\n",
    "        return aux_result, weights\n"
   ]
  },
  {
   "cell_type": "code",
   "execution_count": 412,
   "metadata": {},
   "outputs": [],
   "source": [
    "def train_model(models, loss_fn, lr=0.001, batch_size=32, n_epochs=10,max_length=64):\n",
    "    for col in cols_target:\n",
    "        models[col]['param_lrs'] = [{'params': param, 'lr': lr} for param in models[col]['model'].parameters()]\n",
    "        models[col]['optimizer'] = torch.optim.Adam(models[col]['param_lrs'], lr=lr)\n",
    "        models[col]['training_loss'] = []\n",
    "        models[col]['validation_loss'] = []\n",
    "\n",
    "    \n",
    "    \n",
    "    for model_index,target_label in enumerate(cols_target):\n",
    "        print(\"=\"*50)\n",
    "        print(f\"training {target_label} model....\")\n",
    "        models[target_label]['model'].to(device)\n",
    "        \n",
    "        best_loss = float(\"inf\")\n",
    "        \n",
    "        for epoch in range(n_epochs):\n",
    "            start_time = time.time()\n",
    "\n",
    "            models[target_label]['model'].train()\n",
    "            avg_loss = 0\n",
    "\n",
    "            for data in tqdm(train_dataloader, disable=False):\n",
    "                x_batch = data[:-1]\n",
    "                y_batch = data[-1][:,model_index].unsqueeze(1)\n",
    "\n",
    "                y_pred, _ = models[target_label]['model'](*x_batch, max_length)\n",
    "                \n",
    "                loss = nn.BCEWithLogitsLoss()(y_pred,y_batch)\n",
    "                models[target_label]['optimizer'].zero_grad()\n",
    "                loss.backward()\n",
    "                models[target_label]['optimizer'].step()\n",
    "                avg_loss += loss.item() / len(train_dataloader)\n",
    "\n",
    "            models[target_label]['training_loss'].append(avg_loss)\n",
    "            models[target_label]['model'].eval()\n",
    "            \n",
    "            print(f'... Validating ... ')\n",
    "            \n",
    "            avg_val_loss = 0\n",
    "            \n",
    "            for val_data in tqdm(dev_dataloader, disable=False):\n",
    "                x_batch = val_data[:-1]\n",
    "                y_batch = val_data[-1][:,model_index].unsqueeze(1)\n",
    "\n",
    "                y_pred, _ = models[target_label]['model'](*x_batch, max_length)\n",
    "\n",
    "                val_loss = nn.BCEWithLogitsLoss()(y_pred, y_batch)\n",
    "                avg_val_loss += val_loss.item() / len(dev_dataloader)\n",
    "\n",
    "            elapsed_time = time.time() - start_time\n",
    "            models[target_label]['validation_loss'].append(avg_val_loss)\n",
    "            \n",
    "            if avg_val_loss < best_loss:\n",
    "                print('saving the best model so far')\n",
    "                best_loss = avg_val_loss\n",
    "                torch.save(models[target_label]['model'].state_dict(), target_label+'_model.pt')\n",
    "            print(f'Epoch {epoch + 1}/{n_epochs}\\t training_loss={avg_loss:.4f} \\t validation_loss={avg_val_loss: 4f} \\t time={elapsed_time:.2f}s')\n",
    "    \n",
    "    models.clear()\n",
    "    \n",
    "    models = {\n",
    "        '三角函数':{},\n",
    "        '函数奇偶性':{},\n",
    "        '导数':{},\n",
    "        '平面向量':{},\n",
    "        '数列':{},\n",
    "        '逻辑与命题关系':{},\n",
    "        '集合':{}\n",
    "    }\n",
    "    \n",
    "    \n",
    "    print(\"loading best models .... \")\n",
    "    for target_label in cols_target:\n",
    "        # load each best model into its corresponding dict key\n",
    "        models[target_label]['model'] = BiLSTMWithAttention(hidden_size=hidden_size,\n",
    "                        embed_size=embed_size,\n",
    "                        max_features=tokenizer.vocab_size,\n",
    "                        num_classes=1,\n",
    "                        max_length=max_length)\n",
    "        models[target_label]['model'].load_state_dict(torch.load(target_label+'_model.pt'))\n",
    "        os.remove(target_label+'_model.pt')\n",
    "    \n",
    "    print(\"saving best models into a single file .... \")\n",
    "    # saving all models in a single model file\n",
    "    torch.save({\n",
    "            '三角函数': models['三角函数']['model'].state_dict(),\n",
    "            '函数奇偶性': models['函数奇偶性']['model'].state_dict(),\n",
    "            '导数': models['导数']['model'].state_dict(),\n",
    "            '平面向量': models['平面向量']['model'].state_dict(),\n",
    "            '数列': models['数列']['model'].state_dict(),\n",
    "            '逻辑与命题关系': models['逻辑与命题关系']['model'].state_dict(),\n",
    "            '集合': models['集合']['model'].state_dict(),\n",
    "            }, model_path)\n",
    "def evaluate(models):\n",
    "    for model_index,target_label in enumerate(cols_target):\n",
    "        \n",
    "        print(\"=\"*40)\n",
    "        print(f\"evaluating {target_label} model .... \")\n",
    "        \n",
    "        y_preds = []\n",
    "        y_trues = []\n",
    "        \n",
    "        models[col]['model'].eval()\n",
    "        with torch.no_grad():\n",
    "            for tst_data in tqdm(test_dataloader, disable=False):\n",
    "                x_batch = tst_data[:-1]\n",
    "                y_batch_labels = tst_data[-1][:,model_index].detach().cpu().numpy()\n",
    "\n",
    "                y_pred, _ = models[col]['model'](*x_batch, max_length)\n",
    "\n",
    "                y_pred_labels = (torch.sigmoid(y_pred).detach().cpu().numpy() > 0.5)\n",
    "\n",
    "                y_preds.extend(y_pred_labels.squeeze(1))\n",
    "                y_trues.extend(y_batch_labels)\n",
    "        \n",
    "        print(confusion_matrix(y_true=y_trues,y_pred=y_preds))\n",
    "        print(classification_report(y_trues,y_preds))\n",
    "    "
   ]
  },
  {
   "cell_type": "code",
   "execution_count": null,
   "metadata": {},
   "outputs": [],
   "source": []
  },
  {
   "cell_type": "code",
   "execution_count": 440,
   "metadata": {},
   "outputs": [],
   "source": [
    "models = {\n",
    "    '三角函数':{},\n",
    "    '函数奇偶性':{},\n",
    "    '导数':{},\n",
    "    '平面向量':{},\n",
    "    '数列':{},\n",
    "    '逻辑与命题关系':{},\n",
    "    '集合':{}\n",
    "}\n",
    "for col in cols_target:\n",
    "    models[col]['model'] = BiLSTMWithAttention(hidden_size=hidden_size,\n",
    "                            embed_size=embed_size,\n",
    "                            max_features=tokenizer.vocab_size,\n",
    "                            num_classes=1,\n",
    "                            max_length=max_length)"
   ]
  },
  {
   "cell_type": "code",
   "execution_count": 441,
   "metadata": {},
   "outputs": [
    {
     "data": {
      "text/plain": [
       "{'三角函数': {'model': BiLSTMWithAttention(\n",
       "    (embedding): Embedding(21128, 64)\n",
       "    (lstm1): LSTM(64, 64, batch_first=True, bidirectional=True)\n",
       "    (lstm2): LSTM(128, 64, batch_first=True, bidirectional=True)\n",
       "    (lstm_attention): Attention()\n",
       "    (linear1): Linear(in_features=384, out_features=384, bias=True)\n",
       "    (linear2): Linear(in_features=384, out_features=384, bias=True)\n",
       "    (linear_out): Linear(in_features=384, out_features=1, bias=True)\n",
       "    (linear_aux_out): Linear(in_features=384, out_features=1, bias=True)\n",
       "  )},\n",
       " '函数奇偶性': {'model': BiLSTMWithAttention(\n",
       "    (embedding): Embedding(21128, 64)\n",
       "    (lstm1): LSTM(64, 64, batch_first=True, bidirectional=True)\n",
       "    (lstm2): LSTM(128, 64, batch_first=True, bidirectional=True)\n",
       "    (lstm_attention): Attention()\n",
       "    (linear1): Linear(in_features=384, out_features=384, bias=True)\n",
       "    (linear2): Linear(in_features=384, out_features=384, bias=True)\n",
       "    (linear_out): Linear(in_features=384, out_features=1, bias=True)\n",
       "    (linear_aux_out): Linear(in_features=384, out_features=1, bias=True)\n",
       "  )},\n",
       " '导数': {'model': BiLSTMWithAttention(\n",
       "    (embedding): Embedding(21128, 64)\n",
       "    (lstm1): LSTM(64, 64, batch_first=True, bidirectional=True)\n",
       "    (lstm2): LSTM(128, 64, batch_first=True, bidirectional=True)\n",
       "    (lstm_attention): Attention()\n",
       "    (linear1): Linear(in_features=384, out_features=384, bias=True)\n",
       "    (linear2): Linear(in_features=384, out_features=384, bias=True)\n",
       "    (linear_out): Linear(in_features=384, out_features=1, bias=True)\n",
       "    (linear_aux_out): Linear(in_features=384, out_features=1, bias=True)\n",
       "  )},\n",
       " '平面向量': {'model': BiLSTMWithAttention(\n",
       "    (embedding): Embedding(21128, 64)\n",
       "    (lstm1): LSTM(64, 64, batch_first=True, bidirectional=True)\n",
       "    (lstm2): LSTM(128, 64, batch_first=True, bidirectional=True)\n",
       "    (lstm_attention): Attention()\n",
       "    (linear1): Linear(in_features=384, out_features=384, bias=True)\n",
       "    (linear2): Linear(in_features=384, out_features=384, bias=True)\n",
       "    (linear_out): Linear(in_features=384, out_features=1, bias=True)\n",
       "    (linear_aux_out): Linear(in_features=384, out_features=1, bias=True)\n",
       "  )},\n",
       " '数列': {'model': BiLSTMWithAttention(\n",
       "    (embedding): Embedding(21128, 64)\n",
       "    (lstm1): LSTM(64, 64, batch_first=True, bidirectional=True)\n",
       "    (lstm2): LSTM(128, 64, batch_first=True, bidirectional=True)\n",
       "    (lstm_attention): Attention()\n",
       "    (linear1): Linear(in_features=384, out_features=384, bias=True)\n",
       "    (linear2): Linear(in_features=384, out_features=384, bias=True)\n",
       "    (linear_out): Linear(in_features=384, out_features=1, bias=True)\n",
       "    (linear_aux_out): Linear(in_features=384, out_features=1, bias=True)\n",
       "  )},\n",
       " '逻辑与命题关系': {'model': BiLSTMWithAttention(\n",
       "    (embedding): Embedding(21128, 64)\n",
       "    (lstm1): LSTM(64, 64, batch_first=True, bidirectional=True)\n",
       "    (lstm2): LSTM(128, 64, batch_first=True, bidirectional=True)\n",
       "    (lstm_attention): Attention()\n",
       "    (linear1): Linear(in_features=384, out_features=384, bias=True)\n",
       "    (linear2): Linear(in_features=384, out_features=384, bias=True)\n",
       "    (linear_out): Linear(in_features=384, out_features=1, bias=True)\n",
       "    (linear_aux_out): Linear(in_features=384, out_features=1, bias=True)\n",
       "  )},\n",
       " '集合': {'model': BiLSTMWithAttention(\n",
       "    (embedding): Embedding(21128, 64)\n",
       "    (lstm1): LSTM(64, 64, batch_first=True, bidirectional=True)\n",
       "    (lstm2): LSTM(128, 64, batch_first=True, bidirectional=True)\n",
       "    (lstm_attention): Attention()\n",
       "    (linear1): Linear(in_features=384, out_features=384, bias=True)\n",
       "    (linear2): Linear(in_features=384, out_features=384, bias=True)\n",
       "    (linear_out): Linear(in_features=384, out_features=1, bias=True)\n",
       "    (linear_aux_out): Linear(in_features=384, out_features=1, bias=True)\n",
       "  )}}"
      ]
     },
     "execution_count": 441,
     "metadata": {},
     "output_type": "execute_result"
    }
   ],
   "source": [
    "models"
   ]
  },
  {
   "cell_type": "code",
   "execution_count": null,
   "metadata": {},
   "outputs": [],
   "source": []
  },
  {
   "cell_type": "code",
   "execution_count": null,
   "metadata": {},
   "outputs": [],
   "source": []
  },
  {
   "cell_type": "code",
   "execution_count": null,
   "metadata": {},
   "outputs": [],
   "source": []
  },
  {
   "cell_type": "code",
   "execution_count": 414,
   "metadata": {},
   "outputs": [
    {
     "name": "stdout",
     "output_type": "stream",
     "text": [
      "preprocessing training data...\n"
     ]
    },
    {
     "name": "stderr",
     "output_type": "stream",
     "text": [
      "/Users/maywzh/.pyenv/versions/3.8.6/lib/python3.8/site-packages/transformers/tokenization_utils_base.py:2068: FutureWarning: The `pad_to_max_length` argument is deprecated and will be removed in a future version, use `padding=True` or `padding='longest'` to pad to the longest sequence in the batch, or use `padding='max_length'` to pad to a max length. In this case, you can give a specific length with `max_length` (e.g. `max_length=45`) or leave max_length to None to pad to the maximal input size of the model (e.g. 512 for Bert).\n",
      "  warnings.warn(\n"
     ]
    }
   ],
   "source": [
    "train_df_cpy = df_train[dev_size:]\n",
    "dev_df_cpy = df_train[:dev_size]\n",
    "test_df_cpy = df_test\n",
    "print(\"preprocessing training data...\")\n",
    "X_train = prepare_set(train_df_cpy['exercise_text'].values.tolist())\n",
    "#y_true_cpy = y_true"
   ]
  },
  {
   "cell_type": "code",
   "execution_count": null,
   "metadata": {},
   "outputs": [],
   "source": []
  },
  {
   "cell_type": "code",
   "execution_count": null,
   "metadata": {},
   "outputs": [],
   "source": []
  },
  {
   "cell_type": "code",
   "execution_count": 415,
   "metadata": {},
   "outputs": [
    {
     "name": "stdout",
     "output_type": "stream",
     "text": [
      "preprocessing training data...\n"
     ]
    }
   ],
   "source": [
    "print(\"preprocessing training data...\")\n",
    "X_dev = prepare_set(dev_df_cpy['exercise_text'].values.tolist())\n",
    "X_test = prepare_set(df_test['exercise_text'].values.tolist())"
   ]
  },
  {
   "cell_type": "code",
   "execution_count": 448,
   "metadata": {},
   "outputs": [
    {
     "data": {
      "text/plain": [
       "0.7762155458808947"
      ]
     },
     "execution_count": 448,
     "metadata": {},
     "output_type": "execute_result"
    }
   ],
   "source": [
    "cosine(labelemb[0],X_dev[0])"
   ]
  },
  {
   "cell_type": "code",
   "execution_count": 450,
   "metadata": {},
   "outputs": [
    {
     "data": {
      "text/plain": [
       "3481    已知函数其中曲线在点处的切线垂直于轴求的值求函数的极值求导得曲线在点处的切线垂直于轴则函数在...\n",
       "3302                             已知函数的图像在点处的切线斜率为类猜想等数学思想\n",
       "1881    设函数给出如下四个命题若则为奇函数若则函数在上是增函数函数的图象关于点成中心对称图形关于的方...\n",
       "2937              若平面向量与的夹角是且则的坐标为试题分析因为所以所以所以考点向量的共线向量的模\n",
       "1285    分已知函数是偶函数求的值设若函数与的图象有且只有一个公共点求实数的取值范围当时由题得方程有一...\n",
       "                              ...                        \n",
       "2496                       二面角大小为半平面内分别有点考点向量的和的表示向量的模的求法\n",
       "1436                   已知函数和都是定义在上的奇函数函数在区间上的最大值是则在上的最小值是\n",
       "1868                                  对于平面和共面的直线下列命题中真命题是\n",
       "1319                       已知奇函数有最大值且其中实数是正整数求的解析式令证明是正整数\n",
       "1296                           已知定义域为的函数为奇函数且满足当时求在上的解析式求\n",
       "Name: exercise_text, Length: 297, dtype: object"
      ]
     },
     "execution_count": 450,
     "metadata": {},
     "output_type": "execute_result"
    }
   ],
   "source": []
  },
  {
   "cell_type": "code",
   "execution_count": null,
   "metadata": {},
   "outputs": [],
   "source": []
  },
  {
   "cell_type": "code",
   "execution_count": null,
   "metadata": {},
   "outputs": [],
   "source": []
  },
  {
   "cell_type": "code",
   "execution_count": null,
   "metadata": {},
   "outputs": [],
   "source": []
  },
  {
   "cell_type": "code",
   "execution_count": null,
   "metadata": {},
   "outputs": [],
   "source": []
  },
  {
   "cell_type": "code",
   "execution_count": null,
   "metadata": {},
   "outputs": [],
   "source": []
  },
  {
   "cell_type": "code",
   "execution_count": 416,
   "metadata": {},
   "outputs": [],
   "source": [
    "y_train = train_df_cpy[cols_target].values\n",
    "y_dev = dev_df_cpy[cols_target].values\n",
    "y_test = df_test[cols_target].values"
   ]
  },
  {
   "cell_type": "code",
   "execution_count": null,
   "metadata": {},
   "outputs": [],
   "source": []
  },
  {
   "cell_type": "code",
   "execution_count": 417,
   "metadata": {},
   "outputs": [],
   "source": [
    "x_train_torch = torch.tensor(X_train, dtype=torch.long).to(device)\n",
    "x_dev_torch = torch.tensor(X_dev, dtype=torch.long).to(device)\n",
    "x_test_torch = torch.tensor(X_test, dtype=torch.long).to(device)"
   ]
  },
  {
   "cell_type": "code",
   "execution_count": null,
   "metadata": {},
   "outputs": [],
   "source": []
  },
  {
   "cell_type": "code",
   "execution_count": 418,
   "metadata": {},
   "outputs": [],
   "source": [
    "y_train_torch = torch.tensor(y_train,dtype=torch.float).to(device)\n",
    "y_dev_torch = torch.tensor(y_dev, dtype=torch.float).to(device)\n",
    "# y_val_torch = torch.tensor(np.hstack([y_val, y_aux_val]), dtype=torch.float32).to(device)\n",
    "y_test_torch = torch.tensor(y_test,dtype=torch.float).to(device)"
   ]
  },
  {
   "cell_type": "code",
   "execution_count": 419,
   "metadata": {},
   "outputs": [],
   "source": [
    "# Create the DataLoader for training set\n",
    "train_data = TensorDataset(x_train_torch, y_train_torch)\n",
    "train_sampler = RandomSampler(train_data)\n",
    "train_dataloader = DataLoader(train_data, sampler=train_sampler, batch_size=batch_size)"
   ]
  },
  {
   "cell_type": "code",
   "execution_count": 420,
   "metadata": {},
   "outputs": [],
   "source": [
    "# Create the DataLoader for dev set\n",
    "dev_data = TensorDataset(x_dev_torch, y_dev_torch)\n",
    "dev_sampler = RandomSampler(dev_data)\n",
    "dev_dataloader = DataLoader(dev_data, sampler=dev_sampler, batch_size=batch_size)"
   ]
  },
  {
   "cell_type": "code",
   "execution_count": 421,
   "metadata": {},
   "outputs": [],
   "source": [
    "# Create the DataLoader for dev set.\n",
    "test_data = TensorDataset(x_test_torch, y_test_torch)\n",
    "test_sampler = SequentialSampler(test_data)\n",
    "test_dataloader = DataLoader(test_data, sampler=test_sampler, batch_size=batch_size)"
   ]
  },
  {
   "cell_type": "code",
   "execution_count": 422,
   "metadata": {},
   "outputs": [
    {
     "data": {
      "text/plain": [
       "['三角函数', '函数奇偶性', '导数', '平面向量', '数列', '逻辑与命题关系', '集合']"
      ]
     },
     "execution_count": 422,
     "metadata": {},
     "output_type": "execute_result"
    }
   ],
   "source": [
    "cols_target"
   ]
  },
  {
   "cell_type": "code",
   "execution_count": null,
   "metadata": {},
   "outputs": [],
   "source": []
  },
  {
   "cell_type": "code",
   "execution_count": null,
   "metadata": {},
   "outputs": [],
   "source": []
  },
  {
   "cell_type": "code",
   "execution_count": null,
   "metadata": {},
   "outputs": [],
   "source": []
  },
  {
   "cell_type": "code",
   "execution_count": 423,
   "metadata": {},
   "outputs": [
    {
     "data": {
      "text/plain": [
       "{'三角函数': {},\n",
       " '函数奇偶性': {},\n",
       " '导数': {},\n",
       " '平面向量': {},\n",
       " '数列': {},\n",
       " '逻辑与命题关系': {},\n",
       " '集合': {}}"
      ]
     },
     "execution_count": 423,
     "metadata": {},
     "output_type": "execute_result"
    }
   ],
   "source": [
    "models"
   ]
  },
  {
   "cell_type": "code",
   "execution_count": null,
   "metadata": {},
   "outputs": [],
   "source": []
  },
  {
   "cell_type": "code",
   "execution_count": 424,
   "metadata": {},
   "outputs": [],
   "source": [
    "for col in cols_target:\n",
    "    models[col]['model'] = BiLSTMWithAttention(hidden_size=hidden_size,\n",
    "                            embed_size=embed_size,\n",
    "                            max_features=tokenizer.vocab_size,\n",
    "                            num_classes=1,\n",
    "                            max_length=max_length)"
   ]
  },
  {
   "cell_type": "code",
   "execution_count": null,
   "metadata": {},
   "outputs": [],
   "source": []
  },
  {
   "cell_type": "code",
   "execution_count": 425,
   "metadata": {},
   "outputs": [
    {
     "data": {
      "text/plain": [
       "{'三角函数': {'model': BiLSTMWithAttention(\n",
       "    (embedding): Embedding(21128, 64)\n",
       "    (lstm1): LSTM(64, 64, batch_first=True, bidirectional=True)\n",
       "    (lstm2): LSTM(128, 64, batch_first=True, bidirectional=True)\n",
       "    (lstm_attention): Attention()\n",
       "    (linear1): Linear(in_features=384, out_features=384, bias=True)\n",
       "    (linear2): Linear(in_features=384, out_features=384, bias=True)\n",
       "    (linear_out): Linear(in_features=384, out_features=1, bias=True)\n",
       "    (linear_aux_out): Linear(in_features=384, out_features=1, bias=True)\n",
       "  )},\n",
       " '函数奇偶性': {'model': BiLSTMWithAttention(\n",
       "    (embedding): Embedding(21128, 64)\n",
       "    (lstm1): LSTM(64, 64, batch_first=True, bidirectional=True)\n",
       "    (lstm2): LSTM(128, 64, batch_first=True, bidirectional=True)\n",
       "    (lstm_attention): Attention()\n",
       "    (linear1): Linear(in_features=384, out_features=384, bias=True)\n",
       "    (linear2): Linear(in_features=384, out_features=384, bias=True)\n",
       "    (linear_out): Linear(in_features=384, out_features=1, bias=True)\n",
       "    (linear_aux_out): Linear(in_features=384, out_features=1, bias=True)\n",
       "  )},\n",
       " '导数': {'model': BiLSTMWithAttention(\n",
       "    (embedding): Embedding(21128, 64)\n",
       "    (lstm1): LSTM(64, 64, batch_first=True, bidirectional=True)\n",
       "    (lstm2): LSTM(128, 64, batch_first=True, bidirectional=True)\n",
       "    (lstm_attention): Attention()\n",
       "    (linear1): Linear(in_features=384, out_features=384, bias=True)\n",
       "    (linear2): Linear(in_features=384, out_features=384, bias=True)\n",
       "    (linear_out): Linear(in_features=384, out_features=1, bias=True)\n",
       "    (linear_aux_out): Linear(in_features=384, out_features=1, bias=True)\n",
       "  )},\n",
       " '平面向量': {'model': BiLSTMWithAttention(\n",
       "    (embedding): Embedding(21128, 64)\n",
       "    (lstm1): LSTM(64, 64, batch_first=True, bidirectional=True)\n",
       "    (lstm2): LSTM(128, 64, batch_first=True, bidirectional=True)\n",
       "    (lstm_attention): Attention()\n",
       "    (linear1): Linear(in_features=384, out_features=384, bias=True)\n",
       "    (linear2): Linear(in_features=384, out_features=384, bias=True)\n",
       "    (linear_out): Linear(in_features=384, out_features=1, bias=True)\n",
       "    (linear_aux_out): Linear(in_features=384, out_features=1, bias=True)\n",
       "  )},\n",
       " '数列': {'model': BiLSTMWithAttention(\n",
       "    (embedding): Embedding(21128, 64)\n",
       "    (lstm1): LSTM(64, 64, batch_first=True, bidirectional=True)\n",
       "    (lstm2): LSTM(128, 64, batch_first=True, bidirectional=True)\n",
       "    (lstm_attention): Attention()\n",
       "    (linear1): Linear(in_features=384, out_features=384, bias=True)\n",
       "    (linear2): Linear(in_features=384, out_features=384, bias=True)\n",
       "    (linear_out): Linear(in_features=384, out_features=1, bias=True)\n",
       "    (linear_aux_out): Linear(in_features=384, out_features=1, bias=True)\n",
       "  )},\n",
       " '逻辑与命题关系': {'model': BiLSTMWithAttention(\n",
       "    (embedding): Embedding(21128, 64)\n",
       "    (lstm1): LSTM(64, 64, batch_first=True, bidirectional=True)\n",
       "    (lstm2): LSTM(128, 64, batch_first=True, bidirectional=True)\n",
       "    (lstm_attention): Attention()\n",
       "    (linear1): Linear(in_features=384, out_features=384, bias=True)\n",
       "    (linear2): Linear(in_features=384, out_features=384, bias=True)\n",
       "    (linear_out): Linear(in_features=384, out_features=1, bias=True)\n",
       "    (linear_aux_out): Linear(in_features=384, out_features=1, bias=True)\n",
       "  )},\n",
       " '集合': {'model': BiLSTMWithAttention(\n",
       "    (embedding): Embedding(21128, 64)\n",
       "    (lstm1): LSTM(64, 64, batch_first=True, bidirectional=True)\n",
       "    (lstm2): LSTM(128, 64, batch_first=True, bidirectional=True)\n",
       "    (lstm_attention): Attention()\n",
       "    (linear1): Linear(in_features=384, out_features=384, bias=True)\n",
       "    (linear2): Linear(in_features=384, out_features=384, bias=True)\n",
       "    (linear_out): Linear(in_features=384, out_features=1, bias=True)\n",
       "    (linear_aux_out): Linear(in_features=384, out_features=1, bias=True)\n",
       "  )}}"
      ]
     },
     "execution_count": 425,
     "metadata": {},
     "output_type": "execute_result"
    }
   ],
   "source": [
    "models"
   ]
  },
  {
   "cell_type": "code",
   "execution_count": null,
   "metadata": {},
   "outputs": [],
   "source": []
  },
  {
   "cell_type": "code",
   "execution_count": null,
   "metadata": {},
   "outputs": [],
   "source": []
  },
  {
   "cell_type": "code",
   "execution_count": 426,
   "metadata": {},
   "outputs": [
    {
     "name": "stderr",
     "output_type": "stream",
     "text": [
      "  2%|▏         | 2/84 [00:00<00:06, 12.16it/s]"
     ]
    },
    {
     "name": "stdout",
     "output_type": "stream",
     "text": [
      "==================================================\n",
      "training 三角函数 model....\n"
     ]
    },
    {
     "name": "stderr",
     "output_type": "stream",
     "text": [
      "100%|██████████| 84/84 [00:06<00:00, 12.48it/s]\n",
      " 40%|████      | 4/10 [00:00<00:00, 35.75it/s]"
     ]
    },
    {
     "name": "stdout",
     "output_type": "stream",
     "text": [
      "... Validating ... \n"
     ]
    },
    {
     "name": "stderr",
     "output_type": "stream",
     "text": [
      "100%|██████████| 10/10 [00:00<00:00, 36.45it/s]\n",
      "  2%|▏         | 2/84 [00:00<00:06, 12.53it/s]"
     ]
    },
    {
     "name": "stdout",
     "output_type": "stream",
     "text": [
      "saving the best model so far\n",
      "Epoch 1/4\t training_loss=0.1293 \t validation_loss= 0.099947 \t time=7.01s\n"
     ]
    },
    {
     "name": "stderr",
     "output_type": "stream",
     "text": [
      "100%|██████████| 84/84 [00:06<00:00, 12.10it/s]\n",
      " 40%|████      | 4/10 [00:00<00:00, 33.16it/s]"
     ]
    },
    {
     "name": "stdout",
     "output_type": "stream",
     "text": [
      "... Validating ... \n"
     ]
    },
    {
     "name": "stderr",
     "output_type": "stream",
     "text": [
      "100%|██████████| 10/10 [00:00<00:00, 34.58it/s]\n",
      "  2%|▏         | 2/84 [00:00<00:06, 11.92it/s]"
     ]
    },
    {
     "name": "stdout",
     "output_type": "stream",
     "text": [
      "saving the best model so far\n",
      "Epoch 2/4\t training_loss=0.0830 \t validation_loss= 0.086554 \t time=7.23s\n"
     ]
    },
    {
     "name": "stderr",
     "output_type": "stream",
     "text": [
      "100%|██████████| 84/84 [00:06<00:00, 12.31it/s]\n",
      " 40%|████      | 4/10 [00:00<00:00, 34.47it/s]"
     ]
    },
    {
     "name": "stdout",
     "output_type": "stream",
     "text": [
      "... Validating ... \n"
     ]
    },
    {
     "name": "stderr",
     "output_type": "stream",
     "text": [
      "100%|██████████| 10/10 [00:00<00:00, 36.03it/s]\n",
      "  2%|▏         | 2/84 [00:00<00:06, 12.47it/s]"
     ]
    },
    {
     "name": "stdout",
     "output_type": "stream",
     "text": [
      "saving the best model so far\n",
      "Epoch 3/4\t training_loss=0.0384 \t validation_loss= 0.075446 \t time=7.10s\n"
     ]
    },
    {
     "name": "stderr",
     "output_type": "stream",
     "text": [
      "100%|██████████| 84/84 [00:06<00:00, 12.69it/s]\n",
      " 40%|████      | 4/10 [00:00<00:00, 34.59it/s]"
     ]
    },
    {
     "name": "stdout",
     "output_type": "stream",
     "text": [
      "... Validating ... \n"
     ]
    },
    {
     "name": "stderr",
     "output_type": "stream",
     "text": [
      "100%|██████████| 10/10 [00:00<00:00, 35.77it/s]\n",
      "  2%|▏         | 2/84 [00:00<00:06, 12.27it/s]"
     ]
    },
    {
     "name": "stdout",
     "output_type": "stream",
     "text": [
      "saving the best model so far\n",
      "Epoch 4/4\t training_loss=0.0194 \t validation_loss= 0.061089 \t time=6.90s\n",
      "==================================================\n",
      "training 函数奇偶性 model....\n"
     ]
    },
    {
     "name": "stderr",
     "output_type": "stream",
     "text": [
      "100%|██████████| 84/84 [00:06<00:00, 12.63it/s]\n",
      " 40%|████      | 4/10 [00:00<00:00, 34.72it/s]"
     ]
    },
    {
     "name": "stdout",
     "output_type": "stream",
     "text": [
      "... Validating ... \n"
     ]
    },
    {
     "name": "stderr",
     "output_type": "stream",
     "text": [
      "100%|██████████| 10/10 [00:00<00:00, 35.99it/s]\n",
      "  2%|▏         | 2/84 [00:00<00:06, 12.23it/s]"
     ]
    },
    {
     "name": "stdout",
     "output_type": "stream",
     "text": [
      "saving the best model so far\n",
      "Epoch 1/4\t training_loss=0.2538 \t validation_loss= 0.129235 \t time=6.93s\n"
     ]
    },
    {
     "name": "stderr",
     "output_type": "stream",
     "text": [
      "100%|██████████| 84/84 [00:06<00:00, 12.55it/s]\n",
      " 40%|████      | 4/10 [00:00<00:00, 34.87it/s]"
     ]
    },
    {
     "name": "stdout",
     "output_type": "stream",
     "text": [
      "... Validating ... \n"
     ]
    },
    {
     "name": "stderr",
     "output_type": "stream",
     "text": [
      "100%|██████████| 10/10 [00:00<00:00, 36.59it/s]\n",
      "  2%|▏         | 2/84 [00:00<00:06, 12.70it/s]"
     ]
    },
    {
     "name": "stdout",
     "output_type": "stream",
     "text": [
      "saving the best model so far\n",
      "Epoch 2/4\t training_loss=0.0714 \t validation_loss= 0.034976 \t time=6.97s\n"
     ]
    },
    {
     "name": "stderr",
     "output_type": "stream",
     "text": [
      "100%|██████████| 84/84 [00:06<00:00, 12.71it/s]\n",
      " 40%|████      | 4/10 [00:00<00:00, 34.84it/s]"
     ]
    },
    {
     "name": "stdout",
     "output_type": "stream",
     "text": [
      "... Validating ... \n"
     ]
    },
    {
     "name": "stderr",
     "output_type": "stream",
     "text": [
      "100%|██████████| 10/10 [00:00<00:00, 36.31it/s]\n",
      "  2%|▏         | 2/84 [00:00<00:06, 12.67it/s]"
     ]
    },
    {
     "name": "stdout",
     "output_type": "stream",
     "text": [
      "saving the best model so far\n",
      "Epoch 3/4\t training_loss=0.0420 \t validation_loss= 0.025328 \t time=6.88s\n"
     ]
    },
    {
     "name": "stderr",
     "output_type": "stream",
     "text": [
      "100%|██████████| 84/84 [00:06<00:00, 12.67it/s]\n",
      " 40%|████      | 4/10 [00:00<00:00, 35.05it/s]"
     ]
    },
    {
     "name": "stdout",
     "output_type": "stream",
     "text": [
      "... Validating ... \n"
     ]
    },
    {
     "name": "stderr",
     "output_type": "stream",
     "text": [
      "100%|██████████| 10/10 [00:00<00:00, 36.73it/s]\n",
      "  2%|▏         | 2/84 [00:00<00:06, 12.35it/s]"
     ]
    },
    {
     "name": "stdout",
     "output_type": "stream",
     "text": [
      "Epoch 4/4\t training_loss=0.0325 \t validation_loss= 0.026503 \t time=6.91s\n",
      "==================================================\n",
      "training 导数 model....\n"
     ]
    },
    {
     "name": "stderr",
     "output_type": "stream",
     "text": [
      "100%|██████████| 84/84 [00:06<00:00, 12.69it/s]\n",
      " 40%|████      | 4/10 [00:00<00:00, 35.26it/s]"
     ]
    },
    {
     "name": "stdout",
     "output_type": "stream",
     "text": [
      "... Validating ... \n"
     ]
    },
    {
     "name": "stderr",
     "output_type": "stream",
     "text": [
      "100%|██████████| 10/10 [00:00<00:00, 36.46it/s]\n",
      "  2%|▏         | 2/84 [00:00<00:06, 12.32it/s]"
     ]
    },
    {
     "name": "stdout",
     "output_type": "stream",
     "text": [
      "saving the best model so far\n",
      "Epoch 1/4\t training_loss=0.3286 \t validation_loss= 0.114935 \t time=6.89s\n"
     ]
    },
    {
     "name": "stderr",
     "output_type": "stream",
     "text": [
      "100%|██████████| 84/84 [00:06<00:00, 12.65it/s]\n",
      " 40%|████      | 4/10 [00:00<00:00, 35.26it/s]"
     ]
    },
    {
     "name": "stdout",
     "output_type": "stream",
     "text": [
      "... Validating ... \n"
     ]
    },
    {
     "name": "stderr",
     "output_type": "stream",
     "text": [
      "100%|██████████| 10/10 [00:00<00:00, 36.70it/s]\n",
      "  2%|▏         | 2/84 [00:00<00:06, 12.81it/s]"
     ]
    },
    {
     "name": "stdout",
     "output_type": "stream",
     "text": [
      "saving the best model so far\n",
      "Epoch 2/4\t training_loss=0.1262 \t validation_loss= 0.105055 \t time=6.92s\n"
     ]
    },
    {
     "name": "stderr",
     "output_type": "stream",
     "text": [
      "100%|██████████| 84/84 [00:06<00:00, 12.72it/s]\n",
      " 40%|████      | 4/10 [00:00<00:00, 35.19it/s]"
     ]
    },
    {
     "name": "stdout",
     "output_type": "stream",
     "text": [
      "... Validating ... \n"
     ]
    },
    {
     "name": "stderr",
     "output_type": "stream",
     "text": [
      "100%|██████████| 10/10 [00:00<00:00, 36.01it/s]\n",
      "  2%|▏         | 2/84 [00:00<00:06, 12.60it/s]"
     ]
    },
    {
     "name": "stdout",
     "output_type": "stream",
     "text": [
      "saving the best model so far\n",
      "Epoch 3/4\t training_loss=0.0794 \t validation_loss= 0.089356 \t time=6.88s\n"
     ]
    },
    {
     "name": "stderr",
     "output_type": "stream",
     "text": [
      "100%|██████████| 84/84 [00:06<00:00, 12.76it/s]\n",
      " 40%|████      | 4/10 [00:00<00:00, 35.19it/s]"
     ]
    },
    {
     "name": "stdout",
     "output_type": "stream",
     "text": [
      "... Validating ... \n"
     ]
    },
    {
     "name": "stderr",
     "output_type": "stream",
     "text": [
      "100%|██████████| 10/10 [00:00<00:00, 36.68it/s]\n",
      "  2%|▏         | 2/84 [00:00<00:06, 12.15it/s]"
     ]
    },
    {
     "name": "stdout",
     "output_type": "stream",
     "text": [
      "saving the best model so far\n",
      "Epoch 4/4\t training_loss=0.0626 \t validation_loss= 0.089106 \t time=6.86s\n",
      "==================================================\n",
      "training 平面向量 model....\n"
     ]
    },
    {
     "name": "stderr",
     "output_type": "stream",
     "text": [
      "100%|██████████| 84/84 [00:06<00:00, 12.53it/s]\n",
      " 40%|████      | 4/10 [00:00<00:00, 34.20it/s]"
     ]
    },
    {
     "name": "stdout",
     "output_type": "stream",
     "text": [
      "... Validating ... \n"
     ]
    },
    {
     "name": "stderr",
     "output_type": "stream",
     "text": [
      "100%|██████████| 10/10 [00:00<00:00, 35.78it/s]\n",
      "  2%|▏         | 2/84 [00:00<00:06, 12.35it/s]"
     ]
    },
    {
     "name": "stdout",
     "output_type": "stream",
     "text": [
      "saving the best model so far\n",
      "Epoch 1/4\t training_loss=0.1874 \t validation_loss= 0.072402 \t time=6.98s\n"
     ]
    },
    {
     "name": "stderr",
     "output_type": "stream",
     "text": [
      "100%|██████████| 84/84 [00:06<00:00, 12.55it/s]\n",
      " 40%|████      | 4/10 [00:00<00:00, 35.06it/s]"
     ]
    },
    {
     "name": "stdout",
     "output_type": "stream",
     "text": [
      "... Validating ... \n"
     ]
    },
    {
     "name": "stderr",
     "output_type": "stream",
     "text": [
      "100%|██████████| 10/10 [00:00<00:00, 36.48it/s]\n",
      "  2%|▏         | 2/84 [00:00<00:06, 12.53it/s]"
     ]
    },
    {
     "name": "stdout",
     "output_type": "stream",
     "text": [
      "saving the best model so far\n",
      "Epoch 2/4\t training_loss=0.0366 \t validation_loss= 0.062803 \t time=6.97s\n"
     ]
    },
    {
     "name": "stderr",
     "output_type": "stream",
     "text": [
      "100%|██████████| 84/84 [00:06<00:00, 12.72it/s]\n",
      " 40%|████      | 4/10 [00:00<00:00, 35.23it/s]"
     ]
    },
    {
     "name": "stdout",
     "output_type": "stream",
     "text": [
      "... Validating ... \n"
     ]
    },
    {
     "name": "stderr",
     "output_type": "stream",
     "text": [
      "100%|██████████| 10/10 [00:00<00:00, 36.59it/s]\n",
      "  2%|▏         | 2/84 [00:00<00:06, 12.74it/s]"
     ]
    },
    {
     "name": "stdout",
     "output_type": "stream",
     "text": [
      "Epoch 3/4\t training_loss=0.0251 \t validation_loss= 0.086918 \t time=6.88s\n"
     ]
    },
    {
     "name": "stderr",
     "output_type": "stream",
     "text": [
      "100%|██████████| 84/84 [00:06<00:00, 12.75it/s]\n",
      " 40%|████      | 4/10 [00:00<00:00, 35.46it/s]"
     ]
    },
    {
     "name": "stdout",
     "output_type": "stream",
     "text": [
      "... Validating ... \n"
     ]
    },
    {
     "name": "stderr",
     "output_type": "stream",
     "text": [
      "100%|██████████| 10/10 [00:00<00:00, 36.63it/s]\n",
      "  2%|▏         | 2/84 [00:00<00:06, 12.37it/s]"
     ]
    },
    {
     "name": "stdout",
     "output_type": "stream",
     "text": [
      "Epoch 4/4\t training_loss=0.0194 \t validation_loss= 0.072181 \t time=6.87s\n",
      "==================================================\n",
      "training 数列 model....\n"
     ]
    },
    {
     "name": "stderr",
     "output_type": "stream",
     "text": [
      "100%|██████████| 84/84 [00:06<00:00, 12.74it/s]\n",
      " 40%|████      | 4/10 [00:00<00:00, 35.51it/s]"
     ]
    },
    {
     "name": "stdout",
     "output_type": "stream",
     "text": [
      "... Validating ... \n"
     ]
    },
    {
     "name": "stderr",
     "output_type": "stream",
     "text": [
      "100%|██████████| 10/10 [00:00<00:00, 36.57it/s]\n",
      "  2%|▏         | 2/84 [00:00<00:06, 12.48it/s]"
     ]
    },
    {
     "name": "stdout",
     "output_type": "stream",
     "text": [
      "saving the best model so far\n",
      "Epoch 1/4\t training_loss=0.1798 \t validation_loss= 0.040730 \t time=6.87s\n"
     ]
    },
    {
     "name": "stderr",
     "output_type": "stream",
     "text": [
      "100%|██████████| 84/84 [00:06<00:00, 12.72it/s]\n",
      " 40%|████      | 4/10 [00:00<00:00, 34.84it/s]"
     ]
    },
    {
     "name": "stdout",
     "output_type": "stream",
     "text": [
      "... Validating ... \n"
     ]
    },
    {
     "name": "stderr",
     "output_type": "stream",
     "text": [
      "100%|██████████| 10/10 [00:00<00:00, 36.37it/s]\n",
      "  2%|▏         | 2/84 [00:00<00:06, 12.47it/s]"
     ]
    },
    {
     "name": "stdout",
     "output_type": "stream",
     "text": [
      "Epoch 2/4\t training_loss=0.0377 \t validation_loss= 0.065842 \t time=6.88s\n"
     ]
    },
    {
     "name": "stderr",
     "output_type": "stream",
     "text": [
      "100%|██████████| 84/84 [00:06<00:00, 12.69it/s]\n",
      " 40%|████      | 4/10 [00:00<00:00, 35.27it/s]"
     ]
    },
    {
     "name": "stdout",
     "output_type": "stream",
     "text": [
      "... Validating ... \n"
     ]
    },
    {
     "name": "stderr",
     "output_type": "stream",
     "text": [
      "100%|██████████| 10/10 [00:00<00:00, 36.35it/s]\n",
      "  2%|▏         | 2/84 [00:00<00:06, 12.91it/s]"
     ]
    },
    {
     "name": "stdout",
     "output_type": "stream",
     "text": [
      "saving the best model so far\n",
      "Epoch 3/4\t training_loss=0.0263 \t validation_loss= 0.031897 \t time=6.90s\n"
     ]
    },
    {
     "name": "stderr",
     "output_type": "stream",
     "text": [
      "100%|██████████| 84/84 [00:06<00:00, 12.63it/s]\n",
      " 40%|████      | 4/10 [00:00<00:00, 35.10it/s]"
     ]
    },
    {
     "name": "stdout",
     "output_type": "stream",
     "text": [
      "... Validating ... \n"
     ]
    },
    {
     "name": "stderr",
     "output_type": "stream",
     "text": [
      "100%|██████████| 10/10 [00:00<00:00, 36.49it/s]\n",
      "  2%|▏         | 2/84 [00:00<00:06, 12.15it/s]"
     ]
    },
    {
     "name": "stdout",
     "output_type": "stream",
     "text": [
      "saving the best model so far\n",
      "Epoch 4/4\t training_loss=0.0194 \t validation_loss= 0.026991 \t time=6.93s\n",
      "==================================================\n",
      "training 逻辑与命题关系 model....\n"
     ]
    },
    {
     "name": "stderr",
     "output_type": "stream",
     "text": [
      "100%|██████████| 84/84 [00:06<00:00, 12.58it/s]\n",
      " 40%|████      | 4/10 [00:00<00:00, 34.42it/s]"
     ]
    },
    {
     "name": "stdout",
     "output_type": "stream",
     "text": [
      "... Validating ... \n"
     ]
    },
    {
     "name": "stderr",
     "output_type": "stream",
     "text": [
      "100%|██████████| 10/10 [00:00<00:00, 35.80it/s]\n",
      "  2%|▏         | 2/84 [00:00<00:06, 12.70it/s]"
     ]
    },
    {
     "name": "stdout",
     "output_type": "stream",
     "text": [
      "saving the best model so far\n",
      "Epoch 1/4\t training_loss=0.2706 \t validation_loss= 0.094053 \t time=6.96s\n"
     ]
    },
    {
     "name": "stderr",
     "output_type": "stream",
     "text": [
      "100%|██████████| 84/84 [00:06<00:00, 12.62it/s]\n",
      " 40%|████      | 4/10 [00:00<00:00, 35.46it/s]"
     ]
    },
    {
     "name": "stdout",
     "output_type": "stream",
     "text": [
      "... Validating ... \n"
     ]
    },
    {
     "name": "stderr",
     "output_type": "stream",
     "text": [
      "100%|██████████| 10/10 [00:00<00:00, 36.55it/s]\n",
      "  2%|▏         | 2/84 [00:00<00:06, 12.67it/s]"
     ]
    },
    {
     "name": "stdout",
     "output_type": "stream",
     "text": [
      "saving the best model so far\n",
      "Epoch 2/4\t training_loss=0.0655 \t validation_loss= 0.089909 \t time=6.93s\n"
     ]
    },
    {
     "name": "stderr",
     "output_type": "stream",
     "text": [
      "100%|██████████| 84/84 [00:06<00:00, 12.68it/s]\n",
      " 40%|████      | 4/10 [00:00<00:00, 35.12it/s]"
     ]
    },
    {
     "name": "stdout",
     "output_type": "stream",
     "text": [
      "... Validating ... \n"
     ]
    },
    {
     "name": "stderr",
     "output_type": "stream",
     "text": [
      "100%|██████████| 10/10 [00:00<00:00, 36.10it/s]\n",
      "  2%|▏         | 2/84 [00:00<00:06, 12.65it/s]"
     ]
    },
    {
     "name": "stdout",
     "output_type": "stream",
     "text": [
      "saving the best model so far\n",
      "Epoch 3/4\t training_loss=0.0431 \t validation_loss= 0.065447 \t time=6.90s\n"
     ]
    },
    {
     "name": "stderr",
     "output_type": "stream",
     "text": [
      "100%|██████████| 84/84 [00:06<00:00, 12.66it/s]\n",
      " 40%|████      | 4/10 [00:00<00:00, 34.24it/s]"
     ]
    },
    {
     "name": "stdout",
     "output_type": "stream",
     "text": [
      "... Validating ... \n"
     ]
    },
    {
     "name": "stderr",
     "output_type": "stream",
     "text": [
      "100%|██████████| 10/10 [00:00<00:00, 35.77it/s]\n",
      "  2%|▏         | 2/84 [00:00<00:06, 12.15it/s]"
     ]
    },
    {
     "name": "stdout",
     "output_type": "stream",
     "text": [
      "saving the best model so far\n",
      "Epoch 4/4\t training_loss=0.0314 \t validation_loss= 0.054546 \t time=6.92s\n",
      "==================================================\n",
      "training 集合 model....\n"
     ]
    },
    {
     "name": "stderr",
     "output_type": "stream",
     "text": [
      "100%|██████████| 84/84 [00:06<00:00, 12.63it/s]\n",
      " 40%|████      | 4/10 [00:00<00:00, 34.61it/s]"
     ]
    },
    {
     "name": "stdout",
     "output_type": "stream",
     "text": [
      "... Validating ... \n"
     ]
    },
    {
     "name": "stderr",
     "output_type": "stream",
     "text": [
      "100%|██████████| 10/10 [00:00<00:00, 36.12it/s]\n",
      "  2%|▏         | 2/84 [00:00<00:06, 12.50it/s]"
     ]
    },
    {
     "name": "stdout",
     "output_type": "stream",
     "text": [
      "saving the best model so far\n",
      "Epoch 1/4\t training_loss=0.1699 \t validation_loss= 0.078312 \t time=6.93s\n"
     ]
    },
    {
     "name": "stderr",
     "output_type": "stream",
     "text": [
      "100%|██████████| 84/84 [00:06<00:00, 12.63it/s]\n",
      " 40%|████      | 4/10 [00:00<00:00, 35.34it/s]"
     ]
    },
    {
     "name": "stdout",
     "output_type": "stream",
     "text": [
      "... Validating ... \n"
     ]
    },
    {
     "name": "stderr",
     "output_type": "stream",
     "text": [
      "100%|██████████| 10/10 [00:00<00:00, 36.27it/s]\n",
      "  2%|▏         | 2/84 [00:00<00:06, 12.62it/s]"
     ]
    },
    {
     "name": "stdout",
     "output_type": "stream",
     "text": [
      "saving the best model so far\n",
      "Epoch 2/4\t training_loss=0.0360 \t validation_loss= 0.041089 \t time=6.93s\n"
     ]
    },
    {
     "name": "stderr",
     "output_type": "stream",
     "text": [
      "100%|██████████| 84/84 [00:06<00:00, 12.70it/s]\n",
      " 40%|████      | 4/10 [00:00<00:00, 34.71it/s]"
     ]
    },
    {
     "name": "stdout",
     "output_type": "stream",
     "text": [
      "... Validating ... \n"
     ]
    },
    {
     "name": "stderr",
     "output_type": "stream",
     "text": [
      "100%|██████████| 10/10 [00:00<00:00, 36.02it/s]\n",
      "  2%|▏         | 2/84 [00:00<00:06, 12.35it/s]"
     ]
    },
    {
     "name": "stdout",
     "output_type": "stream",
     "text": [
      "Epoch 3/4\t training_loss=0.0157 \t validation_loss= 0.043739 \t time=6.89s\n"
     ]
    },
    {
     "name": "stderr",
     "output_type": "stream",
     "text": [
      "100%|██████████| 84/84 [00:06<00:00, 12.65it/s]\n",
      " 40%|████      | 4/10 [00:00<00:00, 34.56it/s]"
     ]
    },
    {
     "name": "stdout",
     "output_type": "stream",
     "text": [
      "... Validating ... \n"
     ]
    },
    {
     "name": "stderr",
     "output_type": "stream",
     "text": [
      "100%|██████████| 10/10 [00:00<00:00, 35.73it/s]\n"
     ]
    },
    {
     "name": "stdout",
     "output_type": "stream",
     "text": [
      "Epoch 4/4\t training_loss=0.0095 \t validation_loss= 0.049473 \t time=6.92s\n",
      "loading best models .... \n",
      "saving best models into a single file .... \n"
     ]
    }
   ],
   "source": [
    "import torch\n",
    "import torch.nn as nn\n",
    "import torch.nn.functional as F\n",
    "from transformers import PreTrainedTokenizerFast\n",
    "from torch.utils.data import TensorDataset, DataLoader, RandomSampler, SequentialSampler\n",
    "import numpy as np\n",
    "import pandas as pd\n",
    "import re\n",
    "import os\n",
    "from tqdm import tqdm\n",
    "import time\n",
    "import math\n",
    "from sklearn.metrics import classification_report,confusion_matrix\n",
    "\n",
    "train_model(models=models,loss_fn=None,lr=lr,batch_size=batch_size,n_epochs=n_epochs,max_length=max_length)"
   ]
  },
  {
   "cell_type": "code",
   "execution_count": 435,
   "metadata": {},
   "outputs": [],
   "source": [
    "models_single_file = torch.load(model_path)\n"
   ]
  },
  {
   "cell_type": "code",
   "execution_count": null,
   "metadata": {},
   "outputs": [],
   "source": []
  },
  {
   "cell_type": "code",
   "execution_count": null,
   "metadata": {},
   "outputs": [],
   "source": []
  },
  {
   "cell_type": "code",
   "execution_count": null,
   "metadata": {},
   "outputs": [],
   "source": []
  },
  {
   "cell_type": "code",
   "execution_count": null,
   "metadata": {},
   "outputs": [],
   "source": []
  },
  {
   "cell_type": "code",
   "execution_count": 442,
   "metadata": {},
   "outputs": [],
   "source": [
    "for col in cols_target:\n",
    "    models[col]['model'].load_state_dict(models_single_file[col])\n",
    "    models[col]['model'].to(device)"
   ]
  },
  {
   "cell_type": "code",
   "execution_count": 443,
   "metadata": {},
   "outputs": [
    {
     "name": "stderr",
     "output_type": "stream",
     "text": [
      " 19%|█▉        | 6/31 [00:00<00:00, 51.71it/s]"
     ]
    },
    {
     "name": "stdout",
     "output_type": "stream",
     "text": [
      "========================================\n",
      "evaluating 三角函数 model .... \n"
     ]
    },
    {
     "name": "stderr",
     "output_type": "stream",
     "text": [
      "100%|██████████| 31/31 [00:00<00:00, 52.52it/s]\n",
      " 19%|█▉        | 6/31 [00:00<00:00, 53.35it/s]"
     ]
    },
    {
     "name": "stdout",
     "output_type": "stream",
     "text": [
      "[[923  38]\n",
      " [ 31   0]]\n",
      "              precision    recall  f1-score   support\n",
      "\n",
      "         0.0       0.97      0.96      0.96       961\n",
      "         1.0       0.00      0.00      0.00        31\n",
      "\n",
      "    accuracy                           0.93       992\n",
      "   macro avg       0.48      0.48      0.48       992\n",
      "weighted avg       0.94      0.93      0.93       992\n",
      "\n",
      "========================================\n",
      "evaluating 函数奇偶性 model .... \n"
     ]
    },
    {
     "name": "stderr",
     "output_type": "stream",
     "text": [
      "100%|██████████| 31/31 [00:00<00:00, 51.59it/s]\n",
      " 19%|█▉        | 6/31 [00:00<00:00, 50.56it/s]"
     ]
    },
    {
     "name": "stdout",
     "output_type": "stream",
     "text": [
      "[[768  37]\n",
      " [186   1]]\n",
      "              precision    recall  f1-score   support\n",
      "\n",
      "         0.0       0.81      0.95      0.87       805\n",
      "         1.0       0.03      0.01      0.01       187\n",
      "\n",
      "    accuracy                           0.78       992\n",
      "   macro avg       0.42      0.48      0.44       992\n",
      "weighted avg       0.66      0.78      0.71       992\n",
      "\n",
      "========================================\n",
      "evaluating 导数 model .... \n"
     ]
    },
    {
     "name": "stderr",
     "output_type": "stream",
     "text": [
      "100%|██████████| 31/31 [00:00<00:00, 50.95it/s]\n",
      " 19%|█▉        | 6/31 [00:00<00:00, 51.47it/s]"
     ]
    },
    {
     "name": "stdout",
     "output_type": "stream",
     "text": [
      "[[708  37]\n",
      " [246   1]]\n",
      "              precision    recall  f1-score   support\n",
      "\n",
      "         0.0       0.74      0.95      0.83       745\n",
      "         1.0       0.03      0.00      0.01       247\n",
      "\n",
      "    accuracy                           0.71       992\n",
      "   macro avg       0.38      0.48      0.42       992\n",
      "weighted avg       0.56      0.71      0.63       992\n",
      "\n",
      "========================================\n",
      "evaluating 平面向量 model .... \n"
     ]
    },
    {
     "name": "stderr",
     "output_type": "stream",
     "text": [
      "100%|██████████| 31/31 [00:00<00:00, 52.17it/s]\n",
      " 19%|█▉        | 6/31 [00:00<00:00, 53.10it/s]"
     ]
    },
    {
     "name": "stdout",
     "output_type": "stream",
     "text": [
      "[[753  35]\n",
      " [201   3]]\n",
      "              precision    recall  f1-score   support\n",
      "\n",
      "         0.0       0.79      0.96      0.86       788\n",
      "         1.0       0.08      0.01      0.02       204\n",
      "\n",
      "    accuracy                           0.76       992\n",
      "   macro avg       0.43      0.49      0.44       992\n",
      "weighted avg       0.64      0.76      0.69       992\n",
      "\n",
      "========================================\n",
      "evaluating 数列 model .... \n"
     ]
    },
    {
     "name": "stderr",
     "output_type": "stream",
     "text": [
      "100%|██████████| 31/31 [00:00<00:00, 53.16it/s]\n",
      " 19%|█▉        | 6/31 [00:00<00:00, 53.73it/s]"
     ]
    },
    {
     "name": "stdout",
     "output_type": "stream",
     "text": [
      "[[714  35]\n",
      " [240   3]]\n",
      "              precision    recall  f1-score   support\n",
      "\n",
      "         0.0       0.75      0.95      0.84       749\n",
      "         1.0       0.08      0.01      0.02       243\n",
      "\n",
      "    accuracy                           0.72       992\n",
      "   macro avg       0.41      0.48      0.43       992\n",
      "weighted avg       0.58      0.72      0.64       992\n",
      "\n",
      "========================================\n",
      "evaluating 逻辑与命题关系 model .... \n"
     ]
    },
    {
     "name": "stderr",
     "output_type": "stream",
     "text": [
      "100%|██████████| 31/31 [00:00<00:00, 53.64it/s]\n",
      " 19%|█▉        | 6/31 [00:00<00:00, 53.19it/s]"
     ]
    },
    {
     "name": "stdout",
     "output_type": "stream",
     "text": [
      "[[778  34]\n",
      " [176   4]]\n",
      "              precision    recall  f1-score   support\n",
      "\n",
      "         0.0       0.82      0.96      0.88       812\n",
      "         1.0       0.11      0.02      0.04       180\n",
      "\n",
      "    accuracy                           0.79       992\n",
      "   macro avg       0.46      0.49      0.46       992\n",
      "weighted avg       0.69      0.79      0.73       992\n",
      "\n",
      "========================================\n",
      "evaluating 集合 model .... \n"
     ]
    },
    {
     "name": "stderr",
     "output_type": "stream",
     "text": [
      "100%|██████████| 31/31 [00:00<00:00, 53.54it/s]"
     ]
    },
    {
     "name": "stdout",
     "output_type": "stream",
     "text": [
      "[[947   0]\n",
      " [  7  38]]\n",
      "              precision    recall  f1-score   support\n",
      "\n",
      "         0.0       0.99      1.00      1.00       947\n",
      "         1.0       1.00      0.84      0.92        45\n",
      "\n",
      "    accuracy                           0.99       992\n",
      "   macro avg       1.00      0.92      0.96       992\n",
      "weighted avg       0.99      0.99      0.99       992\n",
      "\n"
     ]
    },
    {
     "name": "stderr",
     "output_type": "stream",
     "text": [
      "\n"
     ]
    }
   ],
   "source": [
    "\n",
    "(models)"
   ]
  },
  {
   "cell_type": "code",
   "execution_count": null,
   "metadata": {},
   "outputs": [],
   "source": []
  },
  {
   "cell_type": "code",
   "execution_count": null,
   "metadata": {},
   "outputs": [],
   "source": []
  },
  {
   "cell_type": "code",
   "execution_count": null,
   "metadata": {},
   "outputs": [],
   "source": []
  },
  {
   "cell_type": "code",
   "execution_count": null,
   "metadata": {},
   "outputs": [],
   "source": []
  },
  {
   "cell_type": "code",
   "execution_count": null,
   "metadata": {},
   "outputs": [],
   "source": []
  },
  {
   "cell_type": "code",
   "execution_count": null,
   "metadata": {},
   "outputs": [],
   "source": []
  }
 ],
 "metadata": {
  "kernelspec": {
   "display_name": "Python 3",
   "language": "python",
   "name": "python3"
  },
  "language_info": {
   "codemirror_mode": {
    "name": "ipython",
    "version": 3
   },
   "file_extension": ".py",
   "mimetype": "text/x-python",
   "name": "python",
   "nbconvert_exporter": "python",
   "pygments_lexer": "ipython3",
   "version": "3.8.6"
  }
 },
 "nbformat": 4,
 "nbformat_minor": 4
}
