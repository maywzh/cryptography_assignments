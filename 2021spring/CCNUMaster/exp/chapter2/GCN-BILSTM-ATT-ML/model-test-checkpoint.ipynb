{
 "cells": [
  {
   "cell_type": "code",
   "execution_count": 1,
   "metadata": {},
   "outputs": [],
   "source": [
    "import numpy as np\n",
    "import pandas as pd\n",
    "import re\n",
    "\n",
    "from matplotlib import pyplot as plt\n",
    "%matplotlib inline\n",
    "import seaborn as sns\n",
    "\n",
    "from sklearn.metrics import classification_report,confusion_matrix\n",
    "\n",
    "import torch\n",
    "import torch.nn as nn\n",
    "import torch.nn.functional as F\n",
    "from transformers import PreTrainedTokenizerFast\n",
    "from torch.utils.data import TensorDataset, DataLoader, RandomSampler, SequentialSampler\n",
    "\n",
    "from tqdm import tqdm\n",
    "import time\n"
   ]
  },
  {
   "cell_type": "code",
   "execution_count": 37,
   "metadata": {},
   "outputs": [],
   "source": [
    "train_df = pd.read_csv('./data/train.csv')\n",
    "test_df = pd.read_csv('./data/test.csv')"
   ]
  },
  {
   "cell_type": "code",
   "execution_count": 39,
   "metadata": {},
   "outputs": [],
   "source": [
    "df = pd.concat([train_df,test_df],ignore_index=True)"
   ]
  },
  {
   "cell_type": "code",
   "execution_count": 40,
   "metadata": {},
   "outputs": [
    {
     "data": {
      "text/html": [
       "<div>\n",
       "<style scoped>\n",
       "    .dataframe tbody tr th:only-of-type {\n",
       "        vertical-align: middle;\n",
       "    }\n",
       "\n",
       "    .dataframe tbody tr th {\n",
       "        vertical-align: top;\n",
       "    }\n",
       "\n",
       "    .dataframe thead th {\n",
       "        text-align: right;\n",
       "    }\n",
       "</style>\n",
       "<table border=\"1\" class=\"dataframe\">\n",
       "  <thead>\n",
       "    <tr style=\"text-align: right;\">\n",
       "      <th></th>\n",
       "      <th>exercise_text</th>\n",
       "      <th>三角函数</th>\n",
       "      <th>函数奇偶性</th>\n",
       "      <th>导数</th>\n",
       "      <th>平面向量</th>\n",
       "      <th>数列</th>\n",
       "      <th>逻辑与命题关系</th>\n",
       "      <th>集合</th>\n",
       "    </tr>\n",
       "  </thead>\n",
       "  <tbody>\n",
       "    <tr>\n",
       "      <th>0</th>\n",
       "      <td>已知函数其中曲线在点处的切线垂直于轴求的值求函数的极值求导得曲线在点处的切线垂直于轴则函数在...</td>\n",
       "      <td>0</td>\n",
       "      <td>0</td>\n",
       "      <td>1</td>\n",
       "      <td>0</td>\n",
       "      <td>0</td>\n",
       "      <td>0</td>\n",
       "      <td>0</td>\n",
       "    </tr>\n",
       "    <tr>\n",
       "      <th>1</th>\n",
       "      <td>已知函数的图像在点处的切线斜率为类猜想等数学思想</td>\n",
       "      <td>0</td>\n",
       "      <td>0</td>\n",
       "      <td>1</td>\n",
       "      <td>0</td>\n",
       "      <td>0</td>\n",
       "      <td>0</td>\n",
       "      <td>0</td>\n",
       "    </tr>\n",
       "    <tr>\n",
       "      <th>2</th>\n",
       "      <td>设函数给出如下四个命题若则为奇函数若则函数在上是增函数函数的图象关于点成中心对称图形关于的方...</td>\n",
       "      <td>0</td>\n",
       "      <td>1</td>\n",
       "      <td>0</td>\n",
       "      <td>0</td>\n",
       "      <td>0</td>\n",
       "      <td>1</td>\n",
       "      <td>0</td>\n",
       "    </tr>\n",
       "    <tr>\n",
       "      <th>3</th>\n",
       "      <td>若平面向量与的夹角是且则的坐标为试题分析因为所以所以所以考点向量的共线向量的模</td>\n",
       "      <td>0</td>\n",
       "      <td>0</td>\n",
       "      <td>0</td>\n",
       "      <td>1</td>\n",
       "      <td>0</td>\n",
       "      <td>0</td>\n",
       "      <td>0</td>\n",
       "    </tr>\n",
       "    <tr>\n",
       "      <th>4</th>\n",
       "      <td>分已知函数是偶函数求的值设若函数与的图象有且只有一个公共点求实数的取值范围当时由题得方程有一...</td>\n",
       "      <td>0</td>\n",
       "      <td>1</td>\n",
       "      <td>0</td>\n",
       "      <td>0</td>\n",
       "      <td>0</td>\n",
       "      <td>0</td>\n",
       "      <td>0</td>\n",
       "    </tr>\n",
       "    <tr>\n",
       "      <th>...</th>\n",
       "      <td>...</td>\n",
       "      <td>...</td>\n",
       "      <td>...</td>\n",
       "      <td>...</td>\n",
       "      <td>...</td>\n",
       "      <td>...</td>\n",
       "      <td>...</td>\n",
       "      <td>...</td>\n",
       "    </tr>\n",
       "    <tr>\n",
       "      <th>3964</th>\n",
       "      <td>记函数的最大值为最小值为则的值为试题分析由已知得解得所以函数的定义域是已知函数求导得时当时当...</td>\n",
       "      <td>0</td>\n",
       "      <td>0</td>\n",
       "      <td>1</td>\n",
       "      <td>0</td>\n",
       "      <td>0</td>\n",
       "      <td>0</td>\n",
       "      <td>0</td>\n",
       "    </tr>\n",
       "    <tr>\n",
       "      <th>3965</th>\n",
       "      <td>已知函数若函数在处取得极值求实数的值若关于的方程在区间上恰有两个不同的实数根求实数的取值范围...</td>\n",
       "      <td>0</td>\n",
       "      <td>0</td>\n",
       "      <td>1</td>\n",
       "      <td>0</td>\n",
       "      <td>0</td>\n",
       "      <td>0</td>\n",
       "      <td>0</td>\n",
       "    </tr>\n",
       "    <tr>\n",
       "      <th>3966</th>\n",
       "      <td>函数上有最小值实数的取值范围是试题分析由题令解得令解得或由此得函数在上是减函数在上是增函数在...</td>\n",
       "      <td>0</td>\n",
       "      <td>0</td>\n",
       "      <td>1</td>\n",
       "      <td>0</td>\n",
       "      <td>0</td>\n",
       "      <td>0</td>\n",
       "      <td>0</td>\n",
       "    </tr>\n",
       "    <tr>\n",
       "      <th>3967</th>\n",
       "      <td>由直线与曲线所围成的封闭图形的面积为试题分析在同一坐标系中作出的图象如图所示则所围成的封闭图...</td>\n",
       "      <td>0</td>\n",
       "      <td>0</td>\n",
       "      <td>1</td>\n",
       "      <td>0</td>\n",
       "      <td>0</td>\n",
       "      <td>0</td>\n",
       "      <td>0</td>\n",
       "    </tr>\n",
       "    <tr>\n",
       "      <th>3968</th>\n",
       "      <td>已知函数其中是自然对数的底数求函数的单调区间和极值若函数对任意满足求证当时若且求证</td>\n",
       "      <td>0</td>\n",
       "      <td>0</td>\n",
       "      <td>1</td>\n",
       "      <td>0</td>\n",
       "      <td>0</td>\n",
       "      <td>0</td>\n",
       "      <td>0</td>\n",
       "    </tr>\n",
       "  </tbody>\n",
       "</table>\n",
       "<p>3969 rows × 8 columns</p>\n",
       "</div>"
      ],
      "text/plain": [
       "                                          exercise_text  三角函数  函数奇偶性  导数  \\\n",
       "0     已知函数其中曲线在点处的切线垂直于轴求的值求函数的极值求导得曲线在点处的切线垂直于轴则函数在...     0      0   1   \n",
       "1                              已知函数的图像在点处的切线斜率为类猜想等数学思想     0      0   1   \n",
       "2     设函数给出如下四个命题若则为奇函数若则函数在上是增函数函数的图象关于点成中心对称图形关于的方...     0      1   0   \n",
       "3               若平面向量与的夹角是且则的坐标为试题分析因为所以所以所以考点向量的共线向量的模     0      0   0   \n",
       "4     分已知函数是偶函数求的值设若函数与的图象有且只有一个公共点求实数的取值范围当时由题得方程有一...     0      1   0   \n",
       "...                                                 ...   ...    ...  ..   \n",
       "3964  记函数的最大值为最小值为则的值为试题分析由已知得解得所以函数的定义域是已知函数求导得时当时当...     0      0   1   \n",
       "3965  已知函数若函数在处取得极值求实数的值若关于的方程在区间上恰有两个不同的实数根求实数的取值范围...     0      0   1   \n",
       "3966  函数上有最小值实数的取值范围是试题分析由题令解得令解得或由此得函数在上是减函数在上是增函数在...     0      0   1   \n",
       "3967  由直线与曲线所围成的封闭图形的面积为试题分析在同一坐标系中作出的图象如图所示则所围成的封闭图...     0      0   1   \n",
       "3968          已知函数其中是自然对数的底数求函数的单调区间和极值若函数对任意满足求证当时若且求证     0      0   1   \n",
       "\n",
       "      平面向量  数列  逻辑与命题关系  集合  \n",
       "0        0   0        0   0  \n",
       "1        0   0        0   0  \n",
       "2        0   0        1   0  \n",
       "3        1   0        0   0  \n",
       "4        0   0        0   0  \n",
       "...    ...  ..      ...  ..  \n",
       "3964     0   0        0   0  \n",
       "3965     0   0        0   0  \n",
       "3966     0   0        0   0  \n",
       "3967     0   0        0   0  \n",
       "3968     0   0        0   0  \n",
       "\n",
       "[3969 rows x 8 columns]"
      ]
     },
     "execution_count": 40,
     "metadata": {},
     "output_type": "execute_result"
    }
   ],
   "source": [
    "df"
   ]
  },
  {
   "cell_type": "code",
   "execution_count": null,
   "metadata": {},
   "outputs": [],
   "source": []
  },
  {
   "cell_type": "code",
   "execution_count": 46,
   "metadata": {},
   "outputs": [],
   "source": [
    "df['exercise_text_length'] = df['exercise_text'].apply(lambda x: len(str(x)))\n"
   ]
  },
  {
   "cell_type": "code",
   "execution_count": null,
   "metadata": {},
   "outputs": [],
   "source": []
  },
  {
   "cell_type": "code",
   "execution_count": 43,
   "metadata": {},
   "outputs": [
    {
     "data": {
      "text/html": [
       "<div>\n",
       "<style scoped>\n",
       "    .dataframe tbody tr th:only-of-type {\n",
       "        vertical-align: middle;\n",
       "    }\n",
       "\n",
       "    .dataframe tbody tr th {\n",
       "        vertical-align: top;\n",
       "    }\n",
       "\n",
       "    .dataframe thead th {\n",
       "        text-align: right;\n",
       "    }\n",
       "</style>\n",
       "<table border=\"1\" class=\"dataframe\">\n",
       "  <thead>\n",
       "    <tr style=\"text-align: right;\">\n",
       "      <th></th>\n",
       "      <th>exercise_text</th>\n",
       "      <th>三角函数</th>\n",
       "      <th>函数奇偶性</th>\n",
       "      <th>导数</th>\n",
       "      <th>平面向量</th>\n",
       "      <th>数列</th>\n",
       "      <th>逻辑与命题关系</th>\n",
       "      <th>集合</th>\n",
       "      <th>exercise_text_length</th>\n",
       "    </tr>\n",
       "  </thead>\n",
       "  <tbody>\n",
       "    <tr>\n",
       "      <th>0</th>\n",
       "      <td>已知函数其中曲线在点处的切线垂直于轴求的值求函数的极值求导得曲线在点处的切线垂直于轴则函数在...</td>\n",
       "      <td>0</td>\n",
       "      <td>0</td>\n",
       "      <td>1</td>\n",
       "      <td>0</td>\n",
       "      <td>0</td>\n",
       "      <td>0</td>\n",
       "      <td>0</td>\n",
       "      <td>87</td>\n",
       "    </tr>\n",
       "    <tr>\n",
       "      <th>1</th>\n",
       "      <td>已知函数的图像在点处的切线斜率为类猜想等数学思想</td>\n",
       "      <td>0</td>\n",
       "      <td>0</td>\n",
       "      <td>1</td>\n",
       "      <td>0</td>\n",
       "      <td>0</td>\n",
       "      <td>0</td>\n",
       "      <td>0</td>\n",
       "      <td>24</td>\n",
       "    </tr>\n",
       "    <tr>\n",
       "      <th>2</th>\n",
       "      <td>设函数给出如下四个命题若则为奇函数若则函数在上是增函数函数的图象关于点成中心对称图形关于的方...</td>\n",
       "      <td>0</td>\n",
       "      <td>1</td>\n",
       "      <td>0</td>\n",
       "      <td>0</td>\n",
       "      <td>0</td>\n",
       "      <td>1</td>\n",
       "      <td>0</td>\n",
       "      <td>61</td>\n",
       "    </tr>\n",
       "    <tr>\n",
       "      <th>3</th>\n",
       "      <td>若平面向量与的夹角是且则的坐标为试题分析因为所以所以所以考点向量的共线向量的模</td>\n",
       "      <td>0</td>\n",
       "      <td>0</td>\n",
       "      <td>0</td>\n",
       "      <td>1</td>\n",
       "      <td>0</td>\n",
       "      <td>0</td>\n",
       "      <td>0</td>\n",
       "      <td>39</td>\n",
       "    </tr>\n",
       "    <tr>\n",
       "      <th>4</th>\n",
       "      <td>分已知函数是偶函数求的值设若函数与的图象有且只有一个公共点求实数的取值范围当时由题得方程有一...</td>\n",
       "      <td>0</td>\n",
       "      <td>1</td>\n",
       "      <td>0</td>\n",
       "      <td>0</td>\n",
       "      <td>0</td>\n",
       "      <td>0</td>\n",
       "      <td>0</td>\n",
       "      <td>91</td>\n",
       "    </tr>\n",
       "    <tr>\n",
       "      <th>...</th>\n",
       "      <td>...</td>\n",
       "      <td>...</td>\n",
       "      <td>...</td>\n",
       "      <td>...</td>\n",
       "      <td>...</td>\n",
       "      <td>...</td>\n",
       "      <td>...</td>\n",
       "      <td>...</td>\n",
       "      <td>...</td>\n",
       "    </tr>\n",
       "    <tr>\n",
       "      <th>3964</th>\n",
       "      <td>记函数的最大值为最小值为则的值为试题分析由已知得解得所以函数的定义域是已知函数求导得时当时当...</td>\n",
       "      <td>0</td>\n",
       "      <td>0</td>\n",
       "      <td>1</td>\n",
       "      <td>0</td>\n",
       "      <td>0</td>\n",
       "      <td>0</td>\n",
       "      <td>0</td>\n",
       "      <td>92</td>\n",
       "    </tr>\n",
       "    <tr>\n",
       "      <th>3965</th>\n",
       "      <td>已知函数若函数在处取得极值求实数的值若关于的方程在区间上恰有两个不同的实数根求实数的取值范围...</td>\n",
       "      <td>0</td>\n",
       "      <td>0</td>\n",
       "      <td>1</td>\n",
       "      <td>0</td>\n",
       "      <td>0</td>\n",
       "      <td>0</td>\n",
       "      <td>0</td>\n",
       "      <td>59</td>\n",
       "    </tr>\n",
       "    <tr>\n",
       "      <th>3966</th>\n",
       "      <td>函数上有最小值实数的取值范围是试题分析由题令解得令解得或由此得函数在上是减函数在上是增函数在...</td>\n",
       "      <td>0</td>\n",
       "      <td>0</td>\n",
       "      <td>1</td>\n",
       "      <td>0</td>\n",
       "      <td>0</td>\n",
       "      <td>0</td>\n",
       "      <td>0</td>\n",
       "      <td>101</td>\n",
       "    </tr>\n",
       "    <tr>\n",
       "      <th>3967</th>\n",
       "      <td>由直线与曲线所围成的封闭图形的面积为试题分析在同一坐标系中作出的图象如图所示则所围成的封闭图...</td>\n",
       "      <td>0</td>\n",
       "      <td>0</td>\n",
       "      <td>1</td>\n",
       "      <td>0</td>\n",
       "      <td>0</td>\n",
       "      <td>0</td>\n",
       "      <td>0</td>\n",
       "      <td>51</td>\n",
       "    </tr>\n",
       "    <tr>\n",
       "      <th>3968</th>\n",
       "      <td>已知函数其中是自然对数的底数求函数的单调区间和极值若函数对任意满足求证当时若且求证</td>\n",
       "      <td>0</td>\n",
       "      <td>0</td>\n",
       "      <td>1</td>\n",
       "      <td>0</td>\n",
       "      <td>0</td>\n",
       "      <td>0</td>\n",
       "      <td>0</td>\n",
       "      <td>41</td>\n",
       "    </tr>\n",
       "  </tbody>\n",
       "</table>\n",
       "<p>3969 rows × 9 columns</p>\n",
       "</div>"
      ],
      "text/plain": [
       "                                          exercise_text  三角函数  函数奇偶性  导数  \\\n",
       "0     已知函数其中曲线在点处的切线垂直于轴求的值求函数的极值求导得曲线在点处的切线垂直于轴则函数在...     0      0   1   \n",
       "1                              已知函数的图像在点处的切线斜率为类猜想等数学思想     0      0   1   \n",
       "2     设函数给出如下四个命题若则为奇函数若则函数在上是增函数函数的图象关于点成中心对称图形关于的方...     0      1   0   \n",
       "3               若平面向量与的夹角是且则的坐标为试题分析因为所以所以所以考点向量的共线向量的模     0      0   0   \n",
       "4     分已知函数是偶函数求的值设若函数与的图象有且只有一个公共点求实数的取值范围当时由题得方程有一...     0      1   0   \n",
       "...                                                 ...   ...    ...  ..   \n",
       "3964  记函数的最大值为最小值为则的值为试题分析由已知得解得所以函数的定义域是已知函数求导得时当时当...     0      0   1   \n",
       "3965  已知函数若函数在处取得极值求实数的值若关于的方程在区间上恰有两个不同的实数根求实数的取值范围...     0      0   1   \n",
       "3966  函数上有最小值实数的取值范围是试题分析由题令解得令解得或由此得函数在上是减函数在上是增函数在...     0      0   1   \n",
       "3967  由直线与曲线所围成的封闭图形的面积为试题分析在同一坐标系中作出的图象如图所示则所围成的封闭图...     0      0   1   \n",
       "3968          已知函数其中是自然对数的底数求函数的单调区间和极值若函数对任意满足求证当时若且求证     0      0   1   \n",
       "\n",
       "      平面向量  数列  逻辑与命题关系  集合  exercise_text_length  \n",
       "0        0   0        0   0                    87  \n",
       "1        0   0        0   0                    24  \n",
       "2        0   0        1   0                    61  \n",
       "3        1   0        0   0                    39  \n",
       "4        0   0        0   0                    91  \n",
       "...    ...  ..      ...  ..                   ...  \n",
       "3964     0   0        0   0                    92  \n",
       "3965     0   0        0   0                    59  \n",
       "3966     0   0        0   0                   101  \n",
       "3967     0   0        0   0                    51  \n",
       "3968     0   0        0   0                    41  \n",
       "\n",
       "[3969 rows x 9 columns]"
      ]
     },
     "execution_count": 43,
     "metadata": {},
     "output_type": "execute_result"
    }
   ],
   "source": [
    "df"
   ]
  },
  {
   "cell_type": "code",
   "execution_count": null,
   "metadata": {},
   "outputs": [],
   "source": []
  },
  {
   "cell_type": "code",
   "execution_count": 5,
   "metadata": {},
   "outputs": [
    {
     "data": {
      "text/plain": [
       "359"
      ]
     },
     "execution_count": 5,
     "metadata": {},
     "output_type": "execute_result"
    }
   ],
   "source": [
    "df['exercise_text'].apply(lambda x:len(x)).max()"
   ]
  },
  {
   "cell_type": "code",
   "execution_count": 8,
   "metadata": {},
   "outputs": [
    {
     "data": {
      "text/plain": [
       "['三角函数', '函数奇偶性', '导数', '平面向量', '数列', '逻辑与命题关系', '集合']"
      ]
     },
     "execution_count": 8,
     "metadata": {},
     "output_type": "execute_result"
    }
   ],
   "source": [
    "cols_target = train_df.columns[1:].tolist()\n",
    "cols_target\n"
   ]
  },
  {
   "cell_type": "code",
   "execution_count": 9,
   "metadata": {},
   "outputs": [
    {
     "data": {
      "text/html": [
       "<div>\n",
       "<style scoped>\n",
       "    .dataframe tbody tr th:only-of-type {\n",
       "        vertical-align: middle;\n",
       "    }\n",
       "\n",
       "    .dataframe tbody tr th {\n",
       "        vertical-align: top;\n",
       "    }\n",
       "\n",
       "    .dataframe thead th {\n",
       "        text-align: right;\n",
       "    }\n",
       "</style>\n",
       "<table border=\"1\" class=\"dataframe\">\n",
       "  <thead>\n",
       "    <tr style=\"text-align: right;\">\n",
       "      <th></th>\n",
       "      <th>exercise_text</th>\n",
       "      <th>三角函数</th>\n",
       "      <th>函数奇偶性</th>\n",
       "      <th>导数</th>\n",
       "      <th>平面向量</th>\n",
       "      <th>数列</th>\n",
       "      <th>逻辑与命题关系</th>\n",
       "      <th>集合</th>\n",
       "    </tr>\n",
       "  </thead>\n",
       "  <tbody>\n",
       "    <tr>\n",
       "      <th>877</th>\n",
       "      <td>与共线则析所以考点向量共线的坐标运算</td>\n",
       "      <td>0</td>\n",
       "      <td>0</td>\n",
       "      <td>0</td>\n",
       "      <td>1</td>\n",
       "      <td>0</td>\n",
       "      <td>0</td>\n",
       "      <td>0</td>\n",
       "    </tr>\n",
       "    <tr>\n",
       "      <th>720</th>\n",
       "      <td>已知等比数列中为其前项和且设求数列的前项和</td>\n",
       "      <td>0</td>\n",
       "      <td>0</td>\n",
       "      <td>0</td>\n",
       "      <td>0</td>\n",
       "      <td>1</td>\n",
       "      <td>0</td>\n",
       "      <td>0</td>\n",
       "    </tr>\n",
       "    <tr>\n",
       "      <th>1471</th>\n",
       "      <td>已知数列满足其中为数列的前项和试求的通项公式若数列满足试求的前项和公式设数列的前项和为求证</td>\n",
       "      <td>0</td>\n",
       "      <td>0</td>\n",
       "      <td>0</td>\n",
       "      <td>0</td>\n",
       "      <td>1</td>\n",
       "      <td>0</td>\n",
       "      <td>0</td>\n",
       "    </tr>\n",
       "    <tr>\n",
       "      <th>2365</th>\n",
       "      <td>给出如下四个命题若且为假命题则均为假命题命题若的否命题为若则的否定是在中是的充要条件其中不正...</td>\n",
       "      <td>0</td>\n",
       "      <td>0</td>\n",
       "      <td>0</td>\n",
       "      <td>0</td>\n",
       "      <td>0</td>\n",
       "      <td>1</td>\n",
       "      <td>0</td>\n",
       "    </tr>\n",
       "    <tr>\n",
       "      <th>120</th>\n",
       "      <td>函数的图像在点处的切线方程为则试题分析由题意可知所以考点导数的几何意义</td>\n",
       "      <td>0</td>\n",
       "      <td>0</td>\n",
       "      <td>1</td>\n",
       "      <td>0</td>\n",
       "      <td>0</td>\n",
       "      <td>0</td>\n",
       "      <td>0</td>\n",
       "    </tr>\n",
       "    <tr>\n",
       "      <th>1548</th>\n",
       "      <td>已知点是圆内任意一点点是圆上任意一点则实数试题分析则设两向量的夹角为则由得所以故选考点向量的...</td>\n",
       "      <td>0</td>\n",
       "      <td>0</td>\n",
       "      <td>0</td>\n",
       "      <td>1</td>\n",
       "      <td>0</td>\n",
       "      <td>0</td>\n",
       "      <td>0</td>\n",
       "    </tr>\n",
       "    <tr>\n",
       "      <th>1477</th>\n",
       "      <td>等比数列的前项的和等于首项的倍则它的公比为试题分析当公比为时显然当公比不为时那么根据等比数列...</td>\n",
       "      <td>0</td>\n",
       "      <td>0</td>\n",
       "      <td>0</td>\n",
       "      <td>0</td>\n",
       "      <td>1</td>\n",
       "      <td>0</td>\n",
       "      <td>0</td>\n",
       "    </tr>\n",
       "    <tr>\n",
       "      <th>1233</th>\n",
       "      <td>下列各函数中为奇函数的是式的关系即可属于基础题</td>\n",
       "      <td>0</td>\n",
       "      <td>1</td>\n",
       "      <td>0</td>\n",
       "      <td>0</td>\n",
       "      <td>0</td>\n",
       "      <td>0</td>\n",
       "      <td>0</td>\n",
       "    </tr>\n",
       "    <tr>\n",
       "      <th>1409</th>\n",
       "      <td>已知函数若函数存在极值点求实数的取值范围求函数的单调区间当且时令为曲线上的两动点为坐标原点能...</td>\n",
       "      <td>0</td>\n",
       "      <td>0</td>\n",
       "      <td>1</td>\n",
       "      <td>0</td>\n",
       "      <td>0</td>\n",
       "      <td>0</td>\n",
       "      <td>0</td>\n",
       "    </tr>\n",
       "    <tr>\n",
       "      <th>1079</th>\n",
       "      <td>已知函数当时求函数的单调增区间求函数在区间上的最小值在的条件下设求证参考数据分当时得或故的单...</td>\n",
       "      <td>0</td>\n",
       "      <td>0</td>\n",
       "      <td>1</td>\n",
       "      <td>0</td>\n",
       "      <td>0</td>\n",
       "      <td>0</td>\n",
       "      <td>0</td>\n",
       "    </tr>\n",
       "  </tbody>\n",
       "</table>\n",
       "</div>"
      ],
      "text/plain": [
       "                                          exercise_text  三角函数  函数奇偶性  导数  \\\n",
       "877                                  与共线则析所以考点向量共线的坐标运算     0      0   0   \n",
       "720                               已知等比数列中为其前项和且设求数列的前项和     0      0   0   \n",
       "1471      已知数列满足其中为数列的前项和试求的通项公式若数列满足试求的前项和公式设数列的前项和为求证     0      0   0   \n",
       "2365  给出如下四个命题若且为假命题则均为假命题命题若的否命题为若则的否定是在中是的充要条件其中不正...     0      0   0   \n",
       "120                 函数的图像在点处的切线方程为则试题分析由题意可知所以考点导数的几何意义     0      0   1   \n",
       "1548  已知点是圆内任意一点点是圆上任意一点则实数试题分析则设两向量的夹角为则由得所以故选考点向量的...     0      0   0   \n",
       "1477  等比数列的前项的和等于首项的倍则它的公比为试题分析当公比为时显然当公比不为时那么根据等比数列...     0      0   0   \n",
       "1233                            下列各函数中为奇函数的是式的关系即可属于基础题     0      1   0   \n",
       "1409  已知函数若函数存在极值点求实数的取值范围求函数的单调区间当且时令为曲线上的两动点为坐标原点能...     0      0   1   \n",
       "1079  已知函数当时求函数的单调增区间求函数在区间上的最小值在的条件下设求证参考数据分当时得或故的单...     0      0   1   \n",
       "\n",
       "      平面向量  数列  逻辑与命题关系  集合  \n",
       "877      1   0        0   0  \n",
       "720      0   1        0   0  \n",
       "1471     0   1        0   0  \n",
       "2365     0   0        1   0  \n",
       "120      0   0        0   0  \n",
       "1548     1   0        0   0  \n",
       "1477     0   1        0   0  \n",
       "1233     0   0        0   0  \n",
       "1409     0   0        0   0  \n",
       "1079     0   0        0   0  "
      ]
     },
     "execution_count": 9,
     "metadata": {},
     "output_type": "execute_result"
    }
   ],
   "source": [
    "train_df.sample(10)"
   ]
  },
  {
   "cell_type": "code",
   "execution_count": 44,
   "metadata": {},
   "outputs": [
    {
     "data": {
      "text/plain": [
       "Text(0, 0.5, 'Numbers')"
      ]
     },
     "execution_count": 44,
     "metadata": {},
     "output_type": "execute_result"
    },
    {
     "data": {
      "text/plain": [
       "<Figure size 2400x1600 with 0 Axes>"
      ]
     },
     "metadata": {},
     "output_type": "display_data"
    },
    {
     "data": {
      "image/png": "[encoded data removed]",
      "text/plain": [
       "<Figure size 2400x1600 with 1 Axes>"
      ]
     },
     "metadata": {},
     "output_type": "display_data"
    }
   ],
   "source": [
    "\n",
    "\n",
    "plt.rcParams['font.family'] = ['Arial Unicode MS'] #用来正常显示中文标签\n",
    "plt.rcParams['axes.unicode_minus'] = False #用来正常显示负号\n",
    "plt.rcParams[\"figure.dpi\"] = 400\n",
    "sns.set_style('whitegrid',{'font.sans-serif':['Arial Unicode MS','Arial']})\n",
    "plt.figure(dpi=400)\n",
    "barplt_df = df[cols_target].apply(pd.Series.value_counts)\n",
    "barplt_df.plot(kind='bar')\n",
    "plt.xlabel(\"Belonging to the category\")\n",
    "plt.ylabel(\"Numbers\")\n",
    "#plt.bar(barplt_df)\n",
    "# barplt_df.plot(kind='bar').figure(dpi=400)\n",
    "#sns.distplot(barplt_df, hist=True, kde=True)\n",
    "#sns.countplot(data =barplt_df)"
   ]
  },
  {
   "cell_type": "code",
   "execution_count": 48,
   "metadata": {},
   "outputs": [
    {
     "data": {
      "text/plain": [
       "<AxesSubplot:xlabel='exercise_text_length', ylabel='Density'>"
      ]
     },
     "execution_count": 48,
     "metadata": {},
     "output_type": "execute_result"
    },
    {
     "data": {
      "image/png": "[encoded data removed]",
      "text/plain": [
       "<Figure size 2400x1600 with 1 Axes>"
      ]
     },
     "metadata": {},
     "output_type": "display_data"
    }
   ],
   "source": [
    "sns.set()\n",
    "#train_df['char_length'].hist()\n",
    "sns.kdeplot(df['exercise_text_length'])\n"
   ]
  },
  {
   "cell_type": "code",
   "execution_count": 49,
   "metadata": {},
   "outputs": [
    {
     "data": {
      "text/plain": [
       "0"
      ]
     },
     "execution_count": 49,
     "metadata": {},
     "output_type": "execute_result"
    }
   ],
   "source": [
    "zz"
   ]
  },
  {
   "cell_type": "code",
   "execution_count": 64,
   "metadata": {},
   "outputs": [],
   "source": [
    "tokenizer = PreTrainedTokenizerFast.from_pretrained('hfl/chinese-bert-wwm')\n",
    "tokenizer.add_special_tokens({'pad_token': '[PAD]'})\n",
    "def prepare_set(dataset, max_length=64):\n",
    "    \"\"\"returns input_ids, input_masks, labels for set of data ready in BERT format\"\"\"\n",
    "    global tokenizer\n",
    "    \n",
    "    input_ids = dataset\n",
    "#     for i in tqdm(dataset):\n",
    "#         input_ids.append(camel_case_split(i))\n",
    "    tokenized = tokenizer.batch_encode_plus(input_ids,return_token_type_ids=False, return_attention_mask=False, pad_to_max_length=True,truncation=True, max_length=max_length)[\"input_ids\"]\n",
    "    return tokenized"
   ]
  },
  {
   "cell_type": "code",
   "execution_count": null,
   "metadata": {},
   "outputs": [],
   "source": [
    "from sklearn.metrics import classification_report, confusion_matrix\n",
    "import time\n",
    "from torch._C import ParameterDict\n",
    "from tqdm import tqdm\n",
    "from torch.utils.data import TensorDataset, DataLoader, RandomSampler, SequentialSampler\n",
    "from transformers import PreTrainedTokenizerFast\n",
    "import torch.nn.functional as F\n",
    "import torch.nn as nn\n",
    "import torch\n",
    "import seaborn as sns\n",
    "import numpy as np\n",
    "import pandas as pd\n",
    "import re\n",
    "from torch.nn import Parameter\n",
    "import math\n",
    "from matplotlib import pyplot as plt\n",
    "from sklearn.metrics import *\n",
    "\n",
    "\n",
    "train_df = pd.read_csv('./data/train.csv')\n",
    "test_df = pd.read_csv('./data/test.csv')\n",
    "\n",
    "dev_size = int(train_df.shape[0] * 0.10)\n",
    "\n",
    "train_df_cpy = train_df[dev_size:]\n",
    "dev_df_cpy = train_df[:dev_size]\n",
    "test_df_cpy = test_df\n",
    "\n",
    "max_length = 64\n",
    "hidden_size = 128\n",
    "tokenizer = None\n",
    "batch_size = 32\n",
    "n_epochs = 20\n",
    "embed_size = 100\n",
    "lr = 0.001\n",
    "model_path = \"BiLSTM.pt\"\n",
    "use_gpu = True\n",
    "num_labels = 7\n",
    "\n",
    "tokenizer = PreTrainedTokenizerFast.from_pretrained('hfl/chinese-bert-wwm')\n",
    "tokenizer.add_special_tokens({'pad_token': '[PAD]'})\n",
    "adj = torch.Tensor(np.identity(num_labels))\n",
    "\n",
    "def prepare_set(dataset, max_length=max_length):\n",
    "    \"\"\"returns input_ids, input_masks, labels for set of data ready in BERT format\"\"\"\n",
    "    global tokenizer\n",
    "\n",
    "    input_ids = dataset\n",
    "#     for i in tqdm(dataset):\n",
    "#         input_ids.append(camel_case_split(i))\n",
    "    tokenized = tokenizer.batch_encode_plus(input_ids, return_token_type_ids=False, return_attention_mask=False,\n",
    "                                            pad_to_max_length=True, truncation=True, max_length=max_length)[\"input_ids\"]\n",
    "    return tokenized\n",
    "\n",
    "\n",
    "print(\"preprocessing training data...\")\n",
    "X_train = prepare_set(train_df_cpy['exercise_text'].values.tolist())\n",
    "\n",
    "print(\"preprocessing training data...\")\n",
    "X_dev = prepare_set(dev_df_cpy['exercise_text'].values.tolist())\n",
    "\n",
    "print(\"preprocessing test data...\")\n",
    "# -1 labels mean that those lines were not used for the scoring\n",
    "\n",
    "X_test = prepare_set(test_df['exercise_text'].values.tolist())\n",
    "\n",
    "cols_target = train_df.columns[1:].tolist()\n",
    "\n",
    "keywords = {\n",
    "    \"函数奇偶性\": \"奇函数偶函数奇偶\",\n",
    "    \"三角函数\": \"正弦余弦三角函数\",\n",
    "    \"逻辑与命题关系\": \"命题充分必要充要\",\n",
    "    \"集合\": \"集合并集交集子集空集韦恩图\",\n",
    "    \"导数\": \"导数切线极值单调递单调区间\",\n",
    "    \"平面向量\": \"向量\",\n",
    "    \"数列\": \"数列\"\n",
    "}\n",
    "\n",
    "kcols_target = [keywords[k] for k in cols_target]\n",
    "\n",
    "\n",
    "device = torch.device('cuda' if torch.cuda.is_available()\n",
    "                      and use_gpu else 'cpu')\n",
    "\n",
    "labels_pre = prepare_set(cols_target)\n",
    "\n",
    "labels_bemb = torch.tensor(labels_pre, dtype=torch.long).to(device)\n",
    "klabels_bemb = torch.tensor(prepare_set(\n",
    "    kcols_target), dtype=torch.long).to(device)\n",
    "\n",
    "y_train = train_df_cpy[cols_target].values  # 0,0,1,0,0,1,0\n",
    "y_dev = dev_df_cpy[cols_target].values  # 0,0,1,0,0,1,0\n",
    "y_test = test_df[cols_target].values  # 0,0,1,0,0,1,0\n",
    "\n",
    "\n",
    "x_train_torch = torch.tensor(X_train, dtype=torch.long).to(\n",
    "    device)  # bert(exercisetext)\n",
    "x_dev_torch = torch.tensor(X_dev, dtype=torch.long).to(device)\n",
    "x_test_torch = torch.tensor(X_test, dtype=torch.long).to(device)\n",
    "\n",
    "# y_train_torch = torch.tensor(np.hstack([y_train, y_aux_train]), dtype=torch.float32).to(device)\n",
    "y_train_torch = torch.tensor(y_train, dtype=torch.float).to(device)\n",
    "y_dev_torch = torch.tensor(y_dev, dtype=torch.float).to(device)\n",
    "# y_val_torch = torch.tensor(np.hstack([y_val, y_aux_val]), dtype=torch.float32).to(device)\n",
    "y_test_torch = torch.tensor(y_test, dtype=torch.float).to(device)\n",
    "\n",
    "\n",
    "train_data = TensorDataset(x_train_torch, y_train_torch)\n",
    "train_sampler = RandomSampler(train_data)\n",
    "train_dataloader = DataLoader(\n",
    "    train_data, sampler=train_sampler, batch_size=batch_size)\n",
    "\n",
    "\n",
    "# Create the DataLoader for dev set\n",
    "dev_data = TensorDataset(x_dev_torch, y_dev_torch)\n",
    "dev_sampler = RandomSampler(dev_data)\n",
    "dev_dataloader = DataLoader(\n",
    "    dev_data, sampler=dev_sampler, batch_size=batch_size)\n",
    "\n",
    "# Create the DataLoader for dev set.\n",
    "test_data = TensorDataset(x_test_torch, y_test_torch)\n",
    "test_sampler = SequentialSampler(test_data)\n",
    "test_dataloader = DataLoader(\n",
    "    test_data, sampler=test_sampler, batch_size=batch_size)\n",
    "\n",
    "adj = torch.Tensor(np.identity(num_labels))\n",
    "\n",
    "\n",
    "class Attention(nn.Module):\n",
    "    \"\"\"a Single Attention Layer\"\"\"\n",
    "\n",
    "    def __init__(self, feature_dim):\n",
    "        super(Attention, self).__init__()\n",
    "\n",
    "        self.supports_masking = True\n",
    "        self.feature_dim = feature_dim\n",
    "        weight = torch.zeros(feature_dim, 1)\n",
    "        nn.init.xavier_uniform_(weight)\n",
    "        self.weight = nn.Parameter(weight)\n",
    "\n",
    "    def forward(self, x, step_dim, mask=None):\n",
    "        feature_dim = self.feature_dim\n",
    "        eij = torch.mm(\n",
    "            x.contiguous().view(-1, feature_dim), self.weight\n",
    "        ).view(-1, step_dim)\n",
    "        eij = torch.tanh(eij)\n",
    "        a = torch.exp(eij)\n",
    "        if mask is not None:\n",
    "            a = a * mask\n",
    "        a = a / torch.sum(a, 1, keepdim=True) + 1e-10\n",
    "        weighted_input = x * torch.unsqueeze(a, -1)\n",
    "        return torch.sum(weighted_input, 1), torch.unsqueeze(a, -1)\n",
    "\n",
    "\n",
    "class GraphConvolution(nn.Module):\n",
    "    \"\"\"\n",
    "    Simple GCN layer, similar to https://arxiv.org/abs/1609.02907\n",
    "    \"\"\"\n",
    "\n",
    "    def __init__(self, in_features, out_features, bias=False):\n",
    "        super(GraphConvolution, self).__init__()\n",
    "        self.in_features = in_features\n",
    "        self.out_features = out_features\n",
    "        self.weight = Parameter(torch.Tensor(in_features, out_features))\n",
    "        if bias:\n",
    "            self.bias = Parameter(torch.Tensor(1, 1, out_features))\n",
    "        else:\n",
    "            self.register_parameter('bias', None)\n",
    "        self.reset_parameters()\n",
    "    def reset_parameters(self):\n",
    "        stdv = 1. / math.sqrt(self.weight.size(1))\n",
    "        self.weight.data.uniform_(-stdv, stdv)\n",
    "        if self.bias is not None:\n",
    "            self.bias.data.uniform_(-stdv, stdv)\n",
    "\n",
    "    def forward(self, input, adj):\n",
    "        support = torch.matmul(input, self.weight)\n",
    "        output = torch.matmul(adj, support)\n",
    "        if self.bias is not None:\n",
    "            return output + self.bias\n",
    "        else:\n",
    "            return output\n",
    "\n",
    "    def __repr__(self):\n",
    "        return self.__class__.__name__ + ' (' \\\n",
    "            + str(self.in_features) + ' -> ' \\\n",
    "            + str(self.out_features) + ')'\n",
    "\n",
    "\n",
    "class Model(nn.Module):\n",
    "    def __init__(self, hidden_size, embed_size, max_features, num_classes, max_length, emb_labels):\n",
    "        super().__init__()\n",
    "        self.embedding = nn.Embedding(max_features, embed_size)\n",
    "\n",
    "#         self.embedding_dropout = dropout.SpatialDropout(0.3)\n",
    "\n",
    "        self.lstm1 = nn.LSTM(embed_size, hidden_size,\n",
    "                             bidirectional=True, batch_first=True)\n",
    "\n",
    "        self.lstm2 = nn.LSTM(hidden_size * 2, hidden_size,\n",
    "                             bidirectional=True, batch_first=True)\n",
    "\n",
    "        self.lstm_attention = Attention(hidden_size * 2)\n",
    "        \n",
    "        self.linear1 = nn.Linear(hidden_size * 6, hidden_size * 6)\n",
    "        self.linear2 = nn.Linear(hidden_size * 6, hidden_size * 6)\n",
    "        self.linear_out = nn.Linear(hidden_size * 6, 1)\n",
    "        self.linear_aux_out = nn.Linear(hidden_size * 6, num_classes)\n",
    "        self.predict = nn.Linear(num_classes, num_classes)\n",
    "        self.gc1 = GraphConvolution(hidden_size * 6, hidden_size * 6)\n",
    "        self.gc2 = GraphConvolution(hidden_size * 6, hidden_size * 6)\n",
    "        self.relu = nn.LeakyReLU(0.2)\n",
    "        self.emb_labels = emb_labels\n",
    "        \n",
    "        \n",
    "    def forward(self, x, step_len):\n",
    "        h_embedding = self.embedding(x)\n",
    "#         print(f\"h_embedding size : {h_embedding.shape}\")\n",
    "#         h_embedding = self.embedding_dropout(h_embedding)\n",
    "        h_lstm1, _ = self.lstm1(h_embedding)\n",
    "#         print(f\"lstm1 size : {h_lstm1.shape}\")\n",
    "        h_lstm2, _ = self.lstm2(h_lstm1)\n",
    "#         print(f\"lstm2 size : {h_lstm2.shape}\")\n",
    "        # Attention layer\n",
    "        h_lstm_atten, weights = self.lstm_attention(h_lstm2, max_length)\n",
    "#         print(f\"h_lstm , w sizes : {h_lstm_atten.shape}, {weights.shape}\")\n",
    "        # global average pooling\n",
    "        avg_pool = torch.mean(h_lstm2, 1)\n",
    "#         print(f\"avg pool : {avg_pool.shape}\")\n",
    "        # global max pooling\n",
    "        max_pool, _ = torch.max(h_lstm2, 1)\n",
    "#         print(f\"max pool : {max_pool.shape}\")\n",
    "        h_conc = torch.cat((h_lstm_atten, max_pool, avg_pool), 1)\n",
    "#         print(f\"h_conc : {h_conc.shape}\")\n",
    "        h_conc_linear1 = F.relu(self.linear1(h_conc))\n",
    "#         print(f\"h_conc_linear1 : {h_conc_linear1.shape}\")\n",
    "        h_conc_linear2 = F.relu(self.linear2(h_conc))\n",
    "#         print(f\"h_conc_linear2 : {h_conc_linear2.shape}\")\n",
    "        l_embedding = self.embedding(self.emb_labels)\n",
    "#         print(f\"h_embedding size : {h_embedding.shape}\")\n",
    "#         h_embedding = self.embedding_dropout(h_embedding)\n",
    "        l_lstm1, _ = self.lstm1(l_embedding)\n",
    "#         print(f\"lstm1 size : {h_lstm1.shape}\")\n",
    "        l_lstm2, _ = self.lstm2(l_lstm1)\n",
    "#         print(f\"lstm2 size : {h_lstm2.shape}\")\n",
    "        # Attention layer\n",
    "        l_lstm_atten, l_weights = self.lstm_attention(l_lstm2, max_length)\n",
    "#         print(f\"h_lstm , w sizes : {h_lstm_atten.shape}, {weights.shape}\")\n",
    "        # global average pooling\n",
    "        l_avg_pool = torch.mean(l_lstm2, 1)\n",
    "#         print(f\"avg pool : {avg_pool.shape}\")\n",
    "        # global max pooling\n",
    "        l_max_pool, _ = torch.max(l_lstm2, 1)\n",
    "#         print(f\"max pool : {max_pool.shape}\")\n",
    "        l_conc = torch.cat((l_lstm_atten, l_max_pool, l_avg_pool), 1)\n",
    "#         print(f\"h_conc : {h_conc.shape}\")\n",
    "        l_conc_linear1 = F.relu(self.linear1(l_conc))\n",
    "#         print(f\"h_conc_linear1 : {h_conc_linear1.shape}\")\n",
    "        l_conc_linear2 = F.relu(self.linear2(l_conc))\n",
    "#         print(f\"h_conc_linear2 : {h_conc_linear2.shape}\")\n",
    "        hidden = h_conc + h_conc_linear1 + h_conc_linear2\n",
    "        l_hidden = l_conc + l_conc_linear1 + l_conc_linear2\n",
    "        result = self.linear_out(hidden)\n",
    "#         print(f\"result : {result.shape}\")\n",
    "        #aux_result = self.linear_aux_out(hidden)\n",
    "        norm_hidden = hidden / hidden.norm(dim=-1, keepdim=True)\n",
    "        norm_lhidden = l_hidden / l_hidden.norm(dim=-1, keepdim=True)\n",
    "        \n",
    "        x = self.gc1(norm_lhidden, adj) \n",
    "        x = self.relu(x)\n",
    "        x = self.gc2(x, adj)\n",
    "        \n",
    "#         label_rep = self.graph(self.emb_labels)\n",
    "        aux_result = torch.matmul(norm_hidden, x.transpose(0, 1))\n",
    "#         print(f\"aux_result : {aux_result.shape}\")\n",
    "#         out = torch.cat([result, aux_result], 1)\n",
    "#         print(f\"out : {out.shape}\")\n",
    "#         return out, weights\n",
    "        #aux_result = F.leaky_relu(self.predict(aux_result))\n",
    "        return aux_result, weights\n",
    "\n",
    "\n",
    "def train_model(model, loss_fn, lr=0.001, batch_size=32, n_epochs=10, max_length=64):\n",
    "    param_lrs = [{'params': param, 'lr': lr} for param in model.parameters()]\n",
    "    optimizer = torch.optim.Adam(param_lrs, lr=lr)\n",
    "    scheduler = torch.optim.lr_scheduler.LambdaLR(\n",
    "        optimizer, lambda epoch: 0.6 ** epoch)\n",
    "\n",
    "    training_loss = []\n",
    "    validation_loss = []\n",
    "    training_acc = []\n",
    "    validation_acc = []\n",
    "    best_loss = float(\"inf\")\n",
    "    \n",
    "    for epoch in range(n_epochs):\n",
    "        start_time = time.time()\n",
    "        training_res = []\n",
    "        validataion_res = []\n",
    "        model.train()\n",
    "        avg_loss = 0\n",
    "        y_train_preds = []\n",
    "        y_train_batchs = []\n",
    "        y_valid_preds = []\n",
    "        y_valid_batchs = []\n",
    "        for data in tqdm(train_dataloader, disable=False):\n",
    "            x_batch = data[:-1]\n",
    "            y_batch = data[-1]\n",
    "            y_batch_labels = y_batch.detach().cpu().numpy()\n",
    "#             if y_trues.shape[0] == 1:\n",
    "#                 y_trues = y_batch_labels\n",
    "#             else:\n",
    "#                 print(y_trues, y_batch_labels)\n",
    "#                 y_trues = np.concatenate(y_trues, np.array(y_batch_labels))\n",
    "            y_train_batchs += y_batch_labels.tolist()\n",
    "            y_pred, _ = model(*x_batch, max_length)\n",
    "            y_pred_labels = (torch.sigmoid(\n",
    "                y_pred).detach().cpu().numpy() > 0.5)\n",
    "            \n",
    "#             if y_preds.shape[0] == 1:\n",
    "#                 y_preds = y_pred_labels\n",
    "#             else:\n",
    "#                 y_preds = np.concatenate(y_preds, y_pred_labels)\n",
    "            \n",
    "            y_train_preds += y_pred_labels.tolist()\n",
    "            loss = nn.BCEWithLogitsLoss()(y_pred, y_batch)\n",
    "            optimizer.zero_grad()\n",
    "            loss.backward()\n",
    "            optimizer.step()\n",
    "            avg_loss += loss.item() / len(train_dataloader)\n",
    "        training_acc.append(accuracy_score(y_train_batchs,y_train_preds))\n",
    "        training_loss.append(avg_loss)\n",
    "        model.eval()\n",
    "        print(f'... Validating ... ')\n",
    "        avg_val_loss = 0\n",
    "        for val_data in tqdm(dev_dataloader, disable=False):\n",
    "            x_batch = val_data[:-1]\n",
    "            y_batch = val_data[-1]\n",
    "            y_batch_labels = y_batch.detach().cpu().numpy()\n",
    "            y_valid_batchs+=y_batch_labels.tolist()\n",
    "#             if y_trues_v.shape[0] == 1:\n",
    "#                 y_trues_v = y_batch_labels\n",
    "#             else:\n",
    "#                 y_trues_v = np.concatenate(y_trues_v, y_batch_labels)\n",
    "            y_pred, _ = model(*x_batch, max_length)\n",
    "            y_pred_labels = (torch.sigmoid(\n",
    "                y_pred).detach().cpu().numpy() > 0.5)\n",
    "            y_valid_preds+=y_pred_labels.tolist()\n",
    "#             if y_preds_v.shape[0] == 1:\n",
    "#                 y_preds_v = y_pred_labels\n",
    "#             else:\n",
    "#                 y_preds_v = np.concatenate(y_preds_v, y_pred_labels)\n",
    "            \n",
    "            val_loss = nn.BCEWithLogitsLoss()(y_pred, y_batch)\n",
    "            avg_val_loss += val_loss.item() / len(dev_dataloader)\n",
    "        validation_acc.append(accuracy_score(y_true,y_pred))\n",
    "        elapsed_time = time.time() - start_time\n",
    "        validation_loss.append(avg_val_loss)\n",
    "        if avg_val_loss < best_loss:\n",
    "            print('saving the best model so far')\n",
    "            best_loss = avg_val_loss\n",
    "            torch.save(model.state_dict(), model_path)\n",
    "        print(f'Epoch {epoch + 1}/{n_epochs}\\t training_loss={avg_loss:.4f} \\t validation_loss={avg_val_loss: 4f} \\t time={elapsed_time:.2f}s')\n",
    "        scheduler.step()\n",
    "    return training_loss, validation_loss, training_acc, validation_acc\n",
    "\n",
    "\n",
    "def evaluate(model):\n",
    "    # Create the DataLoader for dev set.\n",
    "    model.eval()\n",
    "    preds = np.zeros((1, num_labels))\n",
    "    with torch.no_grad():\n",
    "        for tst_data in tqdm(test_dataloader, disable=False):\n",
    "            x_batch = tst_data[:-1]\n",
    "            y_batch_labels = tst_data[-1].detach().cpu().numpy().tolist()\n",
    "\n",
    "            y_pred, _ = model(*x_batch, max_length)\n",
    "\n",
    "            y_pred_labels = (torch.sigmoid(\n",
    "                y_pred).detach().cpu().numpy() > 0.5)\n",
    "\n",
    "            correct_labels = (y_pred_labels == y_batch_labels)\n",
    "            preds += correct_labels.sum(axis=0)\n",
    "\n",
    "    return preds\n",
    "\n",
    "\n"
   ]
  },
  {
   "cell_type": "code",
   "execution_count": 5,
   "metadata": {},
   "outputs": [
    {
     "data": {
      "text/plain": [
       "Model(\n",
       "  (embedding): Embedding(21128, 100)\n",
       "  (lstm1): LSTM(100, 128, batch_first=True, bidirectional=True)\n",
       "  (lstm2): LSTM(256, 128, batch_first=True, bidirectional=True)\n",
       "  (lstm_attention): Attention()\n",
       "  (linear1): Linear(in_features=768, out_features=768, bias=True)\n",
       "  (linear2): Linear(in_features=768, out_features=768, bias=True)\n",
       "  (linear_out): Linear(in_features=768, out_features=1, bias=True)\n",
       "  (linear_aux_out): Linear(in_features=768, out_features=7, bias=True)\n",
       "  (predict): Linear(in_features=7, out_features=7, bias=True)\n",
       "  (gc1): GraphConvolution (768 -> 768)\n",
       "  (gc2): GraphConvolution (768 -> 768)\n",
       "  (relu): LeakyReLU(negative_slope=0.2)\n",
       ")"
      ]
     },
     "execution_count": 5,
     "metadata": {},
     "output_type": "execute_result"
    }
   ],
   "source": [
    "model = Model(hidden_size=hidden_size,\n",
    "              embed_size=embed_size,\n",
    "              max_features=tokenizer.vocab_size,\n",
    "              num_classes=num_labels,\n",
    "              max_length=max_length, emb_labels=klabels_bemb)\n",
    "model.to(device)"
   ]
  },
  {
   "cell_type": "code",
   "execution_count": null,
   "metadata": {},
   "outputs": [
    {
     "name": "stderr",
     "output_type": "stream",
     "text": [
      " 39%|███▉      | 33/84 [00:16<00:25,  2.04it/s]"
     ]
    }
   ],
   "source": [
    "trainloss, vloss, training_acc, validation_acc = train_model(model=model, loss_fn=None, lr=lr, batch_size=batch_size,\n",
    "            n_epochs=n_epochs, max_length=max_length)"
   ]
  },
  {
   "cell_type": "code",
   "execution_count": 96,
   "metadata": {},
   "outputs": [
    {
     "name": "stderr",
     "output_type": "stream",
     "text": [
      "100%|██████████| 31/31 [00:03<00:00,  7.78it/s]"
     ]
    },
    {
     "name": "stdout",
     "output_type": "stream",
     "text": [
      "三角函数 accuracy is 99.09%\n",
      "函数奇偶性 accuracy is 97.88%\n",
      "导数 accuracy is 96.67%\n",
      "平面向量 accuracy is 98.08%\n",
      "数列 accuracy is 98.99%\n",
      "逻辑与命题关系 accuracy is 97.08%\n",
      "集合 accuracy is 98.19%\n"
     ]
    },
    {
     "name": "stderr",
     "output_type": "stream",
     "text": [
      "\n"
     ]
    },
    {
     "data": {
      "text/plain": [
       "array([[983., 971., 959., 973., 982., 963., 974.]])"
      ]
     },
     "execution_count": 96,
     "metadata": {},
     "output_type": "execute_result"
    }
   ],
   "source": [
    "true_positives = evaluate(model)\n",
    "for i, acc in enumerate((true_positives / test_df.shape[0])[0]):\n",
    "    print(f\"{cols_target[i]} accuracy is {acc*100:.2f}%\")\n",
    "true_positives"
   ]
  },
  {
   "cell_type": "code",
   "execution_count": 98,
   "metadata": {},
   "outputs": [
    {
     "data": {
      "text/plain": [
       "([0.42627357762484325,\n",
       "  0.297628039937644,\n",
       "  0.13314969651401046,\n",
       "  0.0734660349498015,\n",
       "  0.049124670492130394,\n",
       "  0.037398068799770305,\n",
       "  0.03172073359712071,\n",
       "  0.028732684512977447,\n",
       "  0.027266445070771236,\n",
       "  0.0263090617123193,\n",
       "  0.02564253972931987,\n",
       "  0.025243539124771598,\n",
       "  0.025030379139241717,\n",
       "  0.024941758790408212,\n",
       "  0.02483383718589765,\n",
       "  0.024786854794781116,\n",
       "  0.024807432605441486,\n",
       "  0.024847910223927884,\n",
       "  0.024726036897239588,\n",
       "  0.024774970065447544],\n",
       " [0.395373621582985,\n",
       "  0.19727438390254973,\n",
       "  0.1190689068287611,\n",
       "  0.07777947913855314,\n",
       "  0.062275144085288045,\n",
       "  0.05704244095832109,\n",
       "  0.05680240979418158,\n",
       "  0.05833830414339901,\n",
       "  0.05846514152362943,\n",
       "  0.05130529329180717,\n",
       "  0.05333668347448111,\n",
       "  0.05525204120203853,\n",
       "  0.05882680155336857,\n",
       "  0.058162296935915944,\n",
       "  0.050716940825805065,\n",
       "  0.051301135774701835,\n",
       "  0.053434491390362375,\n",
       "  0.05438769347965717,\n",
       "  0.06134125711396336,\n",
       "  0.058968999236822126])"
      ]
     },
     "execution_count": 98,
     "metadata": {},
     "output_type": "execute_result"
    }
   ],
   "source": [
    "trainloss,vloss"
   ]
  },
  {
   "cell_type": "code",
   "execution_count": 101,
   "metadata": {},
   "outputs": [
    {
     "data": {
      "text/plain": [
       "992"
      ]
     },
     "execution_count": 101,
     "metadata": {},
     "output_type": "execute_result"
    }
   ],
   "source": [
    "test_df.shape[0]"
   ]
  },
  {
   "cell_type": "code",
   "execution_count": null,
   "metadata": {},
   "outputs": [],
   "source": []
  },
  {
   "cell_type": "code",
   "execution_count": null,
   "metadata": {},
   "outputs": [],
   "source": []
  },
  {
   "cell_type": "code",
   "execution_count": 51,
   "metadata": {},
   "outputs": [],
   "source": [
    "max_length = 64\n",
    "hidden_size=128\n",
    "tokenizer = None\n",
    "batch_size = 32\n",
    "n_epochs = 4\n",
    "embed_size = 100\n",
    "lr = 0.001\n",
    "model_path = \"BiLSTM.pt\"\n",
    "use_gpu = True\n",
    "dev_size = int(train_df.shape[0] * 0.10)"
   ]
  },
  {
   "cell_type": "code",
   "execution_count": 52,
   "metadata": {},
   "outputs": [],
   "source": [
    "device =  torch.device('cuda' if torch.cuda.is_available() and use_gpu else 'cpu')"
   ]
  },
  {
   "cell_type": "code",
   "execution_count": 11,
   "metadata": {},
   "outputs": [],
   "source": [
    "class Attention(nn.Module):\n",
    "    \"\"\"a Single Attention Layer\"\"\"\n",
    "    def __init__(self, feature_dim):\n",
    "        super(Attention, self).__init__()\n",
    "        \n",
    "        self.supports_masking = True\n",
    "        self.feature_dim = feature_dim\n",
    "        weight = torch.zeros(feature_dim, 1)\n",
    "        nn.init.xavier_uniform_(weight)\n",
    "        self.weight = nn.Parameter(weight)\n",
    "    \n",
    "    def forward(self, x, step_dim, mask=None):\n",
    "        feature_dim = self.feature_dim\n",
    "        eij = torch.mm(\n",
    "            x.contiguous().view(-1, feature_dim), self.weight\n",
    "        ).view(-1, step_dim)\n",
    "        eij = torch.tanh(eij)\n",
    "        a = torch.exp(eij)\n",
    "        if mask is not None:\n",
    "            a = a * mask\n",
    "        a = a / torch.sum(a, 1, keepdim=True) + 1e-10\n",
    "        weighted_input = x * torch.unsqueeze(a, -1)\n",
    "        return torch.sum(weighted_input, 1), torch.unsqueeze(a, -1)\n",
    "\n",
    "\n",
    "class BiLSTMWithAttention(nn.Module):\n",
    "    \"\"\"the BiLSTM model refer to the image above to understand the structure of the model\"\"\"\n",
    "    def __init__(self,hidden_size,embed_size,max_features,num_classes,max_length):\n",
    "        super().__init__()\n",
    "        self.embedding = nn.Embedding(max_features, embed_size)\n",
    "        \n",
    "#         self.embedding_dropout = dropout.SpatialDropout(0.3)\n",
    "        \n",
    "        self.lstm1 = nn.LSTM(embed_size, hidden_size, bidirectional=True, batch_first=True)\n",
    "        \n",
    "        self.lstm2 = nn.LSTM(hidden_size * 2, hidden_size, bidirectional=True, batch_first=True)\n",
    "        \n",
    "        self.lstm_attention = Attention(hidden_size * 2)\n",
    "        \n",
    "        self.linear1 = nn.Linear(768, 768)\n",
    "        self.linear2 = nn.Linear(768, 768)\n",
    "        \n",
    "        self.linear_out = nn.Linear(768, 1)\n",
    "        self.linear_aux_out = nn.Linear(768, num_classes)\n",
    "    \n",
    "    def forward(self, x, step_len):\n",
    "        h_embedding = self.embedding(x)\n",
    "#         print(f\"h_emdedding size : {h_embedding.shape}\")\n",
    "#         h_embedding = self.embedding_dropout(h_embedding)\n",
    "        h_lstm1, _ = self.lstm1(h_embedding)\n",
    "#         print(f\"lstm1 size : {h_lstm1.shape}\")\n",
    "        h_lstm2, _ = self.lstm2(h_lstm1)\n",
    "#         print(f\"lstm2 size : {h_lstm2.shape}\")\n",
    "        #Attention layer\n",
    "        h_lstm_atten, weights = self.lstm_attention(h_lstm2, max_length)\n",
    "#         print(f\"h_lstm , w sizes : {h_lstm_atten.shape}, {weights.shape}\")\n",
    "        # global average pooling\n",
    "        avg_pool = torch.mean(h_lstm2, 1)\n",
    "#         print(f\"avg pool : {avg_pool.shape}\")\n",
    "        # global max pooling\n",
    "        max_pool, _ = torch.max(h_lstm2, 1)\n",
    "#         print(f\"max pool : {max_pool.shape}\")\n",
    "        h_conc = torch.cat((h_lstm_atten, max_pool, avg_pool), 1)\n",
    "#         print(f\"h_conc : {h_conc.shape}\")\n",
    "        h_conc_linear1 = F.relu(self.linear1(h_conc))\n",
    "#         print(f\"h_conc_linear1 : {h_conc_linear1.shape}\")\n",
    "        h_conc_linear2 = F.relu(self.linear2(h_conc))\n",
    "#         print(f\"h_conc_linear2 : {h_conc_linear2.shape}\")\n",
    "        \n",
    "        hidden = h_conc + h_conc_linear1 + h_conc_linear2\n",
    "        result = self.linear_out(hidden)\n",
    "#         print(f\"result : {result.shape}\")\n",
    "        aux_result = self.linear_aux_out(hidden)\n",
    "#         print(f\"aux_result : {aux_result.shape}\")\n",
    "#         out = torch.cat([result, aux_result], 1)\n",
    "#         print(f\"out : {out.shape}\")\n",
    "#         return out, weights\n",
    "        return aux_result, weights"
   ]
  },
  {
   "cell_type": "code",
   "execution_count": 70,
   "metadata": {},
   "outputs": [
    {
     "data": {
      "text/plain": [
       "BiLSTMWithAttention(\n",
       "  (embedding): Embedding(21128, 100)\n",
       "  (lstm1): LSTM(100, 128, batch_first=True, bidirectional=True)\n",
       "  (lstm2): LSTM(256, 128, batch_first=True, bidirectional=True)\n",
       "  (lstm_attention): Attention()\n",
       "  (linear1): Linear(in_features=768, out_features=768, bias=True)\n",
       "  (linear2): Linear(in_features=768, out_features=768, bias=True)\n",
       "  (linear_out): Linear(in_features=768, out_features=1, bias=True)\n",
       "  (linear_aux_out): Linear(in_features=768, out_features=7, bias=True)\n",
       ")"
      ]
     },
     "execution_count": 70,
     "metadata": {},
     "output_type": "execute_result"
    }
   ],
   "source": [
    "model = BiLSTMWithAttention(hidden_size=hidden_size,\n",
    "                            embed_size=embed_size,\n",
    "                            max_features=tokenizer.vocab_size,\n",
    "                            num_classes=7,\n",
    "                            max_length=max_length)\n",
    "model.to(device)"
   ]
  },
  {
   "cell_type": "code",
   "execution_count": 71,
   "metadata": {},
   "outputs": [
    {
     "name": "stderr",
     "output_type": "stream",
     "text": [
      "100%|██████████| 84/84 [00:15<00:00,  5.54it/s]\n",
      " 20%|██        | 2/10 [00:00<00:00, 15.42it/s]"
     ]
    },
    {
     "name": "stdout",
     "output_type": "stream",
     "text": [
      "... Validating ... \n"
     ]
    },
    {
     "name": "stderr",
     "output_type": "stream",
     "text": [
      "100%|██████████| 10/10 [00:00<00:00, 15.81it/s]\n",
      "  1%|          | 1/84 [00:00<00:14,  5.61it/s]"
     ]
    },
    {
     "name": "stdout",
     "output_type": "stream",
     "text": [
      "saving the best model so far\n",
      "Epoch 1/4\t training_loss=0.2513 \t validation_loss= 0.097591 \t time=15.80s\n"
     ]
    },
    {
     "name": "stderr",
     "output_type": "stream",
     "text": [
      "100%|██████████| 84/84 [00:14<00:00,  5.67it/s]\n",
      " 20%|██        | 2/10 [00:00<00:00, 14.87it/s]"
     ]
    },
    {
     "name": "stdout",
     "output_type": "stream",
     "text": [
      "... Validating ... \n"
     ]
    },
    {
     "name": "stderr",
     "output_type": "stream",
     "text": [
      "100%|██████████| 10/10 [00:00<00:00, 15.52it/s]\n",
      "  1%|          | 1/84 [00:00<00:14,  5.64it/s]"
     ]
    },
    {
     "name": "stdout",
     "output_type": "stream",
     "text": [
      "saving the best model so far\n",
      "Epoch 2/4\t training_loss=0.0820 \t validation_loss= 0.071094 \t time=15.47s\n"
     ]
    },
    {
     "name": "stderr",
     "output_type": "stream",
     "text": [
      "100%|██████████| 84/84 [00:14<00:00,  5.72it/s]\n",
      " 20%|██        | 2/10 [00:00<00:00, 15.63it/s]"
     ]
    },
    {
     "name": "stdout",
     "output_type": "stream",
     "text": [
      "... Validating ... \n"
     ]
    },
    {
     "name": "stderr",
     "output_type": "stream",
     "text": [
      "100%|██████████| 10/10 [00:00<00:00, 15.81it/s]\n",
      "  1%|          | 1/84 [00:00<00:15,  5.45it/s]"
     ]
    },
    {
     "name": "stdout",
     "output_type": "stream",
     "text": [
      "saving the best model so far\n",
      "Epoch 3/4\t training_loss=0.0549 \t validation_loss= 0.057126 \t time=15.32s\n"
     ]
    },
    {
     "name": "stderr",
     "output_type": "stream",
     "text": [
      "100%|██████████| 84/84 [00:14<00:00,  5.71it/s]\n",
      " 20%|██        | 2/10 [00:00<00:00, 15.40it/s]"
     ]
    },
    {
     "name": "stdout",
     "output_type": "stream",
     "text": [
      "... Validating ... \n"
     ]
    },
    {
     "name": "stderr",
     "output_type": "stream",
     "text": [
      "100%|██████████| 10/10 [00:00<00:00, 15.69it/s]"
     ]
    },
    {
     "name": "stdout",
     "output_type": "stream",
     "text": [
      "saving the best model so far\n",
      "Epoch 4/4\t training_loss=0.0426 \t validation_loss= 0.051020 \t time=15.34s\n"
     ]
    },
    {
     "name": "stderr",
     "output_type": "stream",
     "text": [
      "\n"
     ]
    },
    {
     "data": {
      "text/plain": [
       "([0.25129528024366926,\n",
       "  0.08195574215746348,\n",
       "  0.05493472683953032,\n",
       "  0.04263642068863624],\n",
       " [0.09759082719683648,\n",
       "  0.07109448350965976,\n",
       "  0.0571255943737924,\n",
       "  0.05102044665254652])"
      ]
     },
     "execution_count": 71,
     "metadata": {},
     "output_type": "execute_result"
    }
   ],
   "source": [
    "train_model(model=model,loss_fn=None,lr=lr,batch_size=batch_size,n_epochs=n_epochs,max_length=max_length)"
   ]
  },
  {
   "cell_type": "code",
   "execution_count": 74,
   "metadata": {},
   "outputs": [
    {
     "name": "stderr",
     "output_type": "stream",
     "text": [
      "100%|██████████| 31/31 [00:01<00:00, 22.03it/s]\n"
     ]
    }
   ],
   "source": [
    "true_positives = evaluate(model)"
   ]
  },
  {
   "cell_type": "code",
   "execution_count": 75,
   "metadata": {},
   "outputs": [
    {
     "name": "stdout",
     "output_type": "stream",
     "text": [
      "三角函数 accuracy is 97.08%\n",
      "函数奇偶性 accuracy is 98.08%\n",
      "导数 accuracy is 95.77%\n",
      "平面向量 accuracy is 97.88%\n",
      "数列 accuracy is 98.79%\n",
      "逻辑与命题关系 accuracy is 97.58%\n",
      "集合 accuracy is 98.29%\n"
     ]
    }
   ],
   "source": [
    "for i,acc in enumerate((true_positives / test_df.shape[0])[0]):\n",
    "    print(f\"{cols_target[i]} accuracy is {acc*100:.2f}%\")"
   ]
  },
  {
   "cell_type": "code",
   "execution_count": 213,
   "metadata": {},
   "outputs": [
    {
     "data": {
      "text/plain": [
       "Model(\n",
       "  (embedding): Embedding(21128, 100)\n",
       "  (lstm1): LSTM(100, 128, batch_first=True, bidirectional=True)\n",
       "  (lstm2): LSTM(256, 128, batch_first=True, bidirectional=True)\n",
       "  (lstm_attention): Attention()\n",
       "  (linear1): Linear(in_features=768, out_features=768, bias=True)\n",
       "  (linear2): Linear(in_features=768, out_features=768, bias=True)\n",
       "  (linear_out): Linear(in_features=768, out_features=1, bias=True)\n",
       "  (linear_aux_out): Linear(in_features=768, out_features=7, bias=True)\n",
       "  (graph): GraphConvolution (256 -> 768)\n",
       ")"
      ]
     },
     "execution_count": 213,
     "metadata": {},
     "output_type": "execute_result"
    }
   ],
   "source": [
    "model2 = Model(hidden_size=hidden_size,\n",
    "                            embed_size=embed_size,\n",
    "                            max_features=tokenizer.vocab_size,\n",
    "                            num_classes=7,\n",
    "                            max_length=max_length, emb_labels=labels_bemb)\n",
    "model2.to(device)"
   ]
  },
  {
   "cell_type": "code",
   "execution_count": null,
   "metadata": {},
   "outputs": [
    {
     "name": "stderr",
     "output_type": "stream",
     "text": [
      " 39%|███▉      | 33/84 [00:30<00:47,  1.08it/s]"
     ]
    }
   ],
   "source": [
    "train_model(model=model2,loss_fn=None,lr=lr,batch_size=batch_size,n_epochs=n_epochs,max_length=max_length)"
   ]
  },
  {
   "cell_type": "code",
   "execution_count": 205,
   "metadata": {},
   "outputs": [
    {
     "name": "stderr",
     "output_type": "stream",
     "text": [
      "100%|██████████| 31/31 [00:02<00:00, 15.11it/s]\n"
     ]
    }
   ],
   "source": [
    "true_positives = evaluate(model2)"
   ]
  },
  {
   "cell_type": "code",
   "execution_count": null,
   "metadata": {},
   "outputs": [],
   "source": []
  },
  {
   "cell_type": "code",
   "execution_count": 206,
   "metadata": {},
   "outputs": [
    {
     "name": "stdout",
     "output_type": "stream",
     "text": [
      "三角函数 accuracy is 96.88%\n",
      "函数奇偶性 accuracy is 81.15%\n",
      "导数 accuracy is 75.10%\n",
      "平面向量 accuracy is 79.44%\n",
      "数列 accuracy is 75.50%\n",
      "逻辑与命题关系 accuracy is 81.85%\n",
      "集合 accuracy is 95.46%\n"
     ]
    }
   ],
   "source": [
    "for i,acc in enumerate((true_positives / test_df.shape[0])[0]):\n",
    "    print(f\"{cols_target[i]} accuracy is {acc*100:.2f}%\")"
   ]
  },
  {
   "cell_type": "code",
   "execution_count": 27,
   "metadata": {},
   "outputs": [],
   "source": [
    "max_length = 64\n",
    "hidden_size = 128\n",
    "tokenizer = None\n",
    "batch_size = 32\n",
    "n_epochs = 10\n",
    "embed_size = 100\n",
    "lr = 0.001\n",
    "model_path = \"BiLSTM.pt\"\n",
    "use_gpu = True\n",
    "num_labels = 7\n",
    "class BiLSTMWithAttention(nn.Module):\n",
    "    \"\"\"the BiLSTM model refer to the image above to understand the structure of the model\"\"\"\n",
    "\n",
    "    def __init__(self, hidden_size, embed_size, max_features, num_classes, max_length):\n",
    "        super().__init__()\n",
    "        self.embedding = nn.Embedding(max_features, embed_size)\n",
    "\n",
    "#         self.embedding_dropout = dropout.SpatialDropout(0.3)\n",
    "\n",
    "        self.lstm1 = nn.LSTM(embed_size, hidden_size,\n",
    "                             bidirectional=True, batch_first=True)\n",
    "\n",
    "        # self.lstm2 = nn.LSTM(hidden_size * 2, hidden_size,\n",
    "        #                      bidirectional=True, batch_first=True)\n",
    "\n",
    "        self.lstm_attention = Attention(hidden_size * 2)\n",
    "\n",
    "        self.linear1 = nn.Linear(hidden_size * 6, hidden_size * 6)\n",
    "        # self.linear2 = nn.Linear(768, 768)\n",
    "\n",
    "        self.linear_out = nn.Linear(hidden_size * 6, 1)\n",
    "        self.linear_aux_out = nn.Linear(hidden_size * 6, num_classes)\n",
    "\n",
    "    def forward(self, x, step_len):\n",
    "        h_embedding = self.embedding(x)\n",
    "#         print(f\"h_emdedding size : {h_embedding.shape}\")\n",
    "#         h_embedding = self.embedding_dropout(h_embedding)\n",
    "        h_lstm1, _ = self.lstm1(h_embedding)\n",
    "#         print(f\"lstm1 size : {h_lstm1.shape}\")\n",
    "        #h_lstm2, _ = self.lstm2(h_lstm1)\n",
    "#         print(f\"lstm2 size : {h_lstm2.shape}\")\n",
    "        # Attention layer\n",
    "        h_lstm_atten, weights = self.lstm_attention(h_lstm1, max_length)\n",
    "#         print(f\"h_lstm , w sizes : {h_lstm_atten.shape}, {weights.shape}\")\n",
    "        # global average pooling\n",
    "        avg_pool = torch.mean(h_lstm1, 1)\n",
    "#         print(f\"avg pool : {avg_pool.shape}\")\n",
    "        # global max pooling\n",
    "        max_pool, _ = torch.max(h_lstm1, 1)\n",
    "#         print(f\"max pool : {max_pool.shape}\")\n",
    "        h_conc = torch.cat((h_lstm_atten, max_pool, avg_pool), 1)\n",
    "#         print(f\"h_conc : {h_conc.shape}\")\n",
    "        h_conc_linear1 = F.relu(self.linear1(h_conc))\n",
    "#         print(f\"h_conc_linear1 : {h_conc_linear1.shape}\")\n",
    "        #h_conc_linear2 = F.relu(self.linear2(h_conc))\n",
    "#         print(f\"h_conc_linear2 : {h_conc_linear2.shape}\")\n",
    "\n",
    "        hidden = h_conc + h_conc_linear1\n",
    "        result = self.linear_out(hidden)\n",
    "#         print(f\"result : {result.shape}\")\n",
    "        aux_result = self.linear_aux_out(hidden)\n",
    "#         print(f\"aux_result : {aux_result.shape}\")\n",
    "#         out = torch.cat([result, aux_result], 1)\n",
    "#         print(f\"out : {out.shape}\")\n",
    "#         return out, weights\n",
    "        return aux_result, weights"
   ]
  },
  {
   "cell_type": "code",
   "execution_count": 28,
   "metadata": {},
   "outputs": [],
   "source": [
    "\n",
    "model = BiLSTMWithAttention(hidden_size=hidden_size,\n",
    "              embed_size=embed_size,\n",
    "              max_features=tokenizer.vocab_size,\n",
    "              num_classes=num_labels,\n",
    "              max_length=max_length)"
   ]
  },
  {
   "cell_type": "code",
   "execution_count": 31,
   "metadata": {},
   "outputs": [
    {
     "name": "stderr",
     "output_type": "stream",
     "text": [
      "100%|██████████| 31/31 [00:02<00:00, 11.59it/s]"
     ]
    },
    {
     "name": "stdout",
     "output_type": "stream",
     "text": [
      "三角函数 accuracy is 98.79%\n",
      "函数奇偶性 accuracy is 98.59%\n",
      "导数 accuracy is 97.38%\n",
      "平面向量 accuracy is 99.09%\n",
      "数列 accuracy is 99.29%\n",
      "逻辑与命题关系 accuracy is 98.29%\n",
      "集合 accuracy is 99.19%\n"
     ]
    },
    {
     "name": "stderr",
     "output_type": "stream",
     "text": [
      "\n"
     ]
    }
   ],
   "source": [
    "\n",
    "true_positives = evaluate(model)\n",
    "for i, acc in enumerate((true_positives / test_df.shape[0])[0]):\n",
    "    print(f\"{cols_target[i]} accuracy is {acc*100:.2f}%\")\n"
   ]
  },
  {
   "cell_type": "code",
   "execution_count": 32,
   "metadata": {},
   "outputs": [],
   "source": [
    "def predict_user_input():\n",
    "    while True:\n",
    "        str_input = input(\"Enter a String:\")\n",
    "        if str_input == 'quit':\n",
    "            break\n",
    "        input_ids = prepare_set([str_input])\n",
    "        with torch.no_grad():\n",
    "            for target_label in cols_target:\n",
    "                single_x = torch.tensor(input_ids,dtype=torch.long).to(device)\n",
    "                single_y, attention_w = models[target_label]['model'](single_x,max_length)\n",
    "\n",
    "                ys = torch.sigmoid(single_y).detach().cpu().numpy().flatten()\n",
    "                attention_w = attention_w.detach().cpu().numpy().flatten()\n",
    "                \n",
    "                if(ys[0]>0.2):\n",
    "                    decoded_str = tokenizer.decode(*input_ids).split()\n",
    "                    attention_ids = [decoded_str.index(w) for w in decoded_str if (w != \"[CLS]\" and w != \"[SEP]\" and w != \"[PAD]\")]\n",
    "\n",
    "                    highlighted_str = []\n",
    "\n",
    "                    max_atten = max(attention_w[attention_ids])\n",
    "                    min_atten = min(attention_w[attention_ids])\n",
    "\n",
    "\n",
    "\n",
    "                    for _id in attention_ids:\n",
    "\n",
    "                        color_shade = math.floor(((max_atten-attention_w[_id])/(max_atten-min_atten))*7)\n",
    "                        token_rgb_color = rgb_color_shades[target_label][color_shade]\n",
    "\n",
    "                        highlighted_str.append(decoded_str[_id])\n",
    "\n",
    "                    print(f\"label {target_label} : {ys[0]*100:.2f}%\")\n",
    "                    print(f\"String after attention and multi-label classification: {' '.join(highlighted_str)}\")"
   ]
  },
  {
   "cell_type": "code",
   "execution_count": 112,
   "metadata": {},
   "outputs": [
    {
     "data": {
      "image/png": "[encoded data removed]",
      "text/plain": [
       "<Figure size 432x288 with 1 Axes>"
      ]
     },
     "metadata": {
      "needs_background": "light"
     },
     "output_type": "display_data"
    },
    {
     "data": {
      "image/png": "[encoded data removed]",
      "text/plain": [
       "<Figure size 2400x1600 with 1 Axes>"
      ]
     },
     "metadata": {
      "needs_background": "light"
     },
     "output_type": "display_data"
    }
   ],
   "source": [
    "from matplotlib.pyplot import MultipleLocator\n",
    "ax=plt.gca()\n",
    "\n",
    "plt.figure(dpi=400)\n",
    "#plt.plot(range(200), loss, label=\"training loss\")\n",
    "plt.plot(trainloss, label=\"training loss\")\n",
    "plt.plot(vloss, label=\"validation loss\")\n",
    "# plt.plot(range(20), vauc, label=\"validate AUC\")\n",
    "# plt.plot(range(20), vacc, label=\"validate accuracy\")\n",
    "#plt.title(\"Training Process\")\n",
    "plt.xlabel(\"Epoch\")\n",
    "plt.ylabel(\"\")\n",
    "plt.legend()\n",
    "plt.xticks(range(0,20))\n",
    "\n",
    "\n",
    "x_major_locator=MultipleLocator(1)\n",
    "ax.xaxis.set_major_locator(x_major_locator)\n",
    "\n",
    "plt.show()"
   ]
  },
  {
   "cell_type": "code",
   "execution_count": 58,
   "metadata": {},
   "outputs": [
    {
     "name": "stdout",
     "output_type": "stream",
     "text": [
      "preprocessing training data...\n",
      "preprocessing training data...\n",
      "preprocessing test data...\n"
     ]
    }
   ],
   "source": [
    "from sklearn.metrics import classification_report, confusion_matrix\n",
    "import time\n",
    "from torch._C import ParameterDict\n",
    "from tqdm import tqdm\n",
    "from torch.utils.data import TensorDataset, DataLoader, RandomSampler, SequentialSampler\n",
    "from transformers import PreTrainedTokenizerFast\n",
    "import torch.nn.functional as F\n",
    "import torch.nn as nn\n",
    "import torch\n",
    "import seaborn as sns\n",
    "import numpy as np\n",
    "import pandas as pd\n",
    "import re\n",
    "from torch.nn import Parameter\n",
    "import math\n",
    "from matplotlib import pyplot as plt\n",
    "from sklearn.metrics import *\n",
    "\n",
    "\n",
    "train_df = pd.read_csv('./data/train.csv')\n",
    "test_df = pd.read_csv('./data/test.csv')\n",
    "\n",
    "dev_size = int(train_df.shape[0] * 0.10)\n",
    "\n",
    "train_df_cpy = train_df[dev_size:]\n",
    "dev_df_cpy = train_df[:dev_size]\n",
    "test_df_cpy = test_df\n",
    "\n",
    "max_length = 64\n",
    "hidden_size = 128\n",
    "tokenizer = None\n",
    "batch_size = 32\n",
    "n_epochs = 20\n",
    "embed_size = 100\n",
    "lr = 0.001\n",
    "model_path = \"BiLSTM.pt\"\n",
    "use_gpu = True\n",
    "num_labels = 7\n",
    "\n",
    "tokenizer = PreTrainedTokenizerFast.from_pretrained('hfl/chinese-bert-wwm')\n",
    "tokenizer.add_special_tokens({'pad_token': '[PAD]'})\n",
    "adj = torch.Tensor(np.identity(num_labels))\n",
    "\n",
    "\n",
    "def prepare_set(dataset, max_length=max_length):\n",
    "    \"\"\"returns input_ids, input_masks, labels for set of data ready in BERT format\"\"\"\n",
    "    global tokenizer\n",
    "\n",
    "    input_ids = dataset\n",
    "#     for i in tqdm(dataset):\n",
    "#         input_ids.append(camel_case_split(i))\n",
    "    tokenized = tokenizer.batch_encode_plus(input_ids, return_token_type_ids=False, return_attention_mask=False,\n",
    "                                            pad_to_max_length=True, truncation=True, max_length=max_length)[\"input_ids\"]\n",
    "    return tokenized\n",
    "\n",
    "\n",
    "print(\"preprocessing training data...\")\n",
    "X_train = prepare_set(train_df_cpy['exercise_text'].values.tolist())\n",
    "\n",
    "print(\"preprocessing training data...\")\n",
    "X_dev = prepare_set(dev_df_cpy['exercise_text'].values.tolist())\n",
    "\n",
    "print(\"preprocessing test data...\")\n",
    "# -1 labels mean that those lines were not used for the scoring\n",
    "\n",
    "X_test = prepare_set(test_df['exercise_text'].values.tolist())\n",
    "\n",
    "cols_target = train_df.columns[1:].tolist()\n",
    "\n",
    "keywords = {\n",
    "    \"函数奇偶性\": \"奇函数偶函数奇偶\",\n",
    "    \"三角函数\": \"正弦余弦三角函数\",\n",
    "    \"逻辑与命题关系\": \"命题充分必要充要\",\n",
    "    \"集合\": \"集合并集交集子集空集韦恩图\",\n",
    "    \"导数\": \"导数切线极值单调递单调区间\",\n",
    "    \"平面向量\": \"向量\",\n",
    "    \"数列\": \"数列\"\n",
    "}\n",
    "\n",
    "kcols_target = [keywords[k] for k in cols_target]\n",
    "\n",
    "\n",
    "device = torch.device('cuda' if torch.cuda.is_available()\n",
    "                      and use_gpu else 'cpu')\n",
    "\n",
    "labels_pre = prepare_set(cols_target)\n",
    "\n",
    "labels_bemb = torch.tensor(labels_pre, dtype=torch.long).to(device)\n",
    "klabels_bemb = torch.tensor(prepare_set(\n",
    "    kcols_target), dtype=torch.long).to(device)\n",
    "\n",
    "y_train = train_df_cpy[cols_target].values  # 0,0,1,0,0,1,0\n",
    "y_dev = dev_df_cpy[cols_target].values  # 0,0,1,0,0,1,0\n",
    "y_test = test_df[cols_target].values  # 0,0,1,0,0,1,0\n",
    "\n",
    "\n",
    "x_train_torch = torch.tensor(X_train, dtype=torch.long).to(\n",
    "    device)  # bert(exercisetext)\n",
    "x_dev_torch = torch.tensor(X_dev, dtype=torch.long).to(device)\n",
    "x_test_torch = torch.tensor(X_test, dtype=torch.long).to(device)\n",
    "\n",
    "# y_train_torch = torch.tensor(np.hstack([y_train, y_aux_train]), dtype=torch.float32).to(device)\n",
    "y_train_torch = torch.tensor(y_train, dtype=torch.float).to(device)\n",
    "y_dev_torch = torch.tensor(y_dev, dtype=torch.float).to(device)\n",
    "# y_val_torch = torch.tensor(np.hstack([y_val, y_aux_val]), dtype=torch.float32).to(device)\n",
    "y_test_torch = torch.tensor(y_test, dtype=torch.float).to(device)\n",
    "\n",
    "\n",
    "train_data = TensorDataset(x_train_torch, y_train_torch)\n",
    "train_sampler = RandomSampler(train_data)\n",
    "train_dataloader = DataLoader(\n",
    "    train_data, sampler=train_sampler, batch_size=batch_size)\n",
    "\n",
    "\n",
    "# Create the DataLoader for dev set\n",
    "dev_data = TensorDataset(x_dev_torch, y_dev_torch)\n",
    "dev_sampler = RandomSampler(dev_data)\n",
    "dev_dataloader = DataLoader(\n",
    "    dev_data, sampler=dev_sampler, batch_size=batch_size)\n",
    "\n",
    "# Create the DataLoader for dev set.\n",
    "test_data = TensorDataset(x_test_torch, y_test_torch)\n",
    "test_sampler = SequentialSampler(test_data)\n",
    "test_dataloader = DataLoader(\n",
    "    test_data, sampler=test_sampler, batch_size=batch_size)\n",
    "\n",
    "adj = torch.Tensor(np.identity(num_labels))\n",
    "\n",
    "\n",
    "class Attention(nn.Module):\n",
    "    \"\"\"a Single Attention Layer\"\"\"\n",
    "\n",
    "    def __init__(self, feature_dim):\n",
    "        super(Attention, self).__init__()\n",
    "\n",
    "        self.supports_masking = True\n",
    "        self.feature_dim = feature_dim\n",
    "        weight = torch.zeros(feature_dim, 1)\n",
    "        nn.init.xavier_uniform_(weight)\n",
    "        self.weight = nn.Parameter(weight)\n",
    "\n",
    "    def forward(self, x, step_dim, mask=None):\n",
    "        feature_dim = self.feature_dim\n",
    "        eij = torch.mm(\n",
    "            x.contiguous().view(-1, feature_dim), self.weight\n",
    "        ).view(-1, step_dim)\n",
    "        eij = torch.tanh(eij)\n",
    "        a = torch.exp(eij)\n",
    "        if mask is not None:\n",
    "            a = a * mask\n",
    "        a = a / torch.sum(a, 1, keepdim=True) + 1e-10\n",
    "        weighted_input = x * torch.unsqueeze(a, -1)\n",
    "        return torch.sum(weighted_input, 1), torch.unsqueeze(a, -1)\n",
    "\n",
    "\n",
    "class GraphConvolution(nn.Module):\n",
    "    \"\"\"\n",
    "    Simple GCN layer, similar to https://arxiv.org/abs/1609.02907\n",
    "    \"\"\"\n",
    "\n",
    "    def __init__(self, in_features, out_features, bias=False):\n",
    "        super(GraphConvolution, self).__init__()\n",
    "        self.in_features = in_features\n",
    "        self.out_features = out_features\n",
    "        self.weight = Parameter(torch.Tensor(in_features, out_features))\n",
    "        if bias:\n",
    "            self.bias = Parameter(torch.Tensor(1, 1, out_features))\n",
    "        else:\n",
    "            self.register_parameter('bias', None)\n",
    "        self.reset_parameters()\n",
    "\n",
    "    def reset_parameters(self):\n",
    "        stdv = 1. / math.sqrt(self.weight.size(1))\n",
    "        self.weight.data.uniform_(-stdv, stdv)\n",
    "        if self.bias is not None:\n",
    "            self.bias.data.uniform_(-stdv, stdv)\n",
    "\n",
    "    def forward(self, input, adj):\n",
    "        support = torch.matmul(input, self.weight)\n",
    "        output = torch.matmul(adj, support)\n",
    "        if self.bias is not None:\n",
    "            return output + self.bias\n",
    "        else:\n",
    "            return output\n",
    "\n",
    "    def __repr__(self):\n",
    "        return self.__class__.__name__ + ' (' \\\n",
    "            + str(self.in_features) + ' -> ' \\\n",
    "            + str(self.out_features) + ')'\n",
    "\n",
    "\n",
    "class Model(nn.Module):\n",
    "    def __init__(self, hidden_size, embed_size, max_features, num_classes, max_length, emb_labels):\n",
    "        super().__init__()\n",
    "        self.embedding = nn.Embedding(max_features, embed_size)\n",
    "\n",
    "#         self.embedding_dropout = dropout.SpatialDropout(0.3)\n",
    "\n",
    "        self.lstm1 = nn.LSTM(embed_size, hidden_size,\n",
    "                             bidirectional=True, batch_first=True)\n",
    "\n",
    "        self.lstm2 = nn.LSTM(hidden_size * 2, hidden_size,\n",
    "                             bidirectional=True, batch_first=True)\n",
    "\n",
    "        self.lstm_attention = Attention(hidden_size * 2)\n",
    "\n",
    "        self.linear1 = nn.Linear(hidden_size * 6, hidden_size * 6)\n",
    "        self.linear2 = nn.Linear(hidden_size * 6, hidden_size * 6)\n",
    "        self.linear_out = nn.Linear(hidden_size * 6, 1)\n",
    "        self.linear_aux_out = nn.Linear(hidden_size * 6, num_classes)\n",
    "        self.predict = nn.Linear(num_classes, num_classes)\n",
    "        self.gc1 = GraphConvolution(hidden_size * 6, hidden_size * 6)\n",
    "        self.gc2 = GraphConvolution(hidden_size * 6, hidden_size * 6)\n",
    "        self.relu = nn.LeakyReLU(0.2)\n",
    "        self.emb_labels = emb_labels\n",
    "\n",
    "    def forward(self, x, step_len):\n",
    "        h_embedding = self.embedding(x)\n",
    "        print(h_embedding.shape)\n",
    "#         print(f\"h_embedding size : {h_embedding.shape}\")\n",
    "#         h_embedding = self.embedding_dropout(h_embedding)\n",
    "        h_lstm1, _ = self.lstm1(h_embedding)\n",
    "#         print(f\"lstm1 size : {h_lstm1.shape}\")\n",
    "        h_lstm2, _ = self.lstm2(h_lstm1)\n",
    "#         print(f\"lstm2 size : {h_lstm2.shape}\")\n",
    "        # Attention layer\n",
    "        h_lstm_atten, weights = self.lstm_attention(h_lstm2, max_length)\n",
    "#         print(f\"h_lstm , w sizes : {h_lstm_atten.shape}, {weights.shape}\")\n",
    "        # global average pooling\n",
    "        avg_pool = torch.mean(h_lstm2, 1)\n",
    "#         print(f\"avg pool : {avg_pool.shape}\")\n",
    "        # global max pooling\n",
    "        max_pool, _ = torch.max(h_lstm2, 1)\n",
    "#         print(f\"max pool : {max_pool.shape}\")\n",
    "        h_conc = torch.cat((h_lstm_atten, max_pool, avg_pool), 1)\n",
    "#         print(f\"h_conc : {h_conc.shape}\")\n",
    "        h_conc_linear1 = F.relu(self.linear1(h_conc))\n",
    "#         print(f\"h_conc_linear1 : {h_conc_linear1.shape}\")\n",
    "        h_conc_linear2 = F.relu(self.linear2(h_conc))\n",
    "#         print(f\"h_conc_linear2 : {h_conc_linear2.shape}\")\n",
    "        l_embedding = self.embedding(self.emb_labels)\n",
    "#         print(f\"h_embedding size : {h_embedding.shape}\")\n",
    "#         h_embedding = self.embedding_dropout(h_embedding)\n",
    "        l_lstm1, _ = self.lstm1(l_embedding)\n",
    "#         print(f\"lstm1 size : {h_lstm1.shape}\")\n",
    "        l_lstm2, _ = self.lstm2(l_lstm1)\n",
    "#         print(f\"lstm2 size : {h_lstm2.shape}\")\n",
    "        # Attention layer\n",
    "        l_lstm_atten, l_weights = self.lstm_attention(l_lstm2, max_length)\n",
    "#         print(f\"h_lstm , w sizes : {h_lstm_atten.shape}, {weights.shape}\")\n",
    "        # global average pooling\n",
    "        l_avg_pool = torch.mean(l_lstm2, 1)\n",
    "#         print(f\"avg pool : {avg_pool.shape}\")\n",
    "        # global max pooling\n",
    "        l_max_pool, _ = torch.max(l_lstm2, 1)\n",
    "#         print(f\"max pool : {max_pool.shape}\")\n",
    "        l_conc = torch.cat((l_lstm_atten, l_max_pool, l_avg_pool), 1)\n",
    "#         print(f\"h_conc : {h_conc.shape}\")\n",
    "        l_conc_linear1 = F.relu(self.linear1(l_conc))\n",
    "#         print(f\"h_conc_linear1 : {h_conc_linear1.shape}\")\n",
    "        l_conc_linear2 = F.relu(self.linear2(l_conc))\n",
    "#         print(f\"h_conc_linear2 : {h_conc_linear2.shape}\")\n",
    "        hidden = h_conc + h_conc_linear1 + h_conc_linear2\n",
    "        l_hidden = l_conc + l_conc_linear1 + l_conc_linear2\n",
    "        result = self.linear_out(hidden)\n",
    "#         print(f\"result : {result.shape}\")\n",
    "        #aux_result = self.linear_aux_out(hidden)\n",
    "        norm_hidden = hidden / hidden.norm(dim=-1, keepdim=True)\n",
    "        norm_lhidden = l_hidden / l_hidden.norm(dim=-1, keepdim=True)\n",
    "\n",
    "        x = self.gc1(norm_lhidden, adj)\n",
    "        x = self.relu(x)\n",
    "        x = self.gc2(x, adj)\n",
    "\n",
    "#         label_rep = self.graph(self.emb_labels)\n",
    "        aux_result = torch.matmul(norm_hidden, x.transpose(0, 1))\n",
    "#         print(f\"aux_result : {aux_result.shape}\")\n",
    "#         out = torch.cat([result, aux_result], 1)\n",
    "#         print(f\"out : {out.shape}\")\n",
    "#         return out, weights\n",
    "        #aux_result = F.leaky_relu(self.predict(aux_result))\n",
    "        return aux_result, weights\n",
    "\n",
    "\n",
    "def train_model(model, loss_fn, lr=0.001, batch_size=32, n_epochs=10, max_length=64):\n",
    "    param_lrs = [{'params': param, 'lr': lr} for param in model.parameters()]\n",
    "    optimizer = torch.optim.Adam(param_lrs, lr=lr)\n",
    "    scheduler = torch.optim.lr_scheduler.LambdaLR(\n",
    "        optimizer, lambda epoch: 0.6 ** epoch)\n",
    "\n",
    "    training_loss = []\n",
    "    validation_loss = []\n",
    "    training_acc = []\n",
    "    validation_acc = []\n",
    "    best_loss = float(\"inf\")\n",
    "\n",
    "    for epoch in range(n_epochs):\n",
    "        start_time = time.time()\n",
    "        training_res = []\n",
    "        validataion_res = []\n",
    "        model.train()\n",
    "        avg_loss = 0\n",
    "        y_train_preds = []\n",
    "        y_train_batchs = []\n",
    "        y_valid_preds = []\n",
    "        y_valid_batchs = []\n",
    "        for data in tqdm(train_dataloader, disable=False):\n",
    "            x_batch = data[:-1]\n",
    "            y_batch = data[-1]\n",
    "            y_batch_labels = y_batch.detach().cpu().numpy()\n",
    "#             if y_trues.shape[0] == 1:\n",
    "#                 y_trues = y_batch_labels\n",
    "#             else:\n",
    "#                 print(y_trues, y_batch_labels)\n",
    "#                 y_trues = np.concatenate(y_trues, np.array(y_batch_labels))\n",
    "            y_train_batchs += y_batch_labels.tolist()\n",
    "            y_pred, _ = model(*x_batch, max_length)\n",
    "            y_pred_labels = (torch.sigmoid(\n",
    "                y_pred).detach().cpu().numpy() > 0.5)\n",
    "\n",
    "#             if y_preds.shape[0] == 1:\n",
    "#                 y_preds = y_pred_labels\n",
    "#             else:\n",
    "#                 y_preds = np.concatenate(y_preds, y_pred_labels)\n",
    "\n",
    "            y_train_preds += y_pred_labels.tolist()\n",
    "            loss = nn.BCEWithLogitsLoss()(y_pred, y_batch)\n",
    "            optimizer.zero_grad()\n",
    "            loss.backward()\n",
    "            optimizer.step()\n",
    "            avg_loss += loss.item() / len(train_dataloader)\n",
    "        tacc = accuracy_score(y_train_batchs, y_train_preds)\n",
    "        training_acc.append(tacc)\n",
    "        training_loss.append(avg_loss)\n",
    "        model.eval()\n",
    "        print(f'... Validating ... ')\n",
    "        avg_val_loss = 0\n",
    "        for val_data in tqdm(dev_dataloader, disable=False):\n",
    "            x_batch = val_data[:-1]\n",
    "            y_batch = val_data[-1]\n",
    "            y_batch_labels = y_batch.detach().cpu().numpy()\n",
    "            y_valid_batchs += y_batch_labels.tolist()\n",
    "#             if y_trues_v.shape[0] == 1:\n",
    "#                 y_trues_v = y_batch_labels\n",
    "#             else:\n",
    "#                 y_trues_v = np.concatenate(y_trues_v, y_batch_labels)\n",
    "            y_pred, _ = model(*x_batch, max_length)\n",
    "            y_pred_labels = (torch.sigmoid(\n",
    "                y_pred).detach().cpu().numpy() > 0.5)\n",
    "            y_valid_preds += y_pred_labels.tolist()\n",
    "#             if y_preds_v.shape[0] == 1:\n",
    "#                 y_preds_v = y_pred_labels\n",
    "#             else:\n",
    "#                 y_preds_v = np.concatenate(y_preds_v, y_pred_labels)\n",
    "\n",
    "            val_loss = nn.BCEWithLogitsLoss()(y_pred, y_batch)\n",
    "            avg_val_loss += val_loss.item() / len(dev_dataloader)\n",
    "        vacc = accuracy_score(y_valid_batchs, y_valid_preds)\n",
    "        validation_acc.append(vacc)\n",
    "        elapsed_time = time.time() - start_time\n",
    "        validation_loss.append(avg_val_loss)\n",
    "        if avg_val_loss < best_loss:\n",
    "            print('saving the best model so far')\n",
    "            best_loss = avg_val_loss\n",
    "            torch.save(model.state_dict(), model_path)\n",
    "        print(f'Epoch {epoch + 1}/{n_epochs}\\t training_loss={avg_loss:.4f} \\t validation_loss={avg_val_loss: 4f} \\t train_epoch_acc={tacc: 4f} \\t valid_epoch_acc={vacc: 4f} \\t time={elapsed_time:.2f}s')\n",
    "        scheduler.step()\n",
    "    return training_loss, validation_loss, training_acc, validation_acc\n",
    "\n",
    "\n",
    "def evaluate(model):\n",
    "    # Create the DataLoader for dev set.\n",
    "    model.eval()\n",
    "    preds = np.zeros((1, num_labels))\n",
    "    y_test_preds = []\n",
    "    y_test_trues = []\n",
    "    with torch.no_grad():\n",
    "        for tst_data in tqdm(test_dataloader, disable=False):\n",
    "            x_batch = tst_data[:-1]\n",
    "            y_batch_labels = tst_data[-1].detach().cpu().numpy()\n",
    "            y_test_trues += y_batch_labels.tolist()\n",
    "            y_pred, _ = model(*x_batch, max_length)\n",
    "\n",
    "            y_pred_labels = (torch.sigmoid(\n",
    "                y_pred).detach().cpu().numpy() > 0.5)\n",
    "            y_test_preds += y_pred_labels.tolist()\n",
    "            correct_labels = (y_pred_labels == y_batch_labels)\n",
    "            preds += correct_labels.sum(axis=0)\n",
    "\n",
    "    return preds, y_test_preds, y_test_trues"
   ]
  },
  {
   "cell_type": "code",
   "execution_count": 2,
   "metadata": {},
   "outputs": [
    {
     "name": "stderr",
     "output_type": "stream",
     "text": [
      "100%|██████████| 84/84 [00:21<00:00,  3.84it/s]\n",
      " 20%|██        | 2/10 [00:00<00:00, 11.18it/s]"
     ]
    },
    {
     "name": "stdout",
     "output_type": "stream",
     "text": [
      "... Validating ... \n"
     ]
    },
    {
     "name": "stderr",
     "output_type": "stream",
     "text": [
      "100%|██████████| 10/10 [00:00<00:00, 11.21it/s]\n",
      "  0%|          | 0/84 [00:00<?, ?it/s]"
     ]
    },
    {
     "name": "stdout",
     "output_type": "stream",
     "text": [
      "saving the best model so far\n",
      "Epoch 1/20\t training_loss=0.4154 \t validation_loss= 0.345883 \t train_epoch_acc= 0.007090 \t valid_epoch_acc= 0.134680 \t time=22.78s\n"
     ]
    },
    {
     "name": "stderr",
     "output_type": "stream",
     "text": [
      "100%|██████████| 84/84 [00:22<00:00,  3.81it/s]\n",
      " 20%|██        | 2/10 [00:00<00:00, 10.62it/s]"
     ]
    },
    {
     "name": "stdout",
     "output_type": "stream",
     "text": [
      "... Validating ... \n"
     ]
    },
    {
     "name": "stderr",
     "output_type": "stream",
     "text": [
      "100%|██████████| 10/10 [00:00<00:00, 10.89it/s]\n",
      "  0%|          | 0/84 [00:00<?, ?it/s]"
     ]
    },
    {
     "name": "stdout",
     "output_type": "stream",
     "text": [
      "saving the best model so far\n",
      "Epoch 2/20\t training_loss=0.2424 \t validation_loss= 0.186056 \t train_epoch_acc= 0.416791 \t valid_epoch_acc= 0.545455 \t time=22.96s\n"
     ]
    },
    {
     "name": "stderr",
     "output_type": "stream",
     "text": [
      "100%|██████████| 84/84 [00:22<00:00,  3.73it/s]\n",
      " 20%|██        | 2/10 [00:00<00:00, 10.48it/s]"
     ]
    },
    {
     "name": "stdout",
     "output_type": "stream",
     "text": [
      "... Validating ... \n"
     ]
    },
    {
     "name": "stderr",
     "output_type": "stream",
     "text": [
      "100%|██████████| 10/10 [00:00<00:00, 10.84it/s]\n",
      "  0%|          | 0/84 [00:00<?, ?it/s]"
     ]
    },
    {
     "name": "stdout",
     "output_type": "stream",
     "text": [
      "saving the best model so far\n",
      "Epoch 3/20\t training_loss=0.1403 \t validation_loss= 0.117589 \t train_epoch_acc= 0.684328 \t valid_epoch_acc= 0.835017 \t time=23.45s\n"
     ]
    },
    {
     "name": "stderr",
     "output_type": "stream",
     "text": [
      "100%|██████████| 84/84 [00:21<00:00,  3.85it/s]\n",
      " 20%|██        | 2/10 [00:00<00:00, 10.73it/s]"
     ]
    },
    {
     "name": "stdout",
     "output_type": "stream",
     "text": [
      "... Validating ... \n"
     ]
    },
    {
     "name": "stderr",
     "output_type": "stream",
     "text": [
      "100%|██████████| 10/10 [00:00<00:00, 11.01it/s]\n",
      "  0%|          | 0/84 [00:00<?, ?it/s]"
     ]
    },
    {
     "name": "stdout",
     "output_type": "stream",
     "text": [
      "saving the best model so far\n",
      "Epoch 4/20\t training_loss=0.0799 \t validation_loss= 0.085693 \t train_epoch_acc= 0.860821 \t valid_epoch_acc= 0.875421 \t time=22.72s\n"
     ]
    },
    {
     "name": "stderr",
     "output_type": "stream",
     "text": [
      "100%|██████████| 84/84 [00:21<00:00,  3.92it/s]\n",
      " 20%|██        | 2/10 [00:00<00:00, 10.54it/s]"
     ]
    },
    {
     "name": "stdout",
     "output_type": "stream",
     "text": [
      "... Validating ... \n"
     ]
    },
    {
     "name": "stderr",
     "output_type": "stream",
     "text": [
      "100%|██████████| 10/10 [00:00<00:00, 11.10it/s]\n",
      "  0%|          | 0/84 [00:00<?, ?it/s]"
     ]
    },
    {
     "name": "stdout",
     "output_type": "stream",
     "text": [
      "saving the best model so far\n",
      "Epoch 5/20\t training_loss=0.0546 \t validation_loss= 0.072571 \t train_epoch_acc= 0.900746 \t valid_epoch_acc= 0.885522 \t time=22.33s\n"
     ]
    },
    {
     "name": "stderr",
     "output_type": "stream",
     "text": [
      "100%|██████████| 84/84 [00:21<00:00,  3.86it/s]\n",
      " 20%|██        | 2/10 [00:00<00:00, 10.77it/s]"
     ]
    },
    {
     "name": "stdout",
     "output_type": "stream",
     "text": [
      "... Validating ... \n"
     ]
    },
    {
     "name": "stderr",
     "output_type": "stream",
     "text": [
      "100%|██████████| 10/10 [00:00<00:00, 11.14it/s]\n",
      "  0%|          | 0/84 [00:00<?, ?it/s]"
     ]
    },
    {
     "name": "stdout",
     "output_type": "stream",
     "text": [
      "Epoch 6/20\t training_loss=0.0435 \t validation_loss= 0.073700 \t train_epoch_acc= 0.923134 \t valid_epoch_acc= 0.905724 \t time=22.70s\n"
     ]
    },
    {
     "name": "stderr",
     "output_type": "stream",
     "text": [
      "100%|██████████| 84/84 [00:21<00:00,  3.89it/s]\n",
      " 20%|██        | 2/10 [00:00<00:00, 10.74it/s]"
     ]
    },
    {
     "name": "stdout",
     "output_type": "stream",
     "text": [
      "... Validating ... \n"
     ]
    },
    {
     "name": "stderr",
     "output_type": "stream",
     "text": [
      "100%|██████████| 10/10 [00:00<00:00, 11.16it/s]\n",
      "  0%|          | 0/84 [00:00<?, ?it/s]"
     ]
    },
    {
     "name": "stdout",
     "output_type": "stream",
     "text": [
      "saving the best model so far\n",
      "Epoch 7/20\t training_loss=0.0383 \t validation_loss= 0.071658 \t train_epoch_acc= 0.938060 \t valid_epoch_acc= 0.898990 \t time=22.53s\n"
     ]
    },
    {
     "name": "stderr",
     "output_type": "stream",
     "text": [
      "100%|██████████| 84/84 [00:21<00:00,  3.92it/s]\n",
      " 20%|██        | 2/10 [00:00<00:00, 10.66it/s]"
     ]
    },
    {
     "name": "stdout",
     "output_type": "stream",
     "text": [
      "... Validating ... \n"
     ]
    },
    {
     "name": "stderr",
     "output_type": "stream",
     "text": [
      "100%|██████████| 10/10 [00:00<00:00, 11.07it/s]\n",
      "  0%|          | 0/84 [00:00<?, ?it/s]"
     ]
    },
    {
     "name": "stdout",
     "output_type": "stream",
     "text": [
      "Epoch 8/20\t training_loss=0.0352 \t validation_loss= 0.077863 \t train_epoch_acc= 0.943284 \t valid_epoch_acc= 0.898990 \t time=22.36s\n"
     ]
    },
    {
     "name": "stderr",
     "output_type": "stream",
     "text": [
      "100%|██████████| 84/84 [00:21<00:00,  3.85it/s]\n",
      " 10%|█         | 1/10 [00:00<00:00,  9.95it/s]"
     ]
    },
    {
     "name": "stdout",
     "output_type": "stream",
     "text": [
      "... Validating ... \n"
     ]
    },
    {
     "name": "stderr",
     "output_type": "stream",
     "text": [
      "100%|██████████| 10/10 [00:00<00:00, 10.97it/s]\n",
      "  0%|          | 0/84 [00:00<?, ?it/s]"
     ]
    },
    {
     "name": "stdout",
     "output_type": "stream",
     "text": [
      "saving the best model so far\n",
      "Epoch 9/20\t training_loss=0.0337 \t validation_loss= 0.068334 \t train_epoch_acc= 0.947761 \t valid_epoch_acc= 0.905724 \t time=22.74s\n"
     ]
    },
    {
     "name": "stderr",
     "output_type": "stream",
     "text": [
      "100%|██████████| 84/84 [00:22<00:00,  3.66it/s]\n",
      " 10%|█         | 1/10 [00:00<00:00, 10.00it/s]"
     ]
    },
    {
     "name": "stdout",
     "output_type": "stream",
     "text": [
      "... Validating ... \n"
     ]
    },
    {
     "name": "stderr",
     "output_type": "stream",
     "text": [
      "100%|██████████| 10/10 [00:00<00:00, 10.87it/s]\n",
      "  0%|          | 0/84 [00:00<?, ?it/s]"
     ]
    },
    {
     "name": "stdout",
     "output_type": "stream",
     "text": [
      "Epoch 10/20\t training_loss=0.0328 \t validation_loss= 0.068417 \t train_epoch_acc= 0.949254 \t valid_epoch_acc= 0.905724 \t time=23.87s\n"
     ]
    },
    {
     "name": "stderr",
     "output_type": "stream",
     "text": [
      "100%|██████████| 84/84 [00:22<00:00,  3.80it/s]\n",
      " 20%|██        | 2/10 [00:00<00:00, 10.61it/s]"
     ]
    },
    {
     "name": "stdout",
     "output_type": "stream",
     "text": [
      "... Validating ... \n"
     ]
    },
    {
     "name": "stderr",
     "output_type": "stream",
     "text": [
      "100%|██████████| 10/10 [00:01<00:00,  9.85it/s]\n",
      "  0%|          | 0/84 [00:00<?, ?it/s]"
     ]
    },
    {
     "name": "stdout",
     "output_type": "stream",
     "text": [
      "Epoch 11/20\t training_loss=0.0319 \t validation_loss= 0.088399 \t train_epoch_acc= 0.949627 \t valid_epoch_acc= 0.905724 \t time=23.11s\n"
     ]
    },
    {
     "name": "stderr",
     "output_type": "stream",
     "text": [
      "100%|██████████| 84/84 [00:21<00:00,  3.83it/s]\n",
      " 20%|██        | 2/10 [00:00<00:00, 10.11it/s]"
     ]
    },
    {
     "name": "stdout",
     "output_type": "stream",
     "text": [
      "... Validating ... \n"
     ]
    },
    {
     "name": "stderr",
     "output_type": "stream",
     "text": [
      "100%|██████████| 10/10 [00:00<00:00, 10.85it/s]\n",
      "  0%|          | 0/84 [00:00<?, ?it/s]"
     ]
    },
    {
     "name": "stdout",
     "output_type": "stream",
     "text": [
      "Epoch 12/20\t training_loss=0.0315 \t validation_loss= 0.073840 \t train_epoch_acc= 0.948881 \t valid_epoch_acc= 0.905724 \t time=22.90s\n"
     ]
    },
    {
     "name": "stderr",
     "output_type": "stream",
     "text": [
      "100%|██████████| 84/84 [00:21<00:00,  3.86it/s]\n",
      " 10%|█         | 1/10 [00:00<00:00,  9.99it/s]"
     ]
    },
    {
     "name": "stdout",
     "output_type": "stream",
     "text": [
      "... Validating ... \n"
     ]
    },
    {
     "name": "stderr",
     "output_type": "stream",
     "text": [
      "100%|██████████| 10/10 [00:00<00:00, 10.77it/s]\n",
      "  0%|          | 0/84 [00:00<?, ?it/s]"
     ]
    },
    {
     "name": "stdout",
     "output_type": "stream",
     "text": [
      "Epoch 13/20\t training_loss=0.0313 \t validation_loss= 0.078628 \t train_epoch_acc= 0.950373 \t valid_epoch_acc= 0.905724 \t time=22.71s\n"
     ]
    },
    {
     "name": "stderr",
     "output_type": "stream",
     "text": [
      "100%|██████████| 84/84 [00:22<00:00,  3.81it/s]\n",
      " 20%|██        | 2/10 [00:00<00:00, 10.23it/s]"
     ]
    },
    {
     "name": "stdout",
     "output_type": "stream",
     "text": [
      "... Validating ... \n"
     ]
    },
    {
     "name": "stderr",
     "output_type": "stream",
     "text": [
      "100%|██████████| 10/10 [00:00<00:00, 10.84it/s]\n",
      "  0%|          | 0/84 [00:00<?, ?it/s]"
     ]
    },
    {
     "name": "stdout",
     "output_type": "stream",
     "text": [
      "Epoch 14/20\t training_loss=0.0311 \t validation_loss= 0.069618 \t train_epoch_acc= 0.950373 \t valid_epoch_acc= 0.905724 \t time=23.01s\n"
     ]
    },
    {
     "name": "stderr",
     "output_type": "stream",
     "text": [
      "100%|██████████| 84/84 [00:21<00:00,  3.84it/s]\n",
      " 20%|██        | 2/10 [00:00<00:00, 10.76it/s]"
     ]
    },
    {
     "name": "stdout",
     "output_type": "stream",
     "text": [
      "... Validating ... \n"
     ]
    },
    {
     "name": "stderr",
     "output_type": "stream",
     "text": [
      "100%|██████████| 10/10 [00:00<00:00, 11.11it/s]\n",
      "  0%|          | 0/84 [00:00<?, ?it/s]"
     ]
    },
    {
     "name": "stdout",
     "output_type": "stream",
     "text": [
      "Epoch 15/20\t training_loss=0.0311 \t validation_loss= 0.068524 \t train_epoch_acc= 0.950373 \t valid_epoch_acc= 0.905724 \t time=22.78s\n"
     ]
    },
    {
     "name": "stderr",
     "output_type": "stream",
     "text": [
      "100%|██████████| 84/84 [00:21<00:00,  3.84it/s]\n",
      " 20%|██        | 2/10 [00:00<00:00, 10.62it/s]"
     ]
    },
    {
     "name": "stdout",
     "output_type": "stream",
     "text": [
      "... Validating ... \n"
     ]
    },
    {
     "name": "stderr",
     "output_type": "stream",
     "text": [
      "100%|██████████| 10/10 [00:00<00:00, 11.06it/s]\n",
      "  0%|          | 0/84 [00:00<?, ?it/s]"
     ]
    },
    {
     "name": "stdout",
     "output_type": "stream",
     "text": [
      "Epoch 16/20\t training_loss=0.0310 \t validation_loss= 0.075396 \t train_epoch_acc= 0.950373 \t valid_epoch_acc= 0.905724 \t time=22.79s\n"
     ]
    },
    {
     "name": "stderr",
     "output_type": "stream",
     "text": [
      "100%|██████████| 84/84 [00:21<00:00,  3.83it/s]\n",
      " 20%|██        | 2/10 [00:00<00:00, 10.75it/s]"
     ]
    },
    {
     "name": "stdout",
     "output_type": "stream",
     "text": [
      "... Validating ... \n"
     ]
    },
    {
     "name": "stderr",
     "output_type": "stream",
     "text": [
      "100%|██████████| 10/10 [00:00<00:00, 11.12it/s]\n",
      "  0%|          | 0/84 [00:00<?, ?it/s]"
     ]
    },
    {
     "name": "stdout",
     "output_type": "stream",
     "text": [
      "Epoch 17/20\t training_loss=0.0310 \t validation_loss= 0.068951 \t train_epoch_acc= 0.950373 \t valid_epoch_acc= 0.905724 \t time=22.83s\n"
     ]
    },
    {
     "name": "stderr",
     "output_type": "stream",
     "text": [
      "100%|██████████| 84/84 [00:21<00:00,  3.82it/s]\n",
      " 20%|██        | 2/10 [00:00<00:00, 10.64it/s]"
     ]
    },
    {
     "name": "stdout",
     "output_type": "stream",
     "text": [
      "... Validating ... \n"
     ]
    },
    {
     "name": "stderr",
     "output_type": "stream",
     "text": [
      "100%|██████████| 10/10 [00:00<00:00, 10.86it/s]\n",
      "  0%|          | 0/84 [00:00<?, ?it/s]"
     ]
    },
    {
     "name": "stdout",
     "output_type": "stream",
     "text": [
      "Epoch 18/20\t training_loss=0.0310 \t validation_loss= 0.070594 \t train_epoch_acc= 0.950373 \t valid_epoch_acc= 0.905724 \t time=22.92s\n"
     ]
    },
    {
     "name": "stderr",
     "output_type": "stream",
     "text": [
      "100%|██████████| 84/84 [00:21<00:00,  3.84it/s]\n",
      " 20%|██        | 2/10 [00:00<00:00, 10.45it/s]"
     ]
    },
    {
     "name": "stdout",
     "output_type": "stream",
     "text": [
      "... Validating ... \n"
     ]
    },
    {
     "name": "stderr",
     "output_type": "stream",
     "text": [
      "100%|██████████| 10/10 [00:00<00:00, 10.99it/s]\n",
      "  0%|          | 0/84 [00:00<?, ?it/s]"
     ]
    },
    {
     "name": "stdout",
     "output_type": "stream",
     "text": [
      "Epoch 19/20\t training_loss=0.0310 \t validation_loss= 0.078101 \t train_epoch_acc= 0.950373 \t valid_epoch_acc= 0.905724 \t time=22.79s\n"
     ]
    },
    {
     "name": "stderr",
     "output_type": "stream",
     "text": [
      "100%|██████████| 84/84 [00:21<00:00,  3.86it/s]\n",
      " 20%|██        | 2/10 [00:00<00:00, 10.54it/s]"
     ]
    },
    {
     "name": "stdout",
     "output_type": "stream",
     "text": [
      "... Validating ... \n"
     ]
    },
    {
     "name": "stderr",
     "output_type": "stream",
     "text": [
      "100%|██████████| 10/10 [00:00<00:00, 10.89it/s]"
     ]
    },
    {
     "name": "stdout",
     "output_type": "stream",
     "text": [
      "Epoch 20/20\t training_loss=0.0310 \t validation_loss= 0.073237 \t train_epoch_acc= 0.950373 \t valid_epoch_acc= 0.905724 \t time=22.68s\n"
     ]
    },
    {
     "name": "stderr",
     "output_type": "stream",
     "text": [
      "\n"
     ]
    }
   ],
   "source": [
    "\n",
    "model = Model(hidden_size=hidden_size,\n",
    "              embed_size=embed_size,\n",
    "              max_features=tokenizer.vocab_size,\n",
    "              num_classes=num_labels,\n",
    "              max_length=max_length, emb_labels=klabels_bemb)\n",
    "model.to(device)\n",
    "trainloss, vloss, training_acc, validation_acc = train_model(model=model, loss_fn=None, lr=lr, batch_size=batch_size,\n",
    "                                                             n_epochs=n_epochs, max_length=max_length)"
   ]
  },
  {
   "cell_type": "code",
   "execution_count": 4,
   "metadata": {},
   "outputs": [
    {
     "name": "stderr",
     "output_type": "stream",
     "text": [
      "100%|██████████| 31/31 [00:02<00:00, 14.55it/s]"
     ]
    },
    {
     "name": "stdout",
     "output_type": "stream",
     "text": [
      "三角函数 accuracy is 98.99%\n",
      "函数奇偶性 accuracy is 97.68%\n",
      "导数 accuracy is 94.76%\n",
      "平面向量 accuracy is 97.98%\n",
      "数列 accuracy is 99.19%\n",
      "逻辑与命题关系 accuracy is 97.18%\n",
      "集合 accuracy is 98.99%\n"
     ]
    },
    {
     "name": "stderr",
     "output_type": "stream",
     "text": [
      "\n"
     ]
    }
   ],
   "source": [
    "true_positives, y_test_preds, y_test_trues = evaluate(model)\n",
    "for i, acc in enumerate((true_positives / test_df.shape[0])[0]):\n",
    "    print(f\"{cols_target[i]} accuracy is {acc*100:.2f}%\")"
   ]
  },
  {
   "cell_type": "code",
   "execution_count": 3,
   "metadata": {},
   "outputs": [
    {
     "data": {
      "image/png": "[encoded data removed]",
      "text/plain": [
       "<Figure size 432x288 with 1 Axes>"
      ]
     },
     "metadata": {
      "needs_background": "light"
     },
     "output_type": "display_data"
    },
    {
     "data": {
      "image/png": "[encoded data removed]",
      "text/plain": [
       "<Figure size 2400x1600 with 1 Axes>"
      ]
     },
     "metadata": {
      "needs_background": "light"
     },
     "output_type": "display_data"
    }
   ],
   "source": [
    "from matplotlib.pyplot import MultipleLocator\n",
    "ax=plt.gca()\n",
    "\n",
    "plt.figure(dpi=400)\n",
    "#plt.plot(range(200), loss, label=\"training loss\")\n",
    "plt.plot(training_acc, label=\"training accuracy\")\n",
    "plt.plot(validation_acc, label=\"validation accuracy\")\n",
    "# plt.plot(range(20), vauc, label=\"validate AUC\")\n",
    "# plt.plot(range(20), vacc, label=\"validate accuracy\")\n",
    "#plt.title(\"Training Process\")\n",
    "plt.xlabel(\"Epoch\")\n",
    "plt.ylabel(\"\")\n",
    "plt.legend()\n",
    "plt.xticks(range(0,20))\n",
    "\n",
    "\n",
    "x_major_locator=MultipleLocator(1)\n",
    "ax.xaxis.set_major_locator(x_major_locator)\n",
    "\n",
    "plt.show()"
   ]
  },
  {
   "cell_type": "code",
   "execution_count": 9,
   "metadata": {},
   "outputs": [
    {
     "name": "stdout",
     "output_type": "stream",
     "text": [
      "              precision    recall  f1-score   support\n",
      "\n",
      "        三角函数      0.957     0.710     0.815        31\n",
      "       函数奇偶性      0.946     0.930     0.938       187\n",
      "          导数      0.918     0.866     0.892       247\n",
      "        平面向量      0.942     0.961     0.951       204\n",
      "          数列      0.996     0.971     0.983       243\n",
      "     逻辑与命题关系      0.958     0.883     0.919       180\n",
      "          集合      0.907     0.867     0.886        45\n",
      "\n",
      "   micro avg      0.951     0.915     0.932      1137\n",
      "   macro avg      0.946     0.884     0.912      1137\n",
      "weighted avg      0.951     0.915     0.932      1137\n",
      " samples avg      0.951     0.935     0.937      1137\n",
      " 0.8881048387096774\n"
     ]
    }
   ],
   "source": [
    "t = classification_report(y_test_trues, y_test_preds, target_names=cols_target,digits=3)\n",
    "tacc = accuracy_score(y_test_trues, y_test_preds)\n",
    "print(t,tacc)"
   ]
  },
  {
   "cell_type": "code",
   "execution_count": 12,
   "metadata": {},
   "outputs": [
    {
     "data": {
      "text/plain": [
       "BiLSTMWithAttention(\n",
       "  (embedding): Embedding(21128, 100)\n",
       "  (lstm1): LSTM(100, 128, batch_first=True, bidirectional=True)\n",
       "  (lstm2): LSTM(256, 128, batch_first=True, bidirectional=True)\n",
       "  (lstm_attention): Attention()\n",
       "  (linear1): Linear(in_features=768, out_features=768, bias=True)\n",
       "  (linear2): Linear(in_features=768, out_features=768, bias=True)\n",
       "  (linear_out): Linear(in_features=768, out_features=1, bias=True)\n",
       "  (linear_aux_out): Linear(in_features=768, out_features=7, bias=True)\n",
       ")"
      ]
     },
     "execution_count": 12,
     "metadata": {},
     "output_type": "execute_result"
    }
   ],
   "source": [
    "model = BiLSTMWithAttention(hidden_size=hidden_size,\n",
    "              embed_size=embed_size,\n",
    "              max_features=tokenizer.vocab_size,\n",
    "              num_classes=num_labels,\n",
    "              max_length=max_length)\n",
    "model.to(device)"
   ]
  },
  {
   "cell_type": "code",
   "execution_count": 13,
   "metadata": {},
   "outputs": [
    {
     "name": "stderr",
     "output_type": "stream",
     "text": [
      "100%|██████████| 84/84 [00:15<00:00,  5.54it/s]\n",
      " 20%|██        | 2/10 [00:00<00:00, 15.44it/s]"
     ]
    },
    {
     "name": "stdout",
     "output_type": "stream",
     "text": [
      "... Validating ... \n"
     ]
    },
    {
     "name": "stderr",
     "output_type": "stream",
     "text": [
      "100%|██████████| 10/10 [00:00<00:00, 15.51it/s]\n",
      "  1%|          | 1/84 [00:00<00:14,  5.58it/s]"
     ]
    },
    {
     "name": "stdout",
     "output_type": "stream",
     "text": [
      "saving the best model so far\n",
      "Epoch 1/20\t training_loss=0.2377 \t validation_loss= 0.107045 \t train_epoch_acc= 0.492537 \t valid_epoch_acc= 0.835017 \t time=15.82s\n"
     ]
    },
    {
     "name": "stderr",
     "output_type": "stream",
     "text": [
      "100%|██████████| 84/84 [00:15<00:00,  5.58it/s]\n",
      " 20%|██        | 2/10 [00:00<00:00, 14.97it/s]"
     ]
    },
    {
     "name": "stdout",
     "output_type": "stream",
     "text": [
      "... Validating ... \n"
     ]
    },
    {
     "name": "stderr",
     "output_type": "stream",
     "text": [
      "100%|██████████| 10/10 [00:00<00:00, 15.29it/s]\n",
      "  1%|          | 1/84 [00:00<00:14,  5.58it/s]"
     ]
    },
    {
     "name": "stdout",
     "output_type": "stream",
     "text": [
      "saving the best model so far\n",
      "Epoch 2/20\t training_loss=0.0802 \t validation_loss= 0.077358 \t train_epoch_acc= 0.855597 \t valid_epoch_acc= 0.875421 \t time=15.74s\n"
     ]
    },
    {
     "name": "stderr",
     "output_type": "stream",
     "text": [
      "100%|██████████| 84/84 [00:14<00:00,  5.60it/s]\n",
      " 20%|██        | 2/10 [00:00<00:00, 14.86it/s]"
     ]
    },
    {
     "name": "stdout",
     "output_type": "stream",
     "text": [
      "... Validating ... \n"
     ]
    },
    {
     "name": "stderr",
     "output_type": "stream",
     "text": [
      "100%|██████████| 10/10 [00:00<00:00, 15.34it/s]\n",
      "  1%|          | 1/84 [00:00<00:14,  5.59it/s]"
     ]
    },
    {
     "name": "stdout",
     "output_type": "stream",
     "text": [
      "saving the best model so far\n",
      "Epoch 3/20\t training_loss=0.0543 \t validation_loss= 0.071896 \t train_epoch_acc= 0.903358 \t valid_epoch_acc= 0.888889 \t time=15.67s\n"
     ]
    },
    {
     "name": "stderr",
     "output_type": "stream",
     "text": [
      "100%|██████████| 84/84 [00:15<00:00,  5.60it/s]\n",
      " 20%|██        | 2/10 [00:00<00:00, 15.02it/s]"
     ]
    },
    {
     "name": "stdout",
     "output_type": "stream",
     "text": [
      "... Validating ... \n"
     ]
    },
    {
     "name": "stderr",
     "output_type": "stream",
     "text": [
      "100%|██████████| 10/10 [00:00<00:00, 15.53it/s]\n",
      "  1%|          | 1/84 [00:00<00:14,  5.59it/s]"
     ]
    },
    {
     "name": "stdout",
     "output_type": "stream",
     "text": [
      "Epoch 4/20\t training_loss=0.0435 \t validation_loss= 0.078789 \t train_epoch_acc= 0.919776 \t valid_epoch_acc= 0.895623 \t time=15.66s\n"
     ]
    },
    {
     "name": "stderr",
     "output_type": "stream",
     "text": [
      "100%|██████████| 84/84 [00:15<00:00,  5.52it/s]\n",
      " 20%|██        | 2/10 [00:00<00:00, 14.48it/s]"
     ]
    },
    {
     "name": "stdout",
     "output_type": "stream",
     "text": [
      "... Validating ... \n"
     ]
    },
    {
     "name": "stderr",
     "output_type": "stream",
     "text": [
      "100%|██████████| 10/10 [00:00<00:00, 15.10it/s]\n",
      "  1%|          | 1/84 [00:00<00:15,  5.44it/s]"
     ]
    },
    {
     "name": "stdout",
     "output_type": "stream",
     "text": [
      "saving the best model so far\n",
      "Epoch 5/20\t training_loss=0.0373 \t validation_loss= 0.070681 \t train_epoch_acc= 0.932463 \t valid_epoch_acc= 0.902357 \t time=15.90s\n"
     ]
    },
    {
     "name": "stderr",
     "output_type": "stream",
     "text": [
      "100%|██████████| 84/84 [00:15<00:00,  5.46it/s]\n",
      " 20%|██        | 2/10 [00:00<00:00, 15.24it/s]"
     ]
    },
    {
     "name": "stdout",
     "output_type": "stream",
     "text": [
      "... Validating ... \n"
     ]
    },
    {
     "name": "stderr",
     "output_type": "stream",
     "text": [
      "100%|██████████| 10/10 [00:00<00:00, 15.70it/s]\n",
      "  1%|          | 1/84 [00:00<00:14,  5.63it/s]"
     ]
    },
    {
     "name": "stdout",
     "output_type": "stream",
     "text": [
      "Epoch 6/20\t training_loss=0.0328 \t validation_loss= 0.074133 \t train_epoch_acc= 0.939179 \t valid_epoch_acc= 0.902357 \t time=16.04s\n"
     ]
    },
    {
     "name": "stderr",
     "output_type": "stream",
     "text": [
      "100%|██████████| 84/84 [00:15<00:00,  5.46it/s]\n",
      " 20%|██        | 2/10 [00:00<00:00, 14.62it/s]"
     ]
    },
    {
     "name": "stdout",
     "output_type": "stream",
     "text": [
      "... Validating ... \n"
     ]
    },
    {
     "name": "stderr",
     "output_type": "stream",
     "text": [
      "100%|██████████| 10/10 [00:00<00:00, 15.25it/s]\n",
      "  0%|          | 0/84 [00:00<?, ?it/s]"
     ]
    },
    {
     "name": "stdout",
     "output_type": "stream",
     "text": [
      "saving the best model so far\n",
      "Epoch 7/20\t training_loss=0.0305 \t validation_loss= 0.064856 \t train_epoch_acc= 0.943284 \t valid_epoch_acc= 0.912458 \t time=16.05s\n"
     ]
    },
    {
     "name": "stderr",
     "output_type": "stream",
     "text": [
      "100%|██████████| 84/84 [00:15<00:00,  5.58it/s]\n",
      " 20%|██        | 2/10 [00:00<00:00, 15.17it/s]"
     ]
    },
    {
     "name": "stdout",
     "output_type": "stream",
     "text": [
      "... Validating ... \n"
     ]
    },
    {
     "name": "stderr",
     "output_type": "stream",
     "text": [
      "100%|██████████| 10/10 [00:00<00:00, 15.78it/s]\n",
      "  1%|          | 1/84 [00:00<00:14,  5.61it/s]"
     ]
    },
    {
     "name": "stdout",
     "output_type": "stream",
     "text": [
      "Epoch 8/20\t training_loss=0.0289 \t validation_loss= 0.080788 \t train_epoch_acc= 0.947015 \t valid_epoch_acc= 0.915825 \t time=15.70s\n"
     ]
    },
    {
     "name": "stderr",
     "output_type": "stream",
     "text": [
      "100%|██████████| 84/84 [00:15<00:00,  5.51it/s]\n",
      " 20%|██        | 2/10 [00:00<00:00, 15.00it/s]"
     ]
    },
    {
     "name": "stdout",
     "output_type": "stream",
     "text": [
      "... Validating ... \n"
     ]
    },
    {
     "name": "stderr",
     "output_type": "stream",
     "text": [
      "100%|██████████| 10/10 [00:00<00:00, 15.60it/s]\n",
      "  1%|          | 1/84 [00:00<00:15,  5.43it/s]"
     ]
    },
    {
     "name": "stdout",
     "output_type": "stream",
     "text": [
      "Epoch 9/20\t training_loss=0.0280 \t validation_loss= 0.079698 \t train_epoch_acc= 0.949627 \t valid_epoch_acc= 0.915825 \t time=15.91s\n"
     ]
    },
    {
     "name": "stderr",
     "output_type": "stream",
     "text": [
      "100%|██████████| 84/84 [00:15<00:00,  5.54it/s]\n",
      " 20%|██        | 2/10 [00:00<00:00, 15.19it/s]"
     ]
    },
    {
     "name": "stdout",
     "output_type": "stream",
     "text": [
      "... Validating ... \n"
     ]
    },
    {
     "name": "stderr",
     "output_type": "stream",
     "text": [
      "100%|██████████| 10/10 [00:00<00:00, 15.69it/s]\n",
      "  1%|          | 1/84 [00:00<00:14,  5.74it/s]"
     ]
    },
    {
     "name": "stdout",
     "output_type": "stream",
     "text": [
      "Epoch 10/20\t training_loss=0.0274 \t validation_loss= 0.067772 \t train_epoch_acc= 0.950373 \t valid_epoch_acc= 0.915825 \t time=15.82s\n"
     ]
    },
    {
     "name": "stderr",
     "output_type": "stream",
     "text": [
      "100%|██████████| 84/84 [00:15<00:00,  5.55it/s]\n",
      " 20%|██        | 2/10 [00:00<00:00, 15.46it/s]"
     ]
    },
    {
     "name": "stdout",
     "output_type": "stream",
     "text": [
      "... Validating ... \n"
     ]
    },
    {
     "name": "stderr",
     "output_type": "stream",
     "text": [
      "100%|██████████| 10/10 [00:00<00:00, 15.63it/s]\n",
      "  1%|          | 1/84 [00:00<00:14,  5.56it/s]"
     ]
    },
    {
     "name": "stdout",
     "output_type": "stream",
     "text": [
      "Epoch 11/20\t training_loss=0.0272 \t validation_loss= 0.083145 \t train_epoch_acc= 0.951493 \t valid_epoch_acc= 0.915825 \t time=15.80s\n"
     ]
    },
    {
     "name": "stderr",
     "output_type": "stream",
     "text": [
      "100%|██████████| 84/84 [00:15<00:00,  5.55it/s]\n",
      " 20%|██        | 2/10 [00:00<00:00, 14.78it/s]"
     ]
    },
    {
     "name": "stdout",
     "output_type": "stream",
     "text": [
      "... Validating ... \n"
     ]
    },
    {
     "name": "stderr",
     "output_type": "stream",
     "text": [
      "100%|██████████| 10/10 [00:00<00:00, 15.40it/s]\n",
      "  1%|          | 1/84 [00:00<00:14,  5.68it/s]"
     ]
    },
    {
     "name": "stdout",
     "output_type": "stream",
     "text": [
      "Epoch 12/20\t training_loss=0.0268 \t validation_loss= 0.072204 \t train_epoch_acc= 0.951119 \t valid_epoch_acc= 0.915825 \t time=15.81s\n"
     ]
    },
    {
     "name": "stderr",
     "output_type": "stream",
     "text": [
      "100%|██████████| 84/84 [00:14<00:00,  5.68it/s]\n",
      " 20%|██        | 2/10 [00:00<00:00, 15.31it/s]"
     ]
    },
    {
     "name": "stdout",
     "output_type": "stream",
     "text": [
      "... Validating ... \n"
     ]
    },
    {
     "name": "stderr",
     "output_type": "stream",
     "text": [
      "100%|██████████| 10/10 [00:00<00:00, 15.52it/s]\n",
      "  1%|          | 1/84 [00:00<00:15,  5.44it/s]"
     ]
    },
    {
     "name": "stdout",
     "output_type": "stream",
     "text": [
      "saving the best model so far\n",
      "Epoch 13/20\t training_loss=0.0267 \t validation_loss= 0.064806 \t train_epoch_acc= 0.952239 \t valid_epoch_acc= 0.915825 \t time=15.44s\n"
     ]
    },
    {
     "name": "stderr",
     "output_type": "stream",
     "text": [
      "100%|██████████| 84/84 [00:15<00:00,  5.50it/s]\n",
      " 20%|██        | 2/10 [00:00<00:00, 14.48it/s]"
     ]
    },
    {
     "name": "stdout",
     "output_type": "stream",
     "text": [
      "... Validating ... \n"
     ]
    },
    {
     "name": "stderr",
     "output_type": "stream",
     "text": [
      "100%|██████████| 10/10 [00:00<00:00, 14.90it/s]\n",
      "  0%|          | 0/84 [00:00<?, ?it/s]"
     ]
    },
    {
     "name": "stdout",
     "output_type": "stream",
     "text": [
      "saving the best model so far\n",
      "Epoch 14/20\t training_loss=0.0266 \t validation_loss= 0.064601 \t train_epoch_acc= 0.952239 \t valid_epoch_acc= 0.915825 \t time=15.97s\n"
     ]
    },
    {
     "name": "stderr",
     "output_type": "stream",
     "text": [
      "100%|██████████| 84/84 [00:15<00:00,  5.51it/s]\n",
      " 20%|██        | 2/10 [00:00<00:00, 14.71it/s]"
     ]
    },
    {
     "name": "stdout",
     "output_type": "stream",
     "text": [
      "... Validating ... \n"
     ]
    },
    {
     "name": "stderr",
     "output_type": "stream",
     "text": [
      "100%|██████████| 10/10 [00:00<00:00, 15.15it/s]\n",
      "  1%|          | 1/84 [00:00<00:15,  5.49it/s]"
     ]
    },
    {
     "name": "stdout",
     "output_type": "stream",
     "text": [
      "Epoch 15/20\t training_loss=0.0269 \t validation_loss= 0.089579 \t train_epoch_acc= 0.952239 \t valid_epoch_acc= 0.915825 \t time=15.91s\n"
     ]
    },
    {
     "name": "stderr",
     "output_type": "stream",
     "text": [
      "100%|██████████| 84/84 [00:15<00:00,  5.51it/s]\n",
      " 20%|██        | 2/10 [00:00<00:00, 14.51it/s]"
     ]
    },
    {
     "name": "stdout",
     "output_type": "stream",
     "text": [
      "... Validating ... \n"
     ]
    },
    {
     "name": "stderr",
     "output_type": "stream",
     "text": [
      "100%|██████████| 10/10 [00:00<00:00, 15.11it/s]\n",
      "  1%|          | 1/84 [00:00<00:15,  5.45it/s]"
     ]
    },
    {
     "name": "stdout",
     "output_type": "stream",
     "text": [
      "Epoch 16/20\t training_loss=0.0266 \t validation_loss= 0.068043 \t train_epoch_acc= 0.952239 \t valid_epoch_acc= 0.915825 \t time=15.92s\n"
     ]
    },
    {
     "name": "stderr",
     "output_type": "stream",
     "text": [
      "100%|██████████| 84/84 [00:15<00:00,  5.47it/s]\n",
      " 20%|██        | 2/10 [00:00<00:00, 14.70it/s]"
     ]
    },
    {
     "name": "stdout",
     "output_type": "stream",
     "text": [
      "... Validating ... \n"
     ]
    },
    {
     "name": "stderr",
     "output_type": "stream",
     "text": [
      "100%|██████████| 10/10 [00:00<00:00, 15.19it/s]\n",
      "  1%|          | 1/84 [00:00<00:14,  5.53it/s]"
     ]
    },
    {
     "name": "stdout",
     "output_type": "stream",
     "text": [
      "Epoch 17/20\t training_loss=0.0266 \t validation_loss= 0.076826 \t train_epoch_acc= 0.952239 \t valid_epoch_acc= 0.915825 \t time=16.04s\n"
     ]
    },
    {
     "name": "stderr",
     "output_type": "stream",
     "text": [
      "100%|██████████| 84/84 [00:15<00:00,  5.52it/s]\n",
      " 20%|██        | 2/10 [00:00<00:00, 15.36it/s]"
     ]
    },
    {
     "name": "stdout",
     "output_type": "stream",
     "text": [
      "... Validating ... \n"
     ]
    },
    {
     "name": "stderr",
     "output_type": "stream",
     "text": [
      "100%|██████████| 10/10 [00:00<00:00, 16.06it/s]\n",
      "  1%|          | 1/84 [00:00<00:14,  5.69it/s]"
     ]
    },
    {
     "name": "stdout",
     "output_type": "stream",
     "text": [
      "Epoch 18/20\t training_loss=0.0267 \t validation_loss= 0.089843 \t train_epoch_acc= 0.952239 \t valid_epoch_acc= 0.915825 \t time=15.86s\n"
     ]
    },
    {
     "name": "stderr",
     "output_type": "stream",
     "text": [
      "100%|██████████| 84/84 [00:14<00:00,  5.69it/s]\n",
      " 20%|██        | 2/10 [00:00<00:00, 15.46it/s]"
     ]
    },
    {
     "name": "stdout",
     "output_type": "stream",
     "text": [
      "... Validating ... \n"
     ]
    },
    {
     "name": "stderr",
     "output_type": "stream",
     "text": [
      "100%|██████████| 10/10 [00:00<00:00, 15.74it/s]\n",
      "  1%|          | 1/84 [00:00<00:15,  5.47it/s]"
     ]
    },
    {
     "name": "stdout",
     "output_type": "stream",
     "text": [
      "Epoch 19/20\t training_loss=0.0266 \t validation_loss= 0.064755 \t train_epoch_acc= 0.952239 \t valid_epoch_acc= 0.915825 \t time=15.43s\n"
     ]
    },
    {
     "name": "stderr",
     "output_type": "stream",
     "text": [
      "100%|██████████| 84/84 [00:15<00:00,  5.59it/s]\n",
      " 20%|██        | 2/10 [00:00<00:00, 14.80it/s]"
     ]
    },
    {
     "name": "stdout",
     "output_type": "stream",
     "text": [
      "... Validating ... \n"
     ]
    },
    {
     "name": "stderr",
     "output_type": "stream",
     "text": [
      "100%|██████████| 10/10 [00:00<00:00, 15.31it/s]"
     ]
    },
    {
     "name": "stdout",
     "output_type": "stream",
     "text": [
      "Epoch 20/20\t training_loss=0.0265 \t validation_loss= 0.065311 \t train_epoch_acc= 0.952239 \t valid_epoch_acc= 0.915825 \t time=15.69s\n"
     ]
    },
    {
     "name": "stderr",
     "output_type": "stream",
     "text": [
      "\n"
     ]
    }
   ],
   "source": [
    "trainloss, vloss, training_acc, validation_acc = train_model(model=model, loss_fn=None, lr=lr, batch_size=batch_size,\n",
    "                                                             n_epochs=n_epochs, max_length=max_length)"
   ]
  },
  {
   "cell_type": "code",
   "execution_count": 14,
   "metadata": {},
   "outputs": [
    {
     "name": "stderr",
     "output_type": "stream",
     "text": [
      "100%|██████████| 31/31 [00:01<00:00, 21.81it/s]"
     ]
    },
    {
     "name": "stdout",
     "output_type": "stream",
     "text": [
      "三角函数 accuracy is 97.08%\n",
      "函数奇偶性 accuracy is 97.88%\n",
      "导数 accuracy is 94.76%\n",
      "平面向量 accuracy is 98.19%\n",
      "数列 accuracy is 99.19%\n",
      "逻辑与命题关系 accuracy is 97.28%\n",
      "集合 accuracy is 98.79%\n"
     ]
    },
    {
     "name": "stderr",
     "output_type": "stream",
     "text": [
      "\n"
     ]
    }
   ],
   "source": [
    "true_positives, y_test_preds, y_test_trues = evaluate(model)\n",
    "for i, acc in enumerate((true_positives / test_df.shape[0])[0]):\n",
    "    print(f\"{cols_target[i]} accuracy is {acc*100:.2f}%\")"
   ]
  },
  {
   "cell_type": "code",
   "execution_count": 15,
   "metadata": {},
   "outputs": [
    {
     "name": "stdout",
     "output_type": "stream",
     "text": [
      "              precision    recall  f1-score   support\n",
      "\n",
      "        三角函数      0.667     0.129     0.216        31\n",
      "       函数奇偶性      0.946     0.941     0.944       187\n",
      "          导数      0.922     0.862     0.891       247\n",
      "        平面向量      0.974     0.936     0.955       204\n",
      "          数列      0.996     0.971     0.983       243\n",
      "     逻辑与命题关系      0.958     0.889     0.922       180\n",
      "          集合      0.946     0.778     0.854        45\n",
      "\n",
      "   micro avg      0.958     0.893     0.924      1137\n",
      "   macro avg      0.916     0.787     0.824      1137\n",
      "weighted avg      0.951     0.893     0.916      1137\n",
      " samples avg      0.944     0.920     0.926      1137\n",
      " 0.873991935483871\n"
     ]
    },
    {
     "name": "stderr",
     "output_type": "stream",
     "text": [
      "/Users/maywzh/.pyenv/versions/3.8.6/lib/python3.8/site-packages/sklearn/metrics/_classification.py:1221: UndefinedMetricWarning: Precision and F-score are ill-defined and being set to 0.0 in samples with no predicted labels. Use `zero_division` parameter to control this behavior.\n",
      "  _warn_prf(average, modifier, msg_start, len(result))\n"
     ]
    }
   ],
   "source": [
    "t = classification_report(y_test_trues, y_test_preds, target_names=cols_target,digits=3)\n",
    "tacc = accuracy_score(y_test_trues, y_test_preds)\n",
    "print(t,tacc)"
   ]
  },
  {
   "cell_type": "code",
   "execution_count": 8,
   "metadata": {},
   "outputs": [
    {
     "name": "stdout",
     "output_type": "stream",
     "text": [
      "preprocessing training data...\n",
      "preprocessing training data...\n",
      "preprocessing test data...\n"
     ]
    }
   ],
   "source": [
    "from sklearn.metrics import classification_report, confusion_matrix\n",
    "import time\n",
    "from torch._C import ParameterDict\n",
    "from tqdm import tqdm\n",
    "from torch.utils.data import TensorDataset, DataLoader, RandomSampler, SequentialSampler\n",
    "from transformers import PreTrainedTokenizerFast\n",
    "import torch.nn.functional as F\n",
    "import torch.nn as nn\n",
    "import torch\n",
    "import seaborn as sns\n",
    "import numpy as np\n",
    "import pandas as pd\n",
    "import re\n",
    "from torch.nn import Parameter\n",
    "import math\n",
    "from matplotlib import pyplot as plt\n",
    "from sklearn.metrics import *\n",
    "\n",
    "\n",
    "\n",
    "train_df = pd.read_csv('./data/train.csv')\n",
    "test_df = pd.read_csv('./data/test.csv')\n",
    "\n",
    "dev_size = int(train_df.shape[0] * 0.10)\n",
    "\n",
    "train_df_cpy = train_df[dev_size:]\n",
    "dev_df_cpy = train_df[:dev_size]\n",
    "test_df_cpy = test_df\n",
    "\n",
    "max_length = 64\n",
    "hidden_size = 128\n",
    "tokenizer = None\n",
    "batch_size = 32\n",
    "n_epochs = 20\n",
    "embed_size = 100\n",
    "lr = 0.001\n",
    "model_path = \"BiLSTM.pt\"\n",
    "use_gpu = True\n",
    "num_labels = 7\n",
    "\n",
    "tokenizer = PreTrainedTokenizerFast.from_pretrained('hfl/chinese-bert-wwm')\n",
    "tokenizer.add_special_tokens({'pad_token': '[PAD]'})\n",
    "adj = torch.Tensor(np.identity(num_labels))\n",
    "\n",
    "\n",
    "def prepare_set(dataset, max_length=max_length):\n",
    "    \"\"\"returns input_ids, input_masks, labels for set of data ready in BERT format\"\"\"\n",
    "    global tokenizer\n",
    "\n",
    "    input_ids = dataset\n",
    "#     for i in tqdm(dataset):\n",
    "#         input_ids.append(camel_case_split(i))\n",
    "    tokenized = tokenizer.batch_encode_plus(input_ids, return_token_type_ids=False, return_attention_mask=False,\n",
    "                                            pad_to_max_length=True, truncation=True, max_length=max_length)[\"input_ids\"]\n",
    "    return tokenized\n",
    "\n",
    "\n",
    "print(\"preprocessing training data...\")\n",
    "X_train = prepare_set(train_df_cpy['exercise_text'].values.tolist())\n",
    "\n",
    "print(\"preprocessing training data...\")\n",
    "X_dev = prepare_set(dev_df_cpy['exercise_text'].values.tolist())\n",
    "\n",
    "print(\"preprocessing test data...\")\n",
    "# -1 labels mean that those lines were not used for the scoring\n",
    "\n",
    "X_test = prepare_set(test_df['exercise_text'].values.tolist())\n",
    "\n",
    "cols_target = train_df.columns[1:].tolist()\n",
    "\n",
    "keywords = {\n",
    "    \"函数奇偶性\": \"奇函数偶函数奇偶\",\n",
    "    \"三角函数\": \"正弦余弦三角函数\",\n",
    "    \"逻辑与命题关系\": \"命题充分必要充要\",\n",
    "    \"集合\": \"集合并集交集子集空集韦恩图\",\n",
    "    \"导数\": \"导数切线极值单调递单调区间\",\n",
    "    \"平面向量\": \"向量\",\n",
    "    \"数列\": \"数列\"\n",
    "}\n",
    "\n",
    "kcols_target = [keywords[k] for k in cols_target]\n",
    "\n",
    "\n",
    "device = torch.device('cuda' if torch.cuda.is_available()\n",
    "                      and use_gpu else 'cpu')\n",
    "\n",
    "labels_pre = prepare_set(cols_target)\n",
    "\n",
    "labels_bemb = torch.tensor(labels_pre, dtype=torch.long).to(device)\n",
    "klabels_bemb = torch.tensor(prepare_set(\n",
    "    kcols_target), dtype=torch.long).to(device)\n",
    "\n",
    "y_train = train_df_cpy[cols_target].values  # 0,0,1,0,0,1,0\n",
    "y_dev = dev_df_cpy[cols_target].values  # 0,0,1,0,0,1,0\n",
    "y_test = test_df[cols_target].values  # 0,0,1,0,0,1,0\n",
    "\n",
    "\n",
    "x_train_torch = torch.tensor(X_train, dtype=torch.long).to(\n",
    "    device)  # bert(exercisetext)\n",
    "x_dev_torch = torch.tensor(X_dev, dtype=torch.long).to(device)\n",
    "x_test_torch = torch.tensor(X_test, dtype=torch.long).to(device)\n",
    "\n",
    "# y_train_torch = torch.tensor(np.hstack([y_train, y_aux_train]), dtype=torch.float32).to(device)\n",
    "y_train_torch = torch.tensor(y_train, dtype=torch.float).to(device)\n",
    "y_dev_torch = torch.tensor(y_dev, dtype=torch.float).to(device)\n",
    "# y_val_torch = torch.tensor(np.hstack([y_val, y_aux_val]), dtype=torch.float32).to(device)\n",
    "y_test_torch = torch.tensor(y_test, dtype=torch.float).to(device)\n",
    "\n",
    "\n",
    "train_data = TensorDataset(x_train_torch, y_train_torch)\n",
    "train_sampler = RandomSampler(train_data)\n",
    "train_dataloader = DataLoader(\n",
    "    train_data, sampler=train_sampler, batch_size=batch_size)\n",
    "\n",
    "\n",
    "# Create the DataLoader for dev set\n",
    "dev_data = TensorDataset(x_dev_torch, y_dev_torch)\n",
    "dev_sampler = RandomSampler(dev_data)\n",
    "dev_dataloader = DataLoader(\n",
    "    dev_data, sampler=dev_sampler, batch_size=batch_size)\n",
    "\n",
    "# Create the DataLoader for dev set.\n",
    "test_data = TensorDataset(x_test_torch, y_test_torch)\n",
    "test_sampler = SequentialSampler(test_data)\n",
    "test_dataloader = DataLoader(\n",
    "    test_data, sampler=test_sampler, batch_size=batch_size)\n",
    "\n",
    "adj = torch.Tensor(np.identity(num_labels))\n",
    "\n",
    "class Config(object):\n",
    "\n",
    "    \"\"\"配置参数\"\"\"\n",
    "    def __init__(self):\n",
    "        self.require_improvement = 1000                                 # 若超过1000batch效果还没提升，则提前结束训练\n",
    "        self.num_classes = 7                                            # 类别数\n",
    "        self.num_epochs = 3                                             # epoch数\n",
    "        self.batch_size = 128                                           # mini-batch大小\n",
    "        self.pad_size = 32                                              # 每句话处理成的长度(短填长切)\n",
    "        self.learning_rate = 5e-5                                       # 学习率\n",
    "        self.hidden_size = 768\n",
    "        self.filter_sizes = (2, 3, 4)                                   # 卷积核尺寸\n",
    "        self.num_filters = 256                                          # 卷积核数量(channels数)\n",
    "        self.dropout = 0.1\n",
    "        self.rnn_hidden = 256\n",
    "        self.num_layers = 2\n",
    "        self.max_seq = 256\n",
    "        self.max_features = tokenizer.vocab_size\n",
    "        self.embed_size = 768\n",
    "        \n",
    "class BRCNNModel(nn.Module):\n",
    "\n",
    "    def __init__(self, config):\n",
    "        super(BRCNNModel, self).__init__()\n",
    "        self.embedding = nn.Embedding(config.max_features, config.embed_size)\n",
    "        self.lstm = nn.LSTM(config.hidden_size, config.rnn_hidden, config.num_layers,\n",
    "                            bidirectional=True, batch_first=True, dropout=config.dropout)\n",
    "        self.maxpool = nn.MaxPool1d(config.pad_size)\n",
    "        self.fc = nn.Linear(config.rnn_hidden * 2 + config.hidden_size, config.num_classes)\n",
    "\n",
    "    def forward(self, x, s):\n",
    "        #encoder_out, text_cls = self.bert(context, attention_mask=mask, output_all_encoded_layers=False)\n",
    "        emx = self.embedding(x)\n",
    "        out, _ = self.lstm(emx)\n",
    "        out = torch.cat((emx, out), 2)\n",
    "        out = F.relu(out)\n",
    "        out = out.permute(0, 2, 1)\n",
    "        out = self.maxpool(out).squeeze()\n",
    "        out = self.fc(out)\n",
    "        return out\n",
    "\n",
    "def train_model(model, loss_fn, lr=0.001, batch_size=32, n_epochs=10, max_length=64):\n",
    "    param_lrs = [{'params': param, 'lr': lr} for param in model.parameters()]\n",
    "    optimizer = torch.optim.Adam(param_lrs, lr=lr)\n",
    "    scheduler = torch.optim.lr_scheduler.LambdaLR(\n",
    "        optimizer, lambda epoch: 0.6 ** epoch)\n",
    "\n",
    "    training_loss = []\n",
    "    validation_loss = []\n",
    "    training_acc = []\n",
    "    validation_acc = []\n",
    "    best_loss = float(\"inf\")\n",
    "\n",
    "    for epoch in range(n_epochs):\n",
    "        start_time = time.time()\n",
    "        training_res = []\n",
    "        validataion_res = []\n",
    "        model.train()\n",
    "        avg_loss = 0\n",
    "        y_train_preds = []\n",
    "        y_train_batchs = []\n",
    "        y_valid_preds = []\n",
    "        y_valid_batchs = []\n",
    "        for data in tqdm(train_dataloader, disable=False):\n",
    "            x_batch = data[:-1]\n",
    "            y_batch = data[-1]\n",
    "            y_batch_labels = y_batch.detach().cpu().numpy()\n",
    "#             if y_trues.shape[0] == 1:\n",
    "#                 y_trues = y_batch_labels\n",
    "#             else:\n",
    "#                 print(y_trues, y_batch_labels)\n",
    "#                 y_trues = np.concatenate(y_trues, np.array(y_batch_labels))\n",
    "            y_train_batchs += y_batch_labels.tolist()\n",
    "            y_pred, _ = model(*x_batch, max_length)\n",
    "            y_pred_labels = (torch.sigmoid(\n",
    "                y_pred).detach().cpu().numpy() > 0.5)\n",
    "\n",
    "#             if y_preds.shape[0] == 1:\n",
    "#                 y_preds = y_pred_labels\n",
    "#             else:\n",
    "#                 y_preds = np.concatenate(y_preds, y_pred_labels)\n",
    "\n",
    "            y_train_preds += y_pred_labels.tolist()\n",
    "            loss = nn.BCEWithLogitsLoss()(y_pred, y_batch)\n",
    "            optimizer.zero_grad()\n",
    "            loss.backward()\n",
    "            optimizer.step()\n",
    "            avg_loss += loss.item() / len(train_dataloader)\n",
    "        tacc = accuracy_score(y_train_batchs, y_train_preds)\n",
    "        training_acc.append(tacc)\n",
    "        training_loss.append(avg_loss)\n",
    "        model.eval()\n",
    "        print(f'... Validating ... ')\n",
    "        avg_val_loss = 0\n",
    "        for val_data in tqdm(dev_dataloader, disable=False):\n",
    "            x_batch = val_data[:-1]\n",
    "            y_batch = val_data[-1]\n",
    "            y_batch_labels = y_batch.detach().cpu().numpy()\n",
    "            y_valid_batchs += y_batch_labels.tolist()\n",
    "#             if y_trues_v.shape[0] == 1:\n",
    "#                 y_trues_v = y_batch_labels\n",
    "#             else:\n",
    "#                 y_trues_v = np.concatenate(y_trues_v, y_batch_labels)\n",
    "            y_pred, _ = model(*x_batch, max_length)\n",
    "            y_pred_labels = (torch.sigmoid(\n",
    "                y_pred).detach().cpu().numpy() > 0.5)\n",
    "            y_valid_preds += y_pred_labels.tolist()\n",
    "#             if y_preds_v.shape[0] == 1:\n",
    "#                 y_preds_v = y_pred_labels\n",
    "#             else:\n",
    "#                 y_preds_v = np.concatenate(y_preds_v, y_pred_labels)\n",
    "\n",
    "            val_loss = nn.BCEWithLogitsLoss()(y_pred, y_batch)\n",
    "            avg_val_loss += val_loss.item() / len(dev_dataloader)\n",
    "        vacc = accuracy_score(y_valid_batchs, y_valid_preds)\n",
    "        validation_acc.append(vacc)\n",
    "        elapsed_time = time.time() - start_time\n",
    "        validation_loss.append(avg_val_loss)\n",
    "        if avg_val_loss < best_loss:\n",
    "            print('saving the best model so far')\n",
    "            best_loss = avg_val_loss\n",
    "            torch.save(model.state_dict(), model_path)\n",
    "        print(f'Epoch {epoch + 1}/{n_epochs}\\t training_loss={avg_loss:.4f} \\t validation_loss={avg_val_loss: 4f} \\t train_epoch_acc={tacc: 4f} \\t valid_epoch_acc={vacc: 4f} \\t time={elapsed_time:.2f}s')\n",
    "        scheduler.step()\n",
    "    return training_loss, validation_loss, training_acc, validation_acc\n",
    "\n",
    "\n",
    "def evaluate(model):\n",
    "    # Create the DataLoader for dev set.\n",
    "    model.eval()\n",
    "    preds = np.zeros((1, num_labels))\n",
    "    y_test_preds = []\n",
    "    y_test_trues = []\n",
    "    with torch.no_grad():\n",
    "        for tst_data in tqdm(test_dataloader, disable=False):\n",
    "            x_batch = tst_data[:-1]\n",
    "            y_batch_labels = tst_data[-1].detach().cpu().numpy()\n",
    "            y_test_trues += y_batch_labels.tolist()\n",
    "            y_pred, _ = model(*x_batch, max_length)\n",
    "\n",
    "            y_pred_labels = (torch.sigmoid(\n",
    "                y_pred).detach().cpu().numpy() > 0.5)\n",
    "            y_test_preds += y_pred_labels.tolist()\n",
    "            correct_labels = (y_pred_labels == y_batch_labels)\n",
    "            preds += correct_labels.sum(axis=0)\n",
    "\n",
    "    return preds, y_test_preds, y_test_trues"
   ]
  },
  {
   "cell_type": "code",
   "execution_count": 9,
   "metadata": {},
   "outputs": [
    {
     "data": {
      "text/plain": [
       "BRCNNModel(\n",
       "  (embedding): Embedding(21128, 768)\n",
       "  (lstm): LSTM(768, 256, num_layers=2, batch_first=True, dropout=0.1, bidirectional=True)\n",
       "  (maxpool): MaxPool1d(kernel_size=32, stride=32, padding=0, dilation=1, ceil_mode=False)\n",
       "  (fc): Linear(in_features=1280, out_features=7, bias=True)\n",
       ")"
      ]
     },
     "execution_count": 9,
     "metadata": {},
     "output_type": "execute_result"
    }
   ],
   "source": [
    "berclsmodel = BRCNNModel(Config())\n",
    "berclsmodel.to(device)"
   ]
  },
  {
   "cell_type": "code",
   "execution_count": 10,
   "metadata": {},
   "outputs": [
    {
     "name": "stderr",
     "output_type": "stream",
     "text": [
      "  0%|          | 0/84 [00:00<?, ?it/s]\n"
     ]
    },
    {
     "ename": "RuntimeError",
     "evalue": "mat1 and mat2 shapes cannot be multiplied (40960x2 and 1280x7)",
     "output_type": "error",
     "traceback": [
      "\u001b[0;31m---------------------------------------------------------------------------\u001b[0m",
      "\u001b[0;31mRuntimeError\u001b[0m                              Traceback (most recent call last)",
      "\u001b[0;32m<ipython-input-10-c4ce44191d04>\u001b[0m in \u001b[0;36m<module>\u001b[0;34m\u001b[0m\n\u001b[0;32m----> 1\u001b[0;31m trainloss, vloss, training_acc, validation_acc = train_model(model=berclsmodel, loss_fn=None, lr=lr, batch_size=batch_size,\n\u001b[0m\u001b[1;32m      2\u001b[0m                                                              n_epochs=n_epochs, max_length=max_length)\n",
      "\u001b[0;32m<ipython-input-8-b3254b65d846>\u001b[0m in \u001b[0;36mtrain_model\u001b[0;34m(model, loss_fn, lr, batch_size, n_epochs, max_length)\u001b[0m\n\u001b[1;32m    202\u001b[0m \u001b[0;31m#                 y_trues = np.concatenate(y_trues, np.array(y_batch_labels))\u001b[0m\u001b[0;34m\u001b[0m\u001b[0;34m\u001b[0m\u001b[0;34m\u001b[0m\u001b[0m\n\u001b[1;32m    203\u001b[0m             \u001b[0my_train_batchs\u001b[0m \u001b[0;34m+=\u001b[0m \u001b[0my_batch_labels\u001b[0m\u001b[0;34m.\u001b[0m\u001b[0mtolist\u001b[0m\u001b[0;34m(\u001b[0m\u001b[0;34m)\u001b[0m\u001b[0;34m\u001b[0m\u001b[0;34m\u001b[0m\u001b[0m\n\u001b[0;32m--> 204\u001b[0;31m             \u001b[0my_pred\u001b[0m\u001b[0;34m,\u001b[0m \u001b[0m_\u001b[0m \u001b[0;34m=\u001b[0m \u001b[0mmodel\u001b[0m\u001b[0;34m(\u001b[0m\u001b[0;34m*\u001b[0m\u001b[0mx_batch\u001b[0m\u001b[0;34m,\u001b[0m \u001b[0mmax_length\u001b[0m\u001b[0;34m)\u001b[0m\u001b[0;34m\u001b[0m\u001b[0;34m\u001b[0m\u001b[0m\n\u001b[0m\u001b[1;32m    205\u001b[0m             y_pred_labels = (torch.sigmoid(\n\u001b[1;32m    206\u001b[0m                 y_pred).detach().cpu().numpy() > 0.5)\n",
      "\u001b[0;32m~/.pyenv/versions/3.8.6/lib/python3.8/site-packages/torch/nn/modules/module.py\u001b[0m in \u001b[0;36m_call_impl\u001b[0;34m(self, *input, **kwargs)\u001b[0m\n\u001b[1;32m    887\u001b[0m             \u001b[0mresult\u001b[0m \u001b[0;34m=\u001b[0m \u001b[0mself\u001b[0m\u001b[0;34m.\u001b[0m\u001b[0m_slow_forward\u001b[0m\u001b[0;34m(\u001b[0m\u001b[0;34m*\u001b[0m\u001b[0minput\u001b[0m\u001b[0;34m,\u001b[0m \u001b[0;34m**\u001b[0m\u001b[0mkwargs\u001b[0m\u001b[0;34m)\u001b[0m\u001b[0;34m\u001b[0m\u001b[0;34m\u001b[0m\u001b[0m\n\u001b[1;32m    888\u001b[0m         \u001b[0;32melse\u001b[0m\u001b[0;34m:\u001b[0m\u001b[0;34m\u001b[0m\u001b[0;34m\u001b[0m\u001b[0m\n\u001b[0;32m--> 889\u001b[0;31m             \u001b[0mresult\u001b[0m \u001b[0;34m=\u001b[0m \u001b[0mself\u001b[0m\u001b[0;34m.\u001b[0m\u001b[0mforward\u001b[0m\u001b[0;34m(\u001b[0m\u001b[0;34m*\u001b[0m\u001b[0minput\u001b[0m\u001b[0;34m,\u001b[0m \u001b[0;34m**\u001b[0m\u001b[0mkwargs\u001b[0m\u001b[0;34m)\u001b[0m\u001b[0;34m\u001b[0m\u001b[0;34m\u001b[0m\u001b[0m\n\u001b[0m\u001b[1;32m    890\u001b[0m         for hook in itertools.chain(\n\u001b[1;32m    891\u001b[0m                 \u001b[0m_global_forward_hooks\u001b[0m\u001b[0;34m.\u001b[0m\u001b[0mvalues\u001b[0m\u001b[0;34m(\u001b[0m\u001b[0;34m)\u001b[0m\u001b[0;34m,\u001b[0m\u001b[0;34m\u001b[0m\u001b[0;34m\u001b[0m\u001b[0m\n",
      "\u001b[0;32m<ipython-input-8-b3254b65d846>\u001b[0m in \u001b[0;36mforward\u001b[0;34m(self, x, s)\u001b[0m\n\u001b[1;32m    166\u001b[0m         \u001b[0mout\u001b[0m \u001b[0;34m=\u001b[0m \u001b[0mout\u001b[0m\u001b[0;34m.\u001b[0m\u001b[0mpermute\u001b[0m\u001b[0;34m(\u001b[0m\u001b[0;36m0\u001b[0m\u001b[0;34m,\u001b[0m \u001b[0;36m2\u001b[0m\u001b[0;34m,\u001b[0m \u001b[0;36m1\u001b[0m\u001b[0;34m)\u001b[0m\u001b[0;34m\u001b[0m\u001b[0;34m\u001b[0m\u001b[0m\n\u001b[1;32m    167\u001b[0m         \u001b[0mout\u001b[0m \u001b[0;34m=\u001b[0m \u001b[0mself\u001b[0m\u001b[0;34m.\u001b[0m\u001b[0mmaxpool\u001b[0m\u001b[0;34m(\u001b[0m\u001b[0mout\u001b[0m\u001b[0;34m)\u001b[0m\u001b[0;34m.\u001b[0m\u001b[0msqueeze\u001b[0m\u001b[0;34m(\u001b[0m\u001b[0;34m)\u001b[0m\u001b[0;34m\u001b[0m\u001b[0;34m\u001b[0m\u001b[0m\n\u001b[0;32m--> 168\u001b[0;31m         \u001b[0mout\u001b[0m \u001b[0;34m=\u001b[0m \u001b[0mself\u001b[0m\u001b[0;34m.\u001b[0m\u001b[0mfc\u001b[0m\u001b[0;34m(\u001b[0m\u001b[0mout\u001b[0m\u001b[0;34m)\u001b[0m\u001b[0;34m\u001b[0m\u001b[0;34m\u001b[0m\u001b[0m\n\u001b[0m\u001b[1;32m    169\u001b[0m         \u001b[0;32mreturn\u001b[0m \u001b[0mout\u001b[0m\u001b[0;34m\u001b[0m\u001b[0;34m\u001b[0m\u001b[0m\n\u001b[1;32m    170\u001b[0m \u001b[0;34m\u001b[0m\u001b[0m\n",
      "\u001b[0;32m~/.pyenv/versions/3.8.6/lib/python3.8/site-packages/torch/nn/modules/module.py\u001b[0m in \u001b[0;36m_call_impl\u001b[0;34m(self, *input, **kwargs)\u001b[0m\n\u001b[1;32m    887\u001b[0m             \u001b[0mresult\u001b[0m \u001b[0;34m=\u001b[0m \u001b[0mself\u001b[0m\u001b[0;34m.\u001b[0m\u001b[0m_slow_forward\u001b[0m\u001b[0;34m(\u001b[0m\u001b[0;34m*\u001b[0m\u001b[0minput\u001b[0m\u001b[0;34m,\u001b[0m \u001b[0;34m**\u001b[0m\u001b[0mkwargs\u001b[0m\u001b[0;34m)\u001b[0m\u001b[0;34m\u001b[0m\u001b[0;34m\u001b[0m\u001b[0m\n\u001b[1;32m    888\u001b[0m         \u001b[0;32melse\u001b[0m\u001b[0;34m:\u001b[0m\u001b[0;34m\u001b[0m\u001b[0;34m\u001b[0m\u001b[0m\n\u001b[0;32m--> 889\u001b[0;31m             \u001b[0mresult\u001b[0m \u001b[0;34m=\u001b[0m \u001b[0mself\u001b[0m\u001b[0;34m.\u001b[0m\u001b[0mforward\u001b[0m\u001b[0;34m(\u001b[0m\u001b[0;34m*\u001b[0m\u001b[0minput\u001b[0m\u001b[0;34m,\u001b[0m \u001b[0;34m**\u001b[0m\u001b[0mkwargs\u001b[0m\u001b[0;34m)\u001b[0m\u001b[0;34m\u001b[0m\u001b[0;34m\u001b[0m\u001b[0m\n\u001b[0m\u001b[1;32m    890\u001b[0m         for hook in itertools.chain(\n\u001b[1;32m    891\u001b[0m                 \u001b[0m_global_forward_hooks\u001b[0m\u001b[0;34m.\u001b[0m\u001b[0mvalues\u001b[0m\u001b[0;34m(\u001b[0m\u001b[0;34m)\u001b[0m\u001b[0;34m,\u001b[0m\u001b[0;34m\u001b[0m\u001b[0;34m\u001b[0m\u001b[0m\n",
      "\u001b[0;32m~/.pyenv/versions/3.8.6/lib/python3.8/site-packages/torch/nn/modules/linear.py\u001b[0m in \u001b[0;36mforward\u001b[0;34m(self, input)\u001b[0m\n\u001b[1;32m     92\u001b[0m \u001b[0;34m\u001b[0m\u001b[0m\n\u001b[1;32m     93\u001b[0m     \u001b[0;32mdef\u001b[0m \u001b[0mforward\u001b[0m\u001b[0;34m(\u001b[0m\u001b[0mself\u001b[0m\u001b[0;34m,\u001b[0m \u001b[0minput\u001b[0m\u001b[0;34m:\u001b[0m \u001b[0mTensor\u001b[0m\u001b[0;34m)\u001b[0m \u001b[0;34m->\u001b[0m \u001b[0mTensor\u001b[0m\u001b[0;34m:\u001b[0m\u001b[0;34m\u001b[0m\u001b[0;34m\u001b[0m\u001b[0m\n\u001b[0;32m---> 94\u001b[0;31m         \u001b[0;32mreturn\u001b[0m \u001b[0mF\u001b[0m\u001b[0;34m.\u001b[0m\u001b[0mlinear\u001b[0m\u001b[0;34m(\u001b[0m\u001b[0minput\u001b[0m\u001b[0;34m,\u001b[0m \u001b[0mself\u001b[0m\u001b[0;34m.\u001b[0m\u001b[0mweight\u001b[0m\u001b[0;34m,\u001b[0m \u001b[0mself\u001b[0m\u001b[0;34m.\u001b[0m\u001b[0mbias\u001b[0m\u001b[0;34m)\u001b[0m\u001b[0;34m\u001b[0m\u001b[0;34m\u001b[0m\u001b[0m\n\u001b[0m\u001b[1;32m     95\u001b[0m \u001b[0;34m\u001b[0m\u001b[0m\n\u001b[1;32m     96\u001b[0m     \u001b[0;32mdef\u001b[0m \u001b[0mextra_repr\u001b[0m\u001b[0;34m(\u001b[0m\u001b[0mself\u001b[0m\u001b[0;34m)\u001b[0m \u001b[0;34m->\u001b[0m \u001b[0mstr\u001b[0m\u001b[0;34m:\u001b[0m\u001b[0;34m\u001b[0m\u001b[0;34m\u001b[0m\u001b[0m\n",
      "\u001b[0;32m~/.pyenv/versions/3.8.6/lib/python3.8/site-packages/torch/nn/functional.py\u001b[0m in \u001b[0;36mlinear\u001b[0;34m(input, weight, bias)\u001b[0m\n\u001b[1;32m   1751\u001b[0m     \u001b[0;32mif\u001b[0m \u001b[0mhas_torch_function_variadic\u001b[0m\u001b[0;34m(\u001b[0m\u001b[0minput\u001b[0m\u001b[0;34m,\u001b[0m \u001b[0mweight\u001b[0m\u001b[0;34m)\u001b[0m\u001b[0;34m:\u001b[0m\u001b[0;34m\u001b[0m\u001b[0;34m\u001b[0m\u001b[0m\n\u001b[1;32m   1752\u001b[0m         \u001b[0;32mreturn\u001b[0m \u001b[0mhandle_torch_function\u001b[0m\u001b[0;34m(\u001b[0m\u001b[0mlinear\u001b[0m\u001b[0;34m,\u001b[0m \u001b[0;34m(\u001b[0m\u001b[0minput\u001b[0m\u001b[0;34m,\u001b[0m \u001b[0mweight\u001b[0m\u001b[0;34m)\u001b[0m\u001b[0;34m,\u001b[0m \u001b[0minput\u001b[0m\u001b[0;34m,\u001b[0m \u001b[0mweight\u001b[0m\u001b[0;34m,\u001b[0m \u001b[0mbias\u001b[0m\u001b[0;34m=\u001b[0m\u001b[0mbias\u001b[0m\u001b[0;34m)\u001b[0m\u001b[0;34m\u001b[0m\u001b[0;34m\u001b[0m\u001b[0m\n\u001b[0;32m-> 1753\u001b[0;31m     \u001b[0;32mreturn\u001b[0m \u001b[0mtorch\u001b[0m\u001b[0;34m.\u001b[0m\u001b[0m_C\u001b[0m\u001b[0;34m.\u001b[0m\u001b[0m_nn\u001b[0m\u001b[0;34m.\u001b[0m\u001b[0mlinear\u001b[0m\u001b[0;34m(\u001b[0m\u001b[0minput\u001b[0m\u001b[0;34m,\u001b[0m \u001b[0mweight\u001b[0m\u001b[0;34m,\u001b[0m \u001b[0mbias\u001b[0m\u001b[0;34m)\u001b[0m\u001b[0;34m\u001b[0m\u001b[0;34m\u001b[0m\u001b[0m\n\u001b[0m\u001b[1;32m   1754\u001b[0m \u001b[0;34m\u001b[0m\u001b[0m\n\u001b[1;32m   1755\u001b[0m \u001b[0;34m\u001b[0m\u001b[0m\n",
      "\u001b[0;31mRuntimeError\u001b[0m: mat1 and mat2 shapes cannot be multiplied (40960x2 and 1280x7)"
     ]
    }
   ],
   "source": [
    "trainloss, vloss, training_acc, validation_acc = train_model(model=berclsmodel, loss_fn=None, lr=lr, batch_size=batch_size,\n",
    "                                                             n_epochs=n_epochs, max_length=max_length)"
   ]
  },
  {
   "cell_type": "code",
   "execution_count": 13,
   "metadata": {},
   "outputs": [
    {
     "data": {
      "text/plain": [
       "torch.Size([2680, 64])"
      ]
     },
     "execution_count": 13,
     "metadata": {},
     "output_type": "execute_result"
    }
   ],
   "source": [
    "x_train_torch.shape"
   ]
  },
  {
   "cell_type": "code",
   "execution_count": null,
   "metadata": {},
   "outputs": [],
   "source": []
  },
  {
   "cell_type": "code",
   "execution_count": null,
   "metadata": {},
   "outputs": [],
   "source": []
  },
  {
   "cell_type": "code",
   "execution_count": null,
   "metadata": {},
   "outputs": [],
   "source": []
  },
  {
   "cell_type": "code",
   "execution_count": null,
   "metadata": {},
   "outputs": [],
   "source": []
  },
  {
   "cell_type": "code",
   "execution_count": 13,
   "metadata": {},
   "outputs": [
    {
     "data": {
      "image/png": "[encoded data removed]",
      "text/plain": [
       "<Figure size 432x288 with 1 Axes>"
      ]
     },
     "metadata": {},
     "output_type": "display_data"
    }
   ],
   "source": [
    "train_df['char_length'] = train_df['exercise_text'].apply(lambda x: len(str(x)))\n",
    "# look at the histogram plot for text length\n",
    "sns.set()\n",
    "train_df['char_length'].hist()\n",
    "plt.show()"
   ]
  },
  {
   "cell_type": "code",
   "execution_count": null,
   "metadata": {},
   "outputs": [],
   "source": []
  },
  {
   "cell_type": "code",
   "execution_count": null,
   "metadata": {},
   "outputs": [],
   "source": []
  },
  {
   "cell_type": "code",
   "execution_count": null,
   "metadata": {},
   "outputs": [],
   "source": []
  },
  {
   "cell_type": "code",
   "execution_count": null,
   "metadata": {},
   "outputs": [],
   "source": []
  },
  {
   "cell_type": "code",
   "execution_count": null,
   "metadata": {},
   "outputs": [],
   "source": []
  },
  {
   "cell_type": "code",
   "execution_count": null,
   "metadata": {},
   "outputs": [],
   "source": []
  },
  {
   "cell_type": "code",
   "execution_count": null,
   "metadata": {},
   "outputs": [],
   "source": []
  }
 ],
 "metadata": {
  "kernelspec": {
   "display_name": "Python 3",
   "language": "python",
   "name": "python3"
  },
  "language_info": {
   "codemirror_mode": {
    "name": "ipython",
    "version": 3
   },
   "file_extension": ".py",
   "mimetype": "text/x-python",
   "name": "python",
   "nbconvert_exporter": "python",
   "pygments_lexer": "ipython3",
   "version": "3.8.6"
  }
 },
 "nbformat": 4,
 "nbformat_minor": 4
}