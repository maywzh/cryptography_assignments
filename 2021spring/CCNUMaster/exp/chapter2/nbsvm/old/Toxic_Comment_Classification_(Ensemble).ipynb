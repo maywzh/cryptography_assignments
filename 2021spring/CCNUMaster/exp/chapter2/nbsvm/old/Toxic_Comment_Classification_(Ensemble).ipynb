{
  "nbformat": 4,
  "nbformat_minor": 0,
  "metadata": {
    "colab": {
      "name": "Toxic Comment Classification (Ensemble)",
      "provenance": [],
      "authorship_tag": "ABX9TyOtzoD5asxGE45lHyGJUTWC",
      "include_colab_link": true
    },
    "kernelspec": {
      "name": "python3",
      "display_name": "Python 3"
    }
  },
  "cells": [
    {
      "cell_type": "markdown",
      "metadata": {
        "id": "view-in-github",
        "colab_type": "text"
      },
      "source": [
        "<a href=\"https://colab.research.google.com/github/SaumilShah-7/Toxic-Comment-Classification-Challenge-Kaggle/blob/master/Toxic_Comment_Classification_(Ensemble).ipynb\" target=\"_parent\"><img src=\"https://colab.research.google.com/assets/colab-badge.svg\" alt=\"Open In Colab\"/></a>"
      ]
    },
    {
      "cell_type": "code",
      "metadata": {
        "id": "gRtkgfCl_nWJ",
        "colab_type": "code",
        "colab": {}
      },
      "source": [
        "import pandas as pd"
      ],
      "execution_count": 0,
      "outputs": []
    },
    {
      "cell_type": "code",
      "metadata": {
        "id": "JdE5nNxGBUWs",
        "colab_type": "code",
        "colab": {}
      },
      "source": [
        "sub1 = pd.read_csv('submission_NB-SVM.csv')\n",
        "sub2 = pd.read_csv('submission(GRU+Conv+FastText).csv')"
      ],
      "execution_count": 0,
      "outputs": []
    },
    {
      "cell_type": "code",
      "metadata": {
        "id": "cO4iTfEjBiss",
        "colab_type": "code",
        "colab": {}
      },
      "source": [
        "sub_final = pd.concat((sub1['id'], (sub1[list(sub1.columns[1:])]+sub2[list(sub1.columns[1:])])/2), axis=1)\n",
        "sub_final.to_csv('submission.csv', index=False)"
      ],
      "execution_count": 0,
      "outputs": []
    }
  ]
}
