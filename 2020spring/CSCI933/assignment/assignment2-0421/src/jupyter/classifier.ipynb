{
 "cells": [
  {
   "cell_type": "code",
   "execution_count": 96,
   "metadata": {},
   "outputs": [
    {
     "data": {
      "text/html": [
       "        <script type=\"text/javascript\">\n",
       "        window.PlotlyConfig = {MathJaxConfig: 'local'};\n",
       "        if (window.MathJax) {MathJax.Hub.Config({SVG: {font: \"STIX-Web\"}});}\n",
       "        if (typeof require !== 'undefined') {\n",
       "        require.undef(\"plotly\");\n",
       "        requirejs.config({\n",
       "            paths: {\n",
       "                'plotly': ['https://cdn.plot.ly/plotly-latest.min']\n",
       "            }\n",
       "        });\n",
       "        require(['plotly'], function(Plotly) {\n",
       "            window._Plotly = Plotly;\n",
       "        });\n",
       "        }\n",
       "        </script>\n",
       "        "
      ]
     },
     "metadata": {},
     "output_type": "display_data"
    },
    {
     "name": "stdout",
     "output_type": "stream",
     "text": [
      "['Untitled.ipynb', '.ipynb_checkpoints', 'diabetes.csv']\n"
     ]
    }
   ],
   "source": [
    "import numpy as np # linear algebra\n",
    "import pandas as pd # data processing, CSV file I/O (e.g. pd.read_csv)\n",
    "import matplotlib.pyplot as plt\n",
    "# plotly\n",
    "import chart_studio.plotly as py\n",
    "from plotly.offline import init_notebook_mode, iplot\n",
    "init_notebook_mode(connected=True)\n",
    "import plotly.graph_objs as go\n",
    "import itertools\n",
    "plt.style.use('fivethirtyeight')\n",
    "import seaborn as sns\n",
    "# import warnings\n",
    "import warnings\n",
    "# filter warnings\n",
    "warnings.filterwarnings('ignore')\n",
    "# Input data files are available in the \"../input/\" directory.\n",
    "# For example, running this (by clicking run or pressing Shift+Enter) will list the files in the input directory\n",
    "\n",
    "import os\n",
    "print(os.listdir(\"./\"))"
   ]
  },
  {
   "cell_type": "code",
   "execution_count": 7,
   "metadata": {},
   "outputs": [],
   "source": [
    "data = pd.read_csv(\"./diabetes.csv\")\n"
   ]
  },
  {
   "cell_type": "code",
   "execution_count": 8,
   "metadata": {},
   "outputs": [
    {
     "name": "stdout",
     "output_type": "stream",
     "text": [
      "<class 'pandas.core.frame.DataFrame'>\n",
      "RangeIndex: 768 entries, 0 to 767\n",
      "Data columns (total 9 columns):\n",
      " #   Column                    Non-Null Count  Dtype  \n",
      "---  ------                    --------------  -----  \n",
      " 0   Pregnancies               768 non-null    int64  \n",
      " 1   Glucose                   768 non-null    int64  \n",
      " 2   BloodPressure             768 non-null    int64  \n",
      " 3   SkinThickness             768 non-null    int64  \n",
      " 4   Insulin                   768 non-null    int64  \n",
      " 5   BMI                       768 non-null    float64\n",
      " 6   DiabetesPedigreeFunction  768 non-null    float64\n",
      " 7   Age                       768 non-null    int64  \n",
      " 8   Outcome                   768 non-null    int64  \n",
      "dtypes: float64(2), int64(7)\n",
      "memory usage: 54.1 KB\n"
     ]
    }
   ],
   "source": [
    "data.info()"
   ]
  },
  {
   "cell_type": "code",
   "execution_count": 9,
   "metadata": {},
   "outputs": [
    {
     "data": {
      "text/html": [
       "<div>\n",
       "<style scoped>\n",
       "    .dataframe tbody tr th:only-of-type {\n",
       "        vertical-align: middle;\n",
       "    }\n",
       "\n",
       "    .dataframe tbody tr th {\n",
       "        vertical-align: top;\n",
       "    }\n",
       "\n",
       "    .dataframe thead th {\n",
       "        text-align: right;\n",
       "    }\n",
       "</style>\n",
       "<table border=\"1\" class=\"dataframe\">\n",
       "  <thead>\n",
       "    <tr style=\"text-align: right;\">\n",
       "      <th></th>\n",
       "      <th>Pregnancies</th>\n",
       "      <th>Glucose</th>\n",
       "      <th>BloodPressure</th>\n",
       "      <th>SkinThickness</th>\n",
       "      <th>Insulin</th>\n",
       "      <th>BMI</th>\n",
       "      <th>DiabetesPedigreeFunction</th>\n",
       "      <th>Age</th>\n",
       "      <th>Outcome</th>\n",
       "    </tr>\n",
       "  </thead>\n",
       "  <tbody>\n",
       "    <tr>\n",
       "      <th>0</th>\n",
       "      <td>6</td>\n",
       "      <td>148</td>\n",
       "      <td>72</td>\n",
       "      <td>35</td>\n",
       "      <td>0</td>\n",
       "      <td>33.6</td>\n",
       "      <td>0.627</td>\n",
       "      <td>50</td>\n",
       "      <td>1</td>\n",
       "    </tr>\n",
       "    <tr>\n",
       "      <th>1</th>\n",
       "      <td>1</td>\n",
       "      <td>85</td>\n",
       "      <td>66</td>\n",
       "      <td>29</td>\n",
       "      <td>0</td>\n",
       "      <td>26.6</td>\n",
       "      <td>0.351</td>\n",
       "      <td>31</td>\n",
       "      <td>0</td>\n",
       "    </tr>\n",
       "    <tr>\n",
       "      <th>2</th>\n",
       "      <td>8</td>\n",
       "      <td>183</td>\n",
       "      <td>64</td>\n",
       "      <td>0</td>\n",
       "      <td>0</td>\n",
       "      <td>23.3</td>\n",
       "      <td>0.672</td>\n",
       "      <td>32</td>\n",
       "      <td>1</td>\n",
       "    </tr>\n",
       "    <tr>\n",
       "      <th>3</th>\n",
       "      <td>1</td>\n",
       "      <td>89</td>\n",
       "      <td>66</td>\n",
       "      <td>23</td>\n",
       "      <td>94</td>\n",
       "      <td>28.1</td>\n",
       "      <td>0.167</td>\n",
       "      <td>21</td>\n",
       "      <td>0</td>\n",
       "    </tr>\n",
       "    <tr>\n",
       "      <th>4</th>\n",
       "      <td>0</td>\n",
       "      <td>137</td>\n",
       "      <td>40</td>\n",
       "      <td>35</td>\n",
       "      <td>168</td>\n",
       "      <td>43.1</td>\n",
       "      <td>2.288</td>\n",
       "      <td>33</td>\n",
       "      <td>1</td>\n",
       "    </tr>\n",
       "  </tbody>\n",
       "</table>\n",
       "</div>"
      ],
      "text/plain": [
       "   Pregnancies  Glucose  BloodPressure  SkinThickness  Insulin   BMI  \\\n",
       "0            6      148             72             35        0  33.6   \n",
       "1            1       85             66             29        0  26.6   \n",
       "2            8      183             64              0        0  23.3   \n",
       "3            1       89             66             23       94  28.1   \n",
       "4            0      137             40             35      168  43.1   \n",
       "\n",
       "   DiabetesPedigreeFunction  Age  Outcome  \n",
       "0                     0.627   50        1  \n",
       "1                     0.351   31        0  \n",
       "2                     0.672   32        1  \n",
       "3                     0.167   21        0  \n",
       "4                     2.288   33        1  "
      ]
     },
     "execution_count": 9,
     "metadata": {},
     "output_type": "execute_result"
    }
   ],
   "source": [
    "data.head()"
   ]
  },
  {
   "cell_type": "code",
   "execution_count": null,
   "metadata": {},
   "outputs": [],
   "source": []
  },
  {
   "cell_type": "code",
   "execution_count": 10,
   "metadata": {},
   "outputs": [],
   "source": [
    "#Split Data as M&B\n",
    "p = data[data.Outcome == 1]\n",
    "n = data[data.Outcome == 0]"
   ]
  },
  {
   "cell_type": "code",
   "execution_count": 13,
   "metadata": {},
   "outputs": [
    {
     "data": {
      "image/png": "[encoded data removed]",
      "text/plain": [
       "<Figure size 864x864 with 2 Axes>"
      ]
     },
     "metadata": {},
     "output_type": "display_data"
    },
    {
     "name": "stdout",
     "output_type": "stream",
     "text": [
      "List the numerical features decendingly by their correlation:\n",
      "\n",
      "('Glucose', 0.4665813983068757)\n",
      "('BMI', 0.29269466264444666)\n",
      "('Age', 0.23835598302719743)\n",
      "('Pregnancies', 0.2218981530339883)\n",
      "('DiabetesPedigreeFunction', 0.17384406565296076)\n",
      "('Insulin', 0.13054795488404808)\n",
      "('SkinThickness', 0.07475223191831948)\n",
      "('BloodPressure', 0.06506835955033308)\n"
     ]
    }
   ],
   "source": [
    "hitmapTemp = data[['Pregnancies','Glucose','BloodPressure','SkinThickness','Insulin','BMI','DiabetesPedigreeFunction','Age','Outcome']]\n",
    "hitmapData = hitmapTemp.corr()\n",
    "f, ax = plt.subplots(figsize=(12, 12))\n",
    "sns.heatmap(hitmapData, vmax=1, square=True)\n",
    "plt.show()\n",
    "hitmap_dict = hitmapData['Outcome'].to_dict()\n",
    "del hitmap_dict['Outcome']\n",
    "print(\"List the numerical features decendingly by their correlation:\\n\")\n",
    "for ele in sorted(hitmap_dict.items(), key = lambda x: -abs(x[1])):\n",
    "    print(ele)"
   ]
  },
  {
   "cell_type": "code",
   "execution_count": null,
   "metadata": {},
   "outputs": [],
   "source": []
  },
  {
   "cell_type": "code",
   "execution_count": null,
   "metadata": {},
   "outputs": [],
   "source": []
  },
  {
   "cell_type": "code",
   "execution_count": null,
   "metadata": {},
   "outputs": [],
   "source": []
  },
  {
   "cell_type": "code",
   "execution_count": null,
   "metadata": {},
   "outputs": [],
   "source": []
  },
  {
   "cell_type": "code",
   "execution_count": 97,
   "metadata": {},
   "outputs": [
    {
     "ename": "AttributeError",
     "evalue": "'list' object has no attribute 'get'",
     "output_type": "error",
     "traceback": [
      "\u001b[0;31m---------------------------------------------------------------------------\u001b[0m",
      "\u001b[0;31mAttributeError\u001b[0m                            Traceback (most recent call last)",
      "\u001b[0;32m<ipython-input-97-b072d7797e57>\u001b[0m in \u001b[0;36m<module>\u001b[0;34m\u001b[0m\n\u001b[1;32m      1\u001b[0m \u001b[0;31m#Visualization\u001b[0m\u001b[0;34m\u001b[0m\u001b[0;34m\u001b[0m\u001b[0;34m\u001b[0m\u001b[0m\n\u001b[0;32m----> 2\u001b[0;31m \u001b[0msns\u001b[0m\u001b[0;34m.\u001b[0m\u001b[0mcountplot\u001b[0m\u001b[0;34m(\u001b[0m\u001b[0mx\u001b[0m\u001b[0;34m=\u001b[0m\u001b[0;34m'Outcome'\u001b[0m\u001b[0;34m,\u001b[0m\u001b[0mdata\u001b[0m\u001b[0;34m=\u001b[0m\u001b[0mdata\u001b[0m\u001b[0;34m)\u001b[0m\u001b[0;34m\u001b[0m\u001b[0;34m\u001b[0m\u001b[0m\n\u001b[0m\u001b[1;32m      3\u001b[0m \u001b[0mplt\u001b[0m\u001b[0;34m.\u001b[0m\u001b[0mtitle\u001b[0m\u001b[0;34m(\u001b[0m\u001b[0;34m\"Count 0 & 1\"\u001b[0m\u001b[0;34m)\u001b[0m\u001b[0;34m\u001b[0m\u001b[0;34m\u001b[0m\u001b[0m\n\u001b[1;32m      4\u001b[0m \u001b[0mplt\u001b[0m\u001b[0;34m.\u001b[0m\u001b[0mshow\u001b[0m\u001b[0;34m(\u001b[0m\u001b[0;34m)\u001b[0m\u001b[0;34m\u001b[0m\u001b[0;34m\u001b[0m\u001b[0m\n",
      "\u001b[0;32m~/.pyenv/versions/3.7.7/lib/python3.7/site-packages/seaborn/categorical.py\u001b[0m in \u001b[0;36mcountplot\u001b[0;34m(x, y, hue, data, order, hue_order, orient, color, palette, saturation, dodge, ax, **kwargs)\u001b[0m\n\u001b[1;32m   3553\u001b[0m                           \u001b[0mestimator\u001b[0m\u001b[0;34m,\u001b[0m \u001b[0mci\u001b[0m\u001b[0;34m,\u001b[0m \u001b[0mn_boot\u001b[0m\u001b[0;34m,\u001b[0m \u001b[0munits\u001b[0m\u001b[0;34m,\u001b[0m \u001b[0mseed\u001b[0m\u001b[0;34m,\u001b[0m\u001b[0;34m\u001b[0m\u001b[0;34m\u001b[0m\u001b[0m\n\u001b[1;32m   3554\u001b[0m                           \u001b[0morient\u001b[0m\u001b[0;34m,\u001b[0m \u001b[0mcolor\u001b[0m\u001b[0;34m,\u001b[0m \u001b[0mpalette\u001b[0m\u001b[0;34m,\u001b[0m \u001b[0msaturation\u001b[0m\u001b[0;34m,\u001b[0m\u001b[0;34m\u001b[0m\u001b[0;34m\u001b[0m\u001b[0m\n\u001b[0;32m-> 3555\u001b[0;31m                           errcolor, errwidth, capsize, dodge)\n\u001b[0m\u001b[1;32m   3556\u001b[0m \u001b[0;34m\u001b[0m\u001b[0m\n\u001b[1;32m   3557\u001b[0m     \u001b[0mplotter\u001b[0m\u001b[0;34m.\u001b[0m\u001b[0mvalue_label\u001b[0m \u001b[0;34m=\u001b[0m \u001b[0;34m\"count\"\u001b[0m\u001b[0;34m\u001b[0m\u001b[0;34m\u001b[0m\u001b[0m\n",
      "\u001b[0;32m~/.pyenv/versions/3.7.7/lib/python3.7/site-packages/seaborn/categorical.py\u001b[0m in \u001b[0;36m__init__\u001b[0;34m(self, x, y, hue, data, order, hue_order, estimator, ci, n_boot, units, seed, orient, color, palette, saturation, errcolor, errwidth, capsize, dodge)\u001b[0m\n\u001b[1;32m   1613\u001b[0m         \u001b[0;34m\"\"\"Initialize the plotter.\"\"\"\u001b[0m\u001b[0;34m\u001b[0m\u001b[0;34m\u001b[0m\u001b[0m\n\u001b[1;32m   1614\u001b[0m         self.establish_variables(x, y, hue, data, orient,\n\u001b[0;32m-> 1615\u001b[0;31m                                  order, hue_order, units)\n\u001b[0m\u001b[1;32m   1616\u001b[0m         \u001b[0mself\u001b[0m\u001b[0;34m.\u001b[0m\u001b[0mestablish_colors\u001b[0m\u001b[0;34m(\u001b[0m\u001b[0mcolor\u001b[0m\u001b[0;34m,\u001b[0m \u001b[0mpalette\u001b[0m\u001b[0;34m,\u001b[0m \u001b[0msaturation\u001b[0m\u001b[0;34m)\u001b[0m\u001b[0;34m\u001b[0m\u001b[0;34m\u001b[0m\u001b[0m\n\u001b[1;32m   1617\u001b[0m         \u001b[0mself\u001b[0m\u001b[0;34m.\u001b[0m\u001b[0mestimate_statistic\u001b[0m\u001b[0;34m(\u001b[0m\u001b[0mestimator\u001b[0m\u001b[0;34m,\u001b[0m \u001b[0mci\u001b[0m\u001b[0;34m,\u001b[0m \u001b[0mn_boot\u001b[0m\u001b[0;34m,\u001b[0m \u001b[0mseed\u001b[0m\u001b[0;34m)\u001b[0m\u001b[0;34m\u001b[0m\u001b[0;34m\u001b[0m\u001b[0m\n",
      "\u001b[0;32m~/.pyenv/versions/3.7.7/lib/python3.7/site-packages/seaborn/categorical.py\u001b[0m in \u001b[0;36mestablish_variables\u001b[0;34m(self, x, y, hue, data, orient, order, hue_order, units)\u001b[0m\n\u001b[1;32m    141\u001b[0m             \u001b[0;31m# See if we need to get variables from `data`\u001b[0m\u001b[0;34m\u001b[0m\u001b[0;34m\u001b[0m\u001b[0;34m\u001b[0m\u001b[0m\n\u001b[1;32m    142\u001b[0m             \u001b[0;32mif\u001b[0m \u001b[0mdata\u001b[0m \u001b[0;32mis\u001b[0m \u001b[0;32mnot\u001b[0m \u001b[0;32mNone\u001b[0m\u001b[0;34m:\u001b[0m\u001b[0;34m\u001b[0m\u001b[0;34m\u001b[0m\u001b[0m\n\u001b[0;32m--> 143\u001b[0;31m                 \u001b[0mx\u001b[0m \u001b[0;34m=\u001b[0m \u001b[0mdata\u001b[0m\u001b[0;34m.\u001b[0m\u001b[0mget\u001b[0m\u001b[0;34m(\u001b[0m\u001b[0mx\u001b[0m\u001b[0;34m,\u001b[0m \u001b[0mx\u001b[0m\u001b[0;34m)\u001b[0m\u001b[0;34m\u001b[0m\u001b[0;34m\u001b[0m\u001b[0m\n\u001b[0m\u001b[1;32m    144\u001b[0m                 \u001b[0my\u001b[0m \u001b[0;34m=\u001b[0m \u001b[0mdata\u001b[0m\u001b[0;34m.\u001b[0m\u001b[0mget\u001b[0m\u001b[0;34m(\u001b[0m\u001b[0my\u001b[0m\u001b[0;34m,\u001b[0m \u001b[0my\u001b[0m\u001b[0;34m)\u001b[0m\u001b[0;34m\u001b[0m\u001b[0;34m\u001b[0m\u001b[0m\n\u001b[1;32m    145\u001b[0m                 \u001b[0mhue\u001b[0m \u001b[0;34m=\u001b[0m \u001b[0mdata\u001b[0m\u001b[0;34m.\u001b[0m\u001b[0mget\u001b[0m\u001b[0;34m(\u001b[0m\u001b[0mhue\u001b[0m\u001b[0;34m,\u001b[0m \u001b[0mhue\u001b[0m\u001b[0;34m)\u001b[0m\u001b[0;34m\u001b[0m\u001b[0;34m\u001b[0m\u001b[0m\n",
      "\u001b[0;31mAttributeError\u001b[0m: 'list' object has no attribute 'get'"
     ]
    }
   ],
   "source": [
    "#Visualization\n",
    "sns.countplot(x='Outcome',data=data)\n",
    "plt.title(\"Count 0 & 1\")\n",
    "plt.show()"
   ]
  },
  {
   "cell_type": "code",
   "execution_count": null,
   "metadata": {},
   "outputs": [],
   "source": []
  },
  {
   "cell_type": "code",
   "execution_count": 12,
   "metadata": {},
   "outputs": [
    {
     "data": {
      "image/png": "[encoded data removed]",
      "text/plain": [
       "<Figure size 1296x1296 with 8 Axes>"
      ]
     },
     "metadata": {},
     "output_type": "display_data"
    }
   ],
   "source": [
    "#General Analysis\n",
    "\n",
    "data1 = data[data[\"Outcome\"]==1]\n",
    "columns = data.columns[:8]\n",
    "plt.subplots(figsize=(18,18))\n",
    "length =len(columns)\n",
    "for i,j in itertools.zip_longest(columns,range(length)):\n",
    "    plt.subplot((length/2),3,j+1)\n",
    "    plt.subplots_adjust(wspace=0.2,hspace=0.5)\n",
    "    plt.ylabel(\"Count\")\n",
    "    data1[i].hist(bins=20,edgecolor='black')\n",
    "    plt.title(i)\n",
    "plt.show()"
   ]
  },
  {
   "cell_type": "code",
   "execution_count": 13,
   "metadata": {
    "scrolled": true
   },
   "outputs": [
    {
     "data": {
      "image/png": "[encoded data removed]",
      "text/plain": [
       "<Figure size 1296x1296 with 8 Axes>"
      ]
     },
     "metadata": {},
     "output_type": "display_data"
    }
   ],
   "source": [
    "#General Analysis\n",
    "\n",
    "data1 = data[data[\"Outcome\"]==0]\n",
    "columns = data.columns[:8]\n",
    "plt.subplots(figsize=(18,18))\n",
    "length =len(columns)\n",
    "for i,j in itertools.zip_longest(columns,range(length)):\n",
    "    plt.subplot((length/2),3,j+1)\n",
    "    plt.subplots_adjust(wspace=0.2,hspace=0.5)\n",
    "    plt.ylabel(\"Count\")\n",
    "    data1[i].hist(bins=20,edgecolor='black')\n",
    "    plt.title(i)\n",
    "plt.show()"
   ]
  },
  {
   "cell_type": "code",
   "execution_count": 14,
   "metadata": {},
   "outputs": [
    {
     "data": {
      "image/png": "[encoded data removed]",
      "text/plain": [
       "<Figure size 432x288 with 1 Axes>"
      ]
     },
     "metadata": {},
     "output_type": "display_data"
    }
   ],
   "source": [
    "#Visualization, Scatter Plot\n",
    "\n",
    "plt.scatter(p.Pregnancies,p.Glucose,color = \"brown\",label=\"Diabet Positive\",alpha=0.4)\n",
    "plt.scatter(n.Pregnancies,n.Glucose,color = \"Orange\",label=\"Diabet Negative\",alpha=0.2)\n",
    "plt.xlabel(\"Pregnancies\")\n",
    "plt.ylabel(\"Glucose\")\n",
    "plt.legend()\n",
    "plt.show()\n",
    "\n",
    "#We appear that it is clear segregation."
   ]
  },
  {
   "cell_type": "code",
   "execution_count": 15,
   "metadata": {},
   "outputs": [
    {
     "data": {
      "image/png": "[encoded data removed]",
      "text/plain": [
       "<Figure size 432x288 with 1 Axes>"
      ]
     },
     "metadata": {},
     "output_type": "display_data"
    }
   ],
   "source": [
    "#Visualization, Scatter Plot\n",
    "\n",
    "plt.scatter(p.Age,p.Pregnancies,color = \"lime\",label=\"Diabet Positive\",alpha=0.4)\n",
    "plt.scatter(n.Age,n.Pregnancies,color = \"black\",label=\"Diabet Negative\",alpha=0.2)\n",
    "plt.xlabel(\"Age\")\n",
    "plt.ylabel(\"Pregnancies\")\n",
    "plt.legend()\n",
    "plt.show()\n",
    "\n",
    "#We appear that it is clear segregation."
   ]
  },
  {
   "cell_type": "code",
   "execution_count": 16,
   "metadata": {},
   "outputs": [
    {
     "data": {
      "image/png": "[encoded data removed]",
      "text/plain": [
       "<Figure size 432x288 with 1 Axes>"
      ]
     },
     "metadata": {},
     "output_type": "display_data"
    }
   ],
   "source": [
    "#Visualization, Scatter Plot\n",
    "\n",
    "plt.scatter(p.Glucose,p.Insulin,color = \"lime\",label=\"Diabet Positive\",alpha=0.4)\n",
    "plt.scatter(n.Glucose,n.Insulin,color = \"black\",label=\"Diabet Negative\",alpha=0.1)\n",
    "plt.xlabel(\"Glucose\")\n",
    "plt.ylabel(\"Insulin\")\n",
    "plt.legend()\n",
    "plt.show()\n",
    "\n",
    "#We appear that it is clear segregation."
   ]
  },
  {
   "cell_type": "code",
   "execution_count": 17,
   "metadata": {},
   "outputs": [],
   "source": [
    "#separate data as x (features) & y (labels)\n",
    "y= data.Outcome.values\n",
    "x1= data.drop([\"Outcome\"],axis= 1) #we remowe diagnosis for predict\n"
   ]
  },
  {
   "cell_type": "code",
   "execution_count": 18,
   "metadata": {},
   "outputs": [],
   "source": [
    "#normalization\n",
    "x = (x1-np.min(x1))/(np.max(x1)-np.min(x1))"
   ]
  },
  {
   "cell_type": "code",
   "execution_count": 19,
   "metadata": {},
   "outputs": [],
   "source": [
    "#Comparison of ML Classification Algorithms\n",
    "#Train-Test-Split \n",
    "from sklearn.model_selection import train_test_split\n",
    "xtrain, xtest, ytrain, ytest =  train_test_split(x,y,test_size=0.3,random_state=42)\n"
   ]
  },
  {
   "cell_type": "code",
   "execution_count": 21,
   "metadata": {},
   "outputs": [],
   "source": [
    "#Logistic Regression Classification¶\n",
    "from sklearn.linear_model import LogisticRegression\n",
    "LR = LogisticRegression()\n"
   ]
  },
  {
   "cell_type": "code",
   "execution_count": 22,
   "metadata": {},
   "outputs": [
    {
     "name": "stdout",
     "output_type": "stream",
     "text": [
      "Average Accuracies:  0.7616352201257862\n",
      "Standart Deviation Accuracies:  0.048131816098786834\n"
     ]
    }
   ],
   "source": [
    "#K-fold CV\n",
    "from sklearn.model_selection import cross_val_score\n",
    "accuraccies = cross_val_score(estimator = LR, X= xtrain, y=ytrain, cv=10)\n",
    "print(\"Average Accuracies: \",np.mean(accuraccies))\n",
    "print(\"Standart Deviation Accuracies: \",np.std(accuraccies))"
   ]
  },
  {
   "cell_type": "code",
   "execution_count": 23,
   "metadata": {},
   "outputs": [
    {
     "name": "stdout",
     "output_type": "stream",
     "text": [
      "Test Accuracy 0.7445887445887446\n"
     ]
    }
   ],
   "source": [
    "LR.fit(xtrain,ytrain)\n",
    "print(\"Test Accuracy {}\".format(LR.score(xtest,ytest))) \n",
    "\n",
    "LRscore = LR.score(xtest,ytest)"
   ]
  },
  {
   "cell_type": "code",
   "execution_count": 66,
   "metadata": {},
   "outputs": [
    {
     "data": {
      "image/png": "[encoded data removed]",
      "text/plain": [
       "<Figure size 360x360 with 2 Axes>"
      ]
     },
     "metadata": {},
     "output_type": "display_data"
    }
   ],
   "source": [
    "#Confusion Matrix\n",
    "\n",
    "yprediciton1= LR.predict(xtest)\n",
    "ytrue = ytest\n",
    "\n",
    "from sklearn.metrics import confusion_matrix\n",
    "CM = confusion_matrix(ytrue,yprediciton1)\n",
    "\n",
    "#CM visualization\n",
    "\n",
    "import seaborn as sns\n",
    "import matplotlib.pyplot as plt\n",
    "\n",
    "f, ax = plt.subplots(figsize=(5,5))\n",
    "sns.heatmap(CM,annot = True, linewidths=0.5,linecolor=\"red\",fmt=\".0f\",ax=ax)\n",
    "plt.xlabel(\"Prediction\")\n",
    "plt.ylabel(\"True\")\n",
    "plt.show()"
   ]
  },
  {
   "cell_type": "code",
   "execution_count": null,
   "metadata": {},
   "outputs": [],
   "source": []
  },
  {
   "cell_type": "code",
   "execution_count": 25,
   "metadata": {},
   "outputs": [],
   "source": [
    "#Create-KNN-model\n",
    "from sklearn.neighbors import KNeighborsClassifier\n",
    "KNN = KNeighborsClassifier(n_neighbors = 40) #n_neighbors = K value"
   ]
  },
  {
   "cell_type": "code",
   "execution_count": 26,
   "metadata": {},
   "outputs": [
    {
     "name": "stdout",
     "output_type": "stream",
     "text": [
      "Average Accuracies:  0.7431167016072676\n",
      "Standart Deviation Accuracies:  0.04692037472446394\n"
     ]
    }
   ],
   "source": [
    "#K-fold CV\n",
    "from sklearn.model_selection import cross_val_score\n",
    "accuraccies = cross_val_score(estimator = KNN, X= xtrain, y=ytrain, cv=10)\n",
    "print(\"Average Accuracies: \",np.mean(accuraccies))\n",
    "print(\"Standart Deviation Accuracies: \",np.std(accuraccies))"
   ]
  },
  {
   "cell_type": "code",
   "execution_count": 27,
   "metadata": {},
   "outputs": [
    {
     "name": "stdout",
     "output_type": "stream",
     "text": [
      "40-NN Score: 0.7532467532467533\n"
     ]
    }
   ],
   "source": [
    "KNN.fit(xtrain,ytrain) #learning model\n",
    "prediction = KNN.predict(xtest)\n",
    "#Prediction\n",
    "print(\"{}-NN Score: {}\".format(40,KNN.score(xtest,ytest)))\n",
    "\n",
    "KNNscore = KNN.score(xtest,ytest)"
   ]
  },
  {
   "cell_type": "code",
   "execution_count": 28,
   "metadata": {},
   "outputs": [
    {
     "data": {
      "image/png": "[encoded data removed]",
      "text/plain": [
       "<Figure size 720x360 with 1 Axes>"
      ]
     },
     "metadata": {},
     "output_type": "display_data"
    }
   ],
   "source": [
    "#Find Optimum K value\n",
    "scores = []\n",
    "for each in range(1,100):\n",
    "    KNNfind = KNeighborsClassifier(n_neighbors = each)\n",
    "    KNNfind.fit(xtrain,ytrain)\n",
    "    scores.append(KNNfind.score(xtest,ytest))\n",
    "\n",
    "plt.figure(1, figsize=(10, 5))\n",
    "plt.plot(range(1,100),scores,color=\"black\",linewidth=2)\n",
    "plt.title(\"Optimum K Value\")\n",
    "plt.xlabel(\"K Values\")\n",
    "plt.ylabel(\"Score(Accuracy)\")\n",
    "plt.grid(True)\n",
    "plt.show()"
   ]
  },
  {
   "cell_type": "code",
   "execution_count": 67,
   "metadata": {},
   "outputs": [
    {
     "data": {
      "image/png": "[encoded data removed]",
      "text/plain": [
       "<Figure size 360x360 with 2 Axes>"
      ]
     },
     "metadata": {},
     "output_type": "display_data"
    }
   ],
   "source": [
    "#Confusion Matrix\n",
    "\n",
    "yprediciton2= KNN.predict(xtest)\n",
    "ytrue = ytest\n",
    "\n",
    "from sklearn.metrics import confusion_matrix\n",
    "CM = confusion_matrix(ytrue,yprediciton2)\n",
    "\n",
    "#CM visualization\n",
    "\n",
    "import seaborn as sns\n",
    "import matplotlib.pyplot as plt\n",
    "\n",
    "f, ax = plt.subplots(figsize=(5,5))\n",
    "sns.heatmap(CM,annot = True, linewidths=0.5,linecolor=\"red\",fmt=\".0f\",ax=ax)\n",
    "plt.xlabel(\"Prediction\")\n",
    "plt.ylabel(\"True\")\n",
    "plt.show()"
   ]
  },
  {
   "cell_type": "code",
   "execution_count": null,
   "metadata": {},
   "outputs": [],
   "source": []
  },
  {
   "cell_type": "code",
   "execution_count": 31,
   "metadata": {},
   "outputs": [],
   "source": [
    "#SVM with Sklearn\n",
    "\n",
    "from sklearn.svm import SVC\n",
    "\n",
    "SVM = SVC(random_state=42)"
   ]
  },
  {
   "cell_type": "code",
   "execution_count": 32,
   "metadata": {},
   "outputs": [
    {
     "name": "stdout",
     "output_type": "stream",
     "text": [
      "Average Accuracies:  0.76722571628232\n",
      "Standart Deviation Accuracies:  0.055156325649035956\n"
     ]
    }
   ],
   "source": [
    "#K-fold CV\n",
    "from sklearn.model_selection import cross_val_score\n",
    "accuraccies = cross_val_score(estimator = SVM, X= xtrain, y=ytrain, cv=10)\n",
    "print(\"Average Accuracies: \",np.mean(accuraccies))\n",
    "print(\"Standart Deviation Accuracies: \",np.std(accuraccies))"
   ]
  },
  {
   "cell_type": "code",
   "execution_count": 33,
   "metadata": {},
   "outputs": [
    {
     "name": "stdout",
     "output_type": "stream",
     "text": [
      "SVM Accuracy: 0.7532467532467533\n"
     ]
    }
   ],
   "source": [
    "SVM.fit(xtrain,ytrain)  #learning \n",
    "#SVM Test \n",
    "print (\"SVM Accuracy:\", SVM.score(xtest,ytest))\n",
    "\n",
    "SVMscore = SVM.score(xtest,ytest)"
   ]
  },
  {
   "cell_type": "code",
   "execution_count": 40,
   "metadata": {},
   "outputs": [
    {
     "data": {
      "image/png": "[encoded data removed]",
      "text/plain": [
       "<Figure size 360x360 with 2 Axes>"
      ]
     },
     "metadata": {},
     "output_type": "display_data"
    }
   ],
   "source": [
    "#Confusion Matrix\n",
    "\n",
    "yprediciton3= SVM.predict(xtest)\n",
    "ytrue = ytest\n",
    "\n",
    "from sklearn.metrics import confusion_matrix\n",
    "CM = confusion_matrix(ytrue,yprediciton3)\n",
    "\n",
    "#CM visualization\n",
    "\n",
    "import seaborn as sns\n",
    "import matplotlib.pyplot as plt\n",
    "\n",
    "f, ax = plt.subplots(figsize=(5,5))\n",
    "sns.heatmap(CM,annot = True, linewidths=0.5,linecolor=\"red\",fmt=\".0f\",ax=ax)\n",
    "plt.xlabel(\"Prediction\")\n",
    "plt.ylabel(\"True\")\n",
    "plt.show()"
   ]
  },
  {
   "cell_type": "code",
   "execution_count": null,
   "metadata": {},
   "outputs": [],
   "source": []
  },
  {
   "cell_type": "code",
   "execution_count": 35,
   "metadata": {},
   "outputs": [],
   "source": [
    "#Naive Bayes\n",
    "from sklearn.naive_bayes import GaussianNB\n",
    "NB = GaussianNB()"
   ]
  },
  {
   "cell_type": "code",
   "execution_count": 36,
   "metadata": {},
   "outputs": [
    {
     "name": "stdout",
     "output_type": "stream",
     "text": [
      "Average Accuracies:  0.7577218728162125\n",
      "Standart Deviation Accuracies:  0.056690670157824676\n"
     ]
    }
   ],
   "source": [
    "#K-fold CV\n",
    "from sklearn.model_selection import cross_val_score\n",
    "accuraccies = cross_val_score(estimator = NB, X= xtrain, y=ytrain, cv=10)\n",
    "print(\"Average Accuracies: \",np.mean(accuraccies))\n",
    "print(\"Standart Deviation Accuracies: \",np.std(accuraccies))"
   ]
  },
  {
   "cell_type": "code",
   "execution_count": 37,
   "metadata": {},
   "outputs": [
    {
     "name": "stdout",
     "output_type": "stream",
     "text": [
      "Accuracy of NB Score:  0.7445887445887446\n"
     ]
    }
   ],
   "source": [
    "NB.fit(xtrain,ytrain) #learning\n",
    "#prediction\n",
    "print(\"Accuracy of NB Score: \", NB.score(xtest,ytest))\n",
    "\n",
    "NBscore= NB.score(xtest,ytest)"
   ]
  },
  {
   "cell_type": "code",
   "execution_count": 39,
   "metadata": {},
   "outputs": [
    {
     "data": {
      "image/png": "[encoded data removed]",
      "text/plain": [
       "<Figure size 360x360 with 2 Axes>"
      ]
     },
     "metadata": {},
     "output_type": "display_data"
    }
   ],
   "source": [
    "#Confusion Matrix\n",
    "\n",
    "yprediciton4= NB.predict(xtest)\n",
    "ytrue = ytest\n",
    "\n",
    "from sklearn.metrics import confusion_matrix\n",
    "CM = confusion_matrix(ytrue,yprediciton4)\n",
    "\n",
    "#CM visualization\n",
    "\n",
    "import seaborn as sns\n",
    "import matplotlib.pyplot as plt\n",
    "\n",
    "f, ax = plt.subplots(figsize=(5,5))\n",
    "sns.heatmap(CM,annot = True, linewidths=0.5,linecolor=\"red\",fmt=\".0f\",ax=ax)\n",
    "plt.xlabel(\"Prediction\")\n",
    "plt.ylabel(\"True\")\n",
    "plt.show()"
   ]
  },
  {
   "cell_type": "code",
   "execution_count": 41,
   "metadata": {},
   "outputs": [],
   "source": [
    "#Decision Tree Algorithm\n",
    "\n",
    "from sklearn.tree import DecisionTreeClassifier\n",
    "DTC = DecisionTreeClassifier()"
   ]
  },
  {
   "cell_type": "code",
   "execution_count": 42,
   "metadata": {},
   "outputs": [
    {
     "name": "stdout",
     "output_type": "stream",
     "text": [
      "Average Accuracies:  0.709329140461216\n",
      "Standart Deviation Accuracies:  0.08114324756907662\n"
     ]
    }
   ],
   "source": [
    "#K-fold CV\n",
    "from sklearn.model_selection import cross_val_score\n",
    "accuraccies = cross_val_score(estimator = DTC, X= xtrain, y=ytrain, cv=10)\n",
    "print(\"Average Accuracies: \",np.mean(accuraccies))\n",
    "print(\"Standart Deviation Accuracies: \",np.std(accuraccies))\n"
   ]
  },
  {
   "cell_type": "code",
   "execution_count": 43,
   "metadata": {},
   "outputs": [
    {
     "name": "stdout",
     "output_type": "stream",
     "text": [
      "Decision Tree Score:  0.7012987012987013\n"
     ]
    }
   ],
   "source": [
    "DTC.fit(xtrain,ytrain) #learning\n",
    "#prediciton\n",
    "print(\"Decision Tree Score: \",DTC.score(xtest,ytest))\n",
    "DTCscore = DTC.score(xtest,ytest)"
   ]
  },
  {
   "cell_type": "code",
   "execution_count": 45,
   "metadata": {},
   "outputs": [
    {
     "data": {
      "image/png": "[encoded data removed]",
      "text/plain": [
       "<Figure size 360x360 with 2 Axes>"
      ]
     },
     "metadata": {},
     "output_type": "display_data"
    }
   ],
   "source": [
    "#Confusion Matrix\n",
    "\n",
    "yprediciton5= DTC.predict(xtest)\n",
    "ytrue = ytest\n",
    "\n",
    "from sklearn.metrics import confusion_matrix\n",
    "CM = confusion_matrix(ytrue,yprediciton5)\n",
    "\n",
    "#CM visualization\n",
    "\n",
    "import seaborn as sns\n",
    "import matplotlib.pyplot as plt\n",
    "\n",
    "f, ax = plt.subplots(figsize=(5,5))\n",
    "sns.heatmap(CM,annot = True, linewidths=0.5,linecolor=\"red\",fmt=\".0f\",ax=ax)\n",
    "plt.xlabel(\"Prediction\")\n",
    "plt.ylabel(\"True\")\n",
    "plt.show()"
   ]
  },
  {
   "cell_type": "code",
   "execution_count": 47,
   "metadata": {},
   "outputs": [],
   "source": [
    "#Random Forest\n",
    "\n",
    "from sklearn.ensemble import RandomForestClassifier\n",
    "RFC= RandomForestClassifier(n_estimators = 24, random_state=42) #n_estimator = DT"
   ]
  },
  {
   "cell_type": "code",
   "execution_count": 48,
   "metadata": {},
   "outputs": [
    {
     "name": "stdout",
     "output_type": "stream",
     "text": [
      "Average Accuracies:  0.763487071977638\n",
      "Standart Deviation Accuracies:  0.04646612575128928\n"
     ]
    }
   ],
   "source": [
    "#K-fold CV\n",
    "from sklearn.model_selection import cross_val_score\n",
    "accuraccies = cross_val_score(estimator = RFC, X= xtrain, y=ytrain, cv=10)\n",
    "print(\"Average Accuracies: \",np.mean(accuraccies))\n",
    "print(\"Standart Deviation Accuracies: \",np.std(accuraccies))"
   ]
  },
  {
   "cell_type": "code",
   "execution_count": 49,
   "metadata": {},
   "outputs": [
    {
     "name": "stdout",
     "output_type": "stream",
     "text": [
      "Random Forest Score:  0.7705627705627706\n"
     ]
    }
   ],
   "source": [
    "RFC.fit(xtrain,ytrain) # learning\n",
    "print(\"Random Forest Score: \",RFC.score(xtest,ytest))\n",
    "RFCscore=RFC.score(xtest,ytest)"
   ]
  },
  {
   "cell_type": "code",
   "execution_count": 50,
   "metadata": {},
   "outputs": [
    {
     "data": {
      "image/png": "[encoded data removed]",
      "text/plain": [
       "<Figure size 720x360 with 1 Axes>"
      ]
     },
     "metadata": {},
     "output_type": "display_data"
    }
   ],
   "source": [
    "#Find Optimum K value\n",
    "scores = []\n",
    "for each in range(1,30):\n",
    "    RFfind = RandomForestClassifier(n_estimators = each)\n",
    "    RFfind.fit(xtrain,ytrain)\n",
    "    scores.append(RFfind.score(xtest,ytest))\n",
    "    \n",
    "plt.figure(1, figsize=(10, 5))\n",
    "plt.plot(range(1,30),scores,color=\"black\",linewidth=2)\n",
    "plt.title(\"Optimum N Estimator Value\")\n",
    "plt.xlabel(\"N Estimators\")\n",
    "plt.ylabel(\"Score(Accuracy)\")\n",
    "plt.grid(True)\n",
    "plt.show()"
   ]
  },
  {
   "cell_type": "code",
   "execution_count": 68,
   "metadata": {},
   "outputs": [
    {
     "data": {
      "image/png": "[encoded data removed]",
      "text/plain": [
       "<Figure size 360x360 with 2 Axes>"
      ]
     },
     "metadata": {},
     "output_type": "display_data"
    }
   ],
   "source": [
    "#Confusion Matrix\n",
    "\n",
    "yprediciton6= RFC.predict(xtest)\n",
    "ytrue = ytest\n",
    "\n",
    "from sklearn.metrics import confusion_matrix\n",
    "CM = confusion_matrix(ytrue,yprediciton6)\n",
    "\n",
    "#CM visualization\n",
    "\n",
    "import seaborn as sns\n",
    "import matplotlib.pyplot as plt\n",
    "\n",
    "f, ax = plt.subplots(figsize=(5,5))\n",
    "sns.heatmap(CM,annot = True, linewidths=0.5,linecolor=\"red\",fmt=\".0f\",ax=ax)\n",
    "plt.xlabel(\"Prediction\")\n",
    "plt.ylabel(\"True\")\n",
    "plt.show()"
   ]
  },
  {
   "cell_type": "code",
   "execution_count": 76,
   "metadata": {},
   "outputs": [],
   "source": [
    "#Gradient Boosting Classifier\n",
    "from sklearn.ensemble import GradientBoostingClassifier\n",
    "gbdt = GradientBoostingClassifier(learning_rate=0.01,\n",
    "                                  n_estimators=1000,\n",
    "                                  subsample=0.9,\n",
    "                                  min_samples_split=2,\n",
    "                                  min_samples_leaf=6,\n",
    "                                  max_depth=100,\n",
    "                                  init=None,\n",
    "                                  random_state=None,\n",
    "                                  max_features=None,\n",
    "                                  verbose=0,\n",
    "                                  max_leaf_nodes=None,\n",
    "                                  warm_start=False)"
   ]
  },
  {
   "cell_type": "code",
   "execution_count": 77,
   "metadata": {},
   "outputs": [
    {
     "name": "stdout",
     "output_type": "stream",
     "text": [
      "Average Accuracies:  0.7504542278127183\n",
      "Standart Deviation Accuracies:  0.0575141396610466\n"
     ]
    }
   ],
   "source": [
    "#K-fold CV\n",
    "from sklearn.model_selection import cross_val_score\n",
    "accuraccies = cross_val_score(estimator = gbdt, X= xtrain, y=ytrain, cv=10)\n",
    "print(\"Average Accuracies: \",np.mean(accuraccies))\n",
    "print(\"Standart Deviation Accuracies: \",np.std(accuraccies))"
   ]
  },
  {
   "cell_type": "code",
   "execution_count": 80,
   "metadata": {},
   "outputs": [
    {
     "name": "stdout",
     "output_type": "stream",
     "text": [
      "Gradient Boosting Classifier Score 0.7272727272727273\n"
     ]
    }
   ],
   "source": [
    "gbdt.fit(xtrain, ytrain)\n",
    "print(\"Gradient Boosting Classifier Score\", gbdt.score(xtest, ytest))\n",
    "GBDTscore=gbdt.score(xtest,ytest)"
   ]
  },
  {
   "cell_type": "code",
   "execution_count": 90,
   "metadata": {},
   "outputs": [
    {
     "data": {
      "image/png": "[encoded data removed]",
      "text/plain": [
       "<Figure size 360x360 with 2 Axes>"
      ]
     },
     "metadata": {},
     "output_type": "display_data"
    }
   ],
   "source": [
    "#Confusion Matrix\n",
    "\n",
    "yprediciton7= gbdt.predict(xtest)\n",
    "ytrue = ytest\n",
    "\n",
    "from sklearn.metrics import confusion_matrix\n",
    "CM = confusion_matrix(ytrue,yprediciton7)\n",
    "\n",
    "#CM visualization\n",
    "\n",
    "import seaborn as sns\n",
    "import matplotlib.pyplot as plt\n",
    "\n",
    "f, ax = plt.subplots(figsize=(5,5))\n",
    "sns.heatmap(CM,annot = True, linewidths=0.5,linecolor=\"red\",fmt=\".0f\",ax=ax)\n",
    "plt.xlabel(\"Prediction\")\n",
    "plt.ylabel(\"True\")\n",
    "plt.show()"
   ]
  },
  {
   "cell_type": "code",
   "execution_count": null,
   "metadata": {},
   "outputs": [],
   "source": []
  },
  {
   "cell_type": "code",
   "execution_count": 53,
   "metadata": {},
   "outputs": [
    {
     "name": "stderr",
     "output_type": "stream",
     "text": [
      "Using TensorFlow backend.\n"
     ]
    }
   ],
   "source": [
    "#ANN\n",
    "#Import Library\n",
    "from keras.wrappers.scikit_learn import KerasClassifier\n",
    "from sklearn.model_selection import cross_val_score\n",
    "from keras.models import Sequential \n",
    "from keras.layers import Dense"
   ]
  },
  {
   "cell_type": "code",
   "execution_count": 54,
   "metadata": {},
   "outputs": [],
   "source": [
    "def buildclassifier():\n",
    "    classifier = Sequential() #initialize NN\n",
    "    classifier.add(Dense(units = 8, kernel_initializer = 'uniform',activation = 'tanh', input_dim =xtrain.shape[1]))\n",
    "    classifier.add(Dense(units = 8, kernel_initializer = 'uniform',activation = 'tanh'))\n",
    "    classifier.add(Dense(units = 8, kernel_initializer = 'uniform',activation = 'relu'))\n",
    "    classifier.add(Dense(units = 8, kernel_initializer = 'uniform',activation = 'relu'))\n",
    "    classifier.add(Dense(units = 1, kernel_initializer = 'uniform',activation = 'sigmoid'))\n",
    "    classifier.compile(optimizer = 'adam',loss = 'binary_crossentropy',metrics = ['accuracy'])\n",
    "    return classifier"
   ]
  },
  {
   "cell_type": "code",
   "execution_count": 84,
   "metadata": {},
   "outputs": [
    {
     "name": "stdout",
     "output_type": "stream",
     "text": [
      "Epoch 1/200\n",
      "447/447 [==============================] - 0s 501us/step - loss: 0.6924 - accuracy: 0.6353\n",
      "Epoch 2/200\n",
      "447/447 [==============================] - 0s 53us/step - loss: 0.6908 - accuracy: 0.6398\n",
      "Epoch 3/200\n",
      "447/447 [==============================] - 0s 51us/step - loss: 0.6889 - accuracy: 0.6398\n",
      "Epoch 4/200\n",
      "447/447 [==============================] - 0s 46us/step - loss: 0.6869 - accuracy: 0.6398\n",
      "Epoch 5/200\n",
      "447/447 [==============================] - 0s 49us/step - loss: 0.6844 - accuracy: 0.6398\n",
      "Epoch 6/200\n",
      "447/447 [==============================] - 0s 52us/step - loss: 0.6813 - accuracy: 0.6398\n",
      "Epoch 7/200\n",
      "447/447 [==============================] - 0s 48us/step - loss: 0.6774 - accuracy: 0.6398\n",
      "Epoch 8/200\n",
      "447/447 [==============================] - 0s 53us/step - loss: 0.6724 - accuracy: 0.6398\n",
      "Epoch 9/200\n",
      "447/447 [==============================] - 0s 49us/step - loss: 0.6666 - accuracy: 0.6398\n",
      "Epoch 10/200\n",
      "447/447 [==============================] - 0s 45us/step - loss: 0.6621 - accuracy: 0.6398\n",
      "Epoch 11/200\n",
      "447/447 [==============================] - 0s 43us/step - loss: 0.6587 - accuracy: 0.6398\n",
      "Epoch 12/200\n",
      "447/447 [==============================] - 0s 44us/step - loss: 0.6569 - accuracy: 0.6398\n",
      "Epoch 13/200\n",
      "447/447 [==============================] - 0s 45us/step - loss: 0.6565 - accuracy: 0.6398\n",
      "Epoch 14/200\n",
      "447/447 [==============================] - 0s 45us/step - loss: 0.6559 - accuracy: 0.6398\n",
      "Epoch 15/200\n",
      "447/447 [==============================] - 0s 47us/step - loss: 0.6557 - accuracy: 0.6398\n",
      "Epoch 16/200\n",
      "447/447 [==============================] - 0s 44us/step - loss: 0.6554 - accuracy: 0.6398\n",
      "Epoch 17/200\n",
      "447/447 [==============================] - 0s 47us/step - loss: 0.6551 - accuracy: 0.6398\n",
      "Epoch 18/200\n",
      "447/447 [==============================] - 0s 60us/step - loss: 0.6549 - accuracy: 0.6398\n",
      "Epoch 19/200\n",
      "447/447 [==============================] - 0s 60us/step - loss: 0.6550 - accuracy: 0.6398\n",
      "Epoch 20/200\n",
      "447/447 [==============================] - 0s 54us/step - loss: 0.6545 - accuracy: 0.6398\n",
      "Epoch 21/200\n",
      "447/447 [==============================] - 0s 47us/step - loss: 0.6541 - accuracy: 0.6398\n",
      "Epoch 22/200\n",
      "447/447 [==============================] - 0s 44us/step - loss: 0.6541 - accuracy: 0.6398\n",
      "Epoch 23/200\n",
      "447/447 [==============================] - 0s 47us/step - loss: 0.6534 - accuracy: 0.6398\n",
      "Epoch 24/200\n",
      "447/447 [==============================] - 0s 47us/step - loss: 0.6528 - accuracy: 0.6398\n",
      "Epoch 25/200\n",
      "447/447 [==============================] - 0s 47us/step - loss: 0.6522 - accuracy: 0.6398\n",
      "Epoch 26/200\n",
      "447/447 [==============================] - 0s 43us/step - loss: 0.6516 - accuracy: 0.6398\n",
      "Epoch 27/200\n",
      "447/447 [==============================] - 0s 47us/step - loss: 0.6506 - accuracy: 0.6398\n",
      "Epoch 28/200\n",
      "447/447 [==============================] - 0s 46us/step - loss: 0.6495 - accuracy: 0.6398\n",
      "Epoch 29/200\n",
      "447/447 [==============================] - 0s 46us/step - loss: 0.6477 - accuracy: 0.6398\n",
      "Epoch 30/200\n",
      "447/447 [==============================] - 0s 45us/step - loss: 0.6455 - accuracy: 0.6398\n",
      "Epoch 31/200\n",
      "447/447 [==============================] - 0s 47us/step - loss: 0.6427 - accuracy: 0.6398\n",
      "Epoch 32/200\n",
      "447/447 [==============================] - 0s 44us/step - loss: 0.6384 - accuracy: 0.6398\n",
      "Epoch 33/200\n",
      "447/447 [==============================] - 0s 48us/step - loss: 0.6336 - accuracy: 0.6398\n",
      "Epoch 34/200\n",
      "447/447 [==============================] - 0s 46us/step - loss: 0.6275 - accuracy: 0.6398\n",
      "Epoch 35/200\n",
      "447/447 [==============================] - 0s 47us/step - loss: 0.6219 - accuracy: 0.6398\n",
      "Epoch 36/200\n",
      "447/447 [==============================] - 0s 45us/step - loss: 0.6137 - accuracy: 0.6398\n",
      "Epoch 37/200\n",
      "447/447 [==============================] - 0s 47us/step - loss: 0.6052 - accuracy: 0.6398\n",
      "Epoch 38/200\n",
      "447/447 [==============================] - 0s 47us/step - loss: 0.5957 - accuracy: 0.6398\n",
      "Epoch 39/200\n",
      "447/447 [==============================] - 0s 46us/step - loss: 0.5860 - accuracy: 0.6398\n",
      "Epoch 40/200\n",
      "447/447 [==============================] - 0s 45us/step - loss: 0.5751 - accuracy: 0.6398\n",
      "Epoch 41/200\n",
      "447/447 [==============================] - 0s 46us/step - loss: 0.5664 - accuracy: 0.6644\n",
      "Epoch 42/200\n",
      "447/447 [==============================] - 0s 46us/step - loss: 0.5590 - accuracy: 0.6980\n",
      "Epoch 43/200\n",
      "447/447 [==============================] - 0s 47us/step - loss: 0.5517 - accuracy: 0.7025\n",
      "Epoch 44/200\n",
      "447/447 [==============================] - 0s 44us/step - loss: 0.5452 - accuracy: 0.7069\n",
      "Epoch 45/200\n",
      "447/447 [==============================] - 0s 48us/step - loss: 0.5399 - accuracy: 0.7047\n",
      "Epoch 46/200\n",
      "447/447 [==============================] - 0s 46us/step - loss: 0.5370 - accuracy: 0.7204\n",
      "Epoch 47/200\n",
      "447/447 [==============================] - 0s 47us/step - loss: 0.5332 - accuracy: 0.7114\n",
      "Epoch 48/200\n",
      "447/447 [==============================] - 0s 45us/step - loss: 0.5321 - accuracy: 0.7136\n",
      "Epoch 49/200\n",
      "447/447 [==============================] - 0s 46us/step - loss: 0.5274 - accuracy: 0.7271\n",
      "Epoch 50/200\n",
      "447/447 [==============================] - 0s 46us/step - loss: 0.5252 - accuracy: 0.7248\n",
      "Epoch 51/200\n",
      "447/447 [==============================] - 0s 47us/step - loss: 0.5234 - accuracy: 0.7248\n",
      "Epoch 52/200\n",
      "447/447 [==============================] - 0s 49us/step - loss: 0.5238 - accuracy: 0.7248\n",
      "Epoch 53/200\n",
      "447/447 [==============================] - 0s 44us/step - loss: 0.5202 - accuracy: 0.7315\n",
      "Epoch 54/200\n",
      "447/447 [==============================] - 0s 47us/step - loss: 0.5187 - accuracy: 0.7271\n",
      "Epoch 55/200\n",
      "447/447 [==============================] - 0s 48us/step - loss: 0.5168 - accuracy: 0.7293\n",
      "Epoch 56/200\n",
      "447/447 [==============================] - 0s 42us/step - loss: 0.5151 - accuracy: 0.7315\n",
      "Epoch 57/200\n",
      "447/447 [==============================] - 0s 43us/step - loss: 0.5161 - accuracy: 0.7315\n",
      "Epoch 58/200\n",
      "447/447 [==============================] - 0s 43us/step - loss: 0.5138 - accuracy: 0.7315\n",
      "Epoch 59/200\n",
      "447/447 [==============================] - 0s 43us/step - loss: 0.5126 - accuracy: 0.7293\n",
      "Epoch 60/200\n",
      "447/447 [==============================] - 0s 40us/step - loss: 0.5110 - accuracy: 0.7360\n",
      "Epoch 61/200\n",
      "447/447 [==============================] - 0s 44us/step - loss: 0.5097 - accuracy: 0.7360\n",
      "Epoch 62/200\n",
      "447/447 [==============================] - 0s 58us/step - loss: 0.5084 - accuracy: 0.7360\n",
      "Epoch 63/200\n",
      "447/447 [==============================] - 0s 46us/step - loss: 0.5077 - accuracy: 0.7405\n",
      "Epoch 64/200\n",
      "447/447 [==============================] - 0s 44us/step - loss: 0.5091 - accuracy: 0.7293\n",
      "Epoch 65/200\n",
      "447/447 [==============================] - 0s 40us/step - loss: 0.5073 - accuracy: 0.7360\n",
      "Epoch 66/200\n",
      "447/447 [==============================] - 0s 46us/step - loss: 0.5058 - accuracy: 0.7315\n",
      "Epoch 67/200\n",
      "447/447 [==============================] - 0s 40us/step - loss: 0.5054 - accuracy: 0.7360\n",
      "Epoch 68/200\n",
      "447/447 [==============================] - 0s 45us/step - loss: 0.5048 - accuracy: 0.7338\n",
      "Epoch 69/200\n",
      "447/447 [==============================] - 0s 42us/step - loss: 0.5035 - accuracy: 0.7383\n",
      "Epoch 70/200\n",
      "447/447 [==============================] - 0s 43us/step - loss: 0.5012 - accuracy: 0.7383\n",
      "Epoch 71/200\n",
      "447/447 [==============================] - 0s 52us/step - loss: 0.4999 - accuracy: 0.7427\n",
      "Epoch 72/200\n",
      "447/447 [==============================] - 0s 42us/step - loss: 0.5003 - accuracy: 0.7450\n",
      "Epoch 73/200\n",
      "447/447 [==============================] - 0s 43us/step - loss: 0.4998 - accuracy: 0.7383\n",
      "Epoch 74/200\n",
      "447/447 [==============================] - 0s 46us/step - loss: 0.4972 - accuracy: 0.7427\n",
      "Epoch 75/200\n",
      "447/447 [==============================] - 0s 43us/step - loss: 0.4966 - accuracy: 0.7450\n",
      "Epoch 76/200\n",
      "447/447 [==============================] - 0s 45us/step - loss: 0.4959 - accuracy: 0.7450\n",
      "Epoch 77/200\n",
      "447/447 [==============================] - 0s 46us/step - loss: 0.4952 - accuracy: 0.7494\n",
      "Epoch 78/200\n",
      "447/447 [==============================] - 0s 45us/step - loss: 0.4965 - accuracy: 0.7494\n",
      "Epoch 79/200\n",
      "447/447 [==============================] - 0s 44us/step - loss: 0.4932 - accuracy: 0.7539\n",
      "Epoch 80/200\n",
      "447/447 [==============================] - 0s 48us/step - loss: 0.4917 - accuracy: 0.7562\n",
      "Epoch 81/200\n",
      "447/447 [==============================] - 0s 51us/step - loss: 0.4909 - accuracy: 0.7539\n",
      "Epoch 82/200\n",
      "447/447 [==============================] - 0s 64us/step - loss: 0.4911 - accuracy: 0.7539\n",
      "Epoch 83/200\n",
      "447/447 [==============================] - 0s 50us/step - loss: 0.4903 - accuracy: 0.7562\n",
      "Epoch 84/200\n",
      "447/447 [==============================] - 0s 55us/step - loss: 0.4898 - accuracy: 0.7539\n",
      "Epoch 85/200\n",
      "447/447 [==============================] - 0s 48us/step - loss: 0.4886 - accuracy: 0.7562\n",
      "Epoch 86/200\n",
      "447/447 [==============================] - 0s 46us/step - loss: 0.4881 - accuracy: 0.7562\n",
      "Epoch 87/200\n",
      "447/447 [==============================] - 0s 50us/step - loss: 0.4900 - accuracy: 0.7517\n",
      "Epoch 88/200\n",
      "447/447 [==============================] - 0s 43us/step - loss: 0.4875 - accuracy: 0.7562\n",
      "Epoch 89/200\n",
      "447/447 [==============================] - 0s 45us/step - loss: 0.4909 - accuracy: 0.7562\n",
      "Epoch 90/200\n",
      "447/447 [==============================] - 0s 49us/step - loss: 0.4849 - accuracy: 0.7562\n",
      "Epoch 91/200\n",
      "447/447 [==============================] - 0s 44us/step - loss: 0.4869 - accuracy: 0.7562\n",
      "Epoch 92/200\n",
      "447/447 [==============================] - 0s 42us/step - loss: 0.4859 - accuracy: 0.7539\n",
      "Epoch 93/200\n",
      "447/447 [==============================] - 0s 46us/step - loss: 0.4860 - accuracy: 0.7562\n",
      "Epoch 94/200\n",
      "447/447 [==============================] - 0s 48us/step - loss: 0.4863 - accuracy: 0.7584\n",
      "Epoch 95/200\n",
      "447/447 [==============================] - 0s 44us/step - loss: 0.4869 - accuracy: 0.7562\n",
      "Epoch 96/200\n",
      "447/447 [==============================] - 0s 45us/step - loss: 0.4871 - accuracy: 0.7472\n",
      "Epoch 97/200\n",
      "447/447 [==============================] - 0s 55us/step - loss: 0.4853 - accuracy: 0.7539\n",
      "Epoch 98/200\n",
      "447/447 [==============================] - 0s 46us/step - loss: 0.4873 - accuracy: 0.7517\n",
      "Epoch 99/200\n",
      "447/447 [==============================] - 0s 47us/step - loss: 0.4845 - accuracy: 0.7584\n",
      "Epoch 100/200\n",
      "447/447 [==============================] - 0s 46us/step - loss: 0.4853 - accuracy: 0.7517\n",
      "Epoch 101/200\n",
      "447/447 [==============================] - 0s 45us/step - loss: 0.4825 - accuracy: 0.7584\n",
      "Epoch 102/200\n",
      "447/447 [==============================] - 0s 45us/step - loss: 0.4845 - accuracy: 0.7517\n",
      "Epoch 103/200\n",
      "447/447 [==============================] - 0s 42us/step - loss: 0.4828 - accuracy: 0.7606\n",
      "Epoch 104/200\n",
      "447/447 [==============================] - 0s 46us/step - loss: 0.4821 - accuracy: 0.7562\n",
      "Epoch 105/200\n",
      "447/447 [==============================] - 0s 45us/step - loss: 0.4816 - accuracy: 0.7562\n",
      "Epoch 106/200\n",
      "447/447 [==============================] - 0s 46us/step - loss: 0.4831 - accuracy: 0.7562\n",
      "Epoch 107/200\n",
      "447/447 [==============================] - 0s 61us/step - loss: 0.4822 - accuracy: 0.7606\n",
      "Epoch 108/200\n",
      "447/447 [==============================] - 0s 45us/step - loss: 0.4814 - accuracy: 0.7539\n",
      "Epoch 109/200\n",
      "447/447 [==============================] - 0s 45us/step - loss: 0.4843 - accuracy: 0.7517\n",
      "Epoch 110/200\n",
      "447/447 [==============================] - 0s 46us/step - loss: 0.4816 - accuracy: 0.7584\n",
      "Epoch 111/200\n",
      "447/447 [==============================] - 0s 45us/step - loss: 0.4809 - accuracy: 0.7606\n",
      "Epoch 112/200\n",
      "447/447 [==============================] - 0s 44us/step - loss: 0.4809 - accuracy: 0.7562\n",
      "Epoch 113/200\n",
      "447/447 [==============================] - 0s 44us/step - loss: 0.4810 - accuracy: 0.7494\n",
      "Epoch 114/200\n",
      "447/447 [==============================] - 0s 44us/step - loss: 0.4811 - accuracy: 0.7606\n",
      "Epoch 115/200\n",
      "447/447 [==============================] - 0s 47us/step - loss: 0.4822 - accuracy: 0.7584\n",
      "Epoch 116/200\n",
      "447/447 [==============================] - 0s 44us/step - loss: 0.4825 - accuracy: 0.7584\n",
      "Epoch 117/200\n",
      "447/447 [==============================] - 0s 43us/step - loss: 0.4818 - accuracy: 0.7606\n",
      "Epoch 118/200\n",
      "447/447 [==============================] - 0s 45us/step - loss: 0.4803 - accuracy: 0.7562\n",
      "Epoch 119/200\n",
      "447/447 [==============================] - 0s 44us/step - loss: 0.4803 - accuracy: 0.7584\n",
      "Epoch 120/200\n",
      "447/447 [==============================] - 0s 44us/step - loss: 0.4798 - accuracy: 0.7584\n",
      "Epoch 121/200\n",
      "447/447 [==============================] - 0s 46us/step - loss: 0.4808 - accuracy: 0.7517\n",
      "Epoch 122/200\n",
      "447/447 [==============================] - 0s 41us/step - loss: 0.4845 - accuracy: 0.7539\n",
      "Epoch 123/200\n",
      "447/447 [==============================] - 0s 45us/step - loss: 0.4830 - accuracy: 0.7584\n",
      "Epoch 124/200\n",
      "447/447 [==============================] - 0s 45us/step - loss: 0.4806 - accuracy: 0.7606\n",
      "Epoch 125/200\n",
      "447/447 [==============================] - 0s 41us/step - loss: 0.4804 - accuracy: 0.7606\n",
      "Epoch 126/200\n",
      "447/447 [==============================] - 0s 44us/step - loss: 0.4808 - accuracy: 0.7562\n",
      "Epoch 127/200\n",
      "447/447 [==============================] - 0s 40us/step - loss: 0.4812 - accuracy: 0.7584\n",
      "Epoch 128/200\n",
      "447/447 [==============================] - 0s 44us/step - loss: 0.4797 - accuracy: 0.7606\n",
      "Epoch 129/200\n",
      "447/447 [==============================] - 0s 44us/step - loss: 0.4794 - accuracy: 0.7584\n",
      "Epoch 130/200\n",
      "447/447 [==============================] - 0s 42us/step - loss: 0.4801 - accuracy: 0.7651\n",
      "Epoch 131/200\n",
      "447/447 [==============================] - 0s 45us/step - loss: 0.4797 - accuracy: 0.7606\n",
      "Epoch 132/200\n",
      "447/447 [==============================] - 0s 40us/step - loss: 0.4793 - accuracy: 0.7606\n",
      "Epoch 133/200\n",
      "447/447 [==============================] - 0s 43us/step - loss: 0.4828 - accuracy: 0.7584\n",
      "Epoch 134/200\n",
      "447/447 [==============================] - 0s 44us/step - loss: 0.4825 - accuracy: 0.7450\n",
      "Epoch 135/200\n",
      "447/447 [==============================] - 0s 40us/step - loss: 0.4821 - accuracy: 0.7562\n",
      "Epoch 136/200\n",
      "447/447 [==============================] - 0s 44us/step - loss: 0.4792 - accuracy: 0.7562\n",
      "Epoch 137/200\n",
      "447/447 [==============================] - 0s 46us/step - loss: 0.4805 - accuracy: 0.7562\n",
      "Epoch 138/200\n",
      "447/447 [==============================] - 0s 44us/step - loss: 0.4820 - accuracy: 0.7606\n",
      "Epoch 139/200\n",
      "447/447 [==============================] - 0s 46us/step - loss: 0.4797 - accuracy: 0.7629\n",
      "Epoch 140/200\n",
      "447/447 [==============================] - 0s 44us/step - loss: 0.4787 - accuracy: 0.7651\n",
      "Epoch 141/200\n",
      "447/447 [==============================] - 0s 46us/step - loss: 0.4803 - accuracy: 0.7517\n",
      "Epoch 142/200\n",
      "447/447 [==============================] - 0s 43us/step - loss: 0.4816 - accuracy: 0.7539\n",
      "Epoch 143/200\n",
      "447/447 [==============================] - 0s 47us/step - loss: 0.4834 - accuracy: 0.7629\n",
      "Epoch 144/200\n",
      "447/447 [==============================] - 0s 43us/step - loss: 0.4786 - accuracy: 0.7606\n",
      "Epoch 145/200\n",
      "447/447 [==============================] - 0s 46us/step - loss: 0.4792 - accuracy: 0.7584\n",
      "Epoch 146/200\n",
      "447/447 [==============================] - 0s 44us/step - loss: 0.4789 - accuracy: 0.7629\n",
      "Epoch 147/200\n",
      "447/447 [==============================] - 0s 42us/step - loss: 0.4789 - accuracy: 0.7629\n",
      "Epoch 148/200\n",
      "447/447 [==============================] - 0s 46us/step - loss: 0.4796 - accuracy: 0.7606\n",
      "Epoch 149/200\n",
      "447/447 [==============================] - 0s 41us/step - loss: 0.4794 - accuracy: 0.7629\n",
      "Epoch 150/200\n",
      "447/447 [==============================] - 0s 43us/step - loss: 0.4780 - accuracy: 0.7629\n",
      "Epoch 151/200\n",
      "447/447 [==============================] - 0s 43us/step - loss: 0.4788 - accuracy: 0.7606\n",
      "Epoch 152/200\n",
      "447/447 [==============================] - 0s 40us/step - loss: 0.4780 - accuracy: 0.7629\n",
      "Epoch 153/200\n",
      "447/447 [==============================] - 0s 42us/step - loss: 0.4822 - accuracy: 0.7472\n",
      "Epoch 154/200\n",
      "447/447 [==============================] - 0s 44us/step - loss: 0.4851 - accuracy: 0.7494\n",
      "Epoch 155/200\n",
      "447/447 [==============================] - 0s 45us/step - loss: 0.4776 - accuracy: 0.7629\n",
      "Epoch 156/200\n",
      "447/447 [==============================] - 0s 42us/step - loss: 0.4835 - accuracy: 0.7494\n",
      "Epoch 157/200\n",
      "447/447 [==============================] - 0s 41us/step - loss: 0.4833 - accuracy: 0.7494\n",
      "Epoch 158/200\n",
      "447/447 [==============================] - 0s 40us/step - loss: 0.4774 - accuracy: 0.7629\n",
      "Epoch 159/200\n"
     ]
    },
    {
     "name": "stdout",
     "output_type": "stream",
     "text": [
      "447/447 [==============================] - 0s 43us/step - loss: 0.4793 - accuracy: 0.7494\n",
      "Epoch 160/200\n",
      "447/447 [==============================] - 0s 39us/step - loss: 0.4785 - accuracy: 0.7651\n",
      "Epoch 161/200\n",
      "447/447 [==============================] - 0s 44us/step - loss: 0.4790 - accuracy: 0.7606\n",
      "Epoch 162/200\n",
      "447/447 [==============================] - 0s 42us/step - loss: 0.4797 - accuracy: 0.7584\n",
      "Epoch 163/200\n",
      "447/447 [==============================] - 0s 45us/step - loss: 0.4786 - accuracy: 0.7584\n",
      "Epoch 164/200\n",
      "447/447 [==============================] - 0s 43us/step - loss: 0.4776 - accuracy: 0.7629\n",
      "Epoch 165/200\n",
      "447/447 [==============================] - 0s 43us/step - loss: 0.4785 - accuracy: 0.7673\n",
      "Epoch 166/200\n",
      "447/447 [==============================] - 0s 46us/step - loss: 0.4781 - accuracy: 0.7606\n",
      "Epoch 167/200\n",
      "447/447 [==============================] - 0s 44us/step - loss: 0.4777 - accuracy: 0.7606\n",
      "Epoch 168/200\n",
      "447/447 [==============================] - 0s 42us/step - loss: 0.4783 - accuracy: 0.7584\n",
      "Epoch 169/200\n",
      "447/447 [==============================] - 0s 46us/step - loss: 0.4800 - accuracy: 0.7651\n",
      "Epoch 170/200\n",
      "447/447 [==============================] - 0s 47us/step - loss: 0.4785 - accuracy: 0.7606\n",
      "Epoch 171/200\n",
      "447/447 [==============================] - 0s 44us/step - loss: 0.4783 - accuracy: 0.7629\n",
      "Epoch 172/200\n",
      "447/447 [==============================] - 0s 46us/step - loss: 0.4776 - accuracy: 0.7629\n",
      "Epoch 173/200\n",
      "447/447 [==============================] - 0s 47us/step - loss: 0.4782 - accuracy: 0.7629\n",
      "Epoch 174/200\n",
      "447/447 [==============================] - 0s 46us/step - loss: 0.4793 - accuracy: 0.7562\n",
      "Epoch 175/200\n",
      "447/447 [==============================] - 0s 51us/step - loss: 0.4773 - accuracy: 0.7651\n",
      "Epoch 176/200\n",
      "447/447 [==============================] - 0s 50us/step - loss: 0.4785 - accuracy: 0.7651\n",
      "Epoch 177/200\n",
      "447/447 [==============================] - 0s 47us/step - loss: 0.4799 - accuracy: 0.7517\n",
      "Epoch 178/200\n",
      "447/447 [==============================] - 0s 41us/step - loss: 0.4787 - accuracy: 0.7584\n",
      "Epoch 179/200\n",
      "447/447 [==============================] - 0s 45us/step - loss: 0.4805 - accuracy: 0.7539\n",
      "Epoch 180/200\n",
      "447/447 [==============================] - 0s 44us/step - loss: 0.4778 - accuracy: 0.7629\n",
      "Epoch 181/200\n",
      "447/447 [==============================] - 0s 46us/step - loss: 0.4774 - accuracy: 0.7584\n",
      "Epoch 182/200\n",
      "447/447 [==============================] - 0s 41us/step - loss: 0.4779 - accuracy: 0.7651\n",
      "Epoch 183/200\n",
      "447/447 [==============================] - 0s 49us/step - loss: 0.4788 - accuracy: 0.7651\n",
      "Epoch 184/200\n",
      "447/447 [==============================] - 0s 44us/step - loss: 0.4774 - accuracy: 0.7651\n",
      "Epoch 185/200\n",
      "447/447 [==============================] - 0s 42us/step - loss: 0.4772 - accuracy: 0.7584\n",
      "Epoch 186/200\n",
      "447/447 [==============================] - 0s 45us/step - loss: 0.4777 - accuracy: 0.7606\n",
      "Epoch 187/200\n",
      "447/447 [==============================] - 0s 41us/step - loss: 0.4790 - accuracy: 0.7606\n",
      "Epoch 188/200\n",
      "447/447 [==============================] - 0s 43us/step - loss: 0.4793 - accuracy: 0.7584\n",
      "Epoch 189/200\n",
      "447/447 [==============================] - 0s 42us/step - loss: 0.4812 - accuracy: 0.7562\n",
      "Epoch 190/200\n",
      "447/447 [==============================] - 0s 44us/step - loss: 0.4801 - accuracy: 0.7539\n",
      "Epoch 191/200\n",
      "447/447 [==============================] - 0s 44us/step - loss: 0.4773 - accuracy: 0.7606\n",
      "Epoch 192/200\n",
      "447/447 [==============================] - 0s 46us/step - loss: 0.4782 - accuracy: 0.7651\n",
      "Epoch 193/200\n",
      "447/447 [==============================] - 0s 44us/step - loss: 0.4775 - accuracy: 0.7629\n",
      "Epoch 194/200\n",
      "447/447 [==============================] - 0s 44us/step - loss: 0.4772 - accuracy: 0.7629\n",
      "Epoch 195/200\n",
      "447/447 [==============================] - 0s 43us/step - loss: 0.4781 - accuracy: 0.7606\n",
      "Epoch 196/200\n",
      "447/447 [==============================] - 0s 46us/step - loss: 0.4774 - accuracy: 0.7606\n",
      "Epoch 197/200\n",
      "447/447 [==============================] - 0s 40us/step - loss: 0.4785 - accuracy: 0.7562\n",
      "Epoch 198/200\n",
      "447/447 [==============================] - 0s 43us/step - loss: 0.4778 - accuracy: 0.7584\n",
      "Epoch 199/200\n",
      "447/447 [==============================] - 0s 40us/step - loss: 0.4770 - accuracy: 0.7629\n",
      "Epoch 200/200\n",
      "447/447 [==============================] - 0s 44us/step - loss: 0.4779 - accuracy: 0.7606\n",
      "90/90 [==============================] - 0s 338us/step\n",
      "Epoch 1/200\n",
      "447/447 [==============================] - 0s 484us/step - loss: 0.6922 - accuracy: 0.6376\n",
      "Epoch 2/200\n",
      "447/447 [==============================] - 0s 49us/step - loss: 0.6903 - accuracy: 0.6577\n",
      "Epoch 3/200\n",
      "447/447 [==============================] - 0s 47us/step - loss: 0.6882 - accuracy: 0.6577\n",
      "Epoch 4/200\n",
      "447/447 [==============================] - 0s 45us/step - loss: 0.6862 - accuracy: 0.6577\n",
      "Epoch 5/200\n",
      "447/447 [==============================] - 0s 45us/step - loss: 0.6841 - accuracy: 0.6577\n",
      "Epoch 6/200\n",
      "447/447 [==============================] - 0s 45us/step - loss: 0.6820 - accuracy: 0.6577\n",
      "Epoch 7/200\n",
      "447/447 [==============================] - 0s 45us/step - loss: 0.6792 - accuracy: 0.6577\n",
      "Epoch 8/200\n",
      "447/447 [==============================] - 0s 43us/step - loss: 0.6767 - accuracy: 0.6577\n",
      "Epoch 9/200\n",
      "447/447 [==============================] - 0s 39us/step - loss: 0.6729 - accuracy: 0.6577\n",
      "Epoch 10/200\n",
      "447/447 [==============================] - 0s 42us/step - loss: 0.6694 - accuracy: 0.6577\n",
      "Epoch 11/200\n",
      "447/447 [==============================] - 0s 56us/step - loss: 0.6650 - accuracy: 0.6577\n",
      "Epoch 12/200\n",
      "447/447 [==============================] - 0s 44us/step - loss: 0.6604 - accuracy: 0.6577\n",
      "Epoch 13/200\n",
      "447/447 [==============================] - 0s 42us/step - loss: 0.6558 - accuracy: 0.6577\n",
      "Epoch 14/200\n",
      "447/447 [==============================] - 0s 42us/step - loss: 0.6517 - accuracy: 0.6577\n",
      "Epoch 15/200\n",
      "447/447 [==============================] - 0s 40us/step - loss: 0.6490 - accuracy: 0.6577\n",
      "Epoch 16/200\n",
      "447/447 [==============================] - 0s 42us/step - loss: 0.6469 - accuracy: 0.6577\n",
      "Epoch 17/200\n",
      "447/447 [==============================] - 0s 37us/step - loss: 0.6453 - accuracy: 0.6577\n",
      "Epoch 18/200\n",
      "447/447 [==============================] - 0s 43us/step - loss: 0.6443 - accuracy: 0.6577\n",
      "Epoch 19/200\n",
      "447/447 [==============================] - 0s 40us/step - loss: 0.6438 - accuracy: 0.6577\n",
      "Epoch 20/200\n",
      "447/447 [==============================] - 0s 45us/step - loss: 0.6436 - accuracy: 0.6577\n",
      "Epoch 21/200\n",
      "447/447 [==============================] - 0s 45us/step - loss: 0.6432 - accuracy: 0.6577\n",
      "Epoch 22/200\n",
      "447/447 [==============================] - 0s 42us/step - loss: 0.6432 - accuracy: 0.6577\n",
      "Epoch 23/200\n",
      "447/447 [==============================] - 0s 45us/step - loss: 0.6431 - accuracy: 0.6577\n",
      "Epoch 24/200\n",
      "447/447 [==============================] - 0s 43us/step - loss: 0.6430 - accuracy: 0.6577\n",
      "Epoch 25/200\n",
      "447/447 [==============================] - 0s 42us/step - loss: 0.6431 - accuracy: 0.6577\n",
      "Epoch 26/200\n",
      "447/447 [==============================] - 0s 47us/step - loss: 0.6429 - accuracy: 0.6577\n",
      "Epoch 27/200\n",
      "447/447 [==============================] - 0s 44us/step - loss: 0.6429 - accuracy: 0.6577\n",
      "Epoch 28/200\n",
      "447/447 [==============================] - 0s 44us/step - loss: 0.6429 - accuracy: 0.6577\n",
      "Epoch 29/200\n",
      "447/447 [==============================] - 0s 47us/step - loss: 0.6429 - accuracy: 0.6577\n",
      "Epoch 30/200\n",
      "447/447 [==============================] - 0s 42us/step - loss: 0.6429 - accuracy: 0.6577\n",
      "Epoch 31/200\n",
      "447/447 [==============================] - 0s 45us/step - loss: 0.6428 - accuracy: 0.6577\n",
      "Epoch 32/200\n",
      "447/447 [==============================] - 0s 43us/step - loss: 0.6429 - accuracy: 0.6577\n",
      "Epoch 33/200\n",
      "447/447 [==============================] - 0s 42us/step - loss: 0.6428 - accuracy: 0.6577\n",
      "Epoch 34/200\n",
      "447/447 [==============================] - 0s 46us/step - loss: 0.6431 - accuracy: 0.6577\n",
      "Epoch 35/200\n",
      "447/447 [==============================] - 0s 41us/step - loss: 0.6427 - accuracy: 0.6577\n",
      "Epoch 36/200\n",
      "447/447 [==============================] - 0s 43us/step - loss: 0.6427 - accuracy: 0.6577\n",
      "Epoch 37/200\n",
      "447/447 [==============================] - 0s 45us/step - loss: 0.6428 - accuracy: 0.6577\n",
      "Epoch 38/200\n",
      "447/447 [==============================] - 0s 42us/step - loss: 0.6430 - accuracy: 0.6577\n",
      "Epoch 39/200\n",
      "447/447 [==============================] - 0s 45us/step - loss: 0.6428 - accuracy: 0.6577\n",
      "Epoch 40/200\n",
      "447/447 [==============================] - 0s 43us/step - loss: 0.6428 - accuracy: 0.6577\n",
      "Epoch 41/200\n",
      "447/447 [==============================] - 0s 46us/step - loss: 0.6428 - accuracy: 0.6577\n",
      "Epoch 42/200\n",
      "447/447 [==============================] - 0s 47us/step - loss: 0.6428 - accuracy: 0.6577\n",
      "Epoch 43/200\n",
      "447/447 [==============================] - 0s 47us/step - loss: 0.6427 - accuracy: 0.6577\n",
      "Epoch 44/200\n",
      "447/447 [==============================] - 0s 43us/step - loss: 0.6427 - accuracy: 0.6577\n",
      "Epoch 45/200\n",
      "447/447 [==============================] - 0s 41us/step - loss: 0.6427 - accuracy: 0.6577\n",
      "Epoch 46/200\n",
      "447/447 [==============================] - 0s 45us/step - loss: 0.6428 - accuracy: 0.6577\n",
      "Epoch 47/200\n",
      "447/447 [==============================] - 0s 45us/step - loss: 0.6427 - accuracy: 0.6577\n",
      "Epoch 48/200\n",
      "447/447 [==============================] - 0s 44us/step - loss: 0.6427 - accuracy: 0.6577\n",
      "Epoch 49/200\n",
      "447/447 [==============================] - 0s 46us/step - loss: 0.6427 - accuracy: 0.6577\n",
      "Epoch 50/200\n",
      "447/447 [==============================] - 0s 47us/step - loss: 0.6427 - accuracy: 0.6577\n",
      "Epoch 51/200\n",
      "447/447 [==============================] - 0s 48us/step - loss: 0.6428 - accuracy: 0.6577\n",
      "Epoch 52/200\n",
      "447/447 [==============================] - 0s 61us/step - loss: 0.6427 - accuracy: 0.6577\n",
      "Epoch 53/200\n",
      "447/447 [==============================] - 0s 60us/step - loss: 0.6427 - accuracy: 0.6577\n",
      "Epoch 54/200\n",
      "447/447 [==============================] - 0s 73us/step - loss: 0.6427 - accuracy: 0.6577\n",
      "Epoch 55/200\n",
      "447/447 [==============================] - 0s 68us/step - loss: 0.6427 - accuracy: 0.6577\n",
      "Epoch 56/200\n",
      "447/447 [==============================] - 0s 68us/step - loss: 0.6428 - accuracy: 0.6577\n",
      "Epoch 57/200\n",
      "447/447 [==============================] - 0s 52us/step - loss: 0.6426 - accuracy: 0.6577\n",
      "Epoch 58/200\n",
      "447/447 [==============================] - 0s 48us/step - loss: 0.6426 - accuracy: 0.6577\n",
      "Epoch 59/200\n",
      "447/447 [==============================] - 0s 52us/step - loss: 0.6427 - accuracy: 0.6577\n",
      "Epoch 60/200\n",
      "447/447 [==============================] - 0s 59us/step - loss: 0.6427 - accuracy: 0.6577\n",
      "Epoch 61/200\n",
      "447/447 [==============================] - 0s 58us/step - loss: 0.6427 - accuracy: 0.6577\n",
      "Epoch 62/200\n",
      "447/447 [==============================] - 0s 69us/step - loss: 0.6427 - accuracy: 0.6577\n",
      "Epoch 63/200\n",
      "447/447 [==============================] - 0s 81us/step - loss: 0.6427 - accuracy: 0.6577\n",
      "Epoch 64/200\n",
      "447/447 [==============================] - 0s 74us/step - loss: 0.6427 - accuracy: 0.6577\n",
      "Epoch 65/200\n",
      "447/447 [==============================] - ETA: 0s - loss: 0.5828 - accuracy: 0.75 - 0s 65us/step - loss: 0.6426 - accuracy: 0.6577\n",
      "Epoch 66/200\n",
      "447/447 [==============================] - 0s 80us/step - loss: 0.6427 - accuracy: 0.6577\n",
      "Epoch 67/200\n",
      "447/447 [==============================] - 0s 59us/step - loss: 0.6427 - accuracy: 0.6577\n",
      "Epoch 68/200\n",
      "447/447 [==============================] - 0s 65us/step - loss: 0.6426 - accuracy: 0.6577\n",
      "Epoch 69/200\n",
      "447/447 [==============================] - 0s 76us/step - loss: 0.6427 - accuracy: 0.6577\n",
      "Epoch 70/200\n",
      "447/447 [==============================] - 0s 85us/step - loss: 0.6426 - accuracy: 0.6577\n",
      "Epoch 71/200\n",
      "447/447 [==============================] - 0s 85us/step - loss: 0.6426 - accuracy: 0.6577\n",
      "Epoch 72/200\n",
      "447/447 [==============================] - 0s 47us/step - loss: 0.6427 - accuracy: 0.6577\n",
      "Epoch 73/200\n",
      "447/447 [==============================] - 0s 65us/step - loss: 0.6426 - accuracy: 0.6577\n",
      "Epoch 74/200\n",
      "447/447 [==============================] - 0s 66us/step - loss: 0.6426 - accuracy: 0.6577\n",
      "Epoch 75/200\n",
      "447/447 [==============================] - 0s 67us/step - loss: 0.6427 - accuracy: 0.6577\n",
      "Epoch 76/200\n",
      "447/447 [==============================] - 0s 54us/step - loss: 0.6426 - accuracy: 0.6577\n",
      "Epoch 77/200\n",
      "447/447 [==============================] - 0s 48us/step - loss: 0.6427 - accuracy: 0.6577\n",
      "Epoch 78/200\n",
      "447/447 [==============================] - 0s 50us/step - loss: 0.6426 - accuracy: 0.6577\n",
      "Epoch 79/200\n",
      "447/447 [==============================] - 0s 47us/step - loss: 0.6426 - accuracy: 0.6577\n",
      "Epoch 80/200\n",
      "447/447 [==============================] - 0s 55us/step - loss: 0.6427 - accuracy: 0.6577\n",
      "Epoch 81/200\n",
      "447/447 [==============================] - 0s 49us/step - loss: 0.6427 - accuracy: 0.6577\n",
      "Epoch 82/200\n",
      "447/447 [==============================] - 0s 43us/step - loss: 0.6426 - accuracy: 0.6577\n",
      "Epoch 83/200\n",
      "447/447 [==============================] - 0s 48us/step - loss: 0.6426 - accuracy: 0.6577\n",
      "Epoch 84/200\n",
      "447/447 [==============================] - 0s 45us/step - loss: 0.6426 - accuracy: 0.6577\n",
      "Epoch 85/200\n",
      "447/447 [==============================] - 0s 51us/step - loss: 0.6426 - accuracy: 0.6577\n",
      "Epoch 86/200\n",
      "447/447 [==============================] - 0s 48us/step - loss: 0.6426 - accuracy: 0.6577\n",
      "Epoch 87/200\n",
      "447/447 [==============================] - 0s 47us/step - loss: 0.6427 - accuracy: 0.6577\n",
      "Epoch 88/200\n",
      "447/447 [==============================] - 0s 41us/step - loss: 0.6426 - accuracy: 0.6577\n",
      "Epoch 89/200\n",
      "447/447 [==============================] - 0s 46us/step - loss: 0.6426 - accuracy: 0.6577\n",
      "Epoch 90/200\n",
      "447/447 [==============================] - 0s 43us/step - loss: 0.6426 - accuracy: 0.6577\n",
      "Epoch 91/200\n",
      "447/447 [==============================] - 0s 47us/step - loss: 0.6428 - accuracy: 0.6577\n",
      "Epoch 92/200\n",
      "447/447 [==============================] - 0s 48us/step - loss: 0.6426 - accuracy: 0.6577\n",
      "Epoch 93/200\n",
      "447/447 [==============================] - 0s 50us/step - loss: 0.6428 - accuracy: 0.6577\n",
      "Epoch 94/200\n",
      "447/447 [==============================] - 0s 43us/step - loss: 0.6429 - accuracy: 0.6577\n",
      "Epoch 95/200\n",
      "447/447 [==============================] - 0s 41us/step - loss: 0.6427 - accuracy: 0.6577\n",
      "Epoch 96/200\n",
      "447/447 [==============================] - 0s 42us/step - loss: 0.6426 - accuracy: 0.6577\n",
      "Epoch 97/200\n",
      "447/447 [==============================] - 0s 44us/step - loss: 0.6426 - accuracy: 0.6577\n",
      "Epoch 98/200\n",
      "447/447 [==============================] - 0s 43us/step - loss: 0.6427 - accuracy: 0.6577\n",
      "Epoch 99/200\n",
      "447/447 [==============================] - 0s 45us/step - loss: 0.6429 - accuracy: 0.6577\n",
      "Epoch 100/200\n",
      "447/447 [==============================] - 0s 58us/step - loss: 0.6427 - accuracy: 0.6577\n",
      "Epoch 101/200\n",
      "447/447 [==============================] - 0s 72us/step - loss: 0.6426 - accuracy: 0.6577\n",
      "Epoch 102/200\n",
      "447/447 [==============================] - 0s 87us/step - loss: 0.6426 - accuracy: 0.6577\n",
      "Epoch 103/200\n",
      "447/447 [==============================] - 0s 79us/step - loss: 0.6426 - accuracy: 0.6577\n",
      "Epoch 104/200\n",
      "447/447 [==============================] - 0s 78us/step - loss: 0.6427 - accuracy: 0.6577\n",
      "Epoch 105/200\n",
      "447/447 [==============================] - 0s 82us/step - loss: 0.6426 - accuracy: 0.6577\n",
      "Epoch 106/200\n",
      "447/447 [==============================] - 0s 84us/step - loss: 0.6428 - accuracy: 0.6577\n",
      "Epoch 107/200\n",
      "447/447 [==============================] - 0s 67us/step - loss: 0.6426 - accuracy: 0.6577\n",
      "Epoch 108/200\n",
      "447/447 [==============================] - 0s 85us/step - loss: 0.6426 - accuracy: 0.6577\n",
      "Epoch 109/200\n",
      "447/447 [==============================] - 0s 81us/step - loss: 0.6426 - accuracy: 0.6577\n",
      "Epoch 110/200\n",
      "447/447 [==============================] - 0s 87us/step - loss: 0.6426 - accuracy: 0.6577\n",
      "Epoch 111/200\n",
      "447/447 [==============================] - 0s 95us/step - loss: 0.6426 - accuracy: 0.6577\n",
      "Epoch 112/200\n",
      "447/447 [==============================] - 0s 88us/step - loss: 0.6427 - accuracy: 0.6577\n",
      "Epoch 113/200\n",
      "447/447 [==============================] - 0s 76us/step - loss: 0.6427 - accuracy: 0.6577\n",
      "Epoch 114/200\n",
      "447/447 [==============================] - 0s 82us/step - loss: 0.6426 - accuracy: 0.6577\n",
      "Epoch 115/200\n",
      "447/447 [==============================] - 0s 86us/step - loss: 0.6426 - accuracy: 0.6577\n",
      "Epoch 116/200\n"
     ]
    },
    {
     "name": "stdout",
     "output_type": "stream",
     "text": [
      "447/447 [==============================] - 0s 55us/step - loss: 0.6427 - accuracy: 0.6577\n",
      "Epoch 117/200\n",
      "447/447 [==============================] - 0s 55us/step - loss: 0.6428 - accuracy: 0.6577\n",
      "Epoch 118/200\n",
      "447/447 [==============================] - 0s 52us/step - loss: 0.6426 - accuracy: 0.6577\n",
      "Epoch 119/200\n",
      "447/447 [==============================] - 0s 55us/step - loss: 0.6428 - accuracy: 0.6577\n",
      "Epoch 120/200\n",
      "447/447 [==============================] - 0s 43us/step - loss: 0.6426 - accuracy: 0.6577\n",
      "Epoch 121/200\n",
      "447/447 [==============================] - 0s 58us/step - loss: 0.6427 - accuracy: 0.6577\n",
      "Epoch 122/200\n",
      "447/447 [==============================] - 0s 117us/step - loss: 0.6426 - accuracy: 0.6577\n",
      "Epoch 123/200\n",
      "447/447 [==============================] - 0s 79us/step - loss: 0.6426 - accuracy: 0.6577\n",
      "Epoch 124/200\n",
      "447/447 [==============================] - 0s 46us/step - loss: 0.6427 - accuracy: 0.6577\n",
      "Epoch 125/200\n",
      "447/447 [==============================] - 0s 45us/step - loss: 0.6426 - accuracy: 0.6577\n",
      "Epoch 126/200\n",
      "447/447 [==============================] - 0s 54us/step - loss: 0.6426 - accuracy: 0.6577\n",
      "Epoch 127/200\n",
      "447/447 [==============================] - 0s 45us/step - loss: 0.6427 - accuracy: 0.6577\n",
      "Epoch 128/200\n",
      "447/447 [==============================] - 0s 45us/step - loss: 0.6426 - accuracy: 0.6577\n",
      "Epoch 129/200\n",
      "447/447 [==============================] - 0s 49us/step - loss: 0.6426 - accuracy: 0.6577\n",
      "Epoch 130/200\n",
      "447/447 [==============================] - 0s 43us/step - loss: 0.6426 - accuracy: 0.6577\n",
      "Epoch 131/200\n",
      "447/447 [==============================] - 0s 47us/step - loss: 0.6426 - accuracy: 0.6577\n",
      "Epoch 132/200\n",
      "447/447 [==============================] - 0s 46us/step - loss: 0.6426 - accuracy: 0.6577\n",
      "Epoch 133/200\n",
      "447/447 [==============================] - 0s 44us/step - loss: 0.6426 - accuracy: 0.6577\n",
      "Epoch 134/200\n",
      "447/447 [==============================] - 0s 47us/step - loss: 0.6426 - accuracy: 0.6577\n",
      "Epoch 135/200\n",
      "447/447 [==============================] - 0s 44us/step - loss: 0.6426 - accuracy: 0.6577\n",
      "Epoch 136/200\n",
      "447/447 [==============================] - 0s 42us/step - loss: 0.6426 - accuracy: 0.6577\n",
      "Epoch 137/200\n",
      "447/447 [==============================] - 0s 46us/step - loss: 0.6426 - accuracy: 0.6577\n",
      "Epoch 138/200\n",
      "447/447 [==============================] - 0s 45us/step - loss: 0.6426 - accuracy: 0.6577\n",
      "Epoch 139/200\n",
      "447/447 [==============================] - 0s 43us/step - loss: 0.6426 - accuracy: 0.6577\n",
      "Epoch 140/200\n",
      "447/447 [==============================] - 0s 44us/step - loss: 0.6427 - accuracy: 0.6577\n",
      "Epoch 141/200\n",
      "447/447 [==============================] - 0s 48us/step - loss: 0.6428 - accuracy: 0.6577\n",
      "Epoch 142/200\n",
      "447/447 [==============================] - 0s 47us/step - loss: 0.6426 - accuracy: 0.6577\n",
      "Epoch 143/200\n",
      "447/447 [==============================] - 0s 66us/step - loss: 0.6428 - accuracy: 0.6577\n",
      "Epoch 144/200\n",
      "447/447 [==============================] - 0s 65us/step - loss: 0.6427 - accuracy: 0.6577\n",
      "Epoch 145/200\n",
      "447/447 [==============================] - 0s 52us/step - loss: 0.6426 - accuracy: 0.6577\n",
      "Epoch 146/200\n",
      "447/447 [==============================] - 0s 45us/step - loss: 0.6426 - accuracy: 0.6577\n",
      "Epoch 147/200\n",
      "447/447 [==============================] - 0s 51us/step - loss: 0.6427 - accuracy: 0.6577\n",
      "Epoch 148/200\n",
      "447/447 [==============================] - 0s 44us/step - loss: 0.6427 - accuracy: 0.6577\n",
      "Epoch 149/200\n",
      "447/447 [==============================] - 0s 45us/step - loss: 0.6426 - accuracy: 0.6577\n",
      "Epoch 150/200\n",
      "447/447 [==============================] - 0s 46us/step - loss: 0.6426 - accuracy: 0.6577\n",
      "Epoch 151/200\n",
      "447/447 [==============================] - 0s 46us/step - loss: 0.6428 - accuracy: 0.6577\n",
      "Epoch 152/200\n",
      "447/447 [==============================] - 0s 47us/step - loss: 0.6427 - accuracy: 0.6577\n",
      "Epoch 153/200\n",
      "447/447 [==============================] - 0s 42us/step - loss: 0.6426 - accuracy: 0.6577\n",
      "Epoch 154/200\n",
      "447/447 [==============================] - 0s 45us/step - loss: 0.6426 - accuracy: 0.6577\n",
      "Epoch 155/200\n",
      "447/447 [==============================] - 0s 49us/step - loss: 0.6426 - accuracy: 0.6577\n",
      "Epoch 156/200\n",
      "447/447 [==============================] - 0s 45us/step - loss: 0.6426 - accuracy: 0.6577\n",
      "Epoch 157/200\n",
      "447/447 [==============================] - 0s 52us/step - loss: 0.6426 - accuracy: 0.6577\n",
      "Epoch 158/200\n",
      "447/447 [==============================] - 0s 52us/step - loss: 0.6427 - accuracy: 0.6577\n",
      "Epoch 159/200\n",
      "447/447 [==============================] - 0s 42us/step - loss: 0.6427 - accuracy: 0.6577\n",
      "Epoch 160/200\n",
      "447/447 [==============================] - 0s 46us/step - loss: 0.6426 - accuracy: 0.6577\n",
      "Epoch 161/200\n",
      "447/447 [==============================] - 0s 45us/step - loss: 0.6426 - accuracy: 0.6577\n",
      "Epoch 162/200\n",
      "447/447 [==============================] - 0s 42us/step - loss: 0.6426 - accuracy: 0.6577\n",
      "Epoch 163/200\n",
      "447/447 [==============================] - 0s 45us/step - loss: 0.6426 - accuracy: 0.6577\n",
      "Epoch 164/200\n",
      "447/447 [==============================] - 0s 45us/step - loss: 0.6426 - accuracy: 0.6577\n",
      "Epoch 165/200\n",
      "447/447 [==============================] - 0s 57us/step - loss: 0.6426 - accuracy: 0.6577\n",
      "Epoch 166/200\n",
      "447/447 [==============================] - 0s 45us/step - loss: 0.6426 - accuracy: 0.6577\n",
      "Epoch 167/200\n",
      "447/447 [==============================] - 0s 42us/step - loss: 0.6426 - accuracy: 0.6577\n",
      "Epoch 168/200\n",
      "447/447 [==============================] - 0s 40us/step - loss: 0.6426 - accuracy: 0.6577\n",
      "Epoch 169/200\n",
      "447/447 [==============================] - 0s 40us/step - loss: 0.6426 - accuracy: 0.6577\n",
      "Epoch 170/200\n",
      "447/447 [==============================] - 0s 42us/step - loss: 0.6426 - accuracy: 0.6577\n",
      "Epoch 171/200\n",
      "447/447 [==============================] - 0s 42us/step - loss: 0.6426 - accuracy: 0.6577\n",
      "Epoch 172/200\n",
      "447/447 [==============================] - 0s 40us/step - loss: 0.6426 - accuracy: 0.6577\n",
      "Epoch 173/200\n",
      "447/447 [==============================] - 0s 43us/step - loss: 0.6426 - accuracy: 0.6577\n",
      "Epoch 174/200\n",
      "447/447 [==============================] - 0s 47us/step - loss: 0.6426 - accuracy: 0.6577\n",
      "Epoch 175/200\n",
      "447/447 [==============================] - 0s 47us/step - loss: 0.6427 - accuracy: 0.6577\n",
      "Epoch 176/200\n",
      "447/447 [==============================] - 0s 45us/step - loss: 0.6428 - accuracy: 0.6577\n",
      "Epoch 177/200\n",
      "447/447 [==============================] - 0s 43us/step - loss: 0.6426 - accuracy: 0.6577\n",
      "Epoch 178/200\n",
      "447/447 [==============================] - 0s 45us/step - loss: 0.6426 - accuracy: 0.6577\n",
      "Epoch 179/200\n",
      "447/447 [==============================] - 0s 41us/step - loss: 0.6427 - accuracy: 0.6577\n",
      "Epoch 180/200\n",
      "447/447 [==============================] - 0s 44us/step - loss: 0.6426 - accuracy: 0.6577\n",
      "Epoch 181/200\n",
      "447/447 [==============================] - 0s 44us/step - loss: 0.6426 - accuracy: 0.6577\n",
      "Epoch 182/200\n",
      "447/447 [==============================] - 0s 47us/step - loss: 0.6426 - accuracy: 0.6577\n",
      "Epoch 183/200\n",
      "447/447 [==============================] - 0s 44us/step - loss: 0.6426 - accuracy: 0.6577\n",
      "Epoch 184/200\n",
      "447/447 [==============================] - 0s 50us/step - loss: 0.6426 - accuracy: 0.6577\n",
      "Epoch 185/200\n",
      "447/447 [==============================] - 0s 42us/step - loss: 0.6426 - accuracy: 0.6577\n",
      "Epoch 186/200\n",
      "447/447 [==============================] - 0s 45us/step - loss: 0.6426 - accuracy: 0.6577\n",
      "Epoch 187/200\n",
      "447/447 [==============================] - 0s 44us/step - loss: 0.6426 - accuracy: 0.6577\n",
      "Epoch 188/200\n",
      "447/447 [==============================] - 0s 48us/step - loss: 0.6426 - accuracy: 0.6577\n",
      "Epoch 189/200\n",
      "447/447 [==============================] - 0s 44us/step - loss: 0.6427 - accuracy: 0.6577\n",
      "Epoch 190/200\n",
      "447/447 [==============================] - 0s 48us/step - loss: 0.6426 - accuracy: 0.6577\n",
      "Epoch 191/200\n",
      "447/447 [==============================] - 0s 45us/step - loss: 0.6426 - accuracy: 0.6577\n",
      "Epoch 192/200\n",
      "447/447 [==============================] - 0s 43us/step - loss: 0.6426 - accuracy: 0.6577\n",
      "Epoch 193/200\n",
      "447/447 [==============================] - 0s 43us/step - loss: 0.6426 - accuracy: 0.6577\n",
      "Epoch 194/200\n",
      "447/447 [==============================] - 0s 44us/step - loss: 0.6426 - accuracy: 0.6577\n",
      "Epoch 195/200\n",
      "447/447 [==============================] - 0s 47us/step - loss: 0.6426 - accuracy: 0.6577\n",
      "Epoch 196/200\n",
      "447/447 [==============================] - 0s 42us/step - loss: 0.6426 - accuracy: 0.6577\n",
      "Epoch 197/200\n",
      "447/447 [==============================] - 0s 50us/step - loss: 0.6426 - accuracy: 0.6577\n",
      "Epoch 198/200\n",
      "447/447 [==============================] - 0s 47us/step - loss: 0.6426 - accuracy: 0.6577\n",
      "Epoch 199/200\n",
      "447/447 [==============================] - 0s 44us/step - loss: 0.6426 - accuracy: 0.6577\n",
      "Epoch 200/200\n",
      "447/447 [==============================] - 0s 46us/step - loss: 0.6426 - accuracy: 0.6577\n",
      "90/90 [==============================] - 0s 334us/step\n",
      "Epoch 1/200\n",
      "447/447 [==============================] - 0s 567us/step - loss: 0.6922 - accuracy: 0.6398\n",
      "Epoch 2/200\n",
      "447/447 [==============================] - 0s 54us/step - loss: 0.6900 - accuracy: 0.6622\n",
      "Epoch 3/200\n",
      "447/447 [==============================] - 0s 52us/step - loss: 0.6877 - accuracy: 0.6622\n",
      "Epoch 4/200\n",
      "447/447 [==============================] - 0s 58us/step - loss: 0.6853 - accuracy: 0.6622\n",
      "Epoch 5/200\n",
      "447/447 [==============================] - 0s 53us/step - loss: 0.6819 - accuracy: 0.6622\n",
      "Epoch 6/200\n",
      "447/447 [==============================] - 0s 49us/step - loss: 0.6782 - accuracy: 0.6622\n",
      "Epoch 7/200\n",
      "447/447 [==============================] - 0s 55us/step - loss: 0.6716 - accuracy: 0.6622\n",
      "Epoch 8/200\n",
      "447/447 [==============================] - 0s 57us/step - loss: 0.6646 - accuracy: 0.6622\n",
      "Epoch 9/200\n",
      "447/447 [==============================] - 0s 56us/step - loss: 0.6549 - accuracy: 0.6622\n",
      "Epoch 10/200\n",
      "447/447 [==============================] - 0s 55us/step - loss: 0.6474 - accuracy: 0.6622\n",
      "Epoch 11/200\n",
      "447/447 [==============================] - 0s 54us/step - loss: 0.6446 - accuracy: 0.6622\n",
      "Epoch 12/200\n",
      "447/447 [==============================] - 0s 63us/step - loss: 0.6435 - accuracy: 0.6622\n",
      "Epoch 13/200\n",
      "447/447 [==============================] - 0s 69us/step - loss: 0.6430 - accuracy: 0.6622\n",
      "Epoch 14/200\n",
      "447/447 [==============================] - 0s 66us/step - loss: 0.6428 - accuracy: 0.6622\n",
      "Epoch 15/200\n",
      "447/447 [==============================] - 0s 60us/step - loss: 0.6421 - accuracy: 0.6622\n",
      "Epoch 16/200\n",
      "447/447 [==============================] - 0s 67us/step - loss: 0.6418 - accuracy: 0.6622\n",
      "Epoch 17/200\n",
      "447/447 [==============================] - 0s 65us/step - loss: 0.6421 - accuracy: 0.6622\n",
      "Epoch 18/200\n",
      "447/447 [==============================] - 0s 60us/step - loss: 0.6418 - accuracy: 0.6622\n",
      "Epoch 19/200\n",
      "447/447 [==============================] - 0s 66us/step - loss: 0.6411 - accuracy: 0.6622\n",
      "Epoch 20/200\n",
      "447/447 [==============================] - 0s 59us/step - loss: 0.6409 - accuracy: 0.6622\n",
      "Epoch 21/200\n",
      "447/447 [==============================] - 0s 64us/step - loss: 0.6407 - accuracy: 0.6622\n",
      "Epoch 22/200\n",
      "447/447 [==============================] - 0s 56us/step - loss: 0.6402 - accuracy: 0.6622\n",
      "Epoch 23/200\n",
      "447/447 [==============================] - 0s 46us/step - loss: 0.6398 - accuracy: 0.6622\n",
      "Epoch 24/200\n",
      "447/447 [==============================] - 0s 58us/step - loss: 0.6395 - accuracy: 0.6622\n",
      "Epoch 25/200\n",
      "447/447 [==============================] - 0s 60us/step - loss: 0.6390 - accuracy: 0.6622\n",
      "Epoch 26/200\n",
      "447/447 [==============================] - 0s 61us/step - loss: 0.6384 - accuracy: 0.6622\n",
      "Epoch 27/200\n",
      "447/447 [==============================] - 0s 101us/step - loss: 0.6376 - accuracy: 0.6622\n",
      "Epoch 28/200\n",
      "447/447 [==============================] - 0s 127us/step - loss: 0.6365 - accuracy: 0.6622\n",
      "Epoch 29/200\n",
      "447/447 [==============================] - 0s 66us/step - loss: 0.6353 - accuracy: 0.6622\n",
      "Epoch 30/200\n",
      "447/447 [==============================] - 0s 58us/step - loss: 0.6344 - accuracy: 0.6622\n",
      "Epoch 31/200\n",
      "447/447 [==============================] - 0s 50us/step - loss: 0.6315 - accuracy: 0.6622\n",
      "Epoch 32/200\n",
      "447/447 [==============================] - 0s 44us/step - loss: 0.6285 - accuracy: 0.6622\n",
      "Epoch 33/200\n",
      "447/447 [==============================] - 0s 44us/step - loss: 0.6244 - accuracy: 0.6622\n",
      "Epoch 34/200\n",
      "447/447 [==============================] - 0s 66us/step - loss: 0.6194 - accuracy: 0.6622\n",
      "Epoch 35/200\n",
      "447/447 [==============================] - 0s 61us/step - loss: 0.6127 - accuracy: 0.6622\n",
      "Epoch 36/200\n",
      "447/447 [==============================] - 0s 65us/step - loss: 0.6032 - accuracy: 0.6622\n",
      "Epoch 37/200\n",
      "447/447 [==============================] - 0s 58us/step - loss: 0.5938 - accuracy: 0.6622\n",
      "Epoch 38/200\n",
      "447/447 [==============================] - 0s 95us/step - loss: 0.5828 - accuracy: 0.6622\n",
      "Epoch 39/200\n",
      "447/447 [==============================] - 0s 58us/step - loss: 0.5724 - accuracy: 0.6622\n",
      "Epoch 40/200\n",
      "447/447 [==============================] - 0s 52us/step - loss: 0.5618 - accuracy: 0.6622\n",
      "Epoch 41/200\n",
      "447/447 [==============================] - 0s 57us/step - loss: 0.5509 - accuracy: 0.6577\n",
      "Epoch 42/200\n",
      "447/447 [==============================] - 0s 49us/step - loss: 0.5404 - accuracy: 0.6913\n",
      "Epoch 43/200\n",
      "447/447 [==============================] - 0s 45us/step - loss: 0.5300 - accuracy: 0.7494\n",
      "Epoch 44/200\n",
      "447/447 [==============================] - 0s 45us/step - loss: 0.5236 - accuracy: 0.7383\n",
      "Epoch 45/200\n",
      "447/447 [==============================] - 0s 41us/step - loss: 0.5179 - accuracy: 0.7494\n",
      "Epoch 46/200\n",
      "447/447 [==============================] - 0s 48us/step - loss: 0.5116 - accuracy: 0.7450\n",
      "Epoch 47/200\n",
      "447/447 [==============================] - 0s 56us/step - loss: 0.5071 - accuracy: 0.7539\n",
      "Epoch 48/200\n",
      "447/447 [==============================] - 0s 41us/step - loss: 0.5035 - accuracy: 0.7539\n",
      "Epoch 49/200\n",
      "447/447 [==============================] - 0s 42us/step - loss: 0.4997 - accuracy: 0.7629\n",
      "Epoch 50/200\n",
      "447/447 [==============================] - 0s 53us/step - loss: 0.4955 - accuracy: 0.7718\n",
      "Epoch 51/200\n",
      "447/447 [==============================] - 0s 53us/step - loss: 0.4933 - accuracy: 0.7763\n",
      "Epoch 52/200\n",
      "447/447 [==============================] - 0s 51us/step - loss: 0.4911 - accuracy: 0.7696\n",
      "Epoch 53/200\n",
      "447/447 [==============================] - 0s 50us/step - loss: 0.4893 - accuracy: 0.7696\n",
      "Epoch 54/200\n",
      "447/447 [==============================] - 0s 48us/step - loss: 0.4854 - accuracy: 0.7718\n",
      "Epoch 55/200\n",
      "447/447 [==============================] - 0s 60us/step - loss: 0.4848 - accuracy: 0.7808\n",
      "Epoch 56/200\n",
      "447/447 [==============================] - 0s 42us/step - loss: 0.4851 - accuracy: 0.7673\n",
      "Epoch 57/200\n",
      "447/447 [==============================] - 0s 47us/step - loss: 0.4815 - accuracy: 0.7763\n",
      "Epoch 58/200\n",
      "447/447 [==============================] - 0s 52us/step - loss: 0.4799 - accuracy: 0.7808\n",
      "Epoch 59/200\n",
      "447/447 [==============================] - 0s 59us/step - loss: 0.4805 - accuracy: 0.7808\n",
      "Epoch 60/200\n",
      "447/447 [==============================] - 0s 54us/step - loss: 0.4762 - accuracy: 0.7808\n",
      "Epoch 61/200\n",
      "447/447 [==============================] - 0s 57us/step - loss: 0.4762 - accuracy: 0.7808\n",
      "Epoch 62/200\n",
      "447/447 [==============================] - 0s 54us/step - loss: 0.4780 - accuracy: 0.7740\n",
      "Epoch 63/200\n",
      "447/447 [==============================] - 0s 53us/step - loss: 0.4778 - accuracy: 0.7696\n",
      "Epoch 64/200\n",
      "447/447 [==============================] - 0s 51us/step - loss: 0.4742 - accuracy: 0.7763\n",
      "Epoch 65/200\n",
      "447/447 [==============================] - 0s 49us/step - loss: 0.4732 - accuracy: 0.7763\n",
      "Epoch 66/200\n",
      "447/447 [==============================] - 0s 51us/step - loss: 0.4721 - accuracy: 0.7785\n",
      "Epoch 67/200\n",
      "447/447 [==============================] - 0s 47us/step - loss: 0.4716 - accuracy: 0.7875\n",
      "Epoch 68/200\n",
      "447/447 [==============================] - 0s 46us/step - loss: 0.4714 - accuracy: 0.7852\n",
      "Epoch 69/200\n",
      "447/447 [==============================] - 0s 50us/step - loss: 0.4730 - accuracy: 0.7785\n",
      "Epoch 70/200\n",
      "447/447 [==============================] - 0s 57us/step - loss: 0.4704 - accuracy: 0.7830\n",
      "Epoch 71/200\n",
      "447/447 [==============================] - 0s 55us/step - loss: 0.4705 - accuracy: 0.7875\n",
      "Epoch 72/200\n",
      "447/447 [==============================] - 0s 61us/step - loss: 0.4693 - accuracy: 0.7830\n",
      "Epoch 73/200\n"
     ]
    },
    {
     "name": "stdout",
     "output_type": "stream",
     "text": [
      "447/447 [==============================] - 0s 60us/step - loss: 0.4690 - accuracy: 0.7875\n",
      "Epoch 74/200\n",
      "447/447 [==============================] - 0s 51us/step - loss: 0.4678 - accuracy: 0.7830\n",
      "Epoch 75/200\n",
      "447/447 [==============================] - 0s 45us/step - loss: 0.4667 - accuracy: 0.7875\n",
      "Epoch 76/200\n",
      "447/447 [==============================] - 0s 47us/step - loss: 0.4665 - accuracy: 0.7852\n",
      "Epoch 77/200\n",
      "447/447 [==============================] - 0s 47us/step - loss: 0.4668 - accuracy: 0.7852\n",
      "Epoch 78/200\n",
      "447/447 [==============================] - 0s 62us/step - loss: 0.4670 - accuracy: 0.7875\n",
      "Epoch 79/200\n",
      "447/447 [==============================] - 0s 56us/step - loss: 0.4778 - accuracy: 0.7718\n",
      "Epoch 80/200\n",
      "447/447 [==============================] - 0s 52us/step - loss: 0.4752 - accuracy: 0.7785\n",
      "Epoch 81/200\n",
      "447/447 [==============================] - 0s 56us/step - loss: 0.4673 - accuracy: 0.7852\n",
      "Epoch 82/200\n",
      "447/447 [==============================] - 0s 49us/step - loss: 0.4687 - accuracy: 0.7897\n",
      "Epoch 83/200\n",
      "447/447 [==============================] - 0s 45us/step - loss: 0.4658 - accuracy: 0.7785\n",
      "Epoch 84/200\n",
      "447/447 [==============================] - 0s 40us/step - loss: 0.4652 - accuracy: 0.7785\n",
      "Epoch 85/200\n",
      "447/447 [==============================] - 0s 42us/step - loss: 0.4632 - accuracy: 0.7875\n",
      "Epoch 86/200\n",
      "447/447 [==============================] - 0s 51us/step - loss: 0.4643 - accuracy: 0.7875\n",
      "Epoch 87/200\n",
      "447/447 [==============================] - 0s 68us/step - loss: 0.4647 - accuracy: 0.7897\n",
      "Epoch 88/200\n",
      "447/447 [==============================] - 0s 50us/step - loss: 0.4628 - accuracy: 0.7897\n",
      "Epoch 89/200\n",
      "447/447 [==============================] - 0s 44us/step - loss: 0.4656 - accuracy: 0.7830\n",
      "Epoch 90/200\n",
      "447/447 [==============================] - 0s 46us/step - loss: 0.4643 - accuracy: 0.7875\n",
      "Epoch 91/200\n",
      "447/447 [==============================] - 0s 55us/step - loss: 0.4637 - accuracy: 0.7852\n",
      "Epoch 92/200\n",
      "447/447 [==============================] - 0s 45us/step - loss: 0.4630 - accuracy: 0.7919\n",
      "Epoch 93/200\n",
      "447/447 [==============================] - 0s 45us/step - loss: 0.4625 - accuracy: 0.7852\n",
      "Epoch 94/200\n",
      "447/447 [==============================] - 0s 45us/step - loss: 0.4645 - accuracy: 0.7785\n",
      "Epoch 95/200\n",
      "447/447 [==============================] - 0s 43us/step - loss: 0.4644 - accuracy: 0.7763\n",
      "Epoch 96/200\n",
      "447/447 [==============================] - 0s 43us/step - loss: 0.4624 - accuracy: 0.7852\n",
      "Epoch 97/200\n",
      "447/447 [==============================] - 0s 52us/step - loss: 0.4627 - accuracy: 0.7808\n",
      "Epoch 98/200\n",
      "447/447 [==============================] - 0s 49us/step - loss: 0.4620 - accuracy: 0.7830\n",
      "Epoch 99/200\n",
      "447/447 [==============================] - 0s 49us/step - loss: 0.4618 - accuracy: 0.7808\n",
      "Epoch 100/200\n",
      "447/447 [==============================] - 0s 49us/step - loss: 0.4631 - accuracy: 0.7808\n",
      "Epoch 101/200\n",
      "447/447 [==============================] - 0s 44us/step - loss: 0.4607 - accuracy: 0.7875\n",
      "Epoch 102/200\n",
      "447/447 [==============================] - 0s 43us/step - loss: 0.4617 - accuracy: 0.7763\n",
      "Epoch 103/200\n",
      "447/447 [==============================] - 0s 42us/step - loss: 0.4627 - accuracy: 0.7830\n",
      "Epoch 104/200\n",
      "447/447 [==============================] - 0s 48us/step - loss: 0.4618 - accuracy: 0.7808\n",
      "Epoch 105/200\n",
      "447/447 [==============================] - 0s 47us/step - loss: 0.4597 - accuracy: 0.7808\n",
      "Epoch 106/200\n",
      "447/447 [==============================] - 0s 46us/step - loss: 0.4591 - accuracy: 0.7808\n",
      "Epoch 107/200\n",
      "447/447 [==============================] - 0s 44us/step - loss: 0.4593 - accuracy: 0.7785\n",
      "Epoch 108/200\n",
      "447/447 [==============================] - 0s 50us/step - loss: 0.4585 - accuracy: 0.7785\n",
      "Epoch 109/200\n",
      "447/447 [==============================] - 0s 45us/step - loss: 0.4583 - accuracy: 0.7763\n",
      "Epoch 110/200\n",
      "447/447 [==============================] - 0s 43us/step - loss: 0.4583 - accuracy: 0.7919\n",
      "Epoch 111/200\n",
      "447/447 [==============================] - 0s 44us/step - loss: 0.4579 - accuracy: 0.7830\n",
      "Epoch 112/200\n",
      "447/447 [==============================] - 0s 44us/step - loss: 0.4612 - accuracy: 0.7763\n",
      "Epoch 113/200\n",
      "447/447 [==============================] - 0s 40us/step - loss: 0.4577 - accuracy: 0.7830\n",
      "Epoch 114/200\n",
      "447/447 [==============================] - 0s 45us/step - loss: 0.4614 - accuracy: 0.7852\n",
      "Epoch 115/200\n",
      "447/447 [==============================] - 0s 41us/step - loss: 0.4584 - accuracy: 0.7875\n",
      "Epoch 116/200\n",
      "447/447 [==============================] - 0s 49us/step - loss: 0.4596 - accuracy: 0.7830\n",
      "Epoch 117/200\n",
      "447/447 [==============================] - 0s 55us/step - loss: 0.4566 - accuracy: 0.7830\n",
      "Epoch 118/200\n",
      "447/447 [==============================] - 0s 51us/step - loss: 0.4566 - accuracy: 0.7808\n",
      "Epoch 119/200\n",
      "447/447 [==============================] - 0s 54us/step - loss: 0.4566 - accuracy: 0.7808\n",
      "Epoch 120/200\n",
      "447/447 [==============================] - 0s 45us/step - loss: 0.4555 - accuracy: 0.7942\n",
      "Epoch 121/200\n",
      "447/447 [==============================] - 0s 46us/step - loss: 0.4570 - accuracy: 0.7808\n",
      "Epoch 122/200\n",
      "447/447 [==============================] - 0s 44us/step - loss: 0.4573 - accuracy: 0.7740\n",
      "Epoch 123/200\n",
      "447/447 [==============================] - 0s 42us/step - loss: 0.4561 - accuracy: 0.7852\n",
      "Epoch 124/200\n",
      "447/447 [==============================] - 0s 48us/step - loss: 0.4555 - accuracy: 0.7875\n",
      "Epoch 125/200\n",
      "447/447 [==============================] - 0s 44us/step - loss: 0.4574 - accuracy: 0.7830\n",
      "Epoch 126/200\n",
      "447/447 [==============================] - 0s 41us/step - loss: 0.4607 - accuracy: 0.7852\n",
      "Epoch 127/200\n",
      "447/447 [==============================] - 0s 47us/step - loss: 0.4577 - accuracy: 0.7942\n",
      "Epoch 128/200\n",
      "447/447 [==============================] - 0s 45us/step - loss: 0.4555 - accuracy: 0.7987\n",
      "Epoch 129/200\n",
      "447/447 [==============================] - 0s 45us/step - loss: 0.4549 - accuracy: 0.7830\n",
      "Epoch 130/200\n",
      "447/447 [==============================] - 0s 52us/step - loss: 0.4576 - accuracy: 0.7897\n",
      "Epoch 131/200\n",
      "447/447 [==============================] - 0s 71us/step - loss: 0.4534 - accuracy: 0.7919\n",
      "Epoch 132/200\n",
      "447/447 [==============================] - 0s 49us/step - loss: 0.4541 - accuracy: 0.7875\n",
      "Epoch 133/200\n",
      "447/447 [==============================] - 0s 46us/step - loss: 0.4539 - accuracy: 0.7897\n",
      "Epoch 134/200\n",
      "447/447 [==============================] - 0s 47us/step - loss: 0.4540 - accuracy: 0.7919\n",
      "Epoch 135/200\n",
      "447/447 [==============================] - 0s 43us/step - loss: 0.4531 - accuracy: 0.7897\n",
      "Epoch 136/200\n",
      "447/447 [==============================] - 0s 46us/step - loss: 0.4545 - accuracy: 0.7875\n",
      "Epoch 137/200\n",
      "447/447 [==============================] - 0s 42us/step - loss: 0.4542 - accuracy: 0.7897\n",
      "Epoch 138/200\n",
      "447/447 [==============================] - 0s 47us/step - loss: 0.4527 - accuracy: 0.7919\n",
      "Epoch 139/200\n",
      "447/447 [==============================] - 0s 44us/step - loss: 0.4544 - accuracy: 0.7875\n",
      "Epoch 140/200\n",
      "447/447 [==============================] - 0s 39us/step - loss: 0.4521 - accuracy: 0.7919\n",
      "Epoch 141/200\n",
      "447/447 [==============================] - 0s 45us/step - loss: 0.4542 - accuracy: 0.7897\n",
      "Epoch 142/200\n",
      "447/447 [==============================] - 0s 42us/step - loss: 0.4535 - accuracy: 0.7897\n",
      "Epoch 143/200\n",
      "447/447 [==============================] - 0s 44us/step - loss: 0.4527 - accuracy: 0.7919\n",
      "Epoch 144/200\n",
      "447/447 [==============================] - 0s 51us/step - loss: 0.4516 - accuracy: 0.7919\n",
      "Epoch 145/200\n",
      "447/447 [==============================] - 0s 43us/step - loss: 0.4520 - accuracy: 0.7942\n",
      "Epoch 146/200\n",
      "447/447 [==============================] - 0s 51us/step - loss: 0.4524 - accuracy: 0.7919\n",
      "Epoch 147/200\n",
      "447/447 [==============================] - 0s 46us/step - loss: 0.4526 - accuracy: 0.7875\n",
      "Epoch 148/200\n",
      "447/447 [==============================] - 0s 46us/step - loss: 0.4527 - accuracy: 0.7942\n",
      "Epoch 149/200\n",
      "447/447 [==============================] - 0s 43us/step - loss: 0.4543 - accuracy: 0.7808\n",
      "Epoch 150/200\n",
      "447/447 [==============================] - 0s 43us/step - loss: 0.4523 - accuracy: 0.7897\n",
      "Epoch 151/200\n",
      "447/447 [==============================] - 0s 52us/step - loss: 0.4520 - accuracy: 0.7897\n",
      "Epoch 152/200\n",
      "447/447 [==============================] - 0s 52us/step - loss: 0.4528 - accuracy: 0.7875\n",
      "Epoch 153/200\n",
      "447/447 [==============================] - 0s 48us/step - loss: 0.4510 - accuracy: 0.7942\n",
      "Epoch 154/200\n",
      "447/447 [==============================] - 0s 43us/step - loss: 0.4560 - accuracy: 0.7919\n",
      "Epoch 155/200\n",
      "447/447 [==============================] - 0s 50us/step - loss: 0.4493 - accuracy: 0.7942\n",
      "Epoch 156/200\n",
      "447/447 [==============================] - 0s 51us/step - loss: 0.4518 - accuracy: 0.7919\n",
      "Epoch 157/200\n",
      "447/447 [==============================] - 0s 64us/step - loss: 0.4517 - accuracy: 0.7942\n",
      "Epoch 158/200\n",
      "447/447 [==============================] - 0s 66us/step - loss: 0.4519 - accuracy: 0.7964\n",
      "Epoch 159/200\n",
      "447/447 [==============================] - 0s 64us/step - loss: 0.4512 - accuracy: 0.7964\n",
      "Epoch 160/200\n",
      "447/447 [==============================] - 0s 60us/step - loss: 0.4511 - accuracy: 0.7964\n",
      "Epoch 161/200\n",
      "447/447 [==============================] - 0s 62us/step - loss: 0.4505 - accuracy: 0.7942\n",
      "Epoch 162/200\n",
      "447/447 [==============================] - 0s 59us/step - loss: 0.4511 - accuracy: 0.7942\n",
      "Epoch 163/200\n",
      "447/447 [==============================] - 0s 66us/step - loss: 0.4507 - accuracy: 0.7942\n",
      "Epoch 164/200\n",
      "447/447 [==============================] - 0s 58us/step - loss: 0.4509 - accuracy: 0.7987\n",
      "Epoch 165/200\n",
      "447/447 [==============================] - 0s 67us/step - loss: 0.4515 - accuracy: 0.7942\n",
      "Epoch 166/200\n",
      "447/447 [==============================] - 0s 67us/step - loss: 0.4515 - accuracy: 0.7852\n",
      "Epoch 167/200\n",
      "447/447 [==============================] - 0s 64us/step - loss: 0.4516 - accuracy: 0.7987\n",
      "Epoch 168/200\n",
      "447/447 [==============================] - 0s 66us/step - loss: 0.4527 - accuracy: 0.7942\n",
      "Epoch 169/200\n",
      "447/447 [==============================] - 0s 57us/step - loss: 0.4523 - accuracy: 0.7942\n",
      "Epoch 170/200\n",
      "447/447 [==============================] - 0s 64us/step - loss: 0.4502 - accuracy: 0.7987\n",
      "Epoch 171/200\n",
      "447/447 [==============================] - 0s 70us/step - loss: 0.4510 - accuracy: 0.7964\n",
      "Epoch 172/200\n",
      "447/447 [==============================] - 0s 72us/step - loss: 0.4520 - accuracy: 0.7919\n",
      "Epoch 173/200\n",
      "447/447 [==============================] - 0s 56us/step - loss: 0.4524 - accuracy: 0.7942\n",
      "Epoch 174/200\n",
      "447/447 [==============================] - 0s 53us/step - loss: 0.4508 - accuracy: 0.8009\n",
      "Epoch 175/200\n",
      "447/447 [==============================] - 0s 49us/step - loss: 0.4501 - accuracy: 0.7964\n",
      "Epoch 176/200\n",
      "447/447 [==============================] - 0s 50us/step - loss: 0.4533 - accuracy: 0.7942\n",
      "Epoch 177/200\n",
      "447/447 [==============================] - 0s 49us/step - loss: 0.4521 - accuracy: 0.7964\n",
      "Epoch 178/200\n",
      "447/447 [==============================] - 0s 48us/step - loss: 0.4519 - accuracy: 0.7942\n",
      "Epoch 179/200\n",
      "447/447 [==============================] - 0s 51us/step - loss: 0.4506 - accuracy: 0.7919\n",
      "Epoch 180/200\n",
      "447/447 [==============================] - 0s 48us/step - loss: 0.4519 - accuracy: 0.7987\n",
      "Epoch 181/200\n",
      "447/447 [==============================] - 0s 47us/step - loss: 0.4520 - accuracy: 0.7964\n",
      "Epoch 182/200\n",
      "447/447 [==============================] - 0s 50us/step - loss: 0.4517 - accuracy: 0.7942\n",
      "Epoch 183/200\n",
      "447/447 [==============================] - 0s 47us/step - loss: 0.4527 - accuracy: 0.7897\n",
      "Epoch 184/200\n",
      "447/447 [==============================] - 0s 64us/step - loss: 0.4504 - accuracy: 0.7964\n",
      "Epoch 185/200\n",
      "447/447 [==============================] - 0s 62us/step - loss: 0.4517 - accuracy: 0.7964\n",
      "Epoch 186/200\n",
      "447/447 [==============================] - 0s 57us/step - loss: 0.4541 - accuracy: 0.7875\n",
      "Epoch 187/200\n",
      "447/447 [==============================] - 0s 49us/step - loss: 0.4528 - accuracy: 0.8031\n",
      "Epoch 188/200\n",
      "447/447 [==============================] - 0s 44us/step - loss: 0.4516 - accuracy: 0.8009\n",
      "Epoch 189/200\n",
      "447/447 [==============================] - 0s 44us/step - loss: 0.4505 - accuracy: 0.7987\n",
      "Epoch 190/200\n",
      "447/447 [==============================] - 0s 47us/step - loss: 0.4500 - accuracy: 0.8009\n",
      "Epoch 191/200\n",
      "447/447 [==============================] - 0s 45us/step - loss: 0.4501 - accuracy: 0.7987\n",
      "Epoch 192/200\n",
      "447/447 [==============================] - 0s 47us/step - loss: 0.4508 - accuracy: 0.8009\n",
      "Epoch 193/200\n",
      "447/447 [==============================] - 0s 52us/step - loss: 0.4512 - accuracy: 0.7987\n",
      "Epoch 194/200\n",
      "447/447 [==============================] - 0s 58us/step - loss: 0.4531 - accuracy: 0.7919\n",
      "Epoch 195/200\n",
      "447/447 [==============================] - 0s 44us/step - loss: 0.4511 - accuracy: 0.7964\n",
      "Epoch 196/200\n",
      "447/447 [==============================] - 0s 50us/step - loss: 0.4507 - accuracy: 0.7919\n",
      "Epoch 197/200\n",
      "447/447 [==============================] - 0s 46us/step - loss: 0.4529 - accuracy: 0.7964\n",
      "Epoch 198/200\n",
      "447/447 [==============================] - 0s 46us/step - loss: 0.4511 - accuracy: 0.7964\n",
      "Epoch 199/200\n",
      "447/447 [==============================] - 0s 46us/step - loss: 0.4506 - accuracy: 0.8031\n",
      "Epoch 200/200\n",
      "447/447 [==============================] - 0s 43us/step - loss: 0.4500 - accuracy: 0.7987\n",
      "90/90 [==============================] - 0s 329us/step\n",
      "Epoch 1/200\n",
      "448/448 [==============================] - 0s 583us/step - loss: 0.6923 - accuracy: 0.6295\n",
      "Epoch 2/200\n",
      "448/448 [==============================] - 0s 50us/step - loss: 0.6904 - accuracy: 0.6451\n",
      "Epoch 3/200\n",
      "448/448 [==============================] - 0s 53us/step - loss: 0.6880 - accuracy: 0.6451\n",
      "Epoch 4/200\n",
      "448/448 [==============================] - 0s 46us/step - loss: 0.6856 - accuracy: 0.6451\n",
      "Epoch 5/200\n",
      "448/448 [==============================] - 0s 60us/step - loss: 0.6824 - accuracy: 0.6451\n",
      "Epoch 6/200\n",
      "448/448 [==============================] - 0s 54us/step - loss: 0.6780 - accuracy: 0.6451\n",
      "Epoch 7/200\n",
      "448/448 [==============================] - 0s 50us/step - loss: 0.6724 - accuracy: 0.6451\n",
      "Epoch 8/200\n",
      "448/448 [==============================] - 0s 58us/step - loss: 0.6648 - accuracy: 0.6451\n",
      "Epoch 9/200\n",
      "448/448 [==============================] - 0s 56us/step - loss: 0.6584 - accuracy: 0.6451\n",
      "Epoch 10/200\n",
      "448/448 [==============================] - 0s 46us/step - loss: 0.6548 - accuracy: 0.6451\n",
      "Epoch 11/200\n",
      "448/448 [==============================] - 0s 44us/step - loss: 0.6535 - accuracy: 0.6451\n",
      "Epoch 12/200\n",
      "448/448 [==============================] - 0s 42us/step - loss: 0.6531 - accuracy: 0.6451\n",
      "Epoch 13/200\n",
      "448/448 [==============================] - 0s 42us/step - loss: 0.6529 - accuracy: 0.6451\n",
      "Epoch 14/200\n",
      "448/448 [==============================] - 0s 57us/step - loss: 0.6524 - accuracy: 0.6451\n",
      "Epoch 15/200\n",
      "448/448 [==============================] - 0s 43us/step - loss: 0.6519 - accuracy: 0.6451\n",
      "Epoch 16/200\n",
      "448/448 [==============================] - 0s 45us/step - loss: 0.6513 - accuracy: 0.6451\n",
      "Epoch 17/200\n",
      "448/448 [==============================] - 0s 42us/step - loss: 0.6508 - accuracy: 0.6451\n",
      "Epoch 18/200\n",
      "448/448 [==============================] - 0s 43us/step - loss: 0.6503 - accuracy: 0.6451\n",
      "Epoch 19/200\n",
      "448/448 [==============================] - 0s 39us/step - loss: 0.6495 - accuracy: 0.6451\n",
      "Epoch 20/200\n",
      "448/448 [==============================] - 0s 41us/step - loss: 0.6488 - accuracy: 0.6451\n",
      "Epoch 21/200\n",
      "448/448 [==============================] - 0s 43us/step - loss: 0.6482 - accuracy: 0.6451\n",
      "Epoch 22/200\n",
      "448/448 [==============================] - 0s 41us/step - loss: 0.6467 - accuracy: 0.6451\n",
      "Epoch 23/200\n",
      "448/448 [==============================] - 0s 47us/step - loss: 0.6452 - accuracy: 0.6451\n",
      "Epoch 24/200\n",
      "448/448 [==============================] - 0s 41us/step - loss: 0.6429 - accuracy: 0.6451\n",
      "Epoch 25/200\n",
      "448/448 [==============================] - 0s 46us/step - loss: 0.6409 - accuracy: 0.6451\n",
      "Epoch 26/200\n",
      "448/448 [==============================] - 0s 46us/step - loss: 0.6364 - accuracy: 0.6451\n",
      "Epoch 27/200\n",
      "448/448 [==============================] - 0s 46us/step - loss: 0.6310 - accuracy: 0.6451\n",
      "Epoch 28/200\n",
      "448/448 [==============================] - 0s 51us/step - loss: 0.6246 - accuracy: 0.6451\n",
      "Epoch 29/200\n",
      "448/448 [==============================] - 0s 54us/step - loss: 0.6154 - accuracy: 0.6451\n",
      "Epoch 30/200\n"
     ]
    },
    {
     "name": "stdout",
     "output_type": "stream",
     "text": [
      "448/448 [==============================] - 0s 45us/step - loss: 0.6045 - accuracy: 0.6451\n",
      "Epoch 31/200\n",
      "448/448 [==============================] - 0s 51us/step - loss: 0.5943 - accuracy: 0.6451\n",
      "Epoch 32/200\n",
      "448/448 [==============================] - 0s 56us/step - loss: 0.5795 - accuracy: 0.6451\n",
      "Epoch 33/200\n",
      "448/448 [==============================] - 0s 49us/step - loss: 0.5672 - accuracy: 0.6451\n",
      "Epoch 34/200\n",
      "448/448 [==============================] - 0s 47us/step - loss: 0.5583 - accuracy: 0.6451\n",
      "Epoch 35/200\n",
      "448/448 [==============================] - 0s 51us/step - loss: 0.5497 - accuracy: 0.6451\n",
      "Epoch 36/200\n",
      "448/448 [==============================] - 0s 58us/step - loss: 0.5466 - accuracy: 0.6451\n",
      "Epoch 37/200\n",
      "448/448 [==============================] - 0s 59us/step - loss: 0.5405 - accuracy: 0.6451\n",
      "Epoch 38/200\n",
      "448/448 [==============================] - 0s 61us/step - loss: 0.5342 - accuracy: 0.6451\n",
      "Epoch 39/200\n",
      "448/448 [==============================] - 0s 50us/step - loss: 0.5286 - accuracy: 0.6451\n",
      "Epoch 40/200\n",
      "448/448 [==============================] - 0s 55us/step - loss: 0.5269 - accuracy: 0.6451\n",
      "Epoch 41/200\n",
      "448/448 [==============================] - 0s 51us/step - loss: 0.5230 - accuracy: 0.6451\n",
      "Epoch 42/200\n",
      "448/448 [==============================] - 0s 59us/step - loss: 0.5201 - accuracy: 0.6451\n",
      "Epoch 43/200\n",
      "448/448 [==============================] - 0s 49us/step - loss: 0.5183 - accuracy: 0.6451\n",
      "Epoch 44/200\n",
      "448/448 [==============================] - 0s 52us/step - loss: 0.5156 - accuracy: 0.6451\n",
      "Epoch 45/200\n",
      "448/448 [==============================] - 0s 51us/step - loss: 0.5131 - accuracy: 0.6451\n",
      "Epoch 46/200\n",
      "448/448 [==============================] - 0s 47us/step - loss: 0.5111 - accuracy: 0.6451\n",
      "Epoch 47/200\n",
      "448/448 [==============================] - 0s 56us/step - loss: 0.5099 - accuracy: 0.6451\n",
      "Epoch 48/200\n",
      "448/448 [==============================] - 0s 54us/step - loss: 0.5083 - accuracy: 0.7232\n",
      "Epoch 49/200\n",
      "448/448 [==============================] - 0s 54us/step - loss: 0.5070 - accuracy: 0.7545\n",
      "Epoch 50/200\n",
      "448/448 [==============================] - 0s 52us/step - loss: 0.5085 - accuracy: 0.7455\n",
      "Epoch 51/200\n",
      "448/448 [==============================] - 0s 47us/step - loss: 0.5032 - accuracy: 0.7589\n",
      "Epoch 52/200\n",
      "448/448 [==============================] - 0s 43us/step - loss: 0.5044 - accuracy: 0.7545\n",
      "Epoch 53/200\n",
      "448/448 [==============================] - 0s 47us/step - loss: 0.5024 - accuracy: 0.7634\n",
      "Epoch 54/200\n",
      "448/448 [==============================] - 0s 46us/step - loss: 0.5039 - accuracy: 0.7545\n",
      "Epoch 55/200\n",
      "448/448 [==============================] - 0s 48us/step - loss: 0.5032 - accuracy: 0.7656\n",
      "Epoch 56/200\n",
      "448/448 [==============================] - 0s 50us/step - loss: 0.5011 - accuracy: 0.7567\n",
      "Epoch 57/200\n",
      "448/448 [==============================] - 0s 48us/step - loss: 0.5011 - accuracy: 0.7634\n",
      "Epoch 58/200\n",
      "448/448 [==============================] - 0s 51us/step - loss: 0.4990 - accuracy: 0.7612\n",
      "Epoch 59/200\n",
      "448/448 [==============================] - 0s 44us/step - loss: 0.4975 - accuracy: 0.7612\n",
      "Epoch 60/200\n",
      "448/448 [==============================] - 0s 45us/step - loss: 0.4980 - accuracy: 0.7656\n",
      "Epoch 61/200\n",
      "448/448 [==============================] - 0s 45us/step - loss: 0.5017 - accuracy: 0.7567\n",
      "Epoch 62/200\n",
      "448/448 [==============================] - 0s 44us/step - loss: 0.4953 - accuracy: 0.7701\n",
      "Epoch 63/200\n",
      "448/448 [==============================] - 0s 41us/step - loss: 0.4962 - accuracy: 0.7656\n",
      "Epoch 64/200\n",
      "448/448 [==============================] - 0s 44us/step - loss: 0.4953 - accuracy: 0.7656\n",
      "Epoch 65/200\n",
      "448/448 [==============================] - 0s 43us/step - loss: 0.4941 - accuracy: 0.7656\n",
      "Epoch 66/200\n",
      "448/448 [==============================] - 0s 44us/step - loss: 0.4938 - accuracy: 0.7612\n",
      "Epoch 67/200\n",
      "448/448 [==============================] - 0s 40us/step - loss: 0.4938 - accuracy: 0.7723\n",
      "Epoch 68/200\n",
      "448/448 [==============================] - 0s 52us/step - loss: 0.4930 - accuracy: 0.7701\n",
      "Epoch 69/200\n",
      "448/448 [==============================] - 0s 49us/step - loss: 0.4962 - accuracy: 0.7612\n",
      "Epoch 70/200\n",
      "448/448 [==============================] - 0s 52us/step - loss: 0.4927 - accuracy: 0.7656\n",
      "Epoch 71/200\n",
      "448/448 [==============================] - 0s 44us/step - loss: 0.4907 - accuracy: 0.7812\n",
      "Epoch 72/200\n",
      "448/448 [==============================] - 0s 49us/step - loss: 0.4904 - accuracy: 0.7679\n",
      "Epoch 73/200\n",
      "448/448 [==============================] - 0s 51us/step - loss: 0.4892 - accuracy: 0.7679\n",
      "Epoch 74/200\n",
      "448/448 [==============================] - 0s 54us/step - loss: 0.4899 - accuracy: 0.7746\n",
      "Epoch 75/200\n",
      "448/448 [==============================] - 0s 56us/step - loss: 0.4887 - accuracy: 0.7701\n",
      "Epoch 76/200\n",
      "448/448 [==============================] - 0s 57us/step - loss: 0.4887 - accuracy: 0.7701\n",
      "Epoch 77/200\n",
      "448/448 [==============================] - 0s 68us/step - loss: 0.4885 - accuracy: 0.7701\n",
      "Epoch 78/200\n",
      "448/448 [==============================] - 0s 62us/step - loss: 0.4873 - accuracy: 0.7790\n",
      "Epoch 79/200\n",
      "448/448 [==============================] - 0s 62us/step - loss: 0.4878 - accuracy: 0.7768\n",
      "Epoch 80/200\n",
      "448/448 [==============================] - 0s 62us/step - loss: 0.4865 - accuracy: 0.7768\n",
      "Epoch 81/200\n",
      "448/448 [==============================] - 0s 68us/step - loss: 0.4859 - accuracy: 0.7701\n",
      "Epoch 82/200\n",
      "448/448 [==============================] - 0s 68us/step - loss: 0.4847 - accuracy: 0.7835\n",
      "Epoch 83/200\n",
      "448/448 [==============================] - 0s 65us/step - loss: 0.4850 - accuracy: 0.7812\n",
      "Epoch 84/200\n",
      "448/448 [==============================] - 0s 48us/step - loss: 0.4844 - accuracy: 0.7768\n",
      "Epoch 85/200\n",
      "448/448 [==============================] - 0s 44us/step - loss: 0.4869 - accuracy: 0.7679\n",
      "Epoch 86/200\n",
      "448/448 [==============================] - 0s 52us/step - loss: 0.4832 - accuracy: 0.7835\n",
      "Epoch 87/200\n",
      "448/448 [==============================] - 0s 61us/step - loss: 0.4832 - accuracy: 0.7746\n",
      "Epoch 88/200\n",
      "448/448 [==============================] - 0s 54us/step - loss: 0.4859 - accuracy: 0.7723\n",
      "Epoch 89/200\n",
      "448/448 [==============================] - 0s 54us/step - loss: 0.4823 - accuracy: 0.7723\n",
      "Epoch 90/200\n",
      "448/448 [==============================] - 0s 57us/step - loss: 0.4829 - accuracy: 0.7723\n",
      "Epoch 91/200\n",
      "448/448 [==============================] - 0s 58us/step - loss: 0.4875 - accuracy: 0.7634\n",
      "Epoch 92/200\n",
      "448/448 [==============================] - 0s 50us/step - loss: 0.4818 - accuracy: 0.7746\n",
      "Epoch 93/200\n",
      "448/448 [==============================] - 0s 52us/step - loss: 0.4835 - accuracy: 0.7768\n",
      "Epoch 94/200\n",
      "448/448 [==============================] - 0s 41us/step - loss: 0.4826 - accuracy: 0.7746\n",
      "Epoch 95/200\n",
      "448/448 [==============================] - 0s 56us/step - loss: 0.4827 - accuracy: 0.7701\n",
      "Epoch 96/200\n",
      "448/448 [==============================] - 0s 73us/step - loss: 0.4815 - accuracy: 0.7723\n",
      "Epoch 97/200\n",
      "448/448 [==============================] - 0s 56us/step - loss: 0.4827 - accuracy: 0.7701\n",
      "Epoch 98/200\n",
      "448/448 [==============================] - 0s 60us/step - loss: 0.4811 - accuracy: 0.7679\n",
      "Epoch 99/200\n",
      "448/448 [==============================] - 0s 57us/step - loss: 0.4812 - accuracy: 0.7701\n",
      "Epoch 100/200\n",
      "448/448 [==============================] - 0s 56us/step - loss: 0.4810 - accuracy: 0.7679\n",
      "Epoch 101/200\n",
      "448/448 [==============================] - 0s 58us/step - loss: 0.4809 - accuracy: 0.7701\n",
      "Epoch 102/200\n",
      "448/448 [==============================] - 0s 58us/step - loss: 0.4815 - accuracy: 0.7656\n",
      "Epoch 103/200\n",
      "448/448 [==============================] - 0s 60us/step - loss: 0.4809 - accuracy: 0.7679\n",
      "Epoch 104/200\n",
      "448/448 [==============================] - 0s 59us/step - loss: 0.4811 - accuracy: 0.7679\n",
      "Epoch 105/200\n",
      "448/448 [==============================] - 0s 59us/step - loss: 0.4809 - accuracy: 0.7746\n",
      "Epoch 106/200\n",
      "448/448 [==============================] - 0s 62us/step - loss: 0.4796 - accuracy: 0.7701\n",
      "Epoch 107/200\n",
      "448/448 [==============================] - 0s 60us/step - loss: 0.4796 - accuracy: 0.7679\n",
      "Epoch 108/200\n",
      "448/448 [==============================] - 0s 61us/step - loss: 0.4804 - accuracy: 0.7656\n",
      "Epoch 109/200\n",
      "448/448 [==============================] - 0s 50us/step - loss: 0.4814 - accuracy: 0.7679\n",
      "Epoch 110/200\n",
      "448/448 [==============================] - 0s 45us/step - loss: 0.4798 - accuracy: 0.7701\n",
      "Epoch 111/200\n",
      "448/448 [==============================] - 0s 45us/step - loss: 0.4793 - accuracy: 0.7656\n",
      "Epoch 112/200\n",
      "448/448 [==============================] - 0s 44us/step - loss: 0.4797 - accuracy: 0.7723\n",
      "Epoch 113/200\n",
      "448/448 [==============================] - 0s 44us/step - loss: 0.4795 - accuracy: 0.7656\n",
      "Epoch 114/200\n",
      "448/448 [==============================] - 0s 45us/step - loss: 0.4779 - accuracy: 0.7790\n",
      "Epoch 115/200\n",
      "448/448 [==============================] - 0s 48us/step - loss: 0.4785 - accuracy: 0.7723\n",
      "Epoch 116/200\n",
      "448/448 [==============================] - 0s 48us/step - loss: 0.4784 - accuracy: 0.7701\n",
      "Epoch 117/200\n",
      "448/448 [==============================] - 0s 58us/step - loss: 0.4789 - accuracy: 0.7679\n",
      "Epoch 118/200\n",
      "448/448 [==============================] - 0s 59us/step - loss: 0.4783 - accuracy: 0.7656\n",
      "Epoch 119/200\n",
      "448/448 [==============================] - 0s 57us/step - loss: 0.4787 - accuracy: 0.7701\n",
      "Epoch 120/200\n",
      "448/448 [==============================] - 0s 48us/step - loss: 0.4781 - accuracy: 0.7612\n",
      "Epoch 121/200\n",
      "448/448 [==============================] - 0s 43us/step - loss: 0.4804 - accuracy: 0.7634\n",
      "Epoch 122/200\n",
      "448/448 [==============================] - 0s 46us/step - loss: 0.4776 - accuracy: 0.7723\n",
      "Epoch 123/200\n",
      "448/448 [==============================] - 0s 51us/step - loss: 0.4791 - accuracy: 0.7746\n",
      "Epoch 124/200\n",
      "448/448 [==============================] - 0s 49us/step - loss: 0.4775 - accuracy: 0.7701\n",
      "Epoch 125/200\n",
      "448/448 [==============================] - 0s 56us/step - loss: 0.4771 - accuracy: 0.7679\n",
      "Epoch 126/200\n",
      "448/448 [==============================] - 0s 45us/step - loss: 0.4792 - accuracy: 0.7723\n",
      "Epoch 127/200\n",
      "448/448 [==============================] - 0s 46us/step - loss: 0.4790 - accuracy: 0.7612\n",
      "Epoch 128/200\n",
      "448/448 [==============================] - 0s 46us/step - loss: 0.4798 - accuracy: 0.7701\n",
      "Epoch 129/200\n",
      "448/448 [==============================] - 0s 44us/step - loss: 0.4784 - accuracy: 0.7679\n",
      "Epoch 130/200\n",
      "448/448 [==============================] - 0s 43us/step - loss: 0.4771 - accuracy: 0.7723\n",
      "Epoch 131/200\n",
      "448/448 [==============================] - 0s 46us/step - loss: 0.4774 - accuracy: 0.7723\n",
      "Epoch 132/200\n",
      "448/448 [==============================] - 0s 51us/step - loss: 0.4769 - accuracy: 0.7701\n",
      "Epoch 133/200\n",
      "448/448 [==============================] - 0s 51us/step - loss: 0.4767 - accuracy: 0.7723\n",
      "Epoch 134/200\n",
      "448/448 [==============================] - 0s 50us/step - loss: 0.4766 - accuracy: 0.7723\n",
      "Epoch 135/200\n",
      "448/448 [==============================] - 0s 59us/step - loss: 0.4761 - accuracy: 0.7723\n",
      "Epoch 136/200\n",
      "448/448 [==============================] - 0s 52us/step - loss: 0.4777 - accuracy: 0.7746\n",
      "Epoch 137/200\n",
      "448/448 [==============================] - 0s 58us/step - loss: 0.4783 - accuracy: 0.7768\n",
      "Epoch 138/200\n",
      "448/448 [==============================] - 0s 64us/step - loss: 0.4767 - accuracy: 0.7634\n",
      "Epoch 139/200\n",
      "448/448 [==============================] - 0s 62us/step - loss: 0.4785 - accuracy: 0.7723\n",
      "Epoch 140/200\n",
      "448/448 [==============================] - 0s 55us/step - loss: 0.4755 - accuracy: 0.7701\n",
      "Epoch 141/200\n",
      "448/448 [==============================] - 0s 49us/step - loss: 0.4774 - accuracy: 0.7723\n",
      "Epoch 142/200\n",
      "448/448 [==============================] - 0s 54us/step - loss: 0.4769 - accuracy: 0.7746\n",
      "Epoch 143/200\n",
      "448/448 [==============================] - 0s 60us/step - loss: 0.4798 - accuracy: 0.7679\n",
      "Epoch 144/200\n",
      "448/448 [==============================] - 0s 58us/step - loss: 0.4774 - accuracy: 0.7701\n",
      "Epoch 145/200\n",
      "448/448 [==============================] - 0s 58us/step - loss: 0.4763 - accuracy: 0.7723\n",
      "Epoch 146/200\n",
      "448/448 [==============================] - 0s 58us/step - loss: 0.4770 - accuracy: 0.7656\n",
      "Epoch 147/200\n",
      "448/448 [==============================] - 0s 60us/step - loss: 0.4770 - accuracy: 0.7701\n",
      "Epoch 148/200\n",
      "448/448 [==============================] - 0s 58us/step - loss: 0.4765 - accuracy: 0.7723\n",
      "Epoch 149/200\n",
      "448/448 [==============================] - 0s 61us/step - loss: 0.4789 - accuracy: 0.7701\n",
      "Epoch 150/200\n",
      "448/448 [==============================] - 0s 55us/step - loss: 0.4759 - accuracy: 0.7701\n",
      "Epoch 151/200\n",
      "448/448 [==============================] - 0s 61us/step - loss: 0.4767 - accuracy: 0.7701\n",
      "Epoch 152/200\n",
      "448/448 [==============================] - 0s 53us/step - loss: 0.4772 - accuracy: 0.7723\n",
      "Epoch 153/200\n",
      "448/448 [==============================] - 0s 54us/step - loss: 0.4760 - accuracy: 0.7746\n",
      "Epoch 154/200\n",
      "448/448 [==============================] - 0s 48us/step - loss: 0.4764 - accuracy: 0.7746\n",
      "Epoch 155/200\n",
      "448/448 [==============================] - 0s 47us/step - loss: 0.4763 - accuracy: 0.7723\n",
      "Epoch 156/200\n",
      "448/448 [==============================] - 0s 49us/step - loss: 0.4758 - accuracy: 0.7723\n",
      "Epoch 157/200\n",
      "448/448 [==============================] - 0s 47us/step - loss: 0.4769 - accuracy: 0.7679\n",
      "Epoch 158/200\n",
      "448/448 [==============================] - 0s 45us/step - loss: 0.4795 - accuracy: 0.7679\n",
      "Epoch 159/200\n",
      "448/448 [==============================] - 0s 44us/step - loss: 0.4769 - accuracy: 0.7701\n",
      "Epoch 160/200\n",
      "448/448 [==============================] - 0s 48us/step - loss: 0.4763 - accuracy: 0.7723\n",
      "Epoch 161/200\n",
      "448/448 [==============================] - 0s 52us/step - loss: 0.4766 - accuracy: 0.7723\n",
      "Epoch 162/200\n",
      "448/448 [==============================] - 0s 47us/step - loss: 0.4781 - accuracy: 0.7723\n",
      "Epoch 163/200\n",
      "448/448 [==============================] - 0s 46us/step - loss: 0.4767 - accuracy: 0.7701\n",
      "Epoch 164/200\n",
      "448/448 [==============================] - 0s 42us/step - loss: 0.4779 - accuracy: 0.7679\n",
      "Epoch 165/200\n",
      "448/448 [==============================] - 0s 47us/step - loss: 0.4760 - accuracy: 0.7723\n",
      "Epoch 166/200\n",
      "448/448 [==============================] - 0s 46us/step - loss: 0.4763 - accuracy: 0.7746\n",
      "Epoch 167/200\n",
      "448/448 [==============================] - 0s 51us/step - loss: 0.4761 - accuracy: 0.7746\n",
      "Epoch 168/200\n",
      "448/448 [==============================] - 0s 55us/step - loss: 0.4766 - accuracy: 0.7679\n",
      "Epoch 169/200\n",
      "448/448 [==============================] - 0s 60us/step - loss: 0.4755 - accuracy: 0.7723\n",
      "Epoch 170/200\n",
      "448/448 [==============================] - 0s 56us/step - loss: 0.4767 - accuracy: 0.7701\n",
      "Epoch 171/200\n",
      "448/448 [==============================] - 0s 58us/step - loss: 0.4772 - accuracy: 0.7746\n",
      "Epoch 172/200\n",
      "448/448 [==============================] - 0s 55us/step - loss: 0.4756 - accuracy: 0.7723\n",
      "Epoch 173/200\n",
      "448/448 [==============================] - 0s 54us/step - loss: 0.4762 - accuracy: 0.7634\n",
      "Epoch 174/200\n",
      "448/448 [==============================] - 0s 56us/step - loss: 0.4759 - accuracy: 0.7746\n",
      "Epoch 175/200\n",
      "448/448 [==============================] - 0s 47us/step - loss: 0.4763 - accuracy: 0.7723\n",
      "Epoch 176/200\n",
      "448/448 [==============================] - 0s 42us/step - loss: 0.4773 - accuracy: 0.7723\n",
      "Epoch 177/200\n",
      "448/448 [==============================] - 0s 43us/step - loss: 0.4769 - accuracy: 0.7701\n",
      "Epoch 178/200\n",
      "448/448 [==============================] - 0s 42us/step - loss: 0.4764 - accuracy: 0.7656\n",
      "Epoch 179/200\n",
      "448/448 [==============================] - 0s 38us/step - loss: 0.4780 - accuracy: 0.7701\n",
      "Epoch 180/200\n",
      "448/448 [==============================] - 0s 41us/step - loss: 0.4762 - accuracy: 0.7723\n",
      "Epoch 181/200\n",
      "448/448 [==============================] - 0s 40us/step - loss: 0.4763 - accuracy: 0.7701\n",
      "Epoch 182/200\n",
      "448/448 [==============================] - 0s 44us/step - loss: 0.4799 - accuracy: 0.7612\n",
      "Epoch 183/200\n",
      "448/448 [==============================] - 0s 42us/step - loss: 0.4770 - accuracy: 0.7746\n",
      "Epoch 184/200\n",
      "448/448 [==============================] - 0s 43us/step - loss: 0.4850 - accuracy: 0.7679\n",
      "Epoch 185/200\n",
      "448/448 [==============================] - 0s 61us/step - loss: 0.4758 - accuracy: 0.7723\n",
      "Epoch 186/200\n",
      "448/448 [==============================] - 0s 60us/step - loss: 0.4790 - accuracy: 0.7768\n",
      "Epoch 187/200\n"
     ]
    },
    {
     "name": "stdout",
     "output_type": "stream",
     "text": [
      "448/448 [==============================] - 0s 61us/step - loss: 0.4757 - accuracy: 0.7723\n",
      "Epoch 188/200\n",
      "448/448 [==============================] - 0s 52us/step - loss: 0.4759 - accuracy: 0.7723\n",
      "Epoch 189/200\n",
      "448/448 [==============================] - 0s 57us/step - loss: 0.4761 - accuracy: 0.7746\n",
      "Epoch 190/200\n",
      "448/448 [==============================] - 0s 52us/step - loss: 0.4754 - accuracy: 0.7746\n",
      "Epoch 191/200\n",
      "448/448 [==============================] - 0s 55us/step - loss: 0.4755 - accuracy: 0.7679\n",
      "Epoch 192/200\n",
      "448/448 [==============================] - 0s 64us/step - loss: 0.4769 - accuracy: 0.7634\n",
      "Epoch 193/200\n",
      "448/448 [==============================] - 0s 49us/step - loss: 0.4776 - accuracy: 0.7723\n",
      "Epoch 194/200\n",
      "448/448 [==============================] - 0s 52us/step - loss: 0.4754 - accuracy: 0.7723\n",
      "Epoch 195/200\n",
      "448/448 [==============================] - 0s 50us/step - loss: 0.4758 - accuracy: 0.7723\n",
      "Epoch 196/200\n",
      "448/448 [==============================] - 0s 42us/step - loss: 0.4784 - accuracy: 0.7701\n",
      "Epoch 197/200\n",
      "448/448 [==============================] - 0s 44us/step - loss: 0.4754 - accuracy: 0.7701\n",
      "Epoch 198/200\n",
      "448/448 [==============================] - 0s 44us/step - loss: 0.4753 - accuracy: 0.7701\n",
      "Epoch 199/200\n",
      "448/448 [==============================] - 0s 43us/step - loss: 0.4758 - accuracy: 0.7746\n",
      "Epoch 200/200\n",
      "448/448 [==============================] - 0s 40us/step - loss: 0.4772 - accuracy: 0.7746\n",
      "89/89 [==============================] - 0s 334us/step\n",
      "Epoch 1/200\n",
      "448/448 [==============================] - 0s 591us/step - loss: 0.6924 - accuracy: 0.6429\n",
      "Epoch 2/200\n",
      "448/448 [==============================] - 0s 66us/step - loss: 0.6903 - accuracy: 0.6429\n",
      "Epoch 3/200\n",
      "448/448 [==============================] - 0s 70us/step - loss: 0.6879 - accuracy: 0.6429\n",
      "Epoch 4/200\n",
      "448/448 [==============================] - 0s 74us/step - loss: 0.6848 - accuracy: 0.6429\n",
      "Epoch 5/200\n",
      "448/448 [==============================] - 0s 56us/step - loss: 0.6811 - accuracy: 0.6429\n",
      "Epoch 6/200\n",
      "448/448 [==============================] - 0s 52us/step - loss: 0.6762 - accuracy: 0.6429\n",
      "Epoch 7/200\n",
      "448/448 [==============================] - 0s 54us/step - loss: 0.6703 - accuracy: 0.6429\n",
      "Epoch 8/200\n",
      "448/448 [==============================] - 0s 62us/step - loss: 0.6637 - accuracy: 0.6429\n",
      "Epoch 9/200\n",
      "448/448 [==============================] - 0s 45us/step - loss: 0.6604 - accuracy: 0.6429\n",
      "Epoch 10/200\n",
      "448/448 [==============================] - 0s 50us/step - loss: 0.6557 - accuracy: 0.6429\n",
      "Epoch 11/200\n",
      "448/448 [==============================] - 0s 46us/step - loss: 0.6546 - accuracy: 0.6429\n",
      "Epoch 12/200\n",
      "448/448 [==============================] - 0s 50us/step - loss: 0.6539 - accuracy: 0.6429\n",
      "Epoch 13/200\n",
      "448/448 [==============================] - 0s 70us/step - loss: 0.6535 - accuracy: 0.6429\n",
      "Epoch 14/200\n",
      "448/448 [==============================] - 0s 64us/step - loss: 0.6535 - accuracy: 0.6429\n",
      "Epoch 15/200\n",
      "448/448 [==============================] - 0s 61us/step - loss: 0.6522 - accuracy: 0.6429\n",
      "Epoch 16/200\n",
      "448/448 [==============================] - 0s 55us/step - loss: 0.6516 - accuracy: 0.6429\n",
      "Epoch 17/200\n",
      "448/448 [==============================] - 0s 56us/step - loss: 0.6508 - accuracy: 0.6429\n",
      "Epoch 18/200\n",
      "448/448 [==============================] - 0s 55us/step - loss: 0.6498 - accuracy: 0.6429\n",
      "Epoch 19/200\n",
      "448/448 [==============================] - 0s 56us/step - loss: 0.6490 - accuracy: 0.6429\n",
      "Epoch 20/200\n",
      "448/448 [==============================] - 0s 63us/step - loss: 0.6470 - accuracy: 0.6429\n",
      "Epoch 21/200\n",
      "448/448 [==============================] - 0s 68us/step - loss: 0.6450 - accuracy: 0.6429\n",
      "Epoch 22/200\n",
      "448/448 [==============================] - 0s 61us/step - loss: 0.6426 - accuracy: 0.6429\n",
      "Epoch 23/200\n",
      "448/448 [==============================] - 0s 50us/step - loss: 0.6389 - accuracy: 0.6429\n",
      "Epoch 24/200\n",
      "448/448 [==============================] - 0s 53us/step - loss: 0.6336 - accuracy: 0.6429\n",
      "Epoch 25/200\n",
      "448/448 [==============================] - 0s 43us/step - loss: 0.6268 - accuracy: 0.6429\n",
      "Epoch 26/200\n",
      "448/448 [==============================] - 0s 45us/step - loss: 0.6188 - accuracy: 0.6429\n",
      "Epoch 27/200\n",
      "448/448 [==============================] - 0s 56us/step - loss: 0.6087 - accuracy: 0.6429\n",
      "Epoch 28/200\n",
      "448/448 [==============================] - 0s 54us/step - loss: 0.5959 - accuracy: 0.6429\n",
      "Epoch 29/200\n",
      "448/448 [==============================] - 0s 49us/step - loss: 0.5807 - accuracy: 0.6429\n",
      "Epoch 30/200\n",
      "448/448 [==============================] - 0s 54us/step - loss: 0.5670 - accuracy: 0.6429\n",
      "Epoch 31/200\n",
      "448/448 [==============================] - 0s 42us/step - loss: 0.5529 - accuracy: 0.6473\n",
      "Epoch 32/200\n",
      "448/448 [==============================] - 0s 45us/step - loss: 0.5416 - accuracy: 0.7098\n",
      "Epoch 33/200\n",
      "448/448 [==============================] - 0s 46us/step - loss: 0.5321 - accuracy: 0.7165\n",
      "Epoch 34/200\n",
      "448/448 [==============================] - 0s 43us/step - loss: 0.5243 - accuracy: 0.7254\n",
      "Epoch 35/200\n",
      "448/448 [==============================] - 0s 43us/step - loss: 0.5164 - accuracy: 0.7321\n",
      "Epoch 36/200\n",
      "448/448 [==============================] - 0s 43us/step - loss: 0.5122 - accuracy: 0.7366\n",
      "Epoch 37/200\n",
      "448/448 [==============================] - 0s 44us/step - loss: 0.5079 - accuracy: 0.7344\n",
      "Epoch 38/200\n",
      "448/448 [==============================] - 0s 39us/step - loss: 0.5026 - accuracy: 0.7478\n",
      "Epoch 39/200\n",
      "448/448 [==============================] - 0s 46us/step - loss: 0.4966 - accuracy: 0.7500\n",
      "Epoch 40/200\n",
      "448/448 [==============================] - 0s 46us/step - loss: 0.4950 - accuracy: 0.7589\n",
      "Epoch 41/200\n",
      "448/448 [==============================] - 0s 51us/step - loss: 0.4908 - accuracy: 0.7589\n",
      "Epoch 42/200\n",
      "448/448 [==============================] - 0s 46us/step - loss: 0.4902 - accuracy: 0.7478\n",
      "Epoch 43/200\n",
      "448/448 [==============================] - 0s 47us/step - loss: 0.4865 - accuracy: 0.7612\n",
      "Epoch 44/200\n",
      "448/448 [==============================] - 0s 48us/step - loss: 0.4832 - accuracy: 0.7634\n",
      "Epoch 45/200\n",
      "448/448 [==============================] - 0s 45us/step - loss: 0.4833 - accuracy: 0.7634\n",
      "Epoch 46/200\n",
      "448/448 [==============================] - 0s 46us/step - loss: 0.4814 - accuracy: 0.7589\n",
      "Epoch 47/200\n",
      "448/448 [==============================] - 0s 51us/step - loss: 0.4798 - accuracy: 0.7545\n",
      "Epoch 48/200\n",
      "448/448 [==============================] - 0s 52us/step - loss: 0.4785 - accuracy: 0.7656\n",
      "Epoch 49/200\n",
      "448/448 [==============================] - 0s 60us/step - loss: 0.4793 - accuracy: 0.7567\n",
      "Epoch 50/200\n",
      "448/448 [==============================] - 0s 57us/step - loss: 0.4776 - accuracy: 0.7634\n",
      "Epoch 51/200\n",
      "448/448 [==============================] - 0s 47us/step - loss: 0.4810 - accuracy: 0.7656\n",
      "Epoch 52/200\n",
      "448/448 [==============================] - 0s 46us/step - loss: 0.4774 - accuracy: 0.7589\n",
      "Epoch 53/200\n",
      "448/448 [==============================] - 0s 58us/step - loss: 0.4758 - accuracy: 0.7612\n",
      "Epoch 54/200\n",
      "448/448 [==============================] - 0s 45us/step - loss: 0.4751 - accuracy: 0.7634\n",
      "Epoch 55/200\n",
      "448/448 [==============================] - 0s 45us/step - loss: 0.4765 - accuracy: 0.7701\n",
      "Epoch 56/200\n",
      "448/448 [==============================] - 0s 54us/step - loss: 0.4730 - accuracy: 0.7656\n",
      "Epoch 57/200\n",
      "448/448 [==============================] - 0s 61us/step - loss: 0.4728 - accuracy: 0.7612\n",
      "Epoch 58/200\n",
      "448/448 [==============================] - 0s 55us/step - loss: 0.4729 - accuracy: 0.7612\n",
      "Epoch 59/200\n",
      "448/448 [==============================] - 0s 54us/step - loss: 0.4739 - accuracy: 0.7612\n",
      "Epoch 60/200\n",
      "448/448 [==============================] - 0s 45us/step - loss: 0.4719 - accuracy: 0.7679\n",
      "Epoch 61/200\n",
      "448/448 [==============================] - 0s 44us/step - loss: 0.4715 - accuracy: 0.7701\n",
      "Epoch 62/200\n",
      "448/448 [==============================] - 0s 46us/step - loss: 0.4707 - accuracy: 0.7634\n",
      "Epoch 63/200\n",
      "448/448 [==============================] - 0s 49us/step - loss: 0.4701 - accuracy: 0.7679\n",
      "Epoch 64/200\n",
      "448/448 [==============================] - 0s 57us/step - loss: 0.4691 - accuracy: 0.7634\n",
      "Epoch 65/200\n",
      "448/448 [==============================] - 0s 58us/step - loss: 0.4696 - accuracy: 0.7634\n",
      "Epoch 66/200\n"
     ]
    },
    {
     "name": "stdout",
     "output_type": "stream",
     "text": [
      "448/448 [==============================] - 0s 59us/step - loss: 0.4693 - accuracy: 0.7656\n",
      "Epoch 67/200\n",
      "448/448 [==============================] - 0s 44us/step - loss: 0.4678 - accuracy: 0.7634\n",
      "Epoch 68/200\n",
      "448/448 [==============================] - 0s 45us/step - loss: 0.4694 - accuracy: 0.7567\n",
      "Epoch 69/200\n",
      "448/448 [==============================] - 0s 44us/step - loss: 0.4686 - accuracy: 0.7612\n",
      "Epoch 70/200\n",
      "448/448 [==============================] - 0s 43us/step - loss: 0.4674 - accuracy: 0.7656\n",
      "Epoch 71/200\n",
      "448/448 [==============================] - 0s 47us/step - loss: 0.4661 - accuracy: 0.7679\n",
      "Epoch 72/200\n",
      "448/448 [==============================] - 0s 46us/step - loss: 0.4651 - accuracy: 0.7656\n",
      "Epoch 73/200\n",
      "448/448 [==============================] - 0s 49us/step - loss: 0.4651 - accuracy: 0.7656\n",
      "Epoch 74/200\n",
      "448/448 [==============================] - 0s 52us/step - loss: 0.4673 - accuracy: 0.7701\n",
      "Epoch 75/200\n",
      "448/448 [==============================] - 0s 50us/step - loss: 0.4649 - accuracy: 0.7746\n",
      "Epoch 76/200\n",
      "448/448 [==============================] - 0s 45us/step - loss: 0.4658 - accuracy: 0.7746\n",
      "Epoch 77/200\n",
      "448/448 [==============================] - 0s 46us/step - loss: 0.4626 - accuracy: 0.7679\n",
      "Epoch 78/200\n",
      "448/448 [==============================] - 0s 43us/step - loss: 0.4633 - accuracy: 0.7656\n",
      "Epoch 79/200\n",
      "448/448 [==============================] - 0s 41us/step - loss: 0.4643 - accuracy: 0.7701\n",
      "Epoch 80/200\n",
      "448/448 [==============================] - 0s 45us/step - loss: 0.4642 - accuracy: 0.7679\n",
      "Epoch 81/200\n",
      "448/448 [==============================] - 0s 42us/step - loss: 0.4607 - accuracy: 0.7768\n",
      "Epoch 82/200\n",
      "448/448 [==============================] - 0s 48us/step - loss: 0.4645 - accuracy: 0.7701\n",
      "Epoch 83/200\n",
      "448/448 [==============================] - 0s 53us/step - loss: 0.4639 - accuracy: 0.7679\n",
      "Epoch 84/200\n",
      "448/448 [==============================] - 0s 55us/step - loss: 0.4611 - accuracy: 0.7723\n",
      "Epoch 85/200\n",
      "448/448 [==============================] - 0s 47us/step - loss: 0.4620 - accuracy: 0.7701\n",
      "Epoch 86/200\n",
      "448/448 [==============================] - 0s 49us/step - loss: 0.4608 - accuracy: 0.7656\n",
      "Epoch 87/200\n",
      "448/448 [==============================] - 0s 45us/step - loss: 0.4615 - accuracy: 0.7701\n",
      "Epoch 88/200\n",
      "448/448 [==============================] - 0s 43us/step - loss: 0.4591 - accuracy: 0.7790\n",
      "Epoch 89/200\n",
      "448/448 [==============================] - 0s 43us/step - loss: 0.4594 - accuracy: 0.7746\n",
      "Epoch 90/200\n",
      "448/448 [==============================] - 0s 50us/step - loss: 0.4608 - accuracy: 0.7723\n",
      "Epoch 91/200\n",
      "448/448 [==============================] - 0s 55us/step - loss: 0.4610 - accuracy: 0.7701\n",
      "Epoch 92/200\n",
      "448/448 [==============================] - 0s 55us/step - loss: 0.4604 - accuracy: 0.7701\n",
      "Epoch 93/200\n",
      "448/448 [==============================] - 0s 56us/step - loss: 0.4591 - accuracy: 0.7768\n",
      "Epoch 94/200\n",
      "448/448 [==============================] - 0s 53us/step - loss: 0.4596 - accuracy: 0.7768\n",
      "Epoch 95/200\n",
      "448/448 [==============================] - 0s 55us/step - loss: 0.4603 - accuracy: 0.7701\n",
      "Epoch 96/200\n",
      "448/448 [==============================] - 0s 47us/step - loss: 0.4585 - accuracy: 0.7768\n",
      "Epoch 97/200\n",
      "448/448 [==============================] - 0s 43us/step - loss: 0.4581 - accuracy: 0.7768\n",
      "Epoch 98/200\n",
      "448/448 [==============================] - 0s 44us/step - loss: 0.4619 - accuracy: 0.7723\n",
      "Epoch 99/200\n",
      "448/448 [==============================] - 0s 45us/step - loss: 0.4578 - accuracy: 0.7790\n",
      "Epoch 100/200\n",
      "448/448 [==============================] - 0s 46us/step - loss: 0.4573 - accuracy: 0.7679\n",
      "Epoch 101/200\n",
      "448/448 [==============================] - 0s 42us/step - loss: 0.4571 - accuracy: 0.7768\n",
      "Epoch 102/200\n",
      "448/448 [==============================] - 0s 44us/step - loss: 0.4574 - accuracy: 0.7723\n",
      "Epoch 103/200\n",
      "448/448 [==============================] - 0s 41us/step - loss: 0.4575 - accuracy: 0.7746\n",
      "Epoch 104/200\n",
      "448/448 [==============================] - 0s 45us/step - loss: 0.4575 - accuracy: 0.7746\n",
      "Epoch 105/200\n",
      "448/448 [==============================] - 0s 45us/step - loss: 0.4588 - accuracy: 0.7790\n",
      "Epoch 106/200\n",
      "448/448 [==============================] - 0s 48us/step - loss: 0.4570 - accuracy: 0.7679\n",
      "Epoch 107/200\n",
      "448/448 [==============================] - 0s 47us/step - loss: 0.4578 - accuracy: 0.7723\n",
      "Epoch 108/200\n",
      "448/448 [==============================] - 0s 49us/step - loss: 0.4562 - accuracy: 0.7790\n",
      "Epoch 109/200\n",
      "448/448 [==============================] - 0s 50us/step - loss: 0.4560 - accuracy: 0.7768\n",
      "Epoch 110/200\n",
      "448/448 [==============================] - 0s 59us/step - loss: 0.4617 - accuracy: 0.7723\n",
      "Epoch 111/200\n",
      "448/448 [==============================] - 0s 50us/step - loss: 0.4606 - accuracy: 0.7679\n",
      "Epoch 112/200\n",
      "448/448 [==============================] - 0s 44us/step - loss: 0.4554 - accuracy: 0.7746\n",
      "Epoch 113/200\n",
      "448/448 [==============================] - 0s 45us/step - loss: 0.4561 - accuracy: 0.7723\n",
      "Epoch 114/200\n",
      "448/448 [==============================] - 0s 44us/step - loss: 0.4595 - accuracy: 0.7746\n",
      "Epoch 115/200\n",
      "448/448 [==============================] - 0s 47us/step - loss: 0.4563 - accuracy: 0.7790\n",
      "Epoch 116/200\n",
      "448/448 [==============================] - 0s 47us/step - loss: 0.4563 - accuracy: 0.7790\n",
      "Epoch 117/200\n",
      "448/448 [==============================] - 0s 45us/step - loss: 0.4603 - accuracy: 0.7723\n",
      "Epoch 118/200\n",
      "448/448 [==============================] - 0s 46us/step - loss: 0.4563 - accuracy: 0.7768\n",
      "Epoch 119/200\n",
      "448/448 [==============================] - 0s 45us/step - loss: 0.4565 - accuracy: 0.7790\n",
      "Epoch 120/200\n",
      "448/448 [==============================] - 0s 44us/step - loss: 0.4549 - accuracy: 0.7768\n",
      "Epoch 121/200\n",
      "448/448 [==============================] - 0s 44us/step - loss: 0.4548 - accuracy: 0.7768\n",
      "Epoch 122/200\n",
      "448/448 [==============================] - 0s 46us/step - loss: 0.4547 - accuracy: 0.7723\n",
      "Epoch 123/200\n",
      "448/448 [==============================] - 0s 44us/step - loss: 0.4567 - accuracy: 0.7768\n",
      "Epoch 124/200\n",
      "448/448 [==============================] - 0s 44us/step - loss: 0.4547 - accuracy: 0.7790\n",
      "Epoch 125/200\n",
      "448/448 [==============================] - 0s 44us/step - loss: 0.4577 - accuracy: 0.7701\n",
      "Epoch 126/200\n",
      "448/448 [==============================] - 0s 43us/step - loss: 0.4537 - accuracy: 0.7768\n",
      "Epoch 127/200\n",
      "448/448 [==============================] - 0s 46us/step - loss: 0.4547 - accuracy: 0.7723\n",
      "Epoch 128/200\n",
      "448/448 [==============================] - 0s 48us/step - loss: 0.4579 - accuracy: 0.7790\n",
      "Epoch 129/200\n",
      "448/448 [==============================] - 0s 43us/step - loss: 0.4556 - accuracy: 0.7790\n",
      "Epoch 130/200\n",
      "448/448 [==============================] - 0s 47us/step - loss: 0.4547 - accuracy: 0.7768\n",
      "Epoch 131/200\n",
      "448/448 [==============================] - 0s 45us/step - loss: 0.4572 - accuracy: 0.7768\n",
      "Epoch 132/200\n",
      "448/448 [==============================] - 0s 47us/step - loss: 0.4563 - accuracy: 0.7835\n",
      "Epoch 133/200\n",
      "448/448 [==============================] - 0s 47us/step - loss: 0.4541 - accuracy: 0.7924\n",
      "Epoch 134/200\n",
      "448/448 [==============================] - 0s 47us/step - loss: 0.4536 - accuracy: 0.7790\n",
      "Epoch 135/200\n",
      "448/448 [==============================] - 0s 44us/step - loss: 0.4539 - accuracy: 0.7790\n",
      "Epoch 136/200\n",
      "448/448 [==============================] - 0s 47us/step - loss: 0.4540 - accuracy: 0.7768\n",
      "Epoch 137/200\n",
      "448/448 [==============================] - 0s 43us/step - loss: 0.4544 - accuracy: 0.7835\n",
      "Epoch 138/200\n",
      "448/448 [==============================] - 0s 51us/step - loss: 0.4581 - accuracy: 0.7812\n",
      "Epoch 139/200\n",
      "448/448 [==============================] - 0s 49us/step - loss: 0.4543 - accuracy: 0.7812\n",
      "Epoch 140/200\n",
      "448/448 [==============================] - 0s 62us/step - loss: 0.4529 - accuracy: 0.7768\n",
      "Epoch 141/200\n",
      "448/448 [==============================] - 0s 43us/step - loss: 0.4535 - accuracy: 0.7835\n",
      "Epoch 142/200\n",
      "448/448 [==============================] - 0s 45us/step - loss: 0.4538 - accuracy: 0.7835\n",
      "Epoch 143/200\n",
      "448/448 [==============================] - 0s 46us/step - loss: 0.4535 - accuracy: 0.7857\n",
      "Epoch 144/200\n",
      "448/448 [==============================] - 0s 42us/step - loss: 0.4529 - accuracy: 0.7835\n",
      "Epoch 145/200\n",
      "448/448 [==============================] - 0s 44us/step - loss: 0.4548 - accuracy: 0.7835\n",
      "Epoch 146/200\n",
      "448/448 [==============================] - 0s 43us/step - loss: 0.4525 - accuracy: 0.7812\n",
      "Epoch 147/200\n",
      "448/448 [==============================] - 0s 47us/step - loss: 0.4552 - accuracy: 0.7746\n",
      "Epoch 148/200\n",
      "448/448 [==============================] - 0s 46us/step - loss: 0.4530 - accuracy: 0.7812\n",
      "Epoch 149/200\n",
      "448/448 [==============================] - 0s 46us/step - loss: 0.4539 - accuracy: 0.7812\n",
      "Epoch 150/200\n",
      "448/448 [==============================] - 0s 44us/step - loss: 0.4528 - accuracy: 0.7835\n",
      "Epoch 151/200\n",
      "448/448 [==============================] - 0s 48us/step - loss: 0.4539 - accuracy: 0.7835\n",
      "Epoch 152/200\n",
      "448/448 [==============================] - 0s 51us/step - loss: 0.4533 - accuracy: 0.7812\n",
      "Epoch 153/200\n",
      "448/448 [==============================] - 0s 51us/step - loss: 0.4520 - accuracy: 0.7768\n",
      "Epoch 154/200\n",
      "448/448 [==============================] - 0s 53us/step - loss: 0.4518 - accuracy: 0.7835\n",
      "Epoch 155/200\n",
      "448/448 [==============================] - 0s 52us/step - loss: 0.4522 - accuracy: 0.7857\n",
      "Epoch 156/200\n",
      "448/448 [==============================] - 0s 53us/step - loss: 0.4520 - accuracy: 0.7835\n",
      "Epoch 157/200\n",
      "448/448 [==============================] - 0s 57us/step - loss: 0.4529 - accuracy: 0.7723\n",
      "Epoch 158/200\n",
      "448/448 [==============================] - 0s 88us/step - loss: 0.4518 - accuracy: 0.7812\n",
      "Epoch 159/200\n",
      "448/448 [==============================] - 0s 81us/step - loss: 0.4521 - accuracy: 0.7879\n",
      "Epoch 160/200\n",
      "448/448 [==============================] - 0s 46us/step - loss: 0.4524 - accuracy: 0.7812\n",
      "Epoch 161/200\n",
      "448/448 [==============================] - 0s 42us/step - loss: 0.4525 - accuracy: 0.7835\n",
      "Epoch 162/200\n",
      "448/448 [==============================] - 0s 50us/step - loss: 0.4525 - accuracy: 0.7857\n",
      "Epoch 163/200\n",
      "448/448 [==============================] - 0s 52us/step - loss: 0.4568 - accuracy: 0.7790\n",
      "Epoch 164/200\n",
      "448/448 [==============================] - 0s 59us/step - loss: 0.4516 - accuracy: 0.7790\n",
      "Epoch 165/200\n",
      "448/448 [==============================] - 0s 53us/step - loss: 0.4516 - accuracy: 0.7835\n",
      "Epoch 166/200\n",
      "448/448 [==============================] - 0s 47us/step - loss: 0.4538 - accuracy: 0.7746\n",
      "Epoch 167/200\n",
      "448/448 [==============================] - 0s 45us/step - loss: 0.4529 - accuracy: 0.7857\n",
      "Epoch 168/200\n",
      "448/448 [==============================] - 0s 43us/step - loss: 0.4519 - accuracy: 0.7835\n",
      "Epoch 169/200\n",
      "448/448 [==============================] - 0s 44us/step - loss: 0.4526 - accuracy: 0.7790\n",
      "Epoch 170/200\n",
      "448/448 [==============================] - 0s 44us/step - loss: 0.4514 - accuracy: 0.7879\n",
      "Epoch 171/200\n",
      "448/448 [==============================] - 0s 42us/step - loss: 0.4544 - accuracy: 0.7812\n",
      "Epoch 172/200\n",
      "448/448 [==============================] - 0s 49us/step - loss: 0.4542 - accuracy: 0.7790\n",
      "Epoch 173/200\n",
      "448/448 [==============================] - 0s 40us/step - loss: 0.4500 - accuracy: 0.7879\n",
      "Epoch 174/200\n",
      "448/448 [==============================] - 0s 47us/step - loss: 0.4534 - accuracy: 0.7857\n",
      "Epoch 175/200\n",
      "448/448 [==============================] - 0s 48us/step - loss: 0.4493 - accuracy: 0.7879\n",
      "Epoch 176/200\n",
      "448/448 [==============================] - 0s 46us/step - loss: 0.4523 - accuracy: 0.7812\n",
      "Epoch 177/200\n",
      "448/448 [==============================] - 0s 49us/step - loss: 0.4506 - accuracy: 0.7857\n",
      "Epoch 178/200\n",
      "448/448 [==============================] - 0s 43us/step - loss: 0.4505 - accuracy: 0.7857\n",
      "Epoch 179/200\n",
      "448/448 [==============================] - 0s 43us/step - loss: 0.4529 - accuracy: 0.7790\n",
      "Epoch 180/200\n",
      "448/448 [==============================] - 0s 41us/step - loss: 0.4507 - accuracy: 0.7835\n",
      "Epoch 181/200\n",
      "448/448 [==============================] - 0s 41us/step - loss: 0.4523 - accuracy: 0.7812\n",
      "Epoch 182/200\n",
      "448/448 [==============================] - 0s 57us/step - loss: 0.4515 - accuracy: 0.7812\n",
      "Epoch 183/200\n",
      "448/448 [==============================] - 0s 50us/step - loss: 0.4513 - accuracy: 0.7835\n",
      "Epoch 184/200\n",
      "448/448 [==============================] - 0s 45us/step - loss: 0.4495 - accuracy: 0.7924\n",
      "Epoch 185/200\n",
      "448/448 [==============================] - 0s 48us/step - loss: 0.4503 - accuracy: 0.7879\n",
      "Epoch 186/200\n",
      "448/448 [==============================] - 0s 47us/step - loss: 0.4497 - accuracy: 0.7857\n",
      "Epoch 187/200\n",
      "448/448 [==============================] - 0s 46us/step - loss: 0.4531 - accuracy: 0.7857\n",
      "Epoch 188/200\n",
      "448/448 [==============================] - 0s 46us/step - loss: 0.4522 - accuracy: 0.7812\n",
      "Epoch 189/200\n",
      "448/448 [==============================] - 0s 42us/step - loss: 0.4495 - accuracy: 0.7812\n",
      "Epoch 190/200\n",
      "448/448 [==============================] - 0s 42us/step - loss: 0.4529 - accuracy: 0.7790\n",
      "Epoch 191/200\n",
      "448/448 [==============================] - 0s 46us/step - loss: 0.4501 - accuracy: 0.7835\n",
      "Epoch 192/200\n",
      "448/448 [==============================] - 0s 55us/step - loss: 0.4500 - accuracy: 0.7879\n",
      "Epoch 193/200\n",
      "448/448 [==============================] - 0s 63us/step - loss: 0.4522 - accuracy: 0.7857\n",
      "Epoch 194/200\n",
      "448/448 [==============================] - 0s 55us/step - loss: 0.4533 - accuracy: 0.7812\n",
      "Epoch 195/200\n",
      "448/448 [==============================] - 0s 45us/step - loss: 0.4485 - accuracy: 0.7812\n",
      "Epoch 196/200\n",
      "448/448 [==============================] - 0s 48us/step - loss: 0.4506 - accuracy: 0.7812\n",
      "Epoch 197/200\n",
      "448/448 [==============================] - 0s 46us/step - loss: 0.4521 - accuracy: 0.7812\n",
      "Epoch 198/200\n",
      "448/448 [==============================] - 0s 47us/step - loss: 0.4524 - accuracy: 0.7857\n",
      "Epoch 199/200\n",
      "448/448 [==============================] - 0s 45us/step - loss: 0.4514 - accuracy: 0.7857\n",
      "Epoch 200/200\n",
      "448/448 [==============================] - 0s 47us/step - loss: 0.4531 - accuracy: 0.7835\n",
      "89/89 [==============================] - 0s 332us/step\n",
      "Epoch 1/200\n",
      "448/448 [==============================] - 0s 485us/step - loss: 0.6921 - accuracy: 0.6473\n",
      "Epoch 2/200\n",
      "448/448 [==============================] - 0s 48us/step - loss: 0.6900 - accuracy: 0.6518\n",
      "Epoch 3/200\n",
      "448/448 [==============================] - 0s 46us/step - loss: 0.6875 - accuracy: 0.6518\n",
      "Epoch 4/200\n",
      "448/448 [==============================] - 0s 50us/step - loss: 0.6850 - accuracy: 0.6518\n",
      "Epoch 5/200\n",
      "448/448 [==============================] - 0s 43us/step - loss: 0.6820 - accuracy: 0.6518\n",
      "Epoch 6/200\n",
      "448/448 [==============================] - 0s 50us/step - loss: 0.6781 - accuracy: 0.6518\n",
      "Epoch 7/200\n",
      "448/448 [==============================] - 0s 48us/step - loss: 0.6730 - accuracy: 0.6518\n",
      "Epoch 8/200\n",
      "448/448 [==============================] - 0s 40us/step - loss: 0.6669 - accuracy: 0.6518\n",
      "Epoch 9/200\n",
      "448/448 [==============================] - 0s 46us/step - loss: 0.6596 - accuracy: 0.6518\n",
      "Epoch 10/200\n",
      "448/448 [==============================] - 0s 41us/step - loss: 0.6555 - accuracy: 0.6518\n",
      "Epoch 11/200\n",
      "448/448 [==============================] - 0s 43us/step - loss: 0.6506 - accuracy: 0.6518\n",
      "Epoch 12/200\n",
      "448/448 [==============================] - 0s 45us/step - loss: 0.6501 - accuracy: 0.6518\n",
      "Epoch 13/200\n",
      "448/448 [==============================] - 0s 47us/step - loss: 0.6491 - accuracy: 0.6518\n",
      "Epoch 14/200\n",
      "448/448 [==============================] - 0s 44us/step - loss: 0.6490 - accuracy: 0.6518\n",
      "Epoch 15/200\n",
      "448/448 [==============================] - 0s 44us/step - loss: 0.6486 - accuracy: 0.6518\n",
      "Epoch 16/200\n",
      "448/448 [==============================] - 0s 46us/step - loss: 0.6483 - accuracy: 0.6518\n",
      "Epoch 17/200\n",
      "448/448 [==============================] - 0s 40us/step - loss: 0.6483 - accuracy: 0.6518\n",
      "Epoch 18/200\n",
      "448/448 [==============================] - 0s 41us/step - loss: 0.6483 - accuracy: 0.6518\n",
      "Epoch 19/200\n",
      "448/448 [==============================] - 0s 45us/step - loss: 0.6477 - accuracy: 0.6518\n",
      "Epoch 20/200\n",
      "448/448 [==============================] - 0s 48us/step - loss: 0.6484 - accuracy: 0.6518\n",
      "Epoch 21/200\n",
      "448/448 [==============================] - 0s 41us/step - loss: 0.6477 - accuracy: 0.6518\n",
      "Epoch 22/200\n",
      "448/448 [==============================] - 0s 43us/step - loss: 0.6469 - accuracy: 0.6518\n",
      "Epoch 23/200\n"
     ]
    },
    {
     "name": "stdout",
     "output_type": "stream",
     "text": [
      "448/448 [==============================] - 0s 44us/step - loss: 0.6465 - accuracy: 0.6518\n",
      "Epoch 24/200\n",
      "448/448 [==============================] - 0s 46us/step - loss: 0.6462 - accuracy: 0.6518\n",
      "Epoch 25/200\n",
      "448/448 [==============================] - 0s 47us/step - loss: 0.6457 - accuracy: 0.6518\n",
      "Epoch 26/200\n",
      "448/448 [==============================] - 0s 51us/step - loss: 0.6453 - accuracy: 0.6518\n",
      "Epoch 27/200\n",
      "448/448 [==============================] - 0s 40us/step - loss: 0.6444 - accuracy: 0.6518\n",
      "Epoch 28/200\n",
      "448/448 [==============================] - 0s 38us/step - loss: 0.6434 - accuracy: 0.6518\n",
      "Epoch 29/200\n",
      "448/448 [==============================] - 0s 45us/step - loss: 0.6418 - accuracy: 0.6518\n",
      "Epoch 30/200\n",
      "448/448 [==============================] - 0s 51us/step - loss: 0.6402 - accuracy: 0.6518\n",
      "Epoch 31/200\n",
      "448/448 [==============================] - 0s 43us/step - loss: 0.6375 - accuracy: 0.6518\n",
      "Epoch 32/200\n",
      "448/448 [==============================] - 0s 39us/step - loss: 0.6338 - accuracy: 0.6518\n",
      "Epoch 33/200\n",
      "448/448 [==============================] - 0s 39us/step - loss: 0.6291 - accuracy: 0.6518\n",
      "Epoch 34/200\n",
      "448/448 [==============================] - 0s 40us/step - loss: 0.6222 - accuracy: 0.6518\n",
      "Epoch 35/200\n",
      "448/448 [==============================] - 0s 45us/step - loss: 0.6142 - accuracy: 0.6518\n",
      "Epoch 36/200\n",
      "448/448 [==============================] - 0s 42us/step - loss: 0.6046 - accuracy: 0.6518\n",
      "Epoch 37/200\n",
      "448/448 [==============================] - 0s 43us/step - loss: 0.5924 - accuracy: 0.6518\n",
      "Epoch 38/200\n",
      "448/448 [==============================] - 0s 45us/step - loss: 0.5809 - accuracy: 0.6518\n",
      "Epoch 39/200\n",
      "448/448 [==============================] - 0s 50us/step - loss: 0.5687 - accuracy: 0.6518\n",
      "Epoch 40/200\n",
      "448/448 [==============================] - 0s 45us/step - loss: 0.5561 - accuracy: 0.6518\n",
      "Epoch 41/200\n",
      "448/448 [==============================] - 0s 46us/step - loss: 0.5505 - accuracy: 0.6496\n",
      "Epoch 42/200\n",
      "448/448 [==============================] - 0s 44us/step - loss: 0.5385 - accuracy: 0.7076\n",
      "Epoch 43/200\n",
      "448/448 [==============================] - 0s 44us/step - loss: 0.5300 - accuracy: 0.7321\n",
      "Epoch 44/200\n",
      "448/448 [==============================] - 0s 44us/step - loss: 0.5225 - accuracy: 0.7254\n",
      "Epoch 45/200\n",
      "448/448 [==============================] - 0s 45us/step - loss: 0.5188 - accuracy: 0.7344\n",
      "Epoch 46/200\n",
      "448/448 [==============================] - 0s 41us/step - loss: 0.5122 - accuracy: 0.7344\n",
      "Epoch 47/200\n",
      "448/448 [==============================] - 0s 42us/step - loss: 0.5080 - accuracy: 0.7411\n",
      "Epoch 48/200\n",
      "448/448 [==============================] - 0s 45us/step - loss: 0.5040 - accuracy: 0.7455\n",
      "Epoch 49/200\n",
      "448/448 [==============================] - 0s 43us/step - loss: 0.5043 - accuracy: 0.7433\n",
      "Epoch 50/200\n",
      "448/448 [==============================] - 0s 45us/step - loss: 0.5011 - accuracy: 0.7522\n",
      "Epoch 51/200\n",
      "448/448 [==============================] - 0s 46us/step - loss: 0.4953 - accuracy: 0.7567\n",
      "Epoch 52/200\n",
      "448/448 [==============================] - 0s 44us/step - loss: 0.4923 - accuracy: 0.7634\n",
      "Epoch 53/200\n",
      "448/448 [==============================] - 0s 44us/step - loss: 0.4898 - accuracy: 0.7612\n",
      "Epoch 54/200\n",
      "448/448 [==============================] - 0s 42us/step - loss: 0.4893 - accuracy: 0.7567\n",
      "Epoch 55/200\n",
      "448/448 [==============================] - 0s 43us/step - loss: 0.4861 - accuracy: 0.7679\n",
      "Epoch 56/200\n",
      "448/448 [==============================] - 0s 43us/step - loss: 0.4838 - accuracy: 0.7679\n",
      "Epoch 57/200\n",
      "448/448 [==============================] - 0s 55us/step - loss: 0.4855 - accuracy: 0.7589\n",
      "Epoch 58/200\n",
      "448/448 [==============================] - 0s 54us/step - loss: 0.4801 - accuracy: 0.7701\n",
      "Epoch 59/200\n",
      "448/448 [==============================] - 0s 54us/step - loss: 0.4786 - accuracy: 0.7723\n",
      "Epoch 60/200\n",
      "448/448 [==============================] - 0s 58us/step - loss: 0.4771 - accuracy: 0.7723\n",
      "Epoch 61/200\n",
      "448/448 [==============================] - 0s 55us/step - loss: 0.4777 - accuracy: 0.7656\n",
      "Epoch 62/200\n",
      "448/448 [==============================] - 0s 53us/step - loss: 0.4744 - accuracy: 0.7768\n",
      "Epoch 63/200\n",
      "448/448 [==============================] - 0s 48us/step - loss: 0.4754 - accuracy: 0.7723\n",
      "Epoch 64/200\n",
      "448/448 [==============================] - 0s 48us/step - loss: 0.4741 - accuracy: 0.7768\n",
      "Epoch 65/200\n",
      "448/448 [==============================] - 0s 54us/step - loss: 0.4723 - accuracy: 0.7746\n",
      "Epoch 66/200\n",
      "448/448 [==============================] - 0s 46us/step - loss: 0.4691 - accuracy: 0.7790\n",
      "Epoch 67/200\n",
      "448/448 [==============================] - 0s 46us/step - loss: 0.4684 - accuracy: 0.7812\n",
      "Epoch 68/200\n",
      "448/448 [==============================] - 0s 43us/step - loss: 0.4670 - accuracy: 0.7835\n",
      "Epoch 69/200\n",
      "448/448 [==============================] - 0s 44us/step - loss: 0.4688 - accuracy: 0.7768\n",
      "Epoch 70/200\n",
      "448/448 [==============================] - 0s 53us/step - loss: 0.4666 - accuracy: 0.7768\n",
      "Epoch 71/200\n",
      "448/448 [==============================] - 0s 41us/step - loss: 0.4649 - accuracy: 0.7857\n",
      "Epoch 72/200\n",
      "448/448 [==============================] - 0s 44us/step - loss: 0.4631 - accuracy: 0.7857\n",
      "Epoch 73/200\n",
      "448/448 [==============================] - 0s 40us/step - loss: 0.4661 - accuracy: 0.7768\n",
      "Epoch 74/200\n",
      "448/448 [==============================] - 0s 49us/step - loss: 0.4640 - accuracy: 0.7857\n",
      "Epoch 75/200\n",
      "448/448 [==============================] - 0s 52us/step - loss: 0.4616 - accuracy: 0.7879\n",
      "Epoch 76/200\n",
      "448/448 [==============================] - 0s 43us/step - loss: 0.4608 - accuracy: 0.7902\n",
      "Epoch 77/200\n",
      "448/448 [==============================] - 0s 43us/step - loss: 0.4608 - accuracy: 0.7812\n",
      "Epoch 78/200\n",
      "448/448 [==============================] - 0s 45us/step - loss: 0.4589 - accuracy: 0.7924\n",
      "Epoch 79/200\n",
      "448/448 [==============================] - 0s 47us/step - loss: 0.4615 - accuracy: 0.7790\n",
      "Epoch 80/200\n",
      "448/448 [==============================] - 0s 42us/step - loss: 0.4593 - accuracy: 0.7924\n",
      "Epoch 81/200\n",
      "448/448 [==============================] - 0s 43us/step - loss: 0.4586 - accuracy: 0.7902\n",
      "Epoch 82/200\n",
      "448/448 [==============================] - 0s 44us/step - loss: 0.4599 - accuracy: 0.7857\n",
      "Epoch 83/200\n",
      "448/448 [==============================] - 0s 43us/step - loss: 0.4597 - accuracy: 0.7857\n",
      "Epoch 84/200\n",
      "448/448 [==============================] - 0s 46us/step - loss: 0.4559 - accuracy: 0.7924\n",
      "Epoch 85/200\n",
      "448/448 [==============================] - 0s 43us/step - loss: 0.4569 - accuracy: 0.7902\n",
      "Epoch 86/200\n",
      "448/448 [==============================] - 0s 42us/step - loss: 0.4582 - accuracy: 0.7879\n",
      "Epoch 87/200\n",
      "448/448 [==============================] - 0s 45us/step - loss: 0.4560 - accuracy: 0.7924\n",
      "Epoch 88/200\n",
      "448/448 [==============================] - 0s 42us/step - loss: 0.4560 - accuracy: 0.7924\n",
      "Epoch 89/200\n",
      "448/448 [==============================] - 0s 43us/step - loss: 0.4554 - accuracy: 0.7946\n",
      "Epoch 90/200\n",
      "448/448 [==============================] - 0s 46us/step - loss: 0.4553 - accuracy: 0.7902\n",
      "Epoch 91/200\n",
      "448/448 [==============================] - 0s 43us/step - loss: 0.4566 - accuracy: 0.7835\n",
      "Epoch 92/200\n",
      "448/448 [==============================] - 0s 43us/step - loss: 0.4579 - accuracy: 0.7835\n",
      "Epoch 93/200\n",
      "448/448 [==============================] - 0s 47us/step - loss: 0.4558 - accuracy: 0.7969\n",
      "Epoch 94/200\n",
      "448/448 [==============================] - 0s 43us/step - loss: 0.4557 - accuracy: 0.7879\n",
      "Epoch 95/200\n",
      "448/448 [==============================] - 0s 44us/step - loss: 0.4538 - accuracy: 0.7902\n",
      "Epoch 96/200\n",
      "448/448 [==============================] - 0s 40us/step - loss: 0.4541 - accuracy: 0.7857\n",
      "Epoch 97/200\n",
      "448/448 [==============================] - 0s 41us/step - loss: 0.4544 - accuracy: 0.7879\n",
      "Epoch 98/200\n",
      "448/448 [==============================] - 0s 42us/step - loss: 0.4546 - accuracy: 0.7924\n",
      "Epoch 99/200\n",
      "448/448 [==============================] - 0s 41us/step - loss: 0.4551 - accuracy: 0.7835\n",
      "Epoch 100/200\n",
      "448/448 [==============================] - 0s 43us/step - loss: 0.4548 - accuracy: 0.7946\n",
      "Epoch 101/200\n",
      "448/448 [==============================] - 0s 39us/step - loss: 0.4548 - accuracy: 0.7902\n",
      "Epoch 102/200\n",
      "448/448 [==============================] - 0s 42us/step - loss: 0.4571 - accuracy: 0.7812\n",
      "Epoch 103/200\n",
      "448/448 [==============================] - 0s 42us/step - loss: 0.4546 - accuracy: 0.7902\n",
      "Epoch 104/200\n",
      "448/448 [==============================] - 0s 44us/step - loss: 0.4538 - accuracy: 0.7924\n",
      "Epoch 105/200\n",
      "448/448 [==============================] - 0s 45us/step - loss: 0.4533 - accuracy: 0.7924\n",
      "Epoch 106/200\n",
      "448/448 [==============================] - 0s 45us/step - loss: 0.4547 - accuracy: 0.7924\n",
      "Epoch 107/200\n",
      "448/448 [==============================] - 0s 44us/step - loss: 0.4540 - accuracy: 0.7857\n",
      "Epoch 108/200\n",
      "448/448 [==============================] - 0s 45us/step - loss: 0.4531 - accuracy: 0.7879\n",
      "Epoch 109/200\n",
      "448/448 [==============================] - 0s 45us/step - loss: 0.4554 - accuracy: 0.7879\n",
      "Epoch 110/200\n",
      "448/448 [==============================] - 0s 44us/step - loss: 0.4538 - accuracy: 0.7835\n",
      "Epoch 111/200\n",
      "448/448 [==============================] - 0s 47us/step - loss: 0.4536 - accuracy: 0.7835\n",
      "Epoch 112/200\n",
      "448/448 [==============================] - 0s 45us/step - loss: 0.4550 - accuracy: 0.7879\n",
      "Epoch 113/200\n",
      "448/448 [==============================] - 0s 45us/step - loss: 0.4558 - accuracy: 0.7879\n",
      "Epoch 114/200\n",
      "448/448 [==============================] - 0s 44us/step - loss: 0.4529 - accuracy: 0.7924\n",
      "Epoch 115/200\n",
      "448/448 [==============================] - 0s 43us/step - loss: 0.4543 - accuracy: 0.7835\n",
      "Epoch 116/200\n",
      "448/448 [==============================] - 0s 42us/step - loss: 0.4537 - accuracy: 0.7902\n",
      "Epoch 117/200\n",
      "448/448 [==============================] - 0s 41us/step - loss: 0.4549 - accuracy: 0.7812\n",
      "Epoch 118/200\n",
      "448/448 [==============================] - 0s 42us/step - loss: 0.4543 - accuracy: 0.7946\n",
      "Epoch 119/200\n",
      "448/448 [==============================] - 0s 42us/step - loss: 0.4535 - accuracy: 0.7924\n",
      "Epoch 120/200\n",
      "448/448 [==============================] - 0s 43us/step - loss: 0.4541 - accuracy: 0.7857\n",
      "Epoch 121/200\n",
      "448/448 [==============================] - 0s 42us/step - loss: 0.4525 - accuracy: 0.7924\n",
      "Epoch 122/200\n",
      "448/448 [==============================] - 0s 48us/step - loss: 0.4567 - accuracy: 0.7924\n",
      "Epoch 123/200\n",
      "448/448 [==============================] - 0s 45us/step - loss: 0.4535 - accuracy: 0.7902\n",
      "Epoch 124/200\n",
      "448/448 [==============================] - 0s 43us/step - loss: 0.4531 - accuracy: 0.7902\n",
      "Epoch 125/200\n",
      "448/448 [==============================] - 0s 35us/step - loss: 0.4527 - accuracy: 0.7902\n",
      "Epoch 126/200\n",
      "448/448 [==============================] - 0s 43us/step - loss: 0.4528 - accuracy: 0.7879\n",
      "Epoch 127/200\n",
      "448/448 [==============================] - 0s 43us/step - loss: 0.4552 - accuracy: 0.7857\n",
      "Epoch 128/200\n",
      "448/448 [==============================] - 0s 41us/step - loss: 0.4554 - accuracy: 0.7656\n",
      "Epoch 129/200\n",
      "448/448 [==============================] - 0s 41us/step - loss: 0.4517 - accuracy: 0.7879\n",
      "Epoch 130/200\n",
      "448/448 [==============================] - 0s 43us/step - loss: 0.4532 - accuracy: 0.7812\n",
      "Epoch 131/200\n",
      "448/448 [==============================] - 0s 42us/step - loss: 0.4524 - accuracy: 0.7857\n",
      "Epoch 132/200\n",
      "448/448 [==============================] - 0s 45us/step - loss: 0.4533 - accuracy: 0.7924\n",
      "Epoch 133/200\n",
      "448/448 [==============================] - 0s 41us/step - loss: 0.4529 - accuracy: 0.7902\n",
      "Epoch 134/200\n",
      "448/448 [==============================] - 0s 43us/step - loss: 0.4523 - accuracy: 0.7879\n",
      "Epoch 135/200\n",
      "448/448 [==============================] - 0s 39us/step - loss: 0.4527 - accuracy: 0.7924\n",
      "Epoch 136/200\n",
      "448/448 [==============================] - 0s 44us/step - loss: 0.4521 - accuracy: 0.7924\n",
      "Epoch 137/200\n",
      "448/448 [==============================] - 0s 40us/step - loss: 0.4527 - accuracy: 0.7857\n",
      "Epoch 138/200\n",
      "448/448 [==============================] - 0s 41us/step - loss: 0.4519 - accuracy: 0.7902\n",
      "Epoch 139/200\n",
      "448/448 [==============================] - 0s 46us/step - loss: 0.4533 - accuracy: 0.7879\n",
      "Epoch 140/200\n",
      "448/448 [==============================] - 0s 41us/step - loss: 0.4521 - accuracy: 0.7946\n",
      "Epoch 141/200\n",
      "448/448 [==============================] - 0s 44us/step - loss: 0.4536 - accuracy: 0.7857\n",
      "Epoch 142/200\n",
      "448/448 [==============================] - 0s 48us/step - loss: 0.4532 - accuracy: 0.7902\n",
      "Epoch 143/200\n",
      "448/448 [==============================] - 0s 62us/step - loss: 0.4528 - accuracy: 0.7946\n",
      "Epoch 144/200\n",
      "448/448 [==============================] - 0s 46us/step - loss: 0.4523 - accuracy: 0.7946\n",
      "Epoch 145/200\n",
      "448/448 [==============================] - 0s 45us/step - loss: 0.4542 - accuracy: 0.7924\n",
      "Epoch 146/200\n",
      "448/448 [==============================] - 0s 47us/step - loss: 0.4533 - accuracy: 0.7857\n",
      "Epoch 147/200\n",
      "448/448 [==============================] - 0s 44us/step - loss: 0.4531 - accuracy: 0.7879\n",
      "Epoch 148/200\n",
      "448/448 [==============================] - 0s 43us/step - loss: 0.4521 - accuracy: 0.7879\n",
      "Epoch 149/200\n",
      "448/448 [==============================] - 0s 40us/step - loss: 0.4531 - accuracy: 0.7879\n",
      "Epoch 150/200\n",
      "448/448 [==============================] - 0s 42us/step - loss: 0.4519 - accuracy: 0.7857\n",
      "Epoch 151/200\n",
      "448/448 [==============================] - 0s 45us/step - loss: 0.4517 - accuracy: 0.7902\n",
      "Epoch 152/200\n",
      "448/448 [==============================] - 0s 40us/step - loss: 0.4517 - accuracy: 0.7902\n",
      "Epoch 153/200\n",
      "448/448 [==============================] - 0s 44us/step - loss: 0.4517 - accuracy: 0.7946\n",
      "Epoch 154/200\n",
      "448/448 [==============================] - 0s 45us/step - loss: 0.4520 - accuracy: 0.7946\n",
      "Epoch 155/200\n",
      "448/448 [==============================] - 0s 41us/step - loss: 0.4534 - accuracy: 0.7924\n",
      "Epoch 156/200\n",
      "448/448 [==============================] - 0s 43us/step - loss: 0.4532 - accuracy: 0.7790\n",
      "Epoch 157/200\n",
      "448/448 [==============================] - 0s 39us/step - loss: 0.4517 - accuracy: 0.7924\n",
      "Epoch 158/200\n",
      "448/448 [==============================] - 0s 42us/step - loss: 0.4520 - accuracy: 0.7879\n",
      "Epoch 159/200\n",
      "448/448 [==============================] - 0s 47us/step - loss: 0.4515 - accuracy: 0.7902\n",
      "Epoch 160/200\n",
      "448/448 [==============================] - 0s 46us/step - loss: 0.4516 - accuracy: 0.7902\n",
      "Epoch 161/200\n",
      "448/448 [==============================] - 0s 44us/step - loss: 0.4523 - accuracy: 0.7879\n",
      "Epoch 162/200\n",
      "448/448 [==============================] - 0s 45us/step - loss: 0.4516 - accuracy: 0.7924\n",
      "Epoch 163/200\n",
      "448/448 [==============================] - 0s 53us/step - loss: 0.4526 - accuracy: 0.7879\n",
      "Epoch 164/200\n",
      "448/448 [==============================] - 0s 45us/step - loss: 0.4515 - accuracy: 0.7879\n",
      "Epoch 165/200\n",
      "448/448 [==============================] - 0s 42us/step - loss: 0.4545 - accuracy: 0.7768\n",
      "Epoch 166/200\n",
      "448/448 [==============================] - 0s 44us/step - loss: 0.4508 - accuracy: 0.7924\n",
      "Epoch 167/200\n",
      "448/448 [==============================] - 0s 41us/step - loss: 0.4521 - accuracy: 0.7768\n",
      "Epoch 168/200\n",
      "448/448 [==============================] - 0s 45us/step - loss: 0.4546 - accuracy: 0.7768\n",
      "Epoch 169/200\n",
      "448/448 [==============================] - 0s 59us/step - loss: 0.4513 - accuracy: 0.7902\n",
      "Epoch 170/200\n",
      "448/448 [==============================] - 0s 47us/step - loss: 0.4548 - accuracy: 0.7879\n",
      "Epoch 171/200\n",
      "448/448 [==============================] - 0s 44us/step - loss: 0.4529 - accuracy: 0.7879\n",
      "Epoch 172/200\n",
      "448/448 [==============================] - 0s 46us/step - loss: 0.4520 - accuracy: 0.7879\n",
      "Epoch 173/200\n",
      "448/448 [==============================] - 0s 43us/step - loss: 0.4511 - accuracy: 0.7879\n",
      "Epoch 174/200\n",
      "448/448 [==============================] - 0s 42us/step - loss: 0.4520 - accuracy: 0.7879\n",
      "Epoch 175/200\n",
      "448/448 [==============================] - 0s 42us/step - loss: 0.4537 - accuracy: 0.7812\n",
      "Epoch 176/200\n",
      "448/448 [==============================] - 0s 44us/step - loss: 0.4517 - accuracy: 0.7924\n",
      "Epoch 177/200\n",
      "448/448 [==============================] - 0s 38us/step - loss: 0.4523 - accuracy: 0.7924\n",
      "Epoch 178/200\n",
      "448/448 [==============================] - 0s 45us/step - loss: 0.4510 - accuracy: 0.7902\n",
      "Epoch 179/200\n",
      "448/448 [==============================] - 0s 39us/step - loss: 0.4520 - accuracy: 0.7879\n",
      "Epoch 180/200\n"
     ]
    },
    {
     "name": "stdout",
     "output_type": "stream",
     "text": [
      "448/448 [==============================] - 0s 44us/step - loss: 0.4526 - accuracy: 0.7946\n",
      "Epoch 181/200\n",
      "448/448 [==============================] - 0s 39us/step - loss: 0.4508 - accuracy: 0.7902\n",
      "Epoch 182/200\n",
      "448/448 [==============================] - 0s 43us/step - loss: 0.4544 - accuracy: 0.7768\n",
      "Epoch 183/200\n",
      "448/448 [==============================] - 0s 42us/step - loss: 0.4515 - accuracy: 0.7924\n",
      "Epoch 184/200\n",
      "448/448 [==============================] - 0s 46us/step - loss: 0.4512 - accuracy: 0.7969\n",
      "Epoch 185/200\n",
      "448/448 [==============================] - 0s 43us/step - loss: 0.4535 - accuracy: 0.7924\n",
      "Epoch 186/200\n",
      "448/448 [==============================] - 0s 46us/step - loss: 0.4505 - accuracy: 0.7924\n",
      "Epoch 187/200\n",
      "448/448 [==============================] - 0s 44us/step - loss: 0.4527 - accuracy: 0.7790\n",
      "Epoch 188/200\n",
      "448/448 [==============================] - 0s 44us/step - loss: 0.4529 - accuracy: 0.7835\n",
      "Epoch 189/200\n",
      "448/448 [==============================] - 0s 43us/step - loss: 0.4541 - accuracy: 0.7790\n",
      "Epoch 190/200\n",
      "448/448 [==============================] - 0s 45us/step - loss: 0.4502 - accuracy: 0.7857\n",
      "Epoch 191/200\n",
      "448/448 [==============================] - 0s 44us/step - loss: 0.4516 - accuracy: 0.7924\n",
      "Epoch 192/200\n",
      "448/448 [==============================] - 0s 43us/step - loss: 0.4554 - accuracy: 0.7790\n",
      "Epoch 193/200\n",
      "448/448 [==============================] - 0s 44us/step - loss: 0.4532 - accuracy: 0.7857\n",
      "Epoch 194/200\n",
      "448/448 [==============================] - 0s 44us/step - loss: 0.4518 - accuracy: 0.7946\n",
      "Epoch 195/200\n",
      "448/448 [==============================] - 0s 43us/step - loss: 0.4553 - accuracy: 0.7790\n",
      "Epoch 196/200\n",
      "448/448 [==============================] - 0s 43us/step - loss: 0.4508 - accuracy: 0.7924\n",
      "Epoch 197/200\n",
      "448/448 [==============================] - 0s 40us/step - loss: 0.4515 - accuracy: 0.7790\n",
      "Epoch 198/200\n",
      "448/448 [==============================] - 0s 41us/step - loss: 0.4519 - accuracy: 0.7924\n",
      "Epoch 199/200\n",
      "448/448 [==============================] - 0s 42us/step - loss: 0.4518 - accuracy: 0.7924\n",
      "Epoch 200/200\n",
      "448/448 [==============================] - 0s 44us/step - loss: 0.4517 - accuracy: 0.7902\n",
      "89/89 [==============================] - 0s 324us/step\n",
      "Accuracy mean: 0.7244902153809866\n",
      "Accuracy variance: 0.060670876989705434\n"
     ]
    }
   ],
   "source": [
    "ANNCF = KerasClassifier(build_fn = buildclassifier, epochs = 200)\n",
    "accuracies = cross_val_score(estimator = classifier, X = xtrain, y= ytrain, cv = 6)\n",
    "mean = accuracies.mean()\n",
    "variance = accuracies.std()\n",
    "print(\"Accuracy mean: \"+ str(mean))\n",
    "print(\"Accuracy variance: \"+ str(variance))\n"
   ]
  },
  {
   "cell_type": "code",
   "execution_count": 87,
   "metadata": {},
   "outputs": [
    {
     "name": "stdout",
     "output_type": "stream",
     "text": [
      "Epoch 1/200\n",
      "537/537 [==============================] - 0s 454us/step - loss: 0.6922 - accuracy: 0.6201\n",
      "Epoch 2/200\n",
      "537/537 [==============================] - 0s 53us/step - loss: 0.6900 - accuracy: 0.6499\n",
      "Epoch 3/200\n",
      "537/537 [==============================] - 0s 51us/step - loss: 0.6876 - accuracy: 0.6499\n",
      "Epoch 4/200\n",
      "537/537 [==============================] - 0s 55us/step - loss: 0.6853 - accuracy: 0.6499\n",
      "Epoch 5/200\n",
      "537/537 [==============================] - 0s 77us/step - loss: 0.6825 - accuracy: 0.6499\n",
      "Epoch 6/200\n",
      "537/537 [==============================] - 0s 80us/step - loss: 0.6795 - accuracy: 0.6499\n",
      "Epoch 7/200\n",
      "537/537 [==============================] - 0s 59us/step - loss: 0.6754 - accuracy: 0.6499\n",
      "Epoch 8/200\n",
      "537/537 [==============================] - 0s 65us/step - loss: 0.6704 - accuracy: 0.6499\n",
      "Epoch 9/200\n",
      "537/537 [==============================] - 0s 63us/step - loss: 0.6639 - accuracy: 0.6499\n",
      "Epoch 10/200\n",
      "537/537 [==============================] - 0s 67us/step - loss: 0.6582 - accuracy: 0.6499\n",
      "Epoch 11/200\n",
      "537/537 [==============================] - 0s 53us/step - loss: 0.6537 - accuracy: 0.6499\n",
      "Epoch 12/200\n",
      "537/537 [==============================] - 0s 75us/step - loss: 0.6512 - accuracy: 0.6499\n",
      "Epoch 13/200\n",
      "537/537 [==============================] - 0s 71us/step - loss: 0.6497 - accuracy: 0.6499\n",
      "Epoch 14/200\n",
      "537/537 [==============================] - 0s 98us/step - loss: 0.6491 - accuracy: 0.6499\n",
      "Epoch 15/200\n",
      "537/537 [==============================] - 0s 95us/step - loss: 0.6488 - accuracy: 0.6499\n",
      "Epoch 16/200\n",
      "537/537 [==============================] - 0s 88us/step - loss: 0.6489 - accuracy: 0.6499\n",
      "Epoch 17/200\n",
      "537/537 [==============================] - 0s 73us/step - loss: 0.6490 - accuracy: 0.6499\n",
      "Epoch 18/200\n",
      "537/537 [==============================] - 0s 99us/step - loss: 0.6484 - accuracy: 0.6499\n",
      "Epoch 19/200\n",
      "537/537 [==============================] - 0s 57us/step - loss: 0.6484 - accuracy: 0.6499\n",
      "Epoch 20/200\n",
      "537/537 [==============================] - 0s 56us/step - loss: 0.6483 - accuracy: 0.6499\n",
      "Epoch 21/200\n",
      "537/537 [==============================] - 0s 52us/step - loss: 0.6483 - accuracy: 0.6499\n",
      "Epoch 22/200\n",
      "537/537 [==============================] - 0s 53us/step - loss: 0.6482 - accuracy: 0.6499\n",
      "Epoch 23/200\n",
      "537/537 [==============================] - 0s 60us/step - loss: 0.6482 - accuracy: 0.6499\n",
      "Epoch 24/200\n",
      "537/537 [==============================] - 0s 67us/step - loss: 0.6482 - accuracy: 0.6499\n",
      "Epoch 25/200\n",
      "537/537 [==============================] - 0s 63us/step - loss: 0.6483 - accuracy: 0.6499\n",
      "Epoch 26/200\n",
      "537/537 [==============================] - 0s 63us/step - loss: 0.6481 - accuracy: 0.6499\n",
      "Epoch 27/200\n",
      "537/537 [==============================] - 0s 61us/step - loss: 0.6480 - accuracy: 0.6499\n",
      "Epoch 28/200\n",
      "537/537 [==============================] - 0s 63us/step - loss: 0.6480 - accuracy: 0.6499\n",
      "Epoch 29/200\n",
      "537/537 [==============================] - 0s 53us/step - loss: 0.6480 - accuracy: 0.6499\n",
      "Epoch 30/200\n",
      "537/537 [==============================] - 0s 50us/step - loss: 0.6481 - accuracy: 0.6499\n",
      "Epoch 31/200\n",
      "537/537 [==============================] - 0s 60us/step - loss: 0.6480 - accuracy: 0.6499\n",
      "Epoch 32/200\n",
      "537/537 [==============================] - 0s 63us/step - loss: 0.6479 - accuracy: 0.6499\n",
      "Epoch 33/200\n",
      "537/537 [==============================] - 0s 64us/step - loss: 0.6480 - accuracy: 0.6499\n",
      "Epoch 34/200\n",
      "537/537 [==============================] - 0s 60us/step - loss: 0.6479 - accuracy: 0.6499\n",
      "Epoch 35/200\n",
      "537/537 [==============================] - 0s 57us/step - loss: 0.6478 - accuracy: 0.6499\n",
      "Epoch 36/200\n",
      "537/537 [==============================] - 0s 58us/step - loss: 0.6479 - accuracy: 0.6499\n",
      "Epoch 37/200\n",
      "537/537 [==============================] - 0s 61us/step - loss: 0.6478 - accuracy: 0.6499\n",
      "Epoch 38/200\n",
      "537/537 [==============================] - 0s 61us/step - loss: 0.6481 - accuracy: 0.6499\n",
      "Epoch 39/200\n",
      "537/537 [==============================] - 0s 59us/step - loss: 0.6478 - accuracy: 0.6499\n",
      "Epoch 40/200\n",
      "537/537 [==============================] - 0s 59us/step - loss: 0.6479 - accuracy: 0.6499\n",
      "Epoch 41/200\n",
      "537/537 [==============================] - 0s 58us/step - loss: 0.6480 - accuracy: 0.6499\n",
      "Epoch 42/200\n",
      "537/537 [==============================] - 0s 61us/step - loss: 0.6478 - accuracy: 0.6499\n",
      "Epoch 43/200\n",
      "537/537 [==============================] - 0s 51us/step - loss: 0.6478 - accuracy: 0.6499\n",
      "Epoch 44/200\n",
      "537/537 [==============================] - 0s 50us/step - loss: 0.6478 - accuracy: 0.6499\n",
      "Epoch 45/200\n",
      "537/537 [==============================] - 0s 56us/step - loss: 0.6478 - accuracy: 0.6499\n",
      "Epoch 46/200\n",
      "537/537 [==============================] - 0s 58us/step - loss: 0.6477 - accuracy: 0.6499\n",
      "Epoch 47/200\n",
      "537/537 [==============================] - 0s 59us/step - loss: 0.6477 - accuracy: 0.6499\n",
      "Epoch 48/200\n",
      "537/537 [==============================] - 0s 61us/step - loss: 0.6479 - accuracy: 0.6499\n",
      "Epoch 49/200\n",
      "537/537 [==============================] - 0s 59us/step - loss: 0.6481 - accuracy: 0.6499\n",
      "Epoch 50/200\n",
      "537/537 [==============================] - 0s 53us/step - loss: 0.6477 - accuracy: 0.6499\n",
      "Epoch 51/200\n",
      "537/537 [==============================] - 0s 56us/step - loss: 0.6478 - accuracy: 0.6499\n",
      "Epoch 52/200\n",
      "537/537 [==============================] - 0s 60us/step - loss: 0.6477 - accuracy: 0.6499\n",
      "Epoch 53/200\n",
      "537/537 [==============================] - 0s 61us/step - loss: 0.6477 - accuracy: 0.6499\n",
      "Epoch 54/200\n",
      "537/537 [==============================] - 0s 52us/step - loss: 0.6478 - accuracy: 0.6499\n",
      "Epoch 55/200\n",
      "537/537 [==============================] - 0s 41us/step - loss: 0.6479 - accuracy: 0.6499\n",
      "Epoch 56/200\n",
      "537/537 [==============================] - 0s 48us/step - loss: 0.6476 - accuracy: 0.6499\n",
      "Epoch 57/200\n",
      "537/537 [==============================] - 0s 42us/step - loss: 0.6477 - accuracy: 0.6499\n",
      "Epoch 58/200\n",
      "537/537 [==============================] - 0s 42us/step - loss: 0.6477 - accuracy: 0.6499\n",
      "Epoch 59/200\n",
      "537/537 [==============================] - 0s 46us/step - loss: 0.6478 - accuracy: 0.6499\n",
      "Epoch 60/200\n",
      "537/537 [==============================] - 0s 47us/step - loss: 0.6476 - accuracy: 0.6499\n",
      "Epoch 61/200\n",
      "537/537 [==============================] - 0s 44us/step - loss: 0.6477 - accuracy: 0.6499\n",
      "Epoch 62/200\n",
      "537/537 [==============================] - 0s 63us/step - loss: 0.6476 - accuracy: 0.6499\n",
      "Epoch 63/200\n",
      "537/537 [==============================] - 0s 72us/step - loss: 0.6477 - accuracy: 0.6499\n",
      "Epoch 64/200\n",
      "537/537 [==============================] - 0s 60us/step - loss: 0.6476 - accuracy: 0.6499\n",
      "Epoch 65/200\n",
      "537/537 [==============================] - 0s 62us/step - loss: 0.6477 - accuracy: 0.6499\n",
      "Epoch 66/200\n",
      "537/537 [==============================] - 0s 54us/step - loss: 0.6476 - accuracy: 0.6499\n",
      "Epoch 67/200\n",
      "537/537 [==============================] - 0s 54us/step - loss: 0.6476 - accuracy: 0.6499\n",
      "Epoch 68/200\n",
      "537/537 [==============================] - 0s 60us/step - loss: 0.6478 - accuracy: 0.6499\n",
      "Epoch 69/200\n",
      "537/537 [==============================] - 0s 56us/step - loss: 0.6476 - accuracy: 0.6499\n",
      "Epoch 70/200\n",
      "537/537 [==============================] - 0s 47us/step - loss: 0.6476 - accuracy: 0.6499\n",
      "Epoch 71/200\n",
      "537/537 [==============================] - 0s 52us/step - loss: 0.6476 - accuracy: 0.6499\n",
      "Epoch 72/200\n",
      "537/537 [==============================] - 0s 51us/step - loss: 0.6476 - accuracy: 0.6499\n",
      "Epoch 73/200\n",
      "537/537 [==============================] - 0s 48us/step - loss: 0.6475 - accuracy: 0.6499\n",
      "Epoch 74/200\n",
      "537/537 [==============================] - 0s 47us/step - loss: 0.6474 - accuracy: 0.6499\n",
      "Epoch 75/200\n",
      "537/537 [==============================] - 0s 55us/step - loss: 0.6473 - accuracy: 0.6499\n",
      "Epoch 76/200\n",
      "537/537 [==============================] - 0s 61us/step - loss: 0.6471 - accuracy: 0.6499\n",
      "Epoch 77/200\n",
      "537/537 [==============================] - 0s 60us/step - loss: 0.6469 - accuracy: 0.6499\n",
      "Epoch 78/200\n",
      "537/537 [==============================] - 0s 54us/step - loss: 0.6460 - accuracy: 0.6499\n",
      "Epoch 79/200\n",
      "537/537 [==============================] - 0s 50us/step - loss: 0.6436 - accuracy: 0.6499\n",
      "Epoch 80/200\n",
      "537/537 [==============================] - 0s 41us/step - loss: 0.6366 - accuracy: 0.6499\n",
      "Epoch 81/200\n",
      "537/537 [==============================] - 0s 46us/step - loss: 0.6284 - accuracy: 0.6499\n",
      "Epoch 82/200\n",
      "537/537 [==============================] - 0s 58us/step - loss: 0.6150 - accuracy: 0.6499\n",
      "Epoch 83/200\n",
      "537/537 [==============================] - 0s 59us/step - loss: 0.5967 - accuracy: 0.6499\n",
      "Epoch 84/200\n",
      "537/537 [==============================] - 0s 64us/step - loss: 0.5795 - accuracy: 0.6592\n",
      "Epoch 85/200\n",
      "537/537 [==============================] - 0s 66us/step - loss: 0.5564 - accuracy: 0.7058\n",
      "Epoch 86/200\n",
      "537/537 [==============================] - 0s 72us/step - loss: 0.5422 - accuracy: 0.7095\n",
      "Epoch 87/200\n",
      "537/537 [==============================] - 0s 62us/step - loss: 0.5311 - accuracy: 0.7207\n",
      "Epoch 88/200\n",
      "537/537 [==============================] - 0s 66us/step - loss: 0.5242 - accuracy: 0.7281\n",
      "Epoch 89/200\n",
      "537/537 [==============================] - 0s 66us/step - loss: 0.5185 - accuracy: 0.7244\n",
      "Epoch 90/200\n",
      "537/537 [==============================] - 0s 63us/step - loss: 0.5127 - accuracy: 0.7356\n",
      "Epoch 91/200\n",
      "537/537 [==============================] - 0s 47us/step - loss: 0.5108 - accuracy: 0.7393\n",
      "Epoch 92/200\n",
      "537/537 [==============================] - 0s 47us/step - loss: 0.5068 - accuracy: 0.7467\n",
      "Epoch 93/200\n",
      "537/537 [==============================] - 0s 71us/step - loss: 0.5046 - accuracy: 0.7486\n",
      "Epoch 94/200\n",
      "537/537 [==============================] - 0s 65us/step - loss: 0.5018 - accuracy: 0.7523\n",
      "Epoch 95/200\n",
      "537/537 [==============================] - 0s 64us/step - loss: 0.4977 - accuracy: 0.7561\n",
      "Epoch 96/200\n",
      "537/537 [==============================] - 0s 60us/step - loss: 0.4962 - accuracy: 0.7579\n",
      "Epoch 97/200\n",
      "537/537 [==============================] - 0s 60us/step - loss: 0.4931 - accuracy: 0.7505\n",
      "Epoch 98/200\n",
      "537/537 [==============================] - 0s 53us/step - loss: 0.4926 - accuracy: 0.7579\n",
      "Epoch 99/200\n",
      "537/537 [==============================] - 0s 46us/step - loss: 0.4913 - accuracy: 0.7598\n",
      "Epoch 100/200\n",
      "537/537 [==============================] - 0s 46us/step - loss: 0.4895 - accuracy: 0.7542\n",
      "Epoch 101/200\n",
      "537/537 [==============================] - 0s 45us/step - loss: 0.4874 - accuracy: 0.7598\n",
      "Epoch 102/200\n",
      "537/537 [==============================] - 0s 51us/step - loss: 0.4879 - accuracy: 0.7542\n",
      "Epoch 103/200\n",
      "537/537 [==============================] - 0s 55us/step - loss: 0.4856 - accuracy: 0.7598\n",
      "Epoch 104/200\n",
      "537/537 [==============================] - 0s 54us/step - loss: 0.4863 - accuracy: 0.7542\n",
      "Epoch 105/200\n",
      "537/537 [==============================] - 0s 50us/step - loss: 0.4858 - accuracy: 0.7523\n",
      "Epoch 106/200\n",
      "537/537 [==============================] - 0s 52us/step - loss: 0.4832 - accuracy: 0.7561\n",
      "Epoch 107/200\n",
      "537/537 [==============================] - 0s 52us/step - loss: 0.4835 - accuracy: 0.7579\n",
      "Epoch 108/200\n",
      "537/537 [==============================] - 0s 50us/step - loss: 0.4843 - accuracy: 0.7542\n",
      "Epoch 109/200\n",
      "537/537 [==============================] - 0s 45us/step - loss: 0.4807 - accuracy: 0.7523\n",
      "Epoch 110/200\n",
      "537/537 [==============================] - 0s 46us/step - loss: 0.4803 - accuracy: 0.7542\n",
      "Epoch 111/200\n",
      "537/537 [==============================] - 0s 47us/step - loss: 0.4799 - accuracy: 0.7542\n",
      "Epoch 112/200\n",
      "537/537 [==============================] - 0s 49us/step - loss: 0.4820 - accuracy: 0.7579\n",
      "Epoch 113/200\n",
      "537/537 [==============================] - 0s 55us/step - loss: 0.4779 - accuracy: 0.7579\n",
      "Epoch 114/200\n",
      "537/537 [==============================] - 0s 46us/step - loss: 0.4804 - accuracy: 0.7616\n",
      "Epoch 115/200\n",
      "537/537 [==============================] - 0s 45us/step - loss: 0.4768 - accuracy: 0.7616\n",
      "Epoch 116/200\n",
      "537/537 [==============================] - 0s 44us/step - loss: 0.4780 - accuracy: 0.7598\n",
      "Epoch 117/200\n",
      "537/537 [==============================] - 0s 46us/step - loss: 0.4785 - accuracy: 0.7561\n",
      "Epoch 118/200\n",
      "537/537 [==============================] - 0s 48us/step - loss: 0.4738 - accuracy: 0.7616\n",
      "Epoch 119/200\n",
      "537/537 [==============================] - 0s 42us/step - loss: 0.4746 - accuracy: 0.7598\n",
      "Epoch 120/200\n",
      "537/537 [==============================] - 0s 43us/step - loss: 0.4734 - accuracy: 0.7672\n",
      "Epoch 121/200\n",
      "537/537 [==============================] - 0s 44us/step - loss: 0.4727 - accuracy: 0.7616\n",
      "Epoch 122/200\n",
      "537/537 [==============================] - 0s 41us/step - loss: 0.4740 - accuracy: 0.7598\n",
      "Epoch 123/200\n",
      "537/537 [==============================] - 0s 42us/step - loss: 0.4715 - accuracy: 0.7672\n",
      "Epoch 124/200\n",
      "537/537 [==============================] - 0s 46us/step - loss: 0.4707 - accuracy: 0.7672\n",
      "Epoch 125/200\n",
      "537/537 [==============================] - 0s 44us/step - loss: 0.4709 - accuracy: 0.7728\n",
      "Epoch 126/200\n",
      "537/537 [==============================] - 0s 43us/step - loss: 0.4680 - accuracy: 0.7728\n",
      "Epoch 127/200\n",
      "537/537 [==============================] - 0s 38us/step - loss: 0.4675 - accuracy: 0.7728\n",
      "Epoch 128/200\n",
      "537/537 [==============================] - 0s 68us/step - loss: 0.4712 - accuracy: 0.7672\n",
      "Epoch 129/200\n",
      "537/537 [==============================] - 0s 64us/step - loss: 0.4661 - accuracy: 0.7728\n",
      "Epoch 130/200\n",
      "537/537 [==============================] - 0s 63us/step - loss: 0.4665 - accuracy: 0.7747\n",
      "Epoch 131/200\n",
      "537/537 [==============================] - 0s 63us/step - loss: 0.4655 - accuracy: 0.7747\n",
      "Epoch 132/200\n",
      "537/537 [==============================] - 0s 56us/step - loss: 0.4654 - accuracy: 0.7747\n",
      "Epoch 133/200\n",
      "537/537 [==============================] - 0s 61us/step - loss: 0.4642 - accuracy: 0.7728\n",
      "Epoch 134/200\n",
      "537/537 [==============================] - 0s 60us/step - loss: 0.4656 - accuracy: 0.7747\n",
      "Epoch 135/200\n",
      "537/537 [==============================] - 0s 58us/step - loss: 0.4634 - accuracy: 0.7765\n",
      "Epoch 136/200\n",
      "537/537 [==============================] - 0s 59us/step - loss: 0.4635 - accuracy: 0.7784\n",
      "Epoch 137/200\n",
      "537/537 [==============================] - 0s 57us/step - loss: 0.4627 - accuracy: 0.7765\n",
      "Epoch 138/200\n",
      "537/537 [==============================] - 0s 47us/step - loss: 0.4622 - accuracy: 0.7747\n",
      "Epoch 139/200\n",
      "537/537 [==============================] - 0s 43us/step - loss: 0.4631 - accuracy: 0.7803\n",
      "Epoch 140/200\n",
      "537/537 [==============================] - 0s 44us/step - loss: 0.4619 - accuracy: 0.7803\n",
      "Epoch 141/200\n",
      "537/537 [==============================] - 0s 42us/step - loss: 0.4606 - accuracy: 0.7784\n",
      "Epoch 142/200\n",
      "537/537 [==============================] - 0s 45us/step - loss: 0.4606 - accuracy: 0.7840\n",
      "Epoch 143/200\n",
      "537/537 [==============================] - 0s 44us/step - loss: 0.4607 - accuracy: 0.7821\n",
      "Epoch 144/200\n",
      "537/537 [==============================] - 0s 45us/step - loss: 0.4603 - accuracy: 0.7747\n",
      "Epoch 145/200\n",
      "537/537 [==============================] - 0s 66us/step - loss: 0.4604 - accuracy: 0.7803\n",
      "Epoch 146/200\n",
      "537/537 [==============================] - 0s 66us/step - loss: 0.4617 - accuracy: 0.7803\n",
      "Epoch 147/200\n",
      "537/537 [==============================] - 0s 86us/step - loss: 0.4601 - accuracy: 0.7747\n",
      "Epoch 148/200\n",
      "537/537 [==============================] - 0s 59us/step - loss: 0.4599 - accuracy: 0.7821\n",
      "Epoch 149/200\n",
      "537/537 [==============================] - 0s 50us/step - loss: 0.4589 - accuracy: 0.7765\n",
      "Epoch 150/200\n",
      "537/537 [==============================] - 0s 48us/step - loss: 0.4592 - accuracy: 0.7821\n",
      "Epoch 151/200\n",
      "537/537 [==============================] - 0s 53us/step - loss: 0.4584 - accuracy: 0.7821\n",
      "Epoch 152/200\n",
      "537/537 [==============================] - 0s 51us/step - loss: 0.4586 - accuracy: 0.7821\n",
      "Epoch 153/200\n",
      "537/537 [==============================] - 0s 52us/step - loss: 0.4604 - accuracy: 0.7840\n",
      "Epoch 154/200\n",
      "537/537 [==============================] - 0s 46us/step - loss: 0.4588 - accuracy: 0.7728\n",
      "Epoch 155/200\n",
      "537/537 [==============================] - 0s 51us/step - loss: 0.4623 - accuracy: 0.7709\n",
      "Epoch 156/200\n",
      "537/537 [==============================] - 0s 48us/step - loss: 0.4588 - accuracy: 0.7821\n",
      "Epoch 157/200\n",
      "537/537 [==============================] - 0s 48us/step - loss: 0.4609 - accuracy: 0.7821\n",
      "Epoch 158/200\n",
      "537/537 [==============================] - 0s 66us/step - loss: 0.4605 - accuracy: 0.7654\n",
      "Epoch 159/200\n"
     ]
    },
    {
     "name": "stdout",
     "output_type": "stream",
     "text": [
      "537/537 [==============================] - 0s 45us/step - loss: 0.4589 - accuracy: 0.7840\n",
      "Epoch 160/200\n",
      "537/537 [==============================] - 0s 63us/step - loss: 0.4573 - accuracy: 0.7803\n",
      "Epoch 161/200\n",
      "537/537 [==============================] - 0s 48us/step - loss: 0.4573 - accuracy: 0.7821\n",
      "Epoch 162/200\n",
      "537/537 [==============================] - 0s 49us/step - loss: 0.4582 - accuracy: 0.7765\n",
      "Epoch 163/200\n",
      "537/537 [==============================] - 0s 43us/step - loss: 0.4575 - accuracy: 0.7821\n",
      "Epoch 164/200\n",
      "537/537 [==============================] - 0s 49us/step - loss: 0.4588 - accuracy: 0.7654\n",
      "Epoch 165/200\n",
      "537/537 [==============================] - 0s 46us/step - loss: 0.4572 - accuracy: 0.7821\n",
      "Epoch 166/200\n",
      "537/537 [==============================] - 0s 39us/step - loss: 0.4561 - accuracy: 0.7840\n",
      "Epoch 167/200\n",
      "537/537 [==============================] - 0s 42us/step - loss: 0.4577 - accuracy: 0.7709\n",
      "Epoch 168/200\n",
      "537/537 [==============================] - 0s 45us/step - loss: 0.4581 - accuracy: 0.7784\n",
      "Epoch 169/200\n",
      "537/537 [==============================] - 0s 44us/step - loss: 0.4582 - accuracy: 0.7765\n",
      "Epoch 170/200\n",
      "537/537 [==============================] - 0s 51us/step - loss: 0.4573 - accuracy: 0.7821\n",
      "Epoch 171/200\n",
      "537/537 [==============================] - 0s 59us/step - loss: 0.4565 - accuracy: 0.7821\n",
      "Epoch 172/200\n",
      "537/537 [==============================] - 0s 64us/step - loss: 0.4562 - accuracy: 0.7803\n",
      "Epoch 173/200\n",
      "537/537 [==============================] - 0s 69us/step - loss: 0.4585 - accuracy: 0.7691\n",
      "Epoch 174/200\n",
      "537/537 [==============================] - 0s 60us/step - loss: 0.4575 - accuracy: 0.7803\n",
      "Epoch 175/200\n",
      "537/537 [==============================] - 0s 58us/step - loss: 0.4565 - accuracy: 0.7821\n",
      "Epoch 176/200\n",
      "537/537 [==============================] - 0s 52us/step - loss: 0.4566 - accuracy: 0.7821\n",
      "Epoch 177/200\n",
      "537/537 [==============================] - 0s 53us/step - loss: 0.4566 - accuracy: 0.7765\n",
      "Epoch 178/200\n",
      "537/537 [==============================] - 0s 53us/step - loss: 0.4563 - accuracy: 0.7858\n",
      "Epoch 179/200\n",
      "537/537 [==============================] - 0s 51us/step - loss: 0.4574 - accuracy: 0.7691\n",
      "Epoch 180/200\n",
      "537/537 [==============================] - 0s 51us/step - loss: 0.4563 - accuracy: 0.7840\n",
      "Epoch 181/200\n",
      "537/537 [==============================] - 0s 49us/step - loss: 0.4592 - accuracy: 0.7803\n",
      "Epoch 182/200\n",
      "537/537 [==============================] - 0s 47us/step - loss: 0.4583 - accuracy: 0.7691\n",
      "Epoch 183/200\n",
      "537/537 [==============================] - 0s 44us/step - loss: 0.4557 - accuracy: 0.7747\n",
      "Epoch 184/200\n",
      "537/537 [==============================] - 0s 45us/step - loss: 0.4559 - accuracy: 0.7765\n",
      "Epoch 185/200\n",
      "537/537 [==============================] - 0s 40us/step - loss: 0.4567 - accuracy: 0.7821\n",
      "Epoch 186/200\n",
      "537/537 [==============================] - 0s 44us/step - loss: 0.4575 - accuracy: 0.7672\n",
      "Epoch 187/200\n",
      "537/537 [==============================] - 0s 44us/step - loss: 0.4592 - accuracy: 0.7803\n",
      "Epoch 188/200\n",
      "537/537 [==============================] - 0s 43us/step - loss: 0.4563 - accuracy: 0.7728\n",
      "Epoch 189/200\n",
      "537/537 [==============================] - 0s 42us/step - loss: 0.4561 - accuracy: 0.7840\n",
      "Epoch 190/200\n",
      "537/537 [==============================] - 0s 47us/step - loss: 0.4557 - accuracy: 0.7728\n",
      "Epoch 191/200\n",
      "537/537 [==============================] - 0s 53us/step - loss: 0.4543 - accuracy: 0.7784\n",
      "Epoch 192/200\n",
      "537/537 [==============================] - 0s 62us/step - loss: 0.4564 - accuracy: 0.7840\n",
      "Epoch 193/200\n",
      "537/537 [==============================] - 0s 50us/step - loss: 0.4559 - accuracy: 0.7728\n",
      "Epoch 194/200\n",
      "537/537 [==============================] - 0s 46us/step - loss: 0.4558 - accuracy: 0.7803\n",
      "Epoch 195/200\n",
      "537/537 [==============================] - 0s 51us/step - loss: 0.4592 - accuracy: 0.7765\n",
      "Epoch 196/200\n",
      "537/537 [==============================] - 0s 52us/step - loss: 0.4555 - accuracy: 0.7858\n",
      "Epoch 197/200\n",
      "537/537 [==============================] - 0s 53us/step - loss: 0.4551 - accuracy: 0.7784\n",
      "Epoch 198/200\n",
      "537/537 [==============================] - 0s 51us/step - loss: 0.4555 - accuracy: 0.7765\n",
      "Epoch 199/200\n",
      "537/537 [==============================] - 0s 54us/step - loss: 0.4566 - accuracy: 0.7803\n",
      "Epoch 200/200\n",
      "537/537 [==============================] - 0s 46us/step - loss: 0.4549 - accuracy: 0.7840\n",
      "231/231 [==============================] - 0s 158us/step\n",
      "ANN Score 0.7186146974563599\n",
      "231/231 [==============================] - 0s 25us/step\n"
     ]
    }
   ],
   "source": [
    "ANNCF.fit(xtrain, ytrain)\n",
    "print(\"ANN Score\", ANNCF.score(xtest, ytest))\n",
    "ANNscore=ANNCF.score(xtest,ytest)\n"
   ]
  },
  {
   "cell_type": "code",
   "execution_count": 89,
   "metadata": {},
   "outputs": [
    {
     "data": {
      "image/png": "[encoded data removed]",
      "text/plain": [
       "<Figure size 360x360 with 2 Axes>"
      ]
     },
     "metadata": {},
     "output_type": "display_data"
    }
   ],
   "source": [
    "#Confusion Matrix\n",
    "\n",
    "yprediciton8= ANNCF.predict(xtest)\n",
    "ytrue = ytest\n",
    "\n",
    "from sklearn.metrics import confusion_matrix\n",
    "CM = confusion_matrix(ytrue,yprediciton8)\n",
    "\n",
    "#CM visualization\n",
    "\n",
    "import seaborn as sns\n",
    "import matplotlib.pyplot as plt\n",
    "\n",
    "f, ax = plt.subplots(figsize=(5,5))\n",
    "sns.heatmap(CM,annot = True, linewidths=0.5,linecolor=\"red\",fmt=\".0f\",ax=ax)\n",
    "plt.xlabel(\"Prediction\")\n",
    "plt.ylabel(\"True\")\n",
    "plt.show()"
   ]
  },
  {
   "cell_type": "code",
   "execution_count": null,
   "metadata": {},
   "outputs": [],
   "source": []
  },
  {
   "cell_type": "code",
   "execution_count": null,
   "metadata": {},
   "outputs": [],
   "source": []
  },
  {
   "cell_type": "code",
   "execution_count": null,
   "metadata": {},
   "outputs": [],
   "source": []
  },
  {
   "cell_type": "code",
   "execution_count": 56,
   "metadata": {},
   "outputs": [
    {
     "data": {
      "text/plain": [
       "0.7396488695457325"
      ]
     },
     "execution_count": 56,
     "metadata": {},
     "output_type": "execute_result"
    }
   ],
   "source": [
    "#F1-Score For Logistic Regression\n",
    "from sklearn.metrics import f1_score\n",
    "LRf1 = f1_score(ytrue, yprediciton1, average='weighted') \n",
    "LRf1"
   ]
  },
  {
   "cell_type": "code",
   "execution_count": 57,
   "metadata": {},
   "outputs": [
    {
     "data": {
      "text/plain": [
       "0.7367438032321222"
      ]
     },
     "execution_count": 57,
     "metadata": {},
     "output_type": "execute_result"
    }
   ],
   "source": [
    "#K-NN\n",
    "KNNf1= f1_score(ytrue, yprediciton2, average='weighted') \n",
    "KNNf1"
   ]
  },
  {
   "cell_type": "code",
   "execution_count": 58,
   "metadata": {},
   "outputs": [
    {
     "data": {
      "text/plain": [
       "0.7503970108196265"
      ]
     },
     "execution_count": 58,
     "metadata": {},
     "output_type": "execute_result"
    }
   ],
   "source": [
    "#SVM\n",
    "SVMf1=f1_score(ytrue, yprediciton3, average='weighted') \n",
    "SVMf1"
   ]
  },
  {
   "cell_type": "code",
   "execution_count": 59,
   "metadata": {},
   "outputs": [
    {
     "data": {
      "text/plain": [
       "0.7463086857026251"
      ]
     },
     "execution_count": 59,
     "metadata": {},
     "output_type": "execute_result"
    }
   ],
   "source": [
    "#naive bayes\n",
    "NBf1 = f1_score(ytrue, yprediciton4, average='weighted') \n",
    "NBf1"
   ]
  },
  {
   "cell_type": "code",
   "execution_count": 60,
   "metadata": {},
   "outputs": [
    {
     "data": {
      "text/plain": [
       "0.7074652407618727"
      ]
     },
     "execution_count": 60,
     "metadata": {},
     "output_type": "execute_result"
    }
   ],
   "source": [
    "#Decision Tree\n",
    "DTf1=f1_score(ytrue, yprediciton5, average='weighted') \n",
    "DTf1"
   ]
  },
  {
   "cell_type": "code",
   "execution_count": 61,
   "metadata": {},
   "outputs": [
    {
     "data": {
      "text/plain": [
       "0.7687305514351853"
      ]
     },
     "execution_count": 61,
     "metadata": {},
     "output_type": "execute_result"
    }
   ],
   "source": [
    "#RandomForest\n",
    "RFf1=f1_score(ytrue, yprediciton6, average='weighted') \n",
    "RFf1 "
   ]
  },
  {
   "cell_type": "code",
   "execution_count": 82,
   "metadata": {},
   "outputs": [
    {
     "data": {
      "text/plain": [
       "0.72910927456382"
      ]
     },
     "execution_count": 82,
     "metadata": {},
     "output_type": "execute_result"
    }
   ],
   "source": [
    "#GBDT\n",
    "GBDTf1=f1_score(ytrue, yprediciton7, average='weighted') \n",
    "GBDTf1 "
   ]
  },
  {
   "cell_type": "code",
   "execution_count": 91,
   "metadata": {},
   "outputs": [
    {
     "data": {
      "text/plain": [
       "0.7233208139131484"
      ]
     },
     "execution_count": 91,
     "metadata": {},
     "output_type": "execute_result"
    }
   ],
   "source": [
    "#ANN\n",
    "ANNf1=f1_score(ytrue, yprediciton8, average='weighted') \n",
    "ANNf1 "
   ]
  },
  {
   "cell_type": "code",
   "execution_count": null,
   "metadata": {},
   "outputs": [],
   "source": []
  },
  {
   "cell_type": "code",
   "execution_count": 65,
   "metadata": {},
   "outputs": [
    {
     "data": {
      "application/vnd.plotly.v1+json": {
       "config": {
        "linkText": "Export to plot.ly",
        "plotlyServerURL": "https://plot.ly",
        "showLink": false
       },
       "data": [
        {
         "marker": {
          "color": "rgba(0,255,0,0.5)",
          "line": {
           "color": "rgb(0,0,0)",
           "width": 2
          }
         },
         "name": "Algortms Name",
         "text": [
          "Logistic Regression",
          "K-NN",
          "SVM",
          "Naive Bayes",
          "Decision Tree",
          "Random Forest",
          "Artificial Neural Network"
         ],
         "type": "scatter",
         "x": [
          "Logistic Regression",
          "K-NN",
          "SVM",
          "Naive Bayes",
          "Decision Tree",
          "Random Forest",
          "Artificial Neural Network"
         ],
         "y": [
          0.7445887445887446,
          0.7532467532467533,
          0.7532467532467533,
          0.7445887445887446,
          0.7012987012987013,
          0.7705627705627706,
          0.722659170627594
         ]
        }
       ],
       "layout": {
        "barmode": "group",
        "template": {
         "data": {
          "bar": [
           {
            "error_x": {
             "color": "#2a3f5f"
            },
            "error_y": {
             "color": "#2a3f5f"
            },
            "marker": {
             "line": {
              "color": "#E5ECF6",
              "width": 0.5
             }
            },
            "type": "bar"
           }
          ],
          "barpolar": [
           {
            "marker": {
             "line": {
              "color": "#E5ECF6",
              "width": 0.5
             }
            },
            "type": "barpolar"
           }
          ],
          "carpet": [
           {
            "aaxis": {
             "endlinecolor": "#2a3f5f",
             "gridcolor": "white",
             "linecolor": "white",
             "minorgridcolor": "white",
             "startlinecolor": "#2a3f5f"
            },
            "baxis": {
             "endlinecolor": "#2a3f5f",
             "gridcolor": "white",
             "linecolor": "white",
             "minorgridcolor": "white",
             "startlinecolor": "#2a3f5f"
            },
            "type": "carpet"
           }
          ],
          "choropleth": [
           {
            "colorbar": {
             "outlinewidth": 0,
             "ticks": ""
            },
            "type": "choropleth"
           }
          ],
          "contour": [
           {
            "colorbar": {
             "outlinewidth": 0,
             "ticks": ""
            },
            "colorscale": [
             [
              0,
              "#0d0887"
             ],
             [
              0.1111111111111111,
              "#46039f"
             ],
             [
              0.2222222222222222,
              "#7201a8"
             ],
             [
              0.3333333333333333,
              "#9c179e"
             ],
             [
              0.4444444444444444,
              "#bd3786"
             ],
             [
              0.5555555555555556,
              "#d8576b"
             ],
             [
              0.6666666666666666,
              "#ed7953"
             ],
             [
              0.7777777777777778,
              "#fb9f3a"
             ],
             [
              0.8888888888888888,
              "#fdca26"
             ],
             [
              1,
              "#f0f921"
             ]
            ],
            "type": "contour"
           }
          ],
          "contourcarpet": [
           {
            "colorbar": {
             "outlinewidth": 0,
             "ticks": ""
            },
            "type": "contourcarpet"
           }
          ],
          "heatmap": [
           {
            "colorbar": {
             "outlinewidth": 0,
             "ticks": ""
            },
            "colorscale": [
             [
              0,
              "#0d0887"
             ],
             [
              0.1111111111111111,
              "#46039f"
             ],
             [
              0.2222222222222222,
              "#7201a8"
             ],
             [
              0.3333333333333333,
              "#9c179e"
             ],
             [
              0.4444444444444444,
              "#bd3786"
             ],
             [
              0.5555555555555556,
              "#d8576b"
             ],
             [
              0.6666666666666666,
              "#ed7953"
             ],
             [
              0.7777777777777778,
              "#fb9f3a"
             ],
             [
              0.8888888888888888,
              "#fdca26"
             ],
             [
              1,
              "#f0f921"
             ]
            ],
            "type": "heatmap"
           }
          ],
          "heatmapgl": [
           {
            "colorbar": {
             "outlinewidth": 0,
             "ticks": ""
            },
            "colorscale": [
             [
              0,
              "#0d0887"
             ],
             [
              0.1111111111111111,
              "#46039f"
             ],
             [
              0.2222222222222222,
              "#7201a8"
             ],
             [
              0.3333333333333333,
              "#9c179e"
             ],
             [
              0.4444444444444444,
              "#bd3786"
             ],
             [
              0.5555555555555556,
              "#d8576b"
             ],
             [
              0.6666666666666666,
              "#ed7953"
             ],
             [
              0.7777777777777778,
              "#fb9f3a"
             ],
             [
              0.8888888888888888,
              "#fdca26"
             ],
             [
              1,
              "#f0f921"
             ]
            ],
            "type": "heatmapgl"
           }
          ],
          "histogram": [
           {
            "marker": {
             "colorbar": {
              "outlinewidth": 0,
              "ticks": ""
             }
            },
            "type": "histogram"
           }
          ],
          "histogram2d": [
           {
            "colorbar": {
             "outlinewidth": 0,
             "ticks": ""
            },
            "colorscale": [
             [
              0,
              "#0d0887"
             ],
             [
              0.1111111111111111,
              "#46039f"
             ],
             [
              0.2222222222222222,
              "#7201a8"
             ],
             [
              0.3333333333333333,
              "#9c179e"
             ],
             [
              0.4444444444444444,
              "#bd3786"
             ],
             [
              0.5555555555555556,
              "#d8576b"
             ],
             [
              0.6666666666666666,
              "#ed7953"
             ],
             [
              0.7777777777777778,
              "#fb9f3a"
             ],
             [
              0.8888888888888888,
              "#fdca26"
             ],
             [
              1,
              "#f0f921"
             ]
            ],
            "type": "histogram2d"
           }
          ],
          "histogram2dcontour": [
           {
            "colorbar": {
             "outlinewidth": 0,
             "ticks": ""
            },
            "colorscale": [
             [
              0,
              "#0d0887"
             ],
             [
              0.1111111111111111,
              "#46039f"
             ],
             [
              0.2222222222222222,
              "#7201a8"
             ],
             [
              0.3333333333333333,
              "#9c179e"
             ],
             [
              0.4444444444444444,
              "#bd3786"
             ],
             [
              0.5555555555555556,
              "#d8576b"
             ],
             [
              0.6666666666666666,
              "#ed7953"
             ],
             [
              0.7777777777777778,
              "#fb9f3a"
             ],
             [
              0.8888888888888888,
              "#fdca26"
             ],
             [
              1,
              "#f0f921"
             ]
            ],
            "type": "histogram2dcontour"
           }
          ],
          "mesh3d": [
           {
            "colorbar": {
             "outlinewidth": 0,
             "ticks": ""
            },
            "type": "mesh3d"
           }
          ],
          "parcoords": [
           {
            "line": {
             "colorbar": {
              "outlinewidth": 0,
              "ticks": ""
             }
            },
            "type": "parcoords"
           }
          ],
          "pie": [
           {
            "automargin": true,
            "type": "pie"
           }
          ],
          "scatter": [
           {
            "marker": {
             "colorbar": {
              "outlinewidth": 0,
              "ticks": ""
             }
            },
            "type": "scatter"
           }
          ],
          "scatter3d": [
           {
            "line": {
             "colorbar": {
              "outlinewidth": 0,
              "ticks": ""
             }
            },
            "marker": {
             "colorbar": {
              "outlinewidth": 0,
              "ticks": ""
             }
            },
            "type": "scatter3d"
           }
          ],
          "scattercarpet": [
           {
            "marker": {
             "colorbar": {
              "outlinewidth": 0,
              "ticks": ""
             }
            },
            "type": "scattercarpet"
           }
          ],
          "scattergeo": [
           {
            "marker": {
             "colorbar": {
              "outlinewidth": 0,
              "ticks": ""
             }
            },
            "type": "scattergeo"
           }
          ],
          "scattergl": [
           {
            "marker": {
             "colorbar": {
              "outlinewidth": 0,
              "ticks": ""
             }
            },
            "type": "scattergl"
           }
          ],
          "scattermapbox": [
           {
            "marker": {
             "colorbar": {
              "outlinewidth": 0,
              "ticks": ""
             }
            },
            "type": "scattermapbox"
           }
          ],
          "scatterpolar": [
           {
            "marker": {
             "colorbar": {
              "outlinewidth": 0,
              "ticks": ""
             }
            },
            "type": "scatterpolar"
           }
          ],
          "scatterpolargl": [
           {
            "marker": {
             "colorbar": {
              "outlinewidth": 0,
              "ticks": ""
             }
            },
            "type": "scatterpolargl"
           }
          ],
          "scatterternary": [
           {
            "marker": {
             "colorbar": {
              "outlinewidth": 0,
              "ticks": ""
             }
            },
            "type": "scatterternary"
           }
          ],
          "surface": [
           {
            "colorbar": {
             "outlinewidth": 0,
             "ticks": ""
            },
            "colorscale": [
             [
              0,
              "#0d0887"
             ],
             [
              0.1111111111111111,
              "#46039f"
             ],
             [
              0.2222222222222222,
              "#7201a8"
             ],
             [
              0.3333333333333333,
              "#9c179e"
             ],
             [
              0.4444444444444444,
              "#bd3786"
             ],
             [
              0.5555555555555556,
              "#d8576b"
             ],
             [
              0.6666666666666666,
              "#ed7953"
             ],
             [
              0.7777777777777778,
              "#fb9f3a"
             ],
             [
              0.8888888888888888,
              "#fdca26"
             ],
             [
              1,
              "#f0f921"
             ]
            ],
            "type": "surface"
           }
          ],
          "table": [
           {
            "cells": {
             "fill": {
              "color": "#EBF0F8"
             },
             "line": {
              "color": "white"
             }
            },
            "header": {
             "fill": {
              "color": "#C8D4E3"
             },
             "line": {
              "color": "white"
             }
            },
            "type": "table"
           }
          ]
         },
         "layout": {
          "annotationdefaults": {
           "arrowcolor": "#2a3f5f",
           "arrowhead": 0,
           "arrowwidth": 1
          },
          "coloraxis": {
           "colorbar": {
            "outlinewidth": 0,
            "ticks": ""
           }
          },
          "colorscale": {
           "diverging": [
            [
             0,
             "#8e0152"
            ],
            [
             0.1,
             "#c51b7d"
            ],
            [
             0.2,
             "#de77ae"
            ],
            [
             0.3,
             "#f1b6da"
            ],
            [
             0.4,
             "#fde0ef"
            ],
            [
             0.5,
             "#f7f7f7"
            ],
            [
             0.6,
             "#e6f5d0"
            ],
            [
             0.7,
             "#b8e186"
            ],
            [
             0.8,
             "#7fbc41"
            ],
            [
             0.9,
             "#4d9221"
            ],
            [
             1,
             "#276419"
            ]
           ],
           "sequential": [
            [
             0,
             "#0d0887"
            ],
            [
             0.1111111111111111,
             "#46039f"
            ],
            [
             0.2222222222222222,
             "#7201a8"
            ],
            [
             0.3333333333333333,
             "#9c179e"
            ],
            [
             0.4444444444444444,
             "#bd3786"
            ],
            [
             0.5555555555555556,
             "#d8576b"
            ],
            [
             0.6666666666666666,
             "#ed7953"
            ],
            [
             0.7777777777777778,
             "#fb9f3a"
            ],
            [
             0.8888888888888888,
             "#fdca26"
            ],
            [
             1,
             "#f0f921"
            ]
           ],
           "sequentialminus": [
            [
             0,
             "#0d0887"
            ],
            [
             0.1111111111111111,
             "#46039f"
            ],
            [
             0.2222222222222222,
             "#7201a8"
            ],
            [
             0.3333333333333333,
             "#9c179e"
            ],
            [
             0.4444444444444444,
             "#bd3786"
            ],
            [
             0.5555555555555556,
             "#d8576b"
            ],
            [
             0.6666666666666666,
             "#ed7953"
            ],
            [
             0.7777777777777778,
             "#fb9f3a"
            ],
            [
             0.8888888888888888,
             "#fdca26"
            ],
            [
             1,
             "#f0f921"
            ]
           ]
          },
          "colorway": [
           "#636efa",
           "#EF553B",
           "#00cc96",
           "#ab63fa",
           "#FFA15A",
           "#19d3f3",
           "#FF6692",
           "#B6E880",
           "#FF97FF",
           "#FECB52"
          ],
          "font": {
           "color": "#2a3f5f"
          },
          "geo": {
           "bgcolor": "white",
           "lakecolor": "white",
           "landcolor": "#E5ECF6",
           "showlakes": true,
           "showland": true,
           "subunitcolor": "white"
          },
          "hoverlabel": {
           "align": "left"
          },
          "hovermode": "closest",
          "mapbox": {
           "style": "light"
          },
          "paper_bgcolor": "white",
          "plot_bgcolor": "#E5ECF6",
          "polar": {
           "angularaxis": {
            "gridcolor": "white",
            "linecolor": "white",
            "ticks": ""
           },
           "bgcolor": "#E5ECF6",
           "radialaxis": {
            "gridcolor": "white",
            "linecolor": "white",
            "ticks": ""
           }
          },
          "scene": {
           "xaxis": {
            "backgroundcolor": "#E5ECF6",
            "gridcolor": "white",
            "gridwidth": 2,
            "linecolor": "white",
            "showbackground": true,
            "ticks": "",
            "zerolinecolor": "white"
           },
           "yaxis": {
            "backgroundcolor": "#E5ECF6",
            "gridcolor": "white",
            "gridwidth": 2,
            "linecolor": "white",
            "showbackground": true,
            "ticks": "",
            "zerolinecolor": "white"
           },
           "zaxis": {
            "backgroundcolor": "#E5ECF6",
            "gridcolor": "white",
            "gridwidth": 2,
            "linecolor": "white",
            "showbackground": true,
            "ticks": "",
            "zerolinecolor": "white"
           }
          },
          "shapedefaults": {
           "line": {
            "color": "#2a3f5f"
           }
          },
          "ternary": {
           "aaxis": {
            "gridcolor": "white",
            "linecolor": "white",
            "ticks": ""
           },
           "baxis": {
            "gridcolor": "white",
            "linecolor": "white",
            "ticks": ""
           },
           "bgcolor": "#E5ECF6",
           "caxis": {
            "gridcolor": "white",
            "linecolor": "white",
            "ticks": ""
           }
          },
          "title": {
           "x": 0.05
          },
          "xaxis": {
           "automargin": true,
           "gridcolor": "white",
           "linecolor": "white",
           "ticks": "",
           "title": {
            "standoff": 15
           },
           "zerolinecolor": "white",
           "zerolinewidth": 2
          },
          "yaxis": {
           "automargin": true,
           "gridcolor": "white",
           "linecolor": "white",
           "ticks": "",
           "title": {
            "standoff": 15
           },
           "zerolinecolor": "white",
           "zerolinewidth": 2
          }
         }
        },
        "xaxis": {
         "ticklen": 5,
         "title": {
          "text": "ML Algorithms"
         },
         "zeroline": false
        },
        "yaxis": {
         "ticklen": 5,
         "title": {
          "text": "Prediction Scores"
         },
         "zeroline": false
        }
       }
      },
      "text/html": [
       "<div>\n",
       "        \n",
       "        \n",
       "            <div id=\"405db314-a3a5-4cfc-8e1a-d286501927b7\" class=\"plotly-graph-div\" style=\"height:525px; width:100%;\"></div>\n",
       "            <script type=\"text/javascript\">\n",
       "                require([\"plotly\"], function(Plotly) {\n",
       "                    window.PLOTLYENV=window.PLOTLYENV || {};\n",
       "                    \n",
       "                if (document.getElementById(\"405db314-a3a5-4cfc-8e1a-d286501927b7\")) {\n",
       "                    Plotly.newPlot(\n",
       "                        '405db314-a3a5-4cfc-8e1a-d286501927b7',\n",
       "                        [{\"marker\": {\"color\": \"rgba(0,255,0,0.5)\", \"line\": {\"color\": \"rgb(0,0,0)\", \"width\": 2}}, \"name\": \"Algortms Name\", \"text\": [\"Logistic Regression\", \"K-NN\", \"SVM\", \"Naive Bayes\", \"Decision Tree\", \"Random Forest\", \"Artificial Neural Network\"], \"type\": \"scatter\", \"x\": [\"Logistic Regression\", \"K-NN\", \"SVM\", \"Naive Bayes\", \"Decision Tree\", \"Random Forest\", \"Artificial Neural Network\"], \"y\": [0.7445887445887446, 0.7532467532467533, 0.7532467532467533, 0.7445887445887446, 0.7012987012987013, 0.7705627705627706, 0.722659170627594]}],\n",
       "                        {\"barmode\": \"group\", \"template\": {\"data\": {\"bar\": [{\"error_x\": {\"color\": \"#2a3f5f\"}, \"error_y\": {\"color\": \"#2a3f5f\"}, \"marker\": {\"line\": {\"color\": \"#E5ECF6\", \"width\": 0.5}}, \"type\": \"bar\"}], \"barpolar\": [{\"marker\": {\"line\": {\"color\": \"#E5ECF6\", \"width\": 0.5}}, \"type\": \"barpolar\"}], \"carpet\": [{\"aaxis\": {\"endlinecolor\": \"#2a3f5f\", \"gridcolor\": \"white\", \"linecolor\": \"white\", \"minorgridcolor\": \"white\", \"startlinecolor\": \"#2a3f5f\"}, \"baxis\": {\"endlinecolor\": \"#2a3f5f\", \"gridcolor\": \"white\", \"linecolor\": \"white\", \"minorgridcolor\": \"white\", \"startlinecolor\": \"#2a3f5f\"}, \"type\": \"carpet\"}], \"choropleth\": [{\"colorbar\": {\"outlinewidth\": 0, \"ticks\": \"\"}, \"type\": \"choropleth\"}], \"contour\": [{\"colorbar\": {\"outlinewidth\": 0, \"ticks\": \"\"}, \"colorscale\": [[0.0, \"#0d0887\"], [0.1111111111111111, \"#46039f\"], [0.2222222222222222, \"#7201a8\"], [0.3333333333333333, \"#9c179e\"], [0.4444444444444444, \"#bd3786\"], [0.5555555555555556, \"#d8576b\"], [0.6666666666666666, \"#ed7953\"], [0.7777777777777778, \"#fb9f3a\"], [0.8888888888888888, \"#fdca26\"], [1.0, \"#f0f921\"]], \"type\": \"contour\"}], \"contourcarpet\": [{\"colorbar\": {\"outlinewidth\": 0, \"ticks\": \"\"}, \"type\": \"contourcarpet\"}], \"heatmap\": [{\"colorbar\": {\"outlinewidth\": 0, \"ticks\": \"\"}, \"colorscale\": [[0.0, \"#0d0887\"], [0.1111111111111111, \"#46039f\"], [0.2222222222222222, \"#7201a8\"], [0.3333333333333333, \"#9c179e\"], [0.4444444444444444, \"#bd3786\"], [0.5555555555555556, \"#d8576b\"], [0.6666666666666666, \"#ed7953\"], [0.7777777777777778, \"#fb9f3a\"], [0.8888888888888888, \"#fdca26\"], [1.0, \"#f0f921\"]], \"type\": \"heatmap\"}], \"heatmapgl\": [{\"colorbar\": {\"outlinewidth\": 0, \"ticks\": \"\"}, \"colorscale\": [[0.0, \"#0d0887\"], [0.1111111111111111, \"#46039f\"], [0.2222222222222222, \"#7201a8\"], [0.3333333333333333, \"#9c179e\"], [0.4444444444444444, \"#bd3786\"], [0.5555555555555556, \"#d8576b\"], [0.6666666666666666, \"#ed7953\"], [0.7777777777777778, \"#fb9f3a\"], [0.8888888888888888, \"#fdca26\"], [1.0, \"#f0f921\"]], \"type\": \"heatmapgl\"}], \"histogram\": [{\"marker\": {\"colorbar\": {\"outlinewidth\": 0, \"ticks\": \"\"}}, \"type\": \"histogram\"}], \"histogram2d\": [{\"colorbar\": {\"outlinewidth\": 0, \"ticks\": \"\"}, \"colorscale\": [[0.0, \"#0d0887\"], [0.1111111111111111, \"#46039f\"], [0.2222222222222222, \"#7201a8\"], [0.3333333333333333, \"#9c179e\"], [0.4444444444444444, \"#bd3786\"], [0.5555555555555556, \"#d8576b\"], [0.6666666666666666, \"#ed7953\"], [0.7777777777777778, \"#fb9f3a\"], [0.8888888888888888, \"#fdca26\"], [1.0, \"#f0f921\"]], \"type\": \"histogram2d\"}], \"histogram2dcontour\": [{\"colorbar\": {\"outlinewidth\": 0, \"ticks\": \"\"}, \"colorscale\": [[0.0, \"#0d0887\"], [0.1111111111111111, \"#46039f\"], [0.2222222222222222, \"#7201a8\"], [0.3333333333333333, \"#9c179e\"], [0.4444444444444444, \"#bd3786\"], [0.5555555555555556, \"#d8576b\"], [0.6666666666666666, \"#ed7953\"], [0.7777777777777778, \"#fb9f3a\"], [0.8888888888888888, \"#fdca26\"], [1.0, \"#f0f921\"]], \"type\": \"histogram2dcontour\"}], \"mesh3d\": [{\"colorbar\": {\"outlinewidth\": 0, \"ticks\": \"\"}, \"type\": \"mesh3d\"}], \"parcoords\": [{\"line\": {\"colorbar\": {\"outlinewidth\": 0, \"ticks\": \"\"}}, \"type\": \"parcoords\"}], \"pie\": [{\"automargin\": true, \"type\": \"pie\"}], \"scatter\": [{\"marker\": {\"colorbar\": {\"outlinewidth\": 0, \"ticks\": \"\"}}, \"type\": \"scatter\"}], \"scatter3d\": [{\"line\": {\"colorbar\": {\"outlinewidth\": 0, \"ticks\": \"\"}}, \"marker\": {\"colorbar\": {\"outlinewidth\": 0, \"ticks\": \"\"}}, \"type\": \"scatter3d\"}], \"scattercarpet\": [{\"marker\": {\"colorbar\": {\"outlinewidth\": 0, \"ticks\": \"\"}}, \"type\": \"scattercarpet\"}], \"scattergeo\": [{\"marker\": {\"colorbar\": {\"outlinewidth\": 0, \"ticks\": \"\"}}, \"type\": \"scattergeo\"}], \"scattergl\": [{\"marker\": {\"colorbar\": {\"outlinewidth\": 0, \"ticks\": \"\"}}, \"type\": \"scattergl\"}], \"scattermapbox\": [{\"marker\": {\"colorbar\": {\"outlinewidth\": 0, \"ticks\": \"\"}}, \"type\": \"scattermapbox\"}], \"scatterpolar\": [{\"marker\": {\"colorbar\": {\"outlinewidth\": 0, \"ticks\": \"\"}}, \"type\": \"scatterpolar\"}], \"scatterpolargl\": [{\"marker\": {\"colorbar\": {\"outlinewidth\": 0, \"ticks\": \"\"}}, \"type\": \"scatterpolargl\"}], \"scatterternary\": [{\"marker\": {\"colorbar\": {\"outlinewidth\": 0, \"ticks\": \"\"}}, \"type\": \"scatterternary\"}], \"surface\": [{\"colorbar\": {\"outlinewidth\": 0, \"ticks\": \"\"}, \"colorscale\": [[0.0, \"#0d0887\"], [0.1111111111111111, \"#46039f\"], [0.2222222222222222, \"#7201a8\"], [0.3333333333333333, \"#9c179e\"], [0.4444444444444444, \"#bd3786\"], [0.5555555555555556, \"#d8576b\"], [0.6666666666666666, \"#ed7953\"], [0.7777777777777778, \"#fb9f3a\"], [0.8888888888888888, \"#fdca26\"], [1.0, \"#f0f921\"]], \"type\": \"surface\"}], \"table\": [{\"cells\": {\"fill\": {\"color\": \"#EBF0F8\"}, \"line\": {\"color\": \"white\"}}, \"header\": {\"fill\": {\"color\": \"#C8D4E3\"}, \"line\": {\"color\": \"white\"}}, \"type\": \"table\"}]}, \"layout\": {\"annotationdefaults\": {\"arrowcolor\": \"#2a3f5f\", \"arrowhead\": 0, \"arrowwidth\": 1}, \"coloraxis\": {\"colorbar\": {\"outlinewidth\": 0, \"ticks\": \"\"}}, \"colorscale\": {\"diverging\": [[0, \"#8e0152\"], [0.1, \"#c51b7d\"], [0.2, \"#de77ae\"], [0.3, \"#f1b6da\"], [0.4, \"#fde0ef\"], [0.5, \"#f7f7f7\"], [0.6, \"#e6f5d0\"], [0.7, \"#b8e186\"], [0.8, \"#7fbc41\"], [0.9, \"#4d9221\"], [1, \"#276419\"]], \"sequential\": [[0.0, \"#0d0887\"], [0.1111111111111111, \"#46039f\"], [0.2222222222222222, \"#7201a8\"], [0.3333333333333333, \"#9c179e\"], [0.4444444444444444, \"#bd3786\"], [0.5555555555555556, \"#d8576b\"], [0.6666666666666666, \"#ed7953\"], [0.7777777777777778, \"#fb9f3a\"], [0.8888888888888888, \"#fdca26\"], [1.0, \"#f0f921\"]], \"sequentialminus\": [[0.0, \"#0d0887\"], [0.1111111111111111, \"#46039f\"], [0.2222222222222222, \"#7201a8\"], [0.3333333333333333, \"#9c179e\"], [0.4444444444444444, \"#bd3786\"], [0.5555555555555556, \"#d8576b\"], [0.6666666666666666, \"#ed7953\"], [0.7777777777777778, \"#fb9f3a\"], [0.8888888888888888, \"#fdca26\"], [1.0, \"#f0f921\"]]}, \"colorway\": [\"#636efa\", \"#EF553B\", \"#00cc96\", \"#ab63fa\", \"#FFA15A\", \"#19d3f3\", \"#FF6692\", \"#B6E880\", \"#FF97FF\", \"#FECB52\"], \"font\": {\"color\": \"#2a3f5f\"}, \"geo\": {\"bgcolor\": \"white\", \"lakecolor\": \"white\", \"landcolor\": \"#E5ECF6\", \"showlakes\": true, \"showland\": true, \"subunitcolor\": \"white\"}, \"hoverlabel\": {\"align\": \"left\"}, \"hovermode\": \"closest\", \"mapbox\": {\"style\": \"light\"}, \"paper_bgcolor\": \"white\", \"plot_bgcolor\": \"#E5ECF6\", \"polar\": {\"angularaxis\": {\"gridcolor\": \"white\", \"linecolor\": \"white\", \"ticks\": \"\"}, \"bgcolor\": \"#E5ECF6\", \"radialaxis\": {\"gridcolor\": \"white\", \"linecolor\": \"white\", \"ticks\": \"\"}}, \"scene\": {\"xaxis\": {\"backgroundcolor\": \"#E5ECF6\", \"gridcolor\": \"white\", \"gridwidth\": 2, \"linecolor\": \"white\", \"showbackground\": true, \"ticks\": \"\", \"zerolinecolor\": \"white\"}, \"yaxis\": {\"backgroundcolor\": \"#E5ECF6\", \"gridcolor\": \"white\", \"gridwidth\": 2, \"linecolor\": \"white\", \"showbackground\": true, \"ticks\": \"\", \"zerolinecolor\": \"white\"}, \"zaxis\": {\"backgroundcolor\": \"#E5ECF6\", \"gridcolor\": \"white\", \"gridwidth\": 2, \"linecolor\": \"white\", \"showbackground\": true, \"ticks\": \"\", \"zerolinecolor\": \"white\"}}, \"shapedefaults\": {\"line\": {\"color\": \"#2a3f5f\"}}, \"ternary\": {\"aaxis\": {\"gridcolor\": \"white\", \"linecolor\": \"white\", \"ticks\": \"\"}, \"baxis\": {\"gridcolor\": \"white\", \"linecolor\": \"white\", \"ticks\": \"\"}, \"bgcolor\": \"#E5ECF6\", \"caxis\": {\"gridcolor\": \"white\", \"linecolor\": \"white\", \"ticks\": \"\"}}, \"title\": {\"x\": 0.05}, \"xaxis\": {\"automargin\": true, \"gridcolor\": \"white\", \"linecolor\": \"white\", \"ticks\": \"\", \"title\": {\"standoff\": 15}, \"zerolinecolor\": \"white\", \"zerolinewidth\": 2}, \"yaxis\": {\"automargin\": true, \"gridcolor\": \"white\", \"linecolor\": \"white\", \"ticks\": \"\", \"title\": {\"standoff\": 15}, \"zerolinecolor\": \"white\", \"zerolinewidth\": 2}}}, \"xaxis\": {\"ticklen\": 5, \"title\": {\"text\": \"ML Algorithms\"}, \"zeroline\": false}, \"yaxis\": {\"ticklen\": 5, \"title\": {\"text\": \"Prediction Scores\"}, \"zeroline\": false}},\n",
       "                        {\"responsive\": true}\n",
       "                    ).then(function(){\n",
       "                            \n",
       "var gd = document.getElementById('405db314-a3a5-4cfc-8e1a-d286501927b7');\n",
       "var x = new MutationObserver(function (mutations, observer) {{\n",
       "        var display = window.getComputedStyle(gd).display;\n",
       "        if (!display || display === 'none') {{\n",
       "            console.log([gd, 'removed!']);\n",
       "            Plotly.purge(gd);\n",
       "            observer.disconnect();\n",
       "        }}\n",
       "}});\n",
       "\n",
       "// Listen for the removal of the full notebook cells\n",
       "var notebookContainer = gd.closest('#notebook-container');\n",
       "if (notebookContainer) {{\n",
       "    x.observe(notebookContainer, {childList: true});\n",
       "}}\n",
       "\n",
       "// Listen for the clearing of the current output cell\n",
       "var outputEl = gd.closest('.output');\n",
       "if (outputEl) {{\n",
       "    x.observe(outputEl, {childList: true});\n",
       "}}\n",
       "\n",
       "                        })\n",
       "                };\n",
       "                });\n",
       "            </script>\n",
       "        </div>"
      ]
     },
     "metadata": {},
     "output_type": "display_data"
    }
   ],
   "source": [
    "#Scatter Plot For Comparasion of ML Algorithms Prediciton Score\n",
    "scores=[LRscore,KNNscore,SVMscore,NBscore,DTCscore,RFCscore,mean]\n",
    "AlgorthmsName=[\"Logistic Regression\",\"K-NN\",\"SVM\",\"Naive Bayes\",\"Decision Tree\", \"Random Forest\",\"Artificial Neural Network\"]\n",
    "\n",
    "#create traces\n",
    "\n",
    "trace1 = go.Scatter(\n",
    "    x = AlgorthmsName,\n",
    "    y= scores,\n",
    "    name='Algortms Name',\n",
    "    marker =dict(color='rgba(0,255,0,0.5)',\n",
    "               line =dict(color='rgb(0,0,0)',width=2)),\n",
    "                text=AlgorthmsName\n",
    ")\n",
    "data = [trace1]\n",
    "\n",
    "layout = go.Layout(barmode = \"group\",\n",
    "                  xaxis= dict(title= 'ML Algorithms',ticklen= 5,zeroline= False),\n",
    "              yaxis= dict(title= 'Prediction Scores',ticklen= 5,zeroline= False))\n",
    "fig = go.Figure(data = data, layout = layout)\n",
    "iplot(fig)"
   ]
  },
  {
   "cell_type": "code",
   "execution_count": null,
   "metadata": {},
   "outputs": [],
   "source": []
  },
  {
   "cell_type": "code",
   "execution_count": 64,
   "metadata": {},
   "outputs": [
    {
     "data": {
      "application/vnd.plotly.v1+json": {
       "config": {
        "linkText": "Export to plot.ly",
        "plotlyServerURL": "https://plot.ly",
        "showLink": false
       },
       "data": [
        {
         "marker": {
          "color": "rgba(225,126,0,0.5)",
          "line": {
           "color": "rgb(0,0,0)",
           "width": 2
          }
         },
         "name": "Algortms Name",
         "text": [
          "Logistic Regression",
          "K-NN",
          "SVM",
          "Naive Bayes",
          "Decision Tree",
          "Random Forest",
          "Artificial Neural Network"
         ],
         "type": "scatter",
         "x": [
          "Logistic Regression",
          "K-NN",
          "SVM",
          "Naive Bayes",
          "Decision Tree",
          "Random Forest",
          "Artificial Neural Network"
         ],
         "y": [
          0.7396488695457325,
          0.7367438032321222,
          0.7503970108196265,
          0.7463086857026251,
          0.7074652407618727,
          0.7687305514351853
         ]
        }
       ],
       "layout": {
        "barmode": "group",
        "template": {
         "data": {
          "bar": [
           {
            "error_x": {
             "color": "#2a3f5f"
            },
            "error_y": {
             "color": "#2a3f5f"
            },
            "marker": {
             "line": {
              "color": "#E5ECF6",
              "width": 0.5
             }
            },
            "type": "bar"
           }
          ],
          "barpolar": [
           {
            "marker": {
             "line": {
              "color": "#E5ECF6",
              "width": 0.5
             }
            },
            "type": "barpolar"
           }
          ],
          "carpet": [
           {
            "aaxis": {
             "endlinecolor": "#2a3f5f",
             "gridcolor": "white",
             "linecolor": "white",
             "minorgridcolor": "white",
             "startlinecolor": "#2a3f5f"
            },
            "baxis": {
             "endlinecolor": "#2a3f5f",
             "gridcolor": "white",
             "linecolor": "white",
             "minorgridcolor": "white",
             "startlinecolor": "#2a3f5f"
            },
            "type": "carpet"
           }
          ],
          "choropleth": [
           {
            "colorbar": {
             "outlinewidth": 0,
             "ticks": ""
            },
            "type": "choropleth"
           }
          ],
          "contour": [
           {
            "colorbar": {
             "outlinewidth": 0,
             "ticks": ""
            },
            "colorscale": [
             [
              0,
              "#0d0887"
             ],
             [
              0.1111111111111111,
              "#46039f"
             ],
             [
              0.2222222222222222,
              "#7201a8"
             ],
             [
              0.3333333333333333,
              "#9c179e"
             ],
             [
              0.4444444444444444,
              "#bd3786"
             ],
             [
              0.5555555555555556,
              "#d8576b"
             ],
             [
              0.6666666666666666,
              "#ed7953"
             ],
             [
              0.7777777777777778,
              "#fb9f3a"
             ],
             [
              0.8888888888888888,
              "#fdca26"
             ],
             [
              1,
              "#f0f921"
             ]
            ],
            "type": "contour"
           }
          ],
          "contourcarpet": [
           {
            "colorbar": {
             "outlinewidth": 0,
             "ticks": ""
            },
            "type": "contourcarpet"
           }
          ],
          "heatmap": [
           {
            "colorbar": {
             "outlinewidth": 0,
             "ticks": ""
            },
            "colorscale": [
             [
              0,
              "#0d0887"
             ],
             [
              0.1111111111111111,
              "#46039f"
             ],
             [
              0.2222222222222222,
              "#7201a8"
             ],
             [
              0.3333333333333333,
              "#9c179e"
             ],
             [
              0.4444444444444444,
              "#bd3786"
             ],
             [
              0.5555555555555556,
              "#d8576b"
             ],
             [
              0.6666666666666666,
              "#ed7953"
             ],
             [
              0.7777777777777778,
              "#fb9f3a"
             ],
             [
              0.8888888888888888,
              "#fdca26"
             ],
             [
              1,
              "#f0f921"
             ]
            ],
            "type": "heatmap"
           }
          ],
          "heatmapgl": [
           {
            "colorbar": {
             "outlinewidth": 0,
             "ticks": ""
            },
            "colorscale": [
             [
              0,
              "#0d0887"
             ],
             [
              0.1111111111111111,
              "#46039f"
             ],
             [
              0.2222222222222222,
              "#7201a8"
             ],
             [
              0.3333333333333333,
              "#9c179e"
             ],
             [
              0.4444444444444444,
              "#bd3786"
             ],
             [
              0.5555555555555556,
              "#d8576b"
             ],
             [
              0.6666666666666666,
              "#ed7953"
             ],
             [
              0.7777777777777778,
              "#fb9f3a"
             ],
             [
              0.8888888888888888,
              "#fdca26"
             ],
             [
              1,
              "#f0f921"
             ]
            ],
            "type": "heatmapgl"
           }
          ],
          "histogram": [
           {
            "marker": {
             "colorbar": {
              "outlinewidth": 0,
              "ticks": ""
             }
            },
            "type": "histogram"
           }
          ],
          "histogram2d": [
           {
            "colorbar": {
             "outlinewidth": 0,
             "ticks": ""
            },
            "colorscale": [
             [
              0,
              "#0d0887"
             ],
             [
              0.1111111111111111,
              "#46039f"
             ],
             [
              0.2222222222222222,
              "#7201a8"
             ],
             [
              0.3333333333333333,
              "#9c179e"
             ],
             [
              0.4444444444444444,
              "#bd3786"
             ],
             [
              0.5555555555555556,
              "#d8576b"
             ],
             [
              0.6666666666666666,
              "#ed7953"
             ],
             [
              0.7777777777777778,
              "#fb9f3a"
             ],
             [
              0.8888888888888888,
              "#fdca26"
             ],
             [
              1,
              "#f0f921"
             ]
            ],
            "type": "histogram2d"
           }
          ],
          "histogram2dcontour": [
           {
            "colorbar": {
             "outlinewidth": 0,
             "ticks": ""
            },
            "colorscale": [
             [
              0,
              "#0d0887"
             ],
             [
              0.1111111111111111,
              "#46039f"
             ],
             [
              0.2222222222222222,
              "#7201a8"
             ],
             [
              0.3333333333333333,
              "#9c179e"
             ],
             [
              0.4444444444444444,
              "#bd3786"
             ],
             [
              0.5555555555555556,
              "#d8576b"
             ],
             [
              0.6666666666666666,
              "#ed7953"
             ],
             [
              0.7777777777777778,
              "#fb9f3a"
             ],
             [
              0.8888888888888888,
              "#fdca26"
             ],
             [
              1,
              "#f0f921"
             ]
            ],
            "type": "histogram2dcontour"
           }
          ],
          "mesh3d": [
           {
            "colorbar": {
             "outlinewidth": 0,
             "ticks": ""
            },
            "type": "mesh3d"
           }
          ],
          "parcoords": [
           {
            "line": {
             "colorbar": {
              "outlinewidth": 0,
              "ticks": ""
             }
            },
            "type": "parcoords"
           }
          ],
          "pie": [
           {
            "automargin": true,
            "type": "pie"
           }
          ],
          "scatter": [
           {
            "marker": {
             "colorbar": {
              "outlinewidth": 0,
              "ticks": ""
             }
            },
            "type": "scatter"
           }
          ],
          "scatter3d": [
           {
            "line": {
             "colorbar": {
              "outlinewidth": 0,
              "ticks": ""
             }
            },
            "marker": {
             "colorbar": {
              "outlinewidth": 0,
              "ticks": ""
             }
            },
            "type": "scatter3d"
           }
          ],
          "scattercarpet": [
           {
            "marker": {
             "colorbar": {
              "outlinewidth": 0,
              "ticks": ""
             }
            },
            "type": "scattercarpet"
           }
          ],
          "scattergeo": [
           {
            "marker": {
             "colorbar": {
              "outlinewidth": 0,
              "ticks": ""
             }
            },
            "type": "scattergeo"
           }
          ],
          "scattergl": [
           {
            "marker": {
             "colorbar": {
              "outlinewidth": 0,
              "ticks": ""
             }
            },
            "type": "scattergl"
           }
          ],
          "scattermapbox": [
           {
            "marker": {
             "colorbar": {
              "outlinewidth": 0,
              "ticks": ""
             }
            },
            "type": "scattermapbox"
           }
          ],
          "scatterpolar": [
           {
            "marker": {
             "colorbar": {
              "outlinewidth": 0,
              "ticks": ""
             }
            },
            "type": "scatterpolar"
           }
          ],
          "scatterpolargl": [
           {
            "marker": {
             "colorbar": {
              "outlinewidth": 0,
              "ticks": ""
             }
            },
            "type": "scatterpolargl"
           }
          ],
          "scatterternary": [
           {
            "marker": {
             "colorbar": {
              "outlinewidth": 0,
              "ticks": ""
             }
            },
            "type": "scatterternary"
           }
          ],
          "surface": [
           {
            "colorbar": {
             "outlinewidth": 0,
             "ticks": ""
            },
            "colorscale": [
             [
              0,
              "#0d0887"
             ],
             [
              0.1111111111111111,
              "#46039f"
             ],
             [
              0.2222222222222222,
              "#7201a8"
             ],
             [
              0.3333333333333333,
              "#9c179e"
             ],
             [
              0.4444444444444444,
              "#bd3786"
             ],
             [
              0.5555555555555556,
              "#d8576b"
             ],
             [
              0.6666666666666666,
              "#ed7953"
             ],
             [
              0.7777777777777778,
              "#fb9f3a"
             ],
             [
              0.8888888888888888,
              "#fdca26"
             ],
             [
              1,
              "#f0f921"
             ]
            ],
            "type": "surface"
           }
          ],
          "table": [
           {
            "cells": {
             "fill": {
              "color": "#EBF0F8"
             },
             "line": {
              "color": "white"
             }
            },
            "header": {
             "fill": {
              "color": "#C8D4E3"
             },
             "line": {
              "color": "white"
             }
            },
            "type": "table"
           }
          ]
         },
         "layout": {
          "annotationdefaults": {
           "arrowcolor": "#2a3f5f",
           "arrowhead": 0,
           "arrowwidth": 1
          },
          "coloraxis": {
           "colorbar": {
            "outlinewidth": 0,
            "ticks": ""
           }
          },
          "colorscale": {
           "diverging": [
            [
             0,
             "#8e0152"
            ],
            [
             0.1,
             "#c51b7d"
            ],
            [
             0.2,
             "#de77ae"
            ],
            [
             0.3,
             "#f1b6da"
            ],
            [
             0.4,
             "#fde0ef"
            ],
            [
             0.5,
             "#f7f7f7"
            ],
            [
             0.6,
             "#e6f5d0"
            ],
            [
             0.7,
             "#b8e186"
            ],
            [
             0.8,
             "#7fbc41"
            ],
            [
             0.9,
             "#4d9221"
            ],
            [
             1,
             "#276419"
            ]
           ],
           "sequential": [
            [
             0,
             "#0d0887"
            ],
            [
             0.1111111111111111,
             "#46039f"
            ],
            [
             0.2222222222222222,
             "#7201a8"
            ],
            [
             0.3333333333333333,
             "#9c179e"
            ],
            [
             0.4444444444444444,
             "#bd3786"
            ],
            [
             0.5555555555555556,
             "#d8576b"
            ],
            [
             0.6666666666666666,
             "#ed7953"
            ],
            [
             0.7777777777777778,
             "#fb9f3a"
            ],
            [
             0.8888888888888888,
             "#fdca26"
            ],
            [
             1,
             "#f0f921"
            ]
           ],
           "sequentialminus": [
            [
             0,
             "#0d0887"
            ],
            [
             0.1111111111111111,
             "#46039f"
            ],
            [
             0.2222222222222222,
             "#7201a8"
            ],
            [
             0.3333333333333333,
             "#9c179e"
            ],
            [
             0.4444444444444444,
             "#bd3786"
            ],
            [
             0.5555555555555556,
             "#d8576b"
            ],
            [
             0.6666666666666666,
             "#ed7953"
            ],
            [
             0.7777777777777778,
             "#fb9f3a"
            ],
            [
             0.8888888888888888,
             "#fdca26"
            ],
            [
             1,
             "#f0f921"
            ]
           ]
          },
          "colorway": [
           "#636efa",
           "#EF553B",
           "#00cc96",
           "#ab63fa",
           "#FFA15A",
           "#19d3f3",
           "#FF6692",
           "#B6E880",
           "#FF97FF",
           "#FECB52"
          ],
          "font": {
           "color": "#2a3f5f"
          },
          "geo": {
           "bgcolor": "white",
           "lakecolor": "white",
           "landcolor": "#E5ECF6",
           "showlakes": true,
           "showland": true,
           "subunitcolor": "white"
          },
          "hoverlabel": {
           "align": "left"
          },
          "hovermode": "closest",
          "mapbox": {
           "style": "light"
          },
          "paper_bgcolor": "white",
          "plot_bgcolor": "#E5ECF6",
          "polar": {
           "angularaxis": {
            "gridcolor": "white",
            "linecolor": "white",
            "ticks": ""
           },
           "bgcolor": "#E5ECF6",
           "radialaxis": {
            "gridcolor": "white",
            "linecolor": "white",
            "ticks": ""
           }
          },
          "scene": {
           "xaxis": {
            "backgroundcolor": "#E5ECF6",
            "gridcolor": "white",
            "gridwidth": 2,
            "linecolor": "white",
            "showbackground": true,
            "ticks": "",
            "zerolinecolor": "white"
           },
           "yaxis": {
            "backgroundcolor": "#E5ECF6",
            "gridcolor": "white",
            "gridwidth": 2,
            "linecolor": "white",
            "showbackground": true,
            "ticks": "",
            "zerolinecolor": "white"
           },
           "zaxis": {
            "backgroundcolor": "#E5ECF6",
            "gridcolor": "white",
            "gridwidth": 2,
            "linecolor": "white",
            "showbackground": true,
            "ticks": "",
            "zerolinecolor": "white"
           }
          },
          "shapedefaults": {
           "line": {
            "color": "#2a3f5f"
           }
          },
          "ternary": {
           "aaxis": {
            "gridcolor": "white",
            "linecolor": "white",
            "ticks": ""
           },
           "baxis": {
            "gridcolor": "white",
            "linecolor": "white",
            "ticks": ""
           },
           "bgcolor": "#E5ECF6",
           "caxis": {
            "gridcolor": "white",
            "linecolor": "white",
            "ticks": ""
           }
          },
          "title": {
           "x": 0.05
          },
          "xaxis": {
           "automargin": true,
           "gridcolor": "white",
           "linecolor": "white",
           "ticks": "",
           "title": {
            "standoff": 15
           },
           "zerolinecolor": "white",
           "zerolinewidth": 2
          },
          "yaxis": {
           "automargin": true,
           "gridcolor": "white",
           "linecolor": "white",
           "ticks": "",
           "title": {
            "standoff": 15
           },
           "zerolinecolor": "white",
           "zerolinewidth": 2
          }
         }
        },
        "xaxis": {
         "ticklen": 5,
         "title": {
          "text": "ML Algorithms"
         },
         "zeroline": false
        },
        "yaxis": {
         "ticklen": 5,
         "title": {
          "text": "Prediction Scores(F1)"
         },
         "zeroline": false
        }
       }
      },
      "text/html": [
       "<div>\n",
       "        \n",
       "        \n",
       "            <div id=\"52e6a7b5-cd7d-49c7-95b7-df601cb35926\" class=\"plotly-graph-div\" style=\"height:525px; width:100%;\"></div>\n",
       "            <script type=\"text/javascript\">\n",
       "                require([\"plotly\"], function(Plotly) {\n",
       "                    window.PLOTLYENV=window.PLOTLYENV || {};\n",
       "                    \n",
       "                if (document.getElementById(\"52e6a7b5-cd7d-49c7-95b7-df601cb35926\")) {\n",
       "                    Plotly.newPlot(\n",
       "                        '52e6a7b5-cd7d-49c7-95b7-df601cb35926',\n",
       "                        [{\"marker\": {\"color\": \"rgba(225,126,0,0.5)\", \"line\": {\"color\": \"rgb(0,0,0)\", \"width\": 2}}, \"name\": \"Algortms Name\", \"text\": [\"Logistic Regression\", \"K-NN\", \"SVM\", \"Naive Bayes\", \"Decision Tree\", \"Random Forest\", \"Artificial Neural Network\"], \"type\": \"scatter\", \"x\": [\"Logistic Regression\", \"K-NN\", \"SVM\", \"Naive Bayes\", \"Decision Tree\", \"Random Forest\", \"Artificial Neural Network\"], \"y\": [0.7396488695457325, 0.7367438032321222, 0.7503970108196265, 0.7463086857026251, 0.7074652407618727, 0.7687305514351853]}],\n",
       "                        {\"barmode\": \"group\", \"template\": {\"data\": {\"bar\": [{\"error_x\": {\"color\": \"#2a3f5f\"}, \"error_y\": {\"color\": \"#2a3f5f\"}, \"marker\": {\"line\": {\"color\": \"#E5ECF6\", \"width\": 0.5}}, \"type\": \"bar\"}], \"barpolar\": [{\"marker\": {\"line\": {\"color\": \"#E5ECF6\", \"width\": 0.5}}, \"type\": \"barpolar\"}], \"carpet\": [{\"aaxis\": {\"endlinecolor\": \"#2a3f5f\", \"gridcolor\": \"white\", \"linecolor\": \"white\", \"minorgridcolor\": \"white\", \"startlinecolor\": \"#2a3f5f\"}, \"baxis\": {\"endlinecolor\": \"#2a3f5f\", \"gridcolor\": \"white\", \"linecolor\": \"white\", \"minorgridcolor\": \"white\", \"startlinecolor\": \"#2a3f5f\"}, \"type\": \"carpet\"}], \"choropleth\": [{\"colorbar\": {\"outlinewidth\": 0, \"ticks\": \"\"}, \"type\": \"choropleth\"}], \"contour\": [{\"colorbar\": {\"outlinewidth\": 0, \"ticks\": \"\"}, \"colorscale\": [[0.0, \"#0d0887\"], [0.1111111111111111, \"#46039f\"], [0.2222222222222222, \"#7201a8\"], [0.3333333333333333, \"#9c179e\"], [0.4444444444444444, \"#bd3786\"], [0.5555555555555556, \"#d8576b\"], [0.6666666666666666, \"#ed7953\"], [0.7777777777777778, \"#fb9f3a\"], [0.8888888888888888, \"#fdca26\"], [1.0, \"#f0f921\"]], \"type\": \"contour\"}], \"contourcarpet\": [{\"colorbar\": {\"outlinewidth\": 0, \"ticks\": \"\"}, \"type\": \"contourcarpet\"}], \"heatmap\": [{\"colorbar\": {\"outlinewidth\": 0, \"ticks\": \"\"}, \"colorscale\": [[0.0, \"#0d0887\"], [0.1111111111111111, \"#46039f\"], [0.2222222222222222, \"#7201a8\"], [0.3333333333333333, \"#9c179e\"], [0.4444444444444444, \"#bd3786\"], [0.5555555555555556, \"#d8576b\"], [0.6666666666666666, \"#ed7953\"], [0.7777777777777778, \"#fb9f3a\"], [0.8888888888888888, \"#fdca26\"], [1.0, \"#f0f921\"]], \"type\": \"heatmap\"}], \"heatmapgl\": [{\"colorbar\": {\"outlinewidth\": 0, \"ticks\": \"\"}, \"colorscale\": [[0.0, \"#0d0887\"], [0.1111111111111111, \"#46039f\"], [0.2222222222222222, \"#7201a8\"], [0.3333333333333333, \"#9c179e\"], [0.4444444444444444, \"#bd3786\"], [0.5555555555555556, \"#d8576b\"], [0.6666666666666666, \"#ed7953\"], [0.7777777777777778, \"#fb9f3a\"], [0.8888888888888888, \"#fdca26\"], [1.0, \"#f0f921\"]], \"type\": \"heatmapgl\"}], \"histogram\": [{\"marker\": {\"colorbar\": {\"outlinewidth\": 0, \"ticks\": \"\"}}, \"type\": \"histogram\"}], \"histogram2d\": [{\"colorbar\": {\"outlinewidth\": 0, \"ticks\": \"\"}, \"colorscale\": [[0.0, \"#0d0887\"], [0.1111111111111111, \"#46039f\"], [0.2222222222222222, \"#7201a8\"], [0.3333333333333333, \"#9c179e\"], [0.4444444444444444, \"#bd3786\"], [0.5555555555555556, \"#d8576b\"], [0.6666666666666666, \"#ed7953\"], [0.7777777777777778, \"#fb9f3a\"], [0.8888888888888888, \"#fdca26\"], [1.0, \"#f0f921\"]], \"type\": \"histogram2d\"}], \"histogram2dcontour\": [{\"colorbar\": {\"outlinewidth\": 0, \"ticks\": \"\"}, \"colorscale\": [[0.0, \"#0d0887\"], [0.1111111111111111, \"#46039f\"], [0.2222222222222222, \"#7201a8\"], [0.3333333333333333, \"#9c179e\"], [0.4444444444444444, \"#bd3786\"], [0.5555555555555556, \"#d8576b\"], [0.6666666666666666, \"#ed7953\"], [0.7777777777777778, \"#fb9f3a\"], [0.8888888888888888, \"#fdca26\"], [1.0, \"#f0f921\"]], \"type\": \"histogram2dcontour\"}], \"mesh3d\": [{\"colorbar\": {\"outlinewidth\": 0, \"ticks\": \"\"}, \"type\": \"mesh3d\"}], \"parcoords\": [{\"line\": {\"colorbar\": {\"outlinewidth\": 0, \"ticks\": \"\"}}, \"type\": \"parcoords\"}], \"pie\": [{\"automargin\": true, \"type\": \"pie\"}], \"scatter\": [{\"marker\": {\"colorbar\": {\"outlinewidth\": 0, \"ticks\": \"\"}}, \"type\": \"scatter\"}], \"scatter3d\": [{\"line\": {\"colorbar\": {\"outlinewidth\": 0, \"ticks\": \"\"}}, \"marker\": {\"colorbar\": {\"outlinewidth\": 0, \"ticks\": \"\"}}, \"type\": \"scatter3d\"}], \"scattercarpet\": [{\"marker\": {\"colorbar\": {\"outlinewidth\": 0, \"ticks\": \"\"}}, \"type\": \"scattercarpet\"}], \"scattergeo\": [{\"marker\": {\"colorbar\": {\"outlinewidth\": 0, \"ticks\": \"\"}}, \"type\": \"scattergeo\"}], \"scattergl\": [{\"marker\": {\"colorbar\": {\"outlinewidth\": 0, \"ticks\": \"\"}}, \"type\": \"scattergl\"}], \"scattermapbox\": [{\"marker\": {\"colorbar\": {\"outlinewidth\": 0, \"ticks\": \"\"}}, \"type\": \"scattermapbox\"}], \"scatterpolar\": [{\"marker\": {\"colorbar\": {\"outlinewidth\": 0, \"ticks\": \"\"}}, \"type\": \"scatterpolar\"}], \"scatterpolargl\": [{\"marker\": {\"colorbar\": {\"outlinewidth\": 0, \"ticks\": \"\"}}, \"type\": \"scatterpolargl\"}], \"scatterternary\": [{\"marker\": {\"colorbar\": {\"outlinewidth\": 0, \"ticks\": \"\"}}, \"type\": \"scatterternary\"}], \"surface\": [{\"colorbar\": {\"outlinewidth\": 0, \"ticks\": \"\"}, \"colorscale\": [[0.0, \"#0d0887\"], [0.1111111111111111, \"#46039f\"], [0.2222222222222222, \"#7201a8\"], [0.3333333333333333, \"#9c179e\"], [0.4444444444444444, \"#bd3786\"], [0.5555555555555556, \"#d8576b\"], [0.6666666666666666, \"#ed7953\"], [0.7777777777777778, \"#fb9f3a\"], [0.8888888888888888, \"#fdca26\"], [1.0, \"#f0f921\"]], \"type\": \"surface\"}], \"table\": [{\"cells\": {\"fill\": {\"color\": \"#EBF0F8\"}, \"line\": {\"color\": \"white\"}}, \"header\": {\"fill\": {\"color\": \"#C8D4E3\"}, \"line\": {\"color\": \"white\"}}, \"type\": \"table\"}]}, \"layout\": {\"annotationdefaults\": {\"arrowcolor\": \"#2a3f5f\", \"arrowhead\": 0, \"arrowwidth\": 1}, \"coloraxis\": {\"colorbar\": {\"outlinewidth\": 0, \"ticks\": \"\"}}, \"colorscale\": {\"diverging\": [[0, \"#8e0152\"], [0.1, \"#c51b7d\"], [0.2, \"#de77ae\"], [0.3, \"#f1b6da\"], [0.4, \"#fde0ef\"], [0.5, \"#f7f7f7\"], [0.6, \"#e6f5d0\"], [0.7, \"#b8e186\"], [0.8, \"#7fbc41\"], [0.9, \"#4d9221\"], [1, \"#276419\"]], \"sequential\": [[0.0, \"#0d0887\"], [0.1111111111111111, \"#46039f\"], [0.2222222222222222, \"#7201a8\"], [0.3333333333333333, \"#9c179e\"], [0.4444444444444444, \"#bd3786\"], [0.5555555555555556, \"#d8576b\"], [0.6666666666666666, \"#ed7953\"], [0.7777777777777778, \"#fb9f3a\"], [0.8888888888888888, \"#fdca26\"], [1.0, \"#f0f921\"]], \"sequentialminus\": [[0.0, \"#0d0887\"], [0.1111111111111111, \"#46039f\"], [0.2222222222222222, \"#7201a8\"], [0.3333333333333333, \"#9c179e\"], [0.4444444444444444, \"#bd3786\"], [0.5555555555555556, \"#d8576b\"], [0.6666666666666666, \"#ed7953\"], [0.7777777777777778, \"#fb9f3a\"], [0.8888888888888888, \"#fdca26\"], [1.0, \"#f0f921\"]]}, \"colorway\": [\"#636efa\", \"#EF553B\", \"#00cc96\", \"#ab63fa\", \"#FFA15A\", \"#19d3f3\", \"#FF6692\", \"#B6E880\", \"#FF97FF\", \"#FECB52\"], \"font\": {\"color\": \"#2a3f5f\"}, \"geo\": {\"bgcolor\": \"white\", \"lakecolor\": \"white\", \"landcolor\": \"#E5ECF6\", \"showlakes\": true, \"showland\": true, \"subunitcolor\": \"white\"}, \"hoverlabel\": {\"align\": \"left\"}, \"hovermode\": \"closest\", \"mapbox\": {\"style\": \"light\"}, \"paper_bgcolor\": \"white\", \"plot_bgcolor\": \"#E5ECF6\", \"polar\": {\"angularaxis\": {\"gridcolor\": \"white\", \"linecolor\": \"white\", \"ticks\": \"\"}, \"bgcolor\": \"#E5ECF6\", \"radialaxis\": {\"gridcolor\": \"white\", \"linecolor\": \"white\", \"ticks\": \"\"}}, \"scene\": {\"xaxis\": {\"backgroundcolor\": \"#E5ECF6\", \"gridcolor\": \"white\", \"gridwidth\": 2, \"linecolor\": \"white\", \"showbackground\": true, \"ticks\": \"\", \"zerolinecolor\": \"white\"}, \"yaxis\": {\"backgroundcolor\": \"#E5ECF6\", \"gridcolor\": \"white\", \"gridwidth\": 2, \"linecolor\": \"white\", \"showbackground\": true, \"ticks\": \"\", \"zerolinecolor\": \"white\"}, \"zaxis\": {\"backgroundcolor\": \"#E5ECF6\", \"gridcolor\": \"white\", \"gridwidth\": 2, \"linecolor\": \"white\", \"showbackground\": true, \"ticks\": \"\", \"zerolinecolor\": \"white\"}}, \"shapedefaults\": {\"line\": {\"color\": \"#2a3f5f\"}}, \"ternary\": {\"aaxis\": {\"gridcolor\": \"white\", \"linecolor\": \"white\", \"ticks\": \"\"}, \"baxis\": {\"gridcolor\": \"white\", \"linecolor\": \"white\", \"ticks\": \"\"}, \"bgcolor\": \"#E5ECF6\", \"caxis\": {\"gridcolor\": \"white\", \"linecolor\": \"white\", \"ticks\": \"\"}}, \"title\": {\"x\": 0.05}, \"xaxis\": {\"automargin\": true, \"gridcolor\": \"white\", \"linecolor\": \"white\", \"ticks\": \"\", \"title\": {\"standoff\": 15}, \"zerolinecolor\": \"white\", \"zerolinewidth\": 2}, \"yaxis\": {\"automargin\": true, \"gridcolor\": \"white\", \"linecolor\": \"white\", \"ticks\": \"\", \"title\": {\"standoff\": 15}, \"zerolinecolor\": \"white\", \"zerolinewidth\": 2}}}, \"xaxis\": {\"ticklen\": 5, \"title\": {\"text\": \"ML Algorithms\"}, \"zeroline\": false}, \"yaxis\": {\"ticklen\": 5, \"title\": {\"text\": \"Prediction Scores(F1)\"}, \"zeroline\": false}},\n",
       "                        {\"responsive\": true}\n",
       "                    ).then(function(){\n",
       "                            \n",
       "var gd = document.getElementById('52e6a7b5-cd7d-49c7-95b7-df601cb35926');\n",
       "var x = new MutationObserver(function (mutations, observer) {{\n",
       "        var display = window.getComputedStyle(gd).display;\n",
       "        if (!display || display === 'none') {{\n",
       "            console.log([gd, 'removed!']);\n",
       "            Plotly.purge(gd);\n",
       "            observer.disconnect();\n",
       "        }}\n",
       "}});\n",
       "\n",
       "// Listen for the removal of the full notebook cells\n",
       "var notebookContainer = gd.closest('#notebook-container');\n",
       "if (notebookContainer) {{\n",
       "    x.observe(notebookContainer, {childList: true});\n",
       "}}\n",
       "\n",
       "// Listen for the clearing of the current output cell\n",
       "var outputEl = gd.closest('.output');\n",
       "if (outputEl) {{\n",
       "    x.observe(outputEl, {childList: true});\n",
       "}}\n",
       "\n",
       "                        })\n",
       "                };\n",
       "                });\n",
       "            </script>\n",
       "        </div>"
      ]
     },
     "metadata": {},
     "output_type": "display_data"
    }
   ],
   "source": [
    "#Scatter Plot For Comparasion of ML Algorithms Prediciton Scores (F1)\n",
    "scoresf1=[LRf1,KNNf1,SVMf1,NBf1,DTf1,RFf1]\n",
    "#create traces\n",
    "\n",
    "trace1 = go.Scatter(\n",
    "    x = AlgorthmsName,\n",
    "    y= scoresf1,\n",
    "    name='Algortms Name',\n",
    "    marker =dict(color='rgba(225,126,0,0.5)',\n",
    "               line =dict(color='rgb(0,0,0)',width=2)),\n",
    "                text=AlgorthmsName\n",
    ")\n",
    "data = [trace1]\n",
    "\n",
    "layout = go.Layout(barmode = \"group\", \n",
    "                  xaxis= dict(title= 'ML Algorithms',ticklen= 5,zeroline= False),\n",
    "              yaxis= dict(title= 'Prediction Scores(F1)',ticklen= 5,zeroline= False))\n",
    "fig = go.Figure(data = data, layout = layout)\n",
    "iplot(fig)"
   ]
  },
  {
   "cell_type": "code",
   "execution_count": null,
   "metadata": {},
   "outputs": [],
   "source": []
  },
  {
   "cell_type": "code",
   "execution_count": null,
   "metadata": {},
   "outputs": [],
   "source": []
  },
  {
   "cell_type": "code",
   "execution_count": null,
   "metadata": {},
   "outputs": [],
   "source": []
  },
  {
   "cell_type": "code",
   "execution_count": null,
   "metadata": {},
   "outputs": [],
   "source": []
  },
  {
   "cell_type": "code",
   "execution_count": null,
   "metadata": {},
   "outputs": [],
   "source": []
  },
  {
   "cell_type": "code",
   "execution_count": null,
   "metadata": {},
   "outputs": [],
   "source": []
  }
 ],
 "metadata": {
  "kernelspec": {
   "display_name": "Python 3",
   "language": "python",
   "name": "python3"
  },
  "language_info": {
   "codemirror_mode": {
    "name": "ipython",
    "version": 3
   },
   "file_extension": ".py",
   "mimetype": "text/x-python",
   "name": "python",
   "nbconvert_exporter": "python",
   "pygments_lexer": "ipython3",
   "version": "3.7.7"
  }
 },
 "nbformat": 4,
 "nbformat_minor": 4
}
